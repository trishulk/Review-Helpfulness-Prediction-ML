{
 "cells": [
  {
   "cell_type": "code",
   "execution_count": null,
   "metadata": {
    "collapsed": true
   },
   "outputs": [],
   "source": [
    "1. Get all reviews\n",
    "2. df1 - reviews > 5 votes\n",
    "3. df2 - reviews > 10 votes\n",
    "4. df3 - reviews (> 5 votes ) & (helpfulness < 0.5) + (> 10 votes ) & (helpfulness > 0.9)"
   ]
  },
  {
   "cell_type": "code",
   "execution_count": 45,
   "metadata": {
    "collapsed": true
   },
   "outputs": [],
   "source": [
    "import pandas as pd\n",
    "import seaborn as sns\n",
    "import matplotlib.pyplot as plt\n",
    "%matplotlib inline\n",
    "import numpy as np\n",
    "import gzip\n",
    "\n",
    "\n",
    "from sklearn.model_selection import train_test_split\n",
    "import xgboost as xgb\n",
    "from sklearn.metrics import mean_absolute_error\n",
    "from sklearn.metrics import mean_squared_error\n",
    "from sklearn.metrics import classification_report,confusion_matrix\n",
    "\n",
    "from sklearn.model_selection import GridSearchCV\n",
    "from sklearn.model_selection import RandomizedSearchCV\n",
    "from sklearn.linear_model import LinearRegression\n",
    "from sklearn.ensemble import RandomForestRegressor\n",
    "\n",
    "import swifter\n",
    "import textstat\n",
    "from textstat import flesch_reading_ease"
   ]
  },
  {
   "cell_type": "markdown",
   "metadata": {},
   "source": [
    "## Get All Reviews"
   ]
  },
  {
   "cell_type": "code",
   "execution_count": 3,
   "metadata": {
    "collapsed": true
   },
   "outputs": [],
   "source": [
    "\n",
    "\n",
    "def parse(path):\n",
    "  g = gzip.open(path, 'rb')\n",
    "  for l in g:\n",
    "    yield eval(l)\n",
    "\n",
    "def getDF(path):\n",
    "  i = 0\n",
    "  df = {}\n",
    "  for d in parse(path):\n",
    "    df[i] = d\n",
    "    i += 1\n",
    "  return pd.DataFrame.from_dict(df, orient='index')\n",
    "\n"
   ]
  },
  {
   "cell_type": "code",
   "execution_count": 4,
   "metadata": {},
   "outputs": [
    {
     "ename": "KeyboardInterrupt",
     "evalue": "",
     "output_type": "error",
     "traceback": [
      "\u001b[1;31m---------------------------------------------------------------------------\u001b[0m",
      "\u001b[1;31mKeyboardInterrupt\u001b[0m                         Traceback (most recent call last)",
      "\u001b[1;32m<ipython-input-4-46f9a892367e>\u001b[0m in \u001b[0;36m<module>\u001b[1;34m()\u001b[0m\n\u001b[1;32m----> 1\u001b[1;33m \u001b[0mdf\u001b[0m \u001b[1;33m=\u001b[0m \u001b[0mgetDF\u001b[0m\u001b[1;33m(\u001b[0m\u001b[1;34m'reviews_Electronics_5.json.gz'\u001b[0m\u001b[1;33m)\u001b[0m\u001b[1;33m\u001b[0m\u001b[0m\n\u001b[0m",
      "\u001b[1;32m<ipython-input-3-f321885f4c48>\u001b[0m in \u001b[0;36mgetDF\u001b[1;34m(path)\u001b[0m\n\u001b[0;32m     12\u001b[0m     \u001b[0mdf\u001b[0m\u001b[1;33m[\u001b[0m\u001b[0mi\u001b[0m\u001b[1;33m]\u001b[0m \u001b[1;33m=\u001b[0m \u001b[0md\u001b[0m\u001b[1;33m\u001b[0m\u001b[0m\n\u001b[0;32m     13\u001b[0m     \u001b[0mi\u001b[0m \u001b[1;33m+=\u001b[0m \u001b[1;36m1\u001b[0m\u001b[1;33m\u001b[0m\u001b[0m\n\u001b[1;32m---> 14\u001b[1;33m   \u001b[1;32mreturn\u001b[0m \u001b[0mpd\u001b[0m\u001b[1;33m.\u001b[0m\u001b[0mDataFrame\u001b[0m\u001b[1;33m.\u001b[0m\u001b[0mfrom_dict\u001b[0m\u001b[1;33m(\u001b[0m\u001b[0mdf\u001b[0m\u001b[1;33m,\u001b[0m \u001b[0morient\u001b[0m\u001b[1;33m=\u001b[0m\u001b[1;34m'index'\u001b[0m\u001b[1;33m)\u001b[0m\u001b[1;33m\u001b[0m\u001b[0m\n\u001b[0m\u001b[0;32m     15\u001b[0m \u001b[1;33m\u001b[0m\u001b[0m\n",
      "\u001b[1;32mC:\\Users\\Trishul\\Anaconda3\\lib\\site-packages\\pandas\\core\\frame.py\u001b[0m in \u001b[0;36mfrom_dict\u001b[1;34m(cls, data, orient, dtype, columns)\u001b[0m\n\u001b[0;32m    973\u001b[0m                 \u001b[1;31m# TODO speed up Series case\u001b[0m\u001b[1;33m\u001b[0m\u001b[1;33m\u001b[0m\u001b[0m\n\u001b[0;32m    974\u001b[0m                 \u001b[1;32mif\u001b[0m \u001b[0misinstance\u001b[0m\u001b[1;33m(\u001b[0m\u001b[0mlist\u001b[0m\u001b[1;33m(\u001b[0m\u001b[0mdata\u001b[0m\u001b[1;33m.\u001b[0m\u001b[0mvalues\u001b[0m\u001b[1;33m(\u001b[0m\u001b[1;33m)\u001b[0m\u001b[1;33m)\u001b[0m\u001b[1;33m[\u001b[0m\u001b[1;36m0\u001b[0m\u001b[1;33m]\u001b[0m\u001b[1;33m,\u001b[0m \u001b[1;33m(\u001b[0m\u001b[0mSeries\u001b[0m\u001b[1;33m,\u001b[0m \u001b[0mdict\u001b[0m\u001b[1;33m)\u001b[0m\u001b[1;33m)\u001b[0m\u001b[1;33m:\u001b[0m\u001b[1;33m\u001b[0m\u001b[0m\n\u001b[1;32m--> 975\u001b[1;33m                     \u001b[0mdata\u001b[0m \u001b[1;33m=\u001b[0m \u001b[0m_from_nested_dict\u001b[0m\u001b[1;33m(\u001b[0m\u001b[0mdata\u001b[0m\u001b[1;33m)\u001b[0m\u001b[1;33m\u001b[0m\u001b[0m\n\u001b[0m\u001b[0;32m    976\u001b[0m                 \u001b[1;32melse\u001b[0m\u001b[1;33m:\u001b[0m\u001b[1;33m\u001b[0m\u001b[0m\n\u001b[0;32m    977\u001b[0m                     \u001b[0mdata\u001b[0m\u001b[1;33m,\u001b[0m \u001b[0mindex\u001b[0m \u001b[1;33m=\u001b[0m \u001b[0mlist\u001b[0m\u001b[1;33m(\u001b[0m\u001b[0mdata\u001b[0m\u001b[1;33m.\u001b[0m\u001b[0mvalues\u001b[0m\u001b[1;33m(\u001b[0m\u001b[1;33m)\u001b[0m\u001b[1;33m)\u001b[0m\u001b[1;33m,\u001b[0m \u001b[0mlist\u001b[0m\u001b[1;33m(\u001b[0m\u001b[0mdata\u001b[0m\u001b[1;33m.\u001b[0m\u001b[0mkeys\u001b[0m\u001b[1;33m(\u001b[0m\u001b[1;33m)\u001b[0m\u001b[1;33m)\u001b[0m\u001b[1;33m\u001b[0m\u001b[0m\n",
      "\u001b[1;32mC:\\Users\\Trishul\\Anaconda3\\lib\\site-packages\\pandas\\core\\frame.py\u001b[0m in \u001b[0;36m_from_nested_dict\u001b[1;34m(data)\u001b[0m\n\u001b[0;32m   7680\u001b[0m         \u001b[1;32mfor\u001b[0m \u001b[0mcol\u001b[0m\u001b[1;33m,\u001b[0m \u001b[0mv\u001b[0m \u001b[1;32min\u001b[0m \u001b[0mcompat\u001b[0m\u001b[1;33m.\u001b[0m\u001b[0miteritems\u001b[0m\u001b[1;33m(\u001b[0m\u001b[0ms\u001b[0m\u001b[1;33m)\u001b[0m\u001b[1;33m:\u001b[0m\u001b[1;33m\u001b[0m\u001b[0m\n\u001b[0;32m   7681\u001b[0m             \u001b[0mnew_data\u001b[0m\u001b[1;33m[\u001b[0m\u001b[0mcol\u001b[0m\u001b[1;33m]\u001b[0m \u001b[1;33m=\u001b[0m \u001b[0mnew_data\u001b[0m\u001b[1;33m.\u001b[0m\u001b[0mget\u001b[0m\u001b[1;33m(\u001b[0m\u001b[0mcol\u001b[0m\u001b[1;33m,\u001b[0m \u001b[0mOrderedDict\u001b[0m\u001b[1;33m(\u001b[0m\u001b[1;33m)\u001b[0m\u001b[1;33m)\u001b[0m\u001b[1;33m\u001b[0m\u001b[0m\n\u001b[1;32m-> 7682\u001b[1;33m             \u001b[0mnew_data\u001b[0m\u001b[1;33m[\u001b[0m\u001b[0mcol\u001b[0m\u001b[1;33m]\u001b[0m\u001b[1;33m[\u001b[0m\u001b[0mindex\u001b[0m\u001b[1;33m]\u001b[0m \u001b[1;33m=\u001b[0m \u001b[0mv\u001b[0m\u001b[1;33m\u001b[0m\u001b[0m\n\u001b[0m\u001b[0;32m   7683\u001b[0m     \u001b[1;32mreturn\u001b[0m \u001b[0mnew_data\u001b[0m\u001b[1;33m\u001b[0m\u001b[0m\n\u001b[0;32m   7684\u001b[0m \u001b[1;33m\u001b[0m\u001b[0m\n",
      "\u001b[1;31mKeyboardInterrupt\u001b[0m: "
     ]
    }
   ],
   "source": [
    "df = getDF('reviews_Electronics_5.json.gz')"
   ]
  },
  {
   "cell_type": "code",
   "execution_count": null,
   "metadata": {
    "collapsed": true
   },
   "outputs": [],
   "source": [
    "def num_votes(arr) :\n",
    "    return arr[1]"
   ]
  },
  {
   "cell_type": "code",
   "execution_count": null,
   "metadata": {
    "collapsed": true
   },
   "outputs": [],
   "source": [
    "MIN_VOTES = 5"
   ]
  },
  {
   "cell_type": "code",
   "execution_count": null,
   "metadata": {
    "collapsed": true
   },
   "outputs": [],
   "source": [
    "df1 = df[df['helpful'].apply(num_votes) >= MIN_VOTES]"
   ]
  },
  {
   "cell_type": "code",
   "execution_count": null,
   "metadata": {
    "collapsed": true
   },
   "outputs": [],
   "source": [
    "1. Get reviews of  helpfulness less than 0.5  -> A\n",
    "2. Get reviews of  no of votes greater or equal to 10 -> B\n",
    "3. Get review of helpfulness greater than or equal to 0.9 -> C\n",
    "4. Tag A -> 0 \n",
    "5. Tag C -> 1\n",
    "6. Merge A + C\n",
    "7. Bulid Model\n",
    "8. Predict\n",
    "9. Assign Values to train and test data : X\n",
    "    \n",
    "Until Step 6 Done in:  User_Features_All_Reviews"
   ]
  },
  {
   "cell_type": "code",
   "execution_count": 2,
   "metadata": {
    "collapsed": true
   },
   "outputs": [],
   "source": [
    "df_Cl = pd.read_csv('Classification_Data.csv')"
   ]
  },
  {
   "cell_type": "code",
   "execution_count": 3,
   "metadata": {},
   "outputs": [
    {
     "data": {
      "text/html": [
       "<div>\n",
       "<style scoped>\n",
       "    .dataframe tbody tr th:only-of-type {\n",
       "        vertical-align: middle;\n",
       "    }\n",
       "\n",
       "    .dataframe tbody tr th {\n",
       "        vertical-align: top;\n",
       "    }\n",
       "\n",
       "    .dataframe thead th {\n",
       "        text-align: right;\n",
       "    }\n",
       "</style>\n",
       "<table border=\"1\" class=\"dataframe\">\n",
       "  <thead>\n",
       "    <tr style=\"text-align: right;\">\n",
       "      <th></th>\n",
       "      <th>reviewerID</th>\n",
       "      <th>asin</th>\n",
       "      <th>reviewerName</th>\n",
       "      <th>helpful</th>\n",
       "      <th>reviewText</th>\n",
       "      <th>overall</th>\n",
       "      <th>summary</th>\n",
       "      <th>unixReviewTime</th>\n",
       "      <th>reviewTime</th>\n",
       "      <th>helpfulness_score</th>\n",
       "      <th>is_helpful</th>\n",
       "    </tr>\n",
       "  </thead>\n",
       "  <tbody>\n",
       "    <tr>\n",
       "      <th>0</th>\n",
       "      <td>A38FGQVJM18OWV</td>\n",
       "      <td>0972683275</td>\n",
       "      <td>George S. Mitchell \"gsmitchell\"</td>\n",
       "      <td>[8, 18]</td>\n",
       "      <td>I checked around Amazon as well as some other ...</td>\n",
       "      <td>1.0</td>\n",
       "      <td>What a piece of junk!</td>\n",
       "      <td>1291161600</td>\n",
       "      <td>12 1, 2010</td>\n",
       "      <td>0.444444</td>\n",
       "      <td>0</td>\n",
       "    </tr>\n",
       "    <tr>\n",
       "      <th>1</th>\n",
       "      <td>A11ZP93TJED4T6</td>\n",
       "      <td>0972683275</td>\n",
       "      <td>Ryan</td>\n",
       "      <td>[1, 8]</td>\n",
       "      <td>The fact that the pivot point on this TV mount...</td>\n",
       "      <td>2.0</td>\n",
       "      <td>poor manufacture quality..</td>\n",
       "      <td>1285891200</td>\n",
       "      <td>10 1, 2010</td>\n",
       "      <td>0.125000</td>\n",
       "      <td>0</td>\n",
       "    </tr>\n",
       "    <tr>\n",
       "      <th>2</th>\n",
       "      <td>A1A5KUIIIHFF4U</td>\n",
       "      <td>1400501466</td>\n",
       "      <td>Anonymous \"Anonymous\"</td>\n",
       "      <td>[4, 9]</td>\n",
       "      <td>Have no idea why people love this thing so muc...</td>\n",
       "      <td>1.0</td>\n",
       "      <td>This thing is a junk kids toy.</td>\n",
       "      <td>1332547200</td>\n",
       "      <td>03 24, 2012</td>\n",
       "      <td>0.444444</td>\n",
       "      <td>0</td>\n",
       "    </tr>\n",
       "    <tr>\n",
       "      <th>3</th>\n",
       "      <td>ASHQ1JCA241D6</td>\n",
       "      <td>1400501520</td>\n",
       "      <td>Loraine Arnold \"Loraine\"</td>\n",
       "      <td>[2, 5]</td>\n",
       "      <td>I bought the Nook primarily for reading but wa...</td>\n",
       "      <td>5.0</td>\n",
       "      <td>Great tablet and ereader</td>\n",
       "      <td>1361145600</td>\n",
       "      <td>02 18, 2013</td>\n",
       "      <td>0.400000</td>\n",
       "      <td>0</td>\n",
       "    </tr>\n",
       "    <tr>\n",
       "      <th>4</th>\n",
       "      <td>A1889S56VFLVMZ</td>\n",
       "      <td>1400501520</td>\n",
       "      <td>Price John Monroe</td>\n",
       "      <td>[2, 9]</td>\n",
       "      <td>Why pay to be restricted, I simply didn't see ...</td>\n",
       "      <td>1.0</td>\n",
       "      <td>Over-priced, lacking in utility.</td>\n",
       "      <td>1369094400</td>\n",
       "      <td>05 21, 2013</td>\n",
       "      <td>0.222222</td>\n",
       "      <td>0</td>\n",
       "    </tr>\n",
       "  </tbody>\n",
       "</table>\n",
       "</div>"
      ],
      "text/plain": [
       "       reviewerID        asin                     reviewerName  helpful  \\\n",
       "0  A38FGQVJM18OWV  0972683275  George S. Mitchell \"gsmitchell\"  [8, 18]   \n",
       "1  A11ZP93TJED4T6  0972683275                             Ryan   [1, 8]   \n",
       "2  A1A5KUIIIHFF4U  1400501466            Anonymous \"Anonymous\"   [4, 9]   \n",
       "3   ASHQ1JCA241D6  1400501520         Loraine Arnold \"Loraine\"   [2, 5]   \n",
       "4  A1889S56VFLVMZ  1400501520                Price John Monroe   [2, 9]   \n",
       "\n",
       "                                          reviewText  overall  \\\n",
       "0  I checked around Amazon as well as some other ...      1.0   \n",
       "1  The fact that the pivot point on this TV mount...      2.0   \n",
       "2  Have no idea why people love this thing so muc...      1.0   \n",
       "3  I bought the Nook primarily for reading but wa...      5.0   \n",
       "4  Why pay to be restricted, I simply didn't see ...      1.0   \n",
       "\n",
       "                            summary  unixReviewTime   reviewTime  \\\n",
       "0             What a piece of junk!      1291161600   12 1, 2010   \n",
       "1        poor manufacture quality..      1285891200   10 1, 2010   \n",
       "2    This thing is a junk kids toy.      1332547200  03 24, 2012   \n",
       "3          Great tablet and ereader      1361145600  02 18, 2013   \n",
       "4  Over-priced, lacking in utility.      1369094400  05 21, 2013   \n",
       "\n",
       "   helpfulness_score  is_helpful  \n",
       "0           0.444444           0  \n",
       "1           0.125000           0  \n",
       "2           0.444444           0  \n",
       "3           0.400000           0  \n",
       "4           0.222222           0  "
      ]
     },
     "execution_count": 3,
     "metadata": {},
     "output_type": "execute_result"
    }
   ],
   "source": [
    "df_Cl.head()"
   ]
  },
  {
   "cell_type": "code",
   "execution_count": 4,
   "metadata": {},
   "outputs": [
    {
     "data": {
      "text/plain": [
       "60804"
      ]
     },
     "execution_count": 4,
     "metadata": {},
     "output_type": "execute_result"
    }
   ],
   "source": [
    "len(df_Cl)"
   ]
  },
  {
   "cell_type": "code",
   "execution_count": 26,
   "metadata": {
    "collapsed": true
   },
   "outputs": [],
   "source": [
    "def review_length(s) :\n",
    "    return len(s.split())"
   ]
  },
  {
   "cell_type": "code",
   "execution_count": 7,
   "metadata": {
    "collapsed": true
   },
   "outputs": [],
   "source": [
    "df2 = df_Cl.dropna(axis=0)"
   ]
  },
  {
   "cell_type": "code",
   "execution_count": 8,
   "metadata": {},
   "outputs": [
    {
     "data": {
      "text/plain": [
       "59989"
      ]
     },
     "execution_count": 8,
     "metadata": {},
     "output_type": "execute_result"
    }
   ],
   "source": [
    "len(df2)"
   ]
  },
  {
   "cell_type": "code",
   "execution_count": 9,
   "metadata": {},
   "outputs": [
    {
     "data": {
      "text/plain": [
       "0    I checked around Amazon as well as some other ...\n",
       "1    The fact that the pivot point on this TV mount...\n",
       "2    Have no idea why people love this thing so muc...\n",
       "3    I bought the Nook primarily for reading but wa...\n",
       "4    Why pay to be restricted, I simply didn't see ...\n",
       "Name: reviewText, dtype: object"
      ]
     },
     "execution_count": 9,
     "metadata": {},
     "output_type": "execute_result"
    }
   ],
   "source": [
    "df_Cl['reviewText'].head()"
   ]
  },
  {
   "cell_type": "code",
   "execution_count": 10,
   "metadata": {},
   "outputs": [
    {
     "name": "stderr",
     "output_type": "stream",
     "text": [
      "C:\\Users\\Trishul\\Anaconda3\\lib\\site-packages\\ipykernel_launcher.py:1: SettingWithCopyWarning: \n",
      "A value is trying to be set on a copy of a slice from a DataFrame.\n",
      "Try using .loc[row_indexer,col_indexer] = value instead\n",
      "\n",
      "See the caveats in the documentation: http://pandas.pydata.org/pandas-docs/stable/indexing.html#indexing-view-versus-copy\n",
      "  \"\"\"Entry point for launching an IPython kernel.\n"
     ]
    }
   ],
   "source": [
    "df2['review_length'] = df2['reviewText'].apply(review_length)"
   ]
  },
  {
   "cell_type": "code",
   "execution_count": 11,
   "metadata": {
    "collapsed": true
   },
   "outputs": [],
   "source": [
    "X = df2[['overall','review_length']]"
   ]
  },
  {
   "cell_type": "code",
   "execution_count": 12,
   "metadata": {},
   "outputs": [
    {
     "data": {
      "text/html": [
       "<div>\n",
       "<style scoped>\n",
       "    .dataframe tbody tr th:only-of-type {\n",
       "        vertical-align: middle;\n",
       "    }\n",
       "\n",
       "    .dataframe tbody tr th {\n",
       "        vertical-align: top;\n",
       "    }\n",
       "\n",
       "    .dataframe thead th {\n",
       "        text-align: right;\n",
       "    }\n",
       "</style>\n",
       "<table border=\"1\" class=\"dataframe\">\n",
       "  <thead>\n",
       "    <tr style=\"text-align: right;\">\n",
       "      <th></th>\n",
       "      <th>overall</th>\n",
       "      <th>review_length</th>\n",
       "    </tr>\n",
       "  </thead>\n",
       "  <tbody>\n",
       "    <tr>\n",
       "      <th>0</th>\n",
       "      <td>1.0</td>\n",
       "      <td>138</td>\n",
       "    </tr>\n",
       "    <tr>\n",
       "      <th>1</th>\n",
       "      <td>2.0</td>\n",
       "      <td>77</td>\n",
       "    </tr>\n",
       "    <tr>\n",
       "      <th>2</th>\n",
       "      <td>1.0</td>\n",
       "      <td>112</td>\n",
       "    </tr>\n",
       "    <tr>\n",
       "      <th>3</th>\n",
       "      <td>5.0</td>\n",
       "      <td>101</td>\n",
       "    </tr>\n",
       "    <tr>\n",
       "      <th>4</th>\n",
       "      <td>1.0</td>\n",
       "      <td>54</td>\n",
       "    </tr>\n",
       "  </tbody>\n",
       "</table>\n",
       "</div>"
      ],
      "text/plain": [
       "   overall  review_length\n",
       "0      1.0            138\n",
       "1      2.0             77\n",
       "2      1.0            112\n",
       "3      5.0            101\n",
       "4      1.0             54"
      ]
     },
     "execution_count": 12,
     "metadata": {},
     "output_type": "execute_result"
    }
   ],
   "source": [
    "X.head()"
   ]
  },
  {
   "cell_type": "code",
   "execution_count": 13,
   "metadata": {
    "collapsed": true
   },
   "outputs": [],
   "source": [
    "y = df2['is_helpful']\n",
    "\t\n",
    "X_train, X_test, y_train, y_test = train_test_split(X, y, test_size=0.4, random_state=101)"
   ]
  },
  {
   "cell_type": "code",
   "execution_count": 14,
   "metadata": {},
   "outputs": [
    {
     "data": {
      "text/html": [
       "<div>\n",
       "<style scoped>\n",
       "    .dataframe tbody tr th:only-of-type {\n",
       "        vertical-align: middle;\n",
       "    }\n",
       "\n",
       "    .dataframe tbody tr th {\n",
       "        vertical-align: top;\n",
       "    }\n",
       "\n",
       "    .dataframe thead th {\n",
       "        text-align: right;\n",
       "    }\n",
       "</style>\n",
       "<table border=\"1\" class=\"dataframe\">\n",
       "  <thead>\n",
       "    <tr style=\"text-align: right;\">\n",
       "      <th></th>\n",
       "      <th>overall</th>\n",
       "      <th>review_length</th>\n",
       "    </tr>\n",
       "  </thead>\n",
       "  <tbody>\n",
       "    <tr>\n",
       "      <th>9506</th>\n",
       "      <td>5.0</td>\n",
       "      <td>303</td>\n",
       "    </tr>\n",
       "    <tr>\n",
       "      <th>36779</th>\n",
       "      <td>5.0</td>\n",
       "      <td>165</td>\n",
       "    </tr>\n",
       "    <tr>\n",
       "      <th>8097</th>\n",
       "      <td>4.0</td>\n",
       "      <td>52</td>\n",
       "    </tr>\n",
       "    <tr>\n",
       "      <th>46458</th>\n",
       "      <td>5.0</td>\n",
       "      <td>480</td>\n",
       "    </tr>\n",
       "    <tr>\n",
       "      <th>22579</th>\n",
       "      <td>4.0</td>\n",
       "      <td>56</td>\n",
       "    </tr>\n",
       "    <tr>\n",
       "      <th>221</th>\n",
       "      <td>1.0</td>\n",
       "      <td>93</td>\n",
       "    </tr>\n",
       "    <tr>\n",
       "      <th>15968</th>\n",
       "      <td>1.0</td>\n",
       "      <td>117</td>\n",
       "    </tr>\n",
       "    <tr>\n",
       "      <th>9660</th>\n",
       "      <td>2.0</td>\n",
       "      <td>113</td>\n",
       "    </tr>\n",
       "    <tr>\n",
       "      <th>7081</th>\n",
       "      <td>1.0</td>\n",
       "      <td>167</td>\n",
       "    </tr>\n",
       "    <tr>\n",
       "      <th>12000</th>\n",
       "      <td>1.0</td>\n",
       "      <td>22</td>\n",
       "    </tr>\n",
       "  </tbody>\n",
       "</table>\n",
       "</div>"
      ],
      "text/plain": [
       "       overall  review_length\n",
       "9506       5.0            303\n",
       "36779      5.0            165\n",
       "8097       4.0             52\n",
       "46458      5.0            480\n",
       "22579      4.0             56\n",
       "221        1.0             93\n",
       "15968      1.0            117\n",
       "9660       2.0            113\n",
       "7081       1.0            167\n",
       "12000      1.0             22"
      ]
     },
     "execution_count": 14,
     "metadata": {},
     "output_type": "execute_result"
    }
   ],
   "source": [
    "X_train[:10]"
   ]
  },
  {
   "cell_type": "code",
   "execution_count": 15,
   "metadata": {
    "collapsed": true
   },
   "outputs": [],
   "source": [
    "xgb_cl = xgb.XGBClassifier()"
   ]
  },
  {
   "cell_type": "code",
   "execution_count": 16,
   "metadata": {},
   "outputs": [
    {
     "data": {
      "text/plain": [
       "XGBClassifier(base_score=0.5, booster='gbtree', colsample_bylevel=1,\n",
       "       colsample_bytree=1, gamma=0, learning_rate=0.1, max_delta_step=0,\n",
       "       max_depth=3, min_child_weight=1, missing=None, n_estimators=100,\n",
       "       n_jobs=1, nthread=None, objective='binary:logistic', random_state=0,\n",
       "       reg_alpha=0, reg_lambda=1, scale_pos_weight=1, seed=None,\n",
       "       silent=True, subsample=1)"
      ]
     },
     "execution_count": 16,
     "metadata": {},
     "output_type": "execute_result"
    }
   ],
   "source": [
    "xgb_cl.fit(X_train,y_train, verbose=True)"
   ]
  },
  {
   "cell_type": "code",
   "execution_count": 17,
   "metadata": {},
   "outputs": [
    {
     "name": "stderr",
     "output_type": "stream",
     "text": [
      "C:\\Users\\Trishul\\Anaconda3\\lib\\site-packages\\sklearn\\preprocessing\\label.py:151: DeprecationWarning: The truth value of an empty array is ambiguous. Returning False, but in future this will result in an error. Use `array.size > 0` to check that an array is not empty.\n",
      "  if diff:\n"
     ]
    }
   ],
   "source": [
    "predictions=xgb_cl.predict(X_test)"
   ]
  },
  {
   "cell_type": "code",
   "execution_count": 18,
   "metadata": {},
   "outputs": [
    {
     "name": "stdout",
     "output_type": "stream",
     "text": [
      "[[ 7513  2322]\n",
      " [ 1956 12205]]\n"
     ]
    }
   ],
   "source": [
    "print(confusion_matrix(y_test,predictions))"
   ]
  },
  {
   "cell_type": "code",
   "execution_count": 24,
   "metadata": {},
   "outputs": [
    {
     "name": "stdout",
     "output_type": "stream",
     "text": [
      "             precision    recall  f1-score   support\n",
      "\n",
      "          0       0.79      0.76      0.78      9835\n",
      "          1       0.84      0.86      0.85     14161\n",
      "\n",
      "avg / total       0.82      0.82      0.82     23996\n",
      "\n"
     ]
    }
   ],
   "source": [
    "print(classification_report(y_test,predictions))"
   ]
  },
  {
   "cell_type": "markdown",
   "metadata": {},
   "source": [
    "### Analysis on Test Data"
   ]
  },
  {
   "cell_type": "code",
   "execution_count": 34,
   "metadata": {
    "collapsed": true
   },
   "outputs": [],
   "source": [
    "test_data = pd.read_csv('Test_Data.csv')"
   ]
  },
  {
   "cell_type": "code",
   "execution_count": 36,
   "metadata": {},
   "outputs": [
    {
     "data": {
      "text/plain": [
       "32510"
      ]
     },
     "execution_count": 36,
     "metadata": {},
     "output_type": "execute_result"
    }
   ],
   "source": [
    "len(test_data)"
   ]
  },
  {
   "cell_type": "code",
   "execution_count": 37,
   "metadata": {},
   "outputs": [
    {
     "data": {
      "text/html": [
       "<div>\n",
       "<style scoped>\n",
       "    .dataframe tbody tr th:only-of-type {\n",
       "        vertical-align: middle;\n",
       "    }\n",
       "\n",
       "    .dataframe tbody tr th {\n",
       "        vertical-align: top;\n",
       "    }\n",
       "\n",
       "    .dataframe thead th {\n",
       "        text-align: right;\n",
       "    }\n",
       "</style>\n",
       "<table border=\"1\" class=\"dataframe\">\n",
       "  <thead>\n",
       "    <tr style=\"text-align: right;\">\n",
       "      <th></th>\n",
       "      <th>reviewerID</th>\n",
       "      <th>asin</th>\n",
       "      <th>reviewerName</th>\n",
       "      <th>reviewText</th>\n",
       "      <th>overall</th>\n",
       "      <th>summary</th>\n",
       "      <th>unixReviewTime</th>\n",
       "      <th>reviewTime</th>\n",
       "      <th>helpfulness_score</th>\n",
       "      <th>user_deviation</th>\n",
       "      <th>review_delay</th>\n",
       "      <th>stem_words</th>\n",
       "      <th>lem_words</th>\n",
       "      <th>stem_sim_words</th>\n",
       "      <th>lem_sim_words</th>\n",
       "      <th>helpful</th>\n",
       "      <th>real_index</th>\n",
       "    </tr>\n",
       "  </thead>\n",
       "  <tbody>\n",
       "    <tr>\n",
       "      <th>0</th>\n",
       "      <td>A20DDH4NT6Q1E8</td>\n",
       "      <td>B0036AWR8E</td>\n",
       "      <td>Koala1356</td>\n",
       "      <td>If you're looking at the Lowepro SlingShot cam...</td>\n",
       "      <td>5.0</td>\n",
       "      <td>Versatile, Quality Backpack</td>\n",
       "      <td>1271116800</td>\n",
       "      <td>04 13, 2010</td>\n",
       "      <td>0.931034</td>\n",
       "      <td>0.551259</td>\n",
       "      <td>950400</td>\n",
       "      <td>['your', 'look', 'lowepro', 'slingshot', 'came...</td>\n",
       "      <td>['youre', 'looking', 'lowepro', 'slingshot', '...</td>\n",
       "      <td>['x']</td>\n",
       "      <td>['camera', 'front', 'compartment', 'cloth', 'c...</td>\n",
       "      <td>[54, 58]</td>\n",
       "      <td>715950</td>\n",
       "    </tr>\n",
       "    <tr>\n",
       "      <th>1</th>\n",
       "      <td>A3V2P1ZV2LETF3</td>\n",
       "      <td>B000TXEE14</td>\n",
       "      <td>Artemaria</td>\n",
       "      <td>I bought this drive because it was on sale fro...</td>\n",
       "      <td>4.0</td>\n",
       "      <td>Good Budget Drive</td>\n",
       "      <td>1196208000</td>\n",
       "      <td>11 28, 2007</td>\n",
       "      <td>0.975610</td>\n",
       "      <td>0.681306</td>\n",
       "      <td>0</td>\n",
       "      <td>['bought', 'drive', 'sale', 'circuit', 'citi',...</td>\n",
       "      <td>['bought', 'drive', 'sale', 'circuit', 'city',...</td>\n",
       "      <td>[]</td>\n",
       "      <td>['mind', 'drive', 'storage', 'dont', 'cap', 'w...</td>\n",
       "      <td>[80, 82]</td>\n",
       "      <td>313454</td>\n",
       "    </tr>\n",
       "    <tr>\n",
       "      <th>2</th>\n",
       "      <td>AYU6VDCDO0542</td>\n",
       "      <td>B0001DA0CO</td>\n",
       "      <td>William N. Ostrove</td>\n",
       "      <td>I have recently become interested in digital p...</td>\n",
       "      <td>5.0</td>\n",
       "      <td>Great Camera for Beginners</td>\n",
       "      <td>1101600000</td>\n",
       "      <td>11 28, 2004</td>\n",
       "      <td>0.909091</td>\n",
       "      <td>0.373805</td>\n",
       "      <td>13305600</td>\n",
       "      <td>['recent', 'becom', 'interest', 'digit', 'phot...</td>\n",
       "      <td>['recently', 'become', 'interested', 'digital'...</td>\n",
       "      <td>[]</td>\n",
       "      <td>['camera', 'easyshare', 'software', 'auto', 'p...</td>\n",
       "      <td>[20, 22]</td>\n",
       "      <td>88450</td>\n",
       "    </tr>\n",
       "    <tr>\n",
       "      <th>3</th>\n",
       "      <td>A23O3QXCYT55JJ</td>\n",
       "      <td>B00BU7TV6G</td>\n",
       "      <td>i7Rage</td>\n",
       "      <td>SUMMARY: works beautifully to transfer VHS tap...</td>\n",
       "      <td>4.0</td>\n",
       "      <td>Not for editing</td>\n",
       "      <td>1291161600</td>\n",
       "      <td>12 1, 2010</td>\n",
       "      <td>1.000000</td>\n",
       "      <td>0.954457</td>\n",
       "      <td>4147200</td>\n",
       "      <td>['summari', 'work', 'beauti', 'transfer', 'vh'...</td>\n",
       "      <td>['summary', 'work', 'beautifully', 'transfer',...</td>\n",
       "      <td>[]</td>\n",
       "      <td>['recorder', 'home']</td>\n",
       "      <td>[61, 61]</td>\n",
       "      <td>1574701</td>\n",
       "    </tr>\n",
       "    <tr>\n",
       "      <th>4</th>\n",
       "      <td>A1WMHFPD9YLVFV</td>\n",
       "      <td>B0000B35CK</td>\n",
       "      <td>Abester</td>\n",
       "      <td>This card works perfectly in my 8 megapixel Ol...</td>\n",
       "      <td>5.0</td>\n",
       "      <td>Works great in my Olympus C-8080 8 mega pixel ...</td>\n",
       "      <td>1089763200</td>\n",
       "      <td>07 14, 2004</td>\n",
       "      <td>1.000000</td>\n",
       "      <td>0.973060</td>\n",
       "      <td>10281600</td>\n",
       "      <td>['card', 'work', 'perfectli', '8', 'megapixel'...</td>\n",
       "      <td>['card', 'work', 'perfectly', '8', 'megapixel'...</td>\n",
       "      <td>[]</td>\n",
       "      <td>[]</td>\n",
       "      <td>[14, 14]</td>\n",
       "      <td>76480</td>\n",
       "    </tr>\n",
       "  </tbody>\n",
       "</table>\n",
       "</div>"
      ],
      "text/plain": [
       "       reviewerID        asin        reviewerName  \\\n",
       "0  A20DDH4NT6Q1E8  B0036AWR8E           Koala1356   \n",
       "1  A3V2P1ZV2LETF3  B000TXEE14           Artemaria   \n",
       "2   AYU6VDCDO0542  B0001DA0CO  William N. Ostrove   \n",
       "3  A23O3QXCYT55JJ  B00BU7TV6G              i7Rage   \n",
       "4  A1WMHFPD9YLVFV  B0000B35CK             Abester   \n",
       "\n",
       "                                          reviewText  overall  \\\n",
       "0  If you're looking at the Lowepro SlingShot cam...      5.0   \n",
       "1  I bought this drive because it was on sale fro...      4.0   \n",
       "2  I have recently become interested in digital p...      5.0   \n",
       "3  SUMMARY: works beautifully to transfer VHS tap...      4.0   \n",
       "4  This card works perfectly in my 8 megapixel Ol...      5.0   \n",
       "\n",
       "                                             summary  unixReviewTime  \\\n",
       "0                        Versatile, Quality Backpack      1271116800   \n",
       "1                                  Good Budget Drive      1196208000   \n",
       "2                         Great Camera for Beginners      1101600000   \n",
       "3                                    Not for editing      1291161600   \n",
       "4  Works great in my Olympus C-8080 8 mega pixel ...      1089763200   \n",
       "\n",
       "    reviewTime  helpfulness_score  user_deviation  review_delay  \\\n",
       "0  04 13, 2010           0.931034        0.551259        950400   \n",
       "1  11 28, 2007           0.975610        0.681306             0   \n",
       "2  11 28, 2004           0.909091        0.373805      13305600   \n",
       "3   12 1, 2010           1.000000        0.954457       4147200   \n",
       "4  07 14, 2004           1.000000        0.973060      10281600   \n",
       "\n",
       "                                          stem_words  \\\n",
       "0  ['your', 'look', 'lowepro', 'slingshot', 'came...   \n",
       "1  ['bought', 'drive', 'sale', 'circuit', 'citi',...   \n",
       "2  ['recent', 'becom', 'interest', 'digit', 'phot...   \n",
       "3  ['summari', 'work', 'beauti', 'transfer', 'vh'...   \n",
       "4  ['card', 'work', 'perfectli', '8', 'megapixel'...   \n",
       "\n",
       "                                           lem_words stem_sim_words  \\\n",
       "0  ['youre', 'looking', 'lowepro', 'slingshot', '...          ['x']   \n",
       "1  ['bought', 'drive', 'sale', 'circuit', 'city',...             []   \n",
       "2  ['recently', 'become', 'interested', 'digital'...             []   \n",
       "3  ['summary', 'work', 'beautifully', 'transfer',...             []   \n",
       "4  ['card', 'work', 'perfectly', '8', 'megapixel'...             []   \n",
       "\n",
       "                                       lem_sim_words   helpful  real_index  \n",
       "0  ['camera', 'front', 'compartment', 'cloth', 'c...  [54, 58]      715950  \n",
       "1  ['mind', 'drive', 'storage', 'dont', 'cap', 'w...  [80, 82]      313454  \n",
       "2  ['camera', 'easyshare', 'software', 'auto', 'p...  [20, 22]       88450  \n",
       "3                               ['recorder', 'home']  [61, 61]     1574701  \n",
       "4                                                 []  [14, 14]       76480  "
      ]
     },
     "execution_count": 37,
     "metadata": {},
     "output_type": "execute_result"
    }
   ],
   "source": [
    "test_data.head()"
   ]
  },
  {
   "cell_type": "code",
   "execution_count": 29,
   "metadata": {
    "collapsed": true
   },
   "outputs": [],
   "source": [
    "def is_helpful(score) :\n",
    "    if score <0.5 :\n",
    "        return 0\n",
    "    if score > 0.9 :\n",
    "        return 1\n",
    "    return 2\n",
    "    "
   ]
  },
  {
   "cell_type": "code",
   "execution_count": 20,
   "metadata": {},
   "outputs": [
    {
     "data": {
      "text/plain": [
       "2"
      ]
     },
     "execution_count": 20,
     "metadata": {},
     "output_type": "execute_result"
    }
   ],
   "source": [
    "is_helpful(0.8)"
   ]
  },
  {
   "cell_type": "code",
   "execution_count": 40,
   "metadata": {},
   "outputs": [
    {
     "data": {
      "text/plain": [
       "0"
      ]
     },
     "execution_count": 40,
     "metadata": {},
     "output_type": "execute_result"
    }
   ],
   "source": [
    "is_helpful(0.2)"
   ]
  },
  {
   "cell_type": "code",
   "execution_count": 41,
   "metadata": {
    "collapsed": true
   },
   "outputs": [],
   "source": [
    "test_data['is_helpful'] = test_data['helpfulness_score'].apply(is_helpful)"
   ]
  },
  {
   "cell_type": "code",
   "execution_count": 42,
   "metadata": {},
   "outputs": [
    {
     "data": {
      "text/plain": [
       "0    1\n",
       "1    1\n",
       "2    1\n",
       "3    1\n",
       "4    1\n",
       "Name: is_helpful, dtype: int64"
      ]
     },
     "execution_count": 42,
     "metadata": {},
     "output_type": "execute_result"
    }
   ],
   "source": [
    "test_data['is_helpful'].head()"
   ]
  },
  {
   "cell_type": "code",
   "execution_count": 43,
   "metadata": {
    "collapsed": true
   },
   "outputs": [],
   "source": [
    "test_data['review_length'] = test_data['reviewText'].apply(review_length)"
   ]
  },
  {
   "cell_type": "code",
   "execution_count": 44,
   "metadata": {},
   "outputs": [
    {
     "data": {
      "text/plain": [
       "0    458\n",
       "1    346\n",
       "2    210\n",
       "3    134\n",
       "4     95\n",
       "Name: review_length, dtype: int64"
      ]
     },
     "execution_count": 44,
     "metadata": {},
     "output_type": "execute_result"
    }
   ],
   "source": [
    "test_data['review_length'].head()"
   ]
  },
  {
   "cell_type": "code",
   "execution_count": 45,
   "metadata": {},
   "outputs": [
    {
     "name": "stderr",
     "output_type": "stream",
     "text": [
      "C:\\Users\\Trishul\\Anaconda3\\lib\\site-packages\\sklearn\\preprocessing\\label.py:151: DeprecationWarning: The truth value of an empty array is ambiguous. Returning False, but in future this will result in an error. Use `array.size > 0` to check that an array is not empty.\n",
      "  if diff:\n"
     ]
    }
   ],
   "source": [
    "preds_test = xgb_cl.predict(test_data[['overall','review_length']])"
   ]
  },
  {
   "cell_type": "code",
   "execution_count": 46,
   "metadata": {},
   "outputs": [
    {
     "name": "stdout",
     "output_type": "stream",
     "text": [
      "             precision    recall  f1-score   support\n",
      "\n",
      "          0       0.29      0.81      0.42      3587\n",
      "          1       0.67      0.86      0.75     17249\n",
      "          2       0.00      0.00      0.00     11674\n",
      "\n",
      "avg / total       0.38      0.55      0.44     32510\n",
      "\n"
     ]
    },
    {
     "name": "stderr",
     "output_type": "stream",
     "text": [
      "C:\\Users\\Trishul\\Anaconda3\\lib\\site-packages\\sklearn\\metrics\\classification.py:1135: UndefinedMetricWarning: Precision and F-score are ill-defined and being set to 0.0 in labels with no predicted samples.\n",
      "  'precision', 'predicted', average, warn_for)\n"
     ]
    }
   ],
   "source": [
    "print(classification_report(test_data['is_helpful'], preds_test))"
   ]
  },
  {
   "cell_type": "code",
   "execution_count": 49,
   "metadata": {},
   "outputs": [
    {
     "name": "stdout",
     "output_type": "stream",
     "text": [
      "[[ 2919   668     0]\n",
      " [ 2414 14835     0]\n",
      " [ 4879  6795     0]]\n"
     ]
    }
   ],
   "source": [
    "print(confusion_matrix(test_data['is_helpful'], preds_test))"
   ]
  },
  {
   "cell_type": "code",
   "execution_count": null,
   "metadata": {
    "collapsed": true
   },
   "outputs": [],
   "source": [
    " EXPERIMENT 2"
   ]
  },
  {
   "cell_type": "code",
   "execution_count": null,
   "metadata": {
    "collapsed": true
   },
   "outputs": [],
   "source": []
  },
  {
   "cell_type": "code",
   "execution_count": 51,
   "metadata": {
    "collapsed": true
   },
   "outputs": [],
   "source": [
    "xgb_cl2 = xgb.XGBClassifier()"
   ]
  },
  {
   "cell_type": "code",
   "execution_count": 52,
   "metadata": {},
   "outputs": [
    {
     "data": {
      "text/plain": [
       "XGBClassifier(base_score=0.5, booster='gbtree', colsample_bylevel=1,\n",
       "       colsample_bytree=1, gamma=0, learning_rate=0.1, max_delta_step=0,\n",
       "       max_depth=3, min_child_weight=1, missing=None, n_estimators=100,\n",
       "       n_jobs=1, nthread=None, objective='binary:logistic', random_state=0,\n",
       "       reg_alpha=0, reg_lambda=1, scale_pos_weight=1, seed=None,\n",
       "       silent=True, subsample=1)"
      ]
     },
     "execution_count": 52,
     "metadata": {},
     "output_type": "execute_result"
    }
   ],
   "source": [
    "xgb_cl2.fit(X,y)"
   ]
  },
  {
   "cell_type": "code",
   "execution_count": 53,
   "metadata": {},
   "outputs": [
    {
     "name": "stderr",
     "output_type": "stream",
     "text": [
      "C:\\Users\\Trishul\\Anaconda3\\lib\\site-packages\\sklearn\\preprocessing\\label.py:151: DeprecationWarning: The truth value of an empty array is ambiguous. Returning False, but in future this will result in an error. Use `array.size > 0` to check that an array is not empty.\n",
      "  if diff:\n"
     ]
    }
   ],
   "source": [
    "preds_test2=xgb_cl2.predict(test_data[['overall','review_length']])"
   ]
  },
  {
   "cell_type": "code",
   "execution_count": 54,
   "metadata": {},
   "outputs": [
    {
     "name": "stdout",
     "output_type": "stream",
     "text": [
      "[[ 2905   682     0]\n",
      " [ 2427 14822     0]\n",
      " [ 4862  6812     0]]\n"
     ]
    }
   ],
   "source": [
    "print(confusion_matrix(test_data['is_helpful'],preds_test2))"
   ]
  },
  {
   "cell_type": "code",
   "execution_count": 55,
   "metadata": {},
   "outputs": [
    {
     "name": "stdout",
     "output_type": "stream",
     "text": [
      "             precision    recall  f1-score   support\n",
      "\n",
      "          0       0.28      0.81      0.42      3587\n",
      "          1       0.66      0.86      0.75     17249\n",
      "          2       0.00      0.00      0.00     11674\n",
      "\n",
      "avg / total       0.38      0.55      0.44     32510\n",
      "\n"
     ]
    },
    {
     "name": "stderr",
     "output_type": "stream",
     "text": [
      "C:\\Users\\Trishul\\Anaconda3\\lib\\site-packages\\sklearn\\metrics\\classification.py:1135: UndefinedMetricWarning: Precision and F-score are ill-defined and being set to 0.0 in labels with no predicted samples.\n",
      "  'precision', 'predicted', average, warn_for)\n"
     ]
    }
   ],
   "source": [
    "print(classification_report(test_data['is_helpful'], preds_test2))"
   ]
  },
  {
   "cell_type": "markdown",
   "metadata": {
    "collapsed": true
   },
   "source": [
    "### Predicting for Review Data"
   ]
  },
  {
   "cell_type": "code",
   "execution_count": 21,
   "metadata": {
    "collapsed": true
   },
   "outputs": [],
   "source": [
    "review_df = pd.read_csv('Amazon_Latest_Data.csv')"
   ]
  },
  {
   "cell_type": "code",
   "execution_count": 23,
   "metadata": {},
   "outputs": [
    {
     "data": {
      "text/plain": [
       "81275"
      ]
     },
     "execution_count": 23,
     "metadata": {},
     "output_type": "execute_result"
    }
   ],
   "source": [
    "len(review_df)"
   ]
  },
  {
   "cell_type": "code",
   "execution_count": 25,
   "metadata": {},
   "outputs": [
    {
     "data": {
      "text/plain": [
       "Index(['reviewerID', 'asin', 'reviewerName', 'helpful', 'reviewText',\n",
       "       'overall', 'summary', 'unixReviewTime', 'reviewTime',\n",
       "       'helpfulness_score', 'user_deviation', 'review_delay', 'stem_words',\n",
       "       'lem_words', 'stem_sim_words', 'lem_sim_words'],\n",
       "      dtype='object')"
      ]
     },
     "execution_count": 25,
     "metadata": {},
     "output_type": "execute_result"
    }
   ],
   "source": [
    "review_df.columns"
   ]
  },
  {
   "cell_type": "code",
   "execution_count": 27,
   "metadata": {
    "collapsed": true
   },
   "outputs": [],
   "source": [
    "review_df['review_length'] = review_df['reviewText'].apply(review_length)"
   ]
  },
  {
   "cell_type": "code",
   "execution_count": 28,
   "metadata": {},
   "outputs": [
    {
     "data": {
      "text/plain": [
       "0    427\n",
       "1    846\n",
       "2    449\n",
       "3     64\n",
       "4    138\n",
       "Name: review_length, dtype: int64"
      ]
     },
     "execution_count": 28,
     "metadata": {},
     "output_type": "execute_result"
    }
   ],
   "source": [
    "review_df['review_length'].head()"
   ]
  },
  {
   "cell_type": "code",
   "execution_count": 30,
   "metadata": {
    "collapsed": true
   },
   "outputs": [],
   "source": [
    "review_df['is_helpful'] = review_df['helpfulness_score'].apply(is_helpful)"
   ]
  },
  {
   "cell_type": "code",
   "execution_count": 31,
   "metadata": {
    "collapsed": true
   },
   "outputs": [],
   "source": [
    "test_data =review_df[['overall','review_length']]"
   ]
  },
  {
   "cell_type": "code",
   "execution_count": 32,
   "metadata": {},
   "outputs": [
    {
     "name": "stderr",
     "output_type": "stream",
     "text": [
      "C:\\Users\\Trishul\\Anaconda3\\lib\\site-packages\\sklearn\\preprocessing\\label.py:151: DeprecationWarning: The truth value of an empty array is ambiguous. Returning False, but in future this will result in an error. Use `array.size > 0` to check that an array is not empty.\n",
      "  if diff:\n"
     ]
    }
   ],
   "source": [
    "preds = xgb_cl.predict(test_data)"
   ]
  },
  {
   "cell_type": "code",
   "execution_count": 37,
   "metadata": {},
   "outputs": [
    {
     "name": "stdout",
     "output_type": "stream",
     "text": [
      "             precision    recall  f1-score   support\n",
      "\n",
      "          0       0.29      0.81      0.42      8962\n",
      "          1       0.66      0.86      0.75     42988\n",
      "          2       0.00      0.00      0.00     29325\n",
      "\n",
      "avg / total       0.38      0.55      0.44     81275\n",
      "\n"
     ]
    },
    {
     "name": "stderr",
     "output_type": "stream",
     "text": [
      "C:\\Users\\Trishul\\Anaconda3\\lib\\site-packages\\sklearn\\metrics\\classification.py:1135: UndefinedMetricWarning: Precision and F-score are ill-defined and being set to 0.0 in labels with no predicted samples.\n",
      "  'precision', 'predicted', average, warn_for)\n"
     ]
    }
   ],
   "source": [
    "print(classification_report(review_df['is_helpful'], preds))"
   ]
  },
  {
   "cell_type": "code",
   "execution_count": 38,
   "metadata": {},
   "outputs": [
    {
     "name": "stdout",
     "output_type": "stream",
     "text": [
      "[[ 7300  1662     0]\n",
      " [ 5969 37019     0]\n",
      " [12226 17099     0]]\n"
     ]
    }
   ],
   "source": [
    "print(confusion_matrix(review_df['is_helpful'], preds))"
   ]
  },
  {
   "cell_type": "code",
   "execution_count": 39,
   "metadata": {},
   "outputs": [],
   "source": [
    "helper_df= review_df[['reviewerID','asin','reviewText','overall','review_length']]"
   ]
  },
  {
   "cell_type": "code",
   "execution_count": 40,
   "metadata": {},
   "outputs": [
    {
     "name": "stderr",
     "output_type": "stream",
     "text": [
      "C:\\Users\\Trishul\\Anaconda3\\lib\\site-packages\\ipykernel_launcher.py:1: SettingWithCopyWarning: \n",
      "A value is trying to be set on a copy of a slice from a DataFrame.\n",
      "Try using .loc[row_indexer,col_indexer] = value instead\n",
      "\n",
      "See the caveats in the documentation: http://pandas.pydata.org/pandas-docs/stable/indexing.html#indexing-view-versus-copy\n",
      "  \"\"\"Entry point for launching an IPython kernel.\n"
     ]
    }
   ],
   "source": [
    "helper_df['help_pred_1'] = preds"
   ]
  },
  {
   "cell_type": "code",
   "execution_count": 42,
   "metadata": {
    "collapsed": true
   },
   "outputs": [],
   "source": [
    "helper_df.to_csv('helper_df.csv',index=False)"
   ]
  },
  {
   "cell_type": "markdown",
   "metadata": {},
   "source": [
    "### With Added Features "
   ]
  },
  {
   "cell_type": "code",
   "execution_count": null,
   "metadata": {
    "collapsed": true
   },
   "outputs": [],
   "source": [
    "1. Difficult Words\n",
    "2. Positive Words\n",
    "3. Negative Words\n",
    "4. Words Per Sentence \n",
    "5. smog index\n",
    "6. coleman liau index\n",
    "7. linsear write formula\n",
    "8. sentence count\n"
   ]
  },
  {
   "cell_type": "code",
   "execution_count": 43,
   "metadata": {
    "collapsed": true
   },
   "outputs": [],
   "source": [
    "### get the text df\n",
    "text_df = pd.read_csv('Text_Parameters.csv')"
   ]
  },
  {
   "cell_type": "code",
   "execution_count": 44,
   "metadata": {},
   "outputs": [
    {
     "data": {
      "text/html": [
       "<div>\n",
       "<style scoped>\n",
       "    .dataframe tbody tr th:only-of-type {\n",
       "        vertical-align: middle;\n",
       "    }\n",
       "\n",
       "    .dataframe tbody tr th {\n",
       "        vertical-align: top;\n",
       "    }\n",
       "\n",
       "    .dataframe thead th {\n",
       "        text-align: right;\n",
       "    }\n",
       "</style>\n",
       "<table border=\"1\" class=\"dataframe\">\n",
       "  <thead>\n",
       "    <tr style=\"text-align: right;\">\n",
       "      <th></th>\n",
       "      <th>reviewText</th>\n",
       "      <th>flesch_reading_ease</th>\n",
       "      <th>helpfulness_score</th>\n",
       "      <th>smog_index</th>\n",
       "      <th>flesch_kincaid_grade</th>\n",
       "      <th>coleman_liau_index</th>\n",
       "      <th>automated_readability_index</th>\n",
       "      <th>dale_chall_readability_score</th>\n",
       "      <th>difficult_words</th>\n",
       "      <th>linsear_write_formula</th>\n",
       "      <th>gunning_fog</th>\n",
       "      <th>text_standard</th>\n",
       "      <th>sentence_count</th>\n",
       "      <th>wps</th>\n",
       "      <th>review_length</th>\n",
       "      <th>pos_words</th>\n",
       "      <th>neg_words</th>\n",
       "      <th>pos_no</th>\n",
       "      <th>neg_no</th>\n",
       "    </tr>\n",
       "  </thead>\n",
       "  <tbody>\n",
       "    <tr>\n",
       "      <th>0</th>\n",
       "      <td>I'm a professional OTR truck driver, and I bou...</td>\n",
       "      <td>-336.56</td>\n",
       "      <td>0.800000</td>\n",
       "      <td>0.0</td>\n",
       "      <td>166.3</td>\n",
       "      <td>7.69</td>\n",
       "      <td>211.1</td>\n",
       "      <td>26.44</td>\n",
       "      <td>44</td>\n",
       "      <td>14.000000</td>\n",
       "      <td>176.92</td>\n",
       "      <td>-1th and 0th grade</td>\n",
       "      <td>1</td>\n",
       "      <td>427.000000</td>\n",
       "      <td>427</td>\n",
       "      <td>['available', 'preferred']</td>\n",
       "      <td>['problem', 'refused', 'cheap', 'lost']</td>\n",
       "      <td>2</td>\n",
       "      <td>4</td>\n",
       "    </tr>\n",
       "    <tr>\n",
       "      <th>1</th>\n",
       "      <td>Well, what can I say.  I've had this unit in m...</td>\n",
       "      <td>-340.96</td>\n",
       "      <td>0.955556</td>\n",
       "      <td>0.0</td>\n",
       "      <td>165.9</td>\n",
       "      <td>9.72</td>\n",
       "      <td>210.8</td>\n",
       "      <td>26.37</td>\n",
       "      <td>94</td>\n",
       "      <td>8.666667</td>\n",
       "      <td>175.64</td>\n",
       "      <td>165th and 166th grade</td>\n",
       "      <td>2</td>\n",
       "      <td>423.000000</td>\n",
       "      <td>846</td>\n",
       "      <td>['favorite', 'like', 'best', 'best', 'importan...</td>\n",
       "      <td>['strictly', 'slow', 'overwhelming', 'omission...</td>\n",
       "      <td>18</td>\n",
       "      <td>8</td>\n",
       "    </tr>\n",
       "    <tr>\n",
       "      <th>2</th>\n",
       "      <td>Not going to write a long review, even thought...</td>\n",
       "      <td>85.52</td>\n",
       "      <td>0.900000</td>\n",
       "      <td>7.3</td>\n",
       "      <td>6.2</td>\n",
       "      <td>5.92</td>\n",
       "      <td>7.2</td>\n",
       "      <td>5.87</td>\n",
       "      <td>36</td>\n",
       "      <td>7.666667</td>\n",
       "      <td>13.01</td>\n",
       "      <td>5th and 6th grade</td>\n",
       "      <td>23</td>\n",
       "      <td>19.521739</td>\n",
       "      <td>449</td>\n",
       "      <td>['well', 'pretty', 'fastest', 'excited', 'grea...</td>\n",
       "      <td>['trouble', 'lacking', 'mistakes', 'problem', ...</td>\n",
       "      <td>7</td>\n",
       "      <td>6</td>\n",
       "    </tr>\n",
       "    <tr>\n",
       "      <th>3</th>\n",
       "      <td>Quality was excellent. Instructions were clear...</td>\n",
       "      <td>66.94</td>\n",
       "      <td>0.789474</td>\n",
       "      <td>10.8</td>\n",
       "      <td>7.1</td>\n",
       "      <td>8.05</td>\n",
       "      <td>6.3</td>\n",
       "      <td>6.99</td>\n",
       "      <td>11</td>\n",
       "      <td>7.200000</td>\n",
       "      <td>14.00</td>\n",
       "      <td>6th and 7th grade</td>\n",
       "      <td>5</td>\n",
       "      <td>12.800000</td>\n",
       "      <td>64</td>\n",
       "      <td>['clear', 'enough']</td>\n",
       "      <td>[]</td>\n",
       "      <td>2</td>\n",
       "      <td>0</td>\n",
       "    </tr>\n",
       "    <tr>\n",
       "      <th>4</th>\n",
       "      <td>I checked around Amazon as well as some other ...</td>\n",
       "      <td>-43.22</td>\n",
       "      <td>0.444444</td>\n",
       "      <td>0.0</td>\n",
       "      <td>53.6</td>\n",
       "      <td>8.09</td>\n",
       "      <td>67.2</td>\n",
       "      <td>12.20</td>\n",
       "      <td>15</td>\n",
       "      <td>4.400000</td>\n",
       "      <td>61.55</td>\n",
       "      <td>53th and 54th grade</td>\n",
       "      <td>1</td>\n",
       "      <td>138.000000</td>\n",
       "      <td>138</td>\n",
       "      <td>['well']</td>\n",
       "      <td>['damage', 'issue', 'hard']</td>\n",
       "      <td>1</td>\n",
       "      <td>3</td>\n",
       "    </tr>\n",
       "  </tbody>\n",
       "</table>\n",
       "</div>"
      ],
      "text/plain": [
       "                                          reviewText  flesch_reading_ease  \\\n",
       "0  I'm a professional OTR truck driver, and I bou...              -336.56   \n",
       "1  Well, what can I say.  I've had this unit in m...              -340.96   \n",
       "2  Not going to write a long review, even thought...                85.52   \n",
       "3  Quality was excellent. Instructions were clear...                66.94   \n",
       "4  I checked around Amazon as well as some other ...               -43.22   \n",
       "\n",
       "   helpfulness_score  smog_index  flesch_kincaid_grade  coleman_liau_index  \\\n",
       "0           0.800000         0.0                 166.3                7.69   \n",
       "1           0.955556         0.0                 165.9                9.72   \n",
       "2           0.900000         7.3                   6.2                5.92   \n",
       "3           0.789474        10.8                   7.1                8.05   \n",
       "4           0.444444         0.0                  53.6                8.09   \n",
       "\n",
       "   automated_readability_index  dale_chall_readability_score  difficult_words  \\\n",
       "0                        211.1                         26.44               44   \n",
       "1                        210.8                         26.37               94   \n",
       "2                          7.2                          5.87               36   \n",
       "3                          6.3                          6.99               11   \n",
       "4                         67.2                         12.20               15   \n",
       "\n",
       "   linsear_write_formula  gunning_fog          text_standard  sentence_count  \\\n",
       "0              14.000000       176.92     -1th and 0th grade               1   \n",
       "1               8.666667       175.64  165th and 166th grade               2   \n",
       "2               7.666667        13.01      5th and 6th grade              23   \n",
       "3               7.200000        14.00      6th and 7th grade               5   \n",
       "4               4.400000        61.55    53th and 54th grade               1   \n",
       "\n",
       "          wps  review_length  \\\n",
       "0  427.000000            427   \n",
       "1  423.000000            846   \n",
       "2   19.521739            449   \n",
       "3   12.800000             64   \n",
       "4  138.000000            138   \n",
       "\n",
       "                                           pos_words  \\\n",
       "0                         ['available', 'preferred']   \n",
       "1  ['favorite', 'like', 'best', 'best', 'importan...   \n",
       "2  ['well', 'pretty', 'fastest', 'excited', 'grea...   \n",
       "3                                ['clear', 'enough']   \n",
       "4                                           ['well']   \n",
       "\n",
       "                                           neg_words  pos_no  neg_no  \n",
       "0            ['problem', 'refused', 'cheap', 'lost']       2       4  \n",
       "1  ['strictly', 'slow', 'overwhelming', 'omission...      18       8  \n",
       "2  ['trouble', 'lacking', 'mistakes', 'problem', ...       7       6  \n",
       "3                                                 []       2       0  \n",
       "4                        ['damage', 'issue', 'hard']       1       3  "
      ]
     },
     "execution_count": 44,
     "metadata": {},
     "output_type": "execute_result"
    }
   ],
   "source": [
    "text_df.head()"
   ]
  },
  {
   "cell_type": "code",
   "execution_count": 46,
   "metadata": {},
   "outputs": [
    {
     "name": "stderr",
     "output_type": "stream",
     "text": [
      "Pandas Apply: 100%|█████████████████████████████████████████████████████████████| 59989/59989 [03:39<00:00, 273.00it/s]\n",
      "C:\\Users\\Trishul\\Anaconda3\\lib\\site-packages\\ipykernel_launcher.py:1: SettingWithCopyWarning: \n",
      "A value is trying to be set on a copy of a slice from a DataFrame.\n",
      "Try using .loc[row_indexer,col_indexer] = value instead\n",
      "\n",
      "See the caveats in the documentation: http://pandas.pydata.org/pandas-docs/stable/indexing.html#indexing-view-versus-copy\n",
      "  \"\"\"Entry point for launching an IPython kernel.\n"
     ]
    }
   ],
   "source": [
    "df2['smog_index']= df2['reviewText'].swifter.apply(textstat.smog_index)"
   ]
  },
  {
   "cell_type": "code",
   "execution_count": 47,
   "metadata": {},
   "outputs": [
    {
     "name": "stderr",
     "output_type": "stream",
     "text": [
      "Pandas Apply: 100%|█████████████████████████████████████████████████████████████| 59989/59989 [04:23<00:00, 227.50it/s]\n",
      "C:\\Users\\Trishul\\Anaconda3\\lib\\site-packages\\ipykernel_launcher.py:1: SettingWithCopyWarning: \n",
      "A value is trying to be set on a copy of a slice from a DataFrame.\n",
      "Try using .loc[row_indexer,col_indexer] = value instead\n",
      "\n",
      "See the caveats in the documentation: http://pandas.pydata.org/pandas-docs/stable/indexing.html#indexing-view-versus-copy\n",
      "  \"\"\"Entry point for launching an IPython kernel.\n"
     ]
    }
   ],
   "source": [
    "df2['flesch_kincaid_grade']= df2['reviewText'].swifter.apply(textstat.flesch_kincaid_grade)"
   ]
  },
  {
   "cell_type": "code",
   "execution_count": 48,
   "metadata": {},
   "outputs": [
    {
     "name": "stderr",
     "output_type": "stream",
     "text": [
      "Pandas Apply: 100%|█████████████████████████████████████████████████████████████| 59989/59989 [02:04<00:00, 480.49it/s]\n",
      "C:\\Users\\Trishul\\Anaconda3\\lib\\site-packages\\ipykernel_launcher.py:1: SettingWithCopyWarning: \n",
      "A value is trying to be set on a copy of a slice from a DataFrame.\n",
      "Try using .loc[row_indexer,col_indexer] = value instead\n",
      "\n",
      "See the caveats in the documentation: http://pandas.pydata.org/pandas-docs/stable/indexing.html#indexing-view-versus-copy\n",
      "  \"\"\"Entry point for launching an IPython kernel.\n"
     ]
    }
   ],
   "source": [
    "df2['coleman_liau_index']= df2['reviewText'].swifter.apply(textstat.coleman_liau_index)"
   ]
  },
  {
   "cell_type": "code",
   "execution_count": 49,
   "metadata": {},
   "outputs": [
    {
     "name": "stderr",
     "output_type": "stream",
     "text": [
      "Pandas Apply: 100%|█████████████████████████████████████████████████████████████| 59989/59989 [02:08<00:00, 191.51it/s]\n",
      "C:\\Users\\Trishul\\Anaconda3\\lib\\site-packages\\ipykernel_launcher.py:1: SettingWithCopyWarning: \n",
      "A value is trying to be set on a copy of a slice from a DataFrame.\n",
      "Try using .loc[row_indexer,col_indexer] = value instead\n",
      "\n",
      "See the caveats in the documentation: http://pandas.pydata.org/pandas-docs/stable/indexing.html#indexing-view-versus-copy\n",
      "  \"\"\"Entry point for launching an IPython kernel.\n"
     ]
    }
   ],
   "source": [
    "df2['automated_readability_index']= df2['reviewText'].swifter.apply(textstat.automated_readability_index)"
   ]
  },
  {
   "cell_type": "code",
   "execution_count": 50,
   "metadata": {},
   "outputs": [
    {
     "name": "stderr",
     "output_type": "stream",
     "text": [
      "Pandas Apply: 100%|█████████████████████████████████████████████████████████████| 59989/59989 [03:28<00:00, 138.77it/s]\n",
      "C:\\Users\\Trishul\\Anaconda3\\lib\\site-packages\\ipykernel_launcher.py:1: SettingWithCopyWarning: \n",
      "A value is trying to be set on a copy of a slice from a DataFrame.\n",
      "Try using .loc[row_indexer,col_indexer] = value instead\n",
      "\n",
      "See the caveats in the documentation: http://pandas.pydata.org/pandas-docs/stable/indexing.html#indexing-view-versus-copy\n",
      "  \"\"\"Entry point for launching an IPython kernel.\n"
     ]
    }
   ],
   "source": [
    "df2['dale_chall_readability_score']= df2['reviewText'].swifter.apply(textstat.dale_chall_readability_score)"
   ]
  },
  {
   "cell_type": "code",
   "execution_count": 51,
   "metadata": {},
   "outputs": [
    {
     "name": "stderr",
     "output_type": "stream",
     "text": [
      "Pandas Apply: 100%|█████████████████████████████████████████████████████████████| 59989/59989 [01:13<00:00, 814.94it/s]\n",
      "C:\\Users\\Trishul\\Anaconda3\\lib\\site-packages\\ipykernel_launcher.py:1: SettingWithCopyWarning: \n",
      "A value is trying to be set on a copy of a slice from a DataFrame.\n",
      "Try using .loc[row_indexer,col_indexer] = value instead\n",
      "\n",
      "See the caveats in the documentation: http://pandas.pydata.org/pandas-docs/stable/indexing.html#indexing-view-versus-copy\n",
      "  \"\"\"Entry point for launching an IPython kernel.\n"
     ]
    }
   ],
   "source": [
    "df2['difficult_words']= df2['reviewText'].swifter.apply(textstat.difficult_words)"
   ]
  },
  {
   "cell_type": "code",
   "execution_count": 52,
   "metadata": {},
   "outputs": [
    {
     "name": "stderr",
     "output_type": "stream",
     "text": [
      "Pandas Apply: 100%|█████████████████████████████████████████████████████████████| 59989/59989 [01:19<00:00, 756.40it/s]\n",
      "C:\\Users\\Trishul\\Anaconda3\\lib\\site-packages\\ipykernel_launcher.py:1: SettingWithCopyWarning: \n",
      "A value is trying to be set on a copy of a slice from a DataFrame.\n",
      "Try using .loc[row_indexer,col_indexer] = value instead\n",
      "\n",
      "See the caveats in the documentation: http://pandas.pydata.org/pandas-docs/stable/indexing.html#indexing-view-versus-copy\n",
      "  \"\"\"Entry point for launching an IPython kernel.\n"
     ]
    }
   ],
   "source": [
    "df2['linsear_write_formula']= df2['reviewText'].swifter.apply(textstat.linsear_write_formula)"
   ]
  },
  {
   "cell_type": "code",
   "execution_count": 53,
   "metadata": {},
   "outputs": [
    {
     "name": "stderr",
     "output_type": "stream",
     "text": [
      "Pandas Apply: 100%|█████████████████████████████████████████████████████████████| 59989/59989 [03:17<00:00, 303.18it/s]\n",
      "C:\\Users\\Trishul\\Anaconda3\\lib\\site-packages\\ipykernel_launcher.py:1: SettingWithCopyWarning: \n",
      "A value is trying to be set on a copy of a slice from a DataFrame.\n",
      "Try using .loc[row_indexer,col_indexer] = value instead\n",
      "\n",
      "See the caveats in the documentation: http://pandas.pydata.org/pandas-docs/stable/indexing.html#indexing-view-versus-copy\n",
      "  \"\"\"Entry point for launching an IPython kernel.\n"
     ]
    }
   ],
   "source": [
    "df2['gunning_fog']= df2['reviewText'].swifter.apply(textstat.gunning_fog)"
   ]
  },
  {
   "cell_type": "code",
   "execution_count": 54,
   "metadata": {},
   "outputs": [
    {
     "name": "stderr",
     "output_type": "stream",
     "text": [
      "Pandas Apply: 100%|█████████████████████████████████████████████████████████████| 59989/59989 [08:37<00:00, 115.87it/s]\n",
      "C:\\Users\\Trishul\\Anaconda3\\lib\\site-packages\\ipykernel_launcher.py:1: SettingWithCopyWarning: \n",
      "A value is trying to be set on a copy of a slice from a DataFrame.\n",
      "Try using .loc[row_indexer,col_indexer] = value instead\n",
      "\n",
      "See the caveats in the documentation: http://pandas.pydata.org/pandas-docs/stable/indexing.html#indexing-view-versus-copy\n",
      "  \"\"\"Entry point for launching an IPython kernel.\n"
     ]
    }
   ],
   "source": [
    "df2['text_standard']= df2['reviewText'].swifter.apply(textstat.text_standard)"
   ]
  },
  {
   "cell_type": "code",
   "execution_count": 55,
   "metadata": {},
   "outputs": [
    {
     "name": "stderr",
     "output_type": "stream",
     "text": [
      "Pandas Apply: 100%|█████████████████████████████████████████████████████████████| 59989/59989 [01:18<00:00, 766.39it/s]\n",
      "C:\\Users\\Trishul\\Anaconda3\\lib\\site-packages\\ipykernel_launcher.py:1: SettingWithCopyWarning: \n",
      "A value is trying to be set on a copy of a slice from a DataFrame.\n",
      "Try using .loc[row_indexer,col_indexer] = value instead\n",
      "\n",
      "See the caveats in the documentation: http://pandas.pydata.org/pandas-docs/stable/indexing.html#indexing-view-versus-copy\n",
      "  \"\"\"Entry point for launching an IPython kernel.\n"
     ]
    }
   ],
   "source": [
    "df2['sentence_count']= df2['reviewText'].swifter.apply(textstat.sentence_count)"
   ]
  },
  {
   "cell_type": "code",
   "execution_count": 56,
   "metadata": {
    "collapsed": true
   },
   "outputs": [],
   "source": [
    "def get_words_per_sentence(text):\n",
    "   return len(text.split())/textstat.sentence_count(text)\n",
    "    "
   ]
  },
  {
   "cell_type": "code",
   "execution_count": 57,
   "metadata": {},
   "outputs": [
    {
     "name": "stderr",
     "output_type": "stream",
     "text": [
      "Pandas Apply: 100%|█████████████████████████████████████████████████████████████| 59989/59989 [01:22<00:00, 724.08it/s]\n",
      "C:\\Users\\Trishul\\Anaconda3\\lib\\site-packages\\ipykernel_launcher.py:1: SettingWithCopyWarning: \n",
      "A value is trying to be set on a copy of a slice from a DataFrame.\n",
      "Try using .loc[row_indexer,col_indexer] = value instead\n",
      "\n",
      "See the caveats in the documentation: http://pandas.pydata.org/pandas-docs/stable/indexing.html#indexing-view-versus-copy\n",
      "  \"\"\"Entry point for launching an IPython kernel.\n"
     ]
    }
   ],
   "source": [
    "df2['wps']= df2['reviewText'].swifter.apply(get_words_per_sentence)"
   ]
  },
  {
   "cell_type": "code",
   "execution_count": 58,
   "metadata": {
    "collapsed": true
   },
   "outputs": [],
   "source": [
    "pos_file = open('opinion-lexicon-English/positive-words.txt','r')\n",
    "neg_file = open('opinion-lexicon-English/negative-words.txt','r')"
   ]
  },
  {
   "cell_type": "code",
   "execution_count": 59,
   "metadata": {
    "collapsed": true
   },
   "outputs": [],
   "source": [
    "if pos_file.mode == 'r' :\n",
    "    pos_content = pos_file.read()\n",
    "    pos_list = pos_content.split('\\n')\n",
    "else :\n",
    "    print('ERROR: could not read positive words!')"
   ]
  },
  {
   "cell_type": "code",
   "execution_count": 60,
   "metadata": {
    "collapsed": true
   },
   "outputs": [],
   "source": [
    "if neg_file.mode == 'r' :\n",
    "    neg_content = neg_file.read()\n",
    "    neg_list = neg_content.split('\\n')\n",
    "else :\n",
    "    print('ERROR: could not read negative words!')"
   ]
  },
  {
   "cell_type": "code",
   "execution_count": 61,
   "metadata": {},
   "outputs": [
    {
     "data": {
      "text/plain": [
       "['youthful', 'zeal', 'zenith', 'zest', 'zippy']"
      ]
     },
     "execution_count": 61,
     "metadata": {},
     "output_type": "execute_result"
    }
   ],
   "source": [
    "pos_list[-5:]"
   ]
  },
  {
   "cell_type": "code",
   "execution_count": 62,
   "metadata": {},
   "outputs": [
    {
     "data": {
      "text/plain": [
       "['zaps', 'zealot', 'zealous', 'zealously', 'zombie']"
      ]
     },
     "execution_count": 62,
     "metadata": {},
     "output_type": "execute_result"
    }
   ],
   "source": [
    "neg_list[-5:]"
   ]
  },
  {
   "cell_type": "code",
   "execution_count": 63,
   "metadata": {
    "collapsed": true
   },
   "outputs": [],
   "source": [
    "pos_file.close()\n",
    "neg_file.close()"
   ]
  },
  {
   "cell_type": "code",
   "execution_count": 64,
   "metadata": {
    "collapsed": true
   },
   "outputs": [],
   "source": [
    "def get_positive_words(text) :\n",
    "    words = text.split()\n",
    "    \n",
    "    review_pos = []\n",
    "    \n",
    "    for word in words :\n",
    "        if word in pos_list:\n",
    "            review_pos.append(word)\n",
    "            \n",
    "    return review_pos\n",
    "    "
   ]
  },
  {
   "cell_type": "code",
   "execution_count": 65,
   "metadata": {
    "collapsed": true
   },
   "outputs": [],
   "source": [
    "def get_negative_words(text) :\n",
    "    words = text.split()\n",
    "    \n",
    "    review_neg = []\n",
    "    \n",
    "    for word in words :\n",
    "        if word in neg_list:\n",
    "            review_neg.append(word)\n",
    "            \n",
    "    return review_neg\n",
    "    "
   ]
  },
  {
   "cell_type": "code",
   "execution_count": 66,
   "metadata": {
    "scrolled": true
   },
   "outputs": [
    {
     "name": "stderr",
     "output_type": "stream",
     "text": [
      "Pandas Apply: 100%|██████████████████████████████████████████████████████████████| 59989/59989 [56:33<00:00, 35.38s/it]\n",
      "C:\\Users\\Trishul\\Anaconda3\\lib\\site-packages\\ipykernel_launcher.py:1: SettingWithCopyWarning: \n",
      "A value is trying to be set on a copy of a slice from a DataFrame.\n",
      "Try using .loc[row_indexer,col_indexer] = value instead\n",
      "\n",
      "See the caveats in the documentation: http://pandas.pydata.org/pandas-docs/stable/indexing.html#indexing-view-versus-copy\n",
      "  \"\"\"Entry point for launching an IPython kernel.\n"
     ]
    }
   ],
   "source": [
    "df2['pos_words'] = df2['reviewText'].swifter.apply(get_positive_words)"
   ]
  },
  {
   "cell_type": "code",
   "execution_count": 67,
   "metadata": {},
   "outputs": [
    {
     "name": "stderr",
     "output_type": "stream",
     "text": [
      "Pandas Apply: 100%|██████████████████████████████████████████████████████████████| 59989/59989 [45:15<00:00,  5.33it/s]\n",
      "C:\\Users\\Trishul\\Anaconda3\\lib\\site-packages\\ipykernel_launcher.py:1: SettingWithCopyWarning: \n",
      "A value is trying to be set on a copy of a slice from a DataFrame.\n",
      "Try using .loc[row_indexer,col_indexer] = value instead\n",
      "\n",
      "See the caveats in the documentation: http://pandas.pydata.org/pandas-docs/stable/indexing.html#indexing-view-versus-copy\n",
      "  \"\"\"Entry point for launching an IPython kernel.\n"
     ]
    }
   ],
   "source": [
    "df2['neg_words'] = df2['reviewText'].swifter.apply(get_negative_words)"
   ]
  },
  {
   "cell_type": "code",
   "execution_count": 68,
   "metadata": {},
   "outputs": [
    {
     "name": "stderr",
     "output_type": "stream",
     "text": [
      "Pandas Apply: 100%|██████████████████████████████████████████████████████████| 59989/59989 [00:00<00:00, 217284.42it/s]\n",
      "C:\\Users\\Trishul\\Anaconda3\\lib\\site-packages\\ipykernel_launcher.py:1: SettingWithCopyWarning: \n",
      "A value is trying to be set on a copy of a slice from a DataFrame.\n",
      "Try using .loc[row_indexer,col_indexer] = value instead\n",
      "\n",
      "See the caveats in the documentation: http://pandas.pydata.org/pandas-docs/stable/indexing.html#indexing-view-versus-copy\n",
      "  \"\"\"Entry point for launching an IPython kernel.\n"
     ]
    }
   ],
   "source": [
    "df2['pos_no'] = df2['pos_words'].swifter.apply(len)"
   ]
  },
  {
   "cell_type": "code",
   "execution_count": 69,
   "metadata": {},
   "outputs": [
    {
     "name": "stderr",
     "output_type": "stream",
     "text": [
      "Pandas Apply: 100%|██████████████████████████████████████████████████████████| 59989/59989 [00:00<00:00, 224574.46it/s]\n",
      "C:\\Users\\Trishul\\Anaconda3\\lib\\site-packages\\ipykernel_launcher.py:1: SettingWithCopyWarning: \n",
      "A value is trying to be set on a copy of a slice from a DataFrame.\n",
      "Try using .loc[row_indexer,col_indexer] = value instead\n",
      "\n",
      "See the caveats in the documentation: http://pandas.pydata.org/pandas-docs/stable/indexing.html#indexing-view-versus-copy\n",
      "  \"\"\"Entry point for launching an IPython kernel.\n"
     ]
    }
   ],
   "source": [
    "df2['neg_no'] = df2['neg_words'].swifter.apply(len)"
   ]
  },
  {
   "cell_type": "code",
   "execution_count": 71,
   "metadata": {},
   "outputs": [
    {
     "data": {
      "text/plain": [
       "Index(['reviewerID', 'asin', 'reviewerName', 'helpful', 'reviewText',\n",
       "       'overall', 'summary', 'unixReviewTime', 'reviewTime',\n",
       "       'helpfulness_score', 'is_helpful', 'review_length', 'smog_index',\n",
       "       'flesch_kincaid_grade', 'coleman_liau_index',\n",
       "       'automated_readability_index', 'dale_chall_readability_score',\n",
       "       'difficult_words', 'linsear_write_formula', 'gunning_fog',\n",
       "       'text_standard', 'sentence_count', 'wps', 'pos_words', 'neg_words',\n",
       "       'pos_no', 'neg_no'],\n",
       "      dtype='object')"
      ]
     },
     "execution_count": 71,
     "metadata": {},
     "output_type": "execute_result"
    }
   ],
   "source": [
    "df2.columns"
   ]
  },
  {
   "cell_type": "code",
   "execution_count": 239,
   "metadata": {},
   "outputs": [
    {
     "data": {
      "text/plain": [
       "6"
      ]
     },
     "execution_count": 239,
     "metadata": {},
     "output_type": "execute_result"
    }
   ],
   "source": [
    "X = df2[['review_length','overall', 'wps', 'pos_no' ,'neg_no', 'linsear_write_formula']]\n",
    "len(X.columns)"
   ]
  },
  {
   "cell_type": "code",
   "execution_count": 240,
   "metadata": {
    "collapsed": true
   },
   "outputs": [],
   "source": [
    "y =df2['is_helpful']"
   ]
  },
  {
   "cell_type": "code",
   "execution_count": 241,
   "metadata": {
    "collapsed": true
   },
   "outputs": [],
   "source": [
    "X_train,X_test, y_train, y_test = train_test_split(X,y,test_size=0.4, random_state=101)"
   ]
  },
  {
   "cell_type": "code",
   "execution_count": 242,
   "metadata": {
    "collapsed": true
   },
   "outputs": [],
   "source": [
    "xgb_cl_3 = xgb.XGBClassifier()"
   ]
  },
  {
   "cell_type": "code",
   "execution_count": 243,
   "metadata": {},
   "outputs": [
    {
     "data": {
      "text/plain": [
       "XGBClassifier(base_score=0.5, booster='gbtree', colsample_bylevel=1,\n",
       "       colsample_bytree=1, gamma=0, learning_rate=0.1, max_delta_step=0,\n",
       "       max_depth=3, min_child_weight=1, missing=None, n_estimators=100,\n",
       "       n_jobs=1, nthread=None, objective='binary:logistic', random_state=0,\n",
       "       reg_alpha=0, reg_lambda=1, scale_pos_weight=1, seed=None,\n",
       "       silent=True, subsample=1)"
      ]
     },
     "execution_count": 243,
     "metadata": {},
     "output_type": "execute_result"
    }
   ],
   "source": [
    "xgb_cl_3.fit(X_train,y_train, verbose=True)"
   ]
  },
  {
   "cell_type": "code",
   "execution_count": 244,
   "metadata": {},
   "outputs": [
    {
     "name": "stderr",
     "output_type": "stream",
     "text": [
      "C:\\Users\\Trishul\\Anaconda3\\lib\\site-packages\\sklearn\\preprocessing\\label.py:151: DeprecationWarning: The truth value of an empty array is ambiguous. Returning False, but in future this will result in an error. Use `array.size > 0` to check that an array is not empty.\n",
      "  if diff:\n"
     ]
    }
   ],
   "source": [
    "predictions=xgb_cl_3.predict(X_test)"
   ]
  },
  {
   "cell_type": "code",
   "execution_count": 245,
   "metadata": {},
   "outputs": [
    {
     "name": "stdout",
     "output_type": "stream",
     "text": [
      "[[ 7524  2311]\n",
      " [ 1911 12250]]\n"
     ]
    }
   ],
   "source": [
    "print(confusion_matrix(y_test,predictions))"
   ]
  },
  {
   "cell_type": "code",
   "execution_count": 246,
   "metadata": {},
   "outputs": [
    {
     "name": "stdout",
     "output_type": "stream",
     "text": [
      "             precision    recall  f1-score   support\n",
      "\n",
      "          0       0.80      0.77      0.78      9835\n",
      "          1       0.84      0.87      0.85     14161\n",
      "\n",
      "avg / total       0.82      0.82      0.82     23996\n",
      "\n"
     ]
    }
   ],
   "source": [
    "print(classification_report(y_test,predictions))"
   ]
  },
  {
   "cell_type": "code",
   "execution_count": 247,
   "metadata": {
    "scrolled": true
   },
   "outputs": [
    {
     "data": {
      "text/html": [
       "<div>\n",
       "<style scoped>\n",
       "    .dataframe tbody tr th:only-of-type {\n",
       "        vertical-align: middle;\n",
       "    }\n",
       "\n",
       "    .dataframe tbody tr th {\n",
       "        vertical-align: top;\n",
       "    }\n",
       "\n",
       "    .dataframe thead th {\n",
       "        text-align: right;\n",
       "    }\n",
       "</style>\n",
       "<table border=\"1\" class=\"dataframe\">\n",
       "  <thead>\n",
       "    <tr style=\"text-align: right;\">\n",
       "      <th></th>\n",
       "      <th>review_length</th>\n",
       "      <th>overall</th>\n",
       "      <th>unixReviewTime</th>\n",
       "      <th>wps</th>\n",
       "      <th>pos_no</th>\n",
       "      <th>neg_no</th>\n",
       "      <th>linsear_write_formula</th>\n",
       "    </tr>\n",
       "  </thead>\n",
       "  <tbody>\n",
       "    <tr>\n",
       "      <th>0</th>\n",
       "      <td>427</td>\n",
       "      <td>1.0</td>\n",
       "      <td>1290643200</td>\n",
       "      <td>427.000000</td>\n",
       "      <td>2</td>\n",
       "      <td>4</td>\n",
       "      <td>14.000000</td>\n",
       "    </tr>\n",
       "    <tr>\n",
       "      <th>1</th>\n",
       "      <td>846</td>\n",
       "      <td>3.0</td>\n",
       "      <td>1283990400</td>\n",
       "      <td>423.000000</td>\n",
       "      <td>18</td>\n",
       "      <td>8</td>\n",
       "      <td>8.666667</td>\n",
       "    </tr>\n",
       "    <tr>\n",
       "      <th>2</th>\n",
       "      <td>449</td>\n",
       "      <td>2.0</td>\n",
       "      <td>1290556800</td>\n",
       "      <td>19.521739</td>\n",
       "      <td>7</td>\n",
       "      <td>6</td>\n",
       "      <td>7.666667</td>\n",
       "    </tr>\n",
       "    <tr>\n",
       "      <th>3</th>\n",
       "      <td>64</td>\n",
       "      <td>5.0</td>\n",
       "      <td>1286236800</td>\n",
       "      <td>12.800000</td>\n",
       "      <td>2</td>\n",
       "      <td>0</td>\n",
       "      <td>7.200000</td>\n",
       "    </tr>\n",
       "    <tr>\n",
       "      <th>4</th>\n",
       "      <td>138</td>\n",
       "      <td>1.0</td>\n",
       "      <td>1291161600</td>\n",
       "      <td>138.000000</td>\n",
       "      <td>1</td>\n",
       "      <td>3</td>\n",
       "      <td>4.400000</td>\n",
       "    </tr>\n",
       "  </tbody>\n",
       "</table>\n",
       "</div>"
      ],
      "text/plain": [
       "   review_length  overall  unixReviewTime         wps  pos_no  neg_no  \\\n",
       "0            427      1.0      1290643200  427.000000       2       4   \n",
       "1            846      3.0      1283990400  423.000000      18       8   \n",
       "2            449      2.0      1290556800   19.521739       7       6   \n",
       "3             64      5.0      1286236800   12.800000       2       0   \n",
       "4            138      1.0      1291161600  138.000000       1       3   \n",
       "\n",
       "   linsear_write_formula  \n",
       "0              14.000000  \n",
       "1               8.666667  \n",
       "2               7.666667  \n",
       "3               7.200000  \n",
       "4               4.400000  "
      ]
     },
     "execution_count": 247,
     "metadata": {},
     "output_type": "execute_result"
    }
   ],
   "source": [
    "test_data.head()"
   ]
  },
  {
   "cell_type": "code",
   "execution_count": 253,
   "metadata": {},
   "outputs": [],
   "source": [
    "test_data = review_df[['review_length', 'overall']]\n",
    "test_data=test_data.join(text_df[['wps', 'pos_no', 'neg_no', 'linsear_write_formula']])"
   ]
  },
  {
   "cell_type": "code",
   "execution_count": 254,
   "metadata": {},
   "outputs": [
    {
     "data": {
      "text/html": [
       "<div>\n",
       "<style scoped>\n",
       "    .dataframe tbody tr th:only-of-type {\n",
       "        vertical-align: middle;\n",
       "    }\n",
       "\n",
       "    .dataframe tbody tr th {\n",
       "        vertical-align: top;\n",
       "    }\n",
       "\n",
       "    .dataframe thead th {\n",
       "        text-align: right;\n",
       "    }\n",
       "</style>\n",
       "<table border=\"1\" class=\"dataframe\">\n",
       "  <thead>\n",
       "    <tr style=\"text-align: right;\">\n",
       "      <th></th>\n",
       "      <th>review_length</th>\n",
       "      <th>overall</th>\n",
       "      <th>wps</th>\n",
       "      <th>pos_no</th>\n",
       "      <th>neg_no</th>\n",
       "      <th>linsear_write_formula</th>\n",
       "    </tr>\n",
       "  </thead>\n",
       "  <tbody>\n",
       "    <tr>\n",
       "      <th>0</th>\n",
       "      <td>427</td>\n",
       "      <td>1.0</td>\n",
       "      <td>427.000000</td>\n",
       "      <td>2</td>\n",
       "      <td>4</td>\n",
       "      <td>14.000000</td>\n",
       "    </tr>\n",
       "    <tr>\n",
       "      <th>1</th>\n",
       "      <td>846</td>\n",
       "      <td>3.0</td>\n",
       "      <td>423.000000</td>\n",
       "      <td>18</td>\n",
       "      <td>8</td>\n",
       "      <td>8.666667</td>\n",
       "    </tr>\n",
       "    <tr>\n",
       "      <th>2</th>\n",
       "      <td>449</td>\n",
       "      <td>2.0</td>\n",
       "      <td>19.521739</td>\n",
       "      <td>7</td>\n",
       "      <td>6</td>\n",
       "      <td>7.666667</td>\n",
       "    </tr>\n",
       "    <tr>\n",
       "      <th>3</th>\n",
       "      <td>64</td>\n",
       "      <td>5.0</td>\n",
       "      <td>12.800000</td>\n",
       "      <td>2</td>\n",
       "      <td>0</td>\n",
       "      <td>7.200000</td>\n",
       "    </tr>\n",
       "    <tr>\n",
       "      <th>4</th>\n",
       "      <td>138</td>\n",
       "      <td>1.0</td>\n",
       "      <td>138.000000</td>\n",
       "      <td>1</td>\n",
       "      <td>3</td>\n",
       "      <td>4.400000</td>\n",
       "    </tr>\n",
       "  </tbody>\n",
       "</table>\n",
       "</div>"
      ],
      "text/plain": [
       "   review_length  overall         wps  pos_no  neg_no  linsear_write_formula\n",
       "0            427      1.0  427.000000       2       4              14.000000\n",
       "1            846      3.0  423.000000      18       8               8.666667\n",
       "2            449      2.0   19.521739       7       6               7.666667\n",
       "3             64      5.0   12.800000       2       0               7.200000\n",
       "4            138      1.0  138.000000       1       3               4.400000"
      ]
     },
     "execution_count": 254,
     "metadata": {},
     "output_type": "execute_result"
    }
   ],
   "source": [
    "test_data.head()"
   ]
  },
  {
   "cell_type": "code",
   "execution_count": 255,
   "metadata": {},
   "outputs": [
    {
     "name": "stderr",
     "output_type": "stream",
     "text": [
      "C:\\Users\\Trishul\\Anaconda3\\lib\\site-packages\\sklearn\\preprocessing\\label.py:151: DeprecationWarning: The truth value of an empty array is ambiguous. Returning False, but in future this will result in an error. Use `array.size > 0` to check that an array is not empty.\n",
      "  if diff:\n"
     ]
    }
   ],
   "source": [
    "preds_test = xgb_cl_3.predict(test_data)"
   ]
  },
  {
   "cell_type": "code",
   "execution_count": 263,
   "metadata": {},
   "outputs": [
    {
     "name": "stderr",
     "output_type": "stream",
     "text": [
      "C:\\Users\\Trishul\\Anaconda3\\lib\\site-packages\\sklearn\\metrics\\classification.py:1135: UndefinedMetricWarning: Precision and F-score are ill-defined and being set to 0.0 in labels with no predicted samples.\n",
      "  'precision', 'predicted', average, warn_for)\n"
     ]
    },
    {
     "name": "stdout",
     "output_type": "stream",
     "text": [
      "             precision    recall  f1-score   support\n",
      "\n",
      "          0       0.29      0.82      0.43      8962\n",
      "          1       0.66      0.86      0.75     42988\n",
      "          2       0.00      0.00      0.00     29325\n",
      "\n",
      "avg / total       0.38      0.55      0.44     81275\n",
      "\n"
     ]
    }
   ],
   "source": [
    "print(classification_report(review_df['is_helpful'], preds_test))"
   ]
  },
  {
   "cell_type": "code",
   "execution_count": 261,
   "metadata": {},
   "outputs": [
    {
     "name": "stdout",
     "output_type": "stream",
     "text": [
      "[[ 7332  1630     0]\n",
      " [ 5841 37147     0]\n",
      " [12062 17263     0]]\n"
     ]
    }
   ],
   "source": [
    "print(confusion_matrix(review_df['is_helpful'], preds_test))"
   ]
  },
  {
   "cell_type": "code",
   "execution_count": 264,
   "metadata": {},
   "outputs": [
    {
     "name": "stderr",
     "output_type": "stream",
     "text": [
      "C:\\Users\\Trishul\\Anaconda3\\lib\\site-packages\\ipykernel_launcher.py:1: SettingWithCopyWarning: \n",
      "A value is trying to be set on a copy of a slice from a DataFrame.\n",
      "Try using .loc[row_indexer,col_indexer] = value instead\n",
      "\n",
      "See the caveats in the documentation: http://pandas.pydata.org/pandas-docs/stable/indexing.html#indexing-view-versus-copy\n",
      "  \"\"\"Entry point for launching an IPython kernel.\n"
     ]
    }
   ],
   "source": [
    "helper_df['help_pred_2'] = preds_test"
   ]
  },
  {
   "cell_type": "code",
   "execution_count": 265,
   "metadata": {
    "collapsed": true
   },
   "outputs": [],
   "source": [
    "helper_df.to_csv('helper_df.csv',index=False)"
   ]
  },
  {
   "cell_type": "code",
   "execution_count": 266,
   "metadata": {},
   "outputs": [
    {
     "data": {
      "text/html": [
       "<div>\n",
       "<style scoped>\n",
       "    .dataframe tbody tr th:only-of-type {\n",
       "        vertical-align: middle;\n",
       "    }\n",
       "\n",
       "    .dataframe tbody tr th {\n",
       "        vertical-align: top;\n",
       "    }\n",
       "\n",
       "    .dataframe thead th {\n",
       "        text-align: right;\n",
       "    }\n",
       "</style>\n",
       "<table border=\"1\" class=\"dataframe\">\n",
       "  <thead>\n",
       "    <tr style=\"text-align: right;\">\n",
       "      <th></th>\n",
       "      <th>reviewerID</th>\n",
       "      <th>asin</th>\n",
       "      <th>reviewText</th>\n",
       "      <th>overall</th>\n",
       "      <th>review_length</th>\n",
       "      <th>help_pred_1</th>\n",
       "      <th>help_pred_2</th>\n",
       "    </tr>\n",
       "  </thead>\n",
       "  <tbody>\n",
       "    <tr>\n",
       "      <th>0</th>\n",
       "      <td>AMO214LNFCEI4</td>\n",
       "      <td>0528881469</td>\n",
       "      <td>I'm a professional OTR truck driver, and I bou...</td>\n",
       "      <td>1.0</td>\n",
       "      <td>427</td>\n",
       "      <td>0</td>\n",
       "      <td>0</td>\n",
       "    </tr>\n",
       "    <tr>\n",
       "      <th>1</th>\n",
       "      <td>A3N7T0DY83Y4IG</td>\n",
       "      <td>0528881469</td>\n",
       "      <td>Well, what can I say.  I've had this unit in m...</td>\n",
       "      <td>3.0</td>\n",
       "      <td>846</td>\n",
       "      <td>1</td>\n",
       "      <td>1</td>\n",
       "    </tr>\n",
       "    <tr>\n",
       "      <th>2</th>\n",
       "      <td>A1H8PY3QHMQQA0</td>\n",
       "      <td>0528881469</td>\n",
       "      <td>Not going to write a long review, even thought...</td>\n",
       "      <td>2.0</td>\n",
       "      <td>449</td>\n",
       "      <td>0</td>\n",
       "      <td>0</td>\n",
       "    </tr>\n",
       "    <tr>\n",
       "      <th>3</th>\n",
       "      <td>A3QH8VQDE7HZCR</td>\n",
       "      <td>0972683275</td>\n",
       "      <td>Quality was excellent. Instructions were clear...</td>\n",
       "      <td>5.0</td>\n",
       "      <td>64</td>\n",
       "      <td>1</td>\n",
       "      <td>1</td>\n",
       "    </tr>\n",
       "    <tr>\n",
       "      <th>4</th>\n",
       "      <td>A38FGQVJM18OWV</td>\n",
       "      <td>0972683275</td>\n",
       "      <td>I checked around Amazon as well as some other ...</td>\n",
       "      <td>1.0</td>\n",
       "      <td>138</td>\n",
       "      <td>0</td>\n",
       "      <td>0</td>\n",
       "    </tr>\n",
       "  </tbody>\n",
       "</table>\n",
       "</div>"
      ],
      "text/plain": [
       "       reviewerID        asin  \\\n",
       "0   AMO214LNFCEI4  0528881469   \n",
       "1  A3N7T0DY83Y4IG  0528881469   \n",
       "2  A1H8PY3QHMQQA0  0528881469   \n",
       "3  A3QH8VQDE7HZCR  0972683275   \n",
       "4  A38FGQVJM18OWV  0972683275   \n",
       "\n",
       "                                          reviewText  overall  review_length  \\\n",
       "0  I'm a professional OTR truck driver, and I bou...      1.0            427   \n",
       "1  Well, what can I say.  I've had this unit in m...      3.0            846   \n",
       "2  Not going to write a long review, even thought...      2.0            449   \n",
       "3  Quality was excellent. Instructions were clear...      5.0             64   \n",
       "4  I checked around Amazon as well as some other ...      1.0            138   \n",
       "\n",
       "   help_pred_1  help_pred_2  \n",
       "0            0            0  \n",
       "1            1            1  \n",
       "2            0            0  \n",
       "3            1            1  \n",
       "4            0            0  "
      ]
     },
     "execution_count": 266,
     "metadata": {},
     "output_type": "execute_result"
    }
   ],
   "source": [
    "helper_df.head()"
   ]
  },
  {
   "cell_type": "code",
   "execution_count": null,
   "metadata": {
    "collapsed": true
   },
   "outputs": [],
   "source": []
  },
  {
   "cell_type": "code",
   "execution_count": null,
   "metadata": {
    "collapsed": true
   },
   "outputs": [],
   "source": []
  }
 ],
 "metadata": {
  "kernelspec": {
   "display_name": "Python 3",
   "language": "python",
   "name": "python3"
  },
  "language_info": {
   "codemirror_mode": {
    "name": "ipython",
    "version": 3
   },
   "file_extension": ".py",
   "mimetype": "text/x-python",
   "name": "python",
   "nbconvert_exporter": "python",
   "pygments_lexer": "ipython3",
   "version": "3.6.1"
  }
 },
 "nbformat": 4,
 "nbformat_minor": 2
}
