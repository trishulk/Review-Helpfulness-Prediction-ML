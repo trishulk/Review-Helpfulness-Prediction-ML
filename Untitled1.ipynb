{
 "cells": [
  {
   "cell_type": "code",
   "execution_count": 1,
   "metadata": {
    "collapsed": true
   },
   "outputs": [],
   "source": [
    "import pandas as pd\n",
    "import seaborn as sns\n",
    "import matplotlib.pyplot as plt\n",
    "%matplotlib inline\n",
    "import numpy as np\n",
    "import gzip"
   ]
  },
  {
   "cell_type": "code",
   "execution_count": 2,
   "metadata": {
    "collapsed": true
   },
   "outputs": [],
   "source": [
    "\n",
    "\n",
    "def parse(path):\n",
    "  g = gzip.open(path, 'rb')\n",
    "  for l in g:\n",
    "    yield eval(l)\n",
    "\n",
    "def getDF(path):\n",
    "  i = 0\n",
    "  df = {}\n",
    "  for d in parse(path):\n",
    "    df[i] = d\n",
    "    i += 1\n",
    "  return pd.DataFrame.from_dict(df, orient='index')\n",
    "\n"
   ]
  },
  {
   "cell_type": "code",
   "execution_count": 3,
   "metadata": {
    "collapsed": true
   },
   "outputs": [],
   "source": [
    "df = getDF('reviews_Electronics_5.json.gz')"
   ]
  },
  {
   "cell_type": "code",
   "execution_count": 4,
   "metadata": {
    "scrolled": true
   },
   "outputs": [
    {
     "data": {
      "text/html": [
       "<div>\n",
       "<style>\n",
       "    .dataframe thead tr:only-child th {\n",
       "        text-align: right;\n",
       "    }\n",
       "\n",
       "    .dataframe thead th {\n",
       "        text-align: left;\n",
       "    }\n",
       "\n",
       "    .dataframe tbody tr th {\n",
       "        vertical-align: top;\n",
       "    }\n",
       "</style>\n",
       "<table border=\"1\" class=\"dataframe\">\n",
       "  <thead>\n",
       "    <tr style=\"text-align: right;\">\n",
       "      <th></th>\n",
       "      <th>reviewerID</th>\n",
       "      <th>asin</th>\n",
       "      <th>reviewerName</th>\n",
       "      <th>helpful</th>\n",
       "      <th>reviewText</th>\n",
       "      <th>overall</th>\n",
       "      <th>summary</th>\n",
       "      <th>unixReviewTime</th>\n",
       "      <th>reviewTime</th>\n",
       "    </tr>\n",
       "  </thead>\n",
       "  <tbody>\n",
       "    <tr>\n",
       "      <th>0</th>\n",
       "      <td>AO94DHGC771SJ</td>\n",
       "      <td>0528881469</td>\n",
       "      <td>amazdnu</td>\n",
       "      <td>[0, 0]</td>\n",
       "      <td>We got this GPS for my husband who is an (OTR)...</td>\n",
       "      <td>5.0</td>\n",
       "      <td>Gotta have GPS!</td>\n",
       "      <td>1370131200</td>\n",
       "      <td>06 2, 2013</td>\n",
       "    </tr>\n",
       "    <tr>\n",
       "      <th>1</th>\n",
       "      <td>AMO214LNFCEI4</td>\n",
       "      <td>0528881469</td>\n",
       "      <td>Amazon Customer</td>\n",
       "      <td>[12, 15]</td>\n",
       "      <td>I'm a professional OTR truck driver, and I bou...</td>\n",
       "      <td>1.0</td>\n",
       "      <td>Very Disappointed</td>\n",
       "      <td>1290643200</td>\n",
       "      <td>11 25, 2010</td>\n",
       "    </tr>\n",
       "    <tr>\n",
       "      <th>2</th>\n",
       "      <td>A3N7T0DY83Y4IG</td>\n",
       "      <td>0528881469</td>\n",
       "      <td>C. A. Freeman</td>\n",
       "      <td>[43, 45]</td>\n",
       "      <td>Well, what can I say.  I've had this unit in m...</td>\n",
       "      <td>3.0</td>\n",
       "      <td>1st impression</td>\n",
       "      <td>1283990400</td>\n",
       "      <td>09 9, 2010</td>\n",
       "    </tr>\n",
       "    <tr>\n",
       "      <th>3</th>\n",
       "      <td>A1H8PY3QHMQQA0</td>\n",
       "      <td>0528881469</td>\n",
       "      <td>Dave M. Shaw \"mack dave\"</td>\n",
       "      <td>[9, 10]</td>\n",
       "      <td>Not going to write a long review, even thought...</td>\n",
       "      <td>2.0</td>\n",
       "      <td>Great grafics, POOR GPS</td>\n",
       "      <td>1290556800</td>\n",
       "      <td>11 24, 2010</td>\n",
       "    </tr>\n",
       "    <tr>\n",
       "      <th>4</th>\n",
       "      <td>A24EV6RXELQZ63</td>\n",
       "      <td>0528881469</td>\n",
       "      <td>Wayne Smith</td>\n",
       "      <td>[0, 0]</td>\n",
       "      <td>I've had mine for a year and here's what we go...</td>\n",
       "      <td>1.0</td>\n",
       "      <td>Major issues, only excuses for support</td>\n",
       "      <td>1317254400</td>\n",
       "      <td>09 29, 2011</td>\n",
       "    </tr>\n",
       "    <tr>\n",
       "      <th>5</th>\n",
       "      <td>A2JXAZZI9PHK9Z</td>\n",
       "      <td>0594451647</td>\n",
       "      <td>Billy G. Noland \"Bill Noland\"</td>\n",
       "      <td>[3, 3]</td>\n",
       "      <td>I am using this with a Nook HD+. It works as d...</td>\n",
       "      <td>5.0</td>\n",
       "      <td>HDMI Nook adapter cable</td>\n",
       "      <td>1388707200</td>\n",
       "      <td>01 3, 2014</td>\n",
       "    </tr>\n",
       "    <tr>\n",
       "      <th>6</th>\n",
       "      <td>A2P5U7BDKKT7FW</td>\n",
       "      <td>0594451647</td>\n",
       "      <td>Christian</td>\n",
       "      <td>[0, 0]</td>\n",
       "      <td>The cable is very wobbly and sometimes disconn...</td>\n",
       "      <td>2.0</td>\n",
       "      <td>Cheap proprietary scam</td>\n",
       "      <td>1398556800</td>\n",
       "      <td>04 27, 2014</td>\n",
       "    </tr>\n",
       "    <tr>\n",
       "      <th>7</th>\n",
       "      <td>AAZ084UMH8VZ2</td>\n",
       "      <td>0594451647</td>\n",
       "      <td>D. L. Brown \"A Knower Of Good Things\"</td>\n",
       "      <td>[0, 0]</td>\n",
       "      <td>This adaptor is real easy to setup and use rig...</td>\n",
       "      <td>5.0</td>\n",
       "      <td>A Perfdect Nook HD+ hook up</td>\n",
       "      <td>1399161600</td>\n",
       "      <td>05 4, 2014</td>\n",
       "    </tr>\n",
       "    <tr>\n",
       "      <th>8</th>\n",
       "      <td>AEZ3CR6BKIROJ</td>\n",
       "      <td>0594451647</td>\n",
       "      <td>Mark Dietter</td>\n",
       "      <td>[0, 0]</td>\n",
       "      <td>This adapter easily connects my Nook HD 7&amp;#34;...</td>\n",
       "      <td>4.0</td>\n",
       "      <td>A nice easy to use accessory.</td>\n",
       "      <td>1405036800</td>\n",
       "      <td>07 11, 2014</td>\n",
       "    </tr>\n",
       "    <tr>\n",
       "      <th>9</th>\n",
       "      <td>A3BY5KCNQZXV5U</td>\n",
       "      <td>0594451647</td>\n",
       "      <td>Matenai</td>\n",
       "      <td>[3, 3]</td>\n",
       "      <td>This product really works great but I found th...</td>\n",
       "      <td>5.0</td>\n",
       "      <td>This works great but read the details...</td>\n",
       "      <td>1390176000</td>\n",
       "      <td>01 20, 2014</td>\n",
       "    </tr>\n",
       "    <tr>\n",
       "      <th>10</th>\n",
       "      <td>A7S2B0I67WNWB</td>\n",
       "      <td>0594481813</td>\n",
       "      <td>AllyMG</td>\n",
       "      <td>[2, 2]</td>\n",
       "      <td>This item is just as was described in the orig...</td>\n",
       "      <td>4.0</td>\n",
       "      <td>As expected</td>\n",
       "      <td>1397606400</td>\n",
       "      <td>04 16, 2014</td>\n",
       "    </tr>\n",
       "    <tr>\n",
       "      <th>11</th>\n",
       "      <td>A3HICVLF4PFFMN</td>\n",
       "      <td>0594481813</td>\n",
       "      <td>Amazon Customer</td>\n",
       "      <td>[0, 0]</td>\n",
       "      <td>bought for a spare for my 9&amp;#34; Nook HD and i...</td>\n",
       "      <td>5.0</td>\n",
       "      <td>great fit</td>\n",
       "      <td>1399248000</td>\n",
       "      <td>05 5, 2014</td>\n",
       "    </tr>\n",
       "    <tr>\n",
       "      <th>12</th>\n",
       "      <td>ANSKSPEEAKY7S</td>\n",
       "      <td>0594481813</td>\n",
       "      <td>Gena</td>\n",
       "      <td>[1, 1]</td>\n",
       "      <td>My son crewed my HD charger cord so I needed a...</td>\n",
       "      <td>5.0</td>\n",
       "      <td>Works Great</td>\n",
       "      <td>1372032000</td>\n",
       "      <td>06 24, 2013</td>\n",
       "    </tr>\n",
       "    <tr>\n",
       "      <th>13</th>\n",
       "      <td>A2QBZA4S1ROX9Q</td>\n",
       "      <td>0594481813</td>\n",
       "      <td>Jake</td>\n",
       "      <td>[0, 1]</td>\n",
       "      <td>This is a good beefy 2 amp charger, but it cov...</td>\n",
       "      <td>3.0</td>\n",
       "      <td>It Works</td>\n",
       "      <td>1369440000</td>\n",
       "      <td>05 25, 2013</td>\n",
       "    </tr>\n",
       "    <tr>\n",
       "      <th>14</th>\n",
       "      <td>ANY6JUFM0GH8U</td>\n",
       "      <td>0594481813</td>\n",
       "      <td>J. Clement</td>\n",
       "      <td>[2, 2]</td>\n",
       "      <td>I lost my B&amp;N original cable.  I looked around...</td>\n",
       "      <td>5.0</td>\n",
       "      <td>Great replacement for original power cable</td>\n",
       "      <td>1394323200</td>\n",
       "      <td>03 9, 2014</td>\n",
       "    </tr>\n",
       "    <tr>\n",
       "      <th>15</th>\n",
       "      <td>AT09WGFUM934H</td>\n",
       "      <td>0594481813</td>\n",
       "      <td>John</td>\n",
       "      <td>[0, 0]</td>\n",
       "      <td>It does 2A and charges a DEAD Nook in a few ho...</td>\n",
       "      <td>3.0</td>\n",
       "      <td>This is the oem charger you get with the nook hd+</td>\n",
       "      <td>1377907200</td>\n",
       "      <td>08 31, 2013</td>\n",
       "    </tr>\n",
       "    <tr>\n",
       "      <th>16</th>\n",
       "      <td>AGAKHE014LQFU</td>\n",
       "      <td>0594481813</td>\n",
       "      <td>Nicodimus</td>\n",
       "      <td>[3, 5]</td>\n",
       "      <td>Go to Target or Barnes and Noble instead, and ...</td>\n",
       "      <td>3.0</td>\n",
       "      <td>$45 for a power cord? Good luck with that.</td>\n",
       "      <td>1379462400</td>\n",
       "      <td>09 18, 2013</td>\n",
       "    </tr>\n",
       "    <tr>\n",
       "      <th>17</th>\n",
       "      <td>A1S6B5QFWGVL5U</td>\n",
       "      <td>0594481813</td>\n",
       "      <td>T. Vaughan</td>\n",
       "      <td>[2, 2]</td>\n",
       "      <td>Works well, a little pricey I think for a char...</td>\n",
       "      <td>4.0</td>\n",
       "      <td>Good replacement</td>\n",
       "      <td>1372291200</td>\n",
       "      <td>06 27, 2013</td>\n",
       "    </tr>\n",
       "    <tr>\n",
       "      <th>18</th>\n",
       "      <td>A20XXTXWF2TCPY</td>\n",
       "      <td>0972683275</td>\n",
       "      <td>NaN</td>\n",
       "      <td>[0, 0]</td>\n",
       "      <td>This is a great buy, compared to a $60 or more...</td>\n",
       "      <td>5.0</td>\n",
       "      <td>Excelant mount for Tv. Would buy more if I nee...</td>\n",
       "      <td>1405123200</td>\n",
       "      <td>07 12, 2014</td>\n",
       "    </tr>\n",
       "    <tr>\n",
       "      <th>19</th>\n",
       "      <td>A2IDCSC6NVONIZ</td>\n",
       "      <td>0972683275</td>\n",
       "      <td>2Cents!</td>\n",
       "      <td>[1, 1]</td>\n",
       "      <td>This mount is just what I needed.  It is stron...</td>\n",
       "      <td>5.0</td>\n",
       "      <td>Perfect</td>\n",
       "      <td>1367280000</td>\n",
       "      <td>04 30, 2013</td>\n",
       "    </tr>\n",
       "    <tr>\n",
       "      <th>20</th>\n",
       "      <td>A1EDI0X3GI1SK7</td>\n",
       "      <td>0972683275</td>\n",
       "      <td>AGW</td>\n",
       "      <td>[0, 1]</td>\n",
       "      <td>Great deal, easy to mount and it appears to be...</td>\n",
       "      <td>5.0</td>\n",
       "      <td>32 In TV Mount</td>\n",
       "      <td>1323993600</td>\n",
       "      <td>12 16, 2011</td>\n",
       "    </tr>\n",
       "    <tr>\n",
       "      <th>21</th>\n",
       "      <td>A3BMUBUC1N77U8</td>\n",
       "      <td>0972683275</td>\n",
       "      <td>ahoffoss</td>\n",
       "      <td>[0, 0]</td>\n",
       "      <td>This mount works really well once you get it u...</td>\n",
       "      <td>4.0</td>\n",
       "      <td>Pretty simple, but definitely good!</td>\n",
       "      <td>1385164800</td>\n",
       "      <td>11 23, 2013</td>\n",
       "    </tr>\n",
       "    <tr>\n",
       "      <th>22</th>\n",
       "      <td>AVRFGGCCCR6QU</td>\n",
       "      <td>0972683275</td>\n",
       "      <td>Alberto Dieguez \"premiere purchaser of random...</td>\n",
       "      <td>[3, 4]</td>\n",
       "      <td>This wall mount does everything it's supposed ...</td>\n",
       "      <td>4.0</td>\n",
       "      <td>Fairly good wall mount</td>\n",
       "      <td>1283126400</td>\n",
       "      <td>08 30, 2010</td>\n",
       "    </tr>\n",
       "    <tr>\n",
       "      <th>23</th>\n",
       "      <td>A3UOSOCRKS3WIH</td>\n",
       "      <td>0972683275</td>\n",
       "      <td>Allen Coberly</td>\n",
       "      <td>[0, 0]</td>\n",
       "      <td>for the price you just cant beat this item. I ...</td>\n",
       "      <td>5.0</td>\n",
       "      <td>Cant Beat it!</td>\n",
       "      <td>1368316800</td>\n",
       "      <td>05 12, 2013</td>\n",
       "    </tr>\n",
       "    <tr>\n",
       "      <th>24</th>\n",
       "      <td>A371ZZ95ZQEIZV</td>\n",
       "      <td>0972683275</td>\n",
       "      <td>Amazon Customer</td>\n",
       "      <td>[0, 0]</td>\n",
       "      <td>I received the mount, which was well packaged ...</td>\n",
       "      <td>4.0</td>\n",
       "      <td>Sturdy Mount, good customer service</td>\n",
       "      <td>1389052800</td>\n",
       "      <td>01 7, 2014</td>\n",
       "    </tr>\n",
       "  </tbody>\n",
       "</table>\n",
       "</div>"
      ],
      "text/plain": [
       "        reviewerID        asin  \\\n",
       "0    AO94DHGC771SJ  0528881469   \n",
       "1    AMO214LNFCEI4  0528881469   \n",
       "2   A3N7T0DY83Y4IG  0528881469   \n",
       "3   A1H8PY3QHMQQA0  0528881469   \n",
       "4   A24EV6RXELQZ63  0528881469   \n",
       "5   A2JXAZZI9PHK9Z  0594451647   \n",
       "6   A2P5U7BDKKT7FW  0594451647   \n",
       "7    AAZ084UMH8VZ2  0594451647   \n",
       "8    AEZ3CR6BKIROJ  0594451647   \n",
       "9   A3BY5KCNQZXV5U  0594451647   \n",
       "10   A7S2B0I67WNWB  0594481813   \n",
       "11  A3HICVLF4PFFMN  0594481813   \n",
       "12   ANSKSPEEAKY7S  0594481813   \n",
       "13  A2QBZA4S1ROX9Q  0594481813   \n",
       "14   ANY6JUFM0GH8U  0594481813   \n",
       "15   AT09WGFUM934H  0594481813   \n",
       "16   AGAKHE014LQFU  0594481813   \n",
       "17  A1S6B5QFWGVL5U  0594481813   \n",
       "18  A20XXTXWF2TCPY  0972683275   \n",
       "19  A2IDCSC6NVONIZ  0972683275   \n",
       "20  A1EDI0X3GI1SK7  0972683275   \n",
       "21  A3BMUBUC1N77U8  0972683275   \n",
       "22   AVRFGGCCCR6QU  0972683275   \n",
       "23  A3UOSOCRKS3WIH  0972683275   \n",
       "24  A371ZZ95ZQEIZV  0972683275   \n",
       "\n",
       "                                        reviewerName   helpful  \\\n",
       "0                                            amazdnu    [0, 0]   \n",
       "1                                    Amazon Customer  [12, 15]   \n",
       "2                                      C. A. Freeman  [43, 45]   \n",
       "3                           Dave M. Shaw \"mack dave\"   [9, 10]   \n",
       "4                                        Wayne Smith    [0, 0]   \n",
       "5                      Billy G. Noland \"Bill Noland\"    [3, 3]   \n",
       "6                                          Christian    [0, 0]   \n",
       "7              D. L. Brown \"A Knower Of Good Things\"    [0, 0]   \n",
       "8                                       Mark Dietter    [0, 0]   \n",
       "9                                            Matenai    [3, 3]   \n",
       "10                                            AllyMG    [2, 2]   \n",
       "11                                   Amazon Customer    [0, 0]   \n",
       "12                                              Gena    [1, 1]   \n",
       "13                                              Jake    [0, 1]   \n",
       "14                                        J. Clement    [2, 2]   \n",
       "15                                              John    [0, 0]   \n",
       "16                                         Nicodimus    [3, 5]   \n",
       "17                                        T. Vaughan    [2, 2]   \n",
       "18                                               NaN    [0, 0]   \n",
       "19                                           2Cents!    [1, 1]   \n",
       "20                                               AGW    [0, 1]   \n",
       "21                                          ahoffoss    [0, 0]   \n",
       "22  Alberto Dieguez \"premiere purchaser of random...    [3, 4]   \n",
       "23                                     Allen Coberly    [0, 0]   \n",
       "24                                   Amazon Customer    [0, 0]   \n",
       "\n",
       "                                           reviewText  overall  \\\n",
       "0   We got this GPS for my husband who is an (OTR)...      5.0   \n",
       "1   I'm a professional OTR truck driver, and I bou...      1.0   \n",
       "2   Well, what can I say.  I've had this unit in m...      3.0   \n",
       "3   Not going to write a long review, even thought...      2.0   \n",
       "4   I've had mine for a year and here's what we go...      1.0   \n",
       "5   I am using this with a Nook HD+. It works as d...      5.0   \n",
       "6   The cable is very wobbly and sometimes disconn...      2.0   \n",
       "7   This adaptor is real easy to setup and use rig...      5.0   \n",
       "8   This adapter easily connects my Nook HD 7&#34;...      4.0   \n",
       "9   This product really works great but I found th...      5.0   \n",
       "10  This item is just as was described in the orig...      4.0   \n",
       "11  bought for a spare for my 9&#34; Nook HD and i...      5.0   \n",
       "12  My son crewed my HD charger cord so I needed a...      5.0   \n",
       "13  This is a good beefy 2 amp charger, but it cov...      3.0   \n",
       "14  I lost my B&N original cable.  I looked around...      5.0   \n",
       "15  It does 2A and charges a DEAD Nook in a few ho...      3.0   \n",
       "16  Go to Target or Barnes and Noble instead, and ...      3.0   \n",
       "17  Works well, a little pricey I think for a char...      4.0   \n",
       "18  This is a great buy, compared to a $60 or more...      5.0   \n",
       "19  This mount is just what I needed.  It is stron...      5.0   \n",
       "20  Great deal, easy to mount and it appears to be...      5.0   \n",
       "21  This mount works really well once you get it u...      4.0   \n",
       "22  This wall mount does everything it's supposed ...      4.0   \n",
       "23  for the price you just cant beat this item. I ...      5.0   \n",
       "24  I received the mount, which was well packaged ...      4.0   \n",
       "\n",
       "                                              summary  unixReviewTime  \\\n",
       "0                                     Gotta have GPS!      1370131200   \n",
       "1                                   Very Disappointed      1290643200   \n",
       "2                                      1st impression      1283990400   \n",
       "3                             Great grafics, POOR GPS      1290556800   \n",
       "4              Major issues, only excuses for support      1317254400   \n",
       "5                             HDMI Nook adapter cable      1388707200   \n",
       "6                              Cheap proprietary scam      1398556800   \n",
       "7                         A Perfdect Nook HD+ hook up      1399161600   \n",
       "8                       A nice easy to use accessory.      1405036800   \n",
       "9            This works great but read the details...      1390176000   \n",
       "10                                        As expected      1397606400   \n",
       "11                                          great fit      1399248000   \n",
       "12                                        Works Great      1372032000   \n",
       "13                                           It Works      1369440000   \n",
       "14         Great replacement for original power cable      1394323200   \n",
       "15  This is the oem charger you get with the nook hd+      1377907200   \n",
       "16         $45 for a power cord? Good luck with that.      1379462400   \n",
       "17                                   Good replacement      1372291200   \n",
       "18  Excelant mount for Tv. Would buy more if I nee...      1405123200   \n",
       "19                                            Perfect      1367280000   \n",
       "20                                     32 In TV Mount      1323993600   \n",
       "21                Pretty simple, but definitely good!      1385164800   \n",
       "22                             Fairly good wall mount      1283126400   \n",
       "23                                      Cant Beat it!      1368316800   \n",
       "24                Sturdy Mount, good customer service      1389052800   \n",
       "\n",
       "     reviewTime  \n",
       "0    06 2, 2013  \n",
       "1   11 25, 2010  \n",
       "2    09 9, 2010  \n",
       "3   11 24, 2010  \n",
       "4   09 29, 2011  \n",
       "5    01 3, 2014  \n",
       "6   04 27, 2014  \n",
       "7    05 4, 2014  \n",
       "8   07 11, 2014  \n",
       "9   01 20, 2014  \n",
       "10  04 16, 2014  \n",
       "11   05 5, 2014  \n",
       "12  06 24, 2013  \n",
       "13  05 25, 2013  \n",
       "14   03 9, 2014  \n",
       "15  08 31, 2013  \n",
       "16  09 18, 2013  \n",
       "17  06 27, 2013  \n",
       "18  07 12, 2014  \n",
       "19  04 30, 2013  \n",
       "20  12 16, 2011  \n",
       "21  11 23, 2013  \n",
       "22  08 30, 2010  \n",
       "23  05 12, 2013  \n",
       "24   01 7, 2014  "
      ]
     },
     "execution_count": 4,
     "metadata": {},
     "output_type": "execute_result"
    }
   ],
   "source": [
    "df.head(25)"
   ]
  },
  {
   "cell_type": "code",
   "execution_count": null,
   "metadata": {
    "collapsed": true
   },
   "outputs": [],
   "source": []
  },
  {
   "cell_type": "code",
   "execution_count": 5,
   "metadata": {
    "collapsed": true
   },
   "outputs": [],
   "source": [
    "def num_votes(arr) :\n",
    "    return arr[1]"
   ]
  },
  {
   "cell_type": "code",
   "execution_count": 6,
   "metadata": {},
   "outputs": [
    {
     "name": "stdout",
     "output_type": "stream",
     "text": [
      "Total No. of Reviews: 1689188\n"
     ]
    }
   ],
   "source": [
    "#--TOTAL NO OF RECORDS/REVIEWS IN THE DATASET ----------#\n",
    "\n",
    "print(\"Total No. of Reviews: {}\".format(len(df)))"
   ]
  },
  {
   "cell_type": "code",
   "execution_count": 10,
   "metadata": {},
   "outputs": [
    {
     "name": "stdout",
     "output_type": "stream",
     "text": [
      "No of Products : 63001\n"
     ]
    }
   ],
   "source": [
    "print(\"No of Products : {}\".format(df['asin'].nunique()))"
   ]
  },
  {
   "cell_type": "code",
   "execution_count": 11,
   "metadata": {
    "scrolled": true
   },
   "outputs": [
    {
     "name": "stdout",
     "output_type": "stream",
     "text": [
      "No of Users : 192403\n"
     ]
    }
   ],
   "source": [
    "print(\"No of Users : {}\".format(df['reviewerID'].nunique()))"
   ]
  },
  {
   "cell_type": "code",
   "execution_count": 7,
   "metadata": {
    "collapsed": true
   },
   "outputs": [],
   "source": [
    "#############################################################\n",
    "#--------MAJOR PARAMETERS FOR THE DATASET ------------------#\n",
    "MIN_VOTES = 10\n",
    "\n",
    "\n",
    "#############################################################"
   ]
  },
  {
   "cell_type": "code",
   "execution_count": 13,
   "metadata": {},
   "outputs": [
    {
     "name": "stdout",
     "output_type": "stream",
     "text": [
      "No of Reviews > 10 Votes: 107502\n"
     ]
    }
   ],
   "source": [
    "print(\"No of Reviews > {} Votes: {}\".format(MIN_VOTES,len(df[df['helpful'].apply(num_votes) >= MIN_VOTES])))\n"
   ]
  },
  {
   "cell_type": "code",
   "execution_count": 8,
   "metadata": {
    "collapsed": true
   },
   "outputs": [],
   "source": [
    "df2 = df[df['helpful'].apply(num_votes) >= MIN_VOTES]\n"
   ]
  },
  {
   "cell_type": "code",
   "execution_count": 9,
   "metadata": {
    "scrolled": true
   },
   "outputs": [
    {
     "name": "stdout",
     "output_type": "stream",
     "text": [
      "No of Products : 32799\n",
      "No of Users : 54101\n"
     ]
    }
   ],
   "source": [
    "print(\"No of Products : {}\".format(df2['asin'].nunique()))\n",
    "print(\"No of Users : {}\".format(df2['reviewerID'].nunique()))"
   ]
  },
  {
   "cell_type": "code",
   "execution_count": 10,
   "metadata": {},
   "outputs": [
    {
     "data": {
      "text/html": [
       "<div>\n",
       "<style>\n",
       "    .dataframe thead tr:only-child th {\n",
       "        text-align: right;\n",
       "    }\n",
       "\n",
       "    .dataframe thead th {\n",
       "        text-align: left;\n",
       "    }\n",
       "\n",
       "    .dataframe tbody tr th {\n",
       "        vertical-align: top;\n",
       "    }\n",
       "</style>\n",
       "<table border=\"1\" class=\"dataframe\">\n",
       "  <thead>\n",
       "    <tr style=\"text-align: right;\">\n",
       "      <th></th>\n",
       "      <th>reviewerID</th>\n",
       "      <th>asin</th>\n",
       "      <th>reviewerName</th>\n",
       "      <th>helpful</th>\n",
       "      <th>reviewText</th>\n",
       "      <th>overall</th>\n",
       "      <th>summary</th>\n",
       "      <th>unixReviewTime</th>\n",
       "      <th>reviewTime</th>\n",
       "    </tr>\n",
       "  </thead>\n",
       "  <tbody>\n",
       "    <tr>\n",
       "      <th>1</th>\n",
       "      <td>AMO214LNFCEI4</td>\n",
       "      <td>0528881469</td>\n",
       "      <td>Amazon Customer</td>\n",
       "      <td>[12, 15]</td>\n",
       "      <td>I'm a professional OTR truck driver, and I bou...</td>\n",
       "      <td>1.0</td>\n",
       "      <td>Very Disappointed</td>\n",
       "      <td>1290643200</td>\n",
       "      <td>11 25, 2010</td>\n",
       "    </tr>\n",
       "    <tr>\n",
       "      <th>2</th>\n",
       "      <td>A3N7T0DY83Y4IG</td>\n",
       "      <td>0528881469</td>\n",
       "      <td>C. A. Freeman</td>\n",
       "      <td>[43, 45]</td>\n",
       "      <td>Well, what can I say.  I've had this unit in m...</td>\n",
       "      <td>3.0</td>\n",
       "      <td>1st impression</td>\n",
       "      <td>1283990400</td>\n",
       "      <td>09 9, 2010</td>\n",
       "    </tr>\n",
       "    <tr>\n",
       "      <th>3</th>\n",
       "      <td>A1H8PY3QHMQQA0</td>\n",
       "      <td>0528881469</td>\n",
       "      <td>Dave M. Shaw \"mack dave\"</td>\n",
       "      <td>[9, 10]</td>\n",
       "      <td>Not going to write a long review, even thought...</td>\n",
       "      <td>2.0</td>\n",
       "      <td>Great grafics, POOR GPS</td>\n",
       "      <td>1290556800</td>\n",
       "      <td>11 24, 2010</td>\n",
       "    </tr>\n",
       "    <tr>\n",
       "      <th>56</th>\n",
       "      <td>A3QH8VQDE7HZCR</td>\n",
       "      <td>0972683275</td>\n",
       "      <td>costaricachris</td>\n",
       "      <td>[15, 19]</td>\n",
       "      <td>Quality was excellent. Instructions were clear...</td>\n",
       "      <td>5.0</td>\n",
       "      <td>Real value for the money</td>\n",
       "      <td>1286236800</td>\n",
       "      <td>10 5, 2010</td>\n",
       "    </tr>\n",
       "    <tr>\n",
       "      <th>82</th>\n",
       "      <td>A38FGQVJM18OWV</td>\n",
       "      <td>0972683275</td>\n",
       "      <td>George S. Mitchell \"gsmitchell\"</td>\n",
       "      <td>[8, 18]</td>\n",
       "      <td>I checked around Amazon as well as some other ...</td>\n",
       "      <td>1.0</td>\n",
       "      <td>What a piece of junk!</td>\n",
       "      <td>1291161600</td>\n",
       "      <td>12 1, 2010</td>\n",
       "    </tr>\n",
       "  </tbody>\n",
       "</table>\n",
       "</div>"
      ],
      "text/plain": [
       "        reviewerID        asin                     reviewerName   helpful  \\\n",
       "1    AMO214LNFCEI4  0528881469                  Amazon Customer  [12, 15]   \n",
       "2   A3N7T0DY83Y4IG  0528881469                    C. A. Freeman  [43, 45]   \n",
       "3   A1H8PY3QHMQQA0  0528881469         Dave M. Shaw \"mack dave\"   [9, 10]   \n",
       "56  A3QH8VQDE7HZCR  0972683275                   costaricachris  [15, 19]   \n",
       "82  A38FGQVJM18OWV  0972683275  George S. Mitchell \"gsmitchell\"   [8, 18]   \n",
       "\n",
       "                                           reviewText  overall  \\\n",
       "1   I'm a professional OTR truck driver, and I bou...      1.0   \n",
       "2   Well, what can I say.  I've had this unit in m...      3.0   \n",
       "3   Not going to write a long review, even thought...      2.0   \n",
       "56  Quality was excellent. Instructions were clear...      5.0   \n",
       "82  I checked around Amazon as well as some other ...      1.0   \n",
       "\n",
       "                     summary  unixReviewTime   reviewTime  \n",
       "1          Very Disappointed      1290643200  11 25, 2010  \n",
       "2             1st impression      1283990400   09 9, 2010  \n",
       "3    Great grafics, POOR GPS      1290556800  11 24, 2010  \n",
       "56  Real value for the money      1286236800   10 5, 2010  \n",
       "82     What a piece of junk!      1291161600   12 1, 2010  "
      ]
     },
     "execution_count": 10,
     "metadata": {},
     "output_type": "execute_result"
    }
   ],
   "source": [
    "df2.head()"
   ]
  },
  {
   "cell_type": "code",
   "execution_count": 11,
   "metadata": {
    "collapsed": true
   },
   "outputs": [],
   "source": [
    "def helpfulness_score(arr) : \n",
    "    if arr[1] >0 :\n",
    "        return arr[0]/arr[1]\n",
    "    return 0"
   ]
  },
  {
   "cell_type": "code",
   "execution_count": 12,
   "metadata": {},
   "outputs": [
    {
     "data": {
      "text/plain": [
       "0.5"
      ]
     },
     "execution_count": 12,
     "metadata": {},
     "output_type": "execute_result"
    }
   ],
   "source": [
    "helpfulness_score([1,2])"
   ]
  },
  {
   "cell_type": "code",
   "execution_count": 13,
   "metadata": {},
   "outputs": [
    {
     "name": "stderr",
     "output_type": "stream",
     "text": [
      "C:\\Users\\Trishul\\Anaconda3\\lib\\site-packages\\ipykernel_launcher.py:1: SettingWithCopyWarning: \n",
      "A value is trying to be set on a copy of a slice from a DataFrame.\n",
      "Try using .loc[row_indexer,col_indexer] = value instead\n",
      "\n",
      "See the caveats in the documentation: http://pandas.pydata.org/pandas-docs/stable/indexing.html#indexing-view-versus-copy\n",
      "  \"\"\"Entry point for launching an IPython kernel.\n"
     ]
    }
   ],
   "source": [
    "df2['helpfulness_score'] = df2['helpful'].apply(helpfulness_score)"
   ]
  },
  {
   "cell_type": "code",
   "execution_count": 14,
   "metadata": {
    "scrolled": true
   },
   "outputs": [
    {
     "data": {
      "text/html": [
       "<div>\n",
       "<style>\n",
       "    .dataframe thead tr:only-child th {\n",
       "        text-align: right;\n",
       "    }\n",
       "\n",
       "    .dataframe thead th {\n",
       "        text-align: left;\n",
       "    }\n",
       "\n",
       "    .dataframe tbody tr th {\n",
       "        vertical-align: top;\n",
       "    }\n",
       "</style>\n",
       "<table border=\"1\" class=\"dataframe\">\n",
       "  <thead>\n",
       "    <tr style=\"text-align: right;\">\n",
       "      <th></th>\n",
       "      <th>reviewerID</th>\n",
       "      <th>asin</th>\n",
       "      <th>reviewerName</th>\n",
       "      <th>helpful</th>\n",
       "      <th>reviewText</th>\n",
       "      <th>overall</th>\n",
       "      <th>summary</th>\n",
       "      <th>unixReviewTime</th>\n",
       "      <th>reviewTime</th>\n",
       "      <th>helpfulness_score</th>\n",
       "    </tr>\n",
       "  </thead>\n",
       "  <tbody>\n",
       "    <tr>\n",
       "      <th>1</th>\n",
       "      <td>AMO214LNFCEI4</td>\n",
       "      <td>0528881469</td>\n",
       "      <td>Amazon Customer</td>\n",
       "      <td>[12, 15]</td>\n",
       "      <td>I'm a professional OTR truck driver, and I bou...</td>\n",
       "      <td>1.0</td>\n",
       "      <td>Very Disappointed</td>\n",
       "      <td>1290643200</td>\n",
       "      <td>11 25, 2010</td>\n",
       "      <td>0.800000</td>\n",
       "    </tr>\n",
       "    <tr>\n",
       "      <th>2</th>\n",
       "      <td>A3N7T0DY83Y4IG</td>\n",
       "      <td>0528881469</td>\n",
       "      <td>C. A. Freeman</td>\n",
       "      <td>[43, 45]</td>\n",
       "      <td>Well, what can I say.  I've had this unit in m...</td>\n",
       "      <td>3.0</td>\n",
       "      <td>1st impression</td>\n",
       "      <td>1283990400</td>\n",
       "      <td>09 9, 2010</td>\n",
       "      <td>0.955556</td>\n",
       "    </tr>\n",
       "    <tr>\n",
       "      <th>3</th>\n",
       "      <td>A1H8PY3QHMQQA0</td>\n",
       "      <td>0528881469</td>\n",
       "      <td>Dave M. Shaw \"mack dave\"</td>\n",
       "      <td>[9, 10]</td>\n",
       "      <td>Not going to write a long review, even thought...</td>\n",
       "      <td>2.0</td>\n",
       "      <td>Great grafics, POOR GPS</td>\n",
       "      <td>1290556800</td>\n",
       "      <td>11 24, 2010</td>\n",
       "      <td>0.900000</td>\n",
       "    </tr>\n",
       "    <tr>\n",
       "      <th>56</th>\n",
       "      <td>A3QH8VQDE7HZCR</td>\n",
       "      <td>0972683275</td>\n",
       "      <td>costaricachris</td>\n",
       "      <td>[15, 19]</td>\n",
       "      <td>Quality was excellent. Instructions were clear...</td>\n",
       "      <td>5.0</td>\n",
       "      <td>Real value for the money</td>\n",
       "      <td>1286236800</td>\n",
       "      <td>10 5, 2010</td>\n",
       "      <td>0.789474</td>\n",
       "    </tr>\n",
       "    <tr>\n",
       "      <th>82</th>\n",
       "      <td>A38FGQVJM18OWV</td>\n",
       "      <td>0972683275</td>\n",
       "      <td>George S. Mitchell \"gsmitchell\"</td>\n",
       "      <td>[8, 18]</td>\n",
       "      <td>I checked around Amazon as well as some other ...</td>\n",
       "      <td>1.0</td>\n",
       "      <td>What a piece of junk!</td>\n",
       "      <td>1291161600</td>\n",
       "      <td>12 1, 2010</td>\n",
       "      <td>0.444444</td>\n",
       "    </tr>\n",
       "  </tbody>\n",
       "</table>\n",
       "</div>"
      ],
      "text/plain": [
       "        reviewerID        asin                     reviewerName   helpful  \\\n",
       "1    AMO214LNFCEI4  0528881469                  Amazon Customer  [12, 15]   \n",
       "2   A3N7T0DY83Y4IG  0528881469                    C. A. Freeman  [43, 45]   \n",
       "3   A1H8PY3QHMQQA0  0528881469         Dave M. Shaw \"mack dave\"   [9, 10]   \n",
       "56  A3QH8VQDE7HZCR  0972683275                   costaricachris  [15, 19]   \n",
       "82  A38FGQVJM18OWV  0972683275  George S. Mitchell \"gsmitchell\"   [8, 18]   \n",
       "\n",
       "                                           reviewText  overall  \\\n",
       "1   I'm a professional OTR truck driver, and I bou...      1.0   \n",
       "2   Well, what can I say.  I've had this unit in m...      3.0   \n",
       "3   Not going to write a long review, even thought...      2.0   \n",
       "56  Quality was excellent. Instructions were clear...      5.0   \n",
       "82  I checked around Amazon as well as some other ...      1.0   \n",
       "\n",
       "                     summary  unixReviewTime   reviewTime  helpfulness_score  \n",
       "1          Very Disappointed      1290643200  11 25, 2010           0.800000  \n",
       "2             1st impression      1283990400   09 9, 2010           0.955556  \n",
       "3    Great grafics, POOR GPS      1290556800  11 24, 2010           0.900000  \n",
       "56  Real value for the money      1286236800   10 5, 2010           0.789474  \n",
       "82     What a piece of junk!      1291161600   12 1, 2010           0.444444  "
      ]
     },
     "execution_count": 14,
     "metadata": {},
     "output_type": "execute_result"
    }
   ],
   "source": [
    "df2.head()"
   ]
  },
  {
   "cell_type": "code",
   "execution_count": 27,
   "metadata": {},
   "outputs": [
    {
     "data": {
      "text/plain": [
       "<matplotlib.axes._subplots.AxesSubplot at 0x1b94b255668>"
      ]
     },
     "execution_count": 27,
     "metadata": {},
     "output_type": "execute_result"
    },
    {
     "data": {
      "image/png": "[encoded data removed]",
      "text/plain": [
       "<matplotlib.figure.Figure at 0x1b94b27af28>"
      ]
     },
     "metadata": {},
     "output_type": "display_data"
    }
   ],
   "source": [
    "sns.distplot(df2['helpfulness_score'])"
   ]
  },
  {
   "cell_type": "code",
   "execution_count": 15,
   "metadata": {},
   "outputs": [
    {
     "data": {
      "text/plain": [
       "4487"
      ]
     },
     "execution_count": 15,
     "metadata": {},
     "output_type": "execute_result"
    }
   ],
   "source": [
    "df2[df2['helpfulness_score']<0.2]['reviewerID'].nunique()"
   ]
  },
  {
   "cell_type": "code",
   "execution_count": 25,
   "metadata": {},
   "outputs": [
    {
     "data": {
      "text/plain": [
       "'\\nFeatures be :\\nUser Rating Deviation\\nNo of Positive / Negative Words\\nReview Length\\nRating of the Review\\n\\n'"
      ]
     },
     "execution_count": 25,
     "metadata": {},
     "output_type": "execute_result"
    }
   ],
   "source": [
    "#----------------\n",
    "\n",
    "'''\n",
    "Features be :\n",
    "User Rating Deviation\n",
    "No of Positive / Negative Words\n",
    "Review Length\n",
    "Rating of the Review\n",
    "\n",
    "'''"
   ]
  },
  {
   "cell_type": "code",
   "execution_count": 16,
   "metadata": {
    "collapsed": true
   },
   "outputs": [],
   "source": [
    "def review_length(s) :\n",
    "    return len(s.split())"
   ]
  },
  {
   "cell_type": "code",
   "execution_count": 17,
   "metadata": {},
   "outputs": [
    {
     "name": "stderr",
     "output_type": "stream",
     "text": [
      "C:\\Users\\Trishul\\Anaconda3\\lib\\site-packages\\ipykernel_launcher.py:1: SettingWithCopyWarning: \n",
      "A value is trying to be set on a copy of a slice from a DataFrame.\n",
      "Try using .loc[row_indexer,col_indexer] = value instead\n",
      "\n",
      "See the caveats in the documentation: http://pandas.pydata.org/pandas-docs/stable/indexing.html#indexing-view-versus-copy\n",
      "  \"\"\"Entry point for launching an IPython kernel.\n"
     ]
    }
   ],
   "source": [
    "df2['review_length'] = df2['reviewText'].apply(review_length)"
   ]
  },
  {
   "cell_type": "code",
   "execution_count": 18,
   "metadata": {},
   "outputs": [
    {
     "data": {
      "text/html": [
       "<div>\n",
       "<style>\n",
       "    .dataframe thead tr:only-child th {\n",
       "        text-align: right;\n",
       "    }\n",
       "\n",
       "    .dataframe thead th {\n",
       "        text-align: left;\n",
       "    }\n",
       "\n",
       "    .dataframe tbody tr th {\n",
       "        vertical-align: top;\n",
       "    }\n",
       "</style>\n",
       "<table border=\"1\" class=\"dataframe\">\n",
       "  <thead>\n",
       "    <tr style=\"text-align: right;\">\n",
       "      <th></th>\n",
       "      <th>reviewerID</th>\n",
       "      <th>asin</th>\n",
       "      <th>reviewerName</th>\n",
       "      <th>helpful</th>\n",
       "      <th>reviewText</th>\n",
       "      <th>overall</th>\n",
       "      <th>summary</th>\n",
       "      <th>unixReviewTime</th>\n",
       "      <th>reviewTime</th>\n",
       "      <th>helpfulness_score</th>\n",
       "      <th>review_length</th>\n",
       "    </tr>\n",
       "  </thead>\n",
       "  <tbody>\n",
       "    <tr>\n",
       "      <th>1</th>\n",
       "      <td>AMO214LNFCEI4</td>\n",
       "      <td>0528881469</td>\n",
       "      <td>Amazon Customer</td>\n",
       "      <td>[12, 15]</td>\n",
       "      <td>I'm a professional OTR truck driver, and I bou...</td>\n",
       "      <td>1.0</td>\n",
       "      <td>Very Disappointed</td>\n",
       "      <td>1290643200</td>\n",
       "      <td>11 25, 2010</td>\n",
       "      <td>0.800000</td>\n",
       "      <td>427</td>\n",
       "    </tr>\n",
       "    <tr>\n",
       "      <th>2</th>\n",
       "      <td>A3N7T0DY83Y4IG</td>\n",
       "      <td>0528881469</td>\n",
       "      <td>C. A. Freeman</td>\n",
       "      <td>[43, 45]</td>\n",
       "      <td>Well, what can I say.  I've had this unit in m...</td>\n",
       "      <td>3.0</td>\n",
       "      <td>1st impression</td>\n",
       "      <td>1283990400</td>\n",
       "      <td>09 9, 2010</td>\n",
       "      <td>0.955556</td>\n",
       "      <td>846</td>\n",
       "    </tr>\n",
       "    <tr>\n",
       "      <th>3</th>\n",
       "      <td>A1H8PY3QHMQQA0</td>\n",
       "      <td>0528881469</td>\n",
       "      <td>Dave M. Shaw \"mack dave\"</td>\n",
       "      <td>[9, 10]</td>\n",
       "      <td>Not going to write a long review, even thought...</td>\n",
       "      <td>2.0</td>\n",
       "      <td>Great grafics, POOR GPS</td>\n",
       "      <td>1290556800</td>\n",
       "      <td>11 24, 2010</td>\n",
       "      <td>0.900000</td>\n",
       "      <td>449</td>\n",
       "    </tr>\n",
       "    <tr>\n",
       "      <th>56</th>\n",
       "      <td>A3QH8VQDE7HZCR</td>\n",
       "      <td>0972683275</td>\n",
       "      <td>costaricachris</td>\n",
       "      <td>[15, 19]</td>\n",
       "      <td>Quality was excellent. Instructions were clear...</td>\n",
       "      <td>5.0</td>\n",
       "      <td>Real value for the money</td>\n",
       "      <td>1286236800</td>\n",
       "      <td>10 5, 2010</td>\n",
       "      <td>0.789474</td>\n",
       "      <td>64</td>\n",
       "    </tr>\n",
       "    <tr>\n",
       "      <th>82</th>\n",
       "      <td>A38FGQVJM18OWV</td>\n",
       "      <td>0972683275</td>\n",
       "      <td>George S. Mitchell \"gsmitchell\"</td>\n",
       "      <td>[8, 18]</td>\n",
       "      <td>I checked around Amazon as well as some other ...</td>\n",
       "      <td>1.0</td>\n",
       "      <td>What a piece of junk!</td>\n",
       "      <td>1291161600</td>\n",
       "      <td>12 1, 2010</td>\n",
       "      <td>0.444444</td>\n",
       "      <td>138</td>\n",
       "    </tr>\n",
       "  </tbody>\n",
       "</table>\n",
       "</div>"
      ],
      "text/plain": [
       "        reviewerID        asin                     reviewerName   helpful  \\\n",
       "1    AMO214LNFCEI4  0528881469                  Amazon Customer  [12, 15]   \n",
       "2   A3N7T0DY83Y4IG  0528881469                    C. A. Freeman  [43, 45]   \n",
       "3   A1H8PY3QHMQQA0  0528881469         Dave M. Shaw \"mack dave\"   [9, 10]   \n",
       "56  A3QH8VQDE7HZCR  0972683275                   costaricachris  [15, 19]   \n",
       "82  A38FGQVJM18OWV  0972683275  George S. Mitchell \"gsmitchell\"   [8, 18]   \n",
       "\n",
       "                                           reviewText  overall  \\\n",
       "1   I'm a professional OTR truck driver, and I bou...      1.0   \n",
       "2   Well, what can I say.  I've had this unit in m...      3.0   \n",
       "3   Not going to write a long review, even thought...      2.0   \n",
       "56  Quality was excellent. Instructions were clear...      5.0   \n",
       "82  I checked around Amazon as well as some other ...      1.0   \n",
       "\n",
       "                     summary  unixReviewTime   reviewTime  helpfulness_score  \\\n",
       "1          Very Disappointed      1290643200  11 25, 2010           0.800000   \n",
       "2             1st impression      1283990400   09 9, 2010           0.955556   \n",
       "3    Great grafics, POOR GPS      1290556800  11 24, 2010           0.900000   \n",
       "56  Real value for the money      1286236800   10 5, 2010           0.789474   \n",
       "82     What a piece of junk!      1291161600   12 1, 2010           0.444444   \n",
       "\n",
       "    review_length  \n",
       "1             427  \n",
       "2             846  \n",
       "3             449  \n",
       "56             64  \n",
       "82            138  "
      ]
     },
     "execution_count": 18,
     "metadata": {},
     "output_type": "execute_result"
    }
   ],
   "source": [
    "df2.head()"
   ]
  },
  {
   "cell_type": "code",
   "execution_count": 19,
   "metadata": {},
   "outputs": [
    {
     "data": {
      "text/plain": [
       "<matplotlib.axes._subplots.AxesSubplot at 0x203d84163c8>"
      ]
     },
     "execution_count": 19,
     "metadata": {},
     "output_type": "execute_result"
    },
    {
     "data": {
      "image/png": "[encoded data removed]",
      "text/plain": [
       "<matplotlib.figure.Figure at 0x203d83e8ba8>"
      ]
     },
     "metadata": {},
     "output_type": "display_data"
    }
   ],
   "source": [
    "sns.distplot(df2['review_length'])"
   ]
  },
  {
   "cell_type": "code",
   "execution_count": 21,
   "metadata": {},
   "outputs": [
    {
     "data": {
      "text/plain": [
       "<seaborn.axisgrid.JointGrid at 0x2040e15ab38>"
      ]
     },
     "execution_count": 21,
     "metadata": {},
     "output_type": "execute_result"
    },
    {
     "data": {
      "image/png": "[encoded data removed]",
      "text/plain": [
       "<matplotlib.figure.Figure at 0x2040e15ae80>"
      ]
     },
     "metadata": {},
     "output_type": "display_data"
    }
   ],
   "source": [
    "sns.jointplot(x='review_length', y='helpfulness_score', data=df2, kind='scatter')"
   ]
  },
  {
   "cell_type": "code",
   "execution_count": 22,
   "metadata": {},
   "outputs": [
    {
     "data": {
      "text/plain": [
       "0.19352055984842575"
      ]
     },
     "execution_count": 22,
     "metadata": {},
     "output_type": "execute_result"
    }
   ],
   "source": [
    "df2['helpfulness_score'].corr(df2['review_length'])"
   ]
  },
  {
   "cell_type": "code",
   "execution_count": null,
   "metadata": {
    "collapsed": true
   },
   "outputs": [],
   "source": []
  },
  {
   "cell_type": "code",
   "execution_count": null,
   "metadata": {
    "collapsed": true
   },
   "outputs": [],
   "source": [
    "Create an average rating for each product\n",
    "Get unique products\n",
    "For each product \n",
    "    get the reviews of the product\n",
    "    calculate average rating of the product\n",
    "    product_profile['avg_rating']= value\n",
    "Create a dataframe for this\n",
    "Create a file for this"
   ]
  },
  {
   "cell_type": "code",
   "execution_count": 37,
   "metadata": {
    "collapsed": true
   },
   "outputs": [],
   "source": [
    "product_df=df[['asin','overall']].groupby('asin').mean()"
   ]
  },
  {
   "cell_type": "code",
   "execution_count": 40,
   "metadata": {
    "collapsed": true
   },
   "outputs": [],
   "source": [
    "#product_df.reset_index(inplace=True)"
   ]
  },
  {
   "cell_type": "code",
   "execution_count": 38,
   "metadata": {
    "scrolled": true
   },
   "outputs": [
    {
     "data": {
      "text/html": [
       "<div>\n",
       "<style>\n",
       "    .dataframe thead tr:only-child th {\n",
       "        text-align: right;\n",
       "    }\n",
       "\n",
       "    .dataframe thead th {\n",
       "        text-align: left;\n",
       "    }\n",
       "\n",
       "    .dataframe tbody tr th {\n",
       "        vertical-align: top;\n",
       "    }\n",
       "</style>\n",
       "<table border=\"1\" class=\"dataframe\">\n",
       "  <thead>\n",
       "    <tr style=\"text-align: right;\">\n",
       "      <th></th>\n",
       "      <th>overall</th>\n",
       "    </tr>\n",
       "    <tr>\n",
       "      <th>asin</th>\n",
       "      <th></th>\n",
       "    </tr>\n",
       "  </thead>\n",
       "  <tbody>\n",
       "    <tr>\n",
       "      <th>0528881469</th>\n",
       "      <td>2.400000</td>\n",
       "    </tr>\n",
       "    <tr>\n",
       "      <th>0594451647</th>\n",
       "      <td>4.200000</td>\n",
       "    </tr>\n",
       "    <tr>\n",
       "      <th>0594481813</th>\n",
       "      <td>4.000000</td>\n",
       "    </tr>\n",
       "    <tr>\n",
       "      <th>0972683275</th>\n",
       "      <td>4.461187</td>\n",
       "    </tr>\n",
       "    <tr>\n",
       "      <th>1400501466</th>\n",
       "      <td>3.953488</td>\n",
       "    </tr>\n",
       "  </tbody>\n",
       "</table>\n",
       "</div>"
      ],
      "text/plain": [
       "             overall\n",
       "asin                \n",
       "0528881469  2.400000\n",
       "0594451647  4.200000\n",
       "0594481813  4.000000\n",
       "0972683275  4.461187\n",
       "1400501466  3.953488"
      ]
     },
     "execution_count": 38,
     "metadata": {},
     "output_type": "execute_result"
    }
   ],
   "source": [
    "product_df.head()"
   ]
  },
  {
   "cell_type": "code",
   "execution_count": 47,
   "metadata": {},
   "outputs": [
    {
     "data": {
      "text/plain": [
       "2.3999999999999999"
      ]
     },
     "execution_count": 47,
     "metadata": {},
     "output_type": "execute_result"
    }
   ],
   "source": [
    "product_df.loc['0528881469']['overall']"
   ]
  },
  {
   "cell_type": "code",
   "execution_count": null,
   "metadata": {
    "scrolled": true
   },
   "outputs": [
    {
     "name": "stderr",
     "output_type": "stream",
     "text": [
      "C:\\Users\\Trishul\\Anaconda3\\lib\\site-packages\\ipykernel_launcher.py:15: SettingWithCopyWarning: \n",
      "A value is trying to be set on a copy of a slice from a DataFrame\n",
      "\n",
      "See the caveats in the documentation: http://pandas.pydata.org/pandas-docs/stable/indexing.html#indexing-view-versus-copy\n",
      "  from ipykernel import kernelapp as app\n"
     ]
    }
   ],
   "source": [
    "############# GET AUTHOR RATING DEVIATION #########################\n",
    "#1.for each review calculate rating deviation\n",
    "#2. groupby user and find mean\n",
    "#3. Generate the dataframe\n",
    "#####################################################################\n",
    "df2['rating_deviation'] = np.nan\n",
    "\n",
    "for i in range(0,len(df)) :\n",
    "    review = df2.iloc[i]\n",
    "    product_id = review['asin']\n",
    "    rating = review['overall']\n",
    "    avg_rating = product_df.loc[product_id]['overall']\n",
    "    deviation = abs(avg_rating-rating)\n",
    "    \n",
    "    review['rating_deviation'] = deviation\n",
    "    "
   ]
  },
  {
   "cell_type": "code",
   "execution_count": 40,
   "metadata": {
    "scrolled": true
   },
   "outputs": [
    {
     "data": {
      "text/html": [
       "<div>\n",
       "<style>\n",
       "    .dataframe thead tr:only-child th {\n",
       "        text-align: right;\n",
       "    }\n",
       "\n",
       "    .dataframe thead th {\n",
       "        text-align: left;\n",
       "    }\n",
       "\n",
       "    .dataframe tbody tr th {\n",
       "        vertical-align: top;\n",
       "    }\n",
       "</style>\n",
       "<table border=\"1\" class=\"dataframe\">\n",
       "  <thead>\n",
       "    <tr style=\"text-align: right;\">\n",
       "      <th></th>\n",
       "      <th>reviewerID</th>\n",
       "      <th>asin</th>\n",
       "      <th>reviewerName</th>\n",
       "      <th>helpful</th>\n",
       "      <th>reviewText</th>\n",
       "      <th>overall</th>\n",
       "      <th>summary</th>\n",
       "      <th>unixReviewTime</th>\n",
       "      <th>reviewTime</th>\n",
       "      <th>rating_deviation</th>\n",
       "    </tr>\n",
       "  </thead>\n",
       "  <tbody>\n",
       "    <tr>\n",
       "      <th>0</th>\n",
       "      <td>AO94DHGC771SJ</td>\n",
       "      <td>0528881469</td>\n",
       "      <td>amazdnu</td>\n",
       "      <td>[0, 0]</td>\n",
       "      <td>We got this GPS for my husband who is an (OTR)...</td>\n",
       "      <td>5.0</td>\n",
       "      <td>Gotta have GPS!</td>\n",
       "      <td>1370131200</td>\n",
       "      <td>06 2, 2013</td>\n",
       "      <td>2.6</td>\n",
       "    </tr>\n",
       "    <tr>\n",
       "      <th>1</th>\n",
       "      <td>AMO214LNFCEI4</td>\n",
       "      <td>0528881469</td>\n",
       "      <td>Amazon Customer</td>\n",
       "      <td>[12, 15]</td>\n",
       "      <td>I'm a professional OTR truck driver, and I bou...</td>\n",
       "      <td>1.0</td>\n",
       "      <td>Very Disappointed</td>\n",
       "      <td>1290643200</td>\n",
       "      <td>11 25, 2010</td>\n",
       "      <td>1.4</td>\n",
       "    </tr>\n",
       "    <tr>\n",
       "      <th>2</th>\n",
       "      <td>A3N7T0DY83Y4IG</td>\n",
       "      <td>0528881469</td>\n",
       "      <td>C. A. Freeman</td>\n",
       "      <td>[43, 45]</td>\n",
       "      <td>Well, what can I say.  I've had this unit in m...</td>\n",
       "      <td>3.0</td>\n",
       "      <td>1st impression</td>\n",
       "      <td>1283990400</td>\n",
       "      <td>09 9, 2010</td>\n",
       "      <td>0.6</td>\n",
       "    </tr>\n",
       "    <tr>\n",
       "      <th>3</th>\n",
       "      <td>A1H8PY3QHMQQA0</td>\n",
       "      <td>0528881469</td>\n",
       "      <td>Dave M. Shaw \"mack dave\"</td>\n",
       "      <td>[9, 10]</td>\n",
       "      <td>Not going to write a long review, even thought...</td>\n",
       "      <td>2.0</td>\n",
       "      <td>Great grafics, POOR GPS</td>\n",
       "      <td>1290556800</td>\n",
       "      <td>11 24, 2010</td>\n",
       "      <td>0.4</td>\n",
       "    </tr>\n",
       "    <tr>\n",
       "      <th>4</th>\n",
       "      <td>A24EV6RXELQZ63</td>\n",
       "      <td>0528881469</td>\n",
       "      <td>Wayne Smith</td>\n",
       "      <td>[0, 0]</td>\n",
       "      <td>I've had mine for a year and here's what we go...</td>\n",
       "      <td>1.0</td>\n",
       "      <td>Major issues, only excuses for support</td>\n",
       "      <td>1317254400</td>\n",
       "      <td>09 29, 2011</td>\n",
       "      <td>1.4</td>\n",
       "    </tr>\n",
       "  </tbody>\n",
       "</table>\n",
       "</div>"
      ],
      "text/plain": [
       "       reviewerID        asin              reviewerName   helpful  \\\n",
       "0   AO94DHGC771SJ  0528881469                   amazdnu    [0, 0]   \n",
       "1   AMO214LNFCEI4  0528881469           Amazon Customer  [12, 15]   \n",
       "2  A3N7T0DY83Y4IG  0528881469             C. A. Freeman  [43, 45]   \n",
       "3  A1H8PY3QHMQQA0  0528881469  Dave M. Shaw \"mack dave\"   [9, 10]   \n",
       "4  A24EV6RXELQZ63  0528881469               Wayne Smith    [0, 0]   \n",
       "\n",
       "                                          reviewText  overall  \\\n",
       "0  We got this GPS for my husband who is an (OTR)...      5.0   \n",
       "1  I'm a professional OTR truck driver, and I bou...      1.0   \n",
       "2  Well, what can I say.  I've had this unit in m...      3.0   \n",
       "3  Not going to write a long review, even thought...      2.0   \n",
       "4  I've had mine for a year and here's what we go...      1.0   \n",
       "\n",
       "                                  summary  unixReviewTime   reviewTime  \\\n",
       "0                         Gotta have GPS!      1370131200   06 2, 2013   \n",
       "1                       Very Disappointed      1290643200  11 25, 2010   \n",
       "2                          1st impression      1283990400   09 9, 2010   \n",
       "3                 Great grafics, POOR GPS      1290556800  11 24, 2010   \n",
       "4  Major issues, only excuses for support      1317254400  09 29, 2011   \n",
       "\n",
       "   rating_deviation  \n",
       "0               2.6  \n",
       "1               1.4  \n",
       "2               0.6  \n",
       "3               0.4  \n",
       "4               1.4  "
      ]
     },
     "execution_count": 40,
     "metadata": {},
     "output_type": "execute_result"
    }
   ],
   "source": [
    "def valuation_formula(product_id,rating):\n",
    "    avg_rating = product_df.loc[product_id]['overall']\n",
    "    return abs(rating-avg_rating)\n",
    "\n",
    "df['rating_deviation'] = df.apply(lambda row: valuation_formula(row['asin'],row['overall']), axis=1)\n",
    "\n",
    "df.head()"
   ]
  },
  {
   "cell_type": "code",
   "execution_count": 50,
   "metadata": {
    "collapsed": true
   },
   "outputs": [],
   "source": [
    "df3 = df[['reviewerID', 'asin', 'rating_deviation']]"
   ]
  },
  {
   "cell_type": "code",
   "execution_count": 51,
   "metadata": {
    "collapsed": true
   },
   "outputs": [],
   "source": [
    "df3.to_csv(\"Reviews_Rating_Deviation\")"
   ]
  },
  {
   "cell_type": "code",
   "execution_count": null,
   "metadata": {
    "collapsed": true
   },
   "outputs": [],
   "source": [
    "df.head()"
   ]
  },
  {
   "cell_type": "code",
   "execution_count": 43,
   "metadata": {
    "collapsed": true
   },
   "outputs": [],
   "source": [
    "user_df = df[['reviewerID','rating_deviation']].groupby('reviewerID').mean()"
   ]
  },
  {
   "cell_type": "code",
   "execution_count": 44,
   "metadata": {},
   "outputs": [
    {
     "data": {
      "text/html": [
       "<div>\n",
       "<style>\n",
       "    .dataframe thead tr:only-child th {\n",
       "        text-align: right;\n",
       "    }\n",
       "\n",
       "    .dataframe thead th {\n",
       "        text-align: left;\n",
       "    }\n",
       "\n",
       "    .dataframe tbody tr th {\n",
       "        vertical-align: top;\n",
       "    }\n",
       "</style>\n",
       "<table border=\"1\" class=\"dataframe\">\n",
       "  <thead>\n",
       "    <tr style=\"text-align: right;\">\n",
       "      <th></th>\n",
       "      <th>rating_deviation</th>\n",
       "    </tr>\n",
       "    <tr>\n",
       "      <th>reviewerID</th>\n",
       "      <th></th>\n",
       "    </tr>\n",
       "  </thead>\n",
       "  <tbody>\n",
       "    <tr>\n",
       "      <th>A000715434M800HLCENK9</th>\n",
       "      <td>1.377000</td>\n",
       "    </tr>\n",
       "    <tr>\n",
       "      <th>A00101847G3FJTWYGNQA</th>\n",
       "      <td>0.516270</td>\n",
       "    </tr>\n",
       "    <tr>\n",
       "      <th>A00166281YWM98A3SVD55</th>\n",
       "      <td>0.554858</td>\n",
       "    </tr>\n",
       "    <tr>\n",
       "      <th>A0046696382DWIPVIWO0K</th>\n",
       "      <td>1.094410</td>\n",
       "    </tr>\n",
       "    <tr>\n",
       "      <th>A00472881KT6WR48K907X</th>\n",
       "      <td>0.481824</td>\n",
       "    </tr>\n",
       "  </tbody>\n",
       "</table>\n",
       "</div>"
      ],
      "text/plain": [
       "                       rating_deviation\n",
       "reviewerID                             \n",
       "A000715434M800HLCENK9          1.377000\n",
       "A00101847G3FJTWYGNQA           0.516270\n",
       "A00166281YWM98A3SVD55          0.554858\n",
       "A0046696382DWIPVIWO0K          1.094410\n",
       "A00472881KT6WR48K907X          0.481824"
      ]
     },
     "execution_count": 44,
     "metadata": {},
     "output_type": "execute_result"
    }
   ],
   "source": [
    "user_df.head()"
   ]
  },
  {
   "cell_type": "code",
   "execution_count": 52,
   "metadata": {
    "collapsed": true
   },
   "outputs": [],
   "source": [
    "user_df.to_csv(\"User_Avg_Rating_Deviation\")"
   ]
  },
  {
   "cell_type": "code",
   "execution_count": 49,
   "metadata": {},
   "outputs": [
    {
     "data": {
      "text/html": [
       "<div>\n",
       "<style>\n",
       "    .dataframe thead tr:only-child th {\n",
       "        text-align: right;\n",
       "    }\n",
       "\n",
       "    .dataframe thead th {\n",
       "        text-align: left;\n",
       "    }\n",
       "\n",
       "    .dataframe tbody tr th {\n",
       "        vertical-align: top;\n",
       "    }\n",
       "</style>\n",
       "<table border=\"1\" class=\"dataframe\">\n",
       "  <thead>\n",
       "    <tr style=\"text-align: right;\">\n",
       "      <th></th>\n",
       "      <th>rating_deviation</th>\n",
       "    </tr>\n",
       "    <tr>\n",
       "      <th>reviewerID</th>\n",
       "      <th></th>\n",
       "    </tr>\n",
       "  </thead>\n",
       "  <tbody>\n",
       "    <tr>\n",
       "      <th>A122BP6MJZL20L</th>\n",
       "      <td>3.062463</td>\n",
       "    </tr>\n",
       "    <tr>\n",
       "      <th>A135DQ1W2SWG7R</th>\n",
       "      <td>3.304025</td>\n",
       "    </tr>\n",
       "    <tr>\n",
       "      <th>A14RC6K7XX9HOP</th>\n",
       "      <td>3.091103</td>\n",
       "    </tr>\n",
       "    <tr>\n",
       "      <th>A1A9AFW68VI907</th>\n",
       "      <td>3.004457</td>\n",
       "    </tr>\n",
       "    <tr>\n",
       "      <th>A1CJTPH6BQERSN</th>\n",
       "      <td>3.115098</td>\n",
       "    </tr>\n",
       "    <tr>\n",
       "      <th>A1GNHV6L0QRZ9O</th>\n",
       "      <td>3.000406</td>\n",
       "    </tr>\n",
       "    <tr>\n",
       "      <th>A1ILBK17KOOOYN</th>\n",
       "      <td>3.205698</td>\n",
       "    </tr>\n",
       "    <tr>\n",
       "      <th>A1J0NS46UFSAKG</th>\n",
       "      <td>3.002640</td>\n",
       "    </tr>\n",
       "    <tr>\n",
       "      <th>A1NNLMCK3L6RCX</th>\n",
       "      <td>3.096377</td>\n",
       "    </tr>\n",
       "    <tr>\n",
       "      <th>A1O8XMYZ6WIG2S</th>\n",
       "      <td>3.004652</td>\n",
       "    </tr>\n",
       "    <tr>\n",
       "      <th>A1PC4QPTL8X4OO</th>\n",
       "      <td>3.117776</td>\n",
       "    </tr>\n",
       "    <tr>\n",
       "      <th>A1QLBC13BV55B7</th>\n",
       "      <td>3.104031</td>\n",
       "    </tr>\n",
       "    <tr>\n",
       "      <th>A1U4A6MT4K4Y80</th>\n",
       "      <td>3.053009</td>\n",
       "    </tr>\n",
       "    <tr>\n",
       "      <th>A1VK02YYECXMIB</th>\n",
       "      <td>3.075415</td>\n",
       "    </tr>\n",
       "    <tr>\n",
       "      <th>A1WXA5IXEWJX7L</th>\n",
       "      <td>3.100267</td>\n",
       "    </tr>\n",
       "    <tr>\n",
       "      <th>A1WYFF9WII2SBE</th>\n",
       "      <td>3.161924</td>\n",
       "    </tr>\n",
       "    <tr>\n",
       "      <th>A1YJRES4PZPULP</th>\n",
       "      <td>3.030641</td>\n",
       "    </tr>\n",
       "    <tr>\n",
       "      <th>A1YLGQ0IV5OJQ9</th>\n",
       "      <td>3.010097</td>\n",
       "    </tr>\n",
       "    <tr>\n",
       "      <th>A23T3FUTTM4GUF</th>\n",
       "      <td>3.196713</td>\n",
       "    </tr>\n",
       "    <tr>\n",
       "      <th>A28ZX0WY495DAI</th>\n",
       "      <td>3.181169</td>\n",
       "    </tr>\n",
       "    <tr>\n",
       "      <th>A2FUEHAS8ENP3S</th>\n",
       "      <td>3.008819</td>\n",
       "    </tr>\n",
       "    <tr>\n",
       "      <th>A2G4GBZBU0191J</th>\n",
       "      <td>3.446789</td>\n",
       "    </tr>\n",
       "    <tr>\n",
       "      <th>A2MZIPXZR5DBL7</th>\n",
       "      <td>3.203027</td>\n",
       "    </tr>\n",
       "    <tr>\n",
       "      <th>A2OIZMMSW67PP</th>\n",
       "      <td>3.281205</td>\n",
       "    </tr>\n",
       "    <tr>\n",
       "      <th>A2PEWTOJF0LT8J</th>\n",
       "      <td>3.295334</td>\n",
       "    </tr>\n",
       "    <tr>\n",
       "      <th>A2SUGBQPW4AS3S</th>\n",
       "      <td>3.103549</td>\n",
       "    </tr>\n",
       "    <tr>\n",
       "      <th>A2VQYZOS43KAM3</th>\n",
       "      <td>3.037013</td>\n",
       "    </tr>\n",
       "    <tr>\n",
       "      <th>A2WT3NS2THXMCX</th>\n",
       "      <td>3.073093</td>\n",
       "    </tr>\n",
       "    <tr>\n",
       "      <th>A34AB1FGI1PVD2</th>\n",
       "      <td>3.001820</td>\n",
       "    </tr>\n",
       "    <tr>\n",
       "      <th>A3E9Y6IBUXV41U</th>\n",
       "      <td>3.048810</td>\n",
       "    </tr>\n",
       "    <tr>\n",
       "      <th>A3ECP9FPY96ST2</th>\n",
       "      <td>3.286234</td>\n",
       "    </tr>\n",
       "    <tr>\n",
       "      <th>A3H09LOQFWHJPO</th>\n",
       "      <td>3.006997</td>\n",
       "    </tr>\n",
       "    <tr>\n",
       "      <th>A3H84EBT41GUE</th>\n",
       "      <td>3.204276</td>\n",
       "    </tr>\n",
       "    <tr>\n",
       "      <th>A3N8M496KUGOFY</th>\n",
       "      <td>3.014128</td>\n",
       "    </tr>\n",
       "    <tr>\n",
       "      <th>A3OI05RGQQN33R</th>\n",
       "      <td>3.067100</td>\n",
       "    </tr>\n",
       "    <tr>\n",
       "      <th>A3OJDREFH6BAFD</th>\n",
       "      <td>3.170133</td>\n",
       "    </tr>\n",
       "    <tr>\n",
       "      <th>A3UA96OED831XF</th>\n",
       "      <td>3.456896</td>\n",
       "    </tr>\n",
       "    <tr>\n",
       "      <th>A3VNX3A8V805AL</th>\n",
       "      <td>3.165557</td>\n",
       "    </tr>\n",
       "    <tr>\n",
       "      <th>A3VQ1D0OILACKN</th>\n",
       "      <td>3.179313</td>\n",
       "    </tr>\n",
       "    <tr>\n",
       "      <th>A8BIXFRGO1H9N</th>\n",
       "      <td>3.012540</td>\n",
       "    </tr>\n",
       "    <tr>\n",
       "      <th>A8PVY0TEPYZV6</th>\n",
       "      <td>3.231185</td>\n",
       "    </tr>\n",
       "    <tr>\n",
       "      <th>AAILFT8641S2T</th>\n",
       "      <td>3.205955</td>\n",
       "    </tr>\n",
       "    <tr>\n",
       "      <th>AF6JIG0PLFBLC</th>\n",
       "      <td>3.044753</td>\n",
       "    </tr>\n",
       "    <tr>\n",
       "      <th>AJPY3RNS1EXF4</th>\n",
       "      <td>3.030033</td>\n",
       "    </tr>\n",
       "    <tr>\n",
       "      <th>AK72AS0JUIVLY</th>\n",
       "      <td>3.004905</td>\n",
       "    </tr>\n",
       "    <tr>\n",
       "      <th>AKC9W9EN3E52C</th>\n",
       "      <td>3.069905</td>\n",
       "    </tr>\n",
       "    <tr>\n",
       "      <th>APNQSD0RN5NUJ</th>\n",
       "      <td>3.013775</td>\n",
       "    </tr>\n",
       "    <tr>\n",
       "      <th>ARTEBG4476RHV</th>\n",
       "      <td>3.225048</td>\n",
       "    </tr>\n",
       "    <tr>\n",
       "      <th>AU5A1RF4NCMWG</th>\n",
       "      <td>3.046016</td>\n",
       "    </tr>\n",
       "    <tr>\n",
       "      <th>AWDJV2JC8S7RE</th>\n",
       "      <td>3.472434</td>\n",
       "    </tr>\n",
       "  </tbody>\n",
       "</table>\n",
       "</div>"
      ],
      "text/plain": [
       "                rating_deviation\n",
       "reviewerID                      \n",
       "A122BP6MJZL20L          3.062463\n",
       "A135DQ1W2SWG7R          3.304025\n",
       "A14RC6K7XX9HOP          3.091103\n",
       "A1A9AFW68VI907          3.004457\n",
       "A1CJTPH6BQERSN          3.115098\n",
       "A1GNHV6L0QRZ9O          3.000406\n",
       "A1ILBK17KOOOYN          3.205698\n",
       "A1J0NS46UFSAKG          3.002640\n",
       "A1NNLMCK3L6RCX          3.096377\n",
       "A1O8XMYZ6WIG2S          3.004652\n",
       "A1PC4QPTL8X4OO          3.117776\n",
       "A1QLBC13BV55B7          3.104031\n",
       "A1U4A6MT4K4Y80          3.053009\n",
       "A1VK02YYECXMIB          3.075415\n",
       "A1WXA5IXEWJX7L          3.100267\n",
       "A1WYFF9WII2SBE          3.161924\n",
       "A1YJRES4PZPULP          3.030641\n",
       "A1YLGQ0IV5OJQ9          3.010097\n",
       "A23T3FUTTM4GUF          3.196713\n",
       "A28ZX0WY495DAI          3.181169\n",
       "A2FUEHAS8ENP3S          3.008819\n",
       "A2G4GBZBU0191J          3.446789\n",
       "A2MZIPXZR5DBL7          3.203027\n",
       "A2OIZMMSW67PP           3.281205\n",
       "A2PEWTOJF0LT8J          3.295334\n",
       "A2SUGBQPW4AS3S          3.103549\n",
       "A2VQYZOS43KAM3          3.037013\n",
       "A2WT3NS2THXMCX          3.073093\n",
       "A34AB1FGI1PVD2          3.001820\n",
       "A3E9Y6IBUXV41U          3.048810\n",
       "A3ECP9FPY96ST2          3.286234\n",
       "A3H09LOQFWHJPO          3.006997\n",
       "A3H84EBT41GUE           3.204276\n",
       "A3N8M496KUGOFY          3.014128\n",
       "A3OI05RGQQN33R          3.067100\n",
       "A3OJDREFH6BAFD          3.170133\n",
       "A3UA96OED831XF          3.456896\n",
       "A3VNX3A8V805AL          3.165557\n",
       "A3VQ1D0OILACKN          3.179313\n",
       "A8BIXFRGO1H9N           3.012540\n",
       "A8PVY0TEPYZV6           3.231185\n",
       "AAILFT8641S2T           3.205955\n",
       "AF6JIG0PLFBLC           3.044753\n",
       "AJPY3RNS1EXF4           3.030033\n",
       "AK72AS0JUIVLY           3.004905\n",
       "AKC9W9EN3E52C           3.069905\n",
       "APNQSD0RN5NUJ           3.013775\n",
       "ARTEBG4476RHV           3.225048\n",
       "AU5A1RF4NCMWG           3.046016\n",
       "AWDJV2JC8S7RE           3.472434"
      ]
     },
     "execution_count": 49,
     "metadata": {},
     "output_type": "execute_result"
    }
   ],
   "source": [
    "user_df[user_df['rating_deviation']>3]"
   ]
  },
  {
   "cell_type": "code",
   "execution_count": 36,
   "metadata": {},
   "outputs": [
    {
     "data": {
      "text/plain": [
       "\"\\nproducts = df.asin.unique()\\nproducts_df= pd.DataFrame(data=products,columns=['productID'])\\n\\nno_of_products = len(products)\\n\\nfor i in range (0,no_of_products):\\n    pid = products[i]\\n    p_reviews = df[df['asin']=pid]\\n    avg_rating = p_reviews['overall'].mean()\""
      ]
     },
     "execution_count": 36,
     "metadata": {},
     "output_type": "execute_result"
    }
   ],
   "source": [
    "'''\n",
    "products = df.asin.unique()\n",
    "products_df= pd.DataFrame(data=products,columns=['productID'])\n",
    "\n",
    "no_of_products = len(products)\n",
    "\n",
    "for i in range (0,no_of_products):\n",
    "    pid = products[i]\n",
    "    p_reviews = df[df['asin']=pid]\n",
    "    avg_rating = p_reviews['overall'].mean()'''"
   ]
  },
  {
   "cell_type": "code",
   "execution_count": 25,
   "metadata": {},
   "outputs": [
    {
     "ename": "SyntaxError",
     "evalue": "invalid syntax (<ipython-input-25-aeca1285f956>, line 1)",
     "output_type": "error",
     "traceback": [
      "\u001b[1;36m  File \u001b[1;32m\"<ipython-input-25-aeca1285f956>\"\u001b[1;36m, line \u001b[1;32m1\u001b[0m\n\u001b[1;33m    Create an average rating for each product\u001b[0m\n\u001b[1;37m            ^\u001b[0m\n\u001b[1;31mSyntaxError\u001b[0m\u001b[1;31m:\u001b[0m invalid syntax\n"
     ]
    }
   ],
   "source": [
    "\n",
    "\n",
    "Create a file for authors\n",
    "For each review : Sort by recency of the review\n",
    "    Calculate rating deviation\n",
    "    (1-alpha)*curr_avg_rating + alpha * calculated_rating_dev\n",
    "    "
   ]
  },
  {
   "cell_type": "code",
   "execution_count": null,
   "metadata": {
    "collapsed": true
   },
   "outputs": [],
   "source": []
  },
  {
   "cell_type": "code",
   "execution_count": 26,
   "metadata": {
    "collapsed": true
   },
   "outputs": [],
   "source": [
    "reviewers = df.reviewerID.unique()"
   ]
  },
  {
   "cell_type": "code",
   "execution_count": 29,
   "metadata": {},
   "outputs": [
    {
     "data": {
      "text/plain": [
       "array(['AO94DHGC771SJ', 'AMO214LNFCEI4', 'A3N7T0DY83Y4IG',\n",
       "       'A1H8PY3QHMQQA0', 'A24EV6RXELQZ63'], dtype=object)"
      ]
     },
     "execution_count": 29,
     "metadata": {},
     "output_type": "execute_result"
    }
   ],
   "source": [
    "reviewers[0:5]"
   ]
  },
  {
   "cell_type": "code",
   "execution_count": 30,
   "metadata": {},
   "outputs": [
    {
     "data": {
      "text/plain": [
       "192403"
      ]
     },
     "execution_count": 30,
     "metadata": {},
     "output_type": "execute_result"
    }
   ],
   "source": [
    "len(reviewers)"
   ]
  },
  {
   "cell_type": "code",
   "execution_count": 31,
   "metadata": {
    "collapsed": true
   },
   "outputs": [],
   "source": [
    "reviewer_profile = pd.DataFrame(data=reviewers,columns=['reviewerID'])"
   ]
  },
  {
   "cell_type": "code",
   "execution_count": 32,
   "metadata": {},
   "outputs": [
    {
     "data": {
      "text/html": [
       "<div>\n",
       "<style>\n",
       "    .dataframe thead tr:only-child th {\n",
       "        text-align: right;\n",
       "    }\n",
       "\n",
       "    .dataframe thead th {\n",
       "        text-align: left;\n",
       "    }\n",
       "\n",
       "    .dataframe tbody tr th {\n",
       "        vertical-align: top;\n",
       "    }\n",
       "</style>\n",
       "<table border=\"1\" class=\"dataframe\">\n",
       "  <thead>\n",
       "    <tr style=\"text-align: right;\">\n",
       "      <th></th>\n",
       "      <th>reviewerID</th>\n",
       "    </tr>\n",
       "  </thead>\n",
       "  <tbody>\n",
       "    <tr>\n",
       "      <th>0</th>\n",
       "      <td>AO94DHGC771SJ</td>\n",
       "    </tr>\n",
       "    <tr>\n",
       "      <th>1</th>\n",
       "      <td>AMO214LNFCEI4</td>\n",
       "    </tr>\n",
       "    <tr>\n",
       "      <th>2</th>\n",
       "      <td>A3N7T0DY83Y4IG</td>\n",
       "    </tr>\n",
       "    <tr>\n",
       "      <th>3</th>\n",
       "      <td>A1H8PY3QHMQQA0</td>\n",
       "    </tr>\n",
       "    <tr>\n",
       "      <th>4</th>\n",
       "      <td>A24EV6RXELQZ63</td>\n",
       "    </tr>\n",
       "  </tbody>\n",
       "</table>\n",
       "</div>"
      ],
      "text/plain": [
       "       reviewerID\n",
       "0   AO94DHGC771SJ\n",
       "1   AMO214LNFCEI4\n",
       "2  A3N7T0DY83Y4IG\n",
       "3  A1H8PY3QHMQQA0\n",
       "4  A24EV6RXELQZ63"
      ]
     },
     "execution_count": 32,
     "metadata": {},
     "output_type": "execute_result"
    }
   ],
   "source": [
    "reviewer_profile.head()"
   ]
  },
  {
   "cell_type": "code",
   "execution_count": 38,
   "metadata": {
    "collapsed": true
   },
   "outputs": [],
   "source": [
    "reviewer_profile['average_rating_deviation'] = np.NaN"
   ]
  },
  {
   "cell_type": "code",
   "execution_count": 39,
   "metadata": {},
   "outputs": [
    {
     "data": {
      "text/html": [
       "<div>\n",
       "<style>\n",
       "    .dataframe thead tr:only-child th {\n",
       "        text-align: right;\n",
       "    }\n",
       "\n",
       "    .dataframe thead th {\n",
       "        text-align: left;\n",
       "    }\n",
       "\n",
       "    .dataframe tbody tr th {\n",
       "        vertical-align: top;\n",
       "    }\n",
       "</style>\n",
       "<table border=\"1\" class=\"dataframe\">\n",
       "  <thead>\n",
       "    <tr style=\"text-align: right;\">\n",
       "      <th></th>\n",
       "      <th>reviewerID</th>\n",
       "      <th>average_rating_deviation</th>\n",
       "    </tr>\n",
       "  </thead>\n",
       "  <tbody>\n",
       "    <tr>\n",
       "      <th>0</th>\n",
       "      <td>AO94DHGC771SJ</td>\n",
       "      <td>NaN</td>\n",
       "    </tr>\n",
       "    <tr>\n",
       "      <th>1</th>\n",
       "      <td>AMO214LNFCEI4</td>\n",
       "      <td>NaN</td>\n",
       "    </tr>\n",
       "    <tr>\n",
       "      <th>2</th>\n",
       "      <td>A3N7T0DY83Y4IG</td>\n",
       "      <td>NaN</td>\n",
       "    </tr>\n",
       "    <tr>\n",
       "      <th>3</th>\n",
       "      <td>A1H8PY3QHMQQA0</td>\n",
       "      <td>NaN</td>\n",
       "    </tr>\n",
       "    <tr>\n",
       "      <th>4</th>\n",
       "      <td>A24EV6RXELQZ63</td>\n",
       "      <td>NaN</td>\n",
       "    </tr>\n",
       "    <tr>\n",
       "      <th>5</th>\n",
       "      <td>A2JXAZZI9PHK9Z</td>\n",
       "      <td>NaN</td>\n",
       "    </tr>\n",
       "    <tr>\n",
       "      <th>6</th>\n",
       "      <td>A2P5U7BDKKT7FW</td>\n",
       "      <td>NaN</td>\n",
       "    </tr>\n",
       "    <tr>\n",
       "      <th>7</th>\n",
       "      <td>AAZ084UMH8VZ2</td>\n",
       "      <td>NaN</td>\n",
       "    </tr>\n",
       "    <tr>\n",
       "      <th>8</th>\n",
       "      <td>AEZ3CR6BKIROJ</td>\n",
       "      <td>NaN</td>\n",
       "    </tr>\n",
       "    <tr>\n",
       "      <th>9</th>\n",
       "      <td>A3BY5KCNQZXV5U</td>\n",
       "      <td>NaN</td>\n",
       "    </tr>\n",
       "    <tr>\n",
       "      <th>10</th>\n",
       "      <td>A7S2B0I67WNWB</td>\n",
       "      <td>NaN</td>\n",
       "    </tr>\n",
       "    <tr>\n",
       "      <th>11</th>\n",
       "      <td>A3HICVLF4PFFMN</td>\n",
       "      <td>NaN</td>\n",
       "    </tr>\n",
       "    <tr>\n",
       "      <th>12</th>\n",
       "      <td>ANSKSPEEAKY7S</td>\n",
       "      <td>NaN</td>\n",
       "    </tr>\n",
       "    <tr>\n",
       "      <th>13</th>\n",
       "      <td>A2QBZA4S1ROX9Q</td>\n",
       "      <td>NaN</td>\n",
       "    </tr>\n",
       "    <tr>\n",
       "      <th>14</th>\n",
       "      <td>ANY6JUFM0GH8U</td>\n",
       "      <td>NaN</td>\n",
       "    </tr>\n",
       "    <tr>\n",
       "      <th>15</th>\n",
       "      <td>AT09WGFUM934H</td>\n",
       "      <td>NaN</td>\n",
       "    </tr>\n",
       "    <tr>\n",
       "      <th>16</th>\n",
       "      <td>AGAKHE014LQFU</td>\n",
       "      <td>NaN</td>\n",
       "    </tr>\n",
       "    <tr>\n",
       "      <th>17</th>\n",
       "      <td>A1S6B5QFWGVL5U</td>\n",
       "      <td>NaN</td>\n",
       "    </tr>\n",
       "    <tr>\n",
       "      <th>18</th>\n",
       "      <td>A20XXTXWF2TCPY</td>\n",
       "      <td>NaN</td>\n",
       "    </tr>\n",
       "    <tr>\n",
       "      <th>19</th>\n",
       "      <td>A2IDCSC6NVONIZ</td>\n",
       "      <td>NaN</td>\n",
       "    </tr>\n",
       "    <tr>\n",
       "      <th>20</th>\n",
       "      <td>A1EDI0X3GI1SK7</td>\n",
       "      <td>NaN</td>\n",
       "    </tr>\n",
       "    <tr>\n",
       "      <th>21</th>\n",
       "      <td>A3BMUBUC1N77U8</td>\n",
       "      <td>NaN</td>\n",
       "    </tr>\n",
       "    <tr>\n",
       "      <th>22</th>\n",
       "      <td>AVRFGGCCCR6QU</td>\n",
       "      <td>NaN</td>\n",
       "    </tr>\n",
       "    <tr>\n",
       "      <th>23</th>\n",
       "      <td>A3UOSOCRKS3WIH</td>\n",
       "      <td>NaN</td>\n",
       "    </tr>\n",
       "    <tr>\n",
       "      <th>24</th>\n",
       "      <td>A371ZZ95ZQEIZV</td>\n",
       "      <td>NaN</td>\n",
       "    </tr>\n",
       "    <tr>\n",
       "      <th>25</th>\n",
       "      <td>A7060R14RJF3I</td>\n",
       "      <td>NaN</td>\n",
       "    </tr>\n",
       "    <tr>\n",
       "      <th>26</th>\n",
       "      <td>A26QCCO0101CO1</td>\n",
       "      <td>NaN</td>\n",
       "    </tr>\n",
       "    <tr>\n",
       "      <th>27</th>\n",
       "      <td>APBF796U7GUTV</td>\n",
       "      <td>NaN</td>\n",
       "    </tr>\n",
       "    <tr>\n",
       "      <th>28</th>\n",
       "      <td>A2HLNXOYLMERTC</td>\n",
       "      <td>NaN</td>\n",
       "    </tr>\n",
       "    <tr>\n",
       "      <th>29</th>\n",
       "      <td>A3CCITVF0WL6KE</td>\n",
       "      <td>NaN</td>\n",
       "    </tr>\n",
       "    <tr>\n",
       "      <th>...</th>\n",
       "      <td>...</td>\n",
       "      <td>...</td>\n",
       "    </tr>\n",
       "    <tr>\n",
       "      <th>192373</th>\n",
       "      <td>A2N6VMZN3XIIYK</td>\n",
       "      <td>NaN</td>\n",
       "    </tr>\n",
       "    <tr>\n",
       "      <th>192374</th>\n",
       "      <td>A2RSTN9NP644FZ</td>\n",
       "      <td>NaN</td>\n",
       "    </tr>\n",
       "    <tr>\n",
       "      <th>192375</th>\n",
       "      <td>A18IE8MYUA489U</td>\n",
       "      <td>NaN</td>\n",
       "    </tr>\n",
       "    <tr>\n",
       "      <th>192376</th>\n",
       "      <td>A1MKOI7TO9VPET</td>\n",
       "      <td>NaN</td>\n",
       "    </tr>\n",
       "    <tr>\n",
       "      <th>192377</th>\n",
       "      <td>A2WW73HLN1I1HU</td>\n",
       "      <td>NaN</td>\n",
       "    </tr>\n",
       "    <tr>\n",
       "      <th>192378</th>\n",
       "      <td>AK1L2W1TGO4DN</td>\n",
       "      <td>NaN</td>\n",
       "    </tr>\n",
       "    <tr>\n",
       "      <th>192379</th>\n",
       "      <td>A2IU90BV8AHYCZ</td>\n",
       "      <td>NaN</td>\n",
       "    </tr>\n",
       "    <tr>\n",
       "      <th>192380</th>\n",
       "      <td>ADQT88B683U2I</td>\n",
       "      <td>NaN</td>\n",
       "    </tr>\n",
       "    <tr>\n",
       "      <th>192381</th>\n",
       "      <td>A3MQ4OLATIKAQX</td>\n",
       "      <td>NaN</td>\n",
       "    </tr>\n",
       "    <tr>\n",
       "      <th>192382</th>\n",
       "      <td>A24M1VQWDIIZXM</td>\n",
       "      <td>NaN</td>\n",
       "    </tr>\n",
       "    <tr>\n",
       "      <th>192383</th>\n",
       "      <td>A1ESOP5VNCDD3I</td>\n",
       "      <td>NaN</td>\n",
       "    </tr>\n",
       "    <tr>\n",
       "      <th>192384</th>\n",
       "      <td>A1RAMH9S63YYKO</td>\n",
       "      <td>NaN</td>\n",
       "    </tr>\n",
       "    <tr>\n",
       "      <th>192385</th>\n",
       "      <td>AGHCFE8IXU5AH</td>\n",
       "      <td>NaN</td>\n",
       "    </tr>\n",
       "    <tr>\n",
       "      <th>192386</th>\n",
       "      <td>A3VGP2NLDSEE8F</td>\n",
       "      <td>NaN</td>\n",
       "    </tr>\n",
       "    <tr>\n",
       "      <th>192387</th>\n",
       "      <td>A2A03A4W85VOD6</td>\n",
       "      <td>NaN</td>\n",
       "    </tr>\n",
       "    <tr>\n",
       "      <th>192388</th>\n",
       "      <td>A3DPWLUGL1971E</td>\n",
       "      <td>NaN</td>\n",
       "    </tr>\n",
       "    <tr>\n",
       "      <th>192389</th>\n",
       "      <td>A1P7ID3FYEEB85</td>\n",
       "      <td>NaN</td>\n",
       "    </tr>\n",
       "    <tr>\n",
       "      <th>192390</th>\n",
       "      <td>A2XIM5GIGWOKTC</td>\n",
       "      <td>NaN</td>\n",
       "    </tr>\n",
       "    <tr>\n",
       "      <th>192391</th>\n",
       "      <td>A119C4RU8MII2N</td>\n",
       "      <td>NaN</td>\n",
       "    </tr>\n",
       "    <tr>\n",
       "      <th>192392</th>\n",
       "      <td>A824WQM6V5WI3</td>\n",
       "      <td>NaN</td>\n",
       "    </tr>\n",
       "    <tr>\n",
       "      <th>192393</th>\n",
       "      <td>A20ZLEP43QG2P8</td>\n",
       "      <td>NaN</td>\n",
       "    </tr>\n",
       "    <tr>\n",
       "      <th>192394</th>\n",
       "      <td>A2LEISRW7KTXH9</td>\n",
       "      <td>NaN</td>\n",
       "    </tr>\n",
       "    <tr>\n",
       "      <th>192395</th>\n",
       "      <td>ACHI2CKMH1ASW</td>\n",
       "      <td>NaN</td>\n",
       "    </tr>\n",
       "    <tr>\n",
       "      <th>192396</th>\n",
       "      <td>A1S3C5OFU508P3</td>\n",
       "      <td>NaN</td>\n",
       "    </tr>\n",
       "    <tr>\n",
       "      <th>192397</th>\n",
       "      <td>ADFZO9BTZW7S0</td>\n",
       "      <td>NaN</td>\n",
       "    </tr>\n",
       "    <tr>\n",
       "      <th>192398</th>\n",
       "      <td>A35YETXEOM4T88</td>\n",
       "      <td>NaN</td>\n",
       "    </tr>\n",
       "    <tr>\n",
       "      <th>192399</th>\n",
       "      <td>A2W6U6RIH05A5K</td>\n",
       "      <td>NaN</td>\n",
       "    </tr>\n",
       "    <tr>\n",
       "      <th>192400</th>\n",
       "      <td>A2P7TRORW0S26C</td>\n",
       "      <td>NaN</td>\n",
       "    </tr>\n",
       "    <tr>\n",
       "      <th>192401</th>\n",
       "      <td>A1KQNP8MOJDJKC</td>\n",
       "      <td>NaN</td>\n",
       "    </tr>\n",
       "    <tr>\n",
       "      <th>192402</th>\n",
       "      <td>A1FQ3HRVXA4A5B</td>\n",
       "      <td>NaN</td>\n",
       "    </tr>\n",
       "  </tbody>\n",
       "</table>\n",
       "<p>192403 rows × 2 columns</p>\n",
       "</div>"
      ],
      "text/plain": [
       "            reviewerID  average_rating_deviation\n",
       "0        AO94DHGC771SJ                       NaN\n",
       "1        AMO214LNFCEI4                       NaN\n",
       "2       A3N7T0DY83Y4IG                       NaN\n",
       "3       A1H8PY3QHMQQA0                       NaN\n",
       "4       A24EV6RXELQZ63                       NaN\n",
       "5       A2JXAZZI9PHK9Z                       NaN\n",
       "6       A2P5U7BDKKT7FW                       NaN\n",
       "7        AAZ084UMH8VZ2                       NaN\n",
       "8        AEZ3CR6BKIROJ                       NaN\n",
       "9       A3BY5KCNQZXV5U                       NaN\n",
       "10       A7S2B0I67WNWB                       NaN\n",
       "11      A3HICVLF4PFFMN                       NaN\n",
       "12       ANSKSPEEAKY7S                       NaN\n",
       "13      A2QBZA4S1ROX9Q                       NaN\n",
       "14       ANY6JUFM0GH8U                       NaN\n",
       "15       AT09WGFUM934H                       NaN\n",
       "16       AGAKHE014LQFU                       NaN\n",
       "17      A1S6B5QFWGVL5U                       NaN\n",
       "18      A20XXTXWF2TCPY                       NaN\n",
       "19      A2IDCSC6NVONIZ                       NaN\n",
       "20      A1EDI0X3GI1SK7                       NaN\n",
       "21      A3BMUBUC1N77U8                       NaN\n",
       "22       AVRFGGCCCR6QU                       NaN\n",
       "23      A3UOSOCRKS3WIH                       NaN\n",
       "24      A371ZZ95ZQEIZV                       NaN\n",
       "25       A7060R14RJF3I                       NaN\n",
       "26      A26QCCO0101CO1                       NaN\n",
       "27       APBF796U7GUTV                       NaN\n",
       "28      A2HLNXOYLMERTC                       NaN\n",
       "29      A3CCITVF0WL6KE                       NaN\n",
       "...                ...                       ...\n",
       "192373  A2N6VMZN3XIIYK                       NaN\n",
       "192374  A2RSTN9NP644FZ                       NaN\n",
       "192375  A18IE8MYUA489U                       NaN\n",
       "192376  A1MKOI7TO9VPET                       NaN\n",
       "192377  A2WW73HLN1I1HU                       NaN\n",
       "192378   AK1L2W1TGO4DN                       NaN\n",
       "192379  A2IU90BV8AHYCZ                       NaN\n",
       "192380   ADQT88B683U2I                       NaN\n",
       "192381  A3MQ4OLATIKAQX                       NaN\n",
       "192382  A24M1VQWDIIZXM                       NaN\n",
       "192383  A1ESOP5VNCDD3I                       NaN\n",
       "192384  A1RAMH9S63YYKO                       NaN\n",
       "192385   AGHCFE8IXU5AH                       NaN\n",
       "192386  A3VGP2NLDSEE8F                       NaN\n",
       "192387  A2A03A4W85VOD6                       NaN\n",
       "192388  A3DPWLUGL1971E                       NaN\n",
       "192389  A1P7ID3FYEEB85                       NaN\n",
       "192390  A2XIM5GIGWOKTC                       NaN\n",
       "192391  A119C4RU8MII2N                       NaN\n",
       "192392   A824WQM6V5WI3                       NaN\n",
       "192393  A20ZLEP43QG2P8                       NaN\n",
       "192394  A2LEISRW7KTXH9                       NaN\n",
       "192395   ACHI2CKMH1ASW                       NaN\n",
       "192396  A1S3C5OFU508P3                       NaN\n",
       "192397   ADFZO9BTZW7S0                       NaN\n",
       "192398  A35YETXEOM4T88                       NaN\n",
       "192399  A2W6U6RIH05A5K                       NaN\n",
       "192400  A2P7TRORW0S26C                       NaN\n",
       "192401  A1KQNP8MOJDJKC                       NaN\n",
       "192402  A1FQ3HRVXA4A5B                       NaN\n",
       "\n",
       "[192403 rows x 2 columns]"
      ]
     },
     "execution_count": 39,
     "metadata": {},
     "output_type": "execute_result"
    }
   ],
   "source": [
    "reviewer_profile"
   ]
  },
  {
   "cell_type": "code",
   "execution_count": 36,
   "metadata": {},
   "outputs": [
    {
     "ename": "SyntaxError",
     "evalue": "unexpected EOF while parsing (<ipython-input-36-06877d607d04>, line 2)",
     "output_type": "error",
     "traceback": [
      "\u001b[1;36m  File \u001b[1;32m\"<ipython-input-36-06877d607d04>\"\u001b[1;36m, line \u001b[1;32m2\u001b[0m\n\u001b[1;33m    \u001b[0m\n\u001b[1;37m    ^\u001b[0m\n\u001b[1;31mSyntaxError\u001b[0m\u001b[1;31m:\u001b[0m unexpected EOF while parsing\n"
     ]
    }
   ],
   "source": [
    "for reviewer in reviewers :\n",
    "    "
   ]
  },
  {
   "cell_type": "code",
   "execution_count": 41,
   "metadata": {},
   "outputs": [
    {
     "data": {
      "text/html": [
       "<div>\n",
       "<style>\n",
       "    .dataframe thead tr:only-child th {\n",
       "        text-align: right;\n",
       "    }\n",
       "\n",
       "    .dataframe thead th {\n",
       "        text-align: left;\n",
       "    }\n",
       "\n",
       "    .dataframe tbody tr th {\n",
       "        vertical-align: top;\n",
       "    }\n",
       "</style>\n",
       "<table border=\"1\" class=\"dataframe\">\n",
       "  <thead>\n",
       "    <tr style=\"text-align: right;\">\n",
       "      <th></th>\n",
       "      <th>reviewerID</th>\n",
       "      <th>asin</th>\n",
       "      <th>reviewerName</th>\n",
       "      <th>helpful</th>\n",
       "      <th>reviewText</th>\n",
       "      <th>overall</th>\n",
       "      <th>summary</th>\n",
       "      <th>unixReviewTime</th>\n",
       "      <th>reviewTime</th>\n",
       "    </tr>\n",
       "  </thead>\n",
       "  <tbody>\n",
       "  </tbody>\n",
       "</table>\n",
       "</div>"
      ],
      "text/plain": [
       "Empty DataFrame\n",
       "Columns: [reviewerID, asin, reviewerName, helpful, reviewText, overall, summary, unixReviewTime, reviewTime]\n",
       "Index: []"
      ]
     },
     "execution_count": 41,
     "metadata": {},
     "output_type": "execute_result"
    }
   ],
   "source": [
    "df[df['asin']=='0132793040']"
   ]
  },
  {
   "cell_type": "code",
   "execution_count": 3,
   "metadata": {
    "collapsed": true
   },
   "outputs": [],
   "source": [
    "meta_df = getDF('meta_Electronics.json.gz')"
   ]
  },
  {
   "cell_type": "code",
   "execution_count": 4,
   "metadata": {},
   "outputs": [
    {
     "data": {
      "text/html": [
       "<div>\n",
       "<style>\n",
       "    .dataframe thead tr:only-child th {\n",
       "        text-align: right;\n",
       "    }\n",
       "\n",
       "    .dataframe thead th {\n",
       "        text-align: left;\n",
       "    }\n",
       "\n",
       "    .dataframe tbody tr th {\n",
       "        vertical-align: top;\n",
       "    }\n",
       "</style>\n",
       "<table border=\"1\" class=\"dataframe\">\n",
       "  <thead>\n",
       "    <tr style=\"text-align: right;\">\n",
       "      <th></th>\n",
       "      <th>asin</th>\n",
       "      <th>imUrl</th>\n",
       "      <th>description</th>\n",
       "      <th>categories</th>\n",
       "      <th>title</th>\n",
       "      <th>price</th>\n",
       "      <th>salesRank</th>\n",
       "      <th>related</th>\n",
       "      <th>brand</th>\n",
       "    </tr>\n",
       "  </thead>\n",
       "  <tbody>\n",
       "    <tr>\n",
       "      <th>0</th>\n",
       "      <td>0132793040</td>\n",
       "      <td>http://ecx.images-amazon.com/images/I/31JIPhp%...</td>\n",
       "      <td>The Kelby Training DVD Mastering Blend Modes i...</td>\n",
       "      <td>[[Electronics, Computers &amp; Accessories, Cables...</td>\n",
       "      <td>Kelby Training DVD: Mastering Blend Modes in A...</td>\n",
       "      <td>NaN</td>\n",
       "      <td>NaN</td>\n",
       "      <td>NaN</td>\n",
       "      <td>NaN</td>\n",
       "    </tr>\n",
       "    <tr>\n",
       "      <th>1</th>\n",
       "      <td>0321732944</td>\n",
       "      <td>http://ecx.images-amazon.com/images/I/31uogm6Y...</td>\n",
       "      <td>NaN</td>\n",
       "      <td>[[Electronics, Computers &amp; Accessories, Cables...</td>\n",
       "      <td>Kelby Training DVD: Adobe Photoshop CS5 Crash ...</td>\n",
       "      <td>NaN</td>\n",
       "      <td>NaN</td>\n",
       "      <td>NaN</td>\n",
       "      <td>NaN</td>\n",
       "    </tr>\n",
       "    <tr>\n",
       "      <th>2</th>\n",
       "      <td>0439886341</td>\n",
       "      <td>http://ecx.images-amazon.com/images/I/51k0qa8f...</td>\n",
       "      <td>Digital Organizer and Messenger</td>\n",
       "      <td>[[Electronics, Computers &amp; Accessories, PDAs, ...</td>\n",
       "      <td>Digital Organizer and Messenger</td>\n",
       "      <td>8.15</td>\n",
       "      <td>{'Electronics': 144944}</td>\n",
       "      <td>{'also_viewed': ['0545016266', 'B009ECM8QY', '...</td>\n",
       "      <td>NaN</td>\n",
       "    </tr>\n",
       "    <tr>\n",
       "      <th>3</th>\n",
       "      <td>0511189877</td>\n",
       "      <td>http://ecx.images-amazon.com/images/I/41HaAhbv...</td>\n",
       "      <td>The CLIKR-5 UR5U-8780L remote control is desig...</td>\n",
       "      <td>[[Electronics, Accessories &amp; Supplies, Audio &amp;...</td>\n",
       "      <td>CLIKR-5 Time Warner Cable Remote Control UR5U-...</td>\n",
       "      <td>23.36</td>\n",
       "      <td>NaN</td>\n",
       "      <td>{'also_viewed': ['B001KC08A4', 'B00KUL8O0W', '...</td>\n",
       "      <td>NaN</td>\n",
       "    </tr>\n",
       "    <tr>\n",
       "      <th>4</th>\n",
       "      <td>0528881469</td>\n",
       "      <td>http://ecx.images-amazon.com/images/I/51FnRkJq...</td>\n",
       "      <td>Like its award-winning predecessor, the Intell...</td>\n",
       "      <td>[[Electronics, GPS &amp; Navigation, Vehicle GPS, ...</td>\n",
       "      <td>Rand McNally 528881469 7-inch Intelliroute TND...</td>\n",
       "      <td>299.99</td>\n",
       "      <td>NaN</td>\n",
       "      <td>{'also_viewed': ['B006ZOI9OY', 'B00C7FKT2A', '...</td>\n",
       "      <td>NaN</td>\n",
       "    </tr>\n",
       "  </tbody>\n",
       "</table>\n",
       "</div>"
      ],
      "text/plain": [
       "         asin                                              imUrl  \\\n",
       "0  0132793040  http://ecx.images-amazon.com/images/I/31JIPhp%...   \n",
       "1  0321732944  http://ecx.images-amazon.com/images/I/31uogm6Y...   \n",
       "2  0439886341  http://ecx.images-amazon.com/images/I/51k0qa8f...   \n",
       "3  0511189877  http://ecx.images-amazon.com/images/I/41HaAhbv...   \n",
       "4  0528881469  http://ecx.images-amazon.com/images/I/51FnRkJq...   \n",
       "\n",
       "                                         description  \\\n",
       "0  The Kelby Training DVD Mastering Blend Modes i...   \n",
       "1                                                NaN   \n",
       "2                    Digital Organizer and Messenger   \n",
       "3  The CLIKR-5 UR5U-8780L remote control is desig...   \n",
       "4  Like its award-winning predecessor, the Intell...   \n",
       "\n",
       "                                          categories  \\\n",
       "0  [[Electronics, Computers & Accessories, Cables...   \n",
       "1  [[Electronics, Computers & Accessories, Cables...   \n",
       "2  [[Electronics, Computers & Accessories, PDAs, ...   \n",
       "3  [[Electronics, Accessories & Supplies, Audio &...   \n",
       "4  [[Electronics, GPS & Navigation, Vehicle GPS, ...   \n",
       "\n",
       "                                               title   price  \\\n",
       "0  Kelby Training DVD: Mastering Blend Modes in A...     NaN   \n",
       "1  Kelby Training DVD: Adobe Photoshop CS5 Crash ...     NaN   \n",
       "2                    Digital Organizer and Messenger    8.15   \n",
       "3  CLIKR-5 Time Warner Cable Remote Control UR5U-...   23.36   \n",
       "4  Rand McNally 528881469 7-inch Intelliroute TND...  299.99   \n",
       "\n",
       "                 salesRank                                            related  \\\n",
       "0                      NaN                                                NaN   \n",
       "1                      NaN                                                NaN   \n",
       "2  {'Electronics': 144944}  {'also_viewed': ['0545016266', 'B009ECM8QY', '...   \n",
       "3                      NaN  {'also_viewed': ['B001KC08A4', 'B00KUL8O0W', '...   \n",
       "4                      NaN  {'also_viewed': ['B006ZOI9OY', 'B00C7FKT2A', '...   \n",
       "\n",
       "  brand  \n",
       "0   NaN  \n",
       "1   NaN  \n",
       "2   NaN  \n",
       "3   NaN  \n",
       "4   NaN  "
      ]
     },
     "execution_count": 4,
     "metadata": {},
     "output_type": "execute_result"
    }
   ],
   "source": [
    "meta_df.head()"
   ]
  },
  {
   "cell_type": "code",
   "execution_count": 13,
   "metadata": {
    "collapsed": true
   },
   "outputs": [],
   "source": []
  },
  {
   "cell_type": "code",
   "execution_count": 21,
   "metadata": {
    "scrolled": true
   },
   "outputs": [
    {
     "data": {
      "text/html": [
       "<div>\n",
       "<style>\n",
       "    .dataframe thead tr:only-child th {\n",
       "        text-align: right;\n",
       "    }\n",
       "\n",
       "    .dataframe thead th {\n",
       "        text-align: left;\n",
       "    }\n",
       "\n",
       "    .dataframe tbody tr th {\n",
       "        vertical-align: top;\n",
       "    }\n",
       "</style>\n",
       "<table border=\"1\" class=\"dataframe\">\n",
       "  <thead>\n",
       "    <tr style=\"text-align: right;\">\n",
       "      <th></th>\n",
       "      <th>asin</th>\n",
       "      <th>imUrl</th>\n",
       "      <th>description</th>\n",
       "      <th>categories</th>\n",
       "      <th>title</th>\n",
       "      <th>price</th>\n",
       "      <th>salesRank</th>\n",
       "      <th>related</th>\n",
       "      <th>brand</th>\n",
       "    </tr>\n",
       "  </thead>\n",
       "  <tbody>\n",
       "  </tbody>\n",
       "</table>\n",
       "</div>"
      ],
      "text/plain": [
       "Empty DataFrame\n",
       "Columns: [asin, imUrl, description, categories, title, price, salesRank, related, brand]\n",
       "Index: []"
      ]
     },
     "execution_count": 21,
     "metadata": {},
     "output_type": "execute_result"
    }
   ],
   "source": []
  },
  {
   "cell_type": "code",
   "execution_count": 20,
   "metadata": {},
   "outputs": [
    {
     "data": {
      "text/plain": [
       "Series([], Name: categories, dtype: object)"
      ]
     },
     "execution_count": 20,
     "metadata": {},
     "output_type": "execute_result"
    }
   ],
   "source": [
    "k"
   ]
  },
  {
   "cell_type": "code",
   "execution_count": 17,
   "metadata": {},
   "outputs": [
    {
     "name": "stdout",
     "output_type": "stream",
     "text": [
      "[['Electronics', 'GPS & Navigation', 'Vehicle GPS', 'Trucking GPS']]\n"
     ]
    }
   ],
   "source": [
    "for i in k:\n",
    "    print (i)"
   ]
  },
  {
   "cell_type": "code",
   "execution_count": 24,
   "metadata": {},
   "outputs": [
    {
     "data": {
      "text/plain": [
       "0         [[Electronics, Computers & Accessories, Cables...\n",
       "1         [[Electronics, Computers & Accessories, Cables...\n",
       "2         [[Electronics, Computers & Accessories, PDAs, ...\n",
       "3         [[Electronics, Accessories & Supplies, Audio &...\n",
       "4         [[Electronics, GPS & Navigation, Vehicle GPS, ...\n",
       "5         [[Electronics, Accessories & Supplies, Audio &...\n",
       "6         [[Electronics, eBook Readers & Accessories, Po...\n",
       "7         [[Electronics, eBook Readers & Accessories, Sk...\n",
       "8         [[Electronics, eBook Readers & Accessories, Co...\n",
       "9         [[Electronics, eBook Readers & Accessories, Co...\n",
       "10        [[Electronics, eBook Readers & Accessories, Co...\n",
       "11        [[Electronics, eBook Readers & Accessories, Co...\n",
       "12        [[Electronics, Computers & Accessories, Touch ...\n",
       "13        [[Electronics, eBook Readers & Accessories, Co...\n",
       "14        [[Electronics, Accessories & Supplies, Audio &...\n",
       "15        [[Electronics, Computers & Accessories, Touch ...\n",
       "16        [[Electronics, eBook Readers & Accessories, Bu...\n",
       "17        [[Electronics, eBook Readers & Accessories, eB...\n",
       "18        [[Electronics, eBook Readers & Accessories, Bu...\n",
       "19        [[Electronics, eBook Readers & Accessories, Sc...\n",
       "20        [[Electronics, eBook Readers & Accessories, Po...\n",
       "21        [[Electronics, Computers & Accessories, Touch ...\n",
       "22        [[Electronics, Computers & Accessories, PDAs, ...\n",
       "23        [[Electronics, eBook Readers & Accessories, Po...\n",
       "24        [[Electronics, eBook Readers & Accessories, Sk...\n",
       "25        [[Electronics, Computers & Accessories, PDAs, ...\n",
       "26        [[Electronics, Computers & Accessories, Laptop...\n",
       "27        [[Electronics, eBook Readers & Accessories, Co...\n",
       "28        [[Electronics, eBook Readers & Accessories, Co...\n",
       "29        [[Electronics, Car & Vehicle Electronics, Car ...\n",
       "                                ...                        \n",
       "498166    [[Electronics, Security & Surveillance, Access...\n",
       "498167    [[Electronics, Security & Surveillance, Access...\n",
       "498168    [[Electronics, Camera & Photo, Accessories, Ba...\n",
       "498169    [[Electronics, Portable Audio & Video, MP3 Pla...\n",
       "498170    [[Electronics, Computers & Accessories, Touch ...\n",
       "498171    [[Electronics, Accessories & Supplies, Audio &...\n",
       "498172    [[Electronics, Security & Surveillance, Securi...\n",
       "498173    [[Electronics, Computers & Accessories, Comput...\n",
       "498174    [[Electronics, Computers & Accessories, Data S...\n",
       "498175    [[Electronics, Computers & Accessories, Tablets]]\n",
       "498176    [[Electronics, Accessories & Supplies, Audio &...\n",
       "498177    [[Electronics, GPS & Navigation, Sports & Hand...\n",
       "498178    [[Electronics, GPS & Navigation, Sports & Hand...\n",
       "498179    [[Electronics, Computers & Accessories, Comput...\n",
       "498180    [[Electronics, Camera & Photo, Accessories, Le...\n",
       "498181    [[Electronics, Computers & Accessories, Cables...\n",
       "498182    [[Electronics, Camera & Photo, Video, Sports &...\n",
       "498183    [[Electronics, Computers & Accessories, Touch ...\n",
       "498184    [[Electronics, Computers & Accessories, Touch ...\n",
       "498185    [[Electronics, Accessories & Supplies, Audio &...\n",
       "498186    [[Electronics, Camera & Photo, Digital Cameras...\n",
       "498187    [[Electronics, Camera & Photo, Digital Cameras...\n",
       "498188    [[Electronics, Computers & Accessories, Laptop...\n",
       "498189    [[Electronics, Computers & Accessories, Comput...\n",
       "498190    [[Electronics, Computers & Accessories, Laptop...\n",
       "498191    [[Electronics, GPS & Navigation, GPS System Ac...\n",
       "498192    [[Electronics, Computers & Accessories, Cables...\n",
       "498193    [[Electronics, Computers & Accessories, Cables...\n",
       "498194    [[Electronics, Computers & Accessories, Cables...\n",
       "498195    [[Electronics, Computers & Accessories, Cables...\n",
       "Name: categories, Length: 498196, dtype: object"
      ]
     },
     "execution_count": 24,
     "metadata": {},
     "output_type": "execute_result"
    }
   ],
   "source": [
    "df['categories']"
   ]
  },
  {
   "cell_type": "code",
   "execution_count": 5,
   "metadata": {},
   "outputs": [
    {
     "data": {
      "text/html": [
       "<div>\n",
       "<style>\n",
       "    .dataframe thead tr:only-child th {\n",
       "        text-align: right;\n",
       "    }\n",
       "\n",
       "    .dataframe thead th {\n",
       "        text-align: left;\n",
       "    }\n",
       "\n",
       "    .dataframe tbody tr th {\n",
       "        vertical-align: top;\n",
       "    }\n",
       "</style>\n",
       "<table border=\"1\" class=\"dataframe\">\n",
       "  <thead>\n",
       "    <tr style=\"text-align: right;\">\n",
       "      <th></th>\n",
       "      <th>asin</th>\n",
       "      <th>imUrl</th>\n",
       "      <th>description</th>\n",
       "      <th>categories</th>\n",
       "      <th>title</th>\n",
       "      <th>price</th>\n",
       "      <th>salesRank</th>\n",
       "      <th>related</th>\n",
       "      <th>brand</th>\n",
       "    </tr>\n",
       "  </thead>\n",
       "  <tbody>\n",
       "    <tr>\n",
       "      <th>0</th>\n",
       "      <td>0132793040</td>\n",
       "      <td>http://ecx.images-amazon.com/images/I/31JIPhp%...</td>\n",
       "      <td>The Kelby Training DVD Mastering Blend Modes i...</td>\n",
       "      <td>[[Electronics, Computers &amp; Accessories, Cables...</td>\n",
       "      <td>Kelby Training DVD: Mastering Blend Modes in A...</td>\n",
       "      <td>NaN</td>\n",
       "      <td>NaN</td>\n",
       "      <td>NaN</td>\n",
       "      <td>NaN</td>\n",
       "    </tr>\n",
       "    <tr>\n",
       "      <th>1</th>\n",
       "      <td>0321732944</td>\n",
       "      <td>http://ecx.images-amazon.com/images/I/31uogm6Y...</td>\n",
       "      <td>NaN</td>\n",
       "      <td>[[Electronics, Computers &amp; Accessories, Cables...</td>\n",
       "      <td>Kelby Training DVD: Adobe Photoshop CS5 Crash ...</td>\n",
       "      <td>NaN</td>\n",
       "      <td>NaN</td>\n",
       "      <td>NaN</td>\n",
       "      <td>NaN</td>\n",
       "    </tr>\n",
       "    <tr>\n",
       "      <th>2</th>\n",
       "      <td>0439886341</td>\n",
       "      <td>http://ecx.images-amazon.com/images/I/51k0qa8f...</td>\n",
       "      <td>Digital Organizer and Messenger</td>\n",
       "      <td>[[Electronics, Computers &amp; Accessories, PDAs, ...</td>\n",
       "      <td>Digital Organizer and Messenger</td>\n",
       "      <td>8.15</td>\n",
       "      <td>{'Electronics': 144944}</td>\n",
       "      <td>{'also_viewed': ['0545016266', 'B009ECM8QY', '...</td>\n",
       "      <td>NaN</td>\n",
       "    </tr>\n",
       "    <tr>\n",
       "      <th>3</th>\n",
       "      <td>0511189877</td>\n",
       "      <td>http://ecx.images-amazon.com/images/I/41HaAhbv...</td>\n",
       "      <td>The CLIKR-5 UR5U-8780L remote control is desig...</td>\n",
       "      <td>[[Electronics, Accessories &amp; Supplies, Audio &amp;...</td>\n",
       "      <td>CLIKR-5 Time Warner Cable Remote Control UR5U-...</td>\n",
       "      <td>23.36</td>\n",
       "      <td>NaN</td>\n",
       "      <td>{'also_viewed': ['B001KC08A4', 'B00KUL8O0W', '...</td>\n",
       "      <td>NaN</td>\n",
       "    </tr>\n",
       "    <tr>\n",
       "      <th>4</th>\n",
       "      <td>0528881469</td>\n",
       "      <td>http://ecx.images-amazon.com/images/I/51FnRkJq...</td>\n",
       "      <td>Like its award-winning predecessor, the Intell...</td>\n",
       "      <td>[[Electronics, GPS &amp; Navigation, Vehicle GPS, ...</td>\n",
       "      <td>Rand McNally 528881469 7-inch Intelliroute TND...</td>\n",
       "      <td>299.99</td>\n",
       "      <td>NaN</td>\n",
       "      <td>{'also_viewed': ['B006ZOI9OY', 'B00C7FKT2A', '...</td>\n",
       "      <td>NaN</td>\n",
       "    </tr>\n",
       "  </tbody>\n",
       "</table>\n",
       "</div>"
      ],
      "text/plain": [
       "         asin                                              imUrl  \\\n",
       "0  0132793040  http://ecx.images-amazon.com/images/I/31JIPhp%...   \n",
       "1  0321732944  http://ecx.images-amazon.com/images/I/31uogm6Y...   \n",
       "2  0439886341  http://ecx.images-amazon.com/images/I/51k0qa8f...   \n",
       "3  0511189877  http://ecx.images-amazon.com/images/I/41HaAhbv...   \n",
       "4  0528881469  http://ecx.images-amazon.com/images/I/51FnRkJq...   \n",
       "\n",
       "                                         description  \\\n",
       "0  The Kelby Training DVD Mastering Blend Modes i...   \n",
       "1                                                NaN   \n",
       "2                    Digital Organizer and Messenger   \n",
       "3  The CLIKR-5 UR5U-8780L remote control is desig...   \n",
       "4  Like its award-winning predecessor, the Intell...   \n",
       "\n",
       "                                          categories  \\\n",
       "0  [[Electronics, Computers & Accessories, Cables...   \n",
       "1  [[Electronics, Computers & Accessories, Cables...   \n",
       "2  [[Electronics, Computers & Accessories, PDAs, ...   \n",
       "3  [[Electronics, Accessories & Supplies, Audio &...   \n",
       "4  [[Electronics, GPS & Navigation, Vehicle GPS, ...   \n",
       "\n",
       "                                               title   price  \\\n",
       "0  Kelby Training DVD: Mastering Blend Modes in A...     NaN   \n",
       "1  Kelby Training DVD: Adobe Photoshop CS5 Crash ...     NaN   \n",
       "2                    Digital Organizer and Messenger    8.15   \n",
       "3  CLIKR-5 Time Warner Cable Remote Control UR5U-...   23.36   \n",
       "4  Rand McNally 528881469 7-inch Intelliroute TND...  299.99   \n",
       "\n",
       "                 salesRank                                            related  \\\n",
       "0                      NaN                                                NaN   \n",
       "1                      NaN                                                NaN   \n",
       "2  {'Electronics': 144944}  {'also_viewed': ['0545016266', 'B009ECM8QY', '...   \n",
       "3                      NaN  {'also_viewed': ['B001KC08A4', 'B00KUL8O0W', '...   \n",
       "4                      NaN  {'also_viewed': ['B006ZOI9OY', 'B00C7FKT2A', '...   \n",
       "\n",
       "  brand  \n",
       "0   NaN  \n",
       "1   NaN  \n",
       "2   NaN  \n",
       "3   NaN  \n",
       "4   NaN  "
      ]
     },
     "execution_count": 5,
     "metadata": {},
     "output_type": "execute_result"
    }
   ],
   "source": [
    "meta_df.head()"
   ]
  },
  {
   "cell_type": "code",
   "execution_count": 8,
   "metadata": {},
   "outputs": [
    {
     "data": {
      "text/plain": [
       "498196"
      ]
     },
     "execution_count": 8,
     "metadata": {},
     "output_type": "execute_result"
    }
   ],
   "source": [
    "meta_df['asin'].nunique()"
   ]
  },
  {
   "cell_type": "code",
   "execution_count": 9,
   "metadata": {},
   "outputs": [
    {
     "data": {
      "text/plain": [
       "63001"
      ]
     },
     "execution_count": 9,
     "metadata": {},
     "output_type": "execute_result"
    }
   ],
   "source": [
    "df['asin'].nunique()"
   ]
  },
  {
   "cell_type": "code",
   "execution_count": 11,
   "metadata": {
    "collapsed": true
   },
   "outputs": [],
   "source": [
    "current_products = df['asin']"
   ]
  },
  {
   "cell_type": "code",
   "execution_count": null,
   "metadata": {
    "collapsed": true
   },
   "outputs": [],
   "source": []
  },
  {
   "cell_type": "code",
   "execution_count": 52,
   "metadata": {
    "collapsed": true
   },
   "outputs": [],
   "source": [
    "\n",
    "\n",
    "meta2_df = meta_df[meta_df['asin'].isin(current_products)]"
   ]
  },
  {
   "cell_type": "code",
   "execution_count": 53,
   "metadata": {},
   "outputs": [
    {
     "data": {
      "text/plain": [
       "63001"
      ]
     },
     "execution_count": 53,
     "metadata": {},
     "output_type": "execute_result"
    }
   ],
   "source": [
    "meta2_df['asin'].nunique()"
   ]
  },
  {
   "cell_type": "code",
   "execution_count": 54,
   "metadata": {},
   "outputs": [
    {
     "data": {
      "text/html": [
       "<div>\n",
       "<style>\n",
       "    .dataframe thead tr:only-child th {\n",
       "        text-align: right;\n",
       "    }\n",
       "\n",
       "    .dataframe thead th {\n",
       "        text-align: left;\n",
       "    }\n",
       "\n",
       "    .dataframe tbody tr th {\n",
       "        vertical-align: top;\n",
       "    }\n",
       "</style>\n",
       "<table border=\"1\" class=\"dataframe\">\n",
       "  <thead>\n",
       "    <tr style=\"text-align: right;\">\n",
       "      <th></th>\n",
       "      <th>asin</th>\n",
       "      <th>imUrl</th>\n",
       "      <th>description</th>\n",
       "      <th>categories</th>\n",
       "      <th>title</th>\n",
       "      <th>price</th>\n",
       "      <th>salesRank</th>\n",
       "      <th>related</th>\n",
       "      <th>brand</th>\n",
       "    </tr>\n",
       "  </thead>\n",
       "  <tbody>\n",
       "    <tr>\n",
       "      <th>497660</th>\n",
       "      <td>B00KSLCU72</td>\n",
       "      <td>http://ecx.images-amazon.com/images/I/41wlybKm...</td>\n",
       "      <td>FosPower FUSE Universal World Travel USB AC Ad...</td>\n",
       "      <td>[[Electronics, Accessories &amp; Supplies, Batteri...</td>\n",
       "      <td>FosPower FUSE World-Wide Universal AC Adapter ...</td>\n",
       "      <td>7.99</td>\n",
       "      <td>NaN</td>\n",
       "      <td>{'also_bought': ['B00JJOEV9Y', 'B00L8HA5L8', '...</td>\n",
       "      <td>NaN</td>\n",
       "    </tr>\n",
       "    <tr>\n",
       "      <th>497739</th>\n",
       "      <td>B00KVNY2KA</td>\n",
       "      <td>http://ecx.images-amazon.com/images/I/417lJxa9...</td>\n",
       "      <td>The Satechi Spectrum Mouse Wired Optical Mouse...</td>\n",
       "      <td>[[Electronics, Computers &amp; Accessories, Cables...</td>\n",
       "      <td>Satechi Spectrum Mouse Wired Optical Mouse (Si...</td>\n",
       "      <td>24.99</td>\n",
       "      <td>NaN</td>\n",
       "      <td>{'also_viewed': ['B00LIBH4YK', 'B00CJKW4WQ', '...</td>\n",
       "      <td>NaN</td>\n",
       "    </tr>\n",
       "    <tr>\n",
       "      <th>497759</th>\n",
       "      <td>B00KWHMR6G</td>\n",
       "      <td>http://ecx.images-amazon.com/images/I/41phatTV...</td>\n",
       "      <td></td>\n",
       "      <td>[[Electronics, Computers &amp; Accessories, Networ...</td>\n",
       "      <td>NETGEAR AC3200 Nighthawk X6 Tri-Band WiFi Rout...</td>\n",
       "      <td>299.99</td>\n",
       "      <td>{}</td>\n",
       "      <td>{'also_bought': ['B008I64O78', 'B008I64EKA', '...</td>\n",
       "      <td>Netgear</td>\n",
       "    </tr>\n",
       "    <tr>\n",
       "      <th>497781</th>\n",
       "      <td>B00KXAFYZS</td>\n",
       "      <td>http://ecx.images-amazon.com/images/I/31A7Qct1...</td>\n",
       "      <td>The Blurex Wireless-N USB Adapter Outdoor Wifi...</td>\n",
       "      <td>[[Electronics, Computers &amp; Accessories, Networ...</td>\n",
       "      <td>Blurex High Power 1000Mw Wireless-N Wifi Adapt...</td>\n",
       "      <td>36.99</td>\n",
       "      <td>NaN</td>\n",
       "      <td>{'also_viewed': ['B00LFOZ0M8', 'B00K1FZ64Y', '...</td>\n",
       "      <td>NaN</td>\n",
       "    </tr>\n",
       "    <tr>\n",
       "      <th>497830</th>\n",
       "      <td>B00KYMCJF8</td>\n",
       "      <td>http://ecx.images-amazon.com/images/I/518oN4Vz...</td>\n",
       "      <td>Omaker-Open your mind,we are the makerOmaker B...</td>\n",
       "      <td>[[Electronics, Portable Audio &amp; Video, MP3 Pla...</td>\n",
       "      <td>Omaker M3-Outdoor Sport Rugged Square Design S...</td>\n",
       "      <td>29.99</td>\n",
       "      <td>{}</td>\n",
       "      <td>{'also_bought': ['B00J0CVVGQ', 'B00KQCJ0CG', '...</td>\n",
       "      <td>NaN</td>\n",
       "    </tr>\n",
       "    <tr>\n",
       "      <th>497900</th>\n",
       "      <td>B00L2442H0</td>\n",
       "      <td>http://ecx.images-amazon.com/images/I/51NFBdDZ...</td>\n",
       "      <td>Description:Add up to 4 peripherals quickly an...</td>\n",
       "      <td>[[Electronics, Computers &amp; Accessories, Networ...</td>\n",
       "      <td>Sabrent 4 Port Portable USB 2.0 Hub (9.5&amp;quot;...</td>\n",
       "      <td>5.99</td>\n",
       "      <td>{'Electronics': 1383}</td>\n",
       "      <td>{'also_bought': ['B00IRV2DL8', 'B00GU8OIYA', '...</td>\n",
       "      <td>Sabrent</td>\n",
       "    </tr>\n",
       "    <tr>\n",
       "      <th>497904</th>\n",
       "      <td>B00L26YDA4</td>\n",
       "      <td>http://ecx.images-amazon.com/images/I/41061q4C...</td>\n",
       "      <td>Description:The Sabrent Wifi Receiver lets you...</td>\n",
       "      <td>[[Electronics, Car &amp; Vehicle Electronics, Vehi...</td>\n",
       "      <td>Sabrent Wifi Audio Receiver (Supports DLNA and...</td>\n",
       "      <td>35.99</td>\n",
       "      <td>{'Cell Phones &amp; Accessories': 6139}</td>\n",
       "      <td>{'also_bought': ['B00KB5QEYK', 'B00L2JQ8AE', '...</td>\n",
       "      <td>Sabrent</td>\n",
       "    </tr>\n",
       "    <tr>\n",
       "      <th>497905</th>\n",
       "      <td>B00L21HC7A</td>\n",
       "      <td>http://ecx.images-amazon.com/images/I/513kT0it...</td>\n",
       "      <td>Description:The Sabrent CR-CCU3 3-Slot Card Re...</td>\n",
       "      <td>[[Electronics, Computers &amp; Accessories, Cables...</td>\n",
       "      <td>Sabrent USB 3.0 SuperSpeed 3 slot Memory Card ...</td>\n",
       "      <td>14.99</td>\n",
       "      <td>{}</td>\n",
       "      <td>{'also_viewed': ['B00GAKX34E', 'B00L2442H0', '...</td>\n",
       "      <td>Sabrent</td>\n",
       "    </tr>\n",
       "    <tr>\n",
       "      <th>497926</th>\n",
       "      <td>B00L3YHF6O</td>\n",
       "      <td>http://ecx.images-amazon.com/images/I/41SBx7QY...</td>\n",
       "      <td>Mind-Shattering Performance, Precision-Tuned F...</td>\n",
       "      <td>[[Electronics, Home Audio, Stereo Components, ...</td>\n",
       "      <td>NEW! Creative Sound Blaster Roar: Portable NFC...</td>\n",
       "      <td>149.99</td>\n",
       "      <td>{'Cell Phones &amp; Accessories': 131}</td>\n",
       "      <td>{'also_bought': ['B00LBNW2TC', 'B00L8I6SFY', '...</td>\n",
       "      <td>NaN</td>\n",
       "    </tr>\n",
       "    <tr>\n",
       "      <th>498163</th>\n",
       "      <td>B00LGQ6HL8</td>\n",
       "      <td>http://ecx.images-amazon.com/images/I/41%2BcVY...</td>\n",
       "      <td>The Brainwavz S5 are dynamic driver based earp...</td>\n",
       "      <td>[[Electronics, Accessories &amp; Supplies, Audio &amp;...</td>\n",
       "      <td>Brainwavz S5 In Ear Headphones</td>\n",
       "      <td>99.50</td>\n",
       "      <td>NaN</td>\n",
       "      <td>{'also_viewed': ['B00G4V0QSK', 'B00G4UQ6U8', '...</td>\n",
       "      <td>NaN</td>\n",
       "    </tr>\n",
       "  </tbody>\n",
       "</table>\n",
       "</div>"
      ],
      "text/plain": [
       "              asin                                              imUrl  \\\n",
       "497660  B00KSLCU72  http://ecx.images-amazon.com/images/I/41wlybKm...   \n",
       "497739  B00KVNY2KA  http://ecx.images-amazon.com/images/I/417lJxa9...   \n",
       "497759  B00KWHMR6G  http://ecx.images-amazon.com/images/I/41phatTV...   \n",
       "497781  B00KXAFYZS  http://ecx.images-amazon.com/images/I/31A7Qct1...   \n",
       "497830  B00KYMCJF8  http://ecx.images-amazon.com/images/I/518oN4Vz...   \n",
       "497900  B00L2442H0  http://ecx.images-amazon.com/images/I/51NFBdDZ...   \n",
       "497904  B00L26YDA4  http://ecx.images-amazon.com/images/I/41061q4C...   \n",
       "497905  B00L21HC7A  http://ecx.images-amazon.com/images/I/513kT0it...   \n",
       "497926  B00L3YHF6O  http://ecx.images-amazon.com/images/I/41SBx7QY...   \n",
       "498163  B00LGQ6HL8  http://ecx.images-amazon.com/images/I/41%2BcVY...   \n",
       "\n",
       "                                              description  \\\n",
       "497660  FosPower FUSE Universal World Travel USB AC Ad...   \n",
       "497739  The Satechi Spectrum Mouse Wired Optical Mouse...   \n",
       "497759                                                      \n",
       "497781  The Blurex Wireless-N USB Adapter Outdoor Wifi...   \n",
       "497830  Omaker-Open your mind,we are the makerOmaker B...   \n",
       "497900  Description:Add up to 4 peripherals quickly an...   \n",
       "497904  Description:The Sabrent Wifi Receiver lets you...   \n",
       "497905  Description:The Sabrent CR-CCU3 3-Slot Card Re...   \n",
       "497926  Mind-Shattering Performance, Precision-Tuned F...   \n",
       "498163  The Brainwavz S5 are dynamic driver based earp...   \n",
       "\n",
       "                                               categories  \\\n",
       "497660  [[Electronics, Accessories & Supplies, Batteri...   \n",
       "497739  [[Electronics, Computers & Accessories, Cables...   \n",
       "497759  [[Electronics, Computers & Accessories, Networ...   \n",
       "497781  [[Electronics, Computers & Accessories, Networ...   \n",
       "497830  [[Electronics, Portable Audio & Video, MP3 Pla...   \n",
       "497900  [[Electronics, Computers & Accessories, Networ...   \n",
       "497904  [[Electronics, Car & Vehicle Electronics, Vehi...   \n",
       "497905  [[Electronics, Computers & Accessories, Cables...   \n",
       "497926  [[Electronics, Home Audio, Stereo Components, ...   \n",
       "498163  [[Electronics, Accessories & Supplies, Audio &...   \n",
       "\n",
       "                                                    title   price  \\\n",
       "497660  FosPower FUSE World-Wide Universal AC Adapter ...    7.99   \n",
       "497739  Satechi Spectrum Mouse Wired Optical Mouse (Si...   24.99   \n",
       "497759  NETGEAR AC3200 Nighthawk X6 Tri-Band WiFi Rout...  299.99   \n",
       "497781  Blurex High Power 1000Mw Wireless-N Wifi Adapt...   36.99   \n",
       "497830  Omaker M3-Outdoor Sport Rugged Square Design S...   29.99   \n",
       "497900  Sabrent 4 Port Portable USB 2.0 Hub (9.5&quot;...    5.99   \n",
       "497904  Sabrent Wifi Audio Receiver (Supports DLNA and...   35.99   \n",
       "497905  Sabrent USB 3.0 SuperSpeed 3 slot Memory Card ...   14.99   \n",
       "497926  NEW! Creative Sound Blaster Roar: Portable NFC...  149.99   \n",
       "498163                     Brainwavz S5 In Ear Headphones   99.50   \n",
       "\n",
       "                                  salesRank  \\\n",
       "497660                                  NaN   \n",
       "497739                                  NaN   \n",
       "497759                                   {}   \n",
       "497781                                  NaN   \n",
       "497830                                   {}   \n",
       "497900                {'Electronics': 1383}   \n",
       "497904  {'Cell Phones & Accessories': 6139}   \n",
       "497905                                   {}   \n",
       "497926   {'Cell Phones & Accessories': 131}   \n",
       "498163                                  NaN   \n",
       "\n",
       "                                                  related    brand  \n",
       "497660  {'also_bought': ['B00JJOEV9Y', 'B00L8HA5L8', '...      NaN  \n",
       "497739  {'also_viewed': ['B00LIBH4YK', 'B00CJKW4WQ', '...      NaN  \n",
       "497759  {'also_bought': ['B008I64O78', 'B008I64EKA', '...  Netgear  \n",
       "497781  {'also_viewed': ['B00LFOZ0M8', 'B00K1FZ64Y', '...      NaN  \n",
       "497830  {'also_bought': ['B00J0CVVGQ', 'B00KQCJ0CG', '...      NaN  \n",
       "497900  {'also_bought': ['B00IRV2DL8', 'B00GU8OIYA', '...  Sabrent  \n",
       "497904  {'also_bought': ['B00KB5QEYK', 'B00L2JQ8AE', '...  Sabrent  \n",
       "497905  {'also_viewed': ['B00GAKX34E', 'B00L2442H0', '...  Sabrent  \n",
       "497926  {'also_bought': ['B00LBNW2TC', 'B00L8I6SFY', '...      NaN  \n",
       "498163  {'also_viewed': ['B00G4V0QSK', 'B00G4UQ6U8', '...      NaN  "
      ]
     },
     "execution_count": 54,
     "metadata": {},
     "output_type": "execute_result"
    }
   ],
   "source": [
    "meta2_df.tail(10)"
   ]
  },
  {
   "cell_type": "code",
   "execution_count": 15,
   "metadata": {},
   "outputs": [
    {
     "data": {
      "text/plain": [
       "asin           63001\n",
       "imUrl          62957\n",
       "description    61286\n",
       "categories     63001\n",
       "title          61820\n",
       "price          58969\n",
       "salesRank      21293\n",
       "related        60682\n",
       "brand          29751\n",
       "dtype: int64"
      ]
     },
     "execution_count": 15,
     "metadata": {},
     "output_type": "execute_result"
    }
   ],
   "source": [
    "meta2_df.count()"
   ]
  },
  {
   "cell_type": "code",
   "execution_count": 16,
   "metadata": {
    "collapsed": true
   },
   "outputs": [],
   "source": [
    "### Save the Product Info of the reviews\n",
    "meta2_df.to_csv(\"meta_data\")"
   ]
  },
  {
   "cell_type": "code",
   "execution_count": 47,
   "metadata": {
    "collapsed": true
   },
   "outputs": [],
   "source": [
    "meta2_df = pd.read_csv(\"meta_data\")"
   ]
  },
  {
   "cell_type": "code",
   "execution_count": 33,
   "metadata": {
    "collapsed": true
   },
   "outputs": [],
   "source": [
    "## User Quickness\n",
    "\n",
    "for each product get the time of first review\n",
    "store it\n",
    "for each review subtract its time and the time of first review\n",
    "Find the average quickness of the authors /reviewers / users\n"
   ]
  },
  {
   "cell_type": "code",
   "execution_count": 55,
   "metadata": {},
   "outputs": [
    {
     "data": {
      "text/plain": [
       "['Electronics', 'GPS & Navigation', 'Vehicle GPS', 'Trucking GPS']"
      ]
     },
     "execution_count": 55,
     "metadata": {},
     "output_type": "execute_result"
    }
   ],
   "source": [
    "meta2_df['categories'].iloc[0][0]"
   ]
  },
  {
   "cell_type": "code",
   "execution_count": 56,
   "metadata": {
    "collapsed": true
   },
   "outputs": [],
   "source": [
    "def remove_array(arr):\n",
    "    return arr[0][1:]"
   ]
  },
  {
   "cell_type": "code",
   "execution_count": 57,
   "metadata": {},
   "outputs": [
    {
     "name": "stderr",
     "output_type": "stream",
     "text": [
      "C:\\Users\\Trishul\\Anaconda3\\lib\\site-packages\\ipykernel_launcher.py:1: SettingWithCopyWarning: \n",
      "A value is trying to be set on a copy of a slice from a DataFrame.\n",
      "Try using .loc[row_indexer,col_indexer] = value instead\n",
      "\n",
      "See the caveats in the documentation: http://pandas.pydata.org/pandas-docs/stable/indexing.html#indexing-view-versus-copy\n",
      "  \"\"\"Entry point for launching an IPython kernel.\n"
     ]
    }
   ],
   "source": [
    "meta2_df['categories'] = meta2_df['categories'].apply(remove_array)"
   ]
  },
  {
   "cell_type": "code",
   "execution_count": 64,
   "metadata": {},
   "outputs": [
    {
     "data": {
      "text/plain": [
       "list"
      ]
     },
     "execution_count": 64,
     "metadata": {},
     "output_type": "execute_result"
    }
   ],
   "source": [
    "type(meta2_df['categories'].iloc[0])"
   ]
  },
  {
   "cell_type": "code",
   "execution_count": 60,
   "metadata": {
    "collapsed": true
   },
   "outputs": [],
   "source": [
    "category_set = set()"
   ]
  },
  {
   "cell_type": "code",
   "execution_count": 61,
   "metadata": {
    "collapsed": true
   },
   "outputs": [],
   "source": [
    "category_set.add('Electronics')"
   ]
  },
  {
   "cell_type": "code",
   "execution_count": 62,
   "metadata": {
    "collapsed": true
   },
   "outputs": [],
   "source": [
    "category_set.remove('Electronics')"
   ]
  },
  {
   "cell_type": "code",
   "execution_count": 63,
   "metadata": {},
   "outputs": [
    {
     "data": {
      "text/plain": [
       "set()"
      ]
     },
     "execution_count": 63,
     "metadata": {},
     "output_type": "execute_result"
    }
   ],
   "source": [
    "category_set"
   ]
  },
  {
   "cell_type": "code",
   "execution_count": 65,
   "metadata": {},
   "outputs": [
    {
     "name": "stdout",
     "output_type": "stream",
     "text": [
      "{1, 2, 3, 4}\n"
     ]
    }
   ],
   "source": [
    "s1 = set([1,2,3])\n",
    "l1 = [1,2,3,4]\n",
    "s1.update(l1)\n",
    "print(s1)"
   ]
  },
  {
   "cell_type": "code",
   "execution_count": 66,
   "metadata": {
    "collapsed": true
   },
   "outputs": [],
   "source": [
    "def add_to_set(arr) :\n",
    "    category_set.update(arr)"
   ]
  },
  {
   "cell_type": "code",
   "execution_count": 68,
   "metadata": {},
   "outputs": [
    {
     "data": {
      "text/plain": [
       "4         None\n",
       "15        None\n",
       "20        None\n",
       "38        None\n",
       "53        None\n",
       "54        None\n",
       "56        None\n",
       "57        None\n",
       "59        None\n",
       "61        None\n",
       "62        None\n",
       "64        None\n",
       "65        None\n",
       "67        None\n",
       "83        None\n",
       "127       None\n",
       "132       None\n",
       "135       None\n",
       "189       None\n",
       "206       None\n",
       "215       None\n",
       "229       None\n",
       "265       None\n",
       "266       None\n",
       "275       None\n",
       "283       None\n",
       "294       None\n",
       "299       None\n",
       "303       None\n",
       "314       None\n",
       "          ... \n",
       "497230    None\n",
       "497259    None\n",
       "497262    None\n",
       "497312    None\n",
       "497315    None\n",
       "497361    None\n",
       "497366    None\n",
       "497370    None\n",
       "497383    None\n",
       "497447    None\n",
       "497489    None\n",
       "497491    None\n",
       "497492    None\n",
       "497496    None\n",
       "497520    None\n",
       "497546    None\n",
       "497547    None\n",
       "497549    None\n",
       "497550    None\n",
       "497570    None\n",
       "497660    None\n",
       "497739    None\n",
       "497759    None\n",
       "497781    None\n",
       "497830    None\n",
       "497900    None\n",
       "497904    None\n",
       "497905    None\n",
       "497926    None\n",
       "498163    None\n",
       "Name: categories, Length: 63001, dtype: object"
      ]
     },
     "execution_count": 68,
     "metadata": {},
     "output_type": "execute_result"
    }
   ],
   "source": [
    "meta2_df['categories'].apply(add_to_set)"
   ]
  },
  {
   "cell_type": "code",
   "execution_count": 70,
   "metadata": {},
   "outputs": [
    {
     "data": {
      "text/plain": [
       "735"
      ]
     },
     "execution_count": 70,
     "metadata": {},
     "output_type": "execute_result"
    }
   ],
   "source": [
    "len(category_set)"
   ]
  },
  {
   "cell_type": "code",
   "execution_count": 73,
   "metadata": {
    "collapsed": true
   },
   "outputs": [],
   "source": [
    "category_list  = list(category_set)"
   ]
  },
  {
   "cell_type": "code",
   "execution_count": 76,
   "metadata": {
    "scrolled": true
   },
   "outputs": [
    {
     "data": {
      "text/plain": [
       "['Fuses',\n",
       " 'SCSI Port Cards',\n",
       " 'Video Studio',\n",
       " 'Barking-Dog Alarms',\n",
       " 'Traffic Message Channel (TMC) Receiver Modules',\n",
       " 'Cell Phones',\n",
       " 'Telescope & Microscope Accessories',\n",
       " 'eBook Readers & Accessories',\n",
       " 'Motorcycle Bluetooth Headsets',\n",
       " 'Luggage & Travel Gear',\n",
       " 'Voice Dialers',\n",
       " 'Video Projector Accessories',\n",
       " 'Home Audio Crossovers & Parts',\n",
       " 'Presentation Supplies',\n",
       " 'APS Cameras',\n",
       " 'Component Amplifiers',\n",
       " 'Mounts',\n",
       " 'Graphics Tablets',\n",
       " 'Guiders & Wedges',\n",
       " 'Power Packs']"
      ]
     },
     "execution_count": 76,
     "metadata": {},
     "output_type": "execute_result"
    }
   ],
   "source": [
    "category_list[:20]"
   ]
  },
  {
   "cell_type": "code",
   "execution_count": 77,
   "metadata": {},
   "outputs": [
    {
     "data": {
      "text/html": [
       "<div>\n",
       "<style>\n",
       "    .dataframe thead tr:only-child th {\n",
       "        text-align: right;\n",
       "    }\n",
       "\n",
       "    .dataframe thead th {\n",
       "        text-align: left;\n",
       "    }\n",
       "\n",
       "    .dataframe tbody tr th {\n",
       "        vertical-align: top;\n",
       "    }\n",
       "</style>\n",
       "<table border=\"1\" class=\"dataframe\">\n",
       "  <thead>\n",
       "    <tr style=\"text-align: right;\">\n",
       "      <th></th>\n",
       "      <th>reviewerID</th>\n",
       "      <th>asin</th>\n",
       "      <th>reviewerName</th>\n",
       "      <th>helpful</th>\n",
       "      <th>reviewText</th>\n",
       "      <th>overall</th>\n",
       "      <th>summary</th>\n",
       "      <th>unixReviewTime</th>\n",
       "      <th>reviewTime</th>\n",
       "    </tr>\n",
       "  </thead>\n",
       "  <tbody>\n",
       "    <tr>\n",
       "      <th>0</th>\n",
       "      <td>AO94DHGC771SJ</td>\n",
       "      <td>0528881469</td>\n",
       "      <td>amazdnu</td>\n",
       "      <td>[0, 0]</td>\n",
       "      <td>We got this GPS for my husband who is an (OTR)...</td>\n",
       "      <td>5.0</td>\n",
       "      <td>Gotta have GPS!</td>\n",
       "      <td>1370131200</td>\n",
       "      <td>06 2, 2013</td>\n",
       "    </tr>\n",
       "    <tr>\n",
       "      <th>1</th>\n",
       "      <td>AMO214LNFCEI4</td>\n",
       "      <td>0528881469</td>\n",
       "      <td>Amazon Customer</td>\n",
       "      <td>[12, 15]</td>\n",
       "      <td>I'm a professional OTR truck driver, and I bou...</td>\n",
       "      <td>1.0</td>\n",
       "      <td>Very Disappointed</td>\n",
       "      <td>1290643200</td>\n",
       "      <td>11 25, 2010</td>\n",
       "    </tr>\n",
       "    <tr>\n",
       "      <th>2</th>\n",
       "      <td>A3N7T0DY83Y4IG</td>\n",
       "      <td>0528881469</td>\n",
       "      <td>C. A. Freeman</td>\n",
       "      <td>[43, 45]</td>\n",
       "      <td>Well, what can I say.  I've had this unit in m...</td>\n",
       "      <td>3.0</td>\n",
       "      <td>1st impression</td>\n",
       "      <td>1283990400</td>\n",
       "      <td>09 9, 2010</td>\n",
       "    </tr>\n",
       "    <tr>\n",
       "      <th>3</th>\n",
       "      <td>A1H8PY3QHMQQA0</td>\n",
       "      <td>0528881469</td>\n",
       "      <td>Dave M. Shaw \"mack dave\"</td>\n",
       "      <td>[9, 10]</td>\n",
       "      <td>Not going to write a long review, even thought...</td>\n",
       "      <td>2.0</td>\n",
       "      <td>Great grafics, POOR GPS</td>\n",
       "      <td>1290556800</td>\n",
       "      <td>11 24, 2010</td>\n",
       "    </tr>\n",
       "    <tr>\n",
       "      <th>4</th>\n",
       "      <td>A24EV6RXELQZ63</td>\n",
       "      <td>0528881469</td>\n",
       "      <td>Wayne Smith</td>\n",
       "      <td>[0, 0]</td>\n",
       "      <td>I've had mine for a year and here's what we go...</td>\n",
       "      <td>1.0</td>\n",
       "      <td>Major issues, only excuses for support</td>\n",
       "      <td>1317254400</td>\n",
       "      <td>09 29, 2011</td>\n",
       "    </tr>\n",
       "  </tbody>\n",
       "</table>\n",
       "</div>"
      ],
      "text/plain": [
       "       reviewerID        asin              reviewerName   helpful  \\\n",
       "0   AO94DHGC771SJ  0528881469                   amazdnu    [0, 0]   \n",
       "1   AMO214LNFCEI4  0528881469           Amazon Customer  [12, 15]   \n",
       "2  A3N7T0DY83Y4IG  0528881469             C. A. Freeman  [43, 45]   \n",
       "3  A1H8PY3QHMQQA0  0528881469  Dave M. Shaw \"mack dave\"   [9, 10]   \n",
       "4  A24EV6RXELQZ63  0528881469               Wayne Smith    [0, 0]   \n",
       "\n",
       "                                          reviewText  overall  \\\n",
       "0  We got this GPS for my husband who is an (OTR)...      5.0   \n",
       "1  I'm a professional OTR truck driver, and I bou...      1.0   \n",
       "2  Well, what can I say.  I've had this unit in m...      3.0   \n",
       "3  Not going to write a long review, even thought...      2.0   \n",
       "4  I've had mine for a year and here's what we go...      1.0   \n",
       "\n",
       "                                  summary  unixReviewTime   reviewTime  \n",
       "0                         Gotta have GPS!      1370131200   06 2, 2013  \n",
       "1                       Very Disappointed      1290643200  11 25, 2010  \n",
       "2                          1st impression      1283990400   09 9, 2010  \n",
       "3                 Great grafics, POOR GPS      1290556800  11 24, 2010  \n",
       "4  Major issues, only excuses for support      1317254400  09 29, 2011  "
      ]
     },
     "execution_count": 77,
     "metadata": {},
     "output_type": "execute_result"
    }
   ],
   "source": [
    "df.head()"
   ]
  },
  {
   "cell_type": "code",
   "execution_count": 78,
   "metadata": {
    "collapsed": true
   },
   "outputs": [],
   "source": [
    "firstreview_df=df[['asin','unixReviewTime']].groupby('asin').min()"
   ]
  },
  {
   "cell_type": "code",
   "execution_count": 79,
   "metadata": {},
   "outputs": [
    {
     "data": {
      "text/html": [
       "<div>\n",
       "<style>\n",
       "    .dataframe thead tr:only-child th {\n",
       "        text-align: right;\n",
       "    }\n",
       "\n",
       "    .dataframe thead th {\n",
       "        text-align: left;\n",
       "    }\n",
       "\n",
       "    .dataframe tbody tr th {\n",
       "        vertical-align: top;\n",
       "    }\n",
       "</style>\n",
       "<table border=\"1\" class=\"dataframe\">\n",
       "  <thead>\n",
       "    <tr style=\"text-align: right;\">\n",
       "      <th></th>\n",
       "      <th>unixReviewTime</th>\n",
       "    </tr>\n",
       "    <tr>\n",
       "      <th>asin</th>\n",
       "      <th></th>\n",
       "    </tr>\n",
       "  </thead>\n",
       "  <tbody>\n",
       "    <tr>\n",
       "      <th>0528881469</th>\n",
       "      <td>1283990400</td>\n",
       "    </tr>\n",
       "    <tr>\n",
       "      <th>0594451647</th>\n",
       "      <td>1388707200</td>\n",
       "    </tr>\n",
       "    <tr>\n",
       "      <th>0594481813</th>\n",
       "      <td>1369440000</td>\n",
       "    </tr>\n",
       "    <tr>\n",
       "      <th>0972683275</th>\n",
       "      <td>1203379200</td>\n",
       "    </tr>\n",
       "    <tr>\n",
       "      <th>1400501466</th>\n",
       "      <td>1322697600</td>\n",
       "    </tr>\n",
       "  </tbody>\n",
       "</table>\n",
       "</div>"
      ],
      "text/plain": [
       "            unixReviewTime\n",
       "asin                      \n",
       "0528881469      1283990400\n",
       "0594451647      1388707200\n",
       "0594481813      1369440000\n",
       "0972683275      1203379200\n",
       "1400501466      1322697600"
      ]
     },
     "execution_count": 79,
     "metadata": {},
     "output_type": "execute_result"
    }
   ],
   "source": [
    "firstreview_df.head()"
   ]
  },
  {
   "cell_type": "code",
   "execution_count": 80,
   "metadata": {},
   "outputs": [
    {
     "data": {
      "text/html": [
       "<div>\n",
       "<style>\n",
       "    .dataframe thead tr:only-child th {\n",
       "        text-align: right;\n",
       "    }\n",
       "\n",
       "    .dataframe thead th {\n",
       "        text-align: left;\n",
       "    }\n",
       "\n",
       "    .dataframe tbody tr th {\n",
       "        vertical-align: top;\n",
       "    }\n",
       "</style>\n",
       "<table border=\"1\" class=\"dataframe\">\n",
       "  <thead>\n",
       "    <tr style=\"text-align: right;\">\n",
       "      <th></th>\n",
       "      <th>reviewerID</th>\n",
       "      <th>asin</th>\n",
       "      <th>reviewerName</th>\n",
       "      <th>helpful</th>\n",
       "      <th>reviewText</th>\n",
       "      <th>overall</th>\n",
       "      <th>summary</th>\n",
       "      <th>unixReviewTime</th>\n",
       "      <th>reviewTime</th>\n",
       "      <th>review_delay</th>\n",
       "    </tr>\n",
       "  </thead>\n",
       "  <tbody>\n",
       "    <tr>\n",
       "      <th>0</th>\n",
       "      <td>AO94DHGC771SJ</td>\n",
       "      <td>0528881469</td>\n",
       "      <td>amazdnu</td>\n",
       "      <td>[0, 0]</td>\n",
       "      <td>We got this GPS for my husband who is an (OTR)...</td>\n",
       "      <td>5.0</td>\n",
       "      <td>Gotta have GPS!</td>\n",
       "      <td>1370131200</td>\n",
       "      <td>06 2, 2013</td>\n",
       "      <td>86140800</td>\n",
       "    </tr>\n",
       "    <tr>\n",
       "      <th>1</th>\n",
       "      <td>AMO214LNFCEI4</td>\n",
       "      <td>0528881469</td>\n",
       "      <td>Amazon Customer</td>\n",
       "      <td>[12, 15]</td>\n",
       "      <td>I'm a professional OTR truck driver, and I bou...</td>\n",
       "      <td>1.0</td>\n",
       "      <td>Very Disappointed</td>\n",
       "      <td>1290643200</td>\n",
       "      <td>11 25, 2010</td>\n",
       "      <td>6652800</td>\n",
       "    </tr>\n",
       "    <tr>\n",
       "      <th>2</th>\n",
       "      <td>A3N7T0DY83Y4IG</td>\n",
       "      <td>0528881469</td>\n",
       "      <td>C. A. Freeman</td>\n",
       "      <td>[43, 45]</td>\n",
       "      <td>Well, what can I say.  I've had this unit in m...</td>\n",
       "      <td>3.0</td>\n",
       "      <td>1st impression</td>\n",
       "      <td>1283990400</td>\n",
       "      <td>09 9, 2010</td>\n",
       "      <td>0</td>\n",
       "    </tr>\n",
       "    <tr>\n",
       "      <th>3</th>\n",
       "      <td>A1H8PY3QHMQQA0</td>\n",
       "      <td>0528881469</td>\n",
       "      <td>Dave M. Shaw \"mack dave\"</td>\n",
       "      <td>[9, 10]</td>\n",
       "      <td>Not going to write a long review, even thought...</td>\n",
       "      <td>2.0</td>\n",
       "      <td>Great grafics, POOR GPS</td>\n",
       "      <td>1290556800</td>\n",
       "      <td>11 24, 2010</td>\n",
       "      <td>6566400</td>\n",
       "    </tr>\n",
       "    <tr>\n",
       "      <th>4</th>\n",
       "      <td>A24EV6RXELQZ63</td>\n",
       "      <td>0528881469</td>\n",
       "      <td>Wayne Smith</td>\n",
       "      <td>[0, 0]</td>\n",
       "      <td>I've had mine for a year and here's what we go...</td>\n",
       "      <td>1.0</td>\n",
       "      <td>Major issues, only excuses for support</td>\n",
       "      <td>1317254400</td>\n",
       "      <td>09 29, 2011</td>\n",
       "      <td>33264000</td>\n",
       "    </tr>\n",
       "  </tbody>\n",
       "</table>\n",
       "</div>"
      ],
      "text/plain": [
       "       reviewerID        asin              reviewerName   helpful  \\\n",
       "0   AO94DHGC771SJ  0528881469                   amazdnu    [0, 0]   \n",
       "1   AMO214LNFCEI4  0528881469           Amazon Customer  [12, 15]   \n",
       "2  A3N7T0DY83Y4IG  0528881469             C. A. Freeman  [43, 45]   \n",
       "3  A1H8PY3QHMQQA0  0528881469  Dave M. Shaw \"mack dave\"   [9, 10]   \n",
       "4  A24EV6RXELQZ63  0528881469               Wayne Smith    [0, 0]   \n",
       "\n",
       "                                          reviewText  overall  \\\n",
       "0  We got this GPS for my husband who is an (OTR)...      5.0   \n",
       "1  I'm a professional OTR truck driver, and I bou...      1.0   \n",
       "2  Well, what can I say.  I've had this unit in m...      3.0   \n",
       "3  Not going to write a long review, even thought...      2.0   \n",
       "4  I've had mine for a year and here's what we go...      1.0   \n",
       "\n",
       "                                  summary  unixReviewTime   reviewTime  \\\n",
       "0                         Gotta have GPS!      1370131200   06 2, 2013   \n",
       "1                       Very Disappointed      1290643200  11 25, 2010   \n",
       "2                          1st impression      1283990400   09 9, 2010   \n",
       "3                 Great grafics, POOR GPS      1290556800  11 24, 2010   \n",
       "4  Major issues, only excuses for support      1317254400  09 29, 2011   \n",
       "\n",
       "   review_delay  \n",
       "0      86140800  \n",
       "1       6652800  \n",
       "2             0  \n",
       "3       6566400  \n",
       "4      33264000  "
      ]
     },
     "execution_count": 80,
     "metadata": {},
     "output_type": "execute_result"
    }
   ],
   "source": [
    "def delay_calculate(product_id,review_time):\n",
    "    first_review = firstreview_df.loc[product_id]['unixReviewTime']\n",
    "    return review_time-first_review\n",
    "\n",
    "df['review_delay'] = df.apply(lambda row: delay_calculate(row['asin'],row['unixReviewTime']), axis=1)\n",
    "\n",
    "df.head()"
   ]
  },
  {
   "cell_type": "code",
   "execution_count": 81,
   "metadata": {
    "collapsed": true
   },
   "outputs": [],
   "source": [
    "## FINDING AVERAGE DELAY OF EACH USER IN GIVING A REIVEW WITH RESPECT TO FIRST REVIEW\n",
    "\n",
    "userdelay_df = df[['reviewerID','review_delay']].groupby('reviewerID').mean()"
   ]
  },
  {
   "cell_type": "code",
   "execution_count": 88,
   "metadata": {},
   "outputs": [
    {
     "data": {
      "text/html": [
       "<div>\n",
       "<style>\n",
       "    .dataframe thead tr:only-child th {\n",
       "        text-align: right;\n",
       "    }\n",
       "\n",
       "    .dataframe thead th {\n",
       "        text-align: left;\n",
       "    }\n",
       "\n",
       "    .dataframe tbody tr th {\n",
       "        vertical-align: top;\n",
       "    }\n",
       "</style>\n",
       "<table border=\"1\" class=\"dataframe\">\n",
       "  <thead>\n",
       "    <tr style=\"text-align: right;\">\n",
       "      <th></th>\n",
       "      <th>review_delay</th>\n",
       "    </tr>\n",
       "    <tr>\n",
       "      <th>reviewerID</th>\n",
       "      <th></th>\n",
       "    </tr>\n",
       "  </thead>\n",
       "  <tbody>\n",
       "    <tr>\n",
       "      <th>A000715434M800HLCENK9</th>\n",
       "      <td>7.053696e+07</td>\n",
       "    </tr>\n",
       "    <tr>\n",
       "      <th>A00101847G3FJTWYGNQA</th>\n",
       "      <td>2.897280e+07</td>\n",
       "    </tr>\n",
       "    <tr>\n",
       "      <th>A00166281YWM98A3SVD55</th>\n",
       "      <td>3.172608e+07</td>\n",
       "    </tr>\n",
       "    <tr>\n",
       "      <th>A0046696382DWIPVIWO0K</th>\n",
       "      <td>5.211648e+07</td>\n",
       "    </tr>\n",
       "    <tr>\n",
       "      <th>A00472881KT6WR48K907X</th>\n",
       "      <td>3.721371e+07</td>\n",
       "    </tr>\n",
       "  </tbody>\n",
       "</table>\n",
       "</div>"
      ],
      "text/plain": [
       "                       review_delay\n",
       "reviewerID                         \n",
       "A000715434M800HLCENK9  7.053696e+07\n",
       "A00101847G3FJTWYGNQA   2.897280e+07\n",
       "A00166281YWM98A3SVD55  3.172608e+07\n",
       "A0046696382DWIPVIWO0K  5.211648e+07\n",
       "A00472881KT6WR48K907X  3.721371e+07"
      ]
     },
     "execution_count": 88,
     "metadata": {},
     "output_type": "execute_result"
    }
   ],
   "source": [
    "userdelay_df.head()"
   ]
  },
  {
   "cell_type": "code",
   "execution_count": 92,
   "metadata": {
    "collapsed": true
   },
   "outputs": [],
   "source": [
    "df['helpfulness_score'] = df['helpful'].apply(helpfulness_score)"
   ]
  },
  {
   "cell_type": "code",
   "execution_count": 99,
   "metadata": {},
   "outputs": [
    {
     "data": {
      "text/plain": [
       "<seaborn.axisgrid.JointGrid at 0x2408ee9bcc0>"
      ]
     },
     "execution_count": 99,
     "metadata": {},
     "output_type": "execute_result"
    },
    {
     "data": {
      "image/png": "[encoded data removed]",
      "text/plain": [
       "<matplotlib.figure.Figure at 0x2408ee9b1d0>"
      ]
     },
     "metadata": {},
     "output_type": "display_data"
    }
   ],
   "source": [
    "sns.jointplot(x='review_delay', y='helpfulness_score', data=df2, kind='scatter')"
   ]
  },
  {
   "cell_type": "code",
   "execution_count": 100,
   "metadata": {},
   "outputs": [
    {
     "data": {
      "text/plain": [
       "192403"
      ]
     },
     "execution_count": 100,
     "metadata": {},
     "output_type": "execute_result"
    }
   ],
   "source": [
    "df['reviewerID'].nunique()"
   ]
  },
  {
   "cell_type": "code",
   "execution_count": 101,
   "metadata": {},
   "outputs": [
    {
     "data": {
      "text/plain": [
       "1689188"
      ]
     },
     "execution_count": 101,
     "metadata": {},
     "output_type": "execute_result"
    }
   ],
   "source": [
    "len(df)"
   ]
  },
  {
   "cell_type": "code",
   "execution_count": 102,
   "metadata": {},
   "outputs": [
    {
     "data": {
      "text/plain": [
       "8.779426516218562"
      ]
     },
     "execution_count": 102,
     "metadata": {},
     "output_type": "execute_result"
    }
   ],
   "source": [
    "1689188/192403"
   ]
  },
  {
   "cell_type": "code",
   "execution_count": 105,
   "metadata": {},
   "outputs": [
    {
     "data": {
      "text/plain": [
       "192403"
      ]
     },
     "execution_count": 105,
     "metadata": {},
     "output_type": "execute_result"
    }
   ],
   "source": [
    "len(userdelay_df)"
   ]
  },
  {
   "cell_type": "code",
   "execution_count": 119,
   "metadata": {
    "collapsed": true
   },
   "outputs": [],
   "source": [
    "def get_delay(reviewerID):\n",
    "    return userdelay_df.loc[reviewerID][0]"
   ]
  },
  {
   "cell_type": "code",
   "execution_count": 107,
   "metadata": {},
   "outputs": [
    {
     "data": {
      "text/html": [
       "<div>\n",
       "<style>\n",
       "    .dataframe thead tr:only-child th {\n",
       "        text-align: right;\n",
       "    }\n",
       "\n",
       "    .dataframe thead th {\n",
       "        text-align: left;\n",
       "    }\n",
       "\n",
       "    .dataframe tbody tr th {\n",
       "        vertical-align: top;\n",
       "    }\n",
       "</style>\n",
       "<table border=\"1\" class=\"dataframe\">\n",
       "  <thead>\n",
       "    <tr style=\"text-align: right;\">\n",
       "      <th></th>\n",
       "      <th>review_delay</th>\n",
       "    </tr>\n",
       "    <tr>\n",
       "      <th>reviewerID</th>\n",
       "      <th></th>\n",
       "    </tr>\n",
       "  </thead>\n",
       "  <tbody>\n",
       "    <tr>\n",
       "      <th>A000715434M800HLCENK9</th>\n",
       "      <td>7.053696e+07</td>\n",
       "    </tr>\n",
       "    <tr>\n",
       "      <th>A00101847G3FJTWYGNQA</th>\n",
       "      <td>2.897280e+07</td>\n",
       "    </tr>\n",
       "    <tr>\n",
       "      <th>A00166281YWM98A3SVD55</th>\n",
       "      <td>3.172608e+07</td>\n",
       "    </tr>\n",
       "    <tr>\n",
       "      <th>A0046696382DWIPVIWO0K</th>\n",
       "      <td>5.211648e+07</td>\n",
       "    </tr>\n",
       "    <tr>\n",
       "      <th>A00472881KT6WR48K907X</th>\n",
       "      <td>3.721371e+07</td>\n",
       "    </tr>\n",
       "  </tbody>\n",
       "</table>\n",
       "</div>"
      ],
      "text/plain": [
       "                       review_delay\n",
       "reviewerID                         \n",
       "A000715434M800HLCENK9  7.053696e+07\n",
       "A00101847G3FJTWYGNQA   2.897280e+07\n",
       "A00166281YWM98A3SVD55  3.172608e+07\n",
       "A0046696382DWIPVIWO0K  5.211648e+07\n",
       "A00472881KT6WR48K907X  3.721371e+07"
      ]
     },
     "execution_count": 107,
     "metadata": {},
     "output_type": "execute_result"
    }
   ],
   "source": [
    "userdelay_df.head()"
   ]
  },
  {
   "cell_type": "code",
   "execution_count": 116,
   "metadata": {
    "collapsed": true
   },
   "outputs": [],
   "source": [
    "v=userdelay_df.loc['A00101847G3FJTWYGNQA']"
   ]
  },
  {
   "cell_type": "code",
   "execution_count": 118,
   "metadata": {},
   "outputs": [
    {
     "name": "stdout",
     "output_type": "stream",
     "text": [
      "28972800.0\n"
     ]
    }
   ],
   "source": [
    "print(v[0])"
   ]
  },
  {
   "cell_type": "code",
   "execution_count": 120,
   "metadata": {
    "collapsed": true
   },
   "outputs": [],
   "source": [
    "df['user_delay'] = df.apply(lambda row: get_delay(row['reviewerID']), axis=1)\n"
   ]
  },
  {
   "cell_type": "code",
   "execution_count": 121,
   "metadata": {},
   "outputs": [
    {
     "data": {
      "text/html": [
       "<div>\n",
       "<style>\n",
       "    .dataframe thead tr:only-child th {\n",
       "        text-align: right;\n",
       "    }\n",
       "\n",
       "    .dataframe thead th {\n",
       "        text-align: left;\n",
       "    }\n",
       "\n",
       "    .dataframe tbody tr th {\n",
       "        vertical-align: top;\n",
       "    }\n",
       "</style>\n",
       "<table border=\"1\" class=\"dataframe\">\n",
       "  <thead>\n",
       "    <tr style=\"text-align: right;\">\n",
       "      <th></th>\n",
       "      <th>reviewerID</th>\n",
       "      <th>asin</th>\n",
       "      <th>reviewerName</th>\n",
       "      <th>helpful</th>\n",
       "      <th>reviewText</th>\n",
       "      <th>overall</th>\n",
       "      <th>summary</th>\n",
       "      <th>unixReviewTime</th>\n",
       "      <th>reviewTime</th>\n",
       "      <th>review_delay</th>\n",
       "      <th>helpfulness_score</th>\n",
       "      <th>user_delay</th>\n",
       "    </tr>\n",
       "  </thead>\n",
       "  <tbody>\n",
       "    <tr>\n",
       "      <th>0</th>\n",
       "      <td>AO94DHGC771SJ</td>\n",
       "      <td>0528881469</td>\n",
       "      <td>amazdnu</td>\n",
       "      <td>[0, 0]</td>\n",
       "      <td>We got this GPS for my husband who is an (OTR)...</td>\n",
       "      <td>5.0</td>\n",
       "      <td>Gotta have GPS!</td>\n",
       "      <td>1370131200</td>\n",
       "      <td>06 2, 2013</td>\n",
       "      <td>86140800</td>\n",
       "      <td>0.000000</td>\n",
       "      <td>6.615771e+07</td>\n",
       "    </tr>\n",
       "    <tr>\n",
       "      <th>1</th>\n",
       "      <td>AMO214LNFCEI4</td>\n",
       "      <td>0528881469</td>\n",
       "      <td>Amazon Customer</td>\n",
       "      <td>[12, 15]</td>\n",
       "      <td>I'm a professional OTR truck driver, and I bou...</td>\n",
       "      <td>1.0</td>\n",
       "      <td>Very Disappointed</td>\n",
       "      <td>1290643200</td>\n",
       "      <td>11 25, 2010</td>\n",
       "      <td>6652800</td>\n",
       "      <td>0.800000</td>\n",
       "      <td>4.660416e+07</td>\n",
       "    </tr>\n",
       "    <tr>\n",
       "      <th>2</th>\n",
       "      <td>A3N7T0DY83Y4IG</td>\n",
       "      <td>0528881469</td>\n",
       "      <td>C. A. Freeman</td>\n",
       "      <td>[43, 45]</td>\n",
       "      <td>Well, what can I say.  I've had this unit in m...</td>\n",
       "      <td>3.0</td>\n",
       "      <td>1st impression</td>\n",
       "      <td>1283990400</td>\n",
       "      <td>09 9, 2010</td>\n",
       "      <td>0</td>\n",
       "      <td>0.955556</td>\n",
       "      <td>3.105360e+07</td>\n",
       "    </tr>\n",
       "    <tr>\n",
       "      <th>3</th>\n",
       "      <td>A1H8PY3QHMQQA0</td>\n",
       "      <td>0528881469</td>\n",
       "      <td>Dave M. Shaw \"mack dave\"</td>\n",
       "      <td>[9, 10]</td>\n",
       "      <td>Not going to write a long review, even thought...</td>\n",
       "      <td>2.0</td>\n",
       "      <td>Great grafics, POOR GPS</td>\n",
       "      <td>1290556800</td>\n",
       "      <td>11 24, 2010</td>\n",
       "      <td>6566400</td>\n",
       "      <td>0.900000</td>\n",
       "      <td>5.736175e+07</td>\n",
       "    </tr>\n",
       "    <tr>\n",
       "      <th>4</th>\n",
       "      <td>A24EV6RXELQZ63</td>\n",
       "      <td>0528881469</td>\n",
       "      <td>Wayne Smith</td>\n",
       "      <td>[0, 0]</td>\n",
       "      <td>I've had mine for a year and here's what we go...</td>\n",
       "      <td>1.0</td>\n",
       "      <td>Major issues, only excuses for support</td>\n",
       "      <td>1317254400</td>\n",
       "      <td>09 29, 2011</td>\n",
       "      <td>33264000</td>\n",
       "      <td>0.000000</td>\n",
       "      <td>6.333120e+07</td>\n",
       "    </tr>\n",
       "  </tbody>\n",
       "</table>\n",
       "</div>"
      ],
      "text/plain": [
       "       reviewerID        asin              reviewerName   helpful  \\\n",
       "0   AO94DHGC771SJ  0528881469                   amazdnu    [0, 0]   \n",
       "1   AMO214LNFCEI4  0528881469           Amazon Customer  [12, 15]   \n",
       "2  A3N7T0DY83Y4IG  0528881469             C. A. Freeman  [43, 45]   \n",
       "3  A1H8PY3QHMQQA0  0528881469  Dave M. Shaw \"mack dave\"   [9, 10]   \n",
       "4  A24EV6RXELQZ63  0528881469               Wayne Smith    [0, 0]   \n",
       "\n",
       "                                          reviewText  overall  \\\n",
       "0  We got this GPS for my husband who is an (OTR)...      5.0   \n",
       "1  I'm a professional OTR truck driver, and I bou...      1.0   \n",
       "2  Well, what can I say.  I've had this unit in m...      3.0   \n",
       "3  Not going to write a long review, even thought...      2.0   \n",
       "4  I've had mine for a year and here's what we go...      1.0   \n",
       "\n",
       "                                  summary  unixReviewTime   reviewTime  \\\n",
       "0                         Gotta have GPS!      1370131200   06 2, 2013   \n",
       "1                       Very Disappointed      1290643200  11 25, 2010   \n",
       "2                          1st impression      1283990400   09 9, 2010   \n",
       "3                 Great grafics, POOR GPS      1290556800  11 24, 2010   \n",
       "4  Major issues, only excuses for support      1317254400  09 29, 2011   \n",
       "\n",
       "   review_delay  helpfulness_score    user_delay  \n",
       "0      86140800           0.000000  6.615771e+07  \n",
       "1       6652800           0.800000  4.660416e+07  \n",
       "2             0           0.955556  3.105360e+07  \n",
       "3       6566400           0.900000  5.736175e+07  \n",
       "4      33264000           0.000000  6.333120e+07  "
      ]
     },
     "execution_count": 121,
     "metadata": {},
     "output_type": "execute_result"
    }
   ],
   "source": [
    "df.head()"
   ]
  },
  {
   "cell_type": "code",
   "execution_count": 122,
   "metadata": {
    "scrolled": true
   },
   "outputs": [
    {
     "data": {
      "text/plain": [
       "<seaborn.axisgrid.JointGrid at 0x240786ffda0>"
      ]
     },
     "execution_count": 122,
     "metadata": {},
     "output_type": "execute_result"
    },
    {
     "data": {
      "image/png": "[encoded data removed]",
      "text/plain": [
       "<matplotlib.figure.Figure at 0x240786ffdd8>"
      ]
     },
     "metadata": {},
     "output_type": "display_data"
    }
   ],
   "source": [
    "sns.jointplot(x='user_delay', y='helpfulness_score', data=df, kind='scatter')"
   ]
  },
  {
   "cell_type": "code",
   "execution_count": 132,
   "metadata": {},
   "outputs": [
    {
     "data": {
      "text/plain": [
       "'The cable is very wobbly and sometimes disconnects itself.The price is completely unfair and only works with the Nook HD and HD+'"
      ]
     },
     "execution_count": 132,
     "metadata": {},
     "output_type": "execute_result"
    }
   ],
   "source": [
    "df['reviewText'][6]"
   ]
  },
  {
   "cell_type": "code",
   "execution_count": 1,
   "metadata": {},
   "outputs": [
    {
     "ename": "NameError",
     "evalue": "name 'np' is not defined",
     "output_type": "error",
     "traceback": [
      "\u001b[1;31m---------------------------------------------------------------------------\u001b[0m",
      "\u001b[1;31mNameError\u001b[0m                                 Traceback (most recent call last)",
      "\u001b[1;32m<ipython-input-1-abd855747cac>\u001b[0m in \u001b[0;36m<module>\u001b[1;34m()\u001b[0m\n\u001b[1;32m----> 1\u001b[1;33m \u001b[0mnp\u001b[0m\u001b[1;33m.\u001b[0m\u001b[0mnan\u001b[0m\u001b[1;33m\u001b[0m\u001b[0m\n\u001b[0m",
      "\u001b[1;31mNameError\u001b[0m: name 'np' is not defined"
     ]
    }
   ],
   "source": [
    "np.nan"
   ]
  },
  {
   "cell_type": "code",
   "execution_count": null,
   "metadata": {
    "collapsed": true
   },
   "outputs": [],
   "source": []
  }
 ],
 "metadata": {
  "kernelspec": {
   "display_name": "Python 3",
   "language": "python",
   "name": "python3"
  },
  "language_info": {
   "codemirror_mode": {
    "name": "ipython",
    "version": 3
   },
   "file_extension": ".py",
   "mimetype": "text/x-python",
   "name": "python",
   "nbconvert_exporter": "python",
   "pygments_lexer": "ipython3",
   "version": "3.6.1"
  }
 },
 "nbformat": 4,
 "nbformat_minor": 2
}
