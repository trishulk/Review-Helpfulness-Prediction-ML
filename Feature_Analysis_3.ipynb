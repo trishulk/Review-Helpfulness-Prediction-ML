{
 "cells": [
  {
   "cell_type": "code",
   "execution_count": 1,
   "metadata": {
    "collapsed": true
   },
   "outputs": [],
   "source": []
  },
  {
   "cell_type": "code",
   "execution_count": 2,
   "metadata": {
    "collapsed": true
   },
   "outputs": [],
   "source": [
    "\n",
    "\n",
    "def parse(path):\n",
    "  g = gzip.open(path, 'rb')\n",
    "  for l in g:\n",
    "    yield eval(l)\n",
    "\n",
    "def getDF(path):\n",
    "  i = 0\n",
    "  df = {}\n",
    "  for d in parse(path):\n",
    "    df[i] = d\n",
    "    i += 1\n",
    "  return pd.DataFrame.from_dict(df, orient='index')\n",
    "\n"
   ]
  },
  {
   "cell_type": "code",
   "execution_count": 3,
   "metadata": {
    "collapsed": true
   },
   "outputs": [],
   "source": []
  },
  {
   "cell_type": "code",
   "execution_count": 8,
   "metadata": {},
   "outputs": [
    {
     "data": {
      "text/html": [
       "<div>\n",
       "<style>\n",
       "    .dataframe thead tr:only-child th {\n",
       "        text-align: right;\n",
       "    }\n",
       "\n",
       "    .dataframe thead th {\n",
       "        text-align: left;\n",
       "    }\n",
       "\n",
       "    .dataframe tbody tr th {\n",
       "        vertical-align: top;\n",
       "    }\n",
       "</style>\n",
       "<table border=\"1\" class=\"dataframe\">\n",
       "  <thead>\n",
       "    <tr style=\"text-align: right;\">\n",
       "      <th></th>\n",
       "      <th>asin</th>\n",
       "      <th>imUrl</th>\n",
       "      <th>description</th>\n",
       "      <th>categories</th>\n",
       "      <th>title</th>\n",
       "      <th>price</th>\n",
       "      <th>salesRank</th>\n",
       "      <th>related</th>\n",
       "      <th>brand</th>\n",
       "    </tr>\n",
       "  </thead>\n",
       "  <tbody>\n",
       "    <tr>\n",
       "      <th>0</th>\n",
       "      <td>0132793040</td>\n",
       "      <td>http://ecx.images-amazon.com/images/I/31JIPhp%...</td>\n",
       "      <td>The Kelby Training DVD Mastering Blend Modes i...</td>\n",
       "      <td>[[Electronics, Computers &amp; Accessories, Cables...</td>\n",
       "      <td>Kelby Training DVD: Mastering Blend Modes in A...</td>\n",
       "      <td>NaN</td>\n",
       "      <td>NaN</td>\n",
       "      <td>NaN</td>\n",
       "      <td>NaN</td>\n",
       "    </tr>\n",
       "    <tr>\n",
       "      <th>1</th>\n",
       "      <td>0321732944</td>\n",
       "      <td>http://ecx.images-amazon.com/images/I/31uogm6Y...</td>\n",
       "      <td>NaN</td>\n",
       "      <td>[[Electronics, Computers &amp; Accessories, Cables...</td>\n",
       "      <td>Kelby Training DVD: Adobe Photoshop CS5 Crash ...</td>\n",
       "      <td>NaN</td>\n",
       "      <td>NaN</td>\n",
       "      <td>NaN</td>\n",
       "      <td>NaN</td>\n",
       "    </tr>\n",
       "    <tr>\n",
       "      <th>2</th>\n",
       "      <td>0439886341</td>\n",
       "      <td>http://ecx.images-amazon.com/images/I/51k0qa8f...</td>\n",
       "      <td>Digital Organizer and Messenger</td>\n",
       "      <td>[[Electronics, Computers &amp; Accessories, PDAs, ...</td>\n",
       "      <td>Digital Organizer and Messenger</td>\n",
       "      <td>8.15</td>\n",
       "      <td>{'Electronics': 144944}</td>\n",
       "      <td>{'also_viewed': ['0545016266', 'B009ECM8QY', '...</td>\n",
       "      <td>NaN</td>\n",
       "    </tr>\n",
       "    <tr>\n",
       "      <th>3</th>\n",
       "      <td>0511189877</td>\n",
       "      <td>http://ecx.images-amazon.com/images/I/41HaAhbv...</td>\n",
       "      <td>The CLIKR-5 UR5U-8780L remote control is desig...</td>\n",
       "      <td>[[Electronics, Accessories &amp; Supplies, Audio &amp;...</td>\n",
       "      <td>CLIKR-5 Time Warner Cable Remote Control UR5U-...</td>\n",
       "      <td>23.36</td>\n",
       "      <td>NaN</td>\n",
       "      <td>{'also_viewed': ['B001KC08A4', 'B00KUL8O0W', '...</td>\n",
       "      <td>NaN</td>\n",
       "    </tr>\n",
       "    <tr>\n",
       "      <th>4</th>\n",
       "      <td>0528881469</td>\n",
       "      <td>http://ecx.images-amazon.com/images/I/51FnRkJq...</td>\n",
       "      <td>Like its award-winning predecessor, the Intell...</td>\n",
       "      <td>[[Electronics, GPS &amp; Navigation, Vehicle GPS, ...</td>\n",
       "      <td>Rand McNally 528881469 7-inch Intelliroute TND...</td>\n",
       "      <td>299.99</td>\n",
       "      <td>NaN</td>\n",
       "      <td>{'also_viewed': ['B006ZOI9OY', 'B00C7FKT2A', '...</td>\n",
       "      <td>NaN</td>\n",
       "    </tr>\n",
       "  </tbody>\n",
       "</table>\n",
       "</div>"
      ],
      "text/plain": [
       "         asin                                              imUrl  \\\n",
       "0  0132793040  http://ecx.images-amazon.com/images/I/31JIPhp%...   \n",
       "1  0321732944  http://ecx.images-amazon.com/images/I/31uogm6Y...   \n",
       "2  0439886341  http://ecx.images-amazon.com/images/I/51k0qa8f...   \n",
       "3  0511189877  http://ecx.images-amazon.com/images/I/41HaAhbv...   \n",
       "4  0528881469  http://ecx.images-amazon.com/images/I/51FnRkJq...   \n",
       "\n",
       "                                         description  \\\n",
       "0  The Kelby Training DVD Mastering Blend Modes i...   \n",
       "1                                                NaN   \n",
       "2                    Digital Organizer and Messenger   \n",
       "3  The CLIKR-5 UR5U-8780L remote control is desig...   \n",
       "4  Like its award-winning predecessor, the Intell...   \n",
       "\n",
       "                                          categories  \\\n",
       "0  [[Electronics, Computers & Accessories, Cables...   \n",
       "1  [[Electronics, Computers & Accessories, Cables...   \n",
       "2  [[Electronics, Computers & Accessories, PDAs, ...   \n",
       "3  [[Electronics, Accessories & Supplies, Audio &...   \n",
       "4  [[Electronics, GPS & Navigation, Vehicle GPS, ...   \n",
       "\n",
       "                                               title   price  \\\n",
       "0  Kelby Training DVD: Mastering Blend Modes in A...     NaN   \n",
       "1  Kelby Training DVD: Adobe Photoshop CS5 Crash ...     NaN   \n",
       "2                    Digital Organizer and Messenger    8.15   \n",
       "3  CLIKR-5 Time Warner Cable Remote Control UR5U-...   23.36   \n",
       "4  Rand McNally 528881469 7-inch Intelliroute TND...  299.99   \n",
       "\n",
       "                 salesRank                                            related  \\\n",
       "0                      NaN                                                NaN   \n",
       "1                      NaN                                                NaN   \n",
       "2  {'Electronics': 144944}  {'also_viewed': ['0545016266', 'B009ECM8QY', '...   \n",
       "3                      NaN  {'also_viewed': ['B001KC08A4', 'B00KUL8O0W', '...   \n",
       "4                      NaN  {'also_viewed': ['B006ZOI9OY', 'B00C7FKT2A', '...   \n",
       "\n",
       "  brand  \n",
       "0   NaN  \n",
       "1   NaN  \n",
       "2   NaN  \n",
       "3   NaN  \n",
       "4   NaN  "
      ]
     },
     "execution_count": 8,
     "metadata": {},
     "output_type": "execute_result"
    }
   ],
   "source": []
  },
  {
   "cell_type": "code",
   "execution_count": 7,
   "metadata": {},
   "outputs": [
    {
     "data": {
      "text/plain": [
       "'http://ecx.images-amazon.com/images/I/31JIPhp%2BGIL.jpg'"
      ]
     },
     "execution_count": 7,
     "metadata": {},
     "output_type": "execute_result"
    }
   ],
   "source": [
    "df['imUrl'][0]"
   ]
  },
  {
   "cell_type": "code",
   "execution_count": 6,
   "metadata": {},
   "outputs": [
    {
     "data": {
      "text/plain": [
       "'The Kelby Training DVD Mastering Blend Modes in Adobe Photoshop CS5 with Corey Barker is a useful tool for becoming familiar with the use of blend modes in Adobe Photoshop. For those who are serious about mastering all that Photoshop has to offer, mastering blend modes is just as important as mastering layers.In this DVD tutorial, seasoned expert Corey Barker explores the function of blend modes in a variety of scenarios such as image restoration, sharpening, adjustments, special effects and much more. Since every project scenario is different, Corey encourages you to experiment with these blend modes by giving you the skills and confidence you need.'"
      ]
     },
     "execution_count": 6,
     "metadata": {},
     "output_type": "execute_result"
    }
   ],
   "source": [
    "df['description'][0]"
   ]
  },
  {
   "cell_type": "code",
   "execution_count": 15,
   "metadata": {
    "collapsed": true
   },
   "outputs": [],
   "source": [
    "meta_df = pd.read_csv('meta_data')"
   ]
  },
  {
   "cell_type": "code",
   "execution_count": 16,
   "metadata": {},
   "outputs": [
    {
     "data": {
      "text/html": [
       "<div>\n",
       "<style>\n",
       "    .dataframe thead tr:only-child th {\n",
       "        text-align: right;\n",
       "    }\n",
       "\n",
       "    .dataframe thead th {\n",
       "        text-align: left;\n",
       "    }\n",
       "\n",
       "    .dataframe tbody tr th {\n",
       "        vertical-align: top;\n",
       "    }\n",
       "</style>\n",
       "<table border=\"1\" class=\"dataframe\">\n",
       "  <thead>\n",
       "    <tr style=\"text-align: right;\">\n",
       "      <th></th>\n",
       "      <th>Unnamed: 0</th>\n",
       "      <th>asin</th>\n",
       "      <th>imUrl</th>\n",
       "      <th>description</th>\n",
       "      <th>categories</th>\n",
       "      <th>title</th>\n",
       "      <th>price</th>\n",
       "      <th>salesRank</th>\n",
       "      <th>related</th>\n",
       "      <th>brand</th>\n",
       "    </tr>\n",
       "  </thead>\n",
       "  <tbody>\n",
       "    <tr>\n",
       "      <th>0</th>\n",
       "      <td>4</td>\n",
       "      <td>0528881469</td>\n",
       "      <td>http://ecx.images-amazon.com/images/I/51FnRkJq...</td>\n",
       "      <td>Like its award-winning predecessor, the Intell...</td>\n",
       "      <td>[['Electronics', 'GPS &amp; Navigation', 'Vehicle ...</td>\n",
       "      <td>Rand McNally 528881469 7-inch Intelliroute TND...</td>\n",
       "      <td>299.99</td>\n",
       "      <td>NaN</td>\n",
       "      <td>{'also_viewed': ['B006ZOI9OY', 'B00C7FKT2A', '...</td>\n",
       "      <td>NaN</td>\n",
       "    </tr>\n",
       "    <tr>\n",
       "      <th>1</th>\n",
       "      <td>15</td>\n",
       "      <td>0594451647</td>\n",
       "      <td>http://ecx.images-amazon.com/images/I/51RjSETO...</td>\n",
       "      <td>HDTV Adapter Kit for NOOK HD and NOOK HD+\\r\\nT...</td>\n",
       "      <td>[['Electronics', 'Computers &amp; Accessories', 'T...</td>\n",
       "      <td>Barnes &amp;amp; Noble HDTV Adapter Kit for NOOK H...</td>\n",
       "      <td>49.95</td>\n",
       "      <td>NaN</td>\n",
       "      <td>{'also_bought': ['B009L7EEZA', 'B00AGAYQEU', '...</td>\n",
       "      <td>NaN</td>\n",
       "    </tr>\n",
       "    <tr>\n",
       "      <th>2</th>\n",
       "      <td>20</td>\n",
       "      <td>0594481813</td>\n",
       "      <td>http://ecx.images-amazon.com/images/I/41K7ymN5...</td>\n",
       "      <td>Power up your device with this Barnes &amp;amp; No...</td>\n",
       "      <td>[['Electronics', 'eBook Readers &amp; Accessories'...</td>\n",
       "      <td>Barnes &amp;amp; Noble OV/HB-ADP Universal Power Kit</td>\n",
       "      <td>19.65</td>\n",
       "      <td>NaN</td>\n",
       "      <td>{'also_bought': ['B00AAKLIIS', 'B00A668GUO', '...</td>\n",
       "      <td>Barnes &amp;amp; Noble</td>\n",
       "    </tr>\n",
       "    <tr>\n",
       "      <th>3</th>\n",
       "      <td>38</td>\n",
       "      <td>0972683275</td>\n",
       "      <td>http://ecx.images-amazon.com/images/I/41hYJ9Mw...</td>\n",
       "      <td>The VideoSecu TV mount is a mounting solution ...</td>\n",
       "      <td>[['Electronics', 'Accessories &amp; Supplies', 'Au...</td>\n",
       "      <td>VideoSecu 24&amp;quot; Long Arm TV Wall Mount Low ...</td>\n",
       "      <td>29.99</td>\n",
       "      <td>{}</td>\n",
       "      <td>{'also_bought': ['B000X3KOD2', 'B0074FGR74', '...</td>\n",
       "      <td>VideoSecu</td>\n",
       "    </tr>\n",
       "    <tr>\n",
       "      <th>4</th>\n",
       "      <td>53</td>\n",
       "      <td>1400532620</td>\n",
       "      <td>http://ecx.images-amazon.com/images/I/519ca3cu...</td>\n",
       "      <td>Barnes &amp; Noble Nook eReader - no 3GMeet nook. ...</td>\n",
       "      <td>[['Electronics', 'eBook Readers &amp; Accessories']]</td>\n",
       "      <td>Barnes &amp;amp; Noble Nook eReader - no 3G</td>\n",
       "      <td>74.95</td>\n",
       "      <td>{'Electronics': 23071}</td>\n",
       "      <td>{'also_bought': ['B0035CLBT4', 'B004X18N24', '...</td>\n",
       "      <td>Barnes &amp;amp; Noble</td>\n",
       "    </tr>\n",
       "  </tbody>\n",
       "</table>\n",
       "</div>"
      ],
      "text/plain": [
       "   Unnamed: 0        asin                                              imUrl  \\\n",
       "0           4  0528881469  http://ecx.images-amazon.com/images/I/51FnRkJq...   \n",
       "1          15  0594451647  http://ecx.images-amazon.com/images/I/51RjSETO...   \n",
       "2          20  0594481813  http://ecx.images-amazon.com/images/I/41K7ymN5...   \n",
       "3          38  0972683275  http://ecx.images-amazon.com/images/I/41hYJ9Mw...   \n",
       "4          53  1400532620  http://ecx.images-amazon.com/images/I/519ca3cu...   \n",
       "\n",
       "                                         description  \\\n",
       "0  Like its award-winning predecessor, the Intell...   \n",
       "1  HDTV Adapter Kit for NOOK HD and NOOK HD+\\r\\nT...   \n",
       "2  Power up your device with this Barnes &amp; No...   \n",
       "3  The VideoSecu TV mount is a mounting solution ...   \n",
       "4  Barnes & Noble Nook eReader - no 3GMeet nook. ...   \n",
       "\n",
       "                                          categories  \\\n",
       "0  [['Electronics', 'GPS & Navigation', 'Vehicle ...   \n",
       "1  [['Electronics', 'Computers & Accessories', 'T...   \n",
       "2  [['Electronics', 'eBook Readers & Accessories'...   \n",
       "3  [['Electronics', 'Accessories & Supplies', 'Au...   \n",
       "4   [['Electronics', 'eBook Readers & Accessories']]   \n",
       "\n",
       "                                               title   price  \\\n",
       "0  Rand McNally 528881469 7-inch Intelliroute TND...  299.99   \n",
       "1  Barnes &amp; Noble HDTV Adapter Kit for NOOK H...   49.95   \n",
       "2   Barnes &amp; Noble OV/HB-ADP Universal Power Kit   19.65   \n",
       "3  VideoSecu 24&quot; Long Arm TV Wall Mount Low ...   29.99   \n",
       "4            Barnes &amp; Noble Nook eReader - no 3G   74.95   \n",
       "\n",
       "                salesRank                                            related  \\\n",
       "0                     NaN  {'also_viewed': ['B006ZOI9OY', 'B00C7FKT2A', '...   \n",
       "1                     NaN  {'also_bought': ['B009L7EEZA', 'B00AGAYQEU', '...   \n",
       "2                     NaN  {'also_bought': ['B00AAKLIIS', 'B00A668GUO', '...   \n",
       "3                      {}  {'also_bought': ['B000X3KOD2', 'B0074FGR74', '...   \n",
       "4  {'Electronics': 23071}  {'also_bought': ['B0035CLBT4', 'B004X18N24', '...   \n",
       "\n",
       "                brand  \n",
       "0                 NaN  \n",
       "1                 NaN  \n",
       "2  Barnes &amp; Noble  \n",
       "3           VideoSecu  \n",
       "4  Barnes &amp; Noble  "
      ]
     },
     "execution_count": 16,
     "metadata": {},
     "output_type": "execute_result"
    }
   ],
   "source": [
    "meta_df.head()"
   ]
  },
  {
   "cell_type": "code",
   "execution_count": 17,
   "metadata": {},
   "outputs": [
    {
     "data": {
      "text/plain": [
       "63001"
      ]
     },
     "execution_count": 17,
     "metadata": {},
     "output_type": "execute_result"
    }
   ],
   "source": [
    "len(meta_df)"
   ]
  },
  {
   "cell_type": "code",
   "execution_count": 9,
   "metadata": {
    "collapsed": true
   },
   "outputs": [],
   "source": [
    "df = pd.read_csv('Amazon_Gt_10')"
   ]
  },
  {
   "cell_type": "code",
   "execution_count": 10,
   "metadata": {},
   "outputs": [
    {
     "data": {
      "text/html": [
       "<div>\n",
       "<style>\n",
       "    .dataframe thead tr:only-child th {\n",
       "        text-align: right;\n",
       "    }\n",
       "\n",
       "    .dataframe thead th {\n",
       "        text-align: left;\n",
       "    }\n",
       "\n",
       "    .dataframe tbody tr th {\n",
       "        vertical-align: top;\n",
       "    }\n",
       "</style>\n",
       "<table border=\"1\" class=\"dataframe\">\n",
       "  <thead>\n",
       "    <tr style=\"text-align: right;\">\n",
       "      <th></th>\n",
       "      <th>Unnamed: 0</th>\n",
       "      <th>reviewerID</th>\n",
       "      <th>asin</th>\n",
       "      <th>reviewerName</th>\n",
       "      <th>helpful</th>\n",
       "      <th>reviewText</th>\n",
       "      <th>overall</th>\n",
       "      <th>summary</th>\n",
       "      <th>unixReviewTime</th>\n",
       "      <th>reviewTime</th>\n",
       "      <th>helpfulness_score</th>\n",
       "      <th>user_deviation</th>\n",
       "      <th>review_delay</th>\n",
       "    </tr>\n",
       "  </thead>\n",
       "  <tbody>\n",
       "    <tr>\n",
       "      <th>0</th>\n",
       "      <td>1</td>\n",
       "      <td>AMO214LNFCEI4</td>\n",
       "      <td>0528881469</td>\n",
       "      <td>Amazon Customer</td>\n",
       "      <td>[12, 15]</td>\n",
       "      <td>I'm a professional OTR truck driver, and I bou...</td>\n",
       "      <td>1.0</td>\n",
       "      <td>Very Disappointed</td>\n",
       "      <td>1290643200</td>\n",
       "      <td>11 25, 2010</td>\n",
       "      <td>0.800000</td>\n",
       "      <td>1.399189</td>\n",
       "      <td>6652800</td>\n",
       "    </tr>\n",
       "    <tr>\n",
       "      <th>1</th>\n",
       "      <td>2</td>\n",
       "      <td>A3N7T0DY83Y4IG</td>\n",
       "      <td>0528881469</td>\n",
       "      <td>C. A. Freeman</td>\n",
       "      <td>[43, 45]</td>\n",
       "      <td>Well, what can I say.  I've had this unit in m...</td>\n",
       "      <td>3.0</td>\n",
       "      <td>1st impression</td>\n",
       "      <td>1283990400</td>\n",
       "      <td>09 9, 2010</td>\n",
       "      <td>0.955556</td>\n",
       "      <td>0.624437</td>\n",
       "      <td>0</td>\n",
       "    </tr>\n",
       "    <tr>\n",
       "      <th>2</th>\n",
       "      <td>3</td>\n",
       "      <td>A1H8PY3QHMQQA0</td>\n",
       "      <td>0528881469</td>\n",
       "      <td>Dave M. Shaw \"mack dave\"</td>\n",
       "      <td>[9, 10]</td>\n",
       "      <td>Not going to write a long review, even thought...</td>\n",
       "      <td>2.0</td>\n",
       "      <td>Great grafics, POOR GPS</td>\n",
       "      <td>1290556800</td>\n",
       "      <td>11 24, 2010</td>\n",
       "      <td>0.900000</td>\n",
       "      <td>0.510375</td>\n",
       "      <td>6566400</td>\n",
       "    </tr>\n",
       "    <tr>\n",
       "      <th>3</th>\n",
       "      <td>56</td>\n",
       "      <td>A3QH8VQDE7HZCR</td>\n",
       "      <td>0972683275</td>\n",
       "      <td>costaricachris</td>\n",
       "      <td>[15, 19]</td>\n",
       "      <td>Quality was excellent. Instructions were clear...</td>\n",
       "      <td>5.0</td>\n",
       "      <td>Real value for the money</td>\n",
       "      <td>1286236800</td>\n",
       "      <td>10 5, 2010</td>\n",
       "      <td>0.789474</td>\n",
       "      <td>0.442171</td>\n",
       "      <td>2678400</td>\n",
       "    </tr>\n",
       "    <tr>\n",
       "      <th>4</th>\n",
       "      <td>82</td>\n",
       "      <td>A38FGQVJM18OWV</td>\n",
       "      <td>0972683275</td>\n",
       "      <td>George S. Mitchell \"gsmitchell\"</td>\n",
       "      <td>[8, 18]</td>\n",
       "      <td>I checked around Amazon as well as some other ...</td>\n",
       "      <td>1.0</td>\n",
       "      <td>What a piece of junk!</td>\n",
       "      <td>1291161600</td>\n",
       "      <td>12 1, 2010</td>\n",
       "      <td>0.444444</td>\n",
       "      <td>1.616074</td>\n",
       "      <td>7603200</td>\n",
       "    </tr>\n",
       "  </tbody>\n",
       "</table>\n",
       "</div>"
      ],
      "text/plain": [
       "   Unnamed: 0      reviewerID        asin                     reviewerName  \\\n",
       "0           1   AMO214LNFCEI4  0528881469                  Amazon Customer   \n",
       "1           2  A3N7T0DY83Y4IG  0528881469                    C. A. Freeman   \n",
       "2           3  A1H8PY3QHMQQA0  0528881469         Dave M. Shaw \"mack dave\"   \n",
       "3          56  A3QH8VQDE7HZCR  0972683275                   costaricachris   \n",
       "4          82  A38FGQVJM18OWV  0972683275  George S. Mitchell \"gsmitchell\"   \n",
       "\n",
       "    helpful                                         reviewText  overall  \\\n",
       "0  [12, 15]  I'm a professional OTR truck driver, and I bou...      1.0   \n",
       "1  [43, 45]  Well, what can I say.  I've had this unit in m...      3.0   \n",
       "2   [9, 10]  Not going to write a long review, even thought...      2.0   \n",
       "3  [15, 19]  Quality was excellent. Instructions were clear...      5.0   \n",
       "4   [8, 18]  I checked around Amazon as well as some other ...      1.0   \n",
       "\n",
       "                    summary  unixReviewTime   reviewTime  helpfulness_score  \\\n",
       "0         Very Disappointed      1290643200  11 25, 2010           0.800000   \n",
       "1            1st impression      1283990400   09 9, 2010           0.955556   \n",
       "2   Great grafics, POOR GPS      1290556800  11 24, 2010           0.900000   \n",
       "3  Real value for the money      1286236800   10 5, 2010           0.789474   \n",
       "4     What a piece of junk!      1291161600   12 1, 2010           0.444444   \n",
       "\n",
       "   user_deviation  review_delay  \n",
       "0        1.399189       6652800  \n",
       "1        0.624437             0  \n",
       "2        0.510375       6566400  \n",
       "3        0.442171       2678400  \n",
       "4        1.616074       7603200  "
      ]
     },
     "execution_count": 10,
     "metadata": {},
     "output_type": "execute_result"
    }
   ],
   "source": [
    "df.head()"
   ]
  },
  {
   "cell_type": "code",
   "execution_count": 11,
   "metadata": {},
   "outputs": [
    {
     "data": {
      "text/plain": [
       "'0972683275'"
      ]
     },
     "execution_count": 11,
     "metadata": {},
     "output_type": "execute_result"
    }
   ],
   "source": [
    "df['asin'][3]"
   ]
  },
  {
   "cell_type": "code",
   "execution_count": 18,
   "metadata": {
    "collapsed": true
   },
   "outputs": [],
   "source": [
    "product_reviews=df[df['asin']=='0972683275']"
   ]
  },
  {
   "cell_type": "code",
   "execution_count": 22,
   "metadata": {
    "collapsed": true
   },
   "outputs": [],
   "source": [
    "description=meta_df[meta_df['asin']=='0972683275']['description'][3]"
   ]
  },
  {
   "cell_type": "code",
   "execution_count": 24,
   "metadata": {},
   "outputs": [
    {
     "name": "stdout",
     "output_type": "stream",
     "text": [
      "The VideoSecu TV mount is a mounting solution for most 22\"-47\" LCD LED Plasma TV and some LED up to 55\". It fits VESA 600x400mm (24\"x16\"), 400x400mm (16\"x16\"), 400x200mm (16\"x8\"),300x300mm (12\"x12\"),200x200mm (8\"x8\"),200x100mm (8\"x4\") mounting hole pattern on the back of your TV. Heavy gauge steel construction provides safety loading up to 66lbs display. The two-link arm design provides up to 180 degrees of swivel, 15 degrees tilt up or down, and 24\" extension, make it easier for get perfect viewing angle. The removable VESA plate can be taken off for easy installation. Post-installation level adjustment allows the TV to perfectly level. The on arm cable management ring system design, guides wires and prevent cable pinching. Standard hardware and user manual included. Note: From Nov 27, 600x400 adapters are provided with this product.\n"
     ]
    }
   ],
   "source": [
    "print(description)"
   ]
  },
  {
   "cell_type": "code",
   "execution_count": 23,
   "metadata": {},
   "outputs": [
    {
     "name": "stdout",
     "output_type": "stream",
     "text": [
      "0.736842105263\n",
      "I mounted this in my RV and it holds a 26\" LCD TV / DVD combo.  Installation was very easy and the mount works GREAT!  I was prepared to pay 5 times the price for a mount that would work as I wanted.  I couldn't be happier.\n"
     ]
    }
   ],
   "source": [
    "print(product_reviews.iloc[2]['helpfulness_score'])\n",
    "print(product_reviews.iloc[2]['reviewText'])\n",
    "reviewText = product_reviews.iloc[2]['reviewText']"
   ]
  },
  {
   "cell_type": "code",
   "execution_count": 31,
   "metadata": {
    "collapsed": true
   },
   "outputs": [],
   "source": [
    "nopunc = [char for char in description if char not in string.punctuation]"
   ]
  },
  {
   "cell_type": "code",
   "execution_count": 33,
   "metadata": {
    "collapsed": true
   },
   "outputs": [],
   "source": [
    "nopunc = ''.join(nopunc)"
   ]
  },
  {
   "cell_type": "code",
   "execution_count": 34,
   "metadata": {},
   "outputs": [
    {
     "data": {
      "text/plain": [
       "'The VideoSecu TV mount is a mounting solution for most 2247 LCD LED Plasma TV and some LED up to 55 It fits VESA 600x400mm 24x16 400x400mm 16x16 400x200mm 16x8300x300mm 12x12200x200mm 8x8200x100mm 8x4 mounting hole pattern on the back of your TV Heavy gauge steel construction provides safety loading up to 66lbs display The twolink arm design provides up to 180 degrees of swivel 15 degrees tilt up or down and 24 extension make it easier for get perfect viewing angle The removable VESA plate can be taken off for easy installation Postinstallation level adjustment allows the TV to perfectly level The on arm cable management ring system design guides wires and prevent cable pinching Standard hardware and user manual included Note From Nov 27 600x400 adapters are provided with this product'"
      ]
     },
     "execution_count": 34,
     "metadata": {},
     "output_type": "execute_result"
    }
   ],
   "source": [
    "nopunc"
   ]
  },
  {
   "cell_type": "code",
   "execution_count": 85,
   "metadata": {
    "collapsed": true
   },
   "outputs": [],
   "source": [
    " words = [word.lower() for word in nopunc.split() if word.lower() not in stopwords.words('english')]"
   ]
  },
  {
   "cell_type": "code",
   "execution_count": 86,
   "metadata": {
    "collapsed": true
   },
   "outputs": [],
   "source": [
    "tagged = nltk.pos_tag(words) "
   ]
  },
  {
   "cell_type": "code",
   "execution_count": 87,
   "metadata": {
    "scrolled": true
   },
   "outputs": [
    {
     "data": {
      "text/plain": [
       "[('videosecu', 'JJ'),\n",
       " ('tv', 'NN'),\n",
       " ('mount', 'NN'),\n",
       " ('mounting', 'VBG'),\n",
       " ('solution', 'NN'),\n",
       " ('2247', 'CD'),\n",
       " ('lcd', 'NN'),\n",
       " ('led', 'VBD'),\n",
       " ('plasma', 'JJ'),\n",
       " ('tv', 'NN'),\n",
       " ('led', 'VBD'),\n",
       " ('55', 'CD'),\n",
       " ('fits', 'NNS'),\n",
       " ('vesa', 'VBP'),\n",
       " ('600x400mm', 'CD'),\n",
       " ('24x16', 'CD'),\n",
       " ('400x400mm', 'CD'),\n",
       " ('16x16', 'CD'),\n",
       " ('400x200mm', 'CD'),\n",
       " ('16x8300x300mm', 'CD'),\n",
       " ('12x12200x200mm', 'CD'),\n",
       " ('8x8200x100mm', 'CD'),\n",
       " ('8x4', 'CD'),\n",
       " ('mounting', 'NN'),\n",
       " ('hole', 'NN'),\n",
       " ('pattern', 'NN'),\n",
       " ('back', 'RB'),\n",
       " ('tv', 'NN'),\n",
       " ('heavy', 'JJ'),\n",
       " ('gauge', 'NN'),\n",
       " ('steel', 'NN'),\n",
       " ('construction', 'NN'),\n",
       " ('provides', 'VBZ'),\n",
       " ('safety', 'NN'),\n",
       " ('loading', 'VBG'),\n",
       " ('66lbs', 'CD'),\n",
       " ('display', 'NN'),\n",
       " ('twolink', 'NN'),\n",
       " ('arm', 'NN'),\n",
       " ('design', 'NN'),\n",
       " ('provides', 'VBZ'),\n",
       " ('180', 'CD'),\n",
       " ('degrees', 'NNS'),\n",
       " ('swivel', 'VBP'),\n",
       " ('15', 'CD'),\n",
       " ('degrees', 'NNS'),\n",
       " ('tilt', 'VBD'),\n",
       " ('24', 'CD'),\n",
       " ('extension', 'NN'),\n",
       " ('make', 'VBP'),\n",
       " ('easier', 'JJR'),\n",
       " ('get', 'VB'),\n",
       " ('perfect', 'JJ'),\n",
       " ('viewing', 'VBG'),\n",
       " ('angle', 'NN'),\n",
       " ('removable', 'JJ'),\n",
       " ('vesa', 'NN'),\n",
       " ('plate', 'NN'),\n",
       " ('taken', 'VBN'),\n",
       " ('easy', 'JJ'),\n",
       " ('installation', 'NN'),\n",
       " ('postinstallation', 'NN'),\n",
       " ('level', 'NN'),\n",
       " ('adjustment', 'NN'),\n",
       " ('allows', 'VBZ'),\n",
       " ('tv', 'NN'),\n",
       " ('perfectly', 'RB'),\n",
       " ('level', 'JJ'),\n",
       " ('arm', 'NN'),\n",
       " ('cable', 'NN'),\n",
       " ('management', 'NN'),\n",
       " ('ring', 'NN'),\n",
       " ('system', 'NN'),\n",
       " ('design', 'NN'),\n",
       " ('guides', 'VBZ'),\n",
       " ('wires', 'NNS'),\n",
       " ('prevent', 'VBP'),\n",
       " ('cable', 'NN'),\n",
       " ('pinching', 'VBG'),\n",
       " ('standard', 'JJ'),\n",
       " ('hardware', 'NN'),\n",
       " ('user', 'JJ'),\n",
       " ('manual', 'JJ'),\n",
       " ('included', 'VBD'),\n",
       " ('note', 'NN'),\n",
       " ('nov', 'RB'),\n",
       " ('27', 'CD'),\n",
       " ('600x400', 'CD'),\n",
       " ('adapters', 'NNS'),\n",
       " ('provided', 'VBD'),\n",
       " ('product', 'NN')]"
      ]
     },
     "execution_count": 87,
     "metadata": {},
     "output_type": "execute_result"
    }
   ],
   "source": [
    "tagged"
   ]
  },
  {
   "cell_type": "code",
   "execution_count": 88,
   "metadata": {},
   "outputs": [
    {
     "data": {
      "text/plain": [
       "list"
      ]
     },
     "execution_count": 88,
     "metadata": {},
     "output_type": "execute_result"
    }
   ],
   "source": [
    "type(tagged)"
   ]
  },
  {
   "cell_type": "code",
   "execution_count": 89,
   "metadata": {},
   "outputs": [
    {
     "data": {
      "text/plain": [
       "'JJ'"
      ]
     },
     "execution_count": 89,
     "metadata": {},
     "output_type": "execute_result"
    }
   ],
   "source": [
    "tagged[0][1]"
   ]
  },
  {
   "cell_type": "code",
   "execution_count": 90,
   "metadata": {
    "collapsed": true
   },
   "outputs": [],
   "source": [
    "nouns=[]"
   ]
  },
  {
   "cell_type": "code",
   "execution_count": 91,
   "metadata": {
    "collapsed": true
   },
   "outputs": [],
   "source": [
    "for word in tagged:\n",
    "    if word[1]=='NN':\n",
    "        nouns.append(word[0])"
   ]
  },
  {
   "cell_type": "code",
   "execution_count": 92,
   "metadata": {},
   "outputs": [
    {
     "data": {
      "text/plain": [
       "['tv',\n",
       " 'mount',\n",
       " 'solution',\n",
       " 'lcd',\n",
       " 'tv',\n",
       " 'mounting',\n",
       " 'hole',\n",
       " 'pattern',\n",
       " 'tv',\n",
       " 'gauge',\n",
       " 'steel',\n",
       " 'construction',\n",
       " 'safety',\n",
       " 'display',\n",
       " 'twolink',\n",
       " 'arm',\n",
       " 'design',\n",
       " 'extension',\n",
       " 'angle',\n",
       " 'vesa',\n",
       " 'plate',\n",
       " 'installation',\n",
       " 'postinstallation',\n",
       " 'level',\n",
       " 'adjustment',\n",
       " 'tv',\n",
       " 'arm',\n",
       " 'cable',\n",
       " 'management',\n",
       " 'ring',\n",
       " 'system',\n",
       " 'design',\n",
       " 'cable',\n",
       " 'hardware',\n",
       " 'note',\n",
       " 'product']"
      ]
     },
     "execution_count": 92,
     "metadata": {},
     "output_type": "execute_result"
    }
   ],
   "source": [
    "nouns"
   ]
  },
  {
   "cell_type": "code",
   "execution_count": 93,
   "metadata": {
    "collapsed": true
   },
   "outputs": [],
   "source": [
    "ps = PorterStemmer()\n",
    "stemmed_words = []"
   ]
  },
  {
   "cell_type": "code",
   "execution_count": 94,
   "metadata": {
    "collapsed": true
   },
   "outputs": [],
   "source": [
    "stemmed_words=[]\n",
    "for w in nouns:\n",
    "    stemmed_words.append(ps.stem(w))\n"
   ]
  },
  {
   "cell_type": "code",
   "execution_count": 95,
   "metadata": {},
   "outputs": [
    {
     "data": {
      "text/plain": [
       "['tv',\n",
       " 'mount',\n",
       " 'solut',\n",
       " 'lcd',\n",
       " 'tv',\n",
       " 'mount',\n",
       " 'hole',\n",
       " 'pattern',\n",
       " 'tv',\n",
       " 'gaug',\n",
       " 'steel',\n",
       " 'construct',\n",
       " 'safeti',\n",
       " 'display',\n",
       " 'twolink',\n",
       " 'arm',\n",
       " 'design',\n",
       " 'extens',\n",
       " 'angl',\n",
       " 'vesa',\n",
       " 'plate',\n",
       " 'instal',\n",
       " 'postinstal',\n",
       " 'level',\n",
       " 'adjust',\n",
       " 'tv',\n",
       " 'arm',\n",
       " 'cabl',\n",
       " 'manag',\n",
       " 'ring',\n",
       " 'system',\n",
       " 'design',\n",
       " 'cabl',\n",
       " 'hardwar',\n",
       " 'note',\n",
       " 'product']"
      ]
     },
     "execution_count": 95,
     "metadata": {},
     "output_type": "execute_result"
    }
   ],
   "source": [
    "stemmed_words"
   ]
  },
  {
   "cell_type": "code",
   "execution_count": 96,
   "metadata": {
    "collapsed": true
   },
   "outputs": [],
   "source": [
    "lem = WordNetLemmatizer()\n",
    "lem_words = []\n",
    "\n",
    "for w in nouns:\n",
    "    lem_words.append(lem.lemmatize(w))"
   ]
  },
  {
   "cell_type": "code",
   "execution_count": 97,
   "metadata": {},
   "outputs": [
    {
     "name": "stdout",
     "output_type": "stream",
     "text": [
      "[nltk_data] Downloading package wordnet to\n",
      "[nltk_data]     C:\\Users\\Trishul\\AppData\\Roaming\\nltk_data...\n",
      "[nltk_data]   Package wordnet is already up-to-date!\n"
     ]
    },
    {
     "data": {
      "text/plain": [
       "True"
      ]
     },
     "execution_count": 97,
     "metadata": {},
     "output_type": "execute_result"
    }
   ],
   "source": [
    "nltk.download('wordnet')"
   ]
  },
  {
   "cell_type": "code",
   "execution_count": 98,
   "metadata": {},
   "outputs": [
    {
     "data": {
      "text/plain": [
       "['tv',\n",
       " 'mount',\n",
       " 'solution',\n",
       " 'lcd',\n",
       " 'tv',\n",
       " 'mounting',\n",
       " 'hole',\n",
       " 'pattern',\n",
       " 'tv',\n",
       " 'gauge',\n",
       " 'steel',\n",
       " 'construction',\n",
       " 'safety',\n",
       " 'display',\n",
       " 'twolink',\n",
       " 'arm',\n",
       " 'design',\n",
       " 'extension',\n",
       " 'angle',\n",
       " 'vesa',\n",
       " 'plate',\n",
       " 'installation',\n",
       " 'postinstallation',\n",
       " 'level',\n",
       " 'adjustment',\n",
       " 'tv',\n",
       " 'arm',\n",
       " 'cable',\n",
       " 'management',\n",
       " 'ring',\n",
       " 'system',\n",
       " 'design',\n",
       " 'cable',\n",
       " 'hardware',\n",
       " 'note',\n",
       " 'product']"
      ]
     },
     "execution_count": 98,
     "metadata": {},
     "output_type": "execute_result"
    }
   ],
   "source": [
    "lem_words"
   ]
  },
  {
   "cell_type": "code",
   "execution_count": 99,
   "metadata": {},
   "outputs": [
    {
     "data": {
      "text/plain": [
       "['tv',\n",
       " 'mount',\n",
       " 'solution',\n",
       " 'lcd',\n",
       " 'tv',\n",
       " 'mounting',\n",
       " 'hole',\n",
       " 'pattern',\n",
       " 'tv',\n",
       " 'gauge',\n",
       " 'steel',\n",
       " 'construction',\n",
       " 'safety',\n",
       " 'display',\n",
       " 'twolink',\n",
       " 'arm',\n",
       " 'design',\n",
       " 'extension',\n",
       " 'angle',\n",
       " 'vesa',\n",
       " 'plate',\n",
       " 'installation',\n",
       " 'postinstallation',\n",
       " 'level',\n",
       " 'adjustment',\n",
       " 'tv',\n",
       " 'arm',\n",
       " 'cable',\n",
       " 'management',\n",
       " 'ring',\n",
       " 'system',\n",
       " 'design',\n",
       " 'cable',\n",
       " 'hardware',\n",
       " 'note',\n",
       " 'product']"
      ]
     },
     "execution_count": 99,
     "metadata": {},
     "output_type": "execute_result"
    }
   ],
   "source": [
    "nouns"
   ]
  },
  {
   "cell_type": "code",
   "execution_count": 100,
   "metadata": {},
   "outputs": [
    {
     "data": {
      "text/plain": [
       "'I mounted this in my RV and it holds a 26\" LCD TV / DVD combo.  Installation was very easy and the mount works GREAT!  I was prepared to pay 5 times the price for a mount that would work as I wanted.  I couldn\\'t be happier.'"
      ]
     },
     "execution_count": 100,
     "metadata": {},
     "output_type": "execute_result"
    }
   ],
   "source": [
    "reviewText"
   ]
  },
  {
   "cell_type": "code",
   "execution_count": 101,
   "metadata": {
    "collapsed": true
   },
   "outputs": [],
   "source": [
    "review_nopunc= [char for char in reviewText if char not in string.punctuation]\n",
    "\n",
    "review_nopunc = ''.join(review_nopunc)\n",
    "\n",
    "review_words = [word.lower() for word in review_nopunc.split() if word.lower() not in stopwords.words('english')]\n",
    "\n",
    "\n",
    "\n",
    "ps = PorterStemmer()\n",
    "stemmed_review = []\n",
    "for w in review_words:\n",
    "    stemmed_review.append(ps.stem(w))\n",
    "\n",
    "\n",
    "lem = WordNetLemmatizer()\n",
    "lem_review = []\n",
    "for w in review_words:\n",
    "    lem_review.append(lem.lemmatize(w))\n"
   ]
  },
  {
   "cell_type": "code",
   "execution_count": 102,
   "metadata": {},
   "outputs": [
    {
     "data": {
      "text/plain": [
       "['mounted',\n",
       " 'rv',\n",
       " 'hold',\n",
       " '26',\n",
       " 'lcd',\n",
       " 'tv',\n",
       " 'dvd',\n",
       " 'combo',\n",
       " 'installation',\n",
       " 'easy',\n",
       " 'mount',\n",
       " 'work',\n",
       " 'great',\n",
       " 'prepared',\n",
       " 'pay',\n",
       " '5',\n",
       " 'time',\n",
       " 'price',\n",
       " 'mount',\n",
       " 'would',\n",
       " 'work',\n",
       " 'wanted',\n",
       " 'couldnt',\n",
       " 'happier']"
      ]
     },
     "execution_count": 102,
     "metadata": {},
     "output_type": "execute_result"
    }
   ],
   "source": [
    "lem_review"
   ]
  },
  {
   "cell_type": "code",
   "execution_count": 103,
   "metadata": {},
   "outputs": [
    {
     "data": {
      "text/plain": [
       "['lcd', 'installation', 'easy', 'tv', 'mount']"
      ]
     },
     "execution_count": 103,
     "metadata": {},
     "output_type": "execute_result"
    }
   ],
   "source": [
    "list(set(words).intersection(review_words))"
   ]
  },
  {
   "cell_type": "code",
   "execution_count": 107,
   "metadata": {},
   "outputs": [
    {
     "data": {
      "text/plain": [
       "['lcd', 'installation', 'mount', 'tv']"
      ]
     },
     "execution_count": 107,
     "metadata": {},
     "output_type": "execute_result"
    }
   ],
   "source": [
    "list(set(nouns).intersection(review_words))"
   ]
  },
  {
   "cell_type": "code",
   "execution_count": 104,
   "metadata": {},
   "outputs": [
    {
     "data": {
      "text/plain": [
       "['instal', 'lcd', 'tv', 'mount']"
      ]
     },
     "execution_count": 104,
     "metadata": {},
     "output_type": "execute_result"
    }
   ],
   "source": [
    "list(set(stemmed_words).intersection(stemmed_review))"
   ]
  },
  {
   "cell_type": "code",
   "execution_count": 105,
   "metadata": {},
   "outputs": [
    {
     "data": {
      "text/plain": [
       "['lcd', 'installation', 'mount', 'tv']"
      ]
     },
     "execution_count": 105,
     "metadata": {},
     "output_type": "execute_result"
    }
   ],
   "source": [
    "list(set(lem_words).intersection(lem_review))"
   ]
  },
  {
   "cell_type": "code",
   "execution_count": null,
   "metadata": {
    "collapsed": true
   },
   "outputs": [],
   "source": []
  },
  {
   "cell_type": "code",
   "execution_count": 145,
   "metadata": {},
   "outputs": [
    {
     "name": "stdout",
     "output_type": "stream",
     "text": [
      "0.533333333333\n",
      "Unfortunately, I'm returning this mount.Though I like the look of it, particularly the two part plastic piece that clips to the wall mount portion to cover the bolts, I feel that the one I ordered wasn't well made.I purchased it to mount aLG 26LE5300 26-Inch 720p 60Hz LED LCD HDTVin our kitchen.The mount arrived quickly and was well packaged. Unfortunately, the arm was welded to the wall bracket at a slight angle, meaning that regardless of how it would mount it and the LCD would never be level.Also, the powder coating near one of the bolts had come off and I could see some rust already forming.I decided to see if the mount would be the right fit for the tv before returning, figuring I would just get a replacement and hope for the best. I'm glad I did because this led me to find two other issues.The first one I blame on the manufacturers, the second I would consider a design flaw of the LG lcd.The first issue is that the screws supplied to attach the bracket to the tv are too few and two short. The screws are only 12mm long, and would barely catch in the threads of the TV if they weren't recessed at all. Most mounting threads on lcds and plasmas are partially recessed. I stopped by my local Lowes and picked up two packs of similar screws (M4-70 or something to that affect). $0.80 a packet so not much of an expenditure, just a big hassle. I needed 20mm long screws to mount this to the tv, so a pretty fair difference over what was supplied. The manufacturer supplies several different thread and gauge options, but only one shallow length of each set.The second issue is that this universal mount covered the power and HDMI ports on the back of the 26le5300. Again, I think this is more of an issue with the tv then the mount, as they're situated rather high and central. Either way, it's something you'll want to check on your tv before ordering this product.I actually returned this and in its stead purchased a similar mount from the same company. TheVideoSecu Swing LCD Wall Mount 20 inch Extension 55 lb loading capacity for LCD TV Monitor Flat Screen VESA 75mm/100 mm 1USgets very high marks from me. It's basically the same arm with a 75x75 to 100x100 VESA head on it. This second arm did not have any of the manufacturing errors of the previous model and fit the back of my tv perfectly.I understand that it's a very affordable mount, and that most of my issues may have been resolved with a replacement. However, I just can't give this mount any higher rating than I have.\n"
     ]
    },
    {
     "data": {
      "text/plain": [
       "Unnamed: 0                                                         230\n",
       "reviewerID                                              A25M2X8KHSS2NC\n",
       "asin                                                        0972683275\n",
       "reviewerName                           Ultimate Ducky \"Ultimate Ducky\"\n",
       "helpful                                                        [8, 15]\n",
       "reviewText           Unfortunately, I'm returning this mount.Though...\n",
       "overall                                                              2\n",
       "summary              Poor Quality Control, May Block the Ports on Y...\n",
       "unixReviewTime                                              1283558400\n",
       "reviewTime                                                  09 4, 2010\n",
       "helpfulness_score                                             0.533333\n",
       "user_deviation                                                0.703985\n",
       "review_delay                                                         0\n",
       "Name: 8, dtype: object"
      ]
     },
     "execution_count": 145,
     "metadata": {},
     "output_type": "execute_result"
    }
   ],
   "source": [
    "num=5\n",
    "print(product_reviews.iloc[num]['helpfulness_score'])\n",
    "#print(product_reviews.iloc[num][''])\n",
    "print(product_reviews.iloc[num]['reviewText'])\n",
    "reviewText2 = product_reviews.iloc[num]['reviewText']\n",
    "product_reviews.iloc[num]"
   ]
  },
  {
   "cell_type": "code",
   "execution_count": 146,
   "metadata": {
    "collapsed": true
   },
   "outputs": [],
   "source": [
    "review_nopunc= [char for char in reviewText2 if char not in string.punctuation]\n",
    "\n",
    "review_nopunc = ''.join(review_nopunc)\n",
    "\n",
    "review_words = [word.lower() for word in review_nopunc.split() if word.lower() not in stopwords.words('english')]\n",
    "\n",
    "\n",
    "\n",
    "ps = PorterStemmer()\n",
    "stemmed_review = []\n",
    "for w in review_words:\n",
    "    stemmed_review.append(ps.stem(w))\n",
    "\n",
    "\n",
    "lem = WordNetLemmatizer()\n",
    "lem_review = []\n",
    "for w in review_words:\n",
    "    lem_review.append(lem.lemmatize(w))"
   ]
  },
  {
   "cell_type": "code",
   "execution_count": 147,
   "metadata": {},
   "outputs": [
    {
     "data": {
      "text/plain": [
       "['led',\n",
       " 'lcd',\n",
       " 'arm',\n",
       " 'mounting',\n",
       " 'angle',\n",
       " 'design',\n",
       " 'gauge',\n",
       " '55',\n",
       " 'get',\n",
       " 'tv',\n",
       " 'vesa',\n",
       " 'extension',\n",
       " 'loading',\n",
       " 'mount',\n",
       " 'back']"
      ]
     },
     "execution_count": 147,
     "metadata": {},
     "output_type": "execute_result"
    }
   ],
   "source": [
    "list(set(words).intersection(review_words))"
   ]
  },
  {
   "cell_type": "code",
   "execution_count": 148,
   "metadata": {},
   "outputs": [
    {
     "data": {
      "text/plain": [
       "['lcd',\n",
       " 'mounting',\n",
       " 'angle',\n",
       " 'design',\n",
       " 'gauge',\n",
       " 'vesa',\n",
       " 'tv',\n",
       " 'extension',\n",
       " 'mount',\n",
       " 'arm']"
      ]
     },
     "execution_count": 148,
     "metadata": {},
     "output_type": "execute_result"
    }
   ],
   "source": [
    "list(set(nouns).intersection(review_words))\n",
    "\n"
   ]
  },
  {
   "cell_type": "code",
   "execution_count": 149,
   "metadata": {},
   "outputs": [
    {
     "data": {
      "text/plain": [
       "['lcd', 'extens', 'gaug', 'design', 'vesa', 'tv', 'angl', 'mount', 'arm']"
      ]
     },
     "execution_count": 149,
     "metadata": {},
     "output_type": "execute_result"
    }
   ],
   "source": [
    "list(set(stemmed_words).intersection(stemmed_review))\n",
    "\n"
   ]
  },
  {
   "cell_type": "code",
   "execution_count": 150,
   "metadata": {},
   "outputs": [
    {
     "data": {
      "text/plain": [
       "['lcd',\n",
       " 'mounting',\n",
       " 'angle',\n",
       " 'design',\n",
       " 'gauge',\n",
       " 'vesa',\n",
       " 'tv',\n",
       " 'extension',\n",
       " 'mount',\n",
       " 'arm']"
      ]
     },
     "execution_count": 150,
     "metadata": {},
     "output_type": "execute_result"
    }
   ],
   "source": [
    "list(set(lem_words).intersection(lem_review))"
   ]
  },
  {
   "cell_type": "code",
   "execution_count": 152,
   "metadata": {},
   "outputs": [
    {
     "data": {
      "text/html": [
       "<div>\n",
       "<style>\n",
       "    .dataframe thead tr:only-child th {\n",
       "        text-align: right;\n",
       "    }\n",
       "\n",
       "    .dataframe thead th {\n",
       "        text-align: left;\n",
       "    }\n",
       "\n",
       "    .dataframe tbody tr th {\n",
       "        vertical-align: top;\n",
       "    }\n",
       "</style>\n",
       "<table border=\"1\" class=\"dataframe\">\n",
       "  <thead>\n",
       "    <tr style=\"text-align: right;\">\n",
       "      <th></th>\n",
       "      <th>Unnamed: 0</th>\n",
       "      <th>reviewerID</th>\n",
       "      <th>asin</th>\n",
       "      <th>reviewerName</th>\n",
       "      <th>helpful</th>\n",
       "      <th>reviewText</th>\n",
       "      <th>overall</th>\n",
       "      <th>summary</th>\n",
       "      <th>unixReviewTime</th>\n",
       "      <th>reviewTime</th>\n",
       "      <th>helpfulness_score</th>\n",
       "      <th>user_deviation</th>\n",
       "      <th>review_delay</th>\n",
       "    </tr>\n",
       "  </thead>\n",
       "  <tbody>\n",
       "    <tr>\n",
       "      <th>0</th>\n",
       "      <td>1</td>\n",
       "      <td>AMO214LNFCEI4</td>\n",
       "      <td>0528881469</td>\n",
       "      <td>Amazon Customer</td>\n",
       "      <td>[12, 15]</td>\n",
       "      <td>I'm a professional OTR truck driver, and I bou...</td>\n",
       "      <td>1.0</td>\n",
       "      <td>Very Disappointed</td>\n",
       "      <td>1290643200</td>\n",
       "      <td>11 25, 2010</td>\n",
       "      <td>0.800000</td>\n",
       "      <td>1.399189</td>\n",
       "      <td>6652800</td>\n",
       "    </tr>\n",
       "    <tr>\n",
       "      <th>1</th>\n",
       "      <td>2</td>\n",
       "      <td>A3N7T0DY83Y4IG</td>\n",
       "      <td>0528881469</td>\n",
       "      <td>C. A. Freeman</td>\n",
       "      <td>[43, 45]</td>\n",
       "      <td>Well, what can I say.  I've had this unit in m...</td>\n",
       "      <td>3.0</td>\n",
       "      <td>1st impression</td>\n",
       "      <td>1283990400</td>\n",
       "      <td>09 9, 2010</td>\n",
       "      <td>0.955556</td>\n",
       "      <td>0.624437</td>\n",
       "      <td>0</td>\n",
       "    </tr>\n",
       "    <tr>\n",
       "      <th>2</th>\n",
       "      <td>3</td>\n",
       "      <td>A1H8PY3QHMQQA0</td>\n",
       "      <td>0528881469</td>\n",
       "      <td>Dave M. Shaw \"mack dave\"</td>\n",
       "      <td>[9, 10]</td>\n",
       "      <td>Not going to write a long review, even thought...</td>\n",
       "      <td>2.0</td>\n",
       "      <td>Great grafics, POOR GPS</td>\n",
       "      <td>1290556800</td>\n",
       "      <td>11 24, 2010</td>\n",
       "      <td>0.900000</td>\n",
       "      <td>0.510375</td>\n",
       "      <td>6566400</td>\n",
       "    </tr>\n",
       "    <tr>\n",
       "      <th>3</th>\n",
       "      <td>56</td>\n",
       "      <td>A3QH8VQDE7HZCR</td>\n",
       "      <td>0972683275</td>\n",
       "      <td>costaricachris</td>\n",
       "      <td>[15, 19]</td>\n",
       "      <td>Quality was excellent. Instructions were clear...</td>\n",
       "      <td>5.0</td>\n",
       "      <td>Real value for the money</td>\n",
       "      <td>1286236800</td>\n",
       "      <td>10 5, 2010</td>\n",
       "      <td>0.789474</td>\n",
       "      <td>0.442171</td>\n",
       "      <td>2678400</td>\n",
       "    </tr>\n",
       "    <tr>\n",
       "      <th>4</th>\n",
       "      <td>82</td>\n",
       "      <td>A38FGQVJM18OWV</td>\n",
       "      <td>0972683275</td>\n",
       "      <td>George S. Mitchell \"gsmitchell\"</td>\n",
       "      <td>[8, 18]</td>\n",
       "      <td>I checked around Amazon as well as some other ...</td>\n",
       "      <td>1.0</td>\n",
       "      <td>What a piece of junk!</td>\n",
       "      <td>1291161600</td>\n",
       "      <td>12 1, 2010</td>\n",
       "      <td>0.444444</td>\n",
       "      <td>1.616074</td>\n",
       "      <td>7603200</td>\n",
       "    </tr>\n",
       "  </tbody>\n",
       "</table>\n",
       "</div>"
      ],
      "text/plain": [
       "   Unnamed: 0      reviewerID        asin                     reviewerName  \\\n",
       "0           1   AMO214LNFCEI4  0528881469                  Amazon Customer   \n",
       "1           2  A3N7T0DY83Y4IG  0528881469                    C. A. Freeman   \n",
       "2           3  A1H8PY3QHMQQA0  0528881469         Dave M. Shaw \"mack dave\"   \n",
       "3          56  A3QH8VQDE7HZCR  0972683275                   costaricachris   \n",
       "4          82  A38FGQVJM18OWV  0972683275  George S. Mitchell \"gsmitchell\"   \n",
       "\n",
       "    helpful                                         reviewText  overall  \\\n",
       "0  [12, 15]  I'm a professional OTR truck driver, and I bou...      1.0   \n",
       "1  [43, 45]  Well, what can I say.  I've had this unit in m...      3.0   \n",
       "2   [9, 10]  Not going to write a long review, even thought...      2.0   \n",
       "3  [15, 19]  Quality was excellent. Instructions were clear...      5.0   \n",
       "4   [8, 18]  I checked around Amazon as well as some other ...      1.0   \n",
       "\n",
       "                    summary  unixReviewTime   reviewTime  helpfulness_score  \\\n",
       "0         Very Disappointed      1290643200  11 25, 2010           0.800000   \n",
       "1            1st impression      1283990400   09 9, 2010           0.955556   \n",
       "2   Great grafics, POOR GPS      1290556800  11 24, 2010           0.900000   \n",
       "3  Real value for the money      1286236800   10 5, 2010           0.789474   \n",
       "4     What a piece of junk!      1291161600   12 1, 2010           0.444444   \n",
       "\n",
       "   user_deviation  review_delay  \n",
       "0        1.399189       6652800  \n",
       "1        0.624437             0  \n",
       "2        0.510375       6566400  \n",
       "3        0.442171       2678400  \n",
       "4        1.616074       7603200  "
      ]
     },
     "execution_count": 152,
     "metadata": {},
     "output_type": "execute_result"
    }
   ],
   "source": [
    "df.head()"
   ]
  },
  {
   "cell_type": "code",
   "execution_count": 151,
   "metadata": {},
   "outputs": [
    {
     "data": {
      "text/plain": [
       "107502"
      ]
     },
     "execution_count": 151,
     "metadata": {},
     "output_type": "execute_result"
    }
   ],
   "source": [
    "len(df)"
   ]
  },
  {
   "cell_type": "code",
   "execution_count": 153,
   "metadata": {},
   "outputs": [
    {
     "data": {
      "text/plain": [
       "32799"
      ]
     },
     "execution_count": 153,
     "metadata": {},
     "output_type": "execute_result"
    }
   ],
   "source": [
    "df['asin'].nunique()"
   ]
  },
  {
   "cell_type": "code",
   "execution_count": 163,
   "metadata": {
    "collapsed": true
   },
   "outputs": [],
   "source": [
    "review_gt_1 = df['asin'].value_counts()==1"
   ]
  },
  {
   "cell_type": "code",
   "execution_count": 166,
   "metadata": {},
   "outputs": [
    {
     "data": {
      "text/plain": [
       "12516"
      ]
     },
     "execution_count": 166,
     "metadata": {},
     "output_type": "execute_result"
    }
   ],
   "source": [
    "len(review_gt_1[review_gt_1==True])"
   ]
  },
  {
   "cell_type": "code",
   "execution_count": 169,
   "metadata": {},
   "outputs": [
    {
     "data": {
      "text/plain": [
       "Index(['Unnamed: 0', 'asin', 'imUrl', 'description', 'categories', 'title',\n",
       "       'price', 'salesRank', 'related', 'brand'],\n",
       "      dtype='object')"
      ]
     },
     "execution_count": 169,
     "metadata": {},
     "output_type": "execute_result"
    }
   ],
   "source": [
    "meta_df.keys()"
   ]
  },
  {
   "cell_type": "code",
   "execution_count": 172,
   "metadata": {
    "collapsed": true
   },
   "outputs": [],
   "source": [
    "meta_df.drop(['Unnamed: 0'], axis=1, inplace=True)"
   ]
  },
  {
   "cell_type": "code",
   "execution_count": 173,
   "metadata": {},
   "outputs": [
    {
     "data": {
      "text/html": [
       "<div>\n",
       "<style>\n",
       "    .dataframe thead tr:only-child th {\n",
       "        text-align: right;\n",
       "    }\n",
       "\n",
       "    .dataframe thead th {\n",
       "        text-align: left;\n",
       "    }\n",
       "\n",
       "    .dataframe tbody tr th {\n",
       "        vertical-align: top;\n",
       "    }\n",
       "</style>\n",
       "<table border=\"1\" class=\"dataframe\">\n",
       "  <thead>\n",
       "    <tr style=\"text-align: right;\">\n",
       "      <th></th>\n",
       "      <th>asin</th>\n",
       "      <th>imUrl</th>\n",
       "      <th>description</th>\n",
       "      <th>categories</th>\n",
       "      <th>title</th>\n",
       "      <th>price</th>\n",
       "      <th>salesRank</th>\n",
       "      <th>related</th>\n",
       "      <th>brand</th>\n",
       "    </tr>\n",
       "  </thead>\n",
       "  <tbody>\n",
       "    <tr>\n",
       "      <th>0</th>\n",
       "      <td>0528881469</td>\n",
       "      <td>http://ecx.images-amazon.com/images/I/51FnRkJq...</td>\n",
       "      <td>Like its award-winning predecessor, the Intell...</td>\n",
       "      <td>[['Electronics', 'GPS &amp; Navigation', 'Vehicle ...</td>\n",
       "      <td>Rand McNally 528881469 7-inch Intelliroute TND...</td>\n",
       "      <td>299.99</td>\n",
       "      <td>NaN</td>\n",
       "      <td>{'also_viewed': ['B006ZOI9OY', 'B00C7FKT2A', '...</td>\n",
       "      <td>NaN</td>\n",
       "    </tr>\n",
       "    <tr>\n",
       "      <th>1</th>\n",
       "      <td>0594451647</td>\n",
       "      <td>http://ecx.images-amazon.com/images/I/51RjSETO...</td>\n",
       "      <td>HDTV Adapter Kit for NOOK HD and NOOK HD+\\r\\nT...</td>\n",
       "      <td>[['Electronics', 'Computers &amp; Accessories', 'T...</td>\n",
       "      <td>Barnes &amp;amp; Noble HDTV Adapter Kit for NOOK H...</td>\n",
       "      <td>49.95</td>\n",
       "      <td>NaN</td>\n",
       "      <td>{'also_bought': ['B009L7EEZA', 'B00AGAYQEU', '...</td>\n",
       "      <td>NaN</td>\n",
       "    </tr>\n",
       "    <tr>\n",
       "      <th>2</th>\n",
       "      <td>0594481813</td>\n",
       "      <td>http://ecx.images-amazon.com/images/I/41K7ymN5...</td>\n",
       "      <td>Power up your device with this Barnes &amp;amp; No...</td>\n",
       "      <td>[['Electronics', 'eBook Readers &amp; Accessories'...</td>\n",
       "      <td>Barnes &amp;amp; Noble OV/HB-ADP Universal Power Kit</td>\n",
       "      <td>19.65</td>\n",
       "      <td>NaN</td>\n",
       "      <td>{'also_bought': ['B00AAKLIIS', 'B00A668GUO', '...</td>\n",
       "      <td>Barnes &amp;amp; Noble</td>\n",
       "    </tr>\n",
       "    <tr>\n",
       "      <th>3</th>\n",
       "      <td>0972683275</td>\n",
       "      <td>http://ecx.images-amazon.com/images/I/41hYJ9Mw...</td>\n",
       "      <td>The VideoSecu TV mount is a mounting solution ...</td>\n",
       "      <td>[['Electronics', 'Accessories &amp; Supplies', 'Au...</td>\n",
       "      <td>VideoSecu 24&amp;quot; Long Arm TV Wall Mount Low ...</td>\n",
       "      <td>29.99</td>\n",
       "      <td>{}</td>\n",
       "      <td>{'also_bought': ['B000X3KOD2', 'B0074FGR74', '...</td>\n",
       "      <td>VideoSecu</td>\n",
       "    </tr>\n",
       "    <tr>\n",
       "      <th>4</th>\n",
       "      <td>1400532620</td>\n",
       "      <td>http://ecx.images-amazon.com/images/I/519ca3cu...</td>\n",
       "      <td>Barnes &amp; Noble Nook eReader - no 3GMeet nook. ...</td>\n",
       "      <td>[['Electronics', 'eBook Readers &amp; Accessories']]</td>\n",
       "      <td>Barnes &amp;amp; Noble Nook eReader - no 3G</td>\n",
       "      <td>74.95</td>\n",
       "      <td>{'Electronics': 23071}</td>\n",
       "      <td>{'also_bought': ['B0035CLBT4', 'B004X18N24', '...</td>\n",
       "      <td>Barnes &amp;amp; Noble</td>\n",
       "    </tr>\n",
       "  </tbody>\n",
       "</table>\n",
       "</div>"
      ],
      "text/plain": [
       "         asin                                              imUrl  \\\n",
       "0  0528881469  http://ecx.images-amazon.com/images/I/51FnRkJq...   \n",
       "1  0594451647  http://ecx.images-amazon.com/images/I/51RjSETO...   \n",
       "2  0594481813  http://ecx.images-amazon.com/images/I/41K7ymN5...   \n",
       "3  0972683275  http://ecx.images-amazon.com/images/I/41hYJ9Mw...   \n",
       "4  1400532620  http://ecx.images-amazon.com/images/I/519ca3cu...   \n",
       "\n",
       "                                         description  \\\n",
       "0  Like its award-winning predecessor, the Intell...   \n",
       "1  HDTV Adapter Kit for NOOK HD and NOOK HD+\\r\\nT...   \n",
       "2  Power up your device with this Barnes &amp; No...   \n",
       "3  The VideoSecu TV mount is a mounting solution ...   \n",
       "4  Barnes & Noble Nook eReader - no 3GMeet nook. ...   \n",
       "\n",
       "                                          categories  \\\n",
       "0  [['Electronics', 'GPS & Navigation', 'Vehicle ...   \n",
       "1  [['Electronics', 'Computers & Accessories', 'T...   \n",
       "2  [['Electronics', 'eBook Readers & Accessories'...   \n",
       "3  [['Electronics', 'Accessories & Supplies', 'Au...   \n",
       "4   [['Electronics', 'eBook Readers & Accessories']]   \n",
       "\n",
       "                                               title   price  \\\n",
       "0  Rand McNally 528881469 7-inch Intelliroute TND...  299.99   \n",
       "1  Barnes &amp; Noble HDTV Adapter Kit for NOOK H...   49.95   \n",
       "2   Barnes &amp; Noble OV/HB-ADP Universal Power Kit   19.65   \n",
       "3  VideoSecu 24&quot; Long Arm TV Wall Mount Low ...   29.99   \n",
       "4            Barnes &amp; Noble Nook eReader - no 3G   74.95   \n",
       "\n",
       "                salesRank                                            related  \\\n",
       "0                     NaN  {'also_viewed': ['B006ZOI9OY', 'B00C7FKT2A', '...   \n",
       "1                     NaN  {'also_bought': ['B009L7EEZA', 'B00AGAYQEU', '...   \n",
       "2                     NaN  {'also_bought': ['B00AAKLIIS', 'B00A668GUO', '...   \n",
       "3                      {}  {'also_bought': ['B000X3KOD2', 'B0074FGR74', '...   \n",
       "4  {'Electronics': 23071}  {'also_bought': ['B0035CLBT4', 'B004X18N24', '...   \n",
       "\n",
       "                brand  \n",
       "0                 NaN  \n",
       "1                 NaN  \n",
       "2  Barnes &amp; Noble  \n",
       "3           VideoSecu  \n",
       "4  Barnes &amp; Noble  "
      ]
     },
     "execution_count": 173,
     "metadata": {},
     "output_type": "execute_result"
    }
   ],
   "source": [
    "meta_df.head()"
   ]
  },
  {
   "cell_type": "code",
   "execution_count": 175,
   "metadata": {
    "collapsed": true
   },
   "outputs": [],
   "source": [
    "review_pids=df['asin'].unique()"
   ]
  },
  {
   "cell_type": "code",
   "execution_count": 176,
   "metadata": {},
   "outputs": [
    {
     "data": {
      "text/plain": [
       "True"
      ]
     },
     "execution_count": 176,
     "metadata": {},
     "output_type": "execute_result"
    }
   ],
   "source": [
    "'0972683275' in review_pids"
   ]
  },
  {
   "cell_type": "code",
   "execution_count": 181,
   "metadata": {
    "collapsed": true
   },
   "outputs": [],
   "source": [
    "def product_in_reviews(pid):\n",
    "    return pid in review_pids"
   ]
  },
  {
   "cell_type": "code",
   "execution_count": 182,
   "metadata": {
    "collapsed": true
   },
   "outputs": [],
   "source": [
    "meta_new = meta_df[meta_df['asin'].apply(product_in_reviews)==True]"
   ]
  },
  {
   "cell_type": "code",
   "execution_count": 185,
   "metadata": {
    "scrolled": true
   },
   "outputs": [
    {
     "data": {
      "text/html": [
       "<div>\n",
       "<style>\n",
       "    .dataframe thead tr:only-child th {\n",
       "        text-align: right;\n",
       "    }\n",
       "\n",
       "    .dataframe thead th {\n",
       "        text-align: left;\n",
       "    }\n",
       "\n",
       "    .dataframe tbody tr th {\n",
       "        vertical-align: top;\n",
       "    }\n",
       "</style>\n",
       "<table border=\"1\" class=\"dataframe\">\n",
       "  <thead>\n",
       "    <tr style=\"text-align: right;\">\n",
       "      <th></th>\n",
       "      <th>asin</th>\n",
       "      <th>imUrl</th>\n",
       "      <th>description</th>\n",
       "      <th>categories</th>\n",
       "      <th>title</th>\n",
       "      <th>price</th>\n",
       "      <th>salesRank</th>\n",
       "      <th>related</th>\n",
       "      <th>brand</th>\n",
       "    </tr>\n",
       "  </thead>\n",
       "  <tbody>\n",
       "    <tr>\n",
       "      <th>0</th>\n",
       "      <td>0528881469</td>\n",
       "      <td>http://ecx.images-amazon.com/images/I/51FnRkJq...</td>\n",
       "      <td>Like its award-winning predecessor, the Intell...</td>\n",
       "      <td>[['Electronics', 'GPS &amp; Navigation', 'Vehicle ...</td>\n",
       "      <td>Rand McNally 528881469 7-inch Intelliroute TND...</td>\n",
       "      <td>299.99</td>\n",
       "      <td>NaN</td>\n",
       "      <td>{'also_viewed': ['B006ZOI9OY', 'B00C7FKT2A', '...</td>\n",
       "      <td>NaN</td>\n",
       "    </tr>\n",
       "    <tr>\n",
       "      <th>3</th>\n",
       "      <td>0972683275</td>\n",
       "      <td>http://ecx.images-amazon.com/images/I/41hYJ9Mw...</td>\n",
       "      <td>The VideoSecu TV mount is a mounting solution ...</td>\n",
       "      <td>[['Electronics', 'Accessories &amp; Supplies', 'Au...</td>\n",
       "      <td>VideoSecu 24&amp;quot; Long Arm TV Wall Mount Low ...</td>\n",
       "      <td>29.99</td>\n",
       "      <td>{}</td>\n",
       "      <td>{'also_bought': ['B000X3KOD2', 'B0074FGR74', '...</td>\n",
       "      <td>VideoSecu</td>\n",
       "    </tr>\n",
       "    <tr>\n",
       "      <th>4</th>\n",
       "      <td>1400532620</td>\n",
       "      <td>http://ecx.images-amazon.com/images/I/519ca3cu...</td>\n",
       "      <td>Barnes &amp; Noble Nook eReader - no 3GMeet nook. ...</td>\n",
       "      <td>[['Electronics', 'eBook Readers &amp; Accessories']]</td>\n",
       "      <td>Barnes &amp;amp; Noble Nook eReader - no 3G</td>\n",
       "      <td>74.95</td>\n",
       "      <td>{'Electronics': 23071}</td>\n",
       "      <td>{'also_bought': ['B0035CLBT4', 'B004X18N24', '...</td>\n",
       "      <td>Barnes &amp;amp; Noble</td>\n",
       "    </tr>\n",
       "    <tr>\n",
       "      <th>5</th>\n",
       "      <td>140053271X</td>\n",
       "      <td>http://ecx.images-amazon.com/images/I/51jat7CV...</td>\n",
       "      <td>Barnes &amp; Noble Nook Simple Touch Wi-Fi ReaderI...</td>\n",
       "      <td>[['Electronics', 'eBook Readers &amp; Accessories'...</td>\n",
       "      <td>Barnes &amp;amp; Noble Nook Simple Touch eBook Rea...</td>\n",
       "      <td>79.49</td>\n",
       "      <td>NaN</td>\n",
       "      <td>{'also_bought': ['B007UXNHNM', 'B007UXNHGY', '...</td>\n",
       "      <td>Barnes &amp;amp; Noble</td>\n",
       "    </tr>\n",
       "    <tr>\n",
       "      <th>6</th>\n",
       "      <td>1400532736</td>\n",
       "      <td>http://ecx.images-amazon.com/images/I/413fSdlM...</td>\n",
       "      <td>The NOOK Simple Touch eReader allows you to re...</td>\n",
       "      <td>[['Electronics', 'eBook Readers &amp; Accessories'...</td>\n",
       "      <td>Nook Simple Touch eReader</td>\n",
       "      <td>62.99</td>\n",
       "      <td>{'Electronics': 4945}</td>\n",
       "      <td>{'also_bought': ['B0055ZDRI2', 'B007UXNHGY', '...</td>\n",
       "      <td>Barnes &amp;amp; Noble</td>\n",
       "    </tr>\n",
       "  </tbody>\n",
       "</table>\n",
       "</div>"
      ],
      "text/plain": [
       "         asin                                              imUrl  \\\n",
       "0  0528881469  http://ecx.images-amazon.com/images/I/51FnRkJq...   \n",
       "3  0972683275  http://ecx.images-amazon.com/images/I/41hYJ9Mw...   \n",
       "4  1400532620  http://ecx.images-amazon.com/images/I/519ca3cu...   \n",
       "5  140053271X  http://ecx.images-amazon.com/images/I/51jat7CV...   \n",
       "6  1400532736  http://ecx.images-amazon.com/images/I/413fSdlM...   \n",
       "\n",
       "                                         description  \\\n",
       "0  Like its award-winning predecessor, the Intell...   \n",
       "3  The VideoSecu TV mount is a mounting solution ...   \n",
       "4  Barnes & Noble Nook eReader - no 3GMeet nook. ...   \n",
       "5  Barnes & Noble Nook Simple Touch Wi-Fi ReaderI...   \n",
       "6  The NOOK Simple Touch eReader allows you to re...   \n",
       "\n",
       "                                          categories  \\\n",
       "0  [['Electronics', 'GPS & Navigation', 'Vehicle ...   \n",
       "3  [['Electronics', 'Accessories & Supplies', 'Au...   \n",
       "4   [['Electronics', 'eBook Readers & Accessories']]   \n",
       "5  [['Electronics', 'eBook Readers & Accessories'...   \n",
       "6  [['Electronics', 'eBook Readers & Accessories'...   \n",
       "\n",
       "                                               title   price  \\\n",
       "0  Rand McNally 528881469 7-inch Intelliroute TND...  299.99   \n",
       "3  VideoSecu 24&quot; Long Arm TV Wall Mount Low ...   29.99   \n",
       "4            Barnes &amp; Noble Nook eReader - no 3G   74.95   \n",
       "5  Barnes &amp; Noble Nook Simple Touch eBook Rea...   79.49   \n",
       "6                          Nook Simple Touch eReader   62.99   \n",
       "\n",
       "                salesRank                                            related  \\\n",
       "0                     NaN  {'also_viewed': ['B006ZOI9OY', 'B00C7FKT2A', '...   \n",
       "3                      {}  {'also_bought': ['B000X3KOD2', 'B0074FGR74', '...   \n",
       "4  {'Electronics': 23071}  {'also_bought': ['B0035CLBT4', 'B004X18N24', '...   \n",
       "5                     NaN  {'also_bought': ['B007UXNHNM', 'B007UXNHGY', '...   \n",
       "6   {'Electronics': 4945}  {'also_bought': ['B0055ZDRI2', 'B007UXNHGY', '...   \n",
       "\n",
       "                brand  \n",
       "0                 NaN  \n",
       "3           VideoSecu  \n",
       "4  Barnes &amp; Noble  \n",
       "5  Barnes &amp; Noble  \n",
       "6  Barnes &amp; Noble  "
      ]
     },
     "execution_count": 185,
     "metadata": {},
     "output_type": "execute_result"
    }
   ],
   "source": [
    "meta_new.head()"
   ]
  },
  {
   "cell_type": "code",
   "execution_count": 3,
   "metadata": {},
   "outputs": [],
   "source": [
    "# get the stemmed or lemmatized words of text description \n",
    "#for word_type: use 'stem' for stemming and 'lemmatize' for lemmatization\n",
    "def get_desc_words(text):\n",
    "    word_type = 'stem'\n",
    "    nopunc= [char for char in text if char not in string.punctuation]\n",
    "    nopunc = ''.join(nopunc)\n",
    "\n",
    "    words = [word.lower() for word in nopunc.split() if word.lower() not in stopwords.words('english')]\n",
    "    \n",
    "    \n",
    "    tagged = nltk.pos_tag(words) \n",
    "    \n",
    "    nouns = []\n",
    "    for word in tagged:\n",
    "        if word[1]=='NN':\n",
    "            nouns.append(word[0])\n",
    "\n",
    "    if word_type=='stem' :\n",
    "        ps = PorterStemmer()\n",
    "        stemmed_words = []\n",
    "        for w in nouns:\n",
    "            stemmed_words.append(ps.stem(w))\n",
    "        \n",
    "        return stemmed_words\n",
    "    \n",
    "    if word_type=='lemmatize':\n",
    "        lem = WordNetLemmatizer()\n",
    "        lem_words = []\n",
    "        for w in nouns:\n",
    "            lem_words.append(lem.lemmatize(w))\n",
    "        \n",
    "        return lem_words\n"
   ]
  },
  {
   "cell_type": "code",
   "execution_count": 204,
   "metadata": {
    "scrolled": true
   },
   "outputs": [
    {
     "ename": "TypeError",
     "evalue": "get_desc_words() takes 1 positional argument but 2 were given",
     "output_type": "error",
     "traceback": [
      "\u001b[1;31m---------------------------------------------------------------------------\u001b[0m",
      "\u001b[1;31mTypeError\u001b[0m                                 Traceback (most recent call last)",
      "\u001b[1;32m<ipython-input-204-37119a0e093c>\u001b[0m in \u001b[0;36m<module>\u001b[1;34m()\u001b[0m\n\u001b[1;32m----> 1\u001b[1;33m \u001b[0mget_desc_words\u001b[0m\u001b[1;33m(\u001b[0m\u001b[0mmeta_new\u001b[0m\u001b[1;33m[\u001b[0m\u001b[1;34m'description'\u001b[0m\u001b[1;33m]\u001b[0m\u001b[1;33m,\u001b[0m \u001b[1;34m'lemmatize'\u001b[0m\u001b[1;33m)\u001b[0m\u001b[1;33m\u001b[0m\u001b[0m\n\u001b[0m",
      "\u001b[1;31mTypeError\u001b[0m: get_desc_words() takes 1 positional argument but 2 were given"
     ]
    }
   ],
   "source": [
    "get_desc_words(meta_new['description'], 'lemmatize')"
   ]
  },
  {
   "cell_type": "code",
   "execution_count": 202,
   "metadata": {},
   "outputs": [
    {
     "data": {
      "text/plain": [
       "'Like its award-winning predecessor, the IntelliRoute TND 500, the Rand McNally IntelliRoute TND 700 GPS device gives truckers much more than just maps and navigation. It offers detailed information about truck stops, rest areas, weigh stations and other points of interest for truckers, as well as tools to help drivers estimate the profitability of a route. And with its seven-inch screen and high-definition display, the IntelliRoute TND 700 redefines readability and usability. Other exclusive features include an oversized stylus, larger buttons, a louder speaker, and tools like a calendar and notepad to help professional drivers complete their routes with greater ease and efficiency.IntelliRoute TND 700At a glance:35-percent more truck-routing information than other GPS devicesSeven-inch, high-definition screenLarge buttons and powerful speaker optimized for truck cabSpoken turn-by-turn directionsQuick planner tool helps determine most profitable routes3-in-1 ChargerCharge your GPS device via in-car adapter, A/C outlet, or mini-USB port.Seven-inch, high-definition screen optimized for truck cab.View larger.Features large buttons, powerful speaker, and a stylus.View larger.Large, Seven-Inch Display and Powerful SpeakerThe IntelliRoute TND 700 sets itself apart from other GPS devices with its large, seven-inch, high-definition screen, over-sized buttons, and stylus--all of which are designed specifically for a truck cab. And unlike GPS devices designed for passenger cars, this truck navigation unit has a speaker that is twice as powerful as typical car speakers, amplifying the sound above cab noise so spoken directions come through loud and clear.35-Percent More Truck-Route InformationEven before your truck has started, you can determine the best route to take by entering your truck\\'s length, width, weight, height, and HazMat information. The IntelliRoute TND 700 has 35-percent more truck routing information than other GPS units. Enter as many as 10 stops and use the device\\'s preferences tools to pass up tolls and construction without missing weigh stations, rest areas, or repair services. Connect the included USB cable to a Windows-compatible computer with internet connection for free updates including road construction.The IntelliRoute TND 700 provides turn-by-turn directions with spoken street names. The patented Smart-Time feature calculates the local time as well as the time at your destination--handy when traveling across multiple time zones.Included in the IntelliRoute TND 700 is searchable truck-stop information from The Trucker\\'s Friend National Truck Stop Directory. You can find the nearest truck stop or search more than 70 amenities like showers, restaurants, Wi-Fi, and more!Customized Trucker Business ToolsLoaded with all of the innovative tools featured in the IntelliRoute TND 500, the IntelliRoute TND 700 introduces more tools vital for truckers. A new calendar feature helps you keep track of important appointments and dates. Also, you can keep all of your reminders and notes together in the same place with the handy notepad feature.Drivers can reduce time-consuming manual calculations with the IntelliRoute TND 700. Drivers can track miles driven in every U.S. state or Canadian province for organized bookkeeping and fuel-tax reporting. User-set timers and logs keep track of driving time and time on duty.The IntelliRoute TND 700 was designed to partner with America\\'s #1 trucker\\'s atlas. Drivers can cross-reference to the page and grid of the Rand McNally Motor Carriers\\' Road Atlas.The Quick Planner tool helps determine the profitability of routes. A commercial-grade address book organizes thousands of entries, and allows you to group them the way that works best for you.With so many helpful tools, off-duty truckers may find themselves switching the IntelliRoute TND 700 to car mode and bringing it along for family trips.The IntelliRoute TND 700 is backed by a one-year parts-and-labor warranty.What\\'s in the BoxIntelliRoute TND 700, windshield mount, truck charger with extended length cable, 120/240V home charger, quick start guide, and USB cable.FeaturesIntelliRoute TND 500Truck navigation you can trustIntelliRoute TND 700Redefining truck navigationScreen size5\"7\"Truck-specific routingSearchable truck stop servicesStandard map detailMulti-stop route optimizationCar modeAccess to updates and upgrades via TND Dock*Commercial-grade address bookTimers & LogsTruck stop ratingsJunction view 3-DFull U.S. & Canada MapsQwerty keyboardEnhanced map detail**High-definition screenOversized stylusCalendarNotepad* Updates and upgrades via TND Dock require a Windows PC and internet connection.** Map detail enabled by larger, high-definition screen'"
      ]
     },
     "execution_count": 202,
     "metadata": {},
     "output_type": "execute_result"
    }
   ],
   "source": [
    "meta_new['description'][0]"
   ]
  },
  {
   "cell_type": "code",
   "execution_count": 198,
   "metadata": {},
   "outputs": [
    {
     "ename": "TypeError",
     "evalue": "(\"'float' object is not iterable\", 'occurred at index 23')",
     "output_type": "error",
     "traceback": [
      "\u001b[1;31m---------------------------------------------------------------------------\u001b[0m",
      "\u001b[1;31mTypeError\u001b[0m                                 Traceback (most recent call last)",
      "\u001b[1;32m<ipython-input-198-1fd61b834361>\u001b[0m in \u001b[0;36m<module>\u001b[1;34m()\u001b[0m\n\u001b[1;32m----> 1\u001b[1;33m \u001b[0mmeta_new\u001b[0m\u001b[1;33m[\u001b[0m\u001b[1;34m'stem_words'\u001b[0m\u001b[1;33m]\u001b[0m \u001b[1;33m=\u001b[0m \u001b[0mmeta_new\u001b[0m\u001b[1;33m.\u001b[0m\u001b[0mapply\u001b[0m\u001b[1;33m(\u001b[0m\u001b[1;32mlambda\u001b[0m \u001b[0mrow\u001b[0m\u001b[1;33m:\u001b[0m \u001b[0mget_desc_words\u001b[0m\u001b[1;33m(\u001b[0m\u001b[0mrow\u001b[0m\u001b[1;33m[\u001b[0m\u001b[1;34m'description'\u001b[0m\u001b[1;33m]\u001b[0m\u001b[1;33m,\u001b[0m\u001b[1;34m'stem'\u001b[0m\u001b[1;33m)\u001b[0m\u001b[1;33m,\u001b[0m \u001b[0maxis\u001b[0m\u001b[1;33m=\u001b[0m\u001b[1;36m1\u001b[0m\u001b[1;33m)\u001b[0m\u001b[1;33m\u001b[0m\u001b[0m\n\u001b[0m",
      "\u001b[1;32mC:\\Users\\Trishul\\Anaconda3\\lib\\site-packages\\pandas\\core\\frame.py\u001b[0m in \u001b[0;36mapply\u001b[1;34m(self, func, axis, broadcast, raw, reduce, args, **kwds)\u001b[0m\n\u001b[0;32m   4260\u001b[0m                         \u001b[0mf\u001b[0m\u001b[1;33m,\u001b[0m \u001b[0maxis\u001b[0m\u001b[1;33m,\u001b[0m\u001b[1;33m\u001b[0m\u001b[0m\n\u001b[0;32m   4261\u001b[0m                         \u001b[0mreduce\u001b[0m\u001b[1;33m=\u001b[0m\u001b[0mreduce\u001b[0m\u001b[1;33m,\u001b[0m\u001b[1;33m\u001b[0m\u001b[0m\n\u001b[1;32m-> 4262\u001b[1;33m                         ignore_failures=ignore_failures)\n\u001b[0m\u001b[0;32m   4263\u001b[0m             \u001b[1;32melse\u001b[0m\u001b[1;33m:\u001b[0m\u001b[1;33m\u001b[0m\u001b[0m\n\u001b[0;32m   4264\u001b[0m                 \u001b[1;32mreturn\u001b[0m \u001b[0mself\u001b[0m\u001b[1;33m.\u001b[0m\u001b[0m_apply_broadcast\u001b[0m\u001b[1;33m(\u001b[0m\u001b[0mf\u001b[0m\u001b[1;33m,\u001b[0m \u001b[0maxis\u001b[0m\u001b[1;33m)\u001b[0m\u001b[1;33m\u001b[0m\u001b[0m\n",
      "\u001b[1;32mC:\\Users\\Trishul\\Anaconda3\\lib\\site-packages\\pandas\\core\\frame.py\u001b[0m in \u001b[0;36m_apply_standard\u001b[1;34m(self, func, axis, ignore_failures, reduce)\u001b[0m\n\u001b[0;32m   4356\u001b[0m             \u001b[1;32mtry\u001b[0m\u001b[1;33m:\u001b[0m\u001b[1;33m\u001b[0m\u001b[0m\n\u001b[0;32m   4357\u001b[0m                 \u001b[1;32mfor\u001b[0m \u001b[0mi\u001b[0m\u001b[1;33m,\u001b[0m \u001b[0mv\u001b[0m \u001b[1;32min\u001b[0m \u001b[0menumerate\u001b[0m\u001b[1;33m(\u001b[0m\u001b[0mseries_gen\u001b[0m\u001b[1;33m)\u001b[0m\u001b[1;33m:\u001b[0m\u001b[1;33m\u001b[0m\u001b[0m\n\u001b[1;32m-> 4358\u001b[1;33m                     \u001b[0mresults\u001b[0m\u001b[1;33m[\u001b[0m\u001b[0mi\u001b[0m\u001b[1;33m]\u001b[0m \u001b[1;33m=\u001b[0m \u001b[0mfunc\u001b[0m\u001b[1;33m(\u001b[0m\u001b[0mv\u001b[0m\u001b[1;33m)\u001b[0m\u001b[1;33m\u001b[0m\u001b[0m\n\u001b[0m\u001b[0;32m   4359\u001b[0m                     \u001b[0mkeys\u001b[0m\u001b[1;33m.\u001b[0m\u001b[0mappend\u001b[0m\u001b[1;33m(\u001b[0m\u001b[0mv\u001b[0m\u001b[1;33m.\u001b[0m\u001b[0mname\u001b[0m\u001b[1;33m)\u001b[0m\u001b[1;33m\u001b[0m\u001b[0m\n\u001b[0;32m   4360\u001b[0m             \u001b[1;32mexcept\u001b[0m \u001b[0mException\u001b[0m \u001b[1;32mas\u001b[0m \u001b[0me\u001b[0m\u001b[1;33m:\u001b[0m\u001b[1;33m\u001b[0m\u001b[0m\n",
      "\u001b[1;32m<ipython-input-198-1fd61b834361>\u001b[0m in \u001b[0;36m<lambda>\u001b[1;34m(row)\u001b[0m\n\u001b[1;32m----> 1\u001b[1;33m \u001b[0mmeta_new\u001b[0m\u001b[1;33m[\u001b[0m\u001b[1;34m'stem_words'\u001b[0m\u001b[1;33m]\u001b[0m \u001b[1;33m=\u001b[0m \u001b[0mmeta_new\u001b[0m\u001b[1;33m.\u001b[0m\u001b[0mapply\u001b[0m\u001b[1;33m(\u001b[0m\u001b[1;32mlambda\u001b[0m \u001b[0mrow\u001b[0m\u001b[1;33m:\u001b[0m \u001b[0mget_desc_words\u001b[0m\u001b[1;33m(\u001b[0m\u001b[0mrow\u001b[0m\u001b[1;33m[\u001b[0m\u001b[1;34m'description'\u001b[0m\u001b[1;33m]\u001b[0m\u001b[1;33m,\u001b[0m\u001b[1;34m'stem'\u001b[0m\u001b[1;33m)\u001b[0m\u001b[1;33m,\u001b[0m \u001b[0maxis\u001b[0m\u001b[1;33m=\u001b[0m\u001b[1;36m1\u001b[0m\u001b[1;33m)\u001b[0m\u001b[1;33m\u001b[0m\u001b[0m\n\u001b[0m",
      "\u001b[1;32m<ipython-input-188-d82803111421>\u001b[0m in \u001b[0;36mget_desc_words\u001b[1;34m(text, word_type)\u001b[0m\n\u001b[0;32m      1\u001b[0m \u001b[1;31m# get the stemmed words of text description\u001b[0m\u001b[1;33m\u001b[0m\u001b[1;33m\u001b[0m\u001b[0m\n\u001b[0;32m      2\u001b[0m \u001b[1;32mdef\u001b[0m \u001b[0mget_desc_words\u001b[0m\u001b[1;33m(\u001b[0m\u001b[0mtext\u001b[0m\u001b[1;33m,\u001b[0m \u001b[0mword_type\u001b[0m\u001b[1;33m)\u001b[0m\u001b[1;33m:\u001b[0m\u001b[1;33m\u001b[0m\u001b[0m\n\u001b[1;32m----> 3\u001b[1;33m     \u001b[0mnopunc\u001b[0m\u001b[1;33m=\u001b[0m \u001b[1;33m[\u001b[0m\u001b[0mchar\u001b[0m \u001b[1;32mfor\u001b[0m \u001b[0mchar\u001b[0m \u001b[1;32min\u001b[0m \u001b[0mtext\u001b[0m \u001b[1;32mif\u001b[0m \u001b[0mchar\u001b[0m \u001b[1;32mnot\u001b[0m \u001b[1;32min\u001b[0m \u001b[0mstring\u001b[0m\u001b[1;33m.\u001b[0m\u001b[0mpunctuation\u001b[0m\u001b[1;33m]\u001b[0m\u001b[1;33m\u001b[0m\u001b[0m\n\u001b[0m\u001b[0;32m      4\u001b[0m     \u001b[0mnopunc\u001b[0m \u001b[1;33m=\u001b[0m \u001b[1;34m''\u001b[0m\u001b[1;33m.\u001b[0m\u001b[0mjoin\u001b[0m\u001b[1;33m(\u001b[0m\u001b[0mnopunc\u001b[0m\u001b[1;33m)\u001b[0m\u001b[1;33m\u001b[0m\u001b[0m\n\u001b[0;32m      5\u001b[0m \u001b[1;33m\u001b[0m\u001b[0m\n",
      "\u001b[1;31mTypeError\u001b[0m: (\"'float' object is not iterable\", 'occurred at index 23')"
     ]
    }
   ],
   "source": [
    "meta_new['stem_words'] = meta_new.apply(lambda row: get_desc_words(row['description'],'stem'), axis=1)"
   ]
  },
  {
   "cell_type": "code",
   "execution_count": 205,
   "metadata": {},
   "outputs": [
    {
     "ename": "TypeError",
     "evalue": "'float' object is not iterable",
     "output_type": "error",
     "traceback": [
      "\u001b[1;31m---------------------------------------------------------------------------\u001b[0m",
      "\u001b[1;31mTypeError\u001b[0m                                 Traceback (most recent call last)",
      "\u001b[1;32m<ipython-input-205-77df4fff3b31>\u001b[0m in \u001b[0;36m<module>\u001b[1;34m()\u001b[0m\n\u001b[1;32m----> 1\u001b[1;33m \u001b[0mmeta_new\u001b[0m\u001b[1;33m[\u001b[0m\u001b[1;34m'stem_words'\u001b[0m\u001b[1;33m]\u001b[0m \u001b[1;33m=\u001b[0m \u001b[0mmeta_new\u001b[0m\u001b[1;33m[\u001b[0m\u001b[1;34m'description'\u001b[0m\u001b[1;33m]\u001b[0m\u001b[1;33m.\u001b[0m\u001b[0mapply\u001b[0m\u001b[1;33m(\u001b[0m\u001b[0mget_desc_words\u001b[0m\u001b[1;33m)\u001b[0m\u001b[1;33m\u001b[0m\u001b[0m\n\u001b[0m",
      "\u001b[1;32mC:\\Users\\Trishul\\Anaconda3\\lib\\site-packages\\pandas\\core\\series.py\u001b[0m in \u001b[0;36mapply\u001b[1;34m(self, func, convert_dtype, args, **kwds)\u001b[0m\n\u001b[0;32m   2353\u001b[0m             \u001b[1;32melse\u001b[0m\u001b[1;33m:\u001b[0m\u001b[1;33m\u001b[0m\u001b[0m\n\u001b[0;32m   2354\u001b[0m                 \u001b[0mvalues\u001b[0m \u001b[1;33m=\u001b[0m \u001b[0mself\u001b[0m\u001b[1;33m.\u001b[0m\u001b[0masobject\u001b[0m\u001b[1;33m\u001b[0m\u001b[0m\n\u001b[1;32m-> 2355\u001b[1;33m                 \u001b[0mmapped\u001b[0m \u001b[1;33m=\u001b[0m \u001b[0mlib\u001b[0m\u001b[1;33m.\u001b[0m\u001b[0mmap_infer\u001b[0m\u001b[1;33m(\u001b[0m\u001b[0mvalues\u001b[0m\u001b[1;33m,\u001b[0m \u001b[0mf\u001b[0m\u001b[1;33m,\u001b[0m \u001b[0mconvert\u001b[0m\u001b[1;33m=\u001b[0m\u001b[0mconvert_dtype\u001b[0m\u001b[1;33m)\u001b[0m\u001b[1;33m\u001b[0m\u001b[0m\n\u001b[0m\u001b[0;32m   2356\u001b[0m \u001b[1;33m\u001b[0m\u001b[0m\n\u001b[0;32m   2357\u001b[0m         \u001b[1;32mif\u001b[0m \u001b[0mlen\u001b[0m\u001b[1;33m(\u001b[0m\u001b[0mmapped\u001b[0m\u001b[1;33m)\u001b[0m \u001b[1;32mand\u001b[0m \u001b[0misinstance\u001b[0m\u001b[1;33m(\u001b[0m\u001b[0mmapped\u001b[0m\u001b[1;33m[\u001b[0m\u001b[1;36m0\u001b[0m\u001b[1;33m]\u001b[0m\u001b[1;33m,\u001b[0m \u001b[0mSeries\u001b[0m\u001b[1;33m)\u001b[0m\u001b[1;33m:\u001b[0m\u001b[1;33m\u001b[0m\u001b[0m\n",
      "\u001b[1;32mpandas\\_libs\\src\\inference.pyx\u001b[0m in \u001b[0;36mpandas._libs.lib.map_infer (pandas\\_libs\\lib.c:66645)\u001b[1;34m()\u001b[0m\n",
      "\u001b[1;32m<ipython-input-203-232815554c46>\u001b[0m in \u001b[0;36mget_desc_words\u001b[1;34m(text)\u001b[0m\n\u001b[0;32m      3\u001b[0m \u001b[1;32mdef\u001b[0m \u001b[0mget_desc_words\u001b[0m\u001b[1;33m(\u001b[0m\u001b[0mtext\u001b[0m\u001b[1;33m)\u001b[0m\u001b[1;33m:\u001b[0m\u001b[1;33m\u001b[0m\u001b[0m\n\u001b[0;32m      4\u001b[0m     \u001b[0mword_type\u001b[0m \u001b[1;33m=\u001b[0m \u001b[1;34m'stem'\u001b[0m\u001b[1;33m\u001b[0m\u001b[0m\n\u001b[1;32m----> 5\u001b[1;33m     \u001b[0mnopunc\u001b[0m\u001b[1;33m=\u001b[0m \u001b[1;33m[\u001b[0m\u001b[0mchar\u001b[0m \u001b[1;32mfor\u001b[0m \u001b[0mchar\u001b[0m \u001b[1;32min\u001b[0m \u001b[0mtext\u001b[0m \u001b[1;32mif\u001b[0m \u001b[0mchar\u001b[0m \u001b[1;32mnot\u001b[0m \u001b[1;32min\u001b[0m \u001b[0mstring\u001b[0m\u001b[1;33m.\u001b[0m\u001b[0mpunctuation\u001b[0m\u001b[1;33m]\u001b[0m\u001b[1;33m\u001b[0m\u001b[0m\n\u001b[0m\u001b[0;32m      6\u001b[0m     \u001b[0mnopunc\u001b[0m \u001b[1;33m=\u001b[0m \u001b[1;34m''\u001b[0m\u001b[1;33m.\u001b[0m\u001b[0mjoin\u001b[0m\u001b[1;33m(\u001b[0m\u001b[0mnopunc\u001b[0m\u001b[1;33m)\u001b[0m\u001b[1;33m\u001b[0m\u001b[0m\n\u001b[0;32m      7\u001b[0m \u001b[1;33m\u001b[0m\u001b[0m\n",
      "\u001b[1;31mTypeError\u001b[0m: 'float' object is not iterable"
     ]
    }
   ],
   "source": []
  },
  {
   "cell_type": "code",
   "execution_count": 209,
   "metadata": {},
   "outputs": [
    {
     "data": {
      "text/plain": [
       "6037"
      ]
     },
     "execution_count": 209,
     "metadata": {},
     "output_type": "execute_result"
    }
   ],
   "source": [
    "meta_new['description'].isnull().values.ravel().sum()"
   ]
  },
  {
   "cell_type": "code",
   "execution_count": 210,
   "metadata": {},
   "outputs": [
    {
     "ename": "AttributeError",
     "evalue": "'Series' object has no attribute 'drop_na'",
     "output_type": "error",
     "traceback": [
      "\u001b[1;31m---------------------------------------------------------------------------\u001b[0m",
      "\u001b[1;31mAttributeError\u001b[0m                            Traceback (most recent call last)",
      "\u001b[1;32m<ipython-input-210-e40fc4c5fbaa>\u001b[0m in \u001b[0;36m<module>\u001b[1;34m()\u001b[0m\n\u001b[1;32m----> 1\u001b[1;33m \u001b[0mmeta_new\u001b[0m\u001b[1;33m[\u001b[0m\u001b[1;34m'description'\u001b[0m\u001b[1;33m]\u001b[0m\u001b[1;33m.\u001b[0m\u001b[0mdrop_na\u001b[0m\u001b[1;33m(\u001b[0m\u001b[1;33m)\u001b[0m\u001b[1;33m\u001b[0m\u001b[0m\n\u001b[0m",
      "\u001b[1;32mC:\\Users\\Trishul\\Anaconda3\\lib\\site-packages\\pandas\\core\\generic.py\u001b[0m in \u001b[0;36m__getattr__\u001b[1;34m(self, name)\u001b[0m\n\u001b[0;32m   3079\u001b[0m             \u001b[1;32mif\u001b[0m \u001b[0mname\u001b[0m \u001b[1;32min\u001b[0m \u001b[0mself\u001b[0m\u001b[1;33m.\u001b[0m\u001b[0m_info_axis\u001b[0m\u001b[1;33m:\u001b[0m\u001b[1;33m\u001b[0m\u001b[0m\n\u001b[0;32m   3080\u001b[0m                 \u001b[1;32mreturn\u001b[0m \u001b[0mself\u001b[0m\u001b[1;33m[\u001b[0m\u001b[0mname\u001b[0m\u001b[1;33m]\u001b[0m\u001b[1;33m\u001b[0m\u001b[0m\n\u001b[1;32m-> 3081\u001b[1;33m             \u001b[1;32mreturn\u001b[0m \u001b[0mobject\u001b[0m\u001b[1;33m.\u001b[0m\u001b[0m__getattribute__\u001b[0m\u001b[1;33m(\u001b[0m\u001b[0mself\u001b[0m\u001b[1;33m,\u001b[0m \u001b[0mname\u001b[0m\u001b[1;33m)\u001b[0m\u001b[1;33m\u001b[0m\u001b[0m\n\u001b[0m\u001b[0;32m   3082\u001b[0m \u001b[1;33m\u001b[0m\u001b[0m\n\u001b[0;32m   3083\u001b[0m     \u001b[1;32mdef\u001b[0m \u001b[0m__setattr__\u001b[0m\u001b[1;33m(\u001b[0m\u001b[0mself\u001b[0m\u001b[1;33m,\u001b[0m \u001b[0mname\u001b[0m\u001b[1;33m,\u001b[0m \u001b[0mvalue\u001b[0m\u001b[1;33m)\u001b[0m\u001b[1;33m:\u001b[0m\u001b[1;33m\u001b[0m\u001b[0m\n",
      "\u001b[1;31mAttributeError\u001b[0m: 'Series' object has no attribute 'drop_na'"
     ]
    }
   ],
   "source": [
    "meta_new['description'].drop_na()"
   ]
  },
  {
   "cell_type": "code",
   "execution_count": 212,
   "metadata": {},
   "outputs": [
    {
     "name": "stderr",
     "output_type": "stream",
     "text": [
      "C:\\Users\\Trishul\\Anaconda3\\lib\\site-packages\\ipykernel_launcher.py:1: SettingWithCopyWarning: \n",
      "A value is trying to be set on a copy of a slice from a DataFrame\n",
      "\n",
      "See the caveats in the documentation: http://pandas.pydata.org/pandas-docs/stable/indexing.html#indexing-view-versus-copy\n",
      "  \"\"\"Entry point for launching an IPython kernel.\n"
     ]
    }
   ],
   "source": [
    "meta_new.dropna(subset=['description'],inplace=True)"
   ]
  },
  {
   "cell_type": "code",
   "execution_count": 214,
   "metadata": {},
   "outputs": [
    {
     "data": {
      "text/plain": [
       "26762"
      ]
     },
     "execution_count": 214,
     "metadata": {},
     "output_type": "execute_result"
    }
   ],
   "source": [
    "len(meta_new)"
   ]
  },
  {
   "cell_type": "code",
   "execution_count": 215,
   "metadata": {},
   "outputs": [
    {
     "ename": "KeyboardInterrupt",
     "evalue": "",
     "output_type": "error",
     "traceback": [
      "\u001b[1;31m---------------------------------------------------------------------------\u001b[0m",
      "\u001b[1;31mKeyboardInterrupt\u001b[0m                         Traceback (most recent call last)",
      "\u001b[1;32m<ipython-input-215-77df4fff3b31>\u001b[0m in \u001b[0;36m<module>\u001b[1;34m()\u001b[0m\n\u001b[1;32m----> 1\u001b[1;33m \u001b[0mmeta_new\u001b[0m\u001b[1;33m[\u001b[0m\u001b[1;34m'stem_words'\u001b[0m\u001b[1;33m]\u001b[0m \u001b[1;33m=\u001b[0m \u001b[0mmeta_new\u001b[0m\u001b[1;33m[\u001b[0m\u001b[1;34m'description'\u001b[0m\u001b[1;33m]\u001b[0m\u001b[1;33m.\u001b[0m\u001b[0mapply\u001b[0m\u001b[1;33m(\u001b[0m\u001b[0mget_desc_words\u001b[0m\u001b[1;33m)\u001b[0m\u001b[1;33m\u001b[0m\u001b[0m\n\u001b[0m",
      "\u001b[1;32mC:\\Users\\Trishul\\Anaconda3\\lib\\site-packages\\pandas\\core\\series.py\u001b[0m in \u001b[0;36mapply\u001b[1;34m(self, func, convert_dtype, args, **kwds)\u001b[0m\n\u001b[0;32m   2353\u001b[0m             \u001b[1;32melse\u001b[0m\u001b[1;33m:\u001b[0m\u001b[1;33m\u001b[0m\u001b[0m\n\u001b[0;32m   2354\u001b[0m                 \u001b[0mvalues\u001b[0m \u001b[1;33m=\u001b[0m \u001b[0mself\u001b[0m\u001b[1;33m.\u001b[0m\u001b[0masobject\u001b[0m\u001b[1;33m\u001b[0m\u001b[0m\n\u001b[1;32m-> 2355\u001b[1;33m                 \u001b[0mmapped\u001b[0m \u001b[1;33m=\u001b[0m \u001b[0mlib\u001b[0m\u001b[1;33m.\u001b[0m\u001b[0mmap_infer\u001b[0m\u001b[1;33m(\u001b[0m\u001b[0mvalues\u001b[0m\u001b[1;33m,\u001b[0m \u001b[0mf\u001b[0m\u001b[1;33m,\u001b[0m \u001b[0mconvert\u001b[0m\u001b[1;33m=\u001b[0m\u001b[0mconvert_dtype\u001b[0m\u001b[1;33m)\u001b[0m\u001b[1;33m\u001b[0m\u001b[0m\n\u001b[0m\u001b[0;32m   2356\u001b[0m \u001b[1;33m\u001b[0m\u001b[0m\n\u001b[0;32m   2357\u001b[0m         \u001b[1;32mif\u001b[0m \u001b[0mlen\u001b[0m\u001b[1;33m(\u001b[0m\u001b[0mmapped\u001b[0m\u001b[1;33m)\u001b[0m \u001b[1;32mand\u001b[0m \u001b[0misinstance\u001b[0m\u001b[1;33m(\u001b[0m\u001b[0mmapped\u001b[0m\u001b[1;33m[\u001b[0m\u001b[1;36m0\u001b[0m\u001b[1;33m]\u001b[0m\u001b[1;33m,\u001b[0m \u001b[0mSeries\u001b[0m\u001b[1;33m)\u001b[0m\u001b[1;33m:\u001b[0m\u001b[1;33m\u001b[0m\u001b[0m\n",
      "\u001b[1;32mpandas\\_libs\\src\\inference.pyx\u001b[0m in \u001b[0;36mpandas._libs.lib.map_infer (pandas\\_libs\\lib.c:66645)\u001b[1;34m()\u001b[0m\n",
      "\u001b[1;32m<ipython-input-203-232815554c46>\u001b[0m in \u001b[0;36mget_desc_words\u001b[1;34m(text)\u001b[0m\n\u001b[0;32m      6\u001b[0m     \u001b[0mnopunc\u001b[0m \u001b[1;33m=\u001b[0m \u001b[1;34m''\u001b[0m\u001b[1;33m.\u001b[0m\u001b[0mjoin\u001b[0m\u001b[1;33m(\u001b[0m\u001b[0mnopunc\u001b[0m\u001b[1;33m)\u001b[0m\u001b[1;33m\u001b[0m\u001b[0m\n\u001b[0;32m      7\u001b[0m \u001b[1;33m\u001b[0m\u001b[0m\n\u001b[1;32m----> 8\u001b[1;33m     \u001b[0mwords\u001b[0m \u001b[1;33m=\u001b[0m \u001b[1;33m[\u001b[0m\u001b[0mword\u001b[0m\u001b[1;33m.\u001b[0m\u001b[0mlower\u001b[0m\u001b[1;33m(\u001b[0m\u001b[1;33m)\u001b[0m \u001b[1;32mfor\u001b[0m \u001b[0mword\u001b[0m \u001b[1;32min\u001b[0m \u001b[0mnopunc\u001b[0m\u001b[1;33m.\u001b[0m\u001b[0msplit\u001b[0m\u001b[1;33m(\u001b[0m\u001b[1;33m)\u001b[0m \u001b[1;32mif\u001b[0m \u001b[0mword\u001b[0m\u001b[1;33m.\u001b[0m\u001b[0mlower\u001b[0m\u001b[1;33m(\u001b[0m\u001b[1;33m)\u001b[0m \u001b[1;32mnot\u001b[0m \u001b[1;32min\u001b[0m \u001b[0mstopwords\u001b[0m\u001b[1;33m.\u001b[0m\u001b[0mwords\u001b[0m\u001b[1;33m(\u001b[0m\u001b[1;34m'english'\u001b[0m\u001b[1;33m)\u001b[0m\u001b[1;33m]\u001b[0m\u001b[1;33m\u001b[0m\u001b[0m\n\u001b[0m\u001b[0;32m      9\u001b[0m \u001b[1;33m\u001b[0m\u001b[0m\n\u001b[0;32m     10\u001b[0m \u001b[1;33m\u001b[0m\u001b[0m\n",
      "\u001b[1;32m<ipython-input-203-232815554c46>\u001b[0m in \u001b[0;36m<listcomp>\u001b[1;34m(.0)\u001b[0m\n\u001b[0;32m      6\u001b[0m     \u001b[0mnopunc\u001b[0m \u001b[1;33m=\u001b[0m \u001b[1;34m''\u001b[0m\u001b[1;33m.\u001b[0m\u001b[0mjoin\u001b[0m\u001b[1;33m(\u001b[0m\u001b[0mnopunc\u001b[0m\u001b[1;33m)\u001b[0m\u001b[1;33m\u001b[0m\u001b[0m\n\u001b[0;32m      7\u001b[0m \u001b[1;33m\u001b[0m\u001b[0m\n\u001b[1;32m----> 8\u001b[1;33m     \u001b[0mwords\u001b[0m \u001b[1;33m=\u001b[0m \u001b[1;33m[\u001b[0m\u001b[0mword\u001b[0m\u001b[1;33m.\u001b[0m\u001b[0mlower\u001b[0m\u001b[1;33m(\u001b[0m\u001b[1;33m)\u001b[0m \u001b[1;32mfor\u001b[0m \u001b[0mword\u001b[0m \u001b[1;32min\u001b[0m \u001b[0mnopunc\u001b[0m\u001b[1;33m.\u001b[0m\u001b[0msplit\u001b[0m\u001b[1;33m(\u001b[0m\u001b[1;33m)\u001b[0m \u001b[1;32mif\u001b[0m \u001b[0mword\u001b[0m\u001b[1;33m.\u001b[0m\u001b[0mlower\u001b[0m\u001b[1;33m(\u001b[0m\u001b[1;33m)\u001b[0m \u001b[1;32mnot\u001b[0m \u001b[1;32min\u001b[0m \u001b[0mstopwords\u001b[0m\u001b[1;33m.\u001b[0m\u001b[0mwords\u001b[0m\u001b[1;33m(\u001b[0m\u001b[1;34m'english'\u001b[0m\u001b[1;33m)\u001b[0m\u001b[1;33m]\u001b[0m\u001b[1;33m\u001b[0m\u001b[0m\n\u001b[0m\u001b[0;32m      9\u001b[0m \u001b[1;33m\u001b[0m\u001b[0m\n\u001b[0;32m     10\u001b[0m \u001b[1;33m\u001b[0m\u001b[0m\n",
      "\u001b[1;32mC:\\Users\\Trishul\\Anaconda3\\lib\\site-packages\\nltk\\corpus\\reader\\wordlist.py\u001b[0m in \u001b[0;36mwords\u001b[1;34m(self, fileids, ignore_lines_startswith)\u001b[0m\n\u001b[0;32m     20\u001b[0m     \"\"\"\n\u001b[0;32m     21\u001b[0m     \u001b[1;32mdef\u001b[0m \u001b[0mwords\u001b[0m\u001b[1;33m(\u001b[0m\u001b[0mself\u001b[0m\u001b[1;33m,\u001b[0m \u001b[0mfileids\u001b[0m\u001b[1;33m=\u001b[0m\u001b[1;32mNone\u001b[0m\u001b[1;33m,\u001b[0m \u001b[0mignore_lines_startswith\u001b[0m\u001b[1;33m=\u001b[0m\u001b[1;34m'\\n'\u001b[0m\u001b[1;33m)\u001b[0m\u001b[1;33m:\u001b[0m\u001b[1;33m\u001b[0m\u001b[0m\n\u001b[1;32m---> 22\u001b[1;33m         return [line for line in line_tokenize(self.raw(fileids))\n\u001b[0m\u001b[0;32m     23\u001b[0m                 if not line.startswith(ignore_lines_startswith)]\n\u001b[0;32m     24\u001b[0m \u001b[1;33m\u001b[0m\u001b[0m\n",
      "\u001b[1;32mC:\\Users\\Trishul\\Anaconda3\\lib\\site-packages\\nltk\\corpus\\reader\\wordlist.py\u001b[0m in \u001b[0;36mraw\u001b[1;34m(self, fileids)\u001b[0m\n\u001b[0;32m     26\u001b[0m         \u001b[1;32mif\u001b[0m \u001b[0mfileids\u001b[0m \u001b[1;32mis\u001b[0m \u001b[1;32mNone\u001b[0m\u001b[1;33m:\u001b[0m \u001b[0mfileids\u001b[0m \u001b[1;33m=\u001b[0m \u001b[0mself\u001b[0m\u001b[1;33m.\u001b[0m\u001b[0m_fileids\u001b[0m\u001b[1;33m\u001b[0m\u001b[0m\n\u001b[0;32m     27\u001b[0m         \u001b[1;32melif\u001b[0m \u001b[0misinstance\u001b[0m\u001b[1;33m(\u001b[0m\u001b[0mfileids\u001b[0m\u001b[1;33m,\u001b[0m \u001b[0mstring_types\u001b[0m\u001b[1;33m)\u001b[0m\u001b[1;33m:\u001b[0m \u001b[0mfileids\u001b[0m \u001b[1;33m=\u001b[0m \u001b[1;33m[\u001b[0m\u001b[0mfileids\u001b[0m\u001b[1;33m]\u001b[0m\u001b[1;33m\u001b[0m\u001b[0m\n\u001b[1;32m---> 28\u001b[1;33m         \u001b[1;32mreturn\u001b[0m \u001b[0mconcat\u001b[0m\u001b[1;33m(\u001b[0m\u001b[1;33m[\u001b[0m\u001b[0mself\u001b[0m\u001b[1;33m.\u001b[0m\u001b[0mopen\u001b[0m\u001b[1;33m(\u001b[0m\u001b[0mf\u001b[0m\u001b[1;33m)\u001b[0m\u001b[1;33m.\u001b[0m\u001b[0mread\u001b[0m\u001b[1;33m(\u001b[0m\u001b[1;33m)\u001b[0m \u001b[1;32mfor\u001b[0m \u001b[0mf\u001b[0m \u001b[1;32min\u001b[0m \u001b[0mfileids\u001b[0m\u001b[1;33m]\u001b[0m\u001b[1;33m)\u001b[0m\u001b[1;33m\u001b[0m\u001b[0m\n\u001b[0m\u001b[0;32m     29\u001b[0m \u001b[1;33m\u001b[0m\u001b[0m\n\u001b[0;32m     30\u001b[0m \u001b[1;33m\u001b[0m\u001b[0m\n",
      "\u001b[1;32mC:\\Users\\Trishul\\Anaconda3\\lib\\site-packages\\nltk\\corpus\\reader\\wordlist.py\u001b[0m in \u001b[0;36m<listcomp>\u001b[1;34m(.0)\u001b[0m\n\u001b[0;32m     26\u001b[0m         \u001b[1;32mif\u001b[0m \u001b[0mfileids\u001b[0m \u001b[1;32mis\u001b[0m \u001b[1;32mNone\u001b[0m\u001b[1;33m:\u001b[0m \u001b[0mfileids\u001b[0m \u001b[1;33m=\u001b[0m \u001b[0mself\u001b[0m\u001b[1;33m.\u001b[0m\u001b[0m_fileids\u001b[0m\u001b[1;33m\u001b[0m\u001b[0m\n\u001b[0;32m     27\u001b[0m         \u001b[1;32melif\u001b[0m \u001b[0misinstance\u001b[0m\u001b[1;33m(\u001b[0m\u001b[0mfileids\u001b[0m\u001b[1;33m,\u001b[0m \u001b[0mstring_types\u001b[0m\u001b[1;33m)\u001b[0m\u001b[1;33m:\u001b[0m \u001b[0mfileids\u001b[0m \u001b[1;33m=\u001b[0m \u001b[1;33m[\u001b[0m\u001b[0mfileids\u001b[0m\u001b[1;33m]\u001b[0m\u001b[1;33m\u001b[0m\u001b[0m\n\u001b[1;32m---> 28\u001b[1;33m         \u001b[1;32mreturn\u001b[0m \u001b[0mconcat\u001b[0m\u001b[1;33m(\u001b[0m\u001b[1;33m[\u001b[0m\u001b[0mself\u001b[0m\u001b[1;33m.\u001b[0m\u001b[0mopen\u001b[0m\u001b[1;33m(\u001b[0m\u001b[0mf\u001b[0m\u001b[1;33m)\u001b[0m\u001b[1;33m.\u001b[0m\u001b[0mread\u001b[0m\u001b[1;33m(\u001b[0m\u001b[1;33m)\u001b[0m \u001b[1;32mfor\u001b[0m \u001b[0mf\u001b[0m \u001b[1;32min\u001b[0m \u001b[0mfileids\u001b[0m\u001b[1;33m]\u001b[0m\u001b[1;33m)\u001b[0m\u001b[1;33m\u001b[0m\u001b[0m\n\u001b[0m\u001b[0;32m     29\u001b[0m \u001b[1;33m\u001b[0m\u001b[0m\n\u001b[0;32m     30\u001b[0m \u001b[1;33m\u001b[0m\u001b[0m\n",
      "\u001b[1;31mKeyboardInterrupt\u001b[0m: "
     ]
    }
   ],
   "source": [
    "meta_new['stem_words'] = meta_new['description'].apply(get_desc_words)"
   ]
  },
  {
   "cell_type": "code",
   "execution_count": 223,
   "metadata": {
    "collapsed": true
   },
   "outputs": [],
   "source": [
    "sub_meta = meta_new.head(1000)"
   ]
  },
  {
   "cell_type": "code",
   "execution_count": 224,
   "metadata": {},
   "outputs": [
    {
     "data": {
      "text/plain": [
       "0       [predecessor, intellirout, devic, navig, infor...\n",
       "3       [tv, mount, solut, lcd, tv, mount, hole, patte...\n",
       "4       [eread, nook, access, wifi, brows, ebook, colo...\n",
       "5       [wifi, touch, batteri, life, ink, display, w, ...\n",
       "6       [eread, display, devic, conveni, read, stori, ...\n",
       "7       [nook, hd, tablet, combin, style, function, ta...\n",
       "8       [design, mobil, perform, nook, hd, tablet, tab...\n",
       "9       [multimedia, entertain, tablet, hd, display, h...\n",
       "10      [color, color, color, surf, play, noth, life, ...\n",
       "11      [ebook, color, screen, watch, ink, display, te...\n",
       "12      [tv, music, netflix, hulu, nook, tablet, color...\n",
       "13      [hd, get, speed, switch, core, processor, ram,...\n",
       "17      [spreed, confer, speaker, microphon, confer, s...\n",
       "18                                [tom, sawyer, vh, movi]\n",
       "24      [monitor, pixel, area, link, dvi, monitor, hdc...\n",
       "26      [color, cdr, cdrw, buffer, protect, dvd, multi...\n",
       "27      [dvd, cd, drive, music, video, cd, dvd, dvd, c...\n",
       "28      [charger, auto, power, buildin, microprocessor...\n",
       "29      [microphon, earphon, socket, ipod, ipod, itll,...\n",
       "32      [power, gear, power, port, power, port, charge...\n",
       "33             [googl, tablet, cabl, grade, custom, cabl]\n",
       "36      [kingston, card, samsung, galaxi, s4, smartpho...\n",
       "39      [style1, color, ft, canon, htc100, replac, min...\n",
       "40      [garmin, nuvi, standard, wall, ac, home, charger]\n",
       "45      [maxel, rang, storag, qualiti, goal, maxel, re...\n",
       "46                                         [maxel, clean]\n",
       "47      [wet, clean, system, tape, pinch, loss, sound,...\n",
       "48      [love, listen, music, dust, time, damag, way, ...\n",
       "49      [deviceyour, cd, player, mp3, player, dvd, pla...\n",
       "50                                          [time5, pack]\n",
       "                              ...                        \n",
       "1382    [turn, desktop, vibrant, space, wireless, mous...\n",
       "1383    [halfinch, thick, soni, clixe9, pegt665c, help...\n",
       "1387    [desktop, cd, player, radio, sound, system, co...\n",
       "1393    [dj, connect, plug, dj, style, profession, min...\n",
       "1398    [hosa, cms100, seri, adapt, minijack, end, mal...\n",
       "1402              [adaptor, audio, stereo, phone, stereo]\n",
       "1409                [adaptor, phone, plug, input, signal]\n",
       "1415    [mhe1005, cabl, mini, stereo, plug, pigtail, d...\n",
       "1424    [your, player, innov, function, qualiti, jukeb...\n",
       "1425    [hosa, male, stereo, cabl, digit, audio, playe...\n",
       "1426    [tamron, teleconvert, camera, bodi, length, te...\n",
       "1432    [cyber, system, rock, comput, world, power, ou...\n",
       "1434    [cornea, perform, mind, case, lcd, panel, desk...\n",
       "1438    [kind, camera, batteri, camera, alkalin, backu...\n",
       "1439    [olympu, ds330, voic, record, voic, process, d...\n",
       "1440    [kodak, camera, dock, kodak, cx, seri, digit, ...\n",
       "1441    [di614, chip, technolog, secur, ideal, wireles...\n",
       "1442    [mp3, songsearch, featur, size, memorex, mpd80...\n",
       "1443    [reader, sddr75, compactflash, smartmedia, car...\n",
       "1447    [soni, cd, player, play, mp3, gprotectionmi, t...\n",
       "1448    [camera, zoom, ccd, sensor, imageri, x, inches...\n",
       "1449    [camera, zoom, ccd, sensor, imag, qualiti, res...\n",
       "1450    [lexar, media, memori, stick, loss, memori, fi...\n",
       "1451    [nois, terk, hdtv, profil, antenna, amplifi, b...\n",
       "1452    [famili, sipix, stylecam, camera, compact, use...\n",
       "1453    [combin, highdefinit, hd, video, video, output...\n",
       "1454                                    [hp, ipaq, h3955]\n",
       "1455    [hh, road, trip, handheld, cb, radio, travel, ...\n",
       "1456    [terk, antenna, antenna, video, switch, settop...\n",
       "1457    [qualiti, stereo, surround, system, home, thea...\n",
       "Name: description, Length: 1000, dtype: object"
      ]
     },
     "execution_count": 224,
     "metadata": {},
     "output_type": "execute_result"
    }
   ],
   "source": [
    "sub_meta['description'].apply(get_desc_words)"
   ]
  },
  {
   "cell_type": "code",
   "execution_count": 225,
   "metadata": {},
   "outputs": [
    {
     "data": {
      "text/html": [
       "<div>\n",
       "<style>\n",
       "    .dataframe thead tr:only-child th {\n",
       "        text-align: right;\n",
       "    }\n",
       "\n",
       "    .dataframe thead th {\n",
       "        text-align: left;\n",
       "    }\n",
       "\n",
       "    .dataframe tbody tr th {\n",
       "        vertical-align: top;\n",
       "    }\n",
       "</style>\n",
       "<table border=\"1\" class=\"dataframe\">\n",
       "  <thead>\n",
       "    <tr style=\"text-align: right;\">\n",
       "      <th></th>\n",
       "      <th>asin</th>\n",
       "      <th>imUrl</th>\n",
       "      <th>description</th>\n",
       "      <th>categories</th>\n",
       "      <th>title</th>\n",
       "      <th>price</th>\n",
       "      <th>salesRank</th>\n",
       "      <th>related</th>\n",
       "      <th>brand</th>\n",
       "    </tr>\n",
       "  </thead>\n",
       "  <tbody>\n",
       "    <tr>\n",
       "      <th>0</th>\n",
       "      <td>0528881469</td>\n",
       "      <td>http://ecx.images-amazon.com/images/I/51FnRkJq...</td>\n",
       "      <td>Like its award-winning predecessor, the Intell...</td>\n",
       "      <td>[['Electronics', 'GPS &amp; Navigation', 'Vehicle ...</td>\n",
       "      <td>Rand McNally 528881469 7-inch Intelliroute TND...</td>\n",
       "      <td>299.99</td>\n",
       "      <td>NaN</td>\n",
       "      <td>{'also_viewed': ['B006ZOI9OY', 'B00C7FKT2A', '...</td>\n",
       "      <td>NaN</td>\n",
       "    </tr>\n",
       "    <tr>\n",
       "      <th>3</th>\n",
       "      <td>0972683275</td>\n",
       "      <td>http://ecx.images-amazon.com/images/I/41hYJ9Mw...</td>\n",
       "      <td>The VideoSecu TV mount is a mounting solution ...</td>\n",
       "      <td>[['Electronics', 'Accessories &amp; Supplies', 'Au...</td>\n",
       "      <td>VideoSecu 24&amp;quot; Long Arm TV Wall Mount Low ...</td>\n",
       "      <td>29.99</td>\n",
       "      <td>{}</td>\n",
       "      <td>{'also_bought': ['B000X3KOD2', 'B0074FGR74', '...</td>\n",
       "      <td>VideoSecu</td>\n",
       "    </tr>\n",
       "    <tr>\n",
       "      <th>4</th>\n",
       "      <td>1400532620</td>\n",
       "      <td>http://ecx.images-amazon.com/images/I/519ca3cu...</td>\n",
       "      <td>Barnes &amp; Noble Nook eReader - no 3GMeet nook. ...</td>\n",
       "      <td>[['Electronics', 'eBook Readers &amp; Accessories']]</td>\n",
       "      <td>Barnes &amp;amp; Noble Nook eReader - no 3G</td>\n",
       "      <td>74.95</td>\n",
       "      <td>{'Electronics': 23071}</td>\n",
       "      <td>{'also_bought': ['B0035CLBT4', 'B004X18N24', '...</td>\n",
       "      <td>Barnes &amp;amp; Noble</td>\n",
       "    </tr>\n",
       "    <tr>\n",
       "      <th>5</th>\n",
       "      <td>140053271X</td>\n",
       "      <td>http://ecx.images-amazon.com/images/I/51jat7CV...</td>\n",
       "      <td>Barnes &amp; Noble Nook Simple Touch Wi-Fi ReaderI...</td>\n",
       "      <td>[['Electronics', 'eBook Readers &amp; Accessories'...</td>\n",
       "      <td>Barnes &amp;amp; Noble Nook Simple Touch eBook Rea...</td>\n",
       "      <td>79.49</td>\n",
       "      <td>NaN</td>\n",
       "      <td>{'also_bought': ['B007UXNHNM', 'B007UXNHGY', '...</td>\n",
       "      <td>Barnes &amp;amp; Noble</td>\n",
       "    </tr>\n",
       "    <tr>\n",
       "      <th>6</th>\n",
       "      <td>1400532736</td>\n",
       "      <td>http://ecx.images-amazon.com/images/I/413fSdlM...</td>\n",
       "      <td>The NOOK Simple Touch eReader allows you to re...</td>\n",
       "      <td>[['Electronics', 'eBook Readers &amp; Accessories'...</td>\n",
       "      <td>Nook Simple Touch eReader</td>\n",
       "      <td>62.99</td>\n",
       "      <td>{'Electronics': 4945}</td>\n",
       "      <td>{'also_bought': ['B0055ZDRI2', 'B007UXNHGY', '...</td>\n",
       "      <td>Barnes &amp;amp; Noble</td>\n",
       "    </tr>\n",
       "  </tbody>\n",
       "</table>\n",
       "</div>"
      ],
      "text/plain": [
       "         asin                                              imUrl  \\\n",
       "0  0528881469  http://ecx.images-amazon.com/images/I/51FnRkJq...   \n",
       "3  0972683275  http://ecx.images-amazon.com/images/I/41hYJ9Mw...   \n",
       "4  1400532620  http://ecx.images-amazon.com/images/I/519ca3cu...   \n",
       "5  140053271X  http://ecx.images-amazon.com/images/I/51jat7CV...   \n",
       "6  1400532736  http://ecx.images-amazon.com/images/I/413fSdlM...   \n",
       "\n",
       "                                         description  \\\n",
       "0  Like its award-winning predecessor, the Intell...   \n",
       "3  The VideoSecu TV mount is a mounting solution ...   \n",
       "4  Barnes & Noble Nook eReader - no 3GMeet nook. ...   \n",
       "5  Barnes & Noble Nook Simple Touch Wi-Fi ReaderI...   \n",
       "6  The NOOK Simple Touch eReader allows you to re...   \n",
       "\n",
       "                                          categories  \\\n",
       "0  [['Electronics', 'GPS & Navigation', 'Vehicle ...   \n",
       "3  [['Electronics', 'Accessories & Supplies', 'Au...   \n",
       "4   [['Electronics', 'eBook Readers & Accessories']]   \n",
       "5  [['Electronics', 'eBook Readers & Accessories'...   \n",
       "6  [['Electronics', 'eBook Readers & Accessories'...   \n",
       "\n",
       "                                               title   price  \\\n",
       "0  Rand McNally 528881469 7-inch Intelliroute TND...  299.99   \n",
       "3  VideoSecu 24&quot; Long Arm TV Wall Mount Low ...   29.99   \n",
       "4            Barnes &amp; Noble Nook eReader - no 3G   74.95   \n",
       "5  Barnes &amp; Noble Nook Simple Touch eBook Rea...   79.49   \n",
       "6                          Nook Simple Touch eReader   62.99   \n",
       "\n",
       "                salesRank                                            related  \\\n",
       "0                     NaN  {'also_viewed': ['B006ZOI9OY', 'B00C7FKT2A', '...   \n",
       "3                      {}  {'also_bought': ['B000X3KOD2', 'B0074FGR74', '...   \n",
       "4  {'Electronics': 23071}  {'also_bought': ['B0035CLBT4', 'B004X18N24', '...   \n",
       "5                     NaN  {'also_bought': ['B007UXNHNM', 'B007UXNHGY', '...   \n",
       "6   {'Electronics': 4945}  {'also_bought': ['B0055ZDRI2', 'B007UXNHGY', '...   \n",
       "\n",
       "                brand  \n",
       "0                 NaN  \n",
       "3           VideoSecu  \n",
       "4  Barnes &amp; Noble  \n",
       "5  Barnes &amp; Noble  \n",
       "6  Barnes &amp; Noble  "
      ]
     },
     "execution_count": 225,
     "metadata": {},
     "output_type": "execute_result"
    }
   ],
   "source": [
    "meta_new.head()"
   ]
  },
  {
   "cell_type": "code",
   "execution_count": 229,
   "metadata": {},
   "outputs": [
    {
     "data": {
      "text/plain": [
       "Int64Index([    0,     3,     4,     5,     6,     7,     8,     9,    10,\n",
       "               11,\n",
       "            ...\n",
       "            62949, 62950, 62953, 62956, 62972, 62973, 62974, 62977, 62997,\n",
       "            62999],\n",
       "           dtype='int64', length=26762)"
      ]
     },
     "execution_count": 229,
     "metadata": {},
     "output_type": "execute_result"
    }
   ],
   "source": [
    "meta_new.index"
   ]
  },
  {
   "cell_type": "code",
   "execution_count": 231,
   "metadata": {
    "collapsed": true
   },
   "outputs": [],
   "source": [
    "meta_new.reset_index(inplace=True)"
   ]
  },
  {
   "cell_type": "code",
   "execution_count": 235,
   "metadata": {},
   "outputs": [
    {
     "name": "stderr",
     "output_type": "stream",
     "text": [
      "C:\\Users\\Trishul\\Anaconda3\\lib\\site-packages\\ipykernel_launcher.py:1: SettingWithCopyWarning: \n",
      "A value is trying to be set on a copy of a slice from a DataFrame\n",
      "\n",
      "See the caveats in the documentation: http://pandas.pydata.org/pandas-docs/stable/indexing.html#indexing-view-versus-copy\n",
      "  \"\"\"Entry point for launching an IPython kernel.\n"
     ]
    }
   ],
   "source": [
    "meta_new.drop(['index'], axis=1, inplace=True)"
   ]
  },
  {
   "cell_type": "code",
   "execution_count": 241,
   "metadata": {},
   "outputs": [
    {
     "data": {
      "text/html": [
       "<div>\n",
       "<style>\n",
       "    .dataframe thead tr:only-child th {\n",
       "        text-align: right;\n",
       "    }\n",
       "\n",
       "    .dataframe thead th {\n",
       "        text-align: left;\n",
       "    }\n",
       "\n",
       "    .dataframe tbody tr th {\n",
       "        vertical-align: top;\n",
       "    }\n",
       "</style>\n",
       "<table border=\"1\" class=\"dataframe\">\n",
       "  <thead>\n",
       "    <tr style=\"text-align: right;\">\n",
       "      <th></th>\n",
       "      <th>asin</th>\n",
       "      <th>imUrl</th>\n",
       "      <th>description</th>\n",
       "      <th>categories</th>\n",
       "      <th>title</th>\n",
       "      <th>price</th>\n",
       "      <th>salesRank</th>\n",
       "      <th>related</th>\n",
       "      <th>brand</th>\n",
       "      <th>stem_words</th>\n",
       "    </tr>\n",
       "  </thead>\n",
       "  <tbody>\n",
       "    <tr>\n",
       "      <th>26757</th>\n",
       "      <td>B00KHR4ZL6</td>\n",
       "      <td>http://ecx.images-amazon.com/images/I/41qsvkYv...</td>\n",
       "      <td>12-inch Full HD+ touchscreen displayWindows 8....</td>\n",
       "      <td>[['Electronics', 'Computers &amp; Accessories', 'T...</td>\n",
       "      <td>Microsoft Surface Pro 3 - 256GB / Intel i5</td>\n",
       "      <td>NaN</td>\n",
       "      <td>NaN</td>\n",
       "      <td>{'also_bought': ['B00KHR5AM4', 'B00KHR5BLY', '...</td>\n",
       "      <td>Microsoft</td>\n",
       "      <td>[hd, touchscreen, systemintel, i3, i5, i7, gen...</td>\n",
       "    </tr>\n",
       "    <tr>\n",
       "      <th>26758</th>\n",
       "      <td>B00KIMX4EY</td>\n",
       "      <td>http://ecx.images-amazon.com/images/I/41uMJljT...</td>\n",
       "      <td>Description:Mpow Streambot Y Wireless In-Car B...</td>\n",
       "      <td>[['Electronics', 'Car &amp; Vehicle Electronics', ...</td>\n",
       "      <td>Mpow&amp;reg; Streambot Y Wireless Bluetooth FM Tr...</td>\n",
       "      <td>36.99</td>\n",
       "      <td>NaN</td>\n",
       "      <td>{'also_bought': ['B00JNJPS4W', 'B008AGQMQC', '...</td>\n",
       "      <td>NaN</td>\n",
       "      <td>[descriptionmpow, streambot, wireless, incar, ...</td>\n",
       "    </tr>\n",
       "    <tr>\n",
       "      <th>26759</th>\n",
       "      <td>B00KJLZDXO</td>\n",
       "      <td>http://ecx.images-amazon.com/images/I/417obhFY...</td>\n",
       "      <td>100% BRAND NEW: 128GB CLASS 10 MIRCO SD MEMORY...</td>\n",
       "      <td>[['Electronics', 'Computers &amp; Accessories', 'C...</td>\n",
       "      <td>128gb Micro Sd Card SDHC Tf Class 10 with Adapter</td>\n",
       "      <td>24.99</td>\n",
       "      <td>{'Cell Phones &amp; Accessories': 1307}</td>\n",
       "      <td>{'also_bought': ['B00JSZGTW6', 'B00KUDSWLQ', '...</td>\n",
       "      <td>NaN</td>\n",
       "      <td>[brand, class, mirco, memori, card, packag, br...</td>\n",
       "    </tr>\n",
       "    <tr>\n",
       "      <th>26760</th>\n",
       "      <td>B00L26YDA4</td>\n",
       "      <td>http://ecx.images-amazon.com/images/I/41061q4C...</td>\n",
       "      <td>Description:The Sabrent Wifi Receiver lets you...</td>\n",
       "      <td>[['Electronics', 'Car &amp; Vehicle Electronics', ...</td>\n",
       "      <td>Sabrent Wifi Audio Receiver (Supports DLNA and...</td>\n",
       "      <td>35.99</td>\n",
       "      <td>{'Cell Phones &amp; Accessories': 6139}</td>\n",
       "      <td>{'also_bought': ['B00KB5QEYK', 'B00L2JQ8AE', '...</td>\n",
       "      <td>Sabrent</td>\n",
       "      <td>[sabrent, wifi, receiv, standalon, speaker, en...</td>\n",
       "    </tr>\n",
       "    <tr>\n",
       "      <th>26761</th>\n",
       "      <td>B00L3YHF6O</td>\n",
       "      <td>http://ecx.images-amazon.com/images/I/41SBx7QY...</td>\n",
       "      <td>Mind-Shattering Performance, Precision-Tuned F...</td>\n",
       "      <td>[['Electronics', 'Home Audio', 'Stereo Compone...</td>\n",
       "      <td>NEW! Creative Sound Blaster Roar: Portable NFC...</td>\n",
       "      <td>149.99</td>\n",
       "      <td>{'Cell Phones &amp; Accessories': 131}</td>\n",
       "      <td>{'also_bought': ['B00LBNW2TC', 'B00L8I6SFY', '...</td>\n",
       "      <td>NaN</td>\n",
       "      <td>[perform, fidel, roar, power, sound, blaster, ...</td>\n",
       "    </tr>\n",
       "  </tbody>\n",
       "</table>\n",
       "</div>"
      ],
      "text/plain": [
       "             asin                                              imUrl  \\\n",
       "26757  B00KHR4ZL6  http://ecx.images-amazon.com/images/I/41qsvkYv...   \n",
       "26758  B00KIMX4EY  http://ecx.images-amazon.com/images/I/41uMJljT...   \n",
       "26759  B00KJLZDXO  http://ecx.images-amazon.com/images/I/417obhFY...   \n",
       "26760  B00L26YDA4  http://ecx.images-amazon.com/images/I/41061q4C...   \n",
       "26761  B00L3YHF6O  http://ecx.images-amazon.com/images/I/41SBx7QY...   \n",
       "\n",
       "                                             description  \\\n",
       "26757  12-inch Full HD+ touchscreen displayWindows 8....   \n",
       "26758  Description:Mpow Streambot Y Wireless In-Car B...   \n",
       "26759  100% BRAND NEW: 128GB CLASS 10 MIRCO SD MEMORY...   \n",
       "26760  Description:The Sabrent Wifi Receiver lets you...   \n",
       "26761  Mind-Shattering Performance, Precision-Tuned F...   \n",
       "\n",
       "                                              categories  \\\n",
       "26757  [['Electronics', 'Computers & Accessories', 'T...   \n",
       "26758  [['Electronics', 'Car & Vehicle Electronics', ...   \n",
       "26759  [['Electronics', 'Computers & Accessories', 'C...   \n",
       "26760  [['Electronics', 'Car & Vehicle Electronics', ...   \n",
       "26761  [['Electronics', 'Home Audio', 'Stereo Compone...   \n",
       "\n",
       "                                                   title   price  \\\n",
       "26757         Microsoft Surface Pro 3 - 256GB / Intel i5     NaN   \n",
       "26758  Mpow&reg; Streambot Y Wireless Bluetooth FM Tr...   36.99   \n",
       "26759  128gb Micro Sd Card SDHC Tf Class 10 with Adapter   24.99   \n",
       "26760  Sabrent Wifi Audio Receiver (Supports DLNA and...   35.99   \n",
       "26761  NEW! Creative Sound Blaster Roar: Portable NFC...  149.99   \n",
       "\n",
       "                                 salesRank  \\\n",
       "26757                                  NaN   \n",
       "26758                                  NaN   \n",
       "26759  {'Cell Phones & Accessories': 1307}   \n",
       "26760  {'Cell Phones & Accessories': 6139}   \n",
       "26761   {'Cell Phones & Accessories': 131}   \n",
       "\n",
       "                                                 related      brand  \\\n",
       "26757  {'also_bought': ['B00KHR5AM4', 'B00KHR5BLY', '...  Microsoft   \n",
       "26758  {'also_bought': ['B00JNJPS4W', 'B008AGQMQC', '...        NaN   \n",
       "26759  {'also_bought': ['B00JSZGTW6', 'B00KUDSWLQ', '...        NaN   \n",
       "26760  {'also_bought': ['B00KB5QEYK', 'B00L2JQ8AE', '...    Sabrent   \n",
       "26761  {'also_bought': ['B00LBNW2TC', 'B00L8I6SFY', '...        NaN   \n",
       "\n",
       "                                              stem_words  \n",
       "26757  [hd, touchscreen, systemintel, i3, i5, i7, gen...  \n",
       "26758  [descriptionmpow, streambot, wireless, incar, ...  \n",
       "26759  [brand, class, mirco, memori, card, packag, br...  \n",
       "26760  [sabrent, wifi, receiv, standalon, speaker, en...  \n",
       "26761  [perform, fidel, roar, power, sound, blaster, ...  "
      ]
     },
     "execution_count": 241,
     "metadata": {},
     "output_type": "execute_result"
    }
   ],
   "source": [
    "meta_new.tail()"
   ]
  },
  {
   "cell_type": "code",
   "execution_count": 237,
   "metadata": {},
   "outputs": [
    {
     "data": {
      "text/plain": [
       "26762"
      ]
     },
     "execution_count": 237,
     "metadata": {},
     "output_type": "execute_result"
    }
   ],
   "source": [
    "len(meta_new)"
   ]
  },
  {
   "cell_type": "code",
   "execution_count": 238,
   "metadata": {},
   "outputs": [
    {
     "name": "stderr",
     "output_type": "stream",
     "text": [
      "C:\\Users\\Trishul\\Anaconda3\\lib\\site-packages\\ipykernel_launcher.py:1: SettingWithCopyWarning: \n",
      "A value is trying to be set on a copy of a slice from a DataFrame.\n",
      "Try using .loc[row_indexer,col_indexer] = value instead\n",
      "\n",
      "See the caveats in the documentation: http://pandas.pydata.org/pandas-docs/stable/indexing.html#indexing-view-versus-copy\n",
      "  \"\"\"Entry point for launching an IPython kernel.\n"
     ]
    }
   ],
   "source": [
    "meta_new['stem_words'] = meta_new['description'].apply(get_desc_words)"
   ]
  },
  {
   "cell_type": "code",
   "execution_count": 239,
   "metadata": {},
   "outputs": [
    {
     "data": {
      "text/html": [
       "<div>\n",
       "<style>\n",
       "    .dataframe thead tr:only-child th {\n",
       "        text-align: right;\n",
       "    }\n",
       "\n",
       "    .dataframe thead th {\n",
       "        text-align: left;\n",
       "    }\n",
       "\n",
       "    .dataframe tbody tr th {\n",
       "        vertical-align: top;\n",
       "    }\n",
       "</style>\n",
       "<table border=\"1\" class=\"dataframe\">\n",
       "  <thead>\n",
       "    <tr style=\"text-align: right;\">\n",
       "      <th></th>\n",
       "      <th>asin</th>\n",
       "      <th>imUrl</th>\n",
       "      <th>description</th>\n",
       "      <th>categories</th>\n",
       "      <th>title</th>\n",
       "      <th>price</th>\n",
       "      <th>salesRank</th>\n",
       "      <th>related</th>\n",
       "      <th>brand</th>\n",
       "      <th>stem_words</th>\n",
       "    </tr>\n",
       "  </thead>\n",
       "  <tbody>\n",
       "    <tr>\n",
       "      <th>0</th>\n",
       "      <td>0528881469</td>\n",
       "      <td>http://ecx.images-amazon.com/images/I/51FnRkJq...</td>\n",
       "      <td>Like its award-winning predecessor, the Intell...</td>\n",
       "      <td>[['Electronics', 'GPS &amp; Navigation', 'Vehicle ...</td>\n",
       "      <td>Rand McNally 528881469 7-inch Intelliroute TND...</td>\n",
       "      <td>299.99</td>\n",
       "      <td>NaN</td>\n",
       "      <td>{'also_viewed': ['B006ZOI9OY', 'B00C7FKT2A', '...</td>\n",
       "      <td>NaN</td>\n",
       "      <td>[predecessor, intellirout, devic, navig, infor...</td>\n",
       "    </tr>\n",
       "    <tr>\n",
       "      <th>1</th>\n",
       "      <td>0972683275</td>\n",
       "      <td>http://ecx.images-amazon.com/images/I/41hYJ9Mw...</td>\n",
       "      <td>The VideoSecu TV mount is a mounting solution ...</td>\n",
       "      <td>[['Electronics', 'Accessories &amp; Supplies', 'Au...</td>\n",
       "      <td>VideoSecu 24&amp;quot; Long Arm TV Wall Mount Low ...</td>\n",
       "      <td>29.99</td>\n",
       "      <td>{}</td>\n",
       "      <td>{'also_bought': ['B000X3KOD2', 'B0074FGR74', '...</td>\n",
       "      <td>VideoSecu</td>\n",
       "      <td>[tv, mount, solut, lcd, tv, mount, hole, patte...</td>\n",
       "    </tr>\n",
       "    <tr>\n",
       "      <th>2</th>\n",
       "      <td>1400532620</td>\n",
       "      <td>http://ecx.images-amazon.com/images/I/519ca3cu...</td>\n",
       "      <td>Barnes &amp; Noble Nook eReader - no 3GMeet nook. ...</td>\n",
       "      <td>[['Electronics', 'eBook Readers &amp; Accessories']]</td>\n",
       "      <td>Barnes &amp;amp; Noble Nook eReader - no 3G</td>\n",
       "      <td>74.95</td>\n",
       "      <td>{'Electronics': 23071}</td>\n",
       "      <td>{'also_bought': ['B0035CLBT4', 'B004X18N24', '...</td>\n",
       "      <td>Barnes &amp;amp; Noble</td>\n",
       "      <td>[eread, nook, access, wifi, brows, ebook, colo...</td>\n",
       "    </tr>\n",
       "    <tr>\n",
       "      <th>3</th>\n",
       "      <td>140053271X</td>\n",
       "      <td>http://ecx.images-amazon.com/images/I/51jat7CV...</td>\n",
       "      <td>Barnes &amp; Noble Nook Simple Touch Wi-Fi ReaderI...</td>\n",
       "      <td>[['Electronics', 'eBook Readers &amp; Accessories'...</td>\n",
       "      <td>Barnes &amp;amp; Noble Nook Simple Touch eBook Rea...</td>\n",
       "      <td>79.49</td>\n",
       "      <td>NaN</td>\n",
       "      <td>{'also_bought': ['B007UXNHNM', 'B007UXNHGY', '...</td>\n",
       "      <td>Barnes &amp;amp; Noble</td>\n",
       "      <td>[wifi, touch, batteri, life, ink, display, w, ...</td>\n",
       "    </tr>\n",
       "    <tr>\n",
       "      <th>4</th>\n",
       "      <td>1400532736</td>\n",
       "      <td>http://ecx.images-amazon.com/images/I/413fSdlM...</td>\n",
       "      <td>The NOOK Simple Touch eReader allows you to re...</td>\n",
       "      <td>[['Electronics', 'eBook Readers &amp; Accessories'...</td>\n",
       "      <td>Nook Simple Touch eReader</td>\n",
       "      <td>62.99</td>\n",
       "      <td>{'Electronics': 4945}</td>\n",
       "      <td>{'also_bought': ['B0055ZDRI2', 'B007UXNHGY', '...</td>\n",
       "      <td>Barnes &amp;amp; Noble</td>\n",
       "      <td>[eread, display, devic, conveni, read, stori, ...</td>\n",
       "    </tr>\n",
       "  </tbody>\n",
       "</table>\n",
       "</div>"
      ],
      "text/plain": [
       "         asin                                              imUrl  \\\n",
       "0  0528881469  http://ecx.images-amazon.com/images/I/51FnRkJq...   \n",
       "1  0972683275  http://ecx.images-amazon.com/images/I/41hYJ9Mw...   \n",
       "2  1400532620  http://ecx.images-amazon.com/images/I/519ca3cu...   \n",
       "3  140053271X  http://ecx.images-amazon.com/images/I/51jat7CV...   \n",
       "4  1400532736  http://ecx.images-amazon.com/images/I/413fSdlM...   \n",
       "\n",
       "                                         description  \\\n",
       "0  Like its award-winning predecessor, the Intell...   \n",
       "1  The VideoSecu TV mount is a mounting solution ...   \n",
       "2  Barnes & Noble Nook eReader - no 3GMeet nook. ...   \n",
       "3  Barnes & Noble Nook Simple Touch Wi-Fi ReaderI...   \n",
       "4  The NOOK Simple Touch eReader allows you to re...   \n",
       "\n",
       "                                          categories  \\\n",
       "0  [['Electronics', 'GPS & Navigation', 'Vehicle ...   \n",
       "1  [['Electronics', 'Accessories & Supplies', 'Au...   \n",
       "2   [['Electronics', 'eBook Readers & Accessories']]   \n",
       "3  [['Electronics', 'eBook Readers & Accessories'...   \n",
       "4  [['Electronics', 'eBook Readers & Accessories'...   \n",
       "\n",
       "                                               title   price  \\\n",
       "0  Rand McNally 528881469 7-inch Intelliroute TND...  299.99   \n",
       "1  VideoSecu 24&quot; Long Arm TV Wall Mount Low ...   29.99   \n",
       "2            Barnes &amp; Noble Nook eReader - no 3G   74.95   \n",
       "3  Barnes &amp; Noble Nook Simple Touch eBook Rea...   79.49   \n",
       "4                          Nook Simple Touch eReader   62.99   \n",
       "\n",
       "                salesRank                                            related  \\\n",
       "0                     NaN  {'also_viewed': ['B006ZOI9OY', 'B00C7FKT2A', '...   \n",
       "1                      {}  {'also_bought': ['B000X3KOD2', 'B0074FGR74', '...   \n",
       "2  {'Electronics': 23071}  {'also_bought': ['B0035CLBT4', 'B004X18N24', '...   \n",
       "3                     NaN  {'also_bought': ['B007UXNHNM', 'B007UXNHGY', '...   \n",
       "4   {'Electronics': 4945}  {'also_bought': ['B0055ZDRI2', 'B007UXNHGY', '...   \n",
       "\n",
       "                brand                                         stem_words  \n",
       "0                 NaN  [predecessor, intellirout, devic, navig, infor...  \n",
       "1           VideoSecu  [tv, mount, solut, lcd, tv, mount, hole, patte...  \n",
       "2  Barnes &amp; Noble  [eread, nook, access, wifi, brows, ebook, colo...  \n",
       "3  Barnes &amp; Noble  [wifi, touch, batteri, life, ink, display, w, ...  \n",
       "4  Barnes &amp; Noble  [eread, display, devic, conveni, read, stori, ...  "
      ]
     },
     "execution_count": 239,
     "metadata": {},
     "output_type": "execute_result"
    }
   ],
   "source": [
    "meta_new.head()"
   ]
  },
  {
   "cell_type": "code",
   "execution_count": 240,
   "metadata": {
    "collapsed": true
   },
   "outputs": [],
   "source": [
    "meta_new.to_csv('meta_new.csv')"
   ]
  },
  {
   "cell_type": "code",
   "execution_count": 4,
   "metadata": {
    "collapsed": true
   },
   "outputs": [],
   "source": [
    "import textstat"
   ]
  },
  {
   "cell_type": "code",
   "execution_count": 7,
   "metadata": {},
   "outputs": [
    {
     "data": {
      "text/plain": [
       "3.1"
      ]
     },
     "execution_count": 7,
     "metadata": {},
     "output_type": "execute_result"
    }
   ],
   "source": [
    "textstat.automated_readability_index(\"This is the best product. The mount is good. Installation was also easy. Battery-life is the best\")"
   ]
  },
  {
   "cell_type": "code",
   "execution_count": 8,
   "metadata": {},
   "outputs": [
    {
     "data": {
      "text/plain": [
       "13.4"
      ]
     },
     "execution_count": 8,
     "metadata": {},
     "output_type": "execute_result"
    }
   ],
   "source": [
    "text = \"Exasperating farrago of distortions, masquerading as a news reader\"\n",
    "textstat.automated_readability_index(text)"
   ]
  },
  {
   "cell_type": "code",
   "execution_count": null,
   "metadata": {
    "collapsed": true
   },
   "outputs": [],
   "source": []
  }
 ],
 "metadata": {
  "kernelspec": {
   "display_name": "Python 3",
   "language": "python",
   "name": "python3"
  },
  "language_info": {
   "codemirror_mode": {
    "name": "ipython",
    "version": 3
   },
   "file_extension": ".py",
   "mimetype": "text/x-python",
   "name": "python",
   "nbconvert_exporter": "python",
   "pygments_lexer": "ipython3",
   "version": "3.6.1"
  }
 },
 "nbformat": 4,
 "nbformat_minor": 2
}
