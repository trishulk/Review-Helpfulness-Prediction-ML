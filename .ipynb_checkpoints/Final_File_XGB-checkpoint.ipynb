{
 "cells": [
  {
   "cell_type": "code",
   "execution_count": 47,
   "metadata": {
    "collapsed": true
   },
   "outputs": [],
   "source": [
    "import pandas as pd\n",
    "import seaborn as sns\n",
    "import matplotlib.pyplot as plt\n",
    "%matplotlib inline\n",
    "import numpy as np\n",
    "import gzip\n",
    "\n",
    "import nltk\n",
    "from nltk.corpus import stopwords \n",
    "from nltk.tokenize import word_tokenize, sent_tokenize \n",
    "from nltk.stem import PorterStemmer\n",
    "from nltk.stem import WordNetLemmatizer\n",
    "import string\n",
    "\n",
    "import dask.dataframe as dd\n",
    "from dask.multiprocessing import get\n",
    "import textstat\n",
    "import swifter\n",
    "\n",
    "import ast\n",
    "import math\n",
    "\n",
    "from sklearn.model_selection import train_test_split\n",
    "\n",
    "from sklearn.linear_model import LinearRegression\n",
    "from sklearn.ensemble import RandomForestRegressor\n",
    "\n",
    "from sklearn.metrics import mean_absolute_error\n",
    "from sklearn.metrics import mean_squared_error\n",
    "\n",
    "from sklearn.preprocessing import StandardScaler\n",
    "from sklearn.preprocessing import MinMaxScaler\n",
    "\n",
    "from sklearn.svm import SVR\n",
    "from sklearn.model_selection import GridSearchCV\n",
    "from sklearn.model_selection import RandomizedSearchCV\n",
    "import xgboost as xgb\n"
   ]
  },
  {
   "cell_type": "code",
   "execution_count": 3,
   "metadata": {
    "collapsed": true
   },
   "outputs": [],
   "source": [
    "# GET ALL THE DATAFRAMES :-\n",
    "# 1.NORMAL REVIEWS\n",
    "# 2.REVIEW TEXT Characteristics\n",
    "# 3.USER Charecteristics\n",
    "# 4.REVIEW METADATA Characteristics\n",
    "# 5.PRODUCT METADATA\n",
    "\n",
    "review_df = pd.read_csv('Amazon_Latest_Data.csv')\n",
    "text_df = pd.read_csv('Text_Parameters.csv')\n",
    "user_df = pd.read_csv('User_DF.csv')\n",
    "meta_df = pd.read_csv('Review_Meta_Data.csv')\n",
    "product_data_df = pd.read_csv('meta_data_latest.csv')"
   ]
  },
  {
   "cell_type": "code",
   "execution_count": 5,
   "metadata": {},
   "outputs": [
    {
     "data": {
      "text/plain": [
       "Index(['flesch_reading_ease', 'smog_index', 'flesch_kincaid_grade',\n",
       "       'coleman_liau_index', 'automated_readability_index',\n",
       "       'dale_chall_readability_score', 'difficult_words',\n",
       "       'linsear_write_formula', 'gunning_fog', 'sentence_count', 'wps',\n",
       "       'review_length', 'pos_no', 'neg_no', 'user_deviation', 'user_delay',\n",
       "       'stem_sim_length', 'lem_sim_length', 'overall'],\n",
       "      dtype='object')"
      ]
     },
     "execution_count": 5,
     "metadata": {},
     "output_type": "execute_result"
    }
   ],
   "source": [
    "X = text_df[['flesch_reading_ease', \n",
    "       'smog_index', 'flesch_kincaid_grade', 'coleman_liau_index',\n",
    "       'automated_readability_index', 'dale_chall_readability_score',\n",
    "       'difficult_words', 'linsear_write_formula', 'gunning_fog',\n",
    "       'sentence_count', 'wps', 'review_length', 'pos_no', 'neg_no']]\n",
    "\n",
    "X=X.join(user_df[['user_deviation','user_delay']])\n",
    "\n",
    "X = X.join(meta_df[['stem_sim_length','lem_sim_length','overall']])\n",
    "\n",
    "X.columns"
   ]
  },
  {
   "cell_type": "code",
   "execution_count": 6,
   "metadata": {},
   "outputs": [
    {
     "data": {
      "text/html": [
       "<div>\n",
       "<style scoped>\n",
       "    .dataframe tbody tr th:only-of-type {\n",
       "        vertical-align: middle;\n",
       "    }\n",
       "\n",
       "    .dataframe tbody tr th {\n",
       "        vertical-align: top;\n",
       "    }\n",
       "\n",
       "    .dataframe thead th {\n",
       "        text-align: right;\n",
       "    }\n",
       "</style>\n",
       "<table border=\"1\" class=\"dataframe\">\n",
       "  <thead>\n",
       "    <tr style=\"text-align: right;\">\n",
       "      <th></th>\n",
       "      <th>flesch_reading_ease</th>\n",
       "      <th>smog_index</th>\n",
       "      <th>flesch_kincaid_grade</th>\n",
       "      <th>coleman_liau_index</th>\n",
       "      <th>automated_readability_index</th>\n",
       "      <th>dale_chall_readability_score</th>\n",
       "      <th>difficult_words</th>\n",
       "      <th>linsear_write_formula</th>\n",
       "      <th>gunning_fog</th>\n",
       "      <th>sentence_count</th>\n",
       "      <th>wps</th>\n",
       "      <th>review_length</th>\n",
       "      <th>pos_no</th>\n",
       "      <th>neg_no</th>\n",
       "      <th>user_deviation</th>\n",
       "      <th>user_delay</th>\n",
       "      <th>stem_sim_length</th>\n",
       "      <th>lem_sim_length</th>\n",
       "      <th>overall</th>\n",
       "    </tr>\n",
       "  </thead>\n",
       "  <tbody>\n",
       "    <tr>\n",
       "      <th>0</th>\n",
       "      <td>-336.56</td>\n",
       "      <td>0.0</td>\n",
       "      <td>166.3</td>\n",
       "      <td>7.69</td>\n",
       "      <td>211.1</td>\n",
       "      <td>26.44</td>\n",
       "      <td>44</td>\n",
       "      <td>14.000000</td>\n",
       "      <td>176.92</td>\n",
       "      <td>1</td>\n",
       "      <td>427.000000</td>\n",
       "      <td>427</td>\n",
       "      <td>2</td>\n",
       "      <td>4</td>\n",
       "      <td>1.399189</td>\n",
       "      <td>10152000.0</td>\n",
       "      <td>15</td>\n",
       "      <td>13</td>\n",
       "      <td>1.0</td>\n",
       "    </tr>\n",
       "    <tr>\n",
       "      <th>1</th>\n",
       "      <td>-340.96</td>\n",
       "      <td>0.0</td>\n",
       "      <td>165.9</td>\n",
       "      <td>9.72</td>\n",
       "      <td>210.8</td>\n",
       "      <td>26.37</td>\n",
       "      <td>94</td>\n",
       "      <td>8.666667</td>\n",
       "      <td>175.64</td>\n",
       "      <td>2</td>\n",
       "      <td>423.000000</td>\n",
       "      <td>846</td>\n",
       "      <td>18</td>\n",
       "      <td>8</td>\n",
       "      <td>0.624437</td>\n",
       "      <td>10886400.0</td>\n",
       "      <td>24</td>\n",
       "      <td>23</td>\n",
       "      <td>3.0</td>\n",
       "    </tr>\n",
       "    <tr>\n",
       "      <th>2</th>\n",
       "      <td>85.52</td>\n",
       "      <td>7.3</td>\n",
       "      <td>6.2</td>\n",
       "      <td>5.92</td>\n",
       "      <td>7.2</td>\n",
       "      <td>5.87</td>\n",
       "      <td>36</td>\n",
       "      <td>7.666667</td>\n",
       "      <td>13.01</td>\n",
       "      <td>23</td>\n",
       "      <td>19.521739</td>\n",
       "      <td>449</td>\n",
       "      <td>7</td>\n",
       "      <td>6</td>\n",
       "      <td>0.510375</td>\n",
       "      <td>7516800.0</td>\n",
       "      <td>17</td>\n",
       "      <td>16</td>\n",
       "      <td>2.0</td>\n",
       "    </tr>\n",
       "    <tr>\n",
       "      <th>3</th>\n",
       "      <td>66.94</td>\n",
       "      <td>10.8</td>\n",
       "      <td>7.1</td>\n",
       "      <td>8.05</td>\n",
       "      <td>6.3</td>\n",
       "      <td>6.99</td>\n",
       "      <td>11</td>\n",
       "      <td>7.200000</td>\n",
       "      <td>14.00</td>\n",
       "      <td>5</td>\n",
       "      <td>12.800000</td>\n",
       "      <td>64</td>\n",
       "      <td>2</td>\n",
       "      <td>0</td>\n",
       "      <td>0.442171</td>\n",
       "      <td>2678400.0</td>\n",
       "      <td>2</td>\n",
       "      <td>2</td>\n",
       "      <td>5.0</td>\n",
       "    </tr>\n",
       "    <tr>\n",
       "      <th>4</th>\n",
       "      <td>-43.22</td>\n",
       "      <td>0.0</td>\n",
       "      <td>53.6</td>\n",
       "      <td>8.09</td>\n",
       "      <td>67.2</td>\n",
       "      <td>12.20</td>\n",
       "      <td>15</td>\n",
       "      <td>4.400000</td>\n",
       "      <td>61.55</td>\n",
       "      <td>1</td>\n",
       "      <td>138.000000</td>\n",
       "      <td>138</td>\n",
       "      <td>1</td>\n",
       "      <td>3</td>\n",
       "      <td>1.616074</td>\n",
       "      <td>7603200.0</td>\n",
       "      <td>2</td>\n",
       "      <td>2</td>\n",
       "      <td>1.0</td>\n",
       "    </tr>\n",
       "  </tbody>\n",
       "</table>\n",
       "</div>"
      ],
      "text/plain": [
       "   flesch_reading_ease  smog_index  flesch_kincaid_grade  coleman_liau_index  \\\n",
       "0              -336.56         0.0                 166.3                7.69   \n",
       "1              -340.96         0.0                 165.9                9.72   \n",
       "2                85.52         7.3                   6.2                5.92   \n",
       "3                66.94        10.8                   7.1                8.05   \n",
       "4               -43.22         0.0                  53.6                8.09   \n",
       "\n",
       "   automated_readability_index  dale_chall_readability_score  difficult_words  \\\n",
       "0                        211.1                         26.44               44   \n",
       "1                        210.8                         26.37               94   \n",
       "2                          7.2                          5.87               36   \n",
       "3                          6.3                          6.99               11   \n",
       "4                         67.2                         12.20               15   \n",
       "\n",
       "   linsear_write_formula  gunning_fog  sentence_count         wps  \\\n",
       "0              14.000000       176.92               1  427.000000   \n",
       "1               8.666667       175.64               2  423.000000   \n",
       "2               7.666667        13.01              23   19.521739   \n",
       "3               7.200000        14.00               5   12.800000   \n",
       "4               4.400000        61.55               1  138.000000   \n",
       "\n",
       "   review_length  pos_no  neg_no  user_deviation  user_delay  stem_sim_length  \\\n",
       "0            427       2       4        1.399189  10152000.0               15   \n",
       "1            846      18       8        0.624437  10886400.0               24   \n",
       "2            449       7       6        0.510375   7516800.0               17   \n",
       "3             64       2       0        0.442171   2678400.0                2   \n",
       "4            138       1       3        1.616074   7603200.0                2   \n",
       "\n",
       "   lem_sim_length  overall  \n",
       "0              13      1.0  \n",
       "1              23      3.0  \n",
       "2              16      2.0  \n",
       "3               2      5.0  \n",
       "4               2      1.0  "
      ]
     },
     "execution_count": 6,
     "metadata": {},
     "output_type": "execute_result"
    }
   ],
   "source": [
    "X.head()"
   ]
  },
  {
   "cell_type": "code",
   "execution_count": 9,
   "metadata": {
    "collapsed": true
   },
   "outputs": [],
   "source": [
    "y = review_df['helpfulness_score']\n",
    "\t\n",
    "X_train, X_test, y_train, y_test = train_test_split(X, y, test_size=0.4, random_state=101)"
   ]
  },
  {
   "cell_type": "code",
   "execution_count": 10,
   "metadata": {
    "collapsed": true
   },
   "outputs": [],
   "source": [
    "xgb_reg = xgb.XGBRegressor()"
   ]
  },
  {
   "cell_type": "code",
   "execution_count": 11,
   "metadata": {},
   "outputs": [
    {
     "data": {
      "text/plain": [
       "XGBRegressor(base_score=0.5, booster='gbtree', colsample_bylevel=1,\n",
       "       colsample_bytree=1, gamma=0, learning_rate=0.1, max_delta_step=0,\n",
       "       max_depth=3, min_child_weight=1, missing=None, n_estimators=100,\n",
       "       n_jobs=1, nthread=None, objective='reg:linear', random_state=0,\n",
       "       reg_alpha=0, reg_lambda=1, scale_pos_weight=1, seed=None,\n",
       "       silent=True, subsample=1)"
      ]
     },
     "execution_count": 11,
     "metadata": {},
     "output_type": "execute_result"
    }
   ],
   "source": [
    "xgb_reg.fit(X_train,y_train)"
   ]
  },
  {
   "cell_type": "code",
   "execution_count": 12,
   "metadata": {
    "collapsed": true
   },
   "outputs": [],
   "source": [
    "predictions=xgb_reg.predict(X_test)"
   ]
  },
  {
   "cell_type": "code",
   "execution_count": 13,
   "metadata": {},
   "outputs": [
    {
     "name": "stdout",
     "output_type": "stream",
     "text": [
      "Mean Squared Error (MSE):       0.03734678330053756\n",
      "Root Mean Squared Error (RMSE): 0.19325315857842418\n",
      "Mean Absolute Error (MAE):      0.13325926594083998\n"
     ]
    }
   ],
   "source": [
    "# MSE : Mean Squared Error\n",
    "mse=mean_squared_error(y_test,predictions)\n",
    "\n",
    "# RMSE : Root Mean Squared Error\n",
    "rmse=math.sqrt(mean_squared_error(y_test,predictions))\n",
    "\n",
    "# MAE : Mean Absolute Error\n",
    "mae=mean_absolute_error(y_test,predictions)\n",
    "\n",
    "print('Mean Squared Error (MSE):      ',mse)\n",
    "print('Root Mean Squared Error (RMSE):',rmse)\n",
    "print('Mean Absolute Error (MAE):     ',mae)"
   ]
  },
  {
   "cell_type": "code",
   "execution_count": 15,
   "metadata": {
    "collapsed": true
   },
   "outputs": [],
   "source": [
    "xgb_reg2 = xgb.XGBRegressor(n_estimators=300)"
   ]
  },
  {
   "cell_type": "code",
   "execution_count": 16,
   "metadata": {},
   "outputs": [
    {
     "data": {
      "text/plain": [
       "XGBRegressor(base_score=0.5, booster='gbtree', colsample_bylevel=1,\n",
       "       colsample_bytree=1, gamma=0, learning_rate=0.1, max_delta_step=0,\n",
       "       max_depth=3, min_child_weight=1, missing=None, n_estimators=300,\n",
       "       n_jobs=1, nthread=None, objective='reg:linear', random_state=0,\n",
       "       reg_alpha=0, reg_lambda=1, scale_pos_weight=1, seed=None,\n",
       "       silent=True, subsample=1)"
      ]
     },
     "execution_count": 16,
     "metadata": {},
     "output_type": "execute_result"
    }
   ],
   "source": [
    "xgb_reg2.fit(X_train,y_train)"
   ]
  },
  {
   "cell_type": "code",
   "execution_count": 17,
   "metadata": {
    "collapsed": true
   },
   "outputs": [],
   "source": [
    "predictions_2 = xgb_reg2.predict(X_test)"
   ]
  },
  {
   "cell_type": "code",
   "execution_count": 18,
   "metadata": {},
   "outputs": [
    {
     "name": "stdout",
     "output_type": "stream",
     "text": [
      "Mean Squared Error (MSE):       0.03729544118492501\n",
      "Root Mean Squared Error (RMSE): 0.19312027647278524\n",
      "Mean Absolute Error (MAE):      0.13301010700640992\n"
     ]
    }
   ],
   "source": [
    "# MSE : Mean Squared Error\n",
    "mse=mean_squared_error(y_test,predictions_2)\n",
    "\n",
    "# RMSE : Root Mean Squared Error\n",
    "rmse=math.sqrt(mean_squared_error(y_test,predictions_2))\n",
    "\n",
    "# MAE : Mean Absolute Error\n",
    "mae=mean_absolute_error(y_test,predictions_2)\n",
    "\n",
    "print('Mean Squared Error (MSE):      ',mse)\n",
    "print('Root Mean Squared Error (RMSE):',rmse)\n",
    "print('Mean Absolute Error (MAE):     ',mae)"
   ]
  },
  {
   "cell_type": "code",
   "execution_count": 20,
   "metadata": {},
   "outputs": [
    {
     "name": "stdout",
     "output_type": "stream",
     "text": [
      "Index(['flesch_reading_ease', 'smog_index', 'flesch_kincaid_grade',\n",
      "       'coleman_liau_index', 'automated_readability_index',\n",
      "       'dale_chall_readability_score', 'difficult_words',\n",
      "       'linsear_write_formula', 'gunning_fog', 'sentence_count', 'wps',\n",
      "       'review_length', 'pos_no', 'neg_no', 'user_deviation', 'user_delay',\n",
      "       'stem_sim_length', 'lem_sim_length', 'overall'],\n",
      "      dtype='object')\n"
     ]
    }
   ],
   "source": [
    "print(X.columns)"
   ]
  },
  {
   "cell_type": "code",
   "execution_count": 10,
   "metadata": {},
   "outputs": [],
   "source": [
    "# EXPERIMENT - Using XGB Grid Search \n",
    "# PARAMETERS : ALL\n",
    "X = text_df[['flesch_reading_ease', \n",
    "       'smog_index', 'flesch_kincaid_grade', 'coleman_liau_index',\n",
    "       'automated_readability_index', 'dale_chall_readability_score',\n",
    "       'difficult_words', 'linsear_write_formula', 'gunning_fog',\n",
    "       'sentence_count', 'wps', 'review_length', 'pos_no', 'neg_no']]\n",
    "\n",
    "X=X.join(user_df[['user_deviation','user_delay']])\n",
    "\n",
    "X = X.join(meta_df[['stem_sim_length','lem_sim_length','overall']])\n",
    "\n",
    "y = review_df['helpfulness_score']"
   ]
  },
  {
   "cell_type": "code",
   "execution_count": null,
   "metadata": {
    "collapsed": true
   },
   "outputs": [],
   "source": [
    "X_train, X_test, y_train, y_test = train_test_split(X, y, test_size=0.4, random_state=101)"
   ]
  },
  {
   "cell_type": "code",
   "execution_count": 31,
   "metadata": {
    "collapsed": true
   },
   "outputs": [],
   "source": [
    "gbm_param_grid = {\n",
    "    'learning_rate': [0.01,0.09,0.1,0.2,0.5,0.9], \n",
    "    'n_estimators': [200,300,400,500], \n",
    "    'subsample': [0.3, 0.5, 0.9, 1]}"
   ]
  },
  {
   "cell_type": "code",
   "execution_count": 13,
   "metadata": {
    "collapsed": true
   },
   "outputs": [],
   "source": [
    "gbm_param_grid_2={\n",
    "    'learning_rate':[0.1]\n",
    "}"
   ]
  },
  {
   "cell_type": "code",
   "execution_count": 32,
   "metadata": {
    "collapsed": true
   },
   "outputs": [],
   "source": [
    "gbm = xgb.XGBRegressor()"
   ]
  },
  {
   "cell_type": "code",
   "execution_count": 34,
   "metadata": {},
   "outputs": [],
   "source": [
    "grid_mse = GridSearchCV(estimator=gbm,\n",
    "param_grid=gbm_param_grid,\n",
    "scoring='neg_mean_squared_error', verbose=3)\n"
   ]
  },
  {
   "cell_type": "code",
   "execution_count": 20,
   "metadata": {
    "collapsed": true
   },
   "outputs": [],
   "source": []
  },
  {
   "cell_type": "code",
   "execution_count": 35,
   "metadata": {
    "scrolled": true
   },
   "outputs": [
    {
     "name": "stdout",
     "output_type": "stream",
     "text": [
      "Fitting 3 folds for each of 96 candidates, totalling 288 fits\n",
      "[CV] learning_rate=0.01, n_estimators=200, subsample=0.3 .............\n",
      "[CV]  learning_rate=0.01, n_estimators=200, subsample=0.3, score=-0.040026338881381796, total=   7.0s\n"
     ]
    },
    {
     "name": "stderr",
     "output_type": "stream",
     "text": [
      "[Parallel(n_jobs=1)]: Done   1 out of   1 | elapsed:    7.2s remaining:    0.0s\n"
     ]
    },
    {
     "name": "stdout",
     "output_type": "stream",
     "text": [
      "[CV] learning_rate=0.01, n_estimators=200, subsample=0.3 .............\n",
      "[CV]  learning_rate=0.01, n_estimators=200, subsample=0.3, score=-0.040852204020579076, total=   6.7s\n"
     ]
    },
    {
     "name": "stderr",
     "output_type": "stream",
     "text": [
      "[Parallel(n_jobs=1)]: Done   2 out of   2 | elapsed:   14.2s remaining:    0.0s\n"
     ]
    },
    {
     "name": "stdout",
     "output_type": "stream",
     "text": [
      "[CV] learning_rate=0.01, n_estimators=200, subsample=0.3 .............\n",
      "[CV]  learning_rate=0.01, n_estimators=200, subsample=0.3, score=-0.039909483150939146, total=   6.7s\n",
      "[CV] learning_rate=0.01, n_estimators=200, subsample=0.5 .............\n",
      "[CV]  learning_rate=0.01, n_estimators=200, subsample=0.5, score=-0.040105247873757376, total=   7.8s\n",
      "[CV] learning_rate=0.01, n_estimators=200, subsample=0.5 .............\n",
      "[CV]  learning_rate=0.01, n_estimators=200, subsample=0.5, score=-0.04093653271932638, total=   8.3s\n",
      "[CV] learning_rate=0.01, n_estimators=200, subsample=0.5 .............\n",
      "[CV]  learning_rate=0.01, n_estimators=200, subsample=0.5, score=-0.0399916977857508, total=   7.9s\n",
      "[CV] learning_rate=0.01, n_estimators=200, subsample=0.9 .............\n",
      "[CV]  learning_rate=0.01, n_estimators=200, subsample=0.9, score=-0.04022534563526472, total=   7.3s\n",
      "[CV] learning_rate=0.01, n_estimators=200, subsample=0.9 .............\n",
      "[CV]  learning_rate=0.01, n_estimators=200, subsample=0.9, score=-0.04102710601398978, total=   7.3s\n",
      "[CV] learning_rate=0.01, n_estimators=200, subsample=0.9 .............\n",
      "[CV]  learning_rate=0.01, n_estimators=200, subsample=0.9, score=-0.040127020540905396, total=   7.5s\n",
      "[CV] learning_rate=0.01, n_estimators=200, subsample=1 ...............\n",
      "[CV]  learning_rate=0.01, n_estimators=200, subsample=1, score=-0.04024288577852239, total=   7.4s\n",
      "[CV] learning_rate=0.01, n_estimators=200, subsample=1 ...............\n",
      "[CV]  learning_rate=0.01, n_estimators=200, subsample=1, score=-0.0410637341846821, total=   7.6s\n",
      "[CV] learning_rate=0.01, n_estimators=200, subsample=1 ...............\n",
      "[CV]  learning_rate=0.01, n_estimators=200, subsample=1, score=-0.040168777559575895, total=   7.4s\n",
      "[CV] learning_rate=0.01, n_estimators=300, subsample=0.3 .............\n",
      "[CV]  learning_rate=0.01, n_estimators=300, subsample=0.3, score=-0.0376880811217494, total=  10.4s\n",
      "[CV] learning_rate=0.01, n_estimators=300, subsample=0.3 .............\n",
      "[CV]  learning_rate=0.01, n_estimators=300, subsample=0.3, score=-0.03854046158255458, total=  10.4s\n",
      "[CV] learning_rate=0.01, n_estimators=300, subsample=0.3 .............\n",
      "[CV]  learning_rate=0.01, n_estimators=300, subsample=0.3, score=-0.037690489874283584, total=  10.2s\n",
      "[CV] learning_rate=0.01, n_estimators=300, subsample=0.5 .............\n",
      "[CV]  learning_rate=0.01, n_estimators=300, subsample=0.5, score=-0.03777469087424437, total=  15.1s\n",
      "[CV] learning_rate=0.01, n_estimators=300, subsample=0.5 .............\n",
      "[CV]  learning_rate=0.01, n_estimators=300, subsample=0.5, score=-0.038578260471442645, total=  14.6s\n",
      "[CV] learning_rate=0.01, n_estimators=300, subsample=0.5 .............\n",
      "[CV]  learning_rate=0.01, n_estimators=300, subsample=0.5, score=-0.03774320222153883, total=  12.4s\n",
      "[CV] learning_rate=0.01, n_estimators=300, subsample=0.9 .............\n",
      "[CV]  learning_rate=0.01, n_estimators=300, subsample=0.9, score=-0.03790620233659722, total=  11.3s\n",
      "[CV] learning_rate=0.01, n_estimators=300, subsample=0.9 .............\n",
      "[CV]  learning_rate=0.01, n_estimators=300, subsample=0.9, score=-0.03863983897026228, total=  13.2s\n",
      "[CV] learning_rate=0.01, n_estimators=300, subsample=0.9 .............\n",
      "[CV]  learning_rate=0.01, n_estimators=300, subsample=0.9, score=-0.03787222345826199, total=  12.1s\n",
      "[CV] learning_rate=0.01, n_estimators=300, subsample=1 ...............\n",
      "[CV]  learning_rate=0.01, n_estimators=300, subsample=1, score=-0.03791037673681385, total=  10.9s\n",
      "[CV] learning_rate=0.01, n_estimators=300, subsample=1 ...............\n",
      "[CV]  learning_rate=0.01, n_estimators=300, subsample=1, score=-0.038679939474382405, total=  11.0s\n",
      "[CV] learning_rate=0.01, n_estimators=300, subsample=1 ...............\n",
      "[CV]  learning_rate=0.01, n_estimators=300, subsample=1, score=-0.03790138957633138, total=  10.9s\n",
      "[CV] learning_rate=0.01, n_estimators=400, subsample=0.3 .............\n",
      "[CV]  learning_rate=0.01, n_estimators=400, subsample=0.3, score=-0.03718356548375511, total=  14.0s\n",
      "[CV] learning_rate=0.01, n_estimators=400, subsample=0.3 .............\n",
      "[CV]  learning_rate=0.01, n_estimators=400, subsample=0.3, score=-0.03804742280602851, total=  14.0s\n",
      "[CV] learning_rate=0.01, n_estimators=400, subsample=0.3 .............\n",
      "[CV]  learning_rate=0.01, n_estimators=400, subsample=0.3, score=-0.037215054796483994, total=  14.2s\n",
      "[CV] learning_rate=0.01, n_estimators=400, subsample=0.5 .............\n",
      "[CV]  learning_rate=0.01, n_estimators=400, subsample=0.5, score=-0.03723742146869763, total=  16.5s\n",
      "[CV] learning_rate=0.01, n_estimators=400, subsample=0.5 .............\n",
      "[CV]  learning_rate=0.01, n_estimators=400, subsample=0.5, score=-0.038056636859331625, total=  16.5s\n",
      "[CV] learning_rate=0.01, n_estimators=400, subsample=0.5 .............\n",
      "[CV]  learning_rate=0.01, n_estimators=400, subsample=0.5, score=-0.0372368393134477, total=  16.3s\n",
      "[CV] learning_rate=0.01, n_estimators=400, subsample=0.9 .............\n",
      "[CV]  learning_rate=0.01, n_estimators=400, subsample=0.9, score=-0.037350968355217416, total=  15.3s\n",
      "[CV] learning_rate=0.01, n_estimators=400, subsample=0.9 .............\n",
      "[CV]  learning_rate=0.01, n_estimators=400, subsample=0.9, score=-0.03809311812116111, total=  15.3s\n",
      "[CV] learning_rate=0.01, n_estimators=400, subsample=0.9 .............\n",
      "[CV]  learning_rate=0.01, n_estimators=400, subsample=0.9, score=-0.03735130378964197, total=  15.3s\n",
      "[CV] learning_rate=0.01, n_estimators=400, subsample=1 ...............\n",
      "[CV]  learning_rate=0.01, n_estimators=400, subsample=1, score=-0.03735556555099373, total=  14.5s\n",
      "[CV] learning_rate=0.01, n_estimators=400, subsample=1 ...............\n",
      "[CV]  learning_rate=0.01, n_estimators=400, subsample=1, score=-0.03813323052167796, total=  15.0s\n",
      "[CV] learning_rate=0.01, n_estimators=400, subsample=1 ...............\n",
      "[CV]  learning_rate=0.01, n_estimators=400, subsample=1, score=-0.03739565656501718, total=  14.5s\n",
      "[CV] learning_rate=0.01, n_estimators=500, subsample=0.3 .............\n",
      "[CV]  learning_rate=0.01, n_estimators=500, subsample=0.3, score=-0.03700373518903781, total=  18.2s\n",
      "[CV] learning_rate=0.01, n_estimators=500, subsample=0.3 .............\n",
      "[CV]  learning_rate=0.01, n_estimators=500, subsample=0.3, score=-0.03789671081349654, total=  16.7s\n",
      "[CV] learning_rate=0.01, n_estimators=500, subsample=0.3 .............\n",
      "[CV]  learning_rate=0.01, n_estimators=500, subsample=0.3, score=-0.03706607867318296, total=  17.1s\n",
      "[CV] learning_rate=0.01, n_estimators=500, subsample=0.5 .............\n",
      "[CV]  learning_rate=0.01, n_estimators=500, subsample=0.5, score=-0.03703573007395759, total=  21.6s\n",
      "[CV] learning_rate=0.01, n_estimators=500, subsample=0.5 .............\n",
      "[CV]  learning_rate=0.01, n_estimators=500, subsample=0.5, score=-0.0379141193048357, total=  19.9s\n",
      "[CV] learning_rate=0.01, n_estimators=500, subsample=0.5 .............\n",
      "[CV]  learning_rate=0.01, n_estimators=500, subsample=0.5, score=-0.03707304175805854, total=  19.6s\n",
      "[CV] learning_rate=0.01, n_estimators=500, subsample=0.9 .............\n",
      "[CV]  learning_rate=0.01, n_estimators=500, subsample=0.9, score=-0.03713504878905397, total=  18.5s\n",
      "[CV] learning_rate=0.01, n_estimators=500, subsample=0.9 .............\n",
      "[CV]  learning_rate=0.01, n_estimators=500, subsample=0.9, score=-0.037912264771717295, total=  18.4s\n",
      "[CV] learning_rate=0.01, n_estimators=500, subsample=0.9 .............\n",
      "[CV]  learning_rate=0.01, n_estimators=500, subsample=0.9, score=-0.03717271271230741, total=  18.4s\n",
      "[CV] learning_rate=0.01, n_estimators=500, subsample=1 ...............\n",
      "[CV]  learning_rate=0.01, n_estimators=500, subsample=1, score=-0.03714034801637962, total=  17.5s\n",
      "[CV] learning_rate=0.01, n_estimators=500, subsample=1 ...............\n",
      "[CV]  learning_rate=0.01, n_estimators=500, subsample=1, score=-0.037956822044222224, total=  17.5s\n",
      "[CV] learning_rate=0.01, n_estimators=500, subsample=1 ...............\n",
      "[CV]  learning_rate=0.01, n_estimators=500, subsample=1, score=-0.03722373900507165, total=  17.3s\n",
      "[CV] learning_rate=0.09, n_estimators=200, subsample=0.3 .............\n",
      "[CV]  learning_rate=0.09, n_estimators=200, subsample=0.3, score=-0.037070436159087436, total=   6.6s\n",
      "[CV] learning_rate=0.09, n_estimators=200, subsample=0.3 .............\n"
     ]
    },
    {
     "name": "stdout",
     "output_type": "stream",
     "text": [
      "[CV]  learning_rate=0.09, n_estimators=200, subsample=0.3, score=-0.03799831901490319, total=   6.7s\n",
      "[CV] learning_rate=0.09, n_estimators=200, subsample=0.3 .............\n",
      "[CV]  learning_rate=0.09, n_estimators=200, subsample=0.3, score=-0.03716036499011589, total=   6.8s\n",
      "[CV] learning_rate=0.09, n_estimators=200, subsample=0.5 .............\n",
      "[CV]  learning_rate=0.09, n_estimators=200, subsample=0.5, score=-0.036843216589253415, total=   7.7s\n",
      "[CV] learning_rate=0.09, n_estimators=200, subsample=0.5 .............\n",
      "[CV]  learning_rate=0.09, n_estimators=200, subsample=0.5, score=-0.03789747021327108, total=   7.8s\n",
      "[CV] learning_rate=0.09, n_estimators=200, subsample=0.5 .............\n",
      "[CV]  learning_rate=0.09, n_estimators=200, subsample=0.5, score=-0.037096314163439545, total=   7.8s\n",
      "[CV] learning_rate=0.09, n_estimators=200, subsample=0.9 .............\n",
      "[CV]  learning_rate=0.09, n_estimators=200, subsample=0.9, score=-0.03688846453169451, total=   7.6s\n",
      "[CV] learning_rate=0.09, n_estimators=200, subsample=0.9 .............\n",
      "[CV]  learning_rate=0.09, n_estimators=200, subsample=0.9, score=-0.03795351221232343, total=   7.6s\n",
      "[CV] learning_rate=0.09, n_estimators=200, subsample=0.9 .............\n",
      "[CV]  learning_rate=0.09, n_estimators=200, subsample=0.9, score=-0.03698106577413432, total=   7.4s\n",
      "[CV] learning_rate=0.09, n_estimators=200, subsample=1 ...............\n",
      "[CV]  learning_rate=0.09, n_estimators=200, subsample=1, score=-0.03694023921767443, total=   6.8s\n",
      "[CV] learning_rate=0.09, n_estimators=200, subsample=1 ...............\n",
      "[CV]  learning_rate=0.09, n_estimators=200, subsample=1, score=-0.03790105647459937, total=   6.9s\n",
      "[CV] learning_rate=0.09, n_estimators=200, subsample=1 ...............\n",
      "[CV]  learning_rate=0.09, n_estimators=200, subsample=1, score=-0.036962277430741056, total=   7.2s\n",
      "[CV] learning_rate=0.09, n_estimators=300, subsample=0.3 .............\n",
      "[CV]  learning_rate=0.09, n_estimators=300, subsample=0.3, score=-0.037262508463698794, total=  10.0s\n",
      "[CV] learning_rate=0.09, n_estimators=300, subsample=0.3 .............\n",
      "[CV]  learning_rate=0.09, n_estimators=300, subsample=0.3, score=-0.038076881758473104, total=   9.8s\n",
      "[CV] learning_rate=0.09, n_estimators=300, subsample=0.3 .............\n",
      "[CV]  learning_rate=0.09, n_estimators=300, subsample=0.3, score=-0.03724326409341256, total=   9.9s\n",
      "[CV] learning_rate=0.09, n_estimators=300, subsample=0.5 .............\n",
      "[CV]  learning_rate=0.09, n_estimators=300, subsample=0.5, score=-0.03699443344947394, total=  11.6s\n",
      "[CV] learning_rate=0.09, n_estimators=300, subsample=0.5 .............\n",
      "[CV]  learning_rate=0.09, n_estimators=300, subsample=0.5, score=-0.03797880197150946, total=  11.7s\n",
      "[CV] learning_rate=0.09, n_estimators=300, subsample=0.5 .............\n",
      "[CV]  learning_rate=0.09, n_estimators=300, subsample=0.5, score=-0.0372142756599972, total=  11.6s\n",
      "[CV] learning_rate=0.09, n_estimators=300, subsample=0.9 .............\n",
      "[CV]  learning_rate=0.09, n_estimators=300, subsample=0.9, score=-0.036918138782117214, total=  10.8s\n",
      "[CV] learning_rate=0.09, n_estimators=300, subsample=0.9 .............\n",
      "[CV]  learning_rate=0.09, n_estimators=300, subsample=0.9, score=-0.03798730317396446, total=  10.8s\n",
      "[CV] learning_rate=0.09, n_estimators=300, subsample=0.9 .............\n",
      "[CV]  learning_rate=0.09, n_estimators=300, subsample=0.9, score=-0.03703222004775792, total=  10.8s\n",
      "[CV] learning_rate=0.09, n_estimators=300, subsample=1 ...............\n",
      "[CV]  learning_rate=0.09, n_estimators=300, subsample=1, score=-0.03702805891286203, total=  10.2s\n",
      "[CV] learning_rate=0.09, n_estimators=300, subsample=1 ...............\n",
      "[CV]  learning_rate=0.09, n_estimators=300, subsample=1, score=-0.037954006403796064, total=  10.2s\n",
      "[CV] learning_rate=0.09, n_estimators=300, subsample=1 ...............\n",
      "[CV]  learning_rate=0.09, n_estimators=300, subsample=1, score=-0.036973090139045796, total=  10.3s\n",
      "[CV] learning_rate=0.09, n_estimators=400, subsample=0.3 .............\n",
      "[CV]  learning_rate=0.09, n_estimators=400, subsample=0.3, score=-0.03751150592010202, total=  13.6s\n",
      "[CV] learning_rate=0.09, n_estimators=400, subsample=0.3 .............\n",
      "[CV]  learning_rate=0.09, n_estimators=400, subsample=0.3, score=-0.038210236448720375, total=  13.2s\n",
      "[CV] learning_rate=0.09, n_estimators=400, subsample=0.3 .............\n",
      "[CV]  learning_rate=0.09, n_estimators=400, subsample=0.3, score=-0.0374223653753363, total=  13.5s\n",
      "[CV] learning_rate=0.09, n_estimators=400, subsample=0.5 .............\n",
      "[CV]  learning_rate=0.09, n_estimators=400, subsample=0.5, score=-0.037126830369560826, total=  15.4s\n",
      "[CV] learning_rate=0.09, n_estimators=400, subsample=0.5 .............\n",
      "[CV]  learning_rate=0.09, n_estimators=400, subsample=0.5, score=-0.038095548517107926, total=  15.6s\n",
      "[CV] learning_rate=0.09, n_estimators=400, subsample=0.5 .............\n",
      "[CV]  learning_rate=0.09, n_estimators=400, subsample=0.5, score=-0.03728525597028388, total=  15.5s\n",
      "[CV] learning_rate=0.09, n_estimators=400, subsample=0.9 .............\n",
      "[CV]  learning_rate=0.09, n_estimators=400, subsample=0.9, score=-0.036997399757588506, total=  14.5s\n",
      "[CV] learning_rate=0.09, n_estimators=400, subsample=0.9 .............\n",
      "[CV]  learning_rate=0.09, n_estimators=400, subsample=0.9, score=-0.038050222503628245, total=  14.6s\n",
      "[CV] learning_rate=0.09, n_estimators=400, subsample=0.9 .............\n",
      "[CV]  learning_rate=0.09, n_estimators=400, subsample=0.9, score=-0.03713208583000008, total=  15.3s\n",
      "[CV] learning_rate=0.09, n_estimators=400, subsample=1 ...............\n",
      "[CV]  learning_rate=0.09, n_estimators=400, subsample=1, score=-0.03712596139747277, total=  13.9s\n",
      "[CV] learning_rate=0.09, n_estimators=400, subsample=1 ...............\n",
      "[CV]  learning_rate=0.09, n_estimators=400, subsample=1, score=-0.038049534723938974, total=  14.2s\n",
      "[CV] learning_rate=0.09, n_estimators=400, subsample=1 ...............\n",
      "[CV]  learning_rate=0.09, n_estimators=400, subsample=1, score=-0.03701437272795119, total=  14.3s\n",
      "[CV] learning_rate=0.09, n_estimators=500, subsample=0.3 .............\n",
      "[CV]  learning_rate=0.09, n_estimators=500, subsample=0.3, score=-0.03762916115659525, total=  17.3s\n",
      "[CV] learning_rate=0.09, n_estimators=500, subsample=0.3 .............\n",
      "[CV]  learning_rate=0.09, n_estimators=500, subsample=0.3, score=-0.03825753227652557, total=  17.4s\n",
      "[CV] learning_rate=0.09, n_estimators=500, subsample=0.3 .............\n",
      "[CV]  learning_rate=0.09, n_estimators=500, subsample=0.3, score=-0.03750008034414901, total=  16.7s\n",
      "[CV] learning_rate=0.09, n_estimators=500, subsample=0.5 .............\n",
      "[CV]  learning_rate=0.09, n_estimators=500, subsample=0.5, score=-0.03722052845355907, total=  19.7s\n",
      "[CV] learning_rate=0.09, n_estimators=500, subsample=0.5 .............\n",
      "[CV]  learning_rate=0.09, n_estimators=500, subsample=0.5, score=-0.038079759690613287, total=  20.8s\n",
      "[CV] learning_rate=0.09, n_estimators=500, subsample=0.5 .............\n",
      "[CV]  learning_rate=0.09, n_estimators=500, subsample=0.5, score=-0.03751793826995194, total=  21.0s\n",
      "[CV] learning_rate=0.09, n_estimators=500, subsample=0.9 .............\n",
      "[CV]  learning_rate=0.09, n_estimators=500, subsample=0.9, score=-0.0370636600039085, total=  19.3s\n",
      "[CV] learning_rate=0.09, n_estimators=500, subsample=0.9 .............\n",
      "[CV]  learning_rate=0.09, n_estimators=500, subsample=0.9, score=-0.03812179840709854, total=  19.3s\n",
      "[CV] learning_rate=0.09, n_estimators=500, subsample=0.9 .............\n",
      "[CV]  learning_rate=0.09, n_estimators=500, subsample=0.9, score=-0.03715677873557573, total=  19.2s\n",
      "[CV] learning_rate=0.09, n_estimators=500, subsample=1 ...............\n",
      "[CV]  learning_rate=0.09, n_estimators=500, subsample=1, score=-0.03720410422123049, total=  41.0s\n",
      "[CV] learning_rate=0.09, n_estimators=500, subsample=1 ...............\n",
      "[CV]  learning_rate=0.09, n_estimators=500, subsample=1, score=-0.038095035164102335, total=  40.3s\n",
      "[CV] learning_rate=0.09, n_estimators=500, subsample=1 ...............\n",
      "[CV]  learning_rate=0.09, n_estimators=500, subsample=1, score=-0.037090345161967485, total=  36.7s\n",
      "[CV] learning_rate=0.1, n_estimators=200, subsample=0.3 ..............\n",
      "[CV]  learning_rate=0.1, n_estimators=200, subsample=0.3, score=-0.03702774461656136, total=  14.6s\n"
     ]
    },
    {
     "name": "stdout",
     "output_type": "stream",
     "text": [
      "[CV] learning_rate=0.1, n_estimators=200, subsample=0.3 ..............\n",
      "[CV]  learning_rate=0.1, n_estimators=200, subsample=0.3, score=-0.03807052710000134, total=  15.2s\n",
      "[CV] learning_rate=0.1, n_estimators=200, subsample=0.3 ..............\n",
      "[CV]  learning_rate=0.1, n_estimators=200, subsample=0.3, score=-0.03728413358445416, total=  14.3s\n",
      "[CV] learning_rate=0.1, n_estimators=200, subsample=0.5 ..............\n",
      "[CV]  learning_rate=0.1, n_estimators=200, subsample=0.5, score=-0.03699815011449566, total=  16.7s\n",
      "[CV] learning_rate=0.1, n_estimators=200, subsample=0.5 ..............\n",
      "[CV]  learning_rate=0.1, n_estimators=200, subsample=0.5, score=-0.03791231919948638, total=  16.9s\n",
      "[CV] learning_rate=0.1, n_estimators=200, subsample=0.5 ..............\n",
      "[CV]  learning_rate=0.1, n_estimators=200, subsample=0.5, score=-0.0370054359214847, total=  16.8s\n",
      "[CV] learning_rate=0.1, n_estimators=200, subsample=0.9 ..............\n",
      "[CV]  learning_rate=0.1, n_estimators=200, subsample=0.9, score=-0.03692523229443072, total=  15.7s\n",
      "[CV] learning_rate=0.1, n_estimators=200, subsample=0.9 ..............\n",
      "[CV]  learning_rate=0.1, n_estimators=200, subsample=0.9, score=-0.03794709474658218, total=  16.3s\n",
      "[CV] learning_rate=0.1, n_estimators=200, subsample=0.9 ..............\n",
      "[CV]  learning_rate=0.1, n_estimators=200, subsample=0.9, score=-0.03695736581342716, total=  15.6s\n",
      "[CV] learning_rate=0.1, n_estimators=200, subsample=1 ................\n",
      "[CV]  learning_rate=0.1, n_estimators=200, subsample=1, score=-0.037026345173331025, total=  14.7s\n",
      "[CV] learning_rate=0.1, n_estimators=200, subsample=1 ................\n",
      "[CV]  learning_rate=0.1, n_estimators=200, subsample=1, score=-0.03788666065180841, total=  14.7s\n",
      "[CV] learning_rate=0.1, n_estimators=200, subsample=1 ................\n",
      "[CV]  learning_rate=0.1, n_estimators=200, subsample=1, score=-0.0369718610720631, total=  14.6s\n",
      "[CV] learning_rate=0.1, n_estimators=300, subsample=0.3 ..............\n",
      "[CV]  learning_rate=0.1, n_estimators=300, subsample=0.3, score=-0.03731926384415512, total=  21.6s\n",
      "[CV] learning_rate=0.1, n_estimators=300, subsample=0.3 ..............\n",
      "[CV]  learning_rate=0.1, n_estimators=300, subsample=0.3, score=-0.03814530991182494, total=14.1min\n",
      "[CV] learning_rate=0.1, n_estimators=300, subsample=0.3 ..............\n",
      "[CV]  learning_rate=0.1, n_estimators=300, subsample=0.3, score=-0.03747273370078791, total=  10.6s\n",
      "[CV] learning_rate=0.1, n_estimators=300, subsample=0.5 ..............\n",
      "[CV]  learning_rate=0.1, n_estimators=300, subsample=0.5, score=-0.03716610304989853, total=  12.0s\n",
      "[CV] learning_rate=0.1, n_estimators=300, subsample=0.5 ..............\n",
      "[CV]  learning_rate=0.1, n_estimators=300, subsample=0.5, score=-0.038003576362025226, total=  11.6s\n",
      "[CV] learning_rate=0.1, n_estimators=300, subsample=0.5 ..............\n",
      "[CV]  learning_rate=0.1, n_estimators=300, subsample=0.5, score=-0.037081337643223695, total=  11.6s\n",
      "[CV] learning_rate=0.1, n_estimators=300, subsample=0.9 ..............\n",
      "[CV]  learning_rate=0.1, n_estimators=300, subsample=0.9, score=-0.037016290741564, total=  10.8s\n",
      "[CV] learning_rate=0.1, n_estimators=300, subsample=0.9 ..............\n",
      "[CV]  learning_rate=0.1, n_estimators=300, subsample=0.9, score=-0.03792462935294492, total=  10.8s\n",
      "[CV] learning_rate=0.1, n_estimators=300, subsample=0.9 ..............\n",
      "[CV]  learning_rate=0.1, n_estimators=300, subsample=0.9, score=-0.036998247180932094, total=  10.8s\n",
      "[CV] learning_rate=0.1, n_estimators=300, subsample=1 ................\n",
      "[CV]  learning_rate=0.1, n_estimators=300, subsample=1, score=-0.03712692377786641, total=  19.5s\n",
      "[CV] learning_rate=0.1, n_estimators=300, subsample=1 ................\n",
      "[CV]  learning_rate=0.1, n_estimators=300, subsample=1, score=-0.037945475580055926, total=  21.9s\n",
      "[CV] learning_rate=0.1, n_estimators=300, subsample=1 ................\n",
      "[CV]  learning_rate=0.1, n_estimators=300, subsample=1, score=-0.03701274310822574, total=  21.7s\n",
      "[CV] learning_rate=0.1, n_estimators=400, subsample=0.3 ..............\n",
      "[CV]  learning_rate=0.1, n_estimators=400, subsample=0.3, score=-0.03740429031327058, total=  28.2s\n",
      "[CV] learning_rate=0.1, n_estimators=400, subsample=0.3 ..............\n",
      "[CV]  learning_rate=0.1, n_estimators=400, subsample=0.3, score=-0.038339085911115664, total=  28.6s\n",
      "[CV] learning_rate=0.1, n_estimators=400, subsample=0.3 ..............\n",
      "[CV]  learning_rate=0.1, n_estimators=400, subsample=0.3, score=-0.03764793528389655, total=  28.1s\n",
      "[CV] learning_rate=0.1, n_estimators=400, subsample=0.5 ..............\n",
      "[CV]  learning_rate=0.1, n_estimators=400, subsample=0.5, score=-0.03732944407841451, total=  33.3s\n",
      "[CV] learning_rate=0.1, n_estimators=400, subsample=0.5 ..............\n",
      "[CV]  learning_rate=0.1, n_estimators=400, subsample=0.5, score=-0.0381415287894182, total=  33.4s\n",
      "[CV] learning_rate=0.1, n_estimators=400, subsample=0.5 ..............\n",
      "[CV]  learning_rate=0.1, n_estimators=400, subsample=0.5, score=-0.03718676644660764, total=  33.2s\n",
      "[CV] learning_rate=0.1, n_estimators=400, subsample=0.9 ..............\n",
      "[CV]  learning_rate=0.1, n_estimators=400, subsample=0.9, score=-0.037083350972111406, total=  31.1s\n",
      "[CV] learning_rate=0.1, n_estimators=400, subsample=0.9 ..............\n",
      "[CV]  learning_rate=0.1, n_estimators=400, subsample=0.9, score=-0.03801786849749804, total=  30.9s\n",
      "[CV] learning_rate=0.1, n_estimators=400, subsample=0.9 ..............\n",
      "[CV]  learning_rate=0.1, n_estimators=400, subsample=0.9, score=-0.0370617752550417, total=  31.1s\n",
      "[CV] learning_rate=0.1, n_estimators=400, subsample=1 ................\n",
      "[CV]  learning_rate=0.1, n_estimators=400, subsample=1, score=-0.0372122685955686, total=  29.0s\n",
      "[CV] learning_rate=0.1, n_estimators=400, subsample=1 ................\n",
      "[CV]  learning_rate=0.1, n_estimators=400, subsample=1, score=-0.03802472078300593, total=  29.2s\n",
      "[CV] learning_rate=0.1, n_estimators=400, subsample=1 ................\n",
      "[CV]  learning_rate=0.1, n_estimators=400, subsample=1, score=-0.03705617888201568, total=  28.8s\n",
      "[CV] learning_rate=0.1, n_estimators=500, subsample=0.3 ..............\n",
      "[CV]  learning_rate=0.1, n_estimators=500, subsample=0.3, score=-0.037617403007185024, total=  33.5s\n",
      "[CV] learning_rate=0.1, n_estimators=500, subsample=0.3 ..............\n",
      "[CV]  learning_rate=0.1, n_estimators=500, subsample=0.3, score=-0.03841231596493665, total=  35.4s\n",
      "[CV] learning_rate=0.1, n_estimators=500, subsample=0.3 ..............\n",
      "[CV]  learning_rate=0.1, n_estimators=500, subsample=0.3, score=-0.03786586851883095, total=  35.8s\n",
      "[CV] learning_rate=0.1, n_estimators=500, subsample=0.5 ..............\n",
      "[CV]  learning_rate=0.1, n_estimators=500, subsample=0.5, score=-0.03750762164993338, total=  42.1s\n",
      "[CV] learning_rate=0.1, n_estimators=500, subsample=0.5 ..............\n",
      "[CV]  learning_rate=0.1, n_estimators=500, subsample=0.5, score=-0.038269479996064226, total=  41.6s\n",
      "[CV] learning_rate=0.1, n_estimators=500, subsample=0.5 ..............\n",
      "[CV]  learning_rate=0.1, n_estimators=500, subsample=0.5, score=-0.037449984460723514, total=  41.7s\n",
      "[CV] learning_rate=0.1, n_estimators=500, subsample=0.9 ..............\n",
      "[CV]  learning_rate=0.1, n_estimators=500, subsample=0.9, score=-0.03713198126445862, total=  38.9s\n",
      "[CV] learning_rate=0.1, n_estimators=500, subsample=0.9 ..............\n",
      "[CV]  learning_rate=0.1, n_estimators=500, subsample=0.9, score=-0.03808674645075926, total=  38.7s\n",
      "[CV] learning_rate=0.1, n_estimators=500, subsample=0.9 ..............\n",
      "[CV]  learning_rate=0.1, n_estimators=500, subsample=0.9, score=-0.03712211566216549, total=  39.4s\n",
      "[CV] learning_rate=0.1, n_estimators=500, subsample=1 ................\n",
      "[CV]  learning_rate=0.1, n_estimators=500, subsample=1, score=-0.03728044088883617, total=  36.4s\n",
      "[CV] learning_rate=0.1, n_estimators=500, subsample=1 ................\n",
      "[CV]  learning_rate=0.1, n_estimators=500, subsample=1, score=-0.03807711911475949, total=  36.1s\n",
      "[CV] learning_rate=0.1, n_estimators=500, subsample=1 ................\n",
      "[CV]  learning_rate=0.1, n_estimators=500, subsample=1, score=-0.037139962164513936, total=  37.3s\n",
      "[CV] learning_rate=0.2, n_estimators=200, subsample=0.3 ..............\n",
      "[CV]  learning_rate=0.2, n_estimators=200, subsample=0.3, score=-0.03795864826343387, total=  14.3s\n"
     ]
    },
    {
     "name": "stdout",
     "output_type": "stream",
     "text": [
      "[CV] learning_rate=0.2, n_estimators=200, subsample=0.3 ..............\n",
      "[CV]  learning_rate=0.2, n_estimators=200, subsample=0.3, score=-0.03899094033069113, total=  14.2s\n",
      "[CV] learning_rate=0.2, n_estimators=200, subsample=0.3 ..............\n",
      "[CV]  learning_rate=0.2, n_estimators=200, subsample=0.3, score=-0.03811253389021847, total=  14.1s\n",
      "[CV] learning_rate=0.2, n_estimators=200, subsample=0.5 ..............\n",
      "[CV]  learning_rate=0.2, n_estimators=200, subsample=0.5, score=-0.03758389137826154, total=  17.0s\n",
      "[CV] learning_rate=0.2, n_estimators=200, subsample=0.5 ..............\n",
      "[CV]  learning_rate=0.2, n_estimators=200, subsample=0.5, score=-0.038472747185366446, total=  16.7s\n",
      "[CV] learning_rate=0.2, n_estimators=200, subsample=0.5 ..............\n",
      "[CV]  learning_rate=0.2, n_estimators=200, subsample=0.5, score=-0.037595069655922006, total=  16.8s\n",
      "[CV] learning_rate=0.2, n_estimators=200, subsample=0.9 ..............\n",
      "[CV]  learning_rate=0.2, n_estimators=200, subsample=0.9, score=-0.037309363986888035, total=  15.7s\n",
      "[CV] learning_rate=0.2, n_estimators=200, subsample=0.9 ..............\n",
      "[CV]  learning_rate=0.2, n_estimators=200, subsample=0.9, score=-0.038194460811682054, total=  15.5s\n",
      "[CV] learning_rate=0.2, n_estimators=200, subsample=0.9 ..............\n",
      "[CV]  learning_rate=0.2, n_estimators=200, subsample=0.9, score=-0.03726470905225021, total=  17.5s\n",
      "[CV] learning_rate=0.2, n_estimators=200, subsample=1 ................\n",
      "[CV]  learning_rate=0.2, n_estimators=200, subsample=1, score=-0.037330164655518264, total=  17.7s\n",
      "[CV] learning_rate=0.2, n_estimators=200, subsample=1 ................\n",
      "[CV]  learning_rate=0.2, n_estimators=200, subsample=1, score=-0.038152118816091575, total=  14.8s\n",
      "[CV] learning_rate=0.2, n_estimators=200, subsample=1 ................\n",
      "[CV]  learning_rate=0.2, n_estimators=200, subsample=1, score=-0.037136386203326884, total=  15.0s\n",
      "[CV] learning_rate=0.2, n_estimators=300, subsample=0.3 ..............\n",
      "[CV]  learning_rate=0.2, n_estimators=300, subsample=0.3, score=-0.03862382447149221, total=  21.5s\n",
      "[CV] learning_rate=0.2, n_estimators=300, subsample=0.3 ..............\n",
      "[CV]  learning_rate=0.2, n_estimators=300, subsample=0.3, score=-0.03947809394753107, total=  21.4s\n",
      "[CV] learning_rate=0.2, n_estimators=300, subsample=0.3 ..............\n",
      "[CV]  learning_rate=0.2, n_estimators=300, subsample=0.3, score=-0.03884180764489356, total=  21.4s\n",
      "[CV] learning_rate=0.2, n_estimators=300, subsample=0.5 ..............\n",
      "[CV]  learning_rate=0.2, n_estimators=300, subsample=0.5, score=-0.038090804213798256, total=  25.4s\n",
      "[CV] learning_rate=0.2, n_estimators=300, subsample=0.5 ..............\n",
      "[CV]  learning_rate=0.2, n_estimators=300, subsample=0.5, score=-0.03876729323024464, total=  25.7s\n",
      "[CV] learning_rate=0.2, n_estimators=300, subsample=0.5 ..............\n",
      "[CV]  learning_rate=0.2, n_estimators=300, subsample=0.5, score=-0.03794977145446552, total=  25.3s\n",
      "[CV] learning_rate=0.2, n_estimators=300, subsample=0.9 ..............\n",
      "[CV]  learning_rate=0.2, n_estimators=300, subsample=0.9, score=-0.03749398142245548, total=  23.6s\n",
      "[CV] learning_rate=0.2, n_estimators=300, subsample=0.9 ..............\n",
      "[CV]  learning_rate=0.2, n_estimators=300, subsample=0.9, score=-0.03839676154359809, total=  23.6s\n",
      "[CV] learning_rate=0.2, n_estimators=300, subsample=0.9 ..............\n",
      "[CV]  learning_rate=0.2, n_estimators=300, subsample=0.9, score=-0.03752100420320976, total=  23.4s\n",
      "[CV] learning_rate=0.2, n_estimators=300, subsample=1 ................\n",
      "[CV]  learning_rate=0.2, n_estimators=300, subsample=1, score=-0.03744736030308343, total=  22.1s\n",
      "[CV] learning_rate=0.2, n_estimators=300, subsample=1 ................\n",
      "[CV]  learning_rate=0.2, n_estimators=300, subsample=1, score=-0.03834149737375628, total=  22.0s\n",
      "[CV] learning_rate=0.2, n_estimators=300, subsample=1 ................\n",
      "[CV]  learning_rate=0.2, n_estimators=300, subsample=1, score=-0.03742368124618132, total=  23.4s\n",
      "[CV] learning_rate=0.2, n_estimators=400, subsample=0.3 ..............\n",
      "[CV]  learning_rate=0.2, n_estimators=400, subsample=0.3, score=-0.03912917683487547, total=  28.6s\n",
      "[CV] learning_rate=0.2, n_estimators=400, subsample=0.3 ..............\n",
      "[CV]  learning_rate=0.2, n_estimators=400, subsample=0.3, score=-0.03995835403572992, total=  28.4s\n",
      "[CV] learning_rate=0.2, n_estimators=400, subsample=0.3 ..............\n",
      "[CV]  learning_rate=0.2, n_estimators=400, subsample=0.3, score=-0.039128776477565824, total=  28.7s\n",
      "[CV] learning_rate=0.2, n_estimators=400, subsample=0.5 ..............\n",
      "[CV]  learning_rate=0.2, n_estimators=400, subsample=0.5, score=-0.038457136323313476, total=  30.7s\n",
      "[CV] learning_rate=0.2, n_estimators=400, subsample=0.5 ..............\n",
      "[CV]  learning_rate=0.2, n_estimators=400, subsample=0.5, score=-0.03915953877919869, total=  16.2s\n",
      "[CV] learning_rate=0.2, n_estimators=400, subsample=0.5 ..............\n",
      "[CV]  learning_rate=0.2, n_estimators=400, subsample=0.5, score=-0.03831160396034755, total=  15.6s\n",
      "[CV] learning_rate=0.2, n_estimators=400, subsample=0.9 ..............\n",
      "[CV]  learning_rate=0.2, n_estimators=400, subsample=0.9, score=-0.03773982728230265, total=  15.7s\n",
      "[CV] learning_rate=0.2, n_estimators=400, subsample=0.9 ..............\n",
      "[CV]  learning_rate=0.2, n_estimators=400, subsample=0.9, score=-0.03861204418300014, total=  16.3s\n",
      "[CV] learning_rate=0.2, n_estimators=400, subsample=0.9 ..............\n",
      "[CV]  learning_rate=0.2, n_estimators=400, subsample=0.9, score=-0.03772112198970043, total=  14.7s\n",
      "[CV] learning_rate=0.2, n_estimators=400, subsample=1 ................\n",
      "[CV]  learning_rate=0.2, n_estimators=400, subsample=1, score=-0.037599314261864296, total=  14.0s\n",
      "[CV] learning_rate=0.2, n_estimators=400, subsample=1 ................\n",
      "[CV]  learning_rate=0.2, n_estimators=400, subsample=1, score=-0.03844854586216507, total=  13.7s\n",
      "[CV] learning_rate=0.2, n_estimators=400, subsample=1 ................\n",
      "[CV]  learning_rate=0.2, n_estimators=400, subsample=1, score=-0.037648142221739074, total=  15.7s\n",
      "[CV] learning_rate=0.2, n_estimators=500, subsample=0.3 ..............\n",
      "[CV]  learning_rate=0.2, n_estimators=500, subsample=0.3, score=-0.03953425822063419, total=  19.7s\n",
      "[CV] learning_rate=0.2, n_estimators=500, subsample=0.3 ..............\n",
      "[CV]  learning_rate=0.2, n_estimators=500, subsample=0.3, score=-0.04053946622665645, total=  17.7s\n",
      "[CV] learning_rate=0.2, n_estimators=500, subsample=0.3 ..............\n",
      "[CV]  learning_rate=0.2, n_estimators=500, subsample=0.3, score=-0.039500911162687335, total=  19.2s\n",
      "[CV] learning_rate=0.2, n_estimators=500, subsample=0.5 ..............\n",
      "[CV]  learning_rate=0.2, n_estimators=500, subsample=0.5, score=-0.03875785239366545, total=  21.1s\n",
      "[CV] learning_rate=0.2, n_estimators=500, subsample=0.5 ..............\n",
      "[CV]  learning_rate=0.2, n_estimators=500, subsample=0.5, score=-0.03934126655429128, total=  21.3s\n",
      "[CV] learning_rate=0.2, n_estimators=500, subsample=0.5 ..............\n",
      "[CV]  learning_rate=0.2, n_estimators=500, subsample=0.5, score=-0.038649933349214044, total=  21.1s\n",
      "[CV] learning_rate=0.2, n_estimators=500, subsample=0.9 ..............\n",
      "[CV]  learning_rate=0.2, n_estimators=500, subsample=0.9, score=-0.03796677151633145, total=  22.2s\n",
      "[CV] learning_rate=0.2, n_estimators=500, subsample=0.9 ..............\n",
      "[CV]  learning_rate=0.2, n_estimators=500, subsample=0.9, score=-0.03883882951991604, total=  19.9s\n",
      "[CV] learning_rate=0.2, n_estimators=500, subsample=0.9 ..............\n",
      "[CV]  learning_rate=0.2, n_estimators=500, subsample=0.9, score=-0.037972962996795846, total=  21.0s\n",
      "[CV] learning_rate=0.2, n_estimators=500, subsample=1 ................\n",
      "[CV]  learning_rate=0.2, n_estimators=500, subsample=1, score=-0.03775015082374486, total=  18.5s\n",
      "[CV] learning_rate=0.2, n_estimators=500, subsample=1 ................\n",
      "[CV]  learning_rate=0.2, n_estimators=500, subsample=1, score=-0.03864655471297031, total=  17.8s\n",
      "[CV] learning_rate=0.2, n_estimators=500, subsample=1 ................\n",
      "[CV]  learning_rate=0.2, n_estimators=500, subsample=1, score=-0.0379167837570352, total=  17.8s\n",
      "[CV] learning_rate=0.5, n_estimators=200, subsample=0.3 ..............\n"
     ]
    },
    {
     "name": "stdout",
     "output_type": "stream",
     "text": [
      "[CV]  learning_rate=0.5, n_estimators=200, subsample=0.3, score=-0.04246030819838963, total=   7.4s\n",
      "[CV] learning_rate=0.5, n_estimators=200, subsample=0.3 ..............\n",
      "[CV]  learning_rate=0.5, n_estimators=200, subsample=0.3, score=-0.043204127956869745, total=   7.4s\n",
      "[CV] learning_rate=0.5, n_estimators=200, subsample=0.3 ..............\n",
      "[CV]  learning_rate=0.5, n_estimators=200, subsample=0.3, score=-0.042750784502054905, total=   7.1s\n",
      "[CV] learning_rate=0.5, n_estimators=200, subsample=0.5 ..............\n",
      "[CV]  learning_rate=0.5, n_estimators=200, subsample=0.5, score=-0.040526775055601066, total=   8.7s\n",
      "[CV] learning_rate=0.5, n_estimators=200, subsample=0.5 ..............\n",
      "[CV]  learning_rate=0.5, n_estimators=200, subsample=0.5, score=-0.04177570195442108, total=   8.3s\n",
      "[CV] learning_rate=0.5, n_estimators=200, subsample=0.5 ..............\n",
      "[CV]  learning_rate=0.5, n_estimators=200, subsample=0.5, score=-0.04088560276483174, total=   8.2s\n",
      "[CV] learning_rate=0.5, n_estimators=200, subsample=0.9 ..............\n",
      "[CV]  learning_rate=0.5, n_estimators=200, subsample=0.9, score=-0.038922876243733424, total=   7.4s\n",
      "[CV] learning_rate=0.5, n_estimators=200, subsample=0.9 ..............\n",
      "[CV]  learning_rate=0.5, n_estimators=200, subsample=0.9, score=-0.03991701439355038, total=   7.5s\n",
      "[CV] learning_rate=0.5, n_estimators=200, subsample=0.9 ..............\n",
      "[CV]  learning_rate=0.5, n_estimators=200, subsample=0.9, score=-0.03907071032384878, total=   8.0s\n",
      "[CV] learning_rate=0.5, n_estimators=200, subsample=1 ................\n",
      "[CV]  learning_rate=0.5, n_estimators=200, subsample=1, score=-0.03887464430758923, total=   8.7s\n",
      "[CV] learning_rate=0.5, n_estimators=200, subsample=1 ................\n",
      "[CV]  learning_rate=0.5, n_estimators=200, subsample=1, score=-0.039940771801626446, total=   7.3s\n",
      "[CV] learning_rate=0.5, n_estimators=200, subsample=1 ................\n",
      "[CV]  learning_rate=0.5, n_estimators=200, subsample=1, score=-0.03914001828140356, total=   7.1s\n",
      "[CV] learning_rate=0.5, n_estimators=300, subsample=0.3 ..............\n",
      "[CV]  learning_rate=0.5, n_estimators=300, subsample=0.3, score=-0.044709952966891314, total=  10.5s\n",
      "[CV] learning_rate=0.5, n_estimators=300, subsample=0.3 ..............\n",
      "[CV]  learning_rate=0.5, n_estimators=300, subsample=0.3, score=-0.0449254854738007, total=  10.8s\n",
      "[CV] learning_rate=0.5, n_estimators=300, subsample=0.3 ..............\n",
      "[CV]  learning_rate=0.5, n_estimators=300, subsample=0.3, score=-0.04492634171439224, total=  10.2s\n",
      "[CV] learning_rate=0.5, n_estimators=300, subsample=0.5 ..............\n",
      "[CV]  learning_rate=0.5, n_estimators=300, subsample=0.5, score=-0.04222219836121879, total=  13.1s\n",
      "[CV] learning_rate=0.5, n_estimators=300, subsample=0.5 ..............\n",
      "[CV]  learning_rate=0.5, n_estimators=300, subsample=0.5, score=-0.04291268109679463, total=  12.3s\n",
      "[CV] learning_rate=0.5, n_estimators=300, subsample=0.5 ..............\n",
      "[CV]  learning_rate=0.5, n_estimators=300, subsample=0.5, score=-0.04217597318619214, total=  12.5s\n",
      "[CV] learning_rate=0.5, n_estimators=300, subsample=0.9 ..............\n",
      "[CV]  learning_rate=0.5, n_estimators=300, subsample=0.9, score=-0.03966796256636272, total=  14.0s\n",
      "[CV] learning_rate=0.5, n_estimators=300, subsample=0.9 ..............\n",
      "[CV]  learning_rate=0.5, n_estimators=300, subsample=0.9, score=-0.04080154402988858, total=  12.4s\n",
      "[CV] learning_rate=0.5, n_estimators=300, subsample=0.9 ..............\n",
      "[CV]  learning_rate=0.5, n_estimators=300, subsample=0.9, score=-0.0399460739485329, total=  11.2s\n",
      "[CV] learning_rate=0.5, n_estimators=300, subsample=1 ................\n",
      "[CV]  learning_rate=0.5, n_estimators=300, subsample=1, score=-0.039741127977347045, total=  10.8s\n",
      "[CV] learning_rate=0.5, n_estimators=300, subsample=1 ................\n",
      "[CV]  learning_rate=0.5, n_estimators=300, subsample=1, score=-0.0406344971705335, total=  10.9s\n",
      "[CV] learning_rate=0.5, n_estimators=300, subsample=1 ................\n",
      "[CV]  learning_rate=0.5, n_estimators=300, subsample=1, score=-0.04014578474578806, total=  10.5s\n",
      "[CV] learning_rate=0.5, n_estimators=400, subsample=0.3 ..............\n",
      "[CV]  learning_rate=0.5, n_estimators=400, subsample=0.3, score=-0.04671057326893915, total=  14.1s\n",
      "[CV] learning_rate=0.5, n_estimators=400, subsample=0.3 ..............\n",
      "[CV]  learning_rate=0.5, n_estimators=400, subsample=0.3, score=-0.04675726760693094, total=  13.7s\n",
      "[CV] learning_rate=0.5, n_estimators=400, subsample=0.3 ..............\n",
      "[CV]  learning_rate=0.5, n_estimators=400, subsample=0.3, score=-0.04706557322364116, total=  15.0s\n",
      "[CV] learning_rate=0.5, n_estimators=400, subsample=0.5 ..............\n",
      "[CV]  learning_rate=0.5, n_estimators=400, subsample=0.5, score=-0.042917036957401906, total=  16.7s\n",
      "[CV] learning_rate=0.5, n_estimators=400, subsample=0.5 ..............\n",
      "[CV]  learning_rate=0.5, n_estimators=400, subsample=0.5, score=-0.044120658843430985, total=  16.6s\n",
      "[CV] learning_rate=0.5, n_estimators=400, subsample=0.5 ..............\n",
      "[CV]  learning_rate=0.5, n_estimators=400, subsample=0.5, score=-0.04340364362521439, total=  17.3s\n",
      "[CV] learning_rate=0.5, n_estimators=400, subsample=0.9 ..............\n",
      "[CV]  learning_rate=0.5, n_estimators=400, subsample=0.9, score=-0.04042342500150507, total=  15.4s\n",
      "[CV] learning_rate=0.5, n_estimators=400, subsample=0.9 ..............\n",
      "[CV]  learning_rate=0.5, n_estimators=400, subsample=0.9, score=-0.04149647139090758, total=  15.0s\n",
      "[CV] learning_rate=0.5, n_estimators=400, subsample=0.9 ..............\n",
      "[CV]  learning_rate=0.5, n_estimators=400, subsample=0.9, score=-0.04069339892720579, total=  15.5s\n",
      "[CV] learning_rate=0.5, n_estimators=400, subsample=1 ................\n",
      "[CV]  learning_rate=0.5, n_estimators=400, subsample=1, score=-0.0402851562252319, total=  14.6s\n",
      "[CV] learning_rate=0.5, n_estimators=400, subsample=1 ................\n",
      "[CV]  learning_rate=0.5, n_estimators=400, subsample=1, score=-0.04131390587911993, total=  14.2s\n",
      "[CV] learning_rate=0.5, n_estimators=400, subsample=1 ................\n",
      "[CV]  learning_rate=0.5, n_estimators=400, subsample=1, score=-0.04082510973428337, total=  14.6s\n",
      "[CV] learning_rate=0.5, n_estimators=500, subsample=0.3 ..............\n",
      "[CV]  learning_rate=0.5, n_estimators=500, subsample=0.3, score=-0.048197754322569744, total=  17.2s\n",
      "[CV] learning_rate=0.5, n_estimators=500, subsample=0.3 ..............\n",
      "[CV]  learning_rate=0.5, n_estimators=500, subsample=0.3, score=-0.04872178149296874, total=  17.3s\n",
      "[CV] learning_rate=0.5, n_estimators=500, subsample=0.3 ..............\n",
      "[CV]  learning_rate=0.5, n_estimators=500, subsample=0.3, score=-0.04870057207396326, total=  17.1s\n",
      "[CV] learning_rate=0.5, n_estimators=500, subsample=0.5 ..............\n",
      "[CV]  learning_rate=0.5, n_estimators=500, subsample=0.5, score=-0.043974671326194766, total=  20.3s\n",
      "[CV] learning_rate=0.5, n_estimators=500, subsample=0.5 ..............\n",
      "[CV]  learning_rate=0.5, n_estimators=500, subsample=0.5, score=-0.045078021723357085, total=  20.3s\n",
      "[CV] learning_rate=0.5, n_estimators=500, subsample=0.5 ..............\n",
      "[CV]  learning_rate=0.5, n_estimators=500, subsample=0.5, score=-0.04484235648814373, total=  21.2s\n",
      "[CV] learning_rate=0.5, n_estimators=500, subsample=0.9 ..............\n",
      "[CV]  learning_rate=0.5, n_estimators=500, subsample=0.9, score=-0.040846231030932975, total=  19.7s\n",
      "[CV] learning_rate=0.5, n_estimators=500, subsample=0.9 ..............\n",
      "[CV]  learning_rate=0.5, n_estimators=500, subsample=0.9, score=-0.04215020947916831, total=  19.4s\n",
      "[CV] learning_rate=0.5, n_estimators=500, subsample=0.9 ..............\n",
      "[CV]  learning_rate=0.5, n_estimators=500, subsample=0.9, score=-0.041529710068277215, total=  18.8s\n",
      "[CV] learning_rate=0.5, n_estimators=500, subsample=1 ................\n",
      "[CV]  learning_rate=0.5, n_estimators=500, subsample=1, score=-0.04082495732166642, total=  18.0s\n",
      "[CV] learning_rate=0.5, n_estimators=500, subsample=1 ................\n",
      "[CV]  learning_rate=0.5, n_estimators=500, subsample=1, score=-0.04198475071252874, total=  17.9s\n",
      "[CV] learning_rate=0.5, n_estimators=500, subsample=1 ................\n",
      "[CV]  learning_rate=0.5, n_estimators=500, subsample=1, score=-0.041391543116968514, total=  18.6s\n"
     ]
    },
    {
     "name": "stdout",
     "output_type": "stream",
     "text": [
      "[CV] learning_rate=0.9, n_estimators=200, subsample=0.3 ..............\n",
      "[CV]  learning_rate=0.9, n_estimators=200, subsample=0.3, score=-0.05642660379298668, total=   7.1s\n",
      "[CV] learning_rate=0.9, n_estimators=200, subsample=0.3 ..............\n",
      "[CV]  learning_rate=0.9, n_estimators=200, subsample=0.3, score=-0.06076806000671347, total=   6.8s\n",
      "[CV] learning_rate=0.9, n_estimators=200, subsample=0.3 ..............\n",
      "[CV]  learning_rate=0.9, n_estimators=200, subsample=0.3, score=-0.06252745885815401, total=   7.6s\n",
      "[CV] learning_rate=0.9, n_estimators=200, subsample=0.5 ..............\n",
      "[CV]  learning_rate=0.9, n_estimators=200, subsample=0.5, score=-0.046506480924872785, total=   8.9s\n",
      "[CV] learning_rate=0.9, n_estimators=200, subsample=0.5 ..............\n",
      "[CV]  learning_rate=0.9, n_estimators=200, subsample=0.5, score=-0.048291204061816376, total=   9.0s\n",
      "[CV] learning_rate=0.9, n_estimators=200, subsample=0.5 ..............\n",
      "[CV]  learning_rate=0.9, n_estimators=200, subsample=0.5, score=-0.04779248192528072, total=   8.8s\n",
      "[CV] learning_rate=0.9, n_estimators=200, subsample=0.9 ..............\n",
      "[CV]  learning_rate=0.9, n_estimators=200, subsample=0.9, score=-0.04280214486824554, total=   8.7s\n",
      "[CV] learning_rate=0.9, n_estimators=200, subsample=0.9 ..............\n",
      "[CV]  learning_rate=0.9, n_estimators=200, subsample=0.9, score=-0.0437174048441916, total=   7.7s\n",
      "[CV] learning_rate=0.9, n_estimators=200, subsample=0.9 ..............\n",
      "[CV]  learning_rate=0.9, n_estimators=200, subsample=0.9, score=-0.04355397535334688, total=   7.3s\n",
      "[CV] learning_rate=0.9, n_estimators=200, subsample=1 ................\n",
      "[CV]  learning_rate=0.9, n_estimators=200, subsample=1, score=-0.04227258450770763, total=   6.7s\n",
      "[CV] learning_rate=0.9, n_estimators=200, subsample=1 ................\n",
      "[CV]  learning_rate=0.9, n_estimators=200, subsample=1, score=-0.04318156832592666, total=   6.7s\n",
      "[CV] learning_rate=0.9, n_estimators=200, subsample=1 ................\n",
      "[CV]  learning_rate=0.9, n_estimators=200, subsample=1, score=-0.04224596083150393, total=   6.7s\n",
      "[CV] learning_rate=0.9, n_estimators=300, subsample=0.3 ..............\n",
      "[CV]  learning_rate=0.9, n_estimators=300, subsample=0.3, score=-0.06274448465119731, total=  12.0s\n",
      "[CV] learning_rate=0.9, n_estimators=300, subsample=0.3 ..............\n",
      "[CV]  learning_rate=0.9, n_estimators=300, subsample=0.3, score=-0.07622152829843885, total=  10.2s\n",
      "[CV] learning_rate=0.9, n_estimators=300, subsample=0.3 ..............\n",
      "[CV]  learning_rate=0.9, n_estimators=300, subsample=0.3, score=-0.07301206350169588, total=  10.3s\n",
      "[CV] learning_rate=0.9, n_estimators=300, subsample=0.5 ..............\n",
      "[CV]  learning_rate=0.9, n_estimators=300, subsample=0.5, score=-0.049986183883025455, total=  12.5s\n",
      "[CV] learning_rate=0.9, n_estimators=300, subsample=0.5 ..............\n",
      "[CV]  learning_rate=0.9, n_estimators=300, subsample=0.5, score=-0.05194079804508932, total=  12.2s\n",
      "[CV] learning_rate=0.9, n_estimators=300, subsample=0.5 ..............\n",
      "[CV]  learning_rate=0.9, n_estimators=300, subsample=0.5, score=-0.050224415600640906, total=  12.2s\n",
      "[CV] learning_rate=0.9, n_estimators=300, subsample=0.9 ..............\n",
      "[CV]  learning_rate=0.9, n_estimators=300, subsample=0.9, score=-0.04443469500895126, total=  11.7s\n",
      "[CV] learning_rate=0.9, n_estimators=300, subsample=0.9 ..............\n",
      "[CV]  learning_rate=0.9, n_estimators=300, subsample=0.9, score=-0.045554509712023426, total=  11.6s\n",
      "[CV] learning_rate=0.9, n_estimators=300, subsample=0.9 ..............\n",
      "[CV]  learning_rate=0.9, n_estimators=300, subsample=0.9, score=-0.04593496751354741, total=  11.5s\n",
      "[CV] learning_rate=0.9, n_estimators=300, subsample=1 ................\n",
      "[CV]  learning_rate=0.9, n_estimators=300, subsample=1, score=-0.04389936046012333, total=  10.8s\n",
      "[CV] learning_rate=0.9, n_estimators=300, subsample=1 ................\n",
      "[CV]  learning_rate=0.9, n_estimators=300, subsample=1, score=-0.04498298050754959, total=  10.9s\n",
      "[CV] learning_rate=0.9, n_estimators=300, subsample=1 ................\n",
      "[CV]  learning_rate=0.9, n_estimators=300, subsample=1, score=-0.0439027503409075, total=  10.8s\n",
      "[CV] learning_rate=0.9, n_estimators=400, subsample=0.3 ..............\n",
      "[CV]  learning_rate=0.9, n_estimators=400, subsample=0.3, score=-0.07461668925367262, total=  13.9s\n",
      "[CV] learning_rate=0.9, n_estimators=400, subsample=0.3 ..............\n",
      "[CV]  learning_rate=0.9, n_estimators=400, subsample=0.3, score=-0.09055428233626239, total=  13.8s\n",
      "[CV] learning_rate=0.9, n_estimators=400, subsample=0.3 ..............\n",
      "[CV]  learning_rate=0.9, n_estimators=400, subsample=0.3, score=-0.09932203101224876, total=  14.2s\n",
      "[CV] learning_rate=0.9, n_estimators=400, subsample=0.5 ..............\n",
      "[CV]  learning_rate=0.9, n_estimators=400, subsample=0.5, score=-0.052808313010399614, total=  16.8s\n",
      "[CV] learning_rate=0.9, n_estimators=400, subsample=0.5 ..............\n",
      "[CV]  learning_rate=0.9, n_estimators=400, subsample=0.5, score=-0.05434048839548438, total=  16.3s\n",
      "[CV] learning_rate=0.9, n_estimators=400, subsample=0.5 ..............\n",
      "[CV]  learning_rate=0.9, n_estimators=400, subsample=0.5, score=-0.05352371964163727, total=  16.2s\n",
      "[CV] learning_rate=0.9, n_estimators=400, subsample=0.9 ..............\n",
      "[CV]  learning_rate=0.9, n_estimators=400, subsample=0.9, score=-0.04623703602981201, total=  15.4s\n",
      "[CV] learning_rate=0.9, n_estimators=400, subsample=0.9 ..............\n",
      "[CV]  learning_rate=0.9, n_estimators=400, subsample=0.9, score=-0.04721814228377653, total=  15.9s\n",
      "[CV] learning_rate=0.9, n_estimators=400, subsample=0.9 ..............\n",
      "[CV]  learning_rate=0.9, n_estimators=400, subsample=0.9, score=-0.04715483452999842, total=  15.1s\n",
      "[CV] learning_rate=0.9, n_estimators=400, subsample=1 ................\n",
      "[CV]  learning_rate=0.9, n_estimators=400, subsample=1, score=-0.045617056837198966, total=  14.2s\n",
      "[CV] learning_rate=0.9, n_estimators=400, subsample=1 ................\n",
      "[CV]  learning_rate=0.9, n_estimators=400, subsample=1, score=-0.04643366774290421, total=  14.0s\n",
      "[CV] learning_rate=0.9, n_estimators=400, subsample=1 ................\n",
      "[CV]  learning_rate=0.9, n_estimators=400, subsample=1, score=-0.045453548572304506, total=  14.1s\n",
      "[CV] learning_rate=0.9, n_estimators=500, subsample=0.3 ..............\n",
      "[CV]  learning_rate=0.9, n_estimators=500, subsample=0.3, score=-0.09368057817650328, total=  17.5s\n",
      "[CV] learning_rate=0.9, n_estimators=500, subsample=0.3 ..............\n",
      "[CV]  learning_rate=0.9, n_estimators=500, subsample=0.3, score=-0.10377145708641326, total=  17.9s\n",
      "[CV] learning_rate=0.9, n_estimators=500, subsample=0.3 ..............\n",
      "[CV]  learning_rate=0.9, n_estimators=500, subsample=0.3, score=-0.11163913709790779, total=  17.5s\n",
      "[CV] learning_rate=0.9, n_estimators=500, subsample=0.5 ..............\n",
      "[CV]  learning_rate=0.9, n_estimators=500, subsample=0.5, score=-0.05537201160679977, total=  20.6s\n",
      "[CV] learning_rate=0.9, n_estimators=500, subsample=0.5 ..............\n",
      "[CV]  learning_rate=0.9, n_estimators=500, subsample=0.5, score=-0.056801667163933464, total=  20.7s\n",
      "[CV] learning_rate=0.9, n_estimators=500, subsample=0.5 ..............\n",
      "[CV]  learning_rate=0.9, n_estimators=500, subsample=0.5, score=-0.056236844460753124, total=  20.7s\n",
      "[CV] learning_rate=0.9, n_estimators=500, subsample=0.9 ..............\n",
      "[CV]  learning_rate=0.9, n_estimators=500, subsample=0.9, score=-0.047522653068801636, total=  19.2s\n",
      "[CV] learning_rate=0.9, n_estimators=500, subsample=0.9 ..............\n",
      "[CV]  learning_rate=0.9, n_estimators=500, subsample=0.9, score=-0.04892989971003661, total=  19.2s\n",
      "[CV] learning_rate=0.9, n_estimators=500, subsample=0.9 ..............\n",
      "[CV]  learning_rate=0.9, n_estimators=500, subsample=0.9, score=-0.048486042374629466, total=  19.3s\n",
      "[CV] learning_rate=0.9, n_estimators=500, subsample=1 ................\n",
      "[CV]  learning_rate=0.9, n_estimators=500, subsample=1, score=-0.04681856189384076, total=  17.8s\n",
      "[CV] learning_rate=0.9, n_estimators=500, subsample=1 ................\n",
      "[CV]  learning_rate=0.9, n_estimators=500, subsample=1, score=-0.0476018898469319, total=  17.7s\n",
      "[CV] learning_rate=0.9, n_estimators=500, subsample=1 ................\n",
      "[CV]  learning_rate=0.9, n_estimators=500, subsample=1, score=-0.04673028048502235, total=  17.6s\n"
     ]
    },
    {
     "name": "stderr",
     "output_type": "stream",
     "text": [
      "[Parallel(n_jobs=1)]: Done 288 out of 288 | elapsed: 94.9min finished\n"
     ]
    },
    {
     "data": {
      "text/plain": [
       "GridSearchCV(cv=None, error_score='raise',\n",
       "       estimator=XGBRegressor(base_score=0.5, booster='gbtree', colsample_bylevel=1,\n",
       "       colsample_bytree=1, gamma=0, learning_rate=0.1, max_delta_step=0,\n",
       "       max_depth=3, min_child_weight=1, missing=None, n_estimators=100,\n",
       "       n_jobs=1, nthread=None, objective='reg:linear', random_state=0,\n",
       "       reg_alpha=0, reg_lambda=1, scale_pos_weight=1, seed=None,\n",
       "       silent=True, subsample=1),\n",
       "       fit_params=None, iid=True, n_jobs=1,\n",
       "       param_grid={'learning_rate': [0.01, 0.09, 0.1, 0.2, 0.5, 0.9], 'n_estimators': [200, 300, 400, 500], 'subsample': [0.3, 0.5, 0.9, 1]},\n",
       "       pre_dispatch='2*n_jobs', refit=True, return_train_score=True,\n",
       "       scoring='neg_mean_squared_error', verbose=3)"
      ]
     },
     "execution_count": 35,
     "metadata": {},
     "output_type": "execute_result"
    }
   ],
   "source": [
    "grid_mse.fit(X_train,y_train)"
   ]
  },
  {
   "cell_type": "code",
   "execution_count": 36,
   "metadata": {},
   "outputs": [
    {
     "data": {
      "text/plain": [
       "{'learning_rate': 0.09, 'n_estimators': 200, 'subsample': 1}"
      ]
     },
     "execution_count": 36,
     "metadata": {},
     "output_type": "execute_result"
    }
   ],
   "source": [
    "grid_mse.best_params_"
   ]
  },
  {
   "cell_type": "code",
   "execution_count": 37,
   "metadata": {
    "collapsed": true
   },
   "outputs": [],
   "source": [
    "preds=grid_mse.predict(X_test)"
   ]
  },
  {
   "cell_type": "code",
   "execution_count": 38,
   "metadata": {},
   "outputs": [
    {
     "name": "stdout",
     "output_type": "stream",
     "text": [
      "Mean Squared Error (MSE):       0.037275719683514515\n",
      "Root Mean Squared Error (RMSE): 0.19306920956878265\n",
      "Mean Absolute Error (MAE):      0.13301938358256804\n"
     ]
    }
   ],
   "source": [
    "# MSE : Mean Squared Error\n",
    "mse=mean_squared_error(y_test,preds)\n",
    "\n",
    "# RMSE : Root Mean Squared Error\n",
    "rmse=math.sqrt(mean_squared_error(y_test,preds))\n",
    "\n",
    "# MAE : Mean Absolute Error\n",
    "mae=mean_absolute_error(y_test,preds)\n",
    "\n",
    "print('Mean Squared Error (MSE):      ',mse)\n",
    "print('Root Mean Squared Error (RMSE):',rmse)\n",
    "print('Mean Absolute Error (MAE):     ',mae)"
   ]
  },
  {
   "cell_type": "code",
   "execution_count": null,
   "metadata": {
    "collapsed": true
   },
   "outputs": [],
   "source": [
    "For :\n",
    "    'learning_rate': [0.01,0.1,0.5,0.9], \n",
    "    'n_estimators': [200], \n",
    "    'subsample': [0.3, 0.5, 0.9]\n",
    "\n",
    "Results\n",
    "Mean Squared Error (MSE):       0.03727120568638051\n",
    "Root Mean Squared Error (RMSE): 0.1930575191138136\n",
    "Mean Absolute Error (MAE):      0.13302424716098063"
   ]
  },
  {
   "cell_type": "code",
   "execution_count": null,
   "metadata": {
    "collapsed": true
   },
   "outputs": [],
   "source": [
    "For :\n",
    "    'learning_rate': [0.01,0.09,0.1,0.2,0.5,0.9], \n",
    "    'n_estimators': [200,300,400,500], \n",
    "    'subsample': [0.3, 0.5, 0.9, 1]\n",
    "    \n",
    "{'learning_rate': 0.09, 'n_estimators': 200, 'subsample': 1}\n",
    "\n",
    "Results\n",
    "Mean Squared Error (MSE):       0.037275719683514515\n",
    "Root Mean Squared Error (RMSE): 0.19306920956878265\n",
    "Mean Absolute Error (MAE):      0.13301938358256804\n",
    "    "
   ]
  },
  {
   "cell_type": "code",
   "execution_count": null,
   "metadata": {
    "collapsed": true
   },
   "outputs": [],
   "source": [
    "For :\n",
    "    'learning_rate': 0.1\n",
    "    'n_estimators': 300\n",
    "    'subsample':1\n",
    "        \n",
    "Results\n",
    "Mean Squared Error (MSE):       0.03729544118492501\n",
    "Root Mean Squared Error (RMSE): 0.19312027647278524\n",
    "Mean Absolute Error (MAE):      0.13301010700640992\n",
    "    "
   ]
  },
  {
   "cell_type": "code",
   "execution_count": 43,
   "metadata": {
    "collapsed": true
   },
   "outputs": [],
   "source": [
    "gbm = xgb.XGBRegressor(learning_rate=0.09, n_estimators=200)"
   ]
  },
  {
   "cell_type": "code",
   "execution_count": 44,
   "metadata": {},
   "outputs": [
    {
     "data": {
      "text/plain": [
       "XGBRegressor(base_score=0.5, booster='gbtree', colsample_bylevel=1,\n",
       "       colsample_bytree=1, gamma=0, learning_rate=0.09, max_delta_step=0,\n",
       "       max_depth=3, min_child_weight=1, missing=None, n_estimators=200,\n",
       "       n_jobs=1, nthread=None, objective='reg:linear', random_state=0,\n",
       "       reg_alpha=0, reg_lambda=1, scale_pos_weight=1, seed=None,\n",
       "       silent=True, subsample=1)"
      ]
     },
     "execution_count": 44,
     "metadata": {},
     "output_type": "execute_result"
    }
   ],
   "source": [
    "gbm.fit(X_train,y_train)"
   ]
  },
  {
   "cell_type": "code",
   "execution_count": 45,
   "metadata": {
    "collapsed": true
   },
   "outputs": [],
   "source": [
    "preds2 = gbm.predict(X_test)"
   ]
  },
  {
   "cell_type": "code",
   "execution_count": 46,
   "metadata": {},
   "outputs": [
    {
     "name": "stdout",
     "output_type": "stream",
     "text": [
      "Mean Squared Error (MSE):       0.037275719683514515\n",
      "Root Mean Squared Error (RMSE): 0.19306920956878265\n",
      "Mean Absolute Error (MAE):      0.13301938358256804\n"
     ]
    }
   ],
   "source": [
    "# MSE : Mean Squared Error\n",
    "mse=mean_squared_error(y_test,preds2)\n",
    "\n",
    "# RMSE : Root Mean Squared Error\n",
    "rmse=math.sqrt(mean_squared_error(y_test,preds2))\n",
    "\n",
    "# MAE : Mean Absolute Error\n",
    "mae=mean_absolute_error(y_test,preds2)\n",
    "\n",
    "print('Mean Squared Error (MSE):      ',mse)\n",
    "print('Root Mean Squared Error (RMSE):',rmse)\n",
    "print('Mean Absolute Error (MAE):     ',mae)"
   ]
  },
  {
   "cell_type": "code",
   "execution_count": null,
   "metadata": {
    "collapsed": true
   },
   "outputs": [],
   "source": []
  },
  {
   "cell_type": "code",
   "execution_count": null,
   "metadata": {
    "collapsed": true
   },
   "outputs": [],
   "source": [
    "#EXPERIMENT : RANDOMIZED SEARCH based on the params of Grid Search\n"
   ]
  },
  {
   "cell_type": "code",
   "execution_count": null,
   "metadata": {
    "collapsed": true
   },
   "outputs": [],
   "source": [
    "gbm_param_grid = {\n",
    "...: 'learning_rate': np.arange(0.05,1.05,.05),\n",
    "...: 'n_estimators': [200],\n",
    "...: 'subsample': np.arange(0.05,1.05,.05)}"
   ]
  },
  {
   "cell_type": "code",
   "execution_count": null,
   "metadata": {
    "collapsed": true
   },
   "outputs": [],
   "source": [
    "gbm_param_grid = {\n",
    "    'learning_rate': np.arange(0.07,0.11,0.005),\n",
    "    'n_estimators': [200,225,250,275,300]\n",
    "}"
   ]
  },
  {
   "cell_type": "code",
   "execution_count": 59,
   "metadata": {},
   "outputs": [
    {
     "data": {
      "text/plain": [
       "array([0.7 , 0.75, 0.8 , 0.85, 0.9 , 0.95, 1.  , 1.05])"
      ]
     },
     "execution_count": 59,
     "metadata": {},
     "output_type": "execute_result"
    }
   ],
   "source": [
    "np.arange(0.7,1.05,0.05)"
   ]
  },
  {
   "cell_type": "code",
   "execution_count": null,
   "metadata": {
    "collapsed": true
   },
   "outputs": [],
   "source": []
  }
 ],
 "metadata": {
  "kernelspec": {
   "display_name": "Python 3",
   "language": "python",
   "name": "python3"
  },
  "language_info": {
   "codemirror_mode": {
    "name": "ipython",
    "version": 3
   },
   "file_extension": ".py",
   "mimetype": "text/x-python",
   "name": "python",
   "nbconvert_exporter": "python",
   "pygments_lexer": "ipython3",
   "version": "3.6.1"
  }
 },
 "nbformat": 4,
 "nbformat_minor": 2
}
