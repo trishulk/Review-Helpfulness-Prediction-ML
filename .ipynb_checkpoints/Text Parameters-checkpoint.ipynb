{
 "cells": [
  {
   "cell_type": "code",
   "execution_count": 1,
   "metadata": {
    "collapsed": true
   },
   "outputs": [],
   "source": [
    "import pandas as pd\n",
    "import seaborn as sns\n",
    "import matplotlib.pyplot as plt\n",
    "%matplotlib inline\n",
    "import numpy as np\n",
    "import gzip\n",
    "\n",
    "# import nltk\n",
    "# from nltk.corpus import stopwords \n",
    "# from nltk.tokenize import word_tokenize, sent_tokenize \n",
    "# from nltk.stem import PorterStemmer\n",
    "# from nltk.stem import WordNetLemmatizer\n",
    "# import string\n",
    "\n",
    "# import dask.dataframe as dd\n",
    "# from dask.multiprocessing import get\n",
    "\n",
    "import swifter\n",
    "import textstat\n",
    "from textstat import flesch_reading_ease"
   ]
  },
  {
   "cell_type": "code",
   "execution_count": 3,
   "metadata": {
    "collapsed": true
   },
   "outputs": [],
   "source": [
    "df = pd.read_csv('Amazon_Latest.csv')"
   ]
  },
  {
   "cell_type": "code",
   "execution_count": 4,
   "metadata": {},
   "outputs": [
    {
     "data": {
      "text/html": [
       "<div>\n",
       "<style scoped>\n",
       "    .dataframe tbody tr th:only-of-type {\n",
       "        vertical-align: middle;\n",
       "    }\n",
       "\n",
       "    .dataframe tbody tr th {\n",
       "        vertical-align: top;\n",
       "    }\n",
       "\n",
       "    .dataframe thead th {\n",
       "        text-align: right;\n",
       "    }\n",
       "</style>\n",
       "<table border=\"1\" class=\"dataframe\">\n",
       "  <thead>\n",
       "    <tr style=\"text-align: right;\">\n",
       "      <th></th>\n",
       "      <th>reviewerID</th>\n",
       "      <th>asin</th>\n",
       "      <th>reviewerName</th>\n",
       "      <th>helpful</th>\n",
       "      <th>reviewText</th>\n",
       "      <th>overall</th>\n",
       "      <th>summary</th>\n",
       "      <th>unixReviewTime</th>\n",
       "      <th>reviewTime</th>\n",
       "      <th>helpfulness_score</th>\n",
       "      <th>user_deviation</th>\n",
       "      <th>review_delay</th>\n",
       "      <th>stem_words</th>\n",
       "      <th>lem_words</th>\n",
       "    </tr>\n",
       "  </thead>\n",
       "  <tbody>\n",
       "    <tr>\n",
       "      <th>0</th>\n",
       "      <td>AMO214LNFCEI4</td>\n",
       "      <td>0528881469</td>\n",
       "      <td>Amazon Customer</td>\n",
       "      <td>[12, 15]</td>\n",
       "      <td>I'm a professional OTR truck driver, and I bou...</td>\n",
       "      <td>1.0</td>\n",
       "      <td>Very Disappointed</td>\n",
       "      <td>1290643200</td>\n",
       "      <td>11 25, 2010</td>\n",
       "      <td>0.800000</td>\n",
       "      <td>1.399189</td>\n",
       "      <td>6652800</td>\n",
       "      <td>['im', 'profession', 'otr', 'truck', 'driver',...</td>\n",
       "      <td>['im', 'professional', 'otr', 'truck', 'driver...</td>\n",
       "    </tr>\n",
       "    <tr>\n",
       "      <th>1</th>\n",
       "      <td>A3N7T0DY83Y4IG</td>\n",
       "      <td>0528881469</td>\n",
       "      <td>C. A. Freeman</td>\n",
       "      <td>[43, 45]</td>\n",
       "      <td>Well, what can I say.  I've had this unit in m...</td>\n",
       "      <td>3.0</td>\n",
       "      <td>1st impression</td>\n",
       "      <td>1283990400</td>\n",
       "      <td>09 9, 2010</td>\n",
       "      <td>0.955556</td>\n",
       "      <td>0.624437</td>\n",
       "      <td>0</td>\n",
       "      <td>['well', 'say', 'ive', 'unit', 'truck', 'four'...</td>\n",
       "      <td>['well', 'say', 'ive', 'unit', 'truck', 'four'...</td>\n",
       "    </tr>\n",
       "    <tr>\n",
       "      <th>2</th>\n",
       "      <td>A1H8PY3QHMQQA0</td>\n",
       "      <td>0528881469</td>\n",
       "      <td>Dave M. Shaw \"mack dave\"</td>\n",
       "      <td>[9, 10]</td>\n",
       "      <td>Not going to write a long review, even thought...</td>\n",
       "      <td>2.0</td>\n",
       "      <td>Great grafics, POOR GPS</td>\n",
       "      <td>1290556800</td>\n",
       "      <td>11 24, 2010</td>\n",
       "      <td>0.900000</td>\n",
       "      <td>0.510375</td>\n",
       "      <td>6566400</td>\n",
       "      <td>['go', 'write', 'long', 'review', 'even', 'tho...</td>\n",
       "      <td>['going', 'write', 'long', 'review', 'even', '...</td>\n",
       "    </tr>\n",
       "    <tr>\n",
       "      <th>3</th>\n",
       "      <td>A3QH8VQDE7HZCR</td>\n",
       "      <td>0972683275</td>\n",
       "      <td>costaricachris</td>\n",
       "      <td>[15, 19]</td>\n",
       "      <td>Quality was excellent. Instructions were clear...</td>\n",
       "      <td>5.0</td>\n",
       "      <td>Real value for the money</td>\n",
       "      <td>1286236800</td>\n",
       "      <td>10 5, 2010</td>\n",
       "      <td>0.789474</td>\n",
       "      <td>0.442171</td>\n",
       "      <td>2678400</td>\n",
       "      <td>['qualiti', 'excel', 'instruct', 'clear', 'cle...</td>\n",
       "      <td>['quality', 'excellent', 'instruction', 'clear...</td>\n",
       "    </tr>\n",
       "    <tr>\n",
       "      <th>4</th>\n",
       "      <td>A38FGQVJM18OWV</td>\n",
       "      <td>0972683275</td>\n",
       "      <td>George S. Mitchell \"gsmitchell\"</td>\n",
       "      <td>[8, 18]</td>\n",
       "      <td>I checked around Amazon as well as some other ...</td>\n",
       "      <td>1.0</td>\n",
       "      <td>What a piece of junk!</td>\n",
       "      <td>1291161600</td>\n",
       "      <td>12 1, 2010</td>\n",
       "      <td>0.444444</td>\n",
       "      <td>1.616074</td>\n",
       "      <td>7603200</td>\n",
       "      <td>['check', 'around', 'amazon', 'well', 'site', ...</td>\n",
       "      <td>['checked', 'around', 'amazon', 'well', 'site'...</td>\n",
       "    </tr>\n",
       "  </tbody>\n",
       "</table>\n",
       "</div>"
      ],
      "text/plain": [
       "       reviewerID        asin                     reviewerName   helpful  \\\n",
       "0   AMO214LNFCEI4  0528881469                  Amazon Customer  [12, 15]   \n",
       "1  A3N7T0DY83Y4IG  0528881469                    C. A. Freeman  [43, 45]   \n",
       "2  A1H8PY3QHMQQA0  0528881469         Dave M. Shaw \"mack dave\"   [9, 10]   \n",
       "3  A3QH8VQDE7HZCR  0972683275                   costaricachris  [15, 19]   \n",
       "4  A38FGQVJM18OWV  0972683275  George S. Mitchell \"gsmitchell\"   [8, 18]   \n",
       "\n",
       "                                          reviewText  overall  \\\n",
       "0  I'm a professional OTR truck driver, and I bou...      1.0   \n",
       "1  Well, what can I say.  I've had this unit in m...      3.0   \n",
       "2  Not going to write a long review, even thought...      2.0   \n",
       "3  Quality was excellent. Instructions were clear...      5.0   \n",
       "4  I checked around Amazon as well as some other ...      1.0   \n",
       "\n",
       "                    summary  unixReviewTime   reviewTime  helpfulness_score  \\\n",
       "0         Very Disappointed      1290643200  11 25, 2010           0.800000   \n",
       "1            1st impression      1283990400   09 9, 2010           0.955556   \n",
       "2   Great grafics, POOR GPS      1290556800  11 24, 2010           0.900000   \n",
       "3  Real value for the money      1286236800   10 5, 2010           0.789474   \n",
       "4     What a piece of junk!      1291161600   12 1, 2010           0.444444   \n",
       "\n",
       "   user_deviation  review_delay  \\\n",
       "0        1.399189       6652800   \n",
       "1        0.624437             0   \n",
       "2        0.510375       6566400   \n",
       "3        0.442171       2678400   \n",
       "4        1.616074       7603200   \n",
       "\n",
       "                                          stem_words  \\\n",
       "0  ['im', 'profession', 'otr', 'truck', 'driver',...   \n",
       "1  ['well', 'say', 'ive', 'unit', 'truck', 'four'...   \n",
       "2  ['go', 'write', 'long', 'review', 'even', 'tho...   \n",
       "3  ['qualiti', 'excel', 'instruct', 'clear', 'cle...   \n",
       "4  ['check', 'around', 'amazon', 'well', 'site', ...   \n",
       "\n",
       "                                           lem_words  \n",
       "0  ['im', 'professional', 'otr', 'truck', 'driver...  \n",
       "1  ['well', 'say', 'ive', 'unit', 'truck', 'four'...  \n",
       "2  ['going', 'write', 'long', 'review', 'even', '...  \n",
       "3  ['quality', 'excellent', 'instruction', 'clear...  \n",
       "4  ['checked', 'around', 'amazon', 'well', 'site'...  "
      ]
     },
     "execution_count": 4,
     "metadata": {},
     "output_type": "execute_result"
    }
   ],
   "source": [
    "df.head()"
   ]
  },
  {
   "cell_type": "code",
   "execution_count": 5,
   "metadata": {},
   "outputs": [
    {
     "data": {
      "text/plain": [
       "81275"
      ]
     },
     "execution_count": 5,
     "metadata": {},
     "output_type": "execute_result"
    }
   ],
   "source": [
    "len(df)"
   ]
  },
  {
   "cell_type": "code",
   "execution_count": 10,
   "metadata": {},
   "outputs": [
    {
     "name": "stderr",
     "output_type": "stream",
     "text": [
      "Pandas Apply: 100%|█████████████████████████████████████████████████████████████████████████████████████████████████████████████| 81275/81275 [06:16<00:00, 215.75it/s]\n"
     ]
    }
   ],
   "source": [
    "df['flesch_reading_ease']= df['reviewText'].swifter.apply(textstat.flesch_reading_ease)"
   ]
  },
  {
   "cell_type": "code",
   "execution_count": 11,
   "metadata": {},
   "outputs": [
    {
     "data": {
      "text/html": [
       "<div>\n",
       "<style scoped>\n",
       "    .dataframe tbody tr th:only-of-type {\n",
       "        vertical-align: middle;\n",
       "    }\n",
       "\n",
       "    .dataframe tbody tr th {\n",
       "        vertical-align: top;\n",
       "    }\n",
       "\n",
       "    .dataframe thead th {\n",
       "        text-align: right;\n",
       "    }\n",
       "</style>\n",
       "<table border=\"1\" class=\"dataframe\">\n",
       "  <thead>\n",
       "    <tr style=\"text-align: right;\">\n",
       "      <th></th>\n",
       "      <th>reviewerID</th>\n",
       "      <th>asin</th>\n",
       "      <th>reviewerName</th>\n",
       "      <th>helpful</th>\n",
       "      <th>reviewText</th>\n",
       "      <th>overall</th>\n",
       "      <th>summary</th>\n",
       "      <th>unixReviewTime</th>\n",
       "      <th>reviewTime</th>\n",
       "      <th>helpfulness_score</th>\n",
       "      <th>user_deviation</th>\n",
       "      <th>review_delay</th>\n",
       "      <th>stem_words</th>\n",
       "      <th>lem_words</th>\n",
       "      <th>flesch_reading_ease</th>\n",
       "    </tr>\n",
       "  </thead>\n",
       "  <tbody>\n",
       "    <tr>\n",
       "      <th>0</th>\n",
       "      <td>AMO214LNFCEI4</td>\n",
       "      <td>0528881469</td>\n",
       "      <td>Amazon Customer</td>\n",
       "      <td>[12, 15]</td>\n",
       "      <td>I'm a professional OTR truck driver, and I bou...</td>\n",
       "      <td>1.0</td>\n",
       "      <td>Very Disappointed</td>\n",
       "      <td>1290643200</td>\n",
       "      <td>11 25, 2010</td>\n",
       "      <td>0.800000</td>\n",
       "      <td>1.399189</td>\n",
       "      <td>6652800</td>\n",
       "      <td>['im', 'profession', 'otr', 'truck', 'driver',...</td>\n",
       "      <td>['im', 'professional', 'otr', 'truck', 'driver...</td>\n",
       "      <td>-336.56</td>\n",
       "    </tr>\n",
       "    <tr>\n",
       "      <th>1</th>\n",
       "      <td>A3N7T0DY83Y4IG</td>\n",
       "      <td>0528881469</td>\n",
       "      <td>C. A. Freeman</td>\n",
       "      <td>[43, 45]</td>\n",
       "      <td>Well, what can I say.  I've had this unit in m...</td>\n",
       "      <td>3.0</td>\n",
       "      <td>1st impression</td>\n",
       "      <td>1283990400</td>\n",
       "      <td>09 9, 2010</td>\n",
       "      <td>0.955556</td>\n",
       "      <td>0.624437</td>\n",
       "      <td>0</td>\n",
       "      <td>['well', 'say', 'ive', 'unit', 'truck', 'four'...</td>\n",
       "      <td>['well', 'say', 'ive', 'unit', 'truck', 'four'...</td>\n",
       "      <td>-340.96</td>\n",
       "    </tr>\n",
       "    <tr>\n",
       "      <th>2</th>\n",
       "      <td>A1H8PY3QHMQQA0</td>\n",
       "      <td>0528881469</td>\n",
       "      <td>Dave M. Shaw \"mack dave\"</td>\n",
       "      <td>[9, 10]</td>\n",
       "      <td>Not going to write a long review, even thought...</td>\n",
       "      <td>2.0</td>\n",
       "      <td>Great grafics, POOR GPS</td>\n",
       "      <td>1290556800</td>\n",
       "      <td>11 24, 2010</td>\n",
       "      <td>0.900000</td>\n",
       "      <td>0.510375</td>\n",
       "      <td>6566400</td>\n",
       "      <td>['go', 'write', 'long', 'review', 'even', 'tho...</td>\n",
       "      <td>['going', 'write', 'long', 'review', 'even', '...</td>\n",
       "      <td>85.52</td>\n",
       "    </tr>\n",
       "    <tr>\n",
       "      <th>3</th>\n",
       "      <td>A3QH8VQDE7HZCR</td>\n",
       "      <td>0972683275</td>\n",
       "      <td>costaricachris</td>\n",
       "      <td>[15, 19]</td>\n",
       "      <td>Quality was excellent. Instructions were clear...</td>\n",
       "      <td>5.0</td>\n",
       "      <td>Real value for the money</td>\n",
       "      <td>1286236800</td>\n",
       "      <td>10 5, 2010</td>\n",
       "      <td>0.789474</td>\n",
       "      <td>0.442171</td>\n",
       "      <td>2678400</td>\n",
       "      <td>['qualiti', 'excel', 'instruct', 'clear', 'cle...</td>\n",
       "      <td>['quality', 'excellent', 'instruction', 'clear...</td>\n",
       "      <td>66.94</td>\n",
       "    </tr>\n",
       "    <tr>\n",
       "      <th>4</th>\n",
       "      <td>A38FGQVJM18OWV</td>\n",
       "      <td>0972683275</td>\n",
       "      <td>George S. Mitchell \"gsmitchell\"</td>\n",
       "      <td>[8, 18]</td>\n",
       "      <td>I checked around Amazon as well as some other ...</td>\n",
       "      <td>1.0</td>\n",
       "      <td>What a piece of junk!</td>\n",
       "      <td>1291161600</td>\n",
       "      <td>12 1, 2010</td>\n",
       "      <td>0.444444</td>\n",
       "      <td>1.616074</td>\n",
       "      <td>7603200</td>\n",
       "      <td>['check', 'around', 'amazon', 'well', 'site', ...</td>\n",
       "      <td>['checked', 'around', 'amazon', 'well', 'site'...</td>\n",
       "      <td>-43.22</td>\n",
       "    </tr>\n",
       "  </tbody>\n",
       "</table>\n",
       "</div>"
      ],
      "text/plain": [
       "       reviewerID        asin                     reviewerName   helpful  \\\n",
       "0   AMO214LNFCEI4  0528881469                  Amazon Customer  [12, 15]   \n",
       "1  A3N7T0DY83Y4IG  0528881469                    C. A. Freeman  [43, 45]   \n",
       "2  A1H8PY3QHMQQA0  0528881469         Dave M. Shaw \"mack dave\"   [9, 10]   \n",
       "3  A3QH8VQDE7HZCR  0972683275                   costaricachris  [15, 19]   \n",
       "4  A38FGQVJM18OWV  0972683275  George S. Mitchell \"gsmitchell\"   [8, 18]   \n",
       "\n",
       "                                          reviewText  overall  \\\n",
       "0  I'm a professional OTR truck driver, and I bou...      1.0   \n",
       "1  Well, what can I say.  I've had this unit in m...      3.0   \n",
       "2  Not going to write a long review, even thought...      2.0   \n",
       "3  Quality was excellent. Instructions were clear...      5.0   \n",
       "4  I checked around Amazon as well as some other ...      1.0   \n",
       "\n",
       "                    summary  unixReviewTime   reviewTime  helpfulness_score  \\\n",
       "0         Very Disappointed      1290643200  11 25, 2010           0.800000   \n",
       "1            1st impression      1283990400   09 9, 2010           0.955556   \n",
       "2   Great grafics, POOR GPS      1290556800  11 24, 2010           0.900000   \n",
       "3  Real value for the money      1286236800   10 5, 2010           0.789474   \n",
       "4     What a piece of junk!      1291161600   12 1, 2010           0.444444   \n",
       "\n",
       "   user_deviation  review_delay  \\\n",
       "0        1.399189       6652800   \n",
       "1        0.624437             0   \n",
       "2        0.510375       6566400   \n",
       "3        0.442171       2678400   \n",
       "4        1.616074       7603200   \n",
       "\n",
       "                                          stem_words  \\\n",
       "0  ['im', 'profession', 'otr', 'truck', 'driver',...   \n",
       "1  ['well', 'say', 'ive', 'unit', 'truck', 'four'...   \n",
       "2  ['go', 'write', 'long', 'review', 'even', 'tho...   \n",
       "3  ['qualiti', 'excel', 'instruct', 'clear', 'cle...   \n",
       "4  ['check', 'around', 'amazon', 'well', 'site', ...   \n",
       "\n",
       "                                           lem_words  flesch_reading_ease  \n",
       "0  ['im', 'professional', 'otr', 'truck', 'driver...              -336.56  \n",
       "1  ['well', 'say', 'ive', 'unit', 'truck', 'four'...              -340.96  \n",
       "2  ['going', 'write', 'long', 'review', 'even', '...                85.52  \n",
       "3  ['quality', 'excellent', 'instruction', 'clear...                66.94  \n",
       "4  ['checked', 'around', 'amazon', 'well', 'site'...               -43.22  "
      ]
     },
     "execution_count": 11,
     "metadata": {},
     "output_type": "execute_result"
    }
   ],
   "source": [
    "df.head()"
   ]
  },
  {
   "cell_type": "code",
   "execution_count": 12,
   "metadata": {},
   "outputs": [
    {
     "data": {
      "text/plain": [
       "-0.11195802052156742"
      ]
     },
     "execution_count": 12,
     "metadata": {},
     "output_type": "execute_result"
    }
   ],
   "source": [
    "df['helpfulness_score'].corr(df['flesch_reading_ease'])"
   ]
  },
  {
   "cell_type": "code",
   "execution_count": 13,
   "metadata": {
    "collapsed": true
   },
   "outputs": [],
   "source": [
    "df2 = df[['reviewText','flesch_reading_ease','helpfulness_score']]"
   ]
  },
  {
   "cell_type": "code",
   "execution_count": 14,
   "metadata": {},
   "outputs": [
    {
     "data": {
      "text/html": [
       "<div>\n",
       "<style scoped>\n",
       "    .dataframe tbody tr th:only-of-type {\n",
       "        vertical-align: middle;\n",
       "    }\n",
       "\n",
       "    .dataframe tbody tr th {\n",
       "        vertical-align: top;\n",
       "    }\n",
       "\n",
       "    .dataframe thead th {\n",
       "        text-align: right;\n",
       "    }\n",
       "</style>\n",
       "<table border=\"1\" class=\"dataframe\">\n",
       "  <thead>\n",
       "    <tr style=\"text-align: right;\">\n",
       "      <th></th>\n",
       "      <th>reviewText</th>\n",
       "      <th>flesch_reading_ease</th>\n",
       "      <th>helpfulness_score</th>\n",
       "    </tr>\n",
       "  </thead>\n",
       "  <tbody>\n",
       "    <tr>\n",
       "      <th>0</th>\n",
       "      <td>I'm a professional OTR truck driver, and I bou...</td>\n",
       "      <td>-336.56</td>\n",
       "      <td>0.800000</td>\n",
       "    </tr>\n",
       "    <tr>\n",
       "      <th>1</th>\n",
       "      <td>Well, what can I say.  I've had this unit in m...</td>\n",
       "      <td>-340.96</td>\n",
       "      <td>0.955556</td>\n",
       "    </tr>\n",
       "    <tr>\n",
       "      <th>2</th>\n",
       "      <td>Not going to write a long review, even thought...</td>\n",
       "      <td>85.52</td>\n",
       "      <td>0.900000</td>\n",
       "    </tr>\n",
       "    <tr>\n",
       "      <th>3</th>\n",
       "      <td>Quality was excellent. Instructions were clear...</td>\n",
       "      <td>66.94</td>\n",
       "      <td>0.789474</td>\n",
       "    </tr>\n",
       "    <tr>\n",
       "      <th>4</th>\n",
       "      <td>I checked around Amazon as well as some other ...</td>\n",
       "      <td>-43.22</td>\n",
       "      <td>0.444444</td>\n",
       "    </tr>\n",
       "  </tbody>\n",
       "</table>\n",
       "</div>"
      ],
      "text/plain": [
       "                                          reviewText  flesch_reading_ease  \\\n",
       "0  I'm a professional OTR truck driver, and I bou...              -336.56   \n",
       "1  Well, what can I say.  I've had this unit in m...              -340.96   \n",
       "2  Not going to write a long review, even thought...                85.52   \n",
       "3  Quality was excellent. Instructions were clear...                66.94   \n",
       "4  I checked around Amazon as well as some other ...               -43.22   \n",
       "\n",
       "   helpfulness_score  \n",
       "0           0.800000  \n",
       "1           0.955556  \n",
       "2           0.900000  \n",
       "3           0.789474  \n",
       "4           0.444444  "
      ]
     },
     "execution_count": 14,
     "metadata": {},
     "output_type": "execute_result"
    }
   ],
   "source": [
    "df2.head()"
   ]
  },
  {
   "cell_type": "code",
   "execution_count": null,
   "metadata": {
    "collapsed": true
   },
   "outputs": [],
   "source": []
  },
  {
   "cell_type": "code",
   "execution_count": 15,
   "metadata": {},
   "outputs": [
    {
     "name": "stderr",
     "output_type": "stream",
     "text": [
      "Pandas Apply: 100%|█████████████████████████████████████████████████████████████████████████████████████████████████████████████| 81275/81275 [04:37<00:00, 293.30it/s]\n",
      "C:\\Users\\Trishul\\Anaconda3\\lib\\site-packages\\ipykernel_launcher.py:1: SettingWithCopyWarning: \n",
      "A value is trying to be set on a copy of a slice from a DataFrame.\n",
      "Try using .loc[row_indexer,col_indexer] = value instead\n",
      "\n",
      "See the caveats in the documentation: http://pandas.pydata.org/pandas-docs/stable/indexing.html#indexing-view-versus-copy\n",
      "  \"\"\"Entry point for launching an IPython kernel.\n"
     ]
    }
   ],
   "source": [
    "df2['smog_index']= df2['reviewText'].swifter.apply(textstat.smog_index)"
   ]
  },
  {
   "cell_type": "code",
   "execution_count": 16,
   "metadata": {},
   "outputs": [
    {
     "name": "stderr",
     "output_type": "stream",
     "text": [
      "Pandas Apply: 100%|█████████████████████████████████████████████████████████████████████████████████████████████████████████████| 81275/81275 [06:08<00:00, 220.52it/s]\n",
      "C:\\Users\\Trishul\\Anaconda3\\lib\\site-packages\\ipykernel_launcher.py:1: SettingWithCopyWarning: \n",
      "A value is trying to be set on a copy of a slice from a DataFrame.\n",
      "Try using .loc[row_indexer,col_indexer] = value instead\n",
      "\n",
      "See the caveats in the documentation: http://pandas.pydata.org/pandas-docs/stable/indexing.html#indexing-view-versus-copy\n",
      "  \"\"\"Entry point for launching an IPython kernel.\n"
     ]
    }
   ],
   "source": [
    "df2['flesch_kincaid_grade']= df2['reviewText'].swifter.apply(textstat.flesch_kincaid_grade)"
   ]
  },
  {
   "cell_type": "code",
   "execution_count": 17,
   "metadata": {},
   "outputs": [
    {
     "name": "stderr",
     "output_type": "stream",
     "text": [
      "Pandas Apply: 100%|█████████████████████████████████████████████████████████████████████████████████████████████████████████████| 81275/81275 [03:09<00:00, 429.33it/s]\n",
      "C:\\Users\\Trishul\\Anaconda3\\lib\\site-packages\\ipykernel_launcher.py:1: SettingWithCopyWarning: \n",
      "A value is trying to be set on a copy of a slice from a DataFrame.\n",
      "Try using .loc[row_indexer,col_indexer] = value instead\n",
      "\n",
      "See the caveats in the documentation: http://pandas.pydata.org/pandas-docs/stable/indexing.html#indexing-view-versus-copy\n",
      "  \"\"\"Entry point for launching an IPython kernel.\n"
     ]
    }
   ],
   "source": [
    "df2['coleman_liau_index']= df2['reviewText'].swifter.apply(textstat.coleman_liau_index)"
   ]
  },
  {
   "cell_type": "code",
   "execution_count": 18,
   "metadata": {},
   "outputs": [
    {
     "name": "stderr",
     "output_type": "stream",
     "text": [
      "Pandas Apply: 100%|█████████████████████████████████████████████████████████████████████████████████████████████████████████████| 81275/81275 [03:09<00:00, 429.89it/s]\n",
      "C:\\Users\\Trishul\\Anaconda3\\lib\\site-packages\\ipykernel_launcher.py:1: SettingWithCopyWarning: \n",
      "A value is trying to be set on a copy of a slice from a DataFrame.\n",
      "Try using .loc[row_indexer,col_indexer] = value instead\n",
      "\n",
      "See the caveats in the documentation: http://pandas.pydata.org/pandas-docs/stable/indexing.html#indexing-view-versus-copy\n",
      "  \"\"\"Entry point for launching an IPython kernel.\n"
     ]
    }
   ],
   "source": [
    "df2['automated_readability_index']= df2['reviewText'].swifter.apply(textstat.automated_readability_index)"
   ]
  },
  {
   "cell_type": "code",
   "execution_count": 19,
   "metadata": {},
   "outputs": [
    {
     "name": "stderr",
     "output_type": "stream",
     "text": [
      "Pandas Apply: 100%|█████████████████████████████████████████████████████████████████████████████████████████████████████████████| 81275/81275 [05:02<00:00, 268.56it/s]\n",
      "C:\\Users\\Trishul\\Anaconda3\\lib\\site-packages\\ipykernel_launcher.py:1: SettingWithCopyWarning: \n",
      "A value is trying to be set on a copy of a slice from a DataFrame.\n",
      "Try using .loc[row_indexer,col_indexer] = value instead\n",
      "\n",
      "See the caveats in the documentation: http://pandas.pydata.org/pandas-docs/stable/indexing.html#indexing-view-versus-copy\n",
      "  \"\"\"Entry point for launching an IPython kernel.\n"
     ]
    }
   ],
   "source": [
    "df2['dale_chall_readability_score']= df2['reviewText'].swifter.apply(textstat.dale_chall_readability_score)"
   ]
  },
  {
   "cell_type": "code",
   "execution_count": 20,
   "metadata": {},
   "outputs": [
    {
     "name": "stderr",
     "output_type": "stream",
     "text": [
      "Pandas Apply: 100%|█████████████████████████████████████████████████████████████████████████████████████████████████████████████| 81275/81275 [01:42<00:00, 796.44it/s]\n",
      "C:\\Users\\Trishul\\Anaconda3\\lib\\site-packages\\ipykernel_launcher.py:1: SettingWithCopyWarning: \n",
      "A value is trying to be set on a copy of a slice from a DataFrame.\n",
      "Try using .loc[row_indexer,col_indexer] = value instead\n",
      "\n",
      "See the caveats in the documentation: http://pandas.pydata.org/pandas-docs/stable/indexing.html#indexing-view-versus-copy\n",
      "  \"\"\"Entry point for launching an IPython kernel.\n"
     ]
    }
   ],
   "source": [
    "df2['difficult_words']= df2['reviewText'].swifter.apply(textstat.difficult_words)"
   ]
  },
  {
   "cell_type": "code",
   "execution_count": 21,
   "metadata": {},
   "outputs": [
    {
     "name": "stderr",
     "output_type": "stream",
     "text": [
      "Pandas Apply: 100%|█████████████████████████████████████████████████████████████████████████████████████████████████████████████| 81275/81275 [01:55<00:00, 705.31it/s]\n",
      "C:\\Users\\Trishul\\Anaconda3\\lib\\site-packages\\ipykernel_launcher.py:1: SettingWithCopyWarning: \n",
      "A value is trying to be set on a copy of a slice from a DataFrame.\n",
      "Try using .loc[row_indexer,col_indexer] = value instead\n",
      "\n",
      "See the caveats in the documentation: http://pandas.pydata.org/pandas-docs/stable/indexing.html#indexing-view-versus-copy\n",
      "  \"\"\"Entry point for launching an IPython kernel.\n"
     ]
    }
   ],
   "source": [
    "df2['linsear_write_formula']= df2['reviewText'].swifter.apply(textstat.linsear_write_formula)"
   ]
  },
  {
   "cell_type": "code",
   "execution_count": 22,
   "metadata": {},
   "outputs": [
    {
     "name": "stderr",
     "output_type": "stream",
     "text": [
      "Pandas Apply: 100%|█████████████████████████████████████████████████████████████████████████████████████████████████████████████| 81275/81275 [04:47<00:00, 283.05it/s]\n",
      "C:\\Users\\Trishul\\Anaconda3\\lib\\site-packages\\ipykernel_launcher.py:1: SettingWithCopyWarning: \n",
      "A value is trying to be set on a copy of a slice from a DataFrame.\n",
      "Try using .loc[row_indexer,col_indexer] = value instead\n",
      "\n",
      "See the caveats in the documentation: http://pandas.pydata.org/pandas-docs/stable/indexing.html#indexing-view-versus-copy\n",
      "  \"\"\"Entry point for launching an IPython kernel.\n"
     ]
    }
   ],
   "source": [
    "df2['gunning_fog']= df2['reviewText'].swifter.apply(textstat.gunning_fog)"
   ]
  },
  {
   "cell_type": "code",
   "execution_count": 23,
   "metadata": {},
   "outputs": [
    {
     "name": "stderr",
     "output_type": "stream",
     "text": [
      "Pandas Apply: 100%|█████████████████████████████████████████████████████████████████████████████████████████████████████████████| 81275/81275 [12:30<00:00, 108.26it/s]\n",
      "C:\\Users\\Trishul\\Anaconda3\\lib\\site-packages\\ipykernel_launcher.py:1: SettingWithCopyWarning: \n",
      "A value is trying to be set on a copy of a slice from a DataFrame.\n",
      "Try using .loc[row_indexer,col_indexer] = value instead\n",
      "\n",
      "See the caveats in the documentation: http://pandas.pydata.org/pandas-docs/stable/indexing.html#indexing-view-versus-copy\n",
      "  \"\"\"Entry point for launching an IPython kernel.\n"
     ]
    }
   ],
   "source": [
    "df2['text_standard']= df2['reviewText'].swifter.apply(textstat.text_standard)"
   ]
  },
  {
   "cell_type": "code",
   "execution_count": 24,
   "metadata": {},
   "outputs": [
    {
     "name": "stderr",
     "output_type": "stream",
     "text": [
      "Pandas Apply: 100%|█████████████████████████████████████████████████████████████████████████████████████████████████████████████| 81275/81275 [01:47<00:00, 756.03it/s]\n",
      "C:\\Users\\Trishul\\Anaconda3\\lib\\site-packages\\ipykernel_launcher.py:1: SettingWithCopyWarning: \n",
      "A value is trying to be set on a copy of a slice from a DataFrame.\n",
      "Try using .loc[row_indexer,col_indexer] = value instead\n",
      "\n",
      "See the caveats in the documentation: http://pandas.pydata.org/pandas-docs/stable/indexing.html#indexing-view-versus-copy\n",
      "  \"\"\"Entry point for launching an IPython kernel.\n"
     ]
    }
   ],
   "source": [
    "df2['sentence_count']= df2['reviewText'].swifter.apply(textstat.sentence_count)"
   ]
  },
  {
   "cell_type": "code",
   "execution_count": 25,
   "metadata": {},
   "outputs": [
    {
     "name": "stdout",
     "output_type": "stream",
     "text": [
      "Flesch Reading Ease\n",
      "-0.11195802052156742\n"
     ]
    }
   ],
   "source": [
    "print(\"Flesch Reading Ease\")\n",
    "print(df2['helpfulness_score'].corr(df2['flesch_reading_ease']))"
   ]
  },
  {
   "cell_type": "code",
   "execution_count": 26,
   "metadata": {},
   "outputs": [
    {
     "name": "stdout",
     "output_type": "stream",
     "text": [
      "smog_index\n",
      "0.11541380265483875\n"
     ]
    }
   ],
   "source": [
    "print(\"smog_index\")\n",
    "print(df2['helpfulness_score'].corr(df2['smog_index']))"
   ]
  },
  {
   "cell_type": "code",
   "execution_count": 27,
   "metadata": {},
   "outputs": [
    {
     "name": "stdout",
     "output_type": "stream",
     "text": [
      "flesch_kincaid_grade\n",
      "0.11059512510108087\n"
     ]
    }
   ],
   "source": [
    "print(\"flesch_kincaid_grade\")\n",
    "print(df2['helpfulness_score'].corr(df2['flesch_kincaid_grade']))"
   ]
  },
  {
   "cell_type": "code",
   "execution_count": 28,
   "metadata": {},
   "outputs": [
    {
     "name": "stdout",
     "output_type": "stream",
     "text": [
      "coleman_liau_index\n",
      "0.10746467474619713\n"
     ]
    }
   ],
   "source": [
    "print(\"coleman_liau_index\")\n",
    "print(df2['helpfulness_score'].corr(df2['coleman_liau_index']))"
   ]
  },
  {
   "cell_type": "code",
   "execution_count": 29,
   "metadata": {},
   "outputs": [
    {
     "name": "stdout",
     "output_type": "stream",
     "text": [
      "automated_readability_index\n",
      "0.1109725961495357\n"
     ]
    }
   ],
   "source": [
    "print(\"automated_readability_index\")\n",
    "print(df2['helpfulness_score'].corr(df2['automated_readability_index']))"
   ]
  },
  {
   "cell_type": "code",
   "execution_count": 30,
   "metadata": {},
   "outputs": [
    {
     "name": "stdout",
     "output_type": "stream",
     "text": [
      "dale_chall_readability_score\n",
      "0.11356376327616294\n"
     ]
    }
   ],
   "source": [
    "print(\"dale_chall_readability_score\")\n",
    "print(df2['helpfulness_score'].corr(df2['dale_chall_readability_score']))"
   ]
  },
  {
   "cell_type": "code",
   "execution_count": 31,
   "metadata": {},
   "outputs": [
    {
     "name": "stdout",
     "output_type": "stream",
     "text": [
      "difficult_words\n",
      "0.2166604643098548\n"
     ]
    }
   ],
   "source": [
    "print(\"difficult_words\")\n",
    "print(df2['helpfulness_score'].corr(df2['difficult_words']))"
   ]
  },
  {
   "cell_type": "code",
   "execution_count": 32,
   "metadata": {},
   "outputs": [
    {
     "name": "stdout",
     "output_type": "stream",
     "text": [
      "linsear_write_formula\n",
      "0.014142211706230878\n"
     ]
    }
   ],
   "source": [
    "print(\"linsear_write_formula\")\n",
    "print(df2['helpfulness_score'].corr(df2['linsear_write_formula']))"
   ]
  },
  {
   "cell_type": "code",
   "execution_count": 33,
   "metadata": {},
   "outputs": [
    {
     "name": "stdout",
     "output_type": "stream",
     "text": [
      "gunning_fog\n",
      "0.1099584564330262\n"
     ]
    }
   ],
   "source": [
    "print(\"gunning_fog\")\n",
    "print(df2['helpfulness_score'].corr(df2['gunning_fog']))"
   ]
  },
  {
   "cell_type": "code",
   "execution_count": 34,
   "metadata": {},
   "outputs": [
    {
     "name": "stdout",
     "output_type": "stream",
     "text": [
      "text_standard\n"
     ]
    },
    {
     "ename": "TypeError",
     "evalue": "unsupported operand type(s) for /: 'str' and 'int'",
     "output_type": "error",
     "traceback": [
      "\u001b[1;31m---------------------------------------------------------------------------\u001b[0m",
      "\u001b[1;31mTypeError\u001b[0m                                 Traceback (most recent call last)",
      "\u001b[1;32m<ipython-input-34-2f231d6c433b>\u001b[0m in \u001b[0;36m<module>\u001b[1;34m()\u001b[0m\n\u001b[0;32m      1\u001b[0m \u001b[0mprint\u001b[0m\u001b[1;33m(\u001b[0m\u001b[1;34m\"text_standard\"\u001b[0m\u001b[1;33m)\u001b[0m\u001b[1;33m\u001b[0m\u001b[0m\n\u001b[1;32m----> 2\u001b[1;33m \u001b[0mprint\u001b[0m\u001b[1;33m(\u001b[0m\u001b[0mdf2\u001b[0m\u001b[1;33m[\u001b[0m\u001b[1;34m'helpfulness_score'\u001b[0m\u001b[1;33m]\u001b[0m\u001b[1;33m.\u001b[0m\u001b[0mcorr\u001b[0m\u001b[1;33m(\u001b[0m\u001b[0mdf2\u001b[0m\u001b[1;33m[\u001b[0m\u001b[1;34m'text_standard'\u001b[0m\u001b[1;33m]\u001b[0m\u001b[1;33m)\u001b[0m\u001b[1;33m)\u001b[0m\u001b[1;33m\u001b[0m\u001b[0m\n\u001b[0m",
      "\u001b[1;32mC:\\Users\\Trishul\\Anaconda3\\lib\\site-packages\\pandas\\core\\series.py\u001b[0m in \u001b[0;36mcorr\u001b[1;34m(self, other, method, min_periods)\u001b[0m\n\u001b[0;32m   1909\u001b[0m             \u001b[1;32mreturn\u001b[0m \u001b[0mnp\u001b[0m\u001b[1;33m.\u001b[0m\u001b[0mnan\u001b[0m\u001b[1;33m\u001b[0m\u001b[0m\n\u001b[0;32m   1910\u001b[0m         return nanops.nancorr(this.values, other.values, method=method,\n\u001b[1;32m-> 1911\u001b[1;33m                               min_periods=min_periods)\n\u001b[0m\u001b[0;32m   1912\u001b[0m \u001b[1;33m\u001b[0m\u001b[0m\n\u001b[0;32m   1913\u001b[0m     \u001b[1;32mdef\u001b[0m \u001b[0mcov\u001b[0m\u001b[1;33m(\u001b[0m\u001b[0mself\u001b[0m\u001b[1;33m,\u001b[0m \u001b[0mother\u001b[0m\u001b[1;33m,\u001b[0m \u001b[0mmin_periods\u001b[0m\u001b[1;33m=\u001b[0m\u001b[1;32mNone\u001b[0m\u001b[1;33m)\u001b[0m\u001b[1;33m:\u001b[0m\u001b[1;33m\u001b[0m\u001b[0m\n",
      "\u001b[1;32mC:\\Users\\Trishul\\Anaconda3\\lib\\site-packages\\pandas\\core\\nanops.py\u001b[0m in \u001b[0;36m_f\u001b[1;34m(*args, **kwargs)\u001b[0m\n\u001b[0;32m     75\u001b[0m             \u001b[1;32mtry\u001b[0m\u001b[1;33m:\u001b[0m\u001b[1;33m\u001b[0m\u001b[0m\n\u001b[0;32m     76\u001b[0m                 \u001b[1;32mwith\u001b[0m \u001b[0mnp\u001b[0m\u001b[1;33m.\u001b[0m\u001b[0merrstate\u001b[0m\u001b[1;33m(\u001b[0m\u001b[0minvalid\u001b[0m\u001b[1;33m=\u001b[0m\u001b[1;34m'ignore'\u001b[0m\u001b[1;33m)\u001b[0m\u001b[1;33m:\u001b[0m\u001b[1;33m\u001b[0m\u001b[0m\n\u001b[1;32m---> 77\u001b[1;33m                     \u001b[1;32mreturn\u001b[0m \u001b[0mf\u001b[0m\u001b[1;33m(\u001b[0m\u001b[1;33m*\u001b[0m\u001b[0margs\u001b[0m\u001b[1;33m,\u001b[0m \u001b[1;33m**\u001b[0m\u001b[0mkwargs\u001b[0m\u001b[1;33m)\u001b[0m\u001b[1;33m\u001b[0m\u001b[0m\n\u001b[0m\u001b[0;32m     78\u001b[0m             \u001b[1;32mexcept\u001b[0m \u001b[0mValueError\u001b[0m \u001b[1;32mas\u001b[0m \u001b[0me\u001b[0m\u001b[1;33m:\u001b[0m\u001b[1;33m\u001b[0m\u001b[0m\n\u001b[0;32m     79\u001b[0m                 \u001b[1;31m# we want to transform an object array\u001b[0m\u001b[1;33m\u001b[0m\u001b[1;33m\u001b[0m\u001b[0m\n",
      "\u001b[1;32mC:\\Users\\Trishul\\Anaconda3\\lib\\site-packages\\pandas\\core\\nanops.py\u001b[0m in \u001b[0;36mnancorr\u001b[1;34m(a, b, method, min_periods)\u001b[0m\n\u001b[0;32m    760\u001b[0m \u001b[1;33m\u001b[0m\u001b[0m\n\u001b[0;32m    761\u001b[0m     \u001b[0mf\u001b[0m \u001b[1;33m=\u001b[0m \u001b[0mget_corr_func\u001b[0m\u001b[1;33m(\u001b[0m\u001b[0mmethod\u001b[0m\u001b[1;33m)\u001b[0m\u001b[1;33m\u001b[0m\u001b[0m\n\u001b[1;32m--> 762\u001b[1;33m     \u001b[1;32mreturn\u001b[0m \u001b[0mf\u001b[0m\u001b[1;33m(\u001b[0m\u001b[0ma\u001b[0m\u001b[1;33m,\u001b[0m \u001b[0mb\u001b[0m\u001b[1;33m)\u001b[0m\u001b[1;33m\u001b[0m\u001b[0m\n\u001b[0m\u001b[0;32m    763\u001b[0m \u001b[1;33m\u001b[0m\u001b[0m\n\u001b[0;32m    764\u001b[0m \u001b[1;33m\u001b[0m\u001b[0m\n",
      "\u001b[1;32mC:\\Users\\Trishul\\Anaconda3\\lib\\site-packages\\pandas\\core\\nanops.py\u001b[0m in \u001b[0;36m_pearson\u001b[1;34m(a, b)\u001b[0m\n\u001b[0;32m    768\u001b[0m \u001b[1;33m\u001b[0m\u001b[0m\n\u001b[0;32m    769\u001b[0m     \u001b[1;32mdef\u001b[0m \u001b[0m_pearson\u001b[0m\u001b[1;33m(\u001b[0m\u001b[0ma\u001b[0m\u001b[1;33m,\u001b[0m \u001b[0mb\u001b[0m\u001b[1;33m)\u001b[0m\u001b[1;33m:\u001b[0m\u001b[1;33m\u001b[0m\u001b[0m\n\u001b[1;32m--> 770\u001b[1;33m         \u001b[1;32mreturn\u001b[0m \u001b[0mnp\u001b[0m\u001b[1;33m.\u001b[0m\u001b[0mcorrcoef\u001b[0m\u001b[1;33m(\u001b[0m\u001b[0ma\u001b[0m\u001b[1;33m,\u001b[0m \u001b[0mb\u001b[0m\u001b[1;33m)\u001b[0m\u001b[1;33m[\u001b[0m\u001b[1;36m0\u001b[0m\u001b[1;33m,\u001b[0m \u001b[1;36m1\u001b[0m\u001b[1;33m]\u001b[0m\u001b[1;33m\u001b[0m\u001b[0m\n\u001b[0m\u001b[0;32m    771\u001b[0m \u001b[1;33m\u001b[0m\u001b[0m\n\u001b[0;32m    772\u001b[0m     \u001b[1;32mdef\u001b[0m \u001b[0m_kendall\u001b[0m\u001b[1;33m(\u001b[0m\u001b[0ma\u001b[0m\u001b[1;33m,\u001b[0m \u001b[0mb\u001b[0m\u001b[1;33m)\u001b[0m\u001b[1;33m:\u001b[0m\u001b[1;33m\u001b[0m\u001b[0m\n",
      "\u001b[1;32mC:\\Users\\Trishul\\Anaconda3\\lib\\site-packages\\numpy\\lib\\function_base.py\u001b[0m in \u001b[0;36mcorrcoef\u001b[1;34m(x, y, rowvar, bias, ddof)\u001b[0m\n\u001b[0;32m   3173\u001b[0m         warnings.warn('bias and ddof have no effect and are deprecated',\n\u001b[0;32m   3174\u001b[0m                       DeprecationWarning, stacklevel=2)\n\u001b[1;32m-> 3175\u001b[1;33m     \u001b[0mc\u001b[0m \u001b[1;33m=\u001b[0m \u001b[0mcov\u001b[0m\u001b[1;33m(\u001b[0m\u001b[0mx\u001b[0m\u001b[1;33m,\u001b[0m \u001b[0my\u001b[0m\u001b[1;33m,\u001b[0m \u001b[0mrowvar\u001b[0m\u001b[1;33m)\u001b[0m\u001b[1;33m\u001b[0m\u001b[0m\n\u001b[0m\u001b[0;32m   3176\u001b[0m     \u001b[1;32mtry\u001b[0m\u001b[1;33m:\u001b[0m\u001b[1;33m\u001b[0m\u001b[0m\n\u001b[0;32m   3177\u001b[0m         \u001b[0md\u001b[0m \u001b[1;33m=\u001b[0m \u001b[0mdiag\u001b[0m\u001b[1;33m(\u001b[0m\u001b[0mc\u001b[0m\u001b[1;33m)\u001b[0m\u001b[1;33m\u001b[0m\u001b[0m\n",
      "\u001b[1;32mC:\\Users\\Trishul\\Anaconda3\\lib\\site-packages\\numpy\\lib\\function_base.py\u001b[0m in \u001b[0;36mcov\u001b[1;34m(m, y, rowvar, bias, ddof, fweights, aweights)\u001b[0m\n\u001b[0;32m   3083\u001b[0m             \u001b[0mw\u001b[0m \u001b[1;33m*=\u001b[0m \u001b[0maweights\u001b[0m\u001b[1;33m\u001b[0m\u001b[0m\n\u001b[0;32m   3084\u001b[0m \u001b[1;33m\u001b[0m\u001b[0m\n\u001b[1;32m-> 3085\u001b[1;33m     \u001b[0mavg\u001b[0m\u001b[1;33m,\u001b[0m \u001b[0mw_sum\u001b[0m \u001b[1;33m=\u001b[0m \u001b[0maverage\u001b[0m\u001b[1;33m(\u001b[0m\u001b[0mX\u001b[0m\u001b[1;33m,\u001b[0m \u001b[0maxis\u001b[0m\u001b[1;33m=\u001b[0m\u001b[1;36m1\u001b[0m\u001b[1;33m,\u001b[0m \u001b[0mweights\u001b[0m\u001b[1;33m=\u001b[0m\u001b[0mw\u001b[0m\u001b[1;33m,\u001b[0m \u001b[0mreturned\u001b[0m\u001b[1;33m=\u001b[0m\u001b[1;32mTrue\u001b[0m\u001b[1;33m)\u001b[0m\u001b[1;33m\u001b[0m\u001b[0m\n\u001b[0m\u001b[0;32m   3086\u001b[0m     \u001b[0mw_sum\u001b[0m \u001b[1;33m=\u001b[0m \u001b[0mw_sum\u001b[0m\u001b[1;33m[\u001b[0m\u001b[1;36m0\u001b[0m\u001b[1;33m]\u001b[0m\u001b[1;33m\u001b[0m\u001b[0m\n\u001b[0;32m   3087\u001b[0m \u001b[1;33m\u001b[0m\u001b[0m\n",
      "\u001b[1;32mC:\\Users\\Trishul\\Anaconda3\\lib\\site-packages\\numpy\\lib\\function_base.py\u001b[0m in \u001b[0;36maverage\u001b[1;34m(a, axis, weights, returned)\u001b[0m\n\u001b[0;32m   1126\u001b[0m \u001b[1;33m\u001b[0m\u001b[0m\n\u001b[0;32m   1127\u001b[0m     \u001b[1;32mif\u001b[0m \u001b[0mweights\u001b[0m \u001b[1;32mis\u001b[0m \u001b[1;32mNone\u001b[0m\u001b[1;33m:\u001b[0m\u001b[1;33m\u001b[0m\u001b[0m\n\u001b[1;32m-> 1128\u001b[1;33m         \u001b[0mavg\u001b[0m \u001b[1;33m=\u001b[0m \u001b[0ma\u001b[0m\u001b[1;33m.\u001b[0m\u001b[0mmean\u001b[0m\u001b[1;33m(\u001b[0m\u001b[0maxis\u001b[0m\u001b[1;33m)\u001b[0m\u001b[1;33m\u001b[0m\u001b[0m\n\u001b[0m\u001b[0;32m   1129\u001b[0m         \u001b[0mscl\u001b[0m \u001b[1;33m=\u001b[0m \u001b[0mavg\u001b[0m\u001b[1;33m.\u001b[0m\u001b[0mdtype\u001b[0m\u001b[1;33m.\u001b[0m\u001b[0mtype\u001b[0m\u001b[1;33m(\u001b[0m\u001b[0ma\u001b[0m\u001b[1;33m.\u001b[0m\u001b[0msize\u001b[0m\u001b[1;33m/\u001b[0m\u001b[0mavg\u001b[0m\u001b[1;33m.\u001b[0m\u001b[0msize\u001b[0m\u001b[1;33m)\u001b[0m\u001b[1;33m\u001b[0m\u001b[0m\n\u001b[0;32m   1130\u001b[0m     \u001b[1;32melse\u001b[0m\u001b[1;33m:\u001b[0m\u001b[1;33m\u001b[0m\u001b[0m\n",
      "\u001b[1;32mC:\\Users\\Trishul\\Anaconda3\\lib\\site-packages\\numpy\\core\\_methods.py\u001b[0m in \u001b[0;36m_mean\u001b[1;34m(a, axis, dtype, out, keepdims)\u001b[0m\n\u001b[0;32m     71\u001b[0m     \u001b[1;32mif\u001b[0m \u001b[0misinstance\u001b[0m\u001b[1;33m(\u001b[0m\u001b[0mret\u001b[0m\u001b[1;33m,\u001b[0m \u001b[0mmu\u001b[0m\u001b[1;33m.\u001b[0m\u001b[0mndarray\u001b[0m\u001b[1;33m)\u001b[0m\u001b[1;33m:\u001b[0m\u001b[1;33m\u001b[0m\u001b[0m\n\u001b[0;32m     72\u001b[0m         ret = um.true_divide(\n\u001b[1;32m---> 73\u001b[1;33m                 ret, rcount, out=ret, casting='unsafe', subok=False)\n\u001b[0m\u001b[0;32m     74\u001b[0m         \u001b[1;32mif\u001b[0m \u001b[0mis_float16_result\u001b[0m \u001b[1;32mand\u001b[0m \u001b[0mout\u001b[0m \u001b[1;32mis\u001b[0m \u001b[1;32mNone\u001b[0m\u001b[1;33m:\u001b[0m\u001b[1;33m\u001b[0m\u001b[0m\n\u001b[0;32m     75\u001b[0m             \u001b[0mret\u001b[0m \u001b[1;33m=\u001b[0m \u001b[0marr\u001b[0m\u001b[1;33m.\u001b[0m\u001b[0mdtype\u001b[0m\u001b[1;33m.\u001b[0m\u001b[0mtype\u001b[0m\u001b[1;33m(\u001b[0m\u001b[0mret\u001b[0m\u001b[1;33m)\u001b[0m\u001b[1;33m\u001b[0m\u001b[0m\n",
      "\u001b[1;31mTypeError\u001b[0m: unsupported operand type(s) for /: 'str' and 'int'"
     ]
    }
   ],
   "source": [
    "print(\"text_standard\")\n",
    "print(df2['helpfulness_score'].corr(df2['text_standard']))"
   ]
  },
  {
   "cell_type": "code",
   "execution_count": 35,
   "metadata": {},
   "outputs": [
    {
     "name": "stdout",
     "output_type": "stream",
     "text": [
      "sentence_count\n",
      "0.12191423242086917\n"
     ]
    }
   ],
   "source": [
    "print(\"sentence_count\")\n",
    "print(df2['helpfulness_score'].corr(df2['sentence_count']))"
   ]
  },
  {
   "cell_type": "code",
   "execution_count": 36,
   "metadata": {},
   "outputs": [
    {
     "data": {
      "text/html": [
       "<div>\n",
       "<style scoped>\n",
       "    .dataframe tbody tr th:only-of-type {\n",
       "        vertical-align: middle;\n",
       "    }\n",
       "\n",
       "    .dataframe tbody tr th {\n",
       "        vertical-align: top;\n",
       "    }\n",
       "\n",
       "    .dataframe thead th {\n",
       "        text-align: right;\n",
       "    }\n",
       "</style>\n",
       "<table border=\"1\" class=\"dataframe\">\n",
       "  <thead>\n",
       "    <tr style=\"text-align: right;\">\n",
       "      <th></th>\n",
       "      <th>reviewText</th>\n",
       "      <th>flesch_reading_ease</th>\n",
       "      <th>helpfulness_score</th>\n",
       "      <th>smog_index</th>\n",
       "      <th>flesch_kincaid_grade</th>\n",
       "      <th>coleman_liau_index</th>\n",
       "      <th>automated_readability_index</th>\n",
       "      <th>dale_chall_readability_score</th>\n",
       "      <th>difficult_words</th>\n",
       "      <th>linsear_write_formula</th>\n",
       "      <th>gunning_fog</th>\n",
       "      <th>text_standard</th>\n",
       "      <th>sentence_count</th>\n",
       "    </tr>\n",
       "  </thead>\n",
       "  <tbody>\n",
       "    <tr>\n",
       "      <th>0</th>\n",
       "      <td>I'm a professional OTR truck driver, and I bou...</td>\n",
       "      <td>-336.56</td>\n",
       "      <td>0.800000</td>\n",
       "      <td>0.0</td>\n",
       "      <td>166.3</td>\n",
       "      <td>7.69</td>\n",
       "      <td>211.1</td>\n",
       "      <td>26.44</td>\n",
       "      <td>44</td>\n",
       "      <td>14.000000</td>\n",
       "      <td>176.92</td>\n",
       "      <td>-1th and 0th grade</td>\n",
       "      <td>1</td>\n",
       "    </tr>\n",
       "    <tr>\n",
       "      <th>1</th>\n",
       "      <td>Well, what can I say.  I've had this unit in m...</td>\n",
       "      <td>-340.96</td>\n",
       "      <td>0.955556</td>\n",
       "      <td>0.0</td>\n",
       "      <td>165.9</td>\n",
       "      <td>9.72</td>\n",
       "      <td>210.8</td>\n",
       "      <td>26.37</td>\n",
       "      <td>94</td>\n",
       "      <td>8.666667</td>\n",
       "      <td>175.64</td>\n",
       "      <td>165th and 166th grade</td>\n",
       "      <td>2</td>\n",
       "    </tr>\n",
       "    <tr>\n",
       "      <th>2</th>\n",
       "      <td>Not going to write a long review, even thought...</td>\n",
       "      <td>85.52</td>\n",
       "      <td>0.900000</td>\n",
       "      <td>7.3</td>\n",
       "      <td>6.2</td>\n",
       "      <td>5.92</td>\n",
       "      <td>7.2</td>\n",
       "      <td>5.87</td>\n",
       "      <td>36</td>\n",
       "      <td>7.666667</td>\n",
       "      <td>13.01</td>\n",
       "      <td>5th and 6th grade</td>\n",
       "      <td>23</td>\n",
       "    </tr>\n",
       "    <tr>\n",
       "      <th>3</th>\n",
       "      <td>Quality was excellent. Instructions were clear...</td>\n",
       "      <td>66.94</td>\n",
       "      <td>0.789474</td>\n",
       "      <td>10.8</td>\n",
       "      <td>7.1</td>\n",
       "      <td>8.05</td>\n",
       "      <td>6.3</td>\n",
       "      <td>6.99</td>\n",
       "      <td>11</td>\n",
       "      <td>7.200000</td>\n",
       "      <td>14.00</td>\n",
       "      <td>6th and 7th grade</td>\n",
       "      <td>5</td>\n",
       "    </tr>\n",
       "    <tr>\n",
       "      <th>4</th>\n",
       "      <td>I checked around Amazon as well as some other ...</td>\n",
       "      <td>-43.22</td>\n",
       "      <td>0.444444</td>\n",
       "      <td>0.0</td>\n",
       "      <td>53.6</td>\n",
       "      <td>8.09</td>\n",
       "      <td>67.2</td>\n",
       "      <td>12.20</td>\n",
       "      <td>15</td>\n",
       "      <td>4.400000</td>\n",
       "      <td>61.55</td>\n",
       "      <td>53th and 54th grade</td>\n",
       "      <td>1</td>\n",
       "    </tr>\n",
       "  </tbody>\n",
       "</table>\n",
       "</div>"
      ],
      "text/plain": [
       "                                          reviewText  flesch_reading_ease  \\\n",
       "0  I'm a professional OTR truck driver, and I bou...              -336.56   \n",
       "1  Well, what can I say.  I've had this unit in m...              -340.96   \n",
       "2  Not going to write a long review, even thought...                85.52   \n",
       "3  Quality was excellent. Instructions were clear...                66.94   \n",
       "4  I checked around Amazon as well as some other ...               -43.22   \n",
       "\n",
       "   helpfulness_score  smog_index  flesch_kincaid_grade  coleman_liau_index  \\\n",
       "0           0.800000         0.0                 166.3                7.69   \n",
       "1           0.955556         0.0                 165.9                9.72   \n",
       "2           0.900000         7.3                   6.2                5.92   \n",
       "3           0.789474        10.8                   7.1                8.05   \n",
       "4           0.444444         0.0                  53.6                8.09   \n",
       "\n",
       "   automated_readability_index  dale_chall_readability_score  difficult_words  \\\n",
       "0                        211.1                         26.44               44   \n",
       "1                        210.8                         26.37               94   \n",
       "2                          7.2                          5.87               36   \n",
       "3                          6.3                          6.99               11   \n",
       "4                         67.2                         12.20               15   \n",
       "\n",
       "   linsear_write_formula  gunning_fog          text_standard  sentence_count  \n",
       "0              14.000000       176.92     -1th and 0th grade               1  \n",
       "1               8.666667       175.64  165th and 166th grade               2  \n",
       "2               7.666667        13.01      5th and 6th grade              23  \n",
       "3               7.200000        14.00      6th and 7th grade               5  \n",
       "4               4.400000        61.55    53th and 54th grade               1  "
      ]
     },
     "execution_count": 36,
     "metadata": {},
     "output_type": "execute_result"
    }
   ],
   "source": [
    "df2.head()"
   ]
  },
  {
   "cell_type": "code",
   "execution_count": 37,
   "metadata": {
    "collapsed": true
   },
   "outputs": [],
   "source": [
    "df2.to_csv('Text_Parameters.csv',index=False)"
   ]
  },
  {
   "cell_type": "code",
   "execution_count": 38,
   "metadata": {
    "collapsed": true
   },
   "outputs": [],
   "source": [
    "mytext = \"hello how are you. This is the best time for doing this. This is a great product.\""
   ]
  },
  {
   "cell_type": "code",
   "execution_count": 42,
   "metadata": {},
   "outputs": [
    {
     "data": {
      "text/plain": [
       "5.666666666666667"
      ]
     },
     "execution_count": 42,
     "metadata": {},
     "output_type": "execute_result"
    }
   ],
   "source": [
    "len(mytext.split())/textstat.sentence_count(mytext)"
   ]
  },
  {
   "cell_type": "code",
   "execution_count": 41,
   "metadata": {},
   "outputs": [
    {
     "data": {
      "text/plain": [
       "3"
      ]
     },
     "execution_count": 41,
     "metadata": {},
     "output_type": "execute_result"
    }
   ],
   "source": [
    "textstat.sentence_count(mytext)"
   ]
  },
  {
   "cell_type": "code",
   "execution_count": 43,
   "metadata": {
    "collapsed": true
   },
   "outputs": [],
   "source": [
    "def get_words_per_sentence(text):\n",
    "   return len(text.split())/textstat.sentence_count(text)\n",
    "    "
   ]
  },
  {
   "cell_type": "code",
   "execution_count": 44,
   "metadata": {},
   "outputs": [
    {
     "data": {
      "text/plain": [
       "5.666666666666667"
      ]
     },
     "execution_count": 44,
     "metadata": {},
     "output_type": "execute_result"
    }
   ],
   "source": [
    "get_words_per_sentence(mytext)"
   ]
  },
  {
   "cell_type": "code",
   "execution_count": 45,
   "metadata": {},
   "outputs": [
    {
     "name": "stderr",
     "output_type": "stream",
     "text": [
      "Pandas Apply: 100%|█████████████████████████████████████████████████████████████████████████████████████████████████████████████| 81275/81275 [01:53<00:00, 716.24it/s]\n",
      "C:\\Users\\Trishul\\Anaconda3\\lib\\site-packages\\ipykernel_launcher.py:1: SettingWithCopyWarning: \n",
      "A value is trying to be set on a copy of a slice from a DataFrame.\n",
      "Try using .loc[row_indexer,col_indexer] = value instead\n",
      "\n",
      "See the caveats in the documentation: http://pandas.pydata.org/pandas-docs/stable/indexing.html#indexing-view-versus-copy\n",
      "  \"\"\"Entry point for launching an IPython kernel.\n"
     ]
    }
   ],
   "source": [
    "df2['wps']= df2['reviewText'].swifter.apply(get_words_per_sentence)"
   ]
  },
  {
   "cell_type": "code",
   "execution_count": 46,
   "metadata": {},
   "outputs": [
    {
     "name": "stdout",
     "output_type": "stream",
     "text": [
      "0.10972238793125305\n"
     ]
    }
   ],
   "source": [
    "print(df2['helpfulness_score'].corr(df2['wps']))"
   ]
  },
  {
   "cell_type": "code",
   "execution_count": 4,
   "metadata": {
    "collapsed": true
   },
   "outputs": [],
   "source": [
    "mytext = \"Exasperating farrago of distortions,  as something\""
   ]
  },
  {
   "cell_type": "code",
   "execution_count": 5,
   "metadata": {},
   "outputs": [
    {
     "data": {
      "text/plain": [
       "3"
      ]
     },
     "execution_count": 5,
     "metadata": {},
     "output_type": "execute_result"
    }
   ],
   "source": [
    "textstat.difficult_words(mytext)"
   ]
  },
  {
   "cell_type": "code",
   "execution_count": 9,
   "metadata": {},
   "outputs": [
    {
     "data": {
      "text/plain": [
       "0"
      ]
     },
     "execution_count": 9,
     "metadata": {},
     "output_type": "execute_result"
    }
   ],
   "source": [
    "textstat.difficult_words(\"This is my good it\")"
   ]
  },
  {
   "cell_type": "code",
   "execution_count": 11,
   "metadata": {},
   "outputs": [
    {
     "data": {
      "text/plain": [
       "<textstat.textstat.textstatistics at 0x207adbc29b0>"
      ]
     },
     "execution_count": 11,
     "metadata": {},
     "output_type": "execute_result"
    }
   ],
   "source": []
  },
  {
   "cell_type": "code",
   "execution_count": null,
   "metadata": {
    "collapsed": true
   },
   "outputs": [],
   "source": [
    "def get_words_per_sentence(text):\n",
    "   return len(text.split())/textstat.sentence_count(text)\n",
    "\n",
    "text_df['wps']= text_df['reviewText'].swifter.apply(get_words_per_sentence)\n",
    "\n",
    "textstat.sentence_count(text_df.iloc[2]['reviewText'])\n",
    "\n",
    "text_df.iloc[3]['reviewText']\n",
    "\n",
    "text_df.to_csv('Text_Parameters.csv')"
   ]
  }
 ],
 "metadata": {
  "kernelspec": {
   "display_name": "Python 3",
   "language": "python",
   "name": "python3"
  },
  "language_info": {
   "codemirror_mode": {
    "name": "ipython",
    "version": 3
   },
   "file_extension": ".py",
   "mimetype": "text/x-python",
   "name": "python",
   "nbconvert_exporter": "python",
   "pygments_lexer": "ipython3",
   "version": "3.6.1"
  }
 },
 "nbformat": 4,
 "nbformat_minor": 2
}
