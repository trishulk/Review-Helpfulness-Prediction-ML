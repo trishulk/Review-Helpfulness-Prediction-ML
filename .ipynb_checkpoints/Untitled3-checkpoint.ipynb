{
 "cells": [
  {
   "cell_type": "code",
   "execution_count": 21,
   "metadata": {
    "collapsed": true
   },
   "outputs": [],
   "source": [
    "import pandas as pd\n",
    "import seaborn as sns\n",
    "import matplotlib.pyplot as plt\n",
    "%matplotlib inline\n",
    "import numpy as np\n",
    "import gzip\n",
    "import nltk"
   ]
  },
  {
   "cell_type": "code",
   "execution_count": 2,
   "metadata": {
    "collapsed": true
   },
   "outputs": [],
   "source": [
    "\n",
    "\n",
    "def parse(path):\n",
    "  g = gzip.open(path, 'rb')\n",
    "  for l in g:\n",
    "    yield eval(l)\n",
    "\n",
    "def getDF(path):\n",
    "  i = 0\n",
    "  df = {}\n",
    "  for d in parse(path):\n",
    "    df[i] = d\n",
    "    i += 1\n",
    "  return pd.DataFrame.from_dict(df, orient='index')\n",
    "\n"
   ]
  },
  {
   "cell_type": "code",
   "execution_count": 3,
   "metadata": {
    "collapsed": true
   },
   "outputs": [],
   "source": []
  },
  {
   "cell_type": "code",
   "execution_count": 8,
   "metadata": {},
   "outputs": [
    {
     "data": {
      "text/html": [
       "<div>\n",
       "<style>\n",
       "    .dataframe thead tr:only-child th {\n",
       "        text-align: right;\n",
       "    }\n",
       "\n",
       "    .dataframe thead th {\n",
       "        text-align: left;\n",
       "    }\n",
       "\n",
       "    .dataframe tbody tr th {\n",
       "        vertical-align: top;\n",
       "    }\n",
       "</style>\n",
       "<table border=\"1\" class=\"dataframe\">\n",
       "  <thead>\n",
       "    <tr style=\"text-align: right;\">\n",
       "      <th></th>\n",
       "      <th>asin</th>\n",
       "      <th>imUrl</th>\n",
       "      <th>description</th>\n",
       "      <th>categories</th>\n",
       "      <th>title</th>\n",
       "      <th>price</th>\n",
       "      <th>salesRank</th>\n",
       "      <th>related</th>\n",
       "      <th>brand</th>\n",
       "    </tr>\n",
       "  </thead>\n",
       "  <tbody>\n",
       "    <tr>\n",
       "      <th>0</th>\n",
       "      <td>0132793040</td>\n",
       "      <td>http://ecx.images-amazon.com/images/I/31JIPhp%...</td>\n",
       "      <td>The Kelby Training DVD Mastering Blend Modes i...</td>\n",
       "      <td>[[Electronics, Computers &amp; Accessories, Cables...</td>\n",
       "      <td>Kelby Training DVD: Mastering Blend Modes in A...</td>\n",
       "      <td>NaN</td>\n",
       "      <td>NaN</td>\n",
       "      <td>NaN</td>\n",
       "      <td>NaN</td>\n",
       "    </tr>\n",
       "    <tr>\n",
       "      <th>1</th>\n",
       "      <td>0321732944</td>\n",
       "      <td>http://ecx.images-amazon.com/images/I/31uogm6Y...</td>\n",
       "      <td>NaN</td>\n",
       "      <td>[[Electronics, Computers &amp; Accessories, Cables...</td>\n",
       "      <td>Kelby Training DVD: Adobe Photoshop CS5 Crash ...</td>\n",
       "      <td>NaN</td>\n",
       "      <td>NaN</td>\n",
       "      <td>NaN</td>\n",
       "      <td>NaN</td>\n",
       "    </tr>\n",
       "    <tr>\n",
       "      <th>2</th>\n",
       "      <td>0439886341</td>\n",
       "      <td>http://ecx.images-amazon.com/images/I/51k0qa8f...</td>\n",
       "      <td>Digital Organizer and Messenger</td>\n",
       "      <td>[[Electronics, Computers &amp; Accessories, PDAs, ...</td>\n",
       "      <td>Digital Organizer and Messenger</td>\n",
       "      <td>8.15</td>\n",
       "      <td>{'Electronics': 144944}</td>\n",
       "      <td>{'also_viewed': ['0545016266', 'B009ECM8QY', '...</td>\n",
       "      <td>NaN</td>\n",
       "    </tr>\n",
       "    <tr>\n",
       "      <th>3</th>\n",
       "      <td>0511189877</td>\n",
       "      <td>http://ecx.images-amazon.com/images/I/41HaAhbv...</td>\n",
       "      <td>The CLIKR-5 UR5U-8780L remote control is desig...</td>\n",
       "      <td>[[Electronics, Accessories &amp; Supplies, Audio &amp;...</td>\n",
       "      <td>CLIKR-5 Time Warner Cable Remote Control UR5U-...</td>\n",
       "      <td>23.36</td>\n",
       "      <td>NaN</td>\n",
       "      <td>{'also_viewed': ['B001KC08A4', 'B00KUL8O0W', '...</td>\n",
       "      <td>NaN</td>\n",
       "    </tr>\n",
       "    <tr>\n",
       "      <th>4</th>\n",
       "      <td>0528881469</td>\n",
       "      <td>http://ecx.images-amazon.com/images/I/51FnRkJq...</td>\n",
       "      <td>Like its award-winning predecessor, the Intell...</td>\n",
       "      <td>[[Electronics, GPS &amp; Navigation, Vehicle GPS, ...</td>\n",
       "      <td>Rand McNally 528881469 7-inch Intelliroute TND...</td>\n",
       "      <td>299.99</td>\n",
       "      <td>NaN</td>\n",
       "      <td>{'also_viewed': ['B006ZOI9OY', 'B00C7FKT2A', '...</td>\n",
       "      <td>NaN</td>\n",
       "    </tr>\n",
       "  </tbody>\n",
       "</table>\n",
       "</div>"
      ],
      "text/plain": [
       "         asin                                              imUrl  \\\n",
       "0  0132793040  http://ecx.images-amazon.com/images/I/31JIPhp%...   \n",
       "1  0321732944  http://ecx.images-amazon.com/images/I/31uogm6Y...   \n",
       "2  0439886341  http://ecx.images-amazon.com/images/I/51k0qa8f...   \n",
       "3  0511189877  http://ecx.images-amazon.com/images/I/41HaAhbv...   \n",
       "4  0528881469  http://ecx.images-amazon.com/images/I/51FnRkJq...   \n",
       "\n",
       "                                         description  \\\n",
       "0  The Kelby Training DVD Mastering Blend Modes i...   \n",
       "1                                                NaN   \n",
       "2                    Digital Organizer and Messenger   \n",
       "3  The CLIKR-5 UR5U-8780L remote control is desig...   \n",
       "4  Like its award-winning predecessor, the Intell...   \n",
       "\n",
       "                                          categories  \\\n",
       "0  [[Electronics, Computers & Accessories, Cables...   \n",
       "1  [[Electronics, Computers & Accessories, Cables...   \n",
       "2  [[Electronics, Computers & Accessories, PDAs, ...   \n",
       "3  [[Electronics, Accessories & Supplies, Audio &...   \n",
       "4  [[Electronics, GPS & Navigation, Vehicle GPS, ...   \n",
       "\n",
       "                                               title   price  \\\n",
       "0  Kelby Training DVD: Mastering Blend Modes in A...     NaN   \n",
       "1  Kelby Training DVD: Adobe Photoshop CS5 Crash ...     NaN   \n",
       "2                    Digital Organizer and Messenger    8.15   \n",
       "3  CLIKR-5 Time Warner Cable Remote Control UR5U-...   23.36   \n",
       "4  Rand McNally 528881469 7-inch Intelliroute TND...  299.99   \n",
       "\n",
       "                 salesRank                                            related  \\\n",
       "0                      NaN                                                NaN   \n",
       "1                      NaN                                                NaN   \n",
       "2  {'Electronics': 144944}  {'also_viewed': ['0545016266', 'B009ECM8QY', '...   \n",
       "3                      NaN  {'also_viewed': ['B001KC08A4', 'B00KUL8O0W', '...   \n",
       "4                      NaN  {'also_viewed': ['B006ZOI9OY', 'B00C7FKT2A', '...   \n",
       "\n",
       "  brand  \n",
       "0   NaN  \n",
       "1   NaN  \n",
       "2   NaN  \n",
       "3   NaN  \n",
       "4   NaN  "
      ]
     },
     "execution_count": 8,
     "metadata": {},
     "output_type": "execute_result"
    }
   ],
   "source": []
  },
  {
   "cell_type": "code",
   "execution_count": 7,
   "metadata": {},
   "outputs": [
    {
     "data": {
      "text/plain": [
       "'http://ecx.images-amazon.com/images/I/31JIPhp%2BGIL.jpg'"
      ]
     },
     "execution_count": 7,
     "metadata": {},
     "output_type": "execute_result"
    }
   ],
   "source": [
    "df['imUrl'][0]"
   ]
  },
  {
   "cell_type": "code",
   "execution_count": 6,
   "metadata": {},
   "outputs": [
    {
     "data": {
      "text/plain": [
       "'The Kelby Training DVD Mastering Blend Modes in Adobe Photoshop CS5 with Corey Barker is a useful tool for becoming familiar with the use of blend modes in Adobe Photoshop. For those who are serious about mastering all that Photoshop has to offer, mastering blend modes is just as important as mastering layers.In this DVD tutorial, seasoned expert Corey Barker explores the function of blend modes in a variety of scenarios such as image restoration, sharpening, adjustments, special effects and much more. Since every project scenario is different, Corey encourages you to experiment with these blend modes by giving you the skills and confidence you need.'"
      ]
     },
     "execution_count": 6,
     "metadata": {},
     "output_type": "execute_result"
    }
   ],
   "source": [
    "df['description'][0]"
   ]
  },
  {
   "cell_type": "code",
   "execution_count": 15,
   "metadata": {
    "collapsed": true
   },
   "outputs": [],
   "source": [
    "meta_df = pd.read_csv('meta_data')"
   ]
  },
  {
   "cell_type": "code",
   "execution_count": 16,
   "metadata": {},
   "outputs": [
    {
     "data": {
      "text/html": [
       "<div>\n",
       "<style>\n",
       "    .dataframe thead tr:only-child th {\n",
       "        text-align: right;\n",
       "    }\n",
       "\n",
       "    .dataframe thead th {\n",
       "        text-align: left;\n",
       "    }\n",
       "\n",
       "    .dataframe tbody tr th {\n",
       "        vertical-align: top;\n",
       "    }\n",
       "</style>\n",
       "<table border=\"1\" class=\"dataframe\">\n",
       "  <thead>\n",
       "    <tr style=\"text-align: right;\">\n",
       "      <th></th>\n",
       "      <th>Unnamed: 0</th>\n",
       "      <th>asin</th>\n",
       "      <th>imUrl</th>\n",
       "      <th>description</th>\n",
       "      <th>categories</th>\n",
       "      <th>title</th>\n",
       "      <th>price</th>\n",
       "      <th>salesRank</th>\n",
       "      <th>related</th>\n",
       "      <th>brand</th>\n",
       "    </tr>\n",
       "  </thead>\n",
       "  <tbody>\n",
       "    <tr>\n",
       "      <th>0</th>\n",
       "      <td>4</td>\n",
       "      <td>0528881469</td>\n",
       "      <td>http://ecx.images-amazon.com/images/I/51FnRkJq...</td>\n",
       "      <td>Like its award-winning predecessor, the Intell...</td>\n",
       "      <td>[['Electronics', 'GPS &amp; Navigation', 'Vehicle ...</td>\n",
       "      <td>Rand McNally 528881469 7-inch Intelliroute TND...</td>\n",
       "      <td>299.99</td>\n",
       "      <td>NaN</td>\n",
       "      <td>{'also_viewed': ['B006ZOI9OY', 'B00C7FKT2A', '...</td>\n",
       "      <td>NaN</td>\n",
       "    </tr>\n",
       "    <tr>\n",
       "      <th>1</th>\n",
       "      <td>15</td>\n",
       "      <td>0594451647</td>\n",
       "      <td>http://ecx.images-amazon.com/images/I/51RjSETO...</td>\n",
       "      <td>HDTV Adapter Kit for NOOK HD and NOOK HD+\\r\\nT...</td>\n",
       "      <td>[['Electronics', 'Computers &amp; Accessories', 'T...</td>\n",
       "      <td>Barnes &amp;amp; Noble HDTV Adapter Kit for NOOK H...</td>\n",
       "      <td>49.95</td>\n",
       "      <td>NaN</td>\n",
       "      <td>{'also_bought': ['B009L7EEZA', 'B00AGAYQEU', '...</td>\n",
       "      <td>NaN</td>\n",
       "    </tr>\n",
       "    <tr>\n",
       "      <th>2</th>\n",
       "      <td>20</td>\n",
       "      <td>0594481813</td>\n",
       "      <td>http://ecx.images-amazon.com/images/I/41K7ymN5...</td>\n",
       "      <td>Power up your device with this Barnes &amp;amp; No...</td>\n",
       "      <td>[['Electronics', 'eBook Readers &amp; Accessories'...</td>\n",
       "      <td>Barnes &amp;amp; Noble OV/HB-ADP Universal Power Kit</td>\n",
       "      <td>19.65</td>\n",
       "      <td>NaN</td>\n",
       "      <td>{'also_bought': ['B00AAKLIIS', 'B00A668GUO', '...</td>\n",
       "      <td>Barnes &amp;amp; Noble</td>\n",
       "    </tr>\n",
       "    <tr>\n",
       "      <th>3</th>\n",
       "      <td>38</td>\n",
       "      <td>0972683275</td>\n",
       "      <td>http://ecx.images-amazon.com/images/I/41hYJ9Mw...</td>\n",
       "      <td>The VideoSecu TV mount is a mounting solution ...</td>\n",
       "      <td>[['Electronics', 'Accessories &amp; Supplies', 'Au...</td>\n",
       "      <td>VideoSecu 24&amp;quot; Long Arm TV Wall Mount Low ...</td>\n",
       "      <td>29.99</td>\n",
       "      <td>{}</td>\n",
       "      <td>{'also_bought': ['B000X3KOD2', 'B0074FGR74', '...</td>\n",
       "      <td>VideoSecu</td>\n",
       "    </tr>\n",
       "    <tr>\n",
       "      <th>4</th>\n",
       "      <td>53</td>\n",
       "      <td>1400532620</td>\n",
       "      <td>http://ecx.images-amazon.com/images/I/519ca3cu...</td>\n",
       "      <td>Barnes &amp; Noble Nook eReader - no 3GMeet nook. ...</td>\n",
       "      <td>[['Electronics', 'eBook Readers &amp; Accessories']]</td>\n",
       "      <td>Barnes &amp;amp; Noble Nook eReader - no 3G</td>\n",
       "      <td>74.95</td>\n",
       "      <td>{'Electronics': 23071}</td>\n",
       "      <td>{'also_bought': ['B0035CLBT4', 'B004X18N24', '...</td>\n",
       "      <td>Barnes &amp;amp; Noble</td>\n",
       "    </tr>\n",
       "  </tbody>\n",
       "</table>\n",
       "</div>"
      ],
      "text/plain": [
       "   Unnamed: 0        asin                                              imUrl  \\\n",
       "0           4  0528881469  http://ecx.images-amazon.com/images/I/51FnRkJq...   \n",
       "1          15  0594451647  http://ecx.images-amazon.com/images/I/51RjSETO...   \n",
       "2          20  0594481813  http://ecx.images-amazon.com/images/I/41K7ymN5...   \n",
       "3          38  0972683275  http://ecx.images-amazon.com/images/I/41hYJ9Mw...   \n",
       "4          53  1400532620  http://ecx.images-amazon.com/images/I/519ca3cu...   \n",
       "\n",
       "                                         description  \\\n",
       "0  Like its award-winning predecessor, the Intell...   \n",
       "1  HDTV Adapter Kit for NOOK HD and NOOK HD+\\r\\nT...   \n",
       "2  Power up your device with this Barnes &amp; No...   \n",
       "3  The VideoSecu TV mount is a mounting solution ...   \n",
       "4  Barnes & Noble Nook eReader - no 3GMeet nook. ...   \n",
       "\n",
       "                                          categories  \\\n",
       "0  [['Electronics', 'GPS & Navigation', 'Vehicle ...   \n",
       "1  [['Electronics', 'Computers & Accessories', 'T...   \n",
       "2  [['Electronics', 'eBook Readers & Accessories'...   \n",
       "3  [['Electronics', 'Accessories & Supplies', 'Au...   \n",
       "4   [['Electronics', 'eBook Readers & Accessories']]   \n",
       "\n",
       "                                               title   price  \\\n",
       "0  Rand McNally 528881469 7-inch Intelliroute TND...  299.99   \n",
       "1  Barnes &amp; Noble HDTV Adapter Kit for NOOK H...   49.95   \n",
       "2   Barnes &amp; Noble OV/HB-ADP Universal Power Kit   19.65   \n",
       "3  VideoSecu 24&quot; Long Arm TV Wall Mount Low ...   29.99   \n",
       "4            Barnes &amp; Noble Nook eReader - no 3G   74.95   \n",
       "\n",
       "                salesRank                                            related  \\\n",
       "0                     NaN  {'also_viewed': ['B006ZOI9OY', 'B00C7FKT2A', '...   \n",
       "1                     NaN  {'also_bought': ['B009L7EEZA', 'B00AGAYQEU', '...   \n",
       "2                     NaN  {'also_bought': ['B00AAKLIIS', 'B00A668GUO', '...   \n",
       "3                      {}  {'also_bought': ['B000X3KOD2', 'B0074FGR74', '...   \n",
       "4  {'Electronics': 23071}  {'also_bought': ['B0035CLBT4', 'B004X18N24', '...   \n",
       "\n",
       "                brand  \n",
       "0                 NaN  \n",
       "1                 NaN  \n",
       "2  Barnes &amp; Noble  \n",
       "3           VideoSecu  \n",
       "4  Barnes &amp; Noble  "
      ]
     },
     "execution_count": 16,
     "metadata": {},
     "output_type": "execute_result"
    }
   ],
   "source": [
    "meta_df.head()"
   ]
  },
  {
   "cell_type": "code",
   "execution_count": 17,
   "metadata": {},
   "outputs": [
    {
     "data": {
      "text/plain": [
       "63001"
      ]
     },
     "execution_count": 17,
     "metadata": {},
     "output_type": "execute_result"
    }
   ],
   "source": [
    "len(meta_df)"
   ]
  },
  {
   "cell_type": "code",
   "execution_count": 9,
   "metadata": {
    "collapsed": true
   },
   "outputs": [],
   "source": [
    "df = pd.read_csv('Amazon_Gt_10')"
   ]
  },
  {
   "cell_type": "code",
   "execution_count": 10,
   "metadata": {},
   "outputs": [
    {
     "data": {
      "text/html": [
       "<div>\n",
       "<style>\n",
       "    .dataframe thead tr:only-child th {\n",
       "        text-align: right;\n",
       "    }\n",
       "\n",
       "    .dataframe thead th {\n",
       "        text-align: left;\n",
       "    }\n",
       "\n",
       "    .dataframe tbody tr th {\n",
       "        vertical-align: top;\n",
       "    }\n",
       "</style>\n",
       "<table border=\"1\" class=\"dataframe\">\n",
       "  <thead>\n",
       "    <tr style=\"text-align: right;\">\n",
       "      <th></th>\n",
       "      <th>Unnamed: 0</th>\n",
       "      <th>reviewerID</th>\n",
       "      <th>asin</th>\n",
       "      <th>reviewerName</th>\n",
       "      <th>helpful</th>\n",
       "      <th>reviewText</th>\n",
       "      <th>overall</th>\n",
       "      <th>summary</th>\n",
       "      <th>unixReviewTime</th>\n",
       "      <th>reviewTime</th>\n",
       "      <th>helpfulness_score</th>\n",
       "      <th>user_deviation</th>\n",
       "      <th>review_delay</th>\n",
       "    </tr>\n",
       "  </thead>\n",
       "  <tbody>\n",
       "    <tr>\n",
       "      <th>0</th>\n",
       "      <td>1</td>\n",
       "      <td>AMO214LNFCEI4</td>\n",
       "      <td>0528881469</td>\n",
       "      <td>Amazon Customer</td>\n",
       "      <td>[12, 15]</td>\n",
       "      <td>I'm a professional OTR truck driver, and I bou...</td>\n",
       "      <td>1.0</td>\n",
       "      <td>Very Disappointed</td>\n",
       "      <td>1290643200</td>\n",
       "      <td>11 25, 2010</td>\n",
       "      <td>0.800000</td>\n",
       "      <td>1.399189</td>\n",
       "      <td>6652800</td>\n",
       "    </tr>\n",
       "    <tr>\n",
       "      <th>1</th>\n",
       "      <td>2</td>\n",
       "      <td>A3N7T0DY83Y4IG</td>\n",
       "      <td>0528881469</td>\n",
       "      <td>C. A. Freeman</td>\n",
       "      <td>[43, 45]</td>\n",
       "      <td>Well, what can I say.  I've had this unit in m...</td>\n",
       "      <td>3.0</td>\n",
       "      <td>1st impression</td>\n",
       "      <td>1283990400</td>\n",
       "      <td>09 9, 2010</td>\n",
       "      <td>0.955556</td>\n",
       "      <td>0.624437</td>\n",
       "      <td>0</td>\n",
       "    </tr>\n",
       "    <tr>\n",
       "      <th>2</th>\n",
       "      <td>3</td>\n",
       "      <td>A1H8PY3QHMQQA0</td>\n",
       "      <td>0528881469</td>\n",
       "      <td>Dave M. Shaw \"mack dave\"</td>\n",
       "      <td>[9, 10]</td>\n",
       "      <td>Not going to write a long review, even thought...</td>\n",
       "      <td>2.0</td>\n",
       "      <td>Great grafics, POOR GPS</td>\n",
       "      <td>1290556800</td>\n",
       "      <td>11 24, 2010</td>\n",
       "      <td>0.900000</td>\n",
       "      <td>0.510375</td>\n",
       "      <td>6566400</td>\n",
       "    </tr>\n",
       "    <tr>\n",
       "      <th>3</th>\n",
       "      <td>56</td>\n",
       "      <td>A3QH8VQDE7HZCR</td>\n",
       "      <td>0972683275</td>\n",
       "      <td>costaricachris</td>\n",
       "      <td>[15, 19]</td>\n",
       "      <td>Quality was excellent. Instructions were clear...</td>\n",
       "      <td>5.0</td>\n",
       "      <td>Real value for the money</td>\n",
       "      <td>1286236800</td>\n",
       "      <td>10 5, 2010</td>\n",
       "      <td>0.789474</td>\n",
       "      <td>0.442171</td>\n",
       "      <td>2678400</td>\n",
       "    </tr>\n",
       "    <tr>\n",
       "      <th>4</th>\n",
       "      <td>82</td>\n",
       "      <td>A38FGQVJM18OWV</td>\n",
       "      <td>0972683275</td>\n",
       "      <td>George S. Mitchell \"gsmitchell\"</td>\n",
       "      <td>[8, 18]</td>\n",
       "      <td>I checked around Amazon as well as some other ...</td>\n",
       "      <td>1.0</td>\n",
       "      <td>What a piece of junk!</td>\n",
       "      <td>1291161600</td>\n",
       "      <td>12 1, 2010</td>\n",
       "      <td>0.444444</td>\n",
       "      <td>1.616074</td>\n",
       "      <td>7603200</td>\n",
       "    </tr>\n",
       "  </tbody>\n",
       "</table>\n",
       "</div>"
      ],
      "text/plain": [
       "   Unnamed: 0      reviewerID        asin                     reviewerName  \\\n",
       "0           1   AMO214LNFCEI4  0528881469                  Amazon Customer   \n",
       "1           2  A3N7T0DY83Y4IG  0528881469                    C. A. Freeman   \n",
       "2           3  A1H8PY3QHMQQA0  0528881469         Dave M. Shaw \"mack dave\"   \n",
       "3          56  A3QH8VQDE7HZCR  0972683275                   costaricachris   \n",
       "4          82  A38FGQVJM18OWV  0972683275  George S. Mitchell \"gsmitchell\"   \n",
       "\n",
       "    helpful                                         reviewText  overall  \\\n",
       "0  [12, 15]  I'm a professional OTR truck driver, and I bou...      1.0   \n",
       "1  [43, 45]  Well, what can I say.  I've had this unit in m...      3.0   \n",
       "2   [9, 10]  Not going to write a long review, even thought...      2.0   \n",
       "3  [15, 19]  Quality was excellent. Instructions were clear...      5.0   \n",
       "4   [8, 18]  I checked around Amazon as well as some other ...      1.0   \n",
       "\n",
       "                    summary  unixReviewTime   reviewTime  helpfulness_score  \\\n",
       "0         Very Disappointed      1290643200  11 25, 2010           0.800000   \n",
       "1            1st impression      1283990400   09 9, 2010           0.955556   \n",
       "2   Great grafics, POOR GPS      1290556800  11 24, 2010           0.900000   \n",
       "3  Real value for the money      1286236800   10 5, 2010           0.789474   \n",
       "4     What a piece of junk!      1291161600   12 1, 2010           0.444444   \n",
       "\n",
       "   user_deviation  review_delay  \n",
       "0        1.399189       6652800  \n",
       "1        0.624437             0  \n",
       "2        0.510375       6566400  \n",
       "3        0.442171       2678400  \n",
       "4        1.616074       7603200  "
      ]
     },
     "execution_count": 10,
     "metadata": {},
     "output_type": "execute_result"
    }
   ],
   "source": [
    "df.head()"
   ]
  },
  {
   "cell_type": "code",
   "execution_count": 11,
   "metadata": {},
   "outputs": [
    {
     "data": {
      "text/plain": [
       "'0972683275'"
      ]
     },
     "execution_count": 11,
     "metadata": {},
     "output_type": "execute_result"
    }
   ],
   "source": [
    "df['asin'][3]"
   ]
  },
  {
   "cell_type": "code",
   "execution_count": 18,
   "metadata": {
    "collapsed": true
   },
   "outputs": [],
   "source": [
    "product_reviews=df[df['asin']=='0972683275']"
   ]
  },
  {
   "cell_type": "code",
   "execution_count": 22,
   "metadata": {},
   "outputs": [],
   "source": [
    "description=meta_df[meta_df['asin']=='0972683275']['description'][3]"
   ]
  },
  {
   "cell_type": "code",
   "execution_count": 20,
   "metadata": {},
   "outputs": [
    {
     "name": "stdout",
     "output_type": "stream",
     "text": [
      "0.736842105263\n",
      "I mounted this in my RV and it holds a 26\" LCD TV / DVD combo.  Installation was very easy and the mount works GREAT!  I was prepared to pay 5 times the price for a mount that would work as I wanted.  I couldn't be happier.\n"
     ]
    }
   ],
   "source": [
    "print(product_reviews.iloc[2]['helpfulness_score'])\n",
    "print(product_reviews.iloc[2]['reviewText'])\n",
    "reviewText = product_reviews.iloc[2]['reviewText']"
   ]
  },
  {
   "cell_type": "code",
   "execution_count": null,
   "metadata": {
    "collapsed": true
   },
   "outputs": [],
   "source": []
  }
 ],
 "metadata": {
  "kernelspec": {
   "display_name": "Python 3",
   "language": "python",
   "name": "python3"
  },
  "language_info": {
   "codemirror_mode": {
    "name": "ipython",
    "version": 3
   },
   "file_extension": ".py",
   "mimetype": "text/x-python",
   "name": "python",
   "nbconvert_exporter": "python",
   "pygments_lexer": "ipython3",
   "version": "3.6.1"
  }
 },
 "nbformat": 4,
 "nbformat_minor": 2
}
