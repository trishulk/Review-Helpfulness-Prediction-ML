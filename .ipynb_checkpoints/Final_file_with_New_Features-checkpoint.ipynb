{
 "cells": [
  {
   "cell_type": "code",
   "execution_count": 1,
   "metadata": {
    "collapsed": true
   },
   "outputs": [],
   "source": [
    "import pandas as pd\n",
    "import seaborn as sns\n",
    "import matplotlib.pyplot as plt\n",
    "%matplotlib inline\n",
    "import numpy as np\n",
    "import gzip\n",
    "\n",
    "import nltk\n",
    "from nltk.corpus import stopwords \n",
    "from nltk.tokenize import word_tokenize, sent_tokenize \n",
    "from nltk.stem import PorterStemmer\n",
    "from nltk.stem import WordNetLemmatizer\n",
    "import string\n",
    "\n",
    "import dask.dataframe as dd\n",
    "from dask.multiprocessing import get\n",
    "import textstat\n",
    "import swifter\n",
    "\n",
    "import ast\n",
    "import math\n",
    "\n",
    "from sklearn.model_selection import train_test_split\n",
    "\n",
    "from sklearn.linear_model import LinearRegression\n",
    "from sklearn.ensemble import RandomForestRegressor\n",
    "\n",
    "from sklearn.metrics import mean_absolute_error\n",
    "from sklearn.metrics import mean_squared_error\n",
    "\n",
    "from sklearn.preprocessing import StandardScaler\n",
    "from sklearn.preprocessing import MinMaxScaler\n",
    "\n",
    "from sklearn.svm import SVR\n",
    "from sklearn.model_selection import GridSearchCV\n",
    "from sklearn.model_selection import RandomizedSearchCV\n",
    "import xgboost as xgb\n",
    "from sklearn.model_selection import KFold"
   ]
  },
  {
   "cell_type": "code",
   "execution_count": 165,
   "metadata": {
    "collapsed": true
   },
   "outputs": [],
   "source": [
    "# GET ALL THE DATAFRAMES :-\n",
    "# 1.NORMAL REVIEWS\n",
    "# 2.REVIEW TEXT Characteristics\n",
    "# 3.USER Charecteristics\n",
    "# 4.REVIEW METADATA Characteristics\n",
    "# 5.PRODUCT METADATA\n",
    "\n",
    "review_df = pd.read_csv('Amazon_Latest_Data.csv')\n",
    "text_df = pd.read_csv('Text_Parameters.csv')\n",
    "user_df = pd.read_csv('User_DF.csv')\n",
    "meta_df = pd.read_csv('Review_Meta_Data.csv')\n",
    "product_data_df = pd.read_csv('meta_data_latest.csv')"
   ]
  },
  {
   "cell_type": "code",
   "execution_count": 19,
   "metadata": {},
   "outputs": [
    {
     "data": {
      "text/html": [
       "<div>\n",
       "<style scoped>\n",
       "    .dataframe tbody tr th:only-of-type {\n",
       "        vertical-align: middle;\n",
       "    }\n",
       "\n",
       "    .dataframe tbody tr th {\n",
       "        vertical-align: top;\n",
       "    }\n",
       "\n",
       "    .dataframe thead th {\n",
       "        text-align: right;\n",
       "    }\n",
       "</style>\n",
       "<table border=\"1\" class=\"dataframe\">\n",
       "  <thead>\n",
       "    <tr style=\"text-align: right;\">\n",
       "      <th></th>\n",
       "      <th>reviewerID</th>\n",
       "      <th>reviewerName</th>\n",
       "      <th>reviewText</th>\n",
       "      <th>user_deviation</th>\n",
       "      <th>user_delay</th>\n",
       "      <th>helpful_votes</th>\n",
       "      <th>total_votes</th>\n",
       "      <th>no_of_reviews</th>\n",
       "    </tr>\n",
       "  </thead>\n",
       "  <tbody>\n",
       "    <tr>\n",
       "      <th>81270</th>\n",
       "      <td>APRNS6DB68LLV</td>\n",
       "      <td>Rob Slaven \"slavenrm@gmail. com\"</td>\n",
       "      <td>As usual I received this item for free in exch...</td>\n",
       "      <td>0.597583</td>\n",
       "      <td>1.440000e+05</td>\n",
       "      <td>0</td>\n",
       "      <td>0</td>\n",
       "      <td>0</td>\n",
       "    </tr>\n",
       "    <tr>\n",
       "      <th>81271</th>\n",
       "      <td>A3A4ZAIBQWKOZS</td>\n",
       "      <td>Stephen M. Lerch</td>\n",
       "      <td>Want to add wireless audio streaming to your h...</td>\n",
       "      <td>0.546834</td>\n",
       "      <td>7.752649e+06</td>\n",
       "      <td>1482</td>\n",
       "      <td>1628</td>\n",
       "      <td>27</td>\n",
       "    </tr>\n",
       "    <tr>\n",
       "      <th>81272</th>\n",
       "      <td>A18R0PC372EGL</td>\n",
       "      <td>Blues</td>\n",
       "      <td>Wow...that's about all I have to say.  Having ...</td>\n",
       "      <td>0.448464</td>\n",
       "      <td>2.592000e+05</td>\n",
       "      <td>7</td>\n",
       "      <td>11</td>\n",
       "      <td>1</td>\n",
       "    </tr>\n",
       "    <tr>\n",
       "      <th>81273</th>\n",
       "      <td>A3OOQH73VQ97VN</td>\n",
       "      <td>Jem \"Microsoft\"</td>\n",
       "      <td>Update 14 July 2014: they have a white paper a...</td>\n",
       "      <td>0.742179</td>\n",
       "      <td>2.221714e+05</td>\n",
       "      <td>73</td>\n",
       "      <td>100</td>\n",
       "      <td>4</td>\n",
       "    </tr>\n",
       "    <tr>\n",
       "      <th>81274</th>\n",
       "      <td>A3A4ZAIBQWKOZS</td>\n",
       "      <td>Stephen M. Lerch</td>\n",
       "      <td>My short review:If you have the money to spend...</td>\n",
       "      <td>0.546834</td>\n",
       "      <td>7.752649e+06</td>\n",
       "      <td>1482</td>\n",
       "      <td>1628</td>\n",
       "      <td>27</td>\n",
       "    </tr>\n",
       "  </tbody>\n",
       "</table>\n",
       "</div>"
      ],
      "text/plain": [
       "           reviewerID                      reviewerName  \\\n",
       "81270   APRNS6DB68LLV  Rob Slaven \"slavenrm@gmail. com\"   \n",
       "81271  A3A4ZAIBQWKOZS                  Stephen M. Lerch   \n",
       "81272   A18R0PC372EGL                             Blues   \n",
       "81273  A3OOQH73VQ97VN                   Jem \"Microsoft\"   \n",
       "81274  A3A4ZAIBQWKOZS                  Stephen M. Lerch   \n",
       "\n",
       "                                              reviewText  user_deviation  \\\n",
       "81270  As usual I received this item for free in exch...        0.597583   \n",
       "81271  Want to add wireless audio streaming to your h...        0.546834   \n",
       "81272  Wow...that's about all I have to say.  Having ...        0.448464   \n",
       "81273  Update 14 July 2014: they have a white paper a...        0.742179   \n",
       "81274  My short review:If you have the money to spend...        0.546834   \n",
       "\n",
       "         user_delay  helpful_votes  total_votes  no_of_reviews  \n",
       "81270  1.440000e+05              0            0              0  \n",
       "81271  7.752649e+06           1482         1628             27  \n",
       "81272  2.592000e+05              7           11              1  \n",
       "81273  2.221714e+05             73          100              4  \n",
       "81274  7.752649e+06           1482         1628             27  "
      ]
     },
     "execution_count": 19,
     "metadata": {},
     "output_type": "execute_result"
    }
   ],
   "source": [
    "user_df.tail()"
   ]
  },
  {
   "cell_type": "code",
   "execution_count": 49,
   "metadata": {},
   "outputs": [
    {
     "data": {
      "text/plain": [
       "Index(['flesch_reading_ease', 'smog_index', 'flesch_kincaid_grade',\n",
       "       'coleman_liau_index', 'automated_readability_index',\n",
       "       'dale_chall_readability_score', 'difficult_words',\n",
       "       'linsear_write_formula', 'gunning_fog', 'sentence_count', 'wps',\n",
       "       'review_length', 'pos_no', 'neg_no', 'user_deviation', 'user_delay',\n",
       "       'no_of_reviews', 'stem_sim_length', 'lem_sim_length', 'overall'],\n",
       "      dtype='object')"
      ]
     },
     "execution_count": 49,
     "metadata": {},
     "output_type": "execute_result"
    }
   ],
   "source": [
    "X = text_df[['flesch_reading_ease', \n",
    "       'smog_index', 'flesch_kincaid_grade', 'coleman_liau_index',\n",
    "       'automated_readability_index', 'dale_chall_readability_score',\n",
    "       'difficult_words', 'linsear_write_formula', 'gunning_fog',\n",
    "       'sentence_count', 'wps', 'review_length', 'pos_no', 'neg_no']]\n",
    "\n",
    "X=X.join(user_df[['user_deviation','user_delay','no_of_reviews']])\n",
    "\n",
    "X = X.join(meta_df[['stem_sim_length','lem_sim_length','overall']])\n",
    "\n",
    "X.columns"
   ]
  },
  {
   "cell_type": "code",
   "execution_count": 50,
   "metadata": {},
   "outputs": [
    {
     "data": {
      "text/html": [
       "<div>\n",
       "<style scoped>\n",
       "    .dataframe tbody tr th:only-of-type {\n",
       "        vertical-align: middle;\n",
       "    }\n",
       "\n",
       "    .dataframe tbody tr th {\n",
       "        vertical-align: top;\n",
       "    }\n",
       "\n",
       "    .dataframe thead th {\n",
       "        text-align: right;\n",
       "    }\n",
       "</style>\n",
       "<table border=\"1\" class=\"dataframe\">\n",
       "  <thead>\n",
       "    <tr style=\"text-align: right;\">\n",
       "      <th></th>\n",
       "      <th>flesch_reading_ease</th>\n",
       "      <th>smog_index</th>\n",
       "      <th>flesch_kincaid_grade</th>\n",
       "      <th>coleman_liau_index</th>\n",
       "      <th>automated_readability_index</th>\n",
       "      <th>dale_chall_readability_score</th>\n",
       "      <th>difficult_words</th>\n",
       "      <th>linsear_write_formula</th>\n",
       "      <th>gunning_fog</th>\n",
       "      <th>sentence_count</th>\n",
       "      <th>wps</th>\n",
       "      <th>review_length</th>\n",
       "      <th>pos_no</th>\n",
       "      <th>neg_no</th>\n",
       "      <th>user_deviation</th>\n",
       "      <th>user_delay</th>\n",
       "      <th>no_of_reviews</th>\n",
       "      <th>stem_sim_length</th>\n",
       "      <th>lem_sim_length</th>\n",
       "      <th>overall</th>\n",
       "    </tr>\n",
       "  </thead>\n",
       "  <tbody>\n",
       "    <tr>\n",
       "      <th>0</th>\n",
       "      <td>-336.56</td>\n",
       "      <td>0.0</td>\n",
       "      <td>166.3</td>\n",
       "      <td>7.69</td>\n",
       "      <td>211.1</td>\n",
       "      <td>26.44</td>\n",
       "      <td>44</td>\n",
       "      <td>14.000000</td>\n",
       "      <td>176.92</td>\n",
       "      <td>1</td>\n",
       "      <td>427.000000</td>\n",
       "      <td>427</td>\n",
       "      <td>2</td>\n",
       "      <td>4</td>\n",
       "      <td>1.399189</td>\n",
       "      <td>10152000.0</td>\n",
       "      <td>1</td>\n",
       "      <td>15</td>\n",
       "      <td>13</td>\n",
       "      <td>1.0</td>\n",
       "    </tr>\n",
       "    <tr>\n",
       "      <th>1</th>\n",
       "      <td>-340.96</td>\n",
       "      <td>0.0</td>\n",
       "      <td>165.9</td>\n",
       "      <td>9.72</td>\n",
       "      <td>210.8</td>\n",
       "      <td>26.37</td>\n",
       "      <td>94</td>\n",
       "      <td>8.666667</td>\n",
       "      <td>175.64</td>\n",
       "      <td>2</td>\n",
       "      <td>423.000000</td>\n",
       "      <td>846</td>\n",
       "      <td>18</td>\n",
       "      <td>8</td>\n",
       "      <td>0.624437</td>\n",
       "      <td>10886400.0</td>\n",
       "      <td>1</td>\n",
       "      <td>24</td>\n",
       "      <td>23</td>\n",
       "      <td>3.0</td>\n",
       "    </tr>\n",
       "    <tr>\n",
       "      <th>2</th>\n",
       "      <td>85.52</td>\n",
       "      <td>7.3</td>\n",
       "      <td>6.2</td>\n",
       "      <td>5.92</td>\n",
       "      <td>7.2</td>\n",
       "      <td>5.87</td>\n",
       "      <td>36</td>\n",
       "      <td>7.666667</td>\n",
       "      <td>13.01</td>\n",
       "      <td>23</td>\n",
       "      <td>19.521739</td>\n",
       "      <td>449</td>\n",
       "      <td>7</td>\n",
       "      <td>6</td>\n",
       "      <td>0.510375</td>\n",
       "      <td>7516800.0</td>\n",
       "      <td>1</td>\n",
       "      <td>17</td>\n",
       "      <td>16</td>\n",
       "      <td>2.0</td>\n",
       "    </tr>\n",
       "    <tr>\n",
       "      <th>3</th>\n",
       "      <td>66.94</td>\n",
       "      <td>10.8</td>\n",
       "      <td>7.1</td>\n",
       "      <td>8.05</td>\n",
       "      <td>6.3</td>\n",
       "      <td>6.99</td>\n",
       "      <td>11</td>\n",
       "      <td>7.200000</td>\n",
       "      <td>14.00</td>\n",
       "      <td>5</td>\n",
       "      <td>12.800000</td>\n",
       "      <td>64</td>\n",
       "      <td>2</td>\n",
       "      <td>0</td>\n",
       "      <td>0.442171</td>\n",
       "      <td>2678400.0</td>\n",
       "      <td>1</td>\n",
       "      <td>2</td>\n",
       "      <td>2</td>\n",
       "      <td>5.0</td>\n",
       "    </tr>\n",
       "    <tr>\n",
       "      <th>4</th>\n",
       "      <td>-43.22</td>\n",
       "      <td>0.0</td>\n",
       "      <td>53.6</td>\n",
       "      <td>8.09</td>\n",
       "      <td>67.2</td>\n",
       "      <td>12.20</td>\n",
       "      <td>15</td>\n",
       "      <td>4.400000</td>\n",
       "      <td>61.55</td>\n",
       "      <td>1</td>\n",
       "      <td>138.000000</td>\n",
       "      <td>138</td>\n",
       "      <td>1</td>\n",
       "      <td>3</td>\n",
       "      <td>1.616074</td>\n",
       "      <td>7603200.0</td>\n",
       "      <td>1</td>\n",
       "      <td>2</td>\n",
       "      <td>2</td>\n",
       "      <td>1.0</td>\n",
       "    </tr>\n",
       "  </tbody>\n",
       "</table>\n",
       "</div>"
      ],
      "text/plain": [
       "   flesch_reading_ease  smog_index  flesch_kincaid_grade  coleman_liau_index  \\\n",
       "0              -336.56         0.0                 166.3                7.69   \n",
       "1              -340.96         0.0                 165.9                9.72   \n",
       "2                85.52         7.3                   6.2                5.92   \n",
       "3                66.94        10.8                   7.1                8.05   \n",
       "4               -43.22         0.0                  53.6                8.09   \n",
       "\n",
       "   automated_readability_index  dale_chall_readability_score  difficult_words  \\\n",
       "0                        211.1                         26.44               44   \n",
       "1                        210.8                         26.37               94   \n",
       "2                          7.2                          5.87               36   \n",
       "3                          6.3                          6.99               11   \n",
       "4                         67.2                         12.20               15   \n",
       "\n",
       "   linsear_write_formula  gunning_fog  sentence_count         wps  \\\n",
       "0              14.000000       176.92               1  427.000000   \n",
       "1               8.666667       175.64               2  423.000000   \n",
       "2               7.666667        13.01              23   19.521739   \n",
       "3               7.200000        14.00               5   12.800000   \n",
       "4               4.400000        61.55               1  138.000000   \n",
       "\n",
       "   review_length  pos_no  neg_no  user_deviation  user_delay  no_of_reviews  \\\n",
       "0            427       2       4        1.399189  10152000.0              1   \n",
       "1            846      18       8        0.624437  10886400.0              1   \n",
       "2            449       7       6        0.510375   7516800.0              1   \n",
       "3             64       2       0        0.442171   2678400.0              1   \n",
       "4            138       1       3        1.616074   7603200.0              1   \n",
       "\n",
       "   stem_sim_length  lem_sim_length  overall  \n",
       "0               15              13      1.0  \n",
       "1               24              23      3.0  \n",
       "2               17              16      2.0  \n",
       "3                2               2      5.0  \n",
       "4                2               2      1.0  "
      ]
     },
     "execution_count": 50,
     "metadata": {},
     "output_type": "execute_result"
    }
   ],
   "source": [
    "X.head()"
   ]
  },
  {
   "cell_type": "code",
   "execution_count": 51,
   "metadata": {
    "collapsed": true
   },
   "outputs": [],
   "source": [
    "y = review_df['helpfulness_score']\n",
    "\t\n",
    "X_train, X_test, y_train, y_test = train_test_split(X, y, test_size=0.4, random_state=101)"
   ]
  },
  {
   "cell_type": "code",
   "execution_count": 52,
   "metadata": {
    "collapsed": true
   },
   "outputs": [],
   "source": [
    "xgb_reg = xgb.XGBRegressor()"
   ]
  },
  {
   "cell_type": "code",
   "execution_count": 53,
   "metadata": {},
   "outputs": [
    {
     "data": {
      "text/plain": [
       "XGBRegressor(base_score=0.5, booster='gbtree', colsample_bylevel=1,\n",
       "       colsample_bytree=1, gamma=0, learning_rate=0.1, max_delta_step=0,\n",
       "       max_depth=3, min_child_weight=1, missing=None, n_estimators=100,\n",
       "       n_jobs=1, nthread=None, objective='reg:linear', random_state=0,\n",
       "       reg_alpha=0, reg_lambda=1, scale_pos_weight=1, seed=None,\n",
       "       silent=True, subsample=1)"
      ]
     },
     "execution_count": 53,
     "metadata": {},
     "output_type": "execute_result"
    }
   ],
   "source": [
    "xgb_reg.fit(X_train,y_train)"
   ]
  },
  {
   "cell_type": "code",
   "execution_count": 54,
   "metadata": {
    "collapsed": true
   },
   "outputs": [],
   "source": [
    "predictions=xgb_reg.predict(X_test)"
   ]
  },
  {
   "cell_type": "code",
   "execution_count": 55,
   "metadata": {},
   "outputs": [
    {
     "name": "stdout",
     "output_type": "stream",
     "text": [
      "Mean Squared Error (MSE):       0.037214149448659396\n",
      "Root Mean Squared Error (RMSE): 0.1929096924694542\n",
      "Mean Absolute Error (MAE):      0.13303612335141038\n"
     ]
    }
   ],
   "source": [
    "# MSE : Mean Squared Error\n",
    "mse=mean_squared_error(y_test,predictions)\n",
    "\n",
    "# RMSE : Root Mean Squared Error\n",
    "rmse=math.sqrt(mean_squared_error(y_test,predictions))\n",
    "\n",
    "# MAE : Mean Absolute Error\n",
    "mae=mean_absolute_error(y_test,predictions)\n",
    "\n",
    "print('Mean Squared Error (MSE):      ',mse)\n",
    "print('Root Mean Squared Error (RMSE):',rmse)\n",
    "print('Mean Absolute Error (MAE):     ',mae)"
   ]
  },
  {
   "cell_type": "code",
   "execution_count": null,
   "metadata": {
    "collapsed": true
   },
   "outputs": [],
   "source": []
  },
  {
   "cell_type": "code",
   "execution_count": null,
   "metadata": {
    "collapsed": true
   },
   "outputs": [],
   "source": [
    "{'learning_rate': 0.09, 'n_estimators': 200, 'subsample': 1}\n"
   ]
  },
  {
   "cell_type": "code",
   "execution_count": 56,
   "metadata": {
    "collapsed": true
   },
   "outputs": [],
   "source": [
    "xgb_reg_2 = xgb.XGBRegressor(learning_rate=0.09, n_estimators = 200)"
   ]
  },
  {
   "cell_type": "code",
   "execution_count": 57,
   "metadata": {},
   "outputs": [
    {
     "data": {
      "text/plain": [
       "XGBRegressor(base_score=0.5, booster='gbtree', colsample_bylevel=1,\n",
       "       colsample_bytree=1, gamma=0, learning_rate=0.09, max_delta_step=0,\n",
       "       max_depth=3, min_child_weight=1, missing=None, n_estimators=200,\n",
       "       n_jobs=1, nthread=None, objective='reg:linear', random_state=0,\n",
       "       reg_alpha=0, reg_lambda=1, scale_pos_weight=1, seed=None,\n",
       "       silent=True, subsample=1)"
      ]
     },
     "execution_count": 57,
     "metadata": {},
     "output_type": "execute_result"
    }
   ],
   "source": [
    "xgb_reg_2.fit(X_train,y_train)"
   ]
  },
  {
   "cell_type": "code",
   "execution_count": 58,
   "metadata": {
    "collapsed": true
   },
   "outputs": [],
   "source": [
    "predictions_2=xgb_reg.predict(X_test)"
   ]
  },
  {
   "cell_type": "code",
   "execution_count": 59,
   "metadata": {},
   "outputs": [
    {
     "name": "stdout",
     "output_type": "stream",
     "text": [
      "Mean Squared Error (MSE):       0.037214149448659396\n",
      "Root Mean Squared Error (RMSE): 0.1929096924694542\n",
      "Mean Absolute Error (MAE):      0.13303612335141038\n"
     ]
    }
   ],
   "source": [
    "# MSE : Mean Squared Error\n",
    "mse=mean_squared_error(y_test,predictions_2)\n",
    "\n",
    "# RMSE : Root Mean Squared Error\n",
    "rmse=math.sqrt(mean_squared_error(y_test,predictions_2))\n",
    "\n",
    "# MAE : Mean Absolute Error\n",
    "mae=mean_absolute_error(y_test,predictions_2)\n",
    "\n",
    "print('Mean Squared Error (MSE):      ',mse)\n",
    "print('Root Mean Squared Error (RMSE):',rmse)\n",
    "print('Mean Absolute Error (MAE):     ',mae)"
   ]
  },
  {
   "cell_type": "code",
   "execution_count": 60,
   "metadata": {
    "collapsed": true
   },
   "outputs": [],
   "source": [
    "params = {\n",
    "    'learning_rate': [0.01,0.09,0.1,0.2,0.5,0.9], \n",
    "    'n_estimators': [200,300,400,500], \n",
    "    'subsample': [0.3, 0.5, 0.9, 1]}"
   ]
  },
  {
   "cell_type": "code",
   "execution_count": 61,
   "metadata": {},
   "outputs": [
    {
     "data": {
      "text/plain": [
       "[0.01, 0.09, 0.1, 0.2, 0.5, 0.9]"
      ]
     },
     "execution_count": 61,
     "metadata": {},
     "output_type": "execute_result"
    }
   ],
   "source": [
    "params['learning_rate']"
   ]
  },
  {
   "cell_type": "code",
   "execution_count": 65,
   "metadata": {
    "collapsed": true
   },
   "outputs": [],
   "source": [
    "test_dict={'learning_rate':23}"
   ]
  },
  {
   "cell_type": "code",
   "execution_count": 63,
   "metadata": {
    "collapsed": true
   },
   "outputs": [],
   "source": [
    "result_df = pd.DataFrame(columns=['learning_rate','n_estimators', 'subsample', 'rmse', 'mae'])"
   ]
  },
  {
   "cell_type": "code",
   "execution_count": 70,
   "metadata": {},
   "outputs": [
    {
     "data": {
      "text/html": [
       "<div>\n",
       "<style scoped>\n",
       "    .dataframe tbody tr th:only-of-type {\n",
       "        vertical-align: middle;\n",
       "    }\n",
       "\n",
       "    .dataframe tbody tr th {\n",
       "        vertical-align: top;\n",
       "    }\n",
       "\n",
       "    .dataframe thead th {\n",
       "        text-align: right;\n",
       "    }\n",
       "</style>\n",
       "<table border=\"1\" class=\"dataframe\">\n",
       "  <thead>\n",
       "    <tr style=\"text-align: right;\">\n",
       "      <th></th>\n",
       "      <th>learning_rate</th>\n",
       "      <th>n_estimators</th>\n",
       "      <th>subsample</th>\n",
       "      <th>rmse</th>\n",
       "      <th>mae</th>\n",
       "    </tr>\n",
       "  </thead>\n",
       "  <tbody>\n",
       "    <tr>\n",
       "      <th>0</th>\n",
       "      <td>23.0</td>\n",
       "      <td>NaN</td>\n",
       "      <td>NaN</td>\n",
       "      <td>NaN</td>\n",
       "      <td>NaN</td>\n",
       "    </tr>\n",
       "    <tr>\n",
       "      <th>1</th>\n",
       "      <td>23.0</td>\n",
       "      <td>NaN</td>\n",
       "      <td>NaN</td>\n",
       "      <td>NaN</td>\n",
       "      <td>NaN</td>\n",
       "    </tr>\n",
       "  </tbody>\n",
       "</table>\n",
       "</div>"
      ],
      "text/plain": [
       "   learning_rate  n_estimators  subsample  rmse  mae\n",
       "0           23.0           NaN        NaN   NaN  NaN\n",
       "1           23.0           NaN        NaN   NaN  NaN"
      ]
     },
     "execution_count": 70,
     "metadata": {},
     "output_type": "execute_result"
    }
   ],
   "source": [
    "result_df = result_df.append(test_dict, ignore_index=True)\n",
    "result_df.head()"
   ]
  },
  {
   "cell_type": "markdown",
   "metadata": {},
   "source": [
    "## Customized Grid Search -  22nd April 2019"
   ]
  },
  {
   "cell_type": "code",
   "execution_count": 78,
   "metadata": {
    "scrolled": true
   },
   "outputs": [
    {
     "name": "stdout",
     "output_type": "stream",
     "text": [
      "{'learning_rate': 0.01, 'n_estimators': 200, 'subsample': 0.3, 'rmse': 0.20120225962697713, 'mae': 0.15557041057187085}\n",
      "{'learning_rate': 0.01, 'n_estimators': 200, 'subsample': 0.5, 'rmse': 0.2014565968018854, 'mae': 0.1557875063361773}\n",
      "{'learning_rate': 0.01, 'n_estimators': 200, 'subsample': 0.9, 'rmse': 0.20168651505571994, 'mae': 0.15594161177602933}\n",
      "{'learning_rate': 0.01, 'n_estimators': 200, 'subsample': 1, 'rmse': 0.20173112319307335, 'mae': 0.15598355410201298}\n",
      "{'learning_rate': 0.01, 'n_estimators': 300, 'subsample': 0.3, 'rmse': 0.19531630693234425, 'mae': 0.1407569386813951}\n",
      "{'learning_rate': 0.01, 'n_estimators': 300, 'subsample': 0.5, 'rmse': 0.1955291741974878, 'mae': 0.14093732727325198}\n",
      "{'learning_rate': 0.01, 'n_estimators': 300, 'subsample': 0.9, 'rmse': 0.1957360203909724, 'mae': 0.1411491700239321}\n",
      "{'learning_rate': 0.01, 'n_estimators': 300, 'subsample': 1, 'rmse': 0.19581710426115453, 'mae': 0.14121238169282893}\n",
      "{'learning_rate': 0.01, 'n_estimators': 400, 'subsample': 0.3, 'rmse': 0.1939529724877901, 'mae': 0.13595449039390137}\n",
      "{'learning_rate': 0.01, 'n_estimators': 400, 'subsample': 0.5, 'rmse': 0.19407229936065315, 'mae': 0.13607674326632288}\n",
      "{'learning_rate': 0.01, 'n_estimators': 400, 'subsample': 0.9, 'rmse': 0.1942669772192065, 'mae': 0.13634867753773589}\n",
      "{'learning_rate': 0.01, 'n_estimators': 400, 'subsample': 1, 'rmse': 0.19436642637252308, 'mae': 0.13646748554650368}\n",
      "{'learning_rate': 0.01, 'n_estimators': 500, 'subsample': 0.3, 'rmse': 0.1934651644703302, 'mae': 0.13417407777145268}\n",
      "{'learning_rate': 0.01, 'n_estimators': 500, 'subsample': 0.5, 'rmse': 0.19351077881358725, 'mae': 0.1342698032419107}\n",
      "{'learning_rate': 0.01, 'n_estimators': 500, 'subsample': 0.9, 'rmse': 0.19368385915603525, 'mae': 0.13457764060481842}\n",
      "{'learning_rate': 0.01, 'n_estimators': 500, 'subsample': 1, 'rmse': 0.193770156856822, 'mae': 0.13470093913001513}\n",
      "{'learning_rate': 0.09, 'n_estimators': 200, 'subsample': 0.3, 'rmse': 0.19326885798257532, 'mae': 0.13287875324453233}\n",
      "{'learning_rate': 0.09, 'n_estimators': 200, 'subsample': 0.5, 'rmse': 0.19281035261676624, 'mae': 0.13270153830986256}\n",
      "{'learning_rate': 0.09, 'n_estimators': 200, 'subsample': 0.9, 'rmse': 0.1925886261424162, 'mae': 0.13269917820051016}\n",
      "{'learning_rate': 0.09, 'n_estimators': 200, 'subsample': 1, 'rmse': 0.19267762847141584, 'mae': 0.13279616820645831}\n",
      "{'learning_rate': 0.09, 'n_estimators': 300, 'subsample': 0.3, 'rmse': 0.19326615755210677, 'mae': 0.13295800559319024}\n",
      "{'learning_rate': 0.09, 'n_estimators': 300, 'subsample': 0.5, 'rmse': 0.19269858242931895, 'mae': 0.1327316545979626}\n",
      "{'learning_rate': 0.09, 'n_estimators': 300, 'subsample': 0.9, 'rmse': 0.19243513983724747, 'mae': 0.13251727243448402}\n",
      "{'learning_rate': 0.09, 'n_estimators': 300, 'subsample': 1, 'rmse': 0.1926161235749727, 'mae': 0.13268134519063862}\n",
      "{'learning_rate': 0.09, 'n_estimators': 400, 'subsample': 0.3, 'rmse': 0.1933105189972598, 'mae': 0.13277446908700782}\n",
      "{'learning_rate': 0.09, 'n_estimators': 400, 'subsample': 0.5, 'rmse': 0.19282465638634216, 'mae': 0.13258395921815197}\n",
      "{'learning_rate': 0.09, 'n_estimators': 400, 'subsample': 0.9, 'rmse': 0.19237995453006587, 'mae': 0.13237502045293073}\n",
      "{'learning_rate': 0.09, 'n_estimators': 400, 'subsample': 1, 'rmse': 0.19272364244627296, 'mae': 0.13268974812877782}\n",
      "{'learning_rate': 0.09, 'n_estimators': 500, 'subsample': 0.3, 'rmse': 0.1934340270323044, 'mae': 0.13268064936248497}\n",
      "{'learning_rate': 0.09, 'n_estimators': 500, 'subsample': 0.5, 'rmse': 0.1928075239448761, 'mae': 0.13242484739378171}\n",
      "{'learning_rate': 0.09, 'n_estimators': 500, 'subsample': 0.9, 'rmse': 0.19241162338346154, 'mae': 0.13232202289831785}\n",
      "{'learning_rate': 0.09, 'n_estimators': 500, 'subsample': 1, 'rmse': 0.19270394707732325, 'mae': 0.13257946104168297}\n",
      "{'learning_rate': 0.1, 'n_estimators': 200, 'subsample': 0.3, 'rmse': 0.19305935693640455, 'mae': 0.13278172583450912}\n",
      "{'learning_rate': 0.1, 'n_estimators': 200, 'subsample': 0.5, 'rmse': 0.19287213244778942, 'mae': 0.13272096876512482}\n",
      "{'learning_rate': 0.1, 'n_estimators': 200, 'subsample': 0.9, 'rmse': 0.19267163768612278, 'mae': 0.13271460743356905}\n",
      "{'learning_rate': 0.1, 'n_estimators': 200, 'subsample': 1, 'rmse': 0.19270317079483293, 'mae': 0.1327657233648706}\n",
      "{'learning_rate': 0.1, 'n_estimators': 300, 'subsample': 0.3, 'rmse': 0.1931103540651519, 'mae': 0.13295903233168913}\n",
      "{'learning_rate': 0.1, 'n_estimators': 300, 'subsample': 0.5, 'rmse': 0.19275379797437106, 'mae': 0.13268438311818612}\n",
      "{'learning_rate': 0.1, 'n_estimators': 300, 'subsample': 0.9, 'rmse': 0.19252124833429843, 'mae': 0.1325474779399158}\n",
      "{'learning_rate': 0.1, 'n_estimators': 300, 'subsample': 1, 'rmse': 0.1926948940536101, 'mae': 0.13269775029500197}\n",
      "{'learning_rate': 0.1, 'n_estimators': 400, 'subsample': 0.3, 'rmse': 0.19335741794993874, 'mae': 0.1328290462186427}\n",
      "{'learning_rate': 0.1, 'n_estimators': 400, 'subsample': 0.5, 'rmse': 0.19308895774401338, 'mae': 0.13259518862561875}\n",
      "{'learning_rate': 0.1, 'n_estimators': 400, 'subsample': 0.9, 'rmse': 0.19244936186099615, 'mae': 0.13239797794786146}\n",
      "{'learning_rate': 0.1, 'n_estimators': 400, 'subsample': 1, 'rmse': 0.1926608593386005, 'mae': 0.1326025597183714}\n",
      "{'learning_rate': 0.1, 'n_estimators': 500, 'subsample': 0.3, 'rmse': 0.19367796087006608, 'mae': 0.13285694933834502}\n",
      "{'learning_rate': 0.1, 'n_estimators': 500, 'subsample': 0.5, 'rmse': 0.19317808936726671, 'mae': 0.13253551883780157}\n",
      "{'learning_rate': 0.1, 'n_estimators': 500, 'subsample': 0.9, 'rmse': 0.1925034388535176, 'mae': 0.13238602418662904}\n",
      "{'learning_rate': 0.1, 'n_estimators': 500, 'subsample': 1, 'rmse': 0.19269715965110984, 'mae': 0.13254598262501208}\n",
      "{'learning_rate': 0.2, 'n_estimators': 200, 'subsample': 0.3, 'rmse': 0.1947746259270443, 'mae': 0.13329514211399254}\n",
      "{'learning_rate': 0.2, 'n_estimators': 200, 'subsample': 0.5, 'rmse': 0.19351091651719027, 'mae': 0.13270986892109768}\n",
      "{'learning_rate': 0.2, 'n_estimators': 200, 'subsample': 0.9, 'rmse': 0.19275810037142818, 'mae': 0.13264940712783185}\n",
      "{'learning_rate': 0.2, 'n_estimators': 200, 'subsample': 1, 'rmse': 0.1928782268878543, 'mae': 0.13266735954202513}\n",
      "{'learning_rate': 0.2, 'n_estimators': 300, 'subsample': 0.3, 'rmse': 0.19498584162682733, 'mae': 0.1338088764648932}\n",
      "{'learning_rate': 0.2, 'n_estimators': 300, 'subsample': 0.5, 'rmse': 0.19362829324645922, 'mae': 0.1329523042147439}\n",
      "{'learning_rate': 0.2, 'n_estimators': 300, 'subsample': 0.9, 'rmse': 0.19285377753422028, 'mae': 0.1326247269407523}\n",
      "{'learning_rate': 0.2, 'n_estimators': 300, 'subsample': 1, 'rmse': 0.19297780173259066, 'mae': 0.13262146869841893}\n",
      "{'learning_rate': 0.2, 'n_estimators': 400, 'subsample': 0.3, 'rmse': 0.1958825401021449, 'mae': 0.13413933481373044}\n",
      "{'learning_rate': 0.2, 'n_estimators': 400, 'subsample': 0.5, 'rmse': 0.19436220527056297, 'mae': 0.13310469248848927}\n",
      "{'learning_rate': 0.2, 'n_estimators': 400, 'subsample': 0.9, 'rmse': 0.19323129471784606, 'mae': 0.1326169045807976}\n",
      "{'learning_rate': 0.2, 'n_estimators': 400, 'subsample': 1, 'rmse': 0.1932947272585538, 'mae': 0.13276925759015956}\n",
      "{'learning_rate': 0.2, 'n_estimators': 500, 'subsample': 0.3, 'rmse': 0.19664447463824777, 'mae': 0.1343773762370641}\n",
      "{'learning_rate': 0.2, 'n_estimators': 500, 'subsample': 0.5, 'rmse': 0.194682154073551, 'mae': 0.1333565644992487}\n",
      "{'learning_rate': 0.2, 'n_estimators': 500, 'subsample': 0.9, 'rmse': 0.19339962962623342, 'mae': 0.13278463511264177}\n",
      "{'learning_rate': 0.2, 'n_estimators': 500, 'subsample': 1, 'rmse': 0.1935406529170259, 'mae': 0.13287502307652704}\n",
      "{'learning_rate': 0.5, 'n_estimators': 200, 'subsample': 0.3, 'rmse': 0.20239770095179233, 'mae': 0.13746477751535222}\n",
      "{'learning_rate': 0.5, 'n_estimators': 200, 'subsample': 0.5, 'rmse': 0.19782122651501816, 'mae': 0.13488979585574076}\n",
      "{'learning_rate': 0.5, 'n_estimators': 200, 'subsample': 0.9, 'rmse': 0.19661313505224065, 'mae': 0.1347164125243539}\n",
      "{'learning_rate': 0.5, 'n_estimators': 200, 'subsample': 1, 'rmse': 0.19483360894084195, 'mae': 0.133571543487462}\n",
      "{'learning_rate': 0.5, 'n_estimators': 300, 'subsample': 0.3, 'rmse': 0.20622698842694245, 'mae': 0.14010351287967335}\n",
      "{'learning_rate': 0.5, 'n_estimators': 300, 'subsample': 0.5, 'rmse': 0.2002200915743487, 'mae': 0.13669944857683253}\n",
      "{'learning_rate': 0.5, 'n_estimators': 300, 'subsample': 0.9, 'rmse': 0.19801970196291926, 'mae': 0.13549542092415331}\n",
      "{'learning_rate': 0.5, 'n_estimators': 300, 'subsample': 1, 'rmse': 0.1958169741721597, 'mae': 0.13416021044083426}\n",
      "{'learning_rate': 0.5, 'n_estimators': 400, 'subsample': 0.3, 'rmse': 0.20842210419773974, 'mae': 0.14078378463440938}\n",
      "{'learning_rate': 0.5, 'n_estimators': 400, 'subsample': 0.5, 'rmse': 0.20230427890881839, 'mae': 0.13776266106724325}\n",
      "{'learning_rate': 0.5, 'n_estimators': 400, 'subsample': 0.9, 'rmse': 0.19920164544578003, 'mae': 0.13630153756448496}\n",
      "{'learning_rate': 0.5, 'n_estimators': 400, 'subsample': 1, 'rmse': 0.19714180809298237, 'mae': 0.13500939662157155}\n",
      "{'learning_rate': 0.5, 'n_estimators': 500, 'subsample': 0.3, 'rmse': 0.21065130655807396, 'mae': 0.1420349987138404}\n",
      "{'learning_rate': 0.5, 'n_estimators': 500, 'subsample': 0.5, 'rmse': 0.20404160855337042, 'mae': 0.13901762300214798}\n",
      "{'learning_rate': 0.5, 'n_estimators': 500, 'subsample': 0.9, 'rmse': 0.1999539919260077, 'mae': 0.13684446587464022}\n",
      "{'learning_rate': 0.5, 'n_estimators': 500, 'subsample': 1, 'rmse': 0.19827857391704834, 'mae': 0.13574333725402443}\n",
      "{'learning_rate': 0.9, 'n_estimators': 200, 'subsample': 0.3, 'rmse': 0.22400132459518213, 'mae': 0.14440245132713414}\n",
      "{'learning_rate': 0.9, 'n_estimators': 200, 'subsample': 0.5, 'rmse': 0.21060907740373908, 'mae': 0.14135253510592322}\n",
      "{'learning_rate': 0.9, 'n_estimators': 200, 'subsample': 0.9, 'rmse': 0.2021595527958092, 'mae': 0.137996896548124}\n",
      "{'learning_rate': 0.9, 'n_estimators': 200, 'subsample': 1, 'rmse': 0.202203779942191, 'mae': 0.13797483310618636}\n",
      "{'learning_rate': 0.9, 'n_estimators': 300, 'subsample': 0.3, 'rmse': 0.23589491441287436, 'mae': 0.14852958107695144}\n",
      "{'learning_rate': 0.9, 'n_estimators': 300, 'subsample': 0.5, 'rmse': 0.21632190604979393, 'mae': 0.14591156362457472}\n",
      "{'learning_rate': 0.9, 'n_estimators': 300, 'subsample': 0.9, 'rmse': 0.205347052100211, 'mae': 0.14009504659314875}\n",
      "{'learning_rate': 0.9, 'n_estimators': 300, 'subsample': 1, 'rmse': 0.20470384360260632, 'mae': 0.139928368670493}\n",
      "{'learning_rate': 0.9, 'n_estimators': 400, 'subsample': 0.3, 'rmse': 0.24325770044916845, 'mae': 0.1501078275752437}\n",
      "{'learning_rate': 0.9, 'n_estimators': 400, 'subsample': 0.5, 'rmse': 0.2216774373757654, 'mae': 0.14868013493909993}\n",
      "{'learning_rate': 0.9, 'n_estimators': 400, 'subsample': 0.9, 'rmse': 0.20842473044899223, 'mae': 0.1425830710656691}\n",
      "{'learning_rate': 0.9, 'n_estimators': 400, 'subsample': 1, 'rmse': 0.2070013591158127, 'mae': 0.14147960877444227}\n",
      "{'learning_rate': 0.9, 'n_estimators': 500, 'subsample': 0.3, 'rmse': 0.25680307783279255, 'mae': 0.15446550480491672}\n",
      "{'learning_rate': 0.9, 'n_estimators': 500, 'subsample': 0.5, 'rmse': 0.22656033140870993, 'mae': 0.15196362251918888}\n",
      "{'learning_rate': 0.9, 'n_estimators': 500, 'subsample': 0.9, 'rmse': 0.21097227096453935, 'mae': 0.1441018517827294}\n",
      "{'learning_rate': 0.9, 'n_estimators': 500, 'subsample': 1, 'rmse': 0.2092940781650065, 'mae': 0.143302848477306}\n"
     ]
    }
   ],
   "source": [
    "best_rmse=1000\n",
    "best_mae=1000\n",
    "for rate in params['learning_rate'] :\n",
    "    for estimator in params['n_estimators'] :\n",
    "        for subsample in params['subsample'] :\n",
    "            xgb_model = xgb.XGBRegressor(learning_rate= rate, n_estimators = estimator, subsample=subsample)\n",
    "            xgb_model.fit(X_train,y_train)\n",
    "            predictions=xgb_model.predict(X_test)\n",
    "            rmse=math.sqrt(mean_squared_error(y_test,predictions))\n",
    "            mae=mean_absolute_error(y_test,predictions)\n",
    "            \n",
    "            res_dict = {'learning_rate': rate, 'n_estimators': estimator, 'subsample': subsample, 'rmse' : rmse, 'mae' : mae }\n",
    "            result_df.append(res_dict, ignore_index=True)\n",
    "\n",
    "            print(res_dict)\n",
    "            \n",
    "            if(rmse<=best_rmse) :\n",
    "                if(mae < best_mae) :\n",
    "                    best_rmse = rmse\n",
    "                    best_mae = mae\n",
    "                    best_learning_rate = rate\n",
    "                    best_n_estimators = estimator\n",
    "                    best_subsample = subsample\n",
    "            "
   ]
  },
  {
   "cell_type": "code",
   "execution_count": 80,
   "metadata": {},
   "outputs": [
    {
     "data": {
      "text/plain": [
       "0.19237995453006587"
      ]
     },
     "execution_count": 80,
     "metadata": {},
     "output_type": "execute_result"
    }
   ],
   "source": [
    "best_rmse"
   ]
  },
  {
   "cell_type": "code",
   "execution_count": 81,
   "metadata": {},
   "outputs": [
    {
     "data": {
      "text/plain": [
       "0.13237502045293073"
      ]
     },
     "execution_count": 81,
     "metadata": {},
     "output_type": "execute_result"
    }
   ],
   "source": [
    "best_mae"
   ]
  },
  {
   "cell_type": "code",
   "execution_count": 71,
   "metadata": {},
   "outputs": [
    {
     "data": {
      "text/plain": [
       "0.07176005541202105"
      ]
     },
     "execution_count": 71,
     "metadata": {},
     "output_type": "execute_result"
    }
   ],
   "source": [
    "X['no_of_reviews'].corr(y)"
   ]
  },
  {
   "cell_type": "code",
   "execution_count": 72,
   "metadata": {},
   "outputs": [
    {
     "data": {
      "text/plain": [
       "Index(['reviewerID', 'reviewerName', 'reviewText', 'user_deviation',\n",
       "       'user_delay', 'helpful_votes', 'total_votes', 'no_of_reviews'],\n",
       "      dtype='object')"
      ]
     },
     "execution_count": 72,
     "metadata": {},
     "output_type": "execute_result"
    }
   ],
   "source": [
    "user_df.columns"
   ]
  },
  {
   "cell_type": "code",
   "execution_count": 73,
   "metadata": {},
   "outputs": [
    {
     "data": {
      "text/plain": [
       "0.09454703111241307"
      ]
     },
     "execution_count": 73,
     "metadata": {},
     "output_type": "execute_result"
    }
   ],
   "source": [
    "user_df['helpful_votes'].corr(y)"
   ]
  },
  {
   "cell_type": "code",
   "execution_count": 74,
   "metadata": {},
   "outputs": [
    {
     "data": {
      "text/plain": [
       "0.08271041184733528"
      ]
     },
     "execution_count": 74,
     "metadata": {},
     "output_type": "execute_result"
    }
   ],
   "source": [
    "user_df['total_votes'].corr(y)"
   ]
  },
  {
   "cell_type": "code",
   "execution_count": 75,
   "metadata": {},
   "outputs": [
    {
     "data": {
      "text/plain": [
       "-0.0710923717070309"
      ]
     },
     "execution_count": 75,
     "metadata": {},
     "output_type": "execute_result"
    }
   ],
   "source": [
    "(user_df['total_votes']-user_df['helpful_votes']).corr(y)"
   ]
  },
  {
   "cell_type": "markdown",
   "metadata": {},
   "source": [
    "## Utilizing the All Review Helpfulness Variables - 23rd April 2019"
   ]
  },
  {
   "cell_type": "code",
   "execution_count": null,
   "metadata": {
    "collapsed": true
   },
   "outputs": [],
   "source": []
  },
  {
   "cell_type": "code",
   "execution_count": 117,
   "metadata": {},
   "outputs": [
    {
     "data": {
      "text/plain": [
       "Index(['flesch_reading_ease', 'smog_index', 'flesch_kincaid_grade',\n",
       "       'coleman_liau_index', 'automated_readability_index',\n",
       "       'dale_chall_readability_score', 'difficult_words',\n",
       "       'linsear_write_formula', 'gunning_fog', 'sentence_count', 'wps',\n",
       "       'review_length', 'pos_no', 'neg_no', 'user_deviation', 'user_delay',\n",
       "       'all_no_of_reviews', 'stem_sim_length', 'lem_sim_length', 'overall'],\n",
       "      dtype='object')"
      ]
     },
     "execution_count": 117,
     "metadata": {},
     "output_type": "execute_result"
    }
   ],
   "source": [
    "X = text_df[['flesch_reading_ease', \n",
    "       'smog_index', 'flesch_kincaid_grade', 'coleman_liau_index',\n",
    "       'automated_readability_index', 'dale_chall_readability_score',\n",
    "       'difficult_words', 'linsear_write_formula', 'gunning_fog',\n",
    "       'sentence_count', 'wps', 'review_length', 'pos_no', 'neg_no']]\n",
    "\n",
    "X=X.join(user_df[['user_deviation','user_delay','all_no_of_reviews']])\n",
    "\n",
    "X = X.join(meta_df[['stem_sim_length','lem_sim_length','overall']])\n",
    "\n",
    "X.columns"
   ]
  },
  {
   "cell_type": "code",
   "execution_count": 118,
   "metadata": {},
   "outputs": [
    {
     "data": {
      "text/html": [
       "<div>\n",
       "<style scoped>\n",
       "    .dataframe tbody tr th:only-of-type {\n",
       "        vertical-align: middle;\n",
       "    }\n",
       "\n",
       "    .dataframe tbody tr th {\n",
       "        vertical-align: top;\n",
       "    }\n",
       "\n",
       "    .dataframe thead th {\n",
       "        text-align: right;\n",
       "    }\n",
       "</style>\n",
       "<table border=\"1\" class=\"dataframe\">\n",
       "  <thead>\n",
       "    <tr style=\"text-align: right;\">\n",
       "      <th></th>\n",
       "      <th>flesch_reading_ease</th>\n",
       "      <th>smog_index</th>\n",
       "      <th>flesch_kincaid_grade</th>\n",
       "      <th>coleman_liau_index</th>\n",
       "      <th>automated_readability_index</th>\n",
       "      <th>dale_chall_readability_score</th>\n",
       "      <th>difficult_words</th>\n",
       "      <th>linsear_write_formula</th>\n",
       "      <th>gunning_fog</th>\n",
       "      <th>sentence_count</th>\n",
       "      <th>wps</th>\n",
       "      <th>review_length</th>\n",
       "      <th>pos_no</th>\n",
       "      <th>neg_no</th>\n",
       "      <th>user_deviation</th>\n",
       "      <th>user_delay</th>\n",
       "      <th>all_no_of_reviews</th>\n",
       "      <th>stem_sim_length</th>\n",
       "      <th>lem_sim_length</th>\n",
       "      <th>overall</th>\n",
       "    </tr>\n",
       "  </thead>\n",
       "  <tbody>\n",
       "    <tr>\n",
       "      <th>0</th>\n",
       "      <td>-336.56</td>\n",
       "      <td>0.0</td>\n",
       "      <td>166.3</td>\n",
       "      <td>7.69</td>\n",
       "      <td>211.1</td>\n",
       "      <td>26.44</td>\n",
       "      <td>44</td>\n",
       "      <td>14.000000</td>\n",
       "      <td>176.92</td>\n",
       "      <td>1</td>\n",
       "      <td>427.000000</td>\n",
       "      <td>427</td>\n",
       "      <td>2</td>\n",
       "      <td>4</td>\n",
       "      <td>1.399189</td>\n",
       "      <td>10152000.0</td>\n",
       "      <td>4</td>\n",
       "      <td>15</td>\n",
       "      <td>13</td>\n",
       "      <td>1.0</td>\n",
       "    </tr>\n",
       "    <tr>\n",
       "      <th>1</th>\n",
       "      <td>-340.96</td>\n",
       "      <td>0.0</td>\n",
       "      <td>165.9</td>\n",
       "      <td>9.72</td>\n",
       "      <td>210.8</td>\n",
       "      <td>26.37</td>\n",
       "      <td>94</td>\n",
       "      <td>8.666667</td>\n",
       "      <td>175.64</td>\n",
       "      <td>2</td>\n",
       "      <td>423.000000</td>\n",
       "      <td>846</td>\n",
       "      <td>18</td>\n",
       "      <td>8</td>\n",
       "      <td>0.624437</td>\n",
       "      <td>10886400.0</td>\n",
       "      <td>11</td>\n",
       "      <td>24</td>\n",
       "      <td>23</td>\n",
       "      <td>3.0</td>\n",
       "    </tr>\n",
       "    <tr>\n",
       "      <th>2</th>\n",
       "      <td>85.52</td>\n",
       "      <td>7.3</td>\n",
       "      <td>6.2</td>\n",
       "      <td>5.92</td>\n",
       "      <td>7.2</td>\n",
       "      <td>5.87</td>\n",
       "      <td>36</td>\n",
       "      <td>7.666667</td>\n",
       "      <td>13.01</td>\n",
       "      <td>23</td>\n",
       "      <td>19.521739</td>\n",
       "      <td>449</td>\n",
       "      <td>7</td>\n",
       "      <td>6</td>\n",
       "      <td>0.510375</td>\n",
       "      <td>7516800.0</td>\n",
       "      <td>21</td>\n",
       "      <td>17</td>\n",
       "      <td>16</td>\n",
       "      <td>2.0</td>\n",
       "    </tr>\n",
       "    <tr>\n",
       "      <th>3</th>\n",
       "      <td>66.94</td>\n",
       "      <td>10.8</td>\n",
       "      <td>7.1</td>\n",
       "      <td>8.05</td>\n",
       "      <td>6.3</td>\n",
       "      <td>6.99</td>\n",
       "      <td>11</td>\n",
       "      <td>7.200000</td>\n",
       "      <td>14.00</td>\n",
       "      <td>5</td>\n",
       "      <td>12.800000</td>\n",
       "      <td>64</td>\n",
       "      <td>2</td>\n",
       "      <td>0</td>\n",
       "      <td>0.442171</td>\n",
       "      <td>2678400.0</td>\n",
       "      <td>6</td>\n",
       "      <td>2</td>\n",
       "      <td>2</td>\n",
       "      <td>5.0</td>\n",
       "    </tr>\n",
       "    <tr>\n",
       "      <th>4</th>\n",
       "      <td>-43.22</td>\n",
       "      <td>0.0</td>\n",
       "      <td>53.6</td>\n",
       "      <td>8.09</td>\n",
       "      <td>67.2</td>\n",
       "      <td>12.20</td>\n",
       "      <td>15</td>\n",
       "      <td>4.400000</td>\n",
       "      <td>61.55</td>\n",
       "      <td>1</td>\n",
       "      <td>138.000000</td>\n",
       "      <td>138</td>\n",
       "      <td>1</td>\n",
       "      <td>3</td>\n",
       "      <td>1.616074</td>\n",
       "      <td>7603200.0</td>\n",
       "      <td>5</td>\n",
       "      <td>2</td>\n",
       "      <td>2</td>\n",
       "      <td>1.0</td>\n",
       "    </tr>\n",
       "  </tbody>\n",
       "</table>\n",
       "</div>"
      ],
      "text/plain": [
       "   flesch_reading_ease  smog_index  flesch_kincaid_grade  coleman_liau_index  \\\n",
       "0              -336.56         0.0                 166.3                7.69   \n",
       "1              -340.96         0.0                 165.9                9.72   \n",
       "2                85.52         7.3                   6.2                5.92   \n",
       "3                66.94        10.8                   7.1                8.05   \n",
       "4               -43.22         0.0                  53.6                8.09   \n",
       "\n",
       "   automated_readability_index  dale_chall_readability_score  difficult_words  \\\n",
       "0                        211.1                         26.44               44   \n",
       "1                        210.8                         26.37               94   \n",
       "2                          7.2                          5.87               36   \n",
       "3                          6.3                          6.99               11   \n",
       "4                         67.2                         12.20               15   \n",
       "\n",
       "   linsear_write_formula  gunning_fog  sentence_count         wps  \\\n",
       "0              14.000000       176.92               1  427.000000   \n",
       "1               8.666667       175.64               2  423.000000   \n",
       "2               7.666667        13.01              23   19.521739   \n",
       "3               7.200000        14.00               5   12.800000   \n",
       "4               4.400000        61.55               1  138.000000   \n",
       "\n",
       "   review_length  pos_no  neg_no  user_deviation  user_delay  \\\n",
       "0            427       2       4        1.399189  10152000.0   \n",
       "1            846      18       8        0.624437  10886400.0   \n",
       "2            449       7       6        0.510375   7516800.0   \n",
       "3             64       2       0        0.442171   2678400.0   \n",
       "4            138       1       3        1.616074   7603200.0   \n",
       "\n",
       "   all_no_of_reviews  stem_sim_length  lem_sim_length  overall  \n",
       "0                  4               15              13      1.0  \n",
       "1                 11               24              23      3.0  \n",
       "2                 21               17              16      2.0  \n",
       "3                  6                2               2      5.0  \n",
       "4                  5                2               2      1.0  "
      ]
     },
     "execution_count": 118,
     "metadata": {},
     "output_type": "execute_result"
    }
   ],
   "source": [
    "X.head()"
   ]
  },
  {
   "cell_type": "code",
   "execution_count": 119,
   "metadata": {
    "collapsed": true
   },
   "outputs": [],
   "source": [
    "y = review_df['helpfulness_score']\n",
    "\t\n",
    "X_train, X_test, y_train, y_test = train_test_split(X, y, test_size=0.4, random_state=101)"
   ]
  },
  {
   "cell_type": "code",
   "execution_count": 120,
   "metadata": {
    "collapsed": true
   },
   "outputs": [],
   "source": [
    "xgb_reg = xgb.XGBRegressor()"
   ]
  },
  {
   "cell_type": "code",
   "execution_count": 121,
   "metadata": {},
   "outputs": [
    {
     "data": {
      "text/plain": [
       "XGBRegressor(base_score=0.5, booster='gbtree', colsample_bylevel=1,\n",
       "       colsample_bytree=1, gamma=0, learning_rate=0.1, max_delta_step=0,\n",
       "       max_depth=3, min_child_weight=1, missing=None, n_estimators=100,\n",
       "       n_jobs=1, nthread=None, objective='reg:linear', random_state=0,\n",
       "       reg_alpha=0, reg_lambda=1, scale_pos_weight=1, seed=None,\n",
       "       silent=True, subsample=1)"
      ]
     },
     "execution_count": 121,
     "metadata": {},
     "output_type": "execute_result"
    }
   ],
   "source": [
    "xgb_reg.fit(X_train,y_train)"
   ]
  },
  {
   "cell_type": "code",
   "execution_count": 122,
   "metadata": {
    "collapsed": true
   },
   "outputs": [],
   "source": [
    "predictions=xgb_reg.predict(X_test)"
   ]
  },
  {
   "cell_type": "code",
   "execution_count": 123,
   "metadata": {},
   "outputs": [
    {
     "name": "stdout",
     "output_type": "stream",
     "text": [
      "Mean Squared Error (MSE):       0.037199865040779295\n",
      "Root Mean Squared Error (RMSE): 0.1928726653540602\n",
      "Mean Absolute Error (MAE):      0.13295202548339674\n"
     ]
    }
   ],
   "source": [
    "# MSE : Mean Squared Error\n",
    "mse=mean_squared_error(y_test,predictions)\n",
    "\n",
    "# RMSE : Root Mean Squared Error\n",
    "rmse=math.sqrt(mean_squared_error(y_test,predictions))\n",
    "\n",
    "# MAE : Mean Absolute Error\n",
    "mae=mean_absolute_error(y_test,predictions)\n",
    "\n",
    "print('Mean Squared Error (MSE):      ',mse)\n",
    "print('Root Mean Squared Error (RMSE):',rmse)\n",
    "print('Mean Absolute Error (MAE):     ',mae)"
   ]
  },
  {
   "cell_type": "code",
   "execution_count": null,
   "metadata": {
    "collapsed": true
   },
   "outputs": [],
   "source": []
  },
  {
   "cell_type": "code",
   "execution_count": 92,
   "metadata": {},
   "outputs": [
    {
     "data": {
      "text/plain": [
       "0.08424164406873362"
      ]
     },
     "execution_count": 92,
     "metadata": {},
     "output_type": "execute_result"
    }
   ],
   "source": [
    "X['all_total_votes'].corr(y)"
   ]
  },
  {
   "cell_type": "code",
   "execution_count": 93,
   "metadata": {},
   "outputs": [
    {
     "data": {
      "text/plain": [
       "0.08305330135835792"
      ]
     },
     "execution_count": 93,
     "metadata": {},
     "output_type": "execute_result"
    }
   ],
   "source": [
    "X['all_no_of_reviews'].corr(y)"
   ]
  },
  {
   "cell_type": "code",
   "execution_count": 102,
   "metadata": {
    "collapsed": true
   },
   "outputs": [],
   "source": [
    "params = {\n",
    "    'learning_rate': [0.01,0.09,0.1,0.2,0.5,0.9], \n",
    "    'n_estimators': [200,300,400,500], \n",
    "    'subsample': [0.3, 0.5, 0.9, 1]}"
   ]
  },
  {
   "cell_type": "code",
   "execution_count": 124,
   "metadata": {},
   "outputs": [
    {
     "data": {
      "text/plain": [
       "Index(['flesch_reading_ease', 'smog_index', 'flesch_kincaid_grade',\n",
       "       'coleman_liau_index', 'automated_readability_index',\n",
       "       'dale_chall_readability_score', 'difficult_words',\n",
       "       'linsear_write_formula', 'gunning_fog', 'sentence_count', 'wps',\n",
       "       'review_length', 'pos_no', 'neg_no', 'user_deviation', 'user_delay',\n",
       "       'all_no_of_reviews', 'stem_sim_length', 'lem_sim_length', 'overall'],\n",
       "      dtype='object')"
      ]
     },
     "execution_count": 124,
     "metadata": {},
     "output_type": "execute_result"
    }
   ],
   "source": [
    "X.columns"
   ]
  },
  {
   "cell_type": "code",
   "execution_count": 125,
   "metadata": {},
   "outputs": [
    {
     "name": "stdout",
     "output_type": "stream",
     "text": [
      "{'learning_rate': 0.01, 'n_estimators': 200, 'subsample': 0.3, 'rmse': 0.2012084159554802, 'mae': 0.15557619679967602}\n",
      "{'learning_rate': 0.01, 'n_estimators': 200, 'subsample': 0.5, 'rmse': 0.2014640776183263, 'mae': 0.15579278624431794}\n",
      "{'learning_rate': 0.01, 'n_estimators': 200, 'subsample': 0.9, 'rmse': 0.20168724868842774, 'mae': 0.15594298473079482}\n",
      "{'learning_rate': 0.01, 'n_estimators': 200, 'subsample': 1, 'rmse': 0.20173107000583726, 'mae': 0.15598412014079477}\n",
      "{'learning_rate': 0.01, 'n_estimators': 300, 'subsample': 0.3, 'rmse': 0.19534148559447317, 'mae': 0.14077125605515162}\n",
      "{'learning_rate': 0.01, 'n_estimators': 300, 'subsample': 0.5, 'rmse': 0.19558310147023675, 'mae': 0.14097292819348267}\n",
      "{'learning_rate': 0.01, 'n_estimators': 300, 'subsample': 0.9, 'rmse': 0.1957797949956035, 'mae': 0.14116391862237285}\n",
      "{'learning_rate': 0.01, 'n_estimators': 300, 'subsample': 1, 'rmse': 0.19585855784714698, 'mae': 0.1412323518342349}\n",
      "{'learning_rate': 0.01, 'n_estimators': 400, 'subsample': 0.3, 'rmse': 0.19397569225276587, 'mae': 0.13595140654975438}\n",
      "{'learning_rate': 0.01, 'n_estimators': 400, 'subsample': 0.5, 'rmse': 0.19413689076117768, 'mae': 0.13610605318073457}\n",
      "{'learning_rate': 0.01, 'n_estimators': 400, 'subsample': 0.9, 'rmse': 0.19434466991617697, 'mae': 0.13637828489497938}\n",
      "{'learning_rate': 0.01, 'n_estimators': 400, 'subsample': 1, 'rmse': 0.19442676874058487, 'mae': 0.1364876234178403}\n",
      "{'learning_rate': 0.01, 'n_estimators': 500, 'subsample': 0.3, 'rmse': 0.19347593927403592, 'mae': 0.1341456822564133}\n",
      "{'learning_rate': 0.01, 'n_estimators': 500, 'subsample': 0.5, 'rmse': 0.19357098581646212, 'mae': 0.13430209076164012}\n",
      "{'learning_rate': 0.01, 'n_estimators': 500, 'subsample': 0.9, 'rmse': 0.19377118041979755, 'mae': 0.1346023076719013}\n",
      "{'learning_rate': 0.01, 'n_estimators': 500, 'subsample': 1, 'rmse': 0.19385214693686517, 'mae': 0.13471796541321243}\n",
      "{'learning_rate': 0.09, 'n_estimators': 200, 'subsample': 0.3, 'rmse': 0.19326447933235474, 'mae': 0.1329263595313442}\n",
      "{'learning_rate': 0.09, 'n_estimators': 200, 'subsample': 0.5, 'rmse': 0.19283961800813412, 'mae': 0.1326659240890211}\n",
      "{'learning_rate': 0.09, 'n_estimators': 200, 'subsample': 0.9, 'rmse': 0.19269344060612226, 'mae': 0.13265376020055855}\n",
      "{'learning_rate': 0.09, 'n_estimators': 200, 'subsample': 1, 'rmse': 0.19264432063942805, 'mae': 0.13262528068151203}\n",
      "{'learning_rate': 0.09, 'n_estimators': 300, 'subsample': 0.3, 'rmse': 0.19316816849008356, 'mae': 0.1331030357967092}\n",
      "{'learning_rate': 0.09, 'n_estimators': 300, 'subsample': 0.5, 'rmse': 0.19270798100612144, 'mae': 0.13264371475108508}\n",
      "{'learning_rate': 0.09, 'n_estimators': 300, 'subsample': 0.9, 'rmse': 0.19257396568253285, 'mae': 0.13253410921326722}\n",
      "{'learning_rate': 0.09, 'n_estimators': 300, 'subsample': 1, 'rmse': 0.19262587450501018, 'mae': 0.1325219576885926}\n",
      "{'learning_rate': 0.09, 'n_estimators': 400, 'subsample': 0.3, 'rmse': 0.19337199063523414, 'mae': 0.13303211012942884}\n",
      "{'learning_rate': 0.09, 'n_estimators': 400, 'subsample': 0.5, 'rmse': 0.19279456227319594, 'mae': 0.13255269448138424}\n",
      "{'learning_rate': 0.09, 'n_estimators': 400, 'subsample': 0.9, 'rmse': 0.19256150418330997, 'mae': 0.13238962309019636}\n",
      "{'learning_rate': 0.09, 'n_estimators': 400, 'subsample': 1, 'rmse': 0.1927200572530145, 'mae': 0.13253415198189805}\n",
      "{'learning_rate': 0.09, 'n_estimators': 500, 'subsample': 0.3, 'rmse': 0.19347621339716536, 'mae': 0.1329976603104181}\n",
      "{'learning_rate': 0.09, 'n_estimators': 500, 'subsample': 0.5, 'rmse': 0.19287006776682752, 'mae': 0.13250847543163724}\n",
      "{'learning_rate': 0.09, 'n_estimators': 500, 'subsample': 0.9, 'rmse': 0.19263782917151073, 'mae': 0.13238724946714245}\n",
      "{'learning_rate': 0.09, 'n_estimators': 500, 'subsample': 1, 'rmse': 0.1926882018367405, 'mae': 0.13247662080552083}\n",
      "{'learning_rate': 0.1, 'n_estimators': 200, 'subsample': 0.3, 'rmse': 0.19303750258857552, 'mae': 0.132870851415387}\n",
      "{'learning_rate': 0.1, 'n_estimators': 200, 'subsample': 0.5, 'rmse': 0.19272559473662726, 'mae': 0.13253020305198537}\n",
      "{'learning_rate': 0.1, 'n_estimators': 200, 'subsample': 0.9, 'rmse': 0.19268796566763893, 'mae': 0.13263078634340025}\n",
      "{'learning_rate': 0.1, 'n_estimators': 200, 'subsample': 1, 'rmse': 0.19263551922556368, 'mae': 0.13258713480344703}\n",
      "{'learning_rate': 0.1, 'n_estimators': 300, 'subsample': 0.3, 'rmse': 0.19297810751018823, 'mae': 0.13314083249968564}\n",
      "{'learning_rate': 0.1, 'n_estimators': 300, 'subsample': 0.5, 'rmse': 0.1926641078767454, 'mae': 0.13260740170664245}\n",
      "{'learning_rate': 0.1, 'n_estimators': 300, 'subsample': 0.9, 'rmse': 0.19257610772606104, 'mae': 0.13254700911490386}\n",
      "{'learning_rate': 0.1, 'n_estimators': 300, 'subsample': 1, 'rmse': 0.19264002501885694, 'mae': 0.13252715397108858}\n",
      "{'learning_rate': 0.1, 'n_estimators': 400, 'subsample': 0.3, 'rmse': 0.19317807058683606, 'mae': 0.13306943279543273}\n",
      "{'learning_rate': 0.1, 'n_estimators': 400, 'subsample': 0.5, 'rmse': 0.1927164359345798, 'mae': 0.1323700453016501}\n",
      "{'learning_rate': 0.1, 'n_estimators': 400, 'subsample': 0.9, 'rmse': 0.19258874253471878, 'mae': 0.13241330451911032}\n",
      "{'learning_rate': 0.1, 'n_estimators': 400, 'subsample': 1, 'rmse': 0.19265186233890408, 'mae': 0.13251458153406892}\n",
      "{'learning_rate': 0.1, 'n_estimators': 500, 'subsample': 0.3, 'rmse': 0.19322303489285947, 'mae': 0.13287846259614544}\n",
      "{'learning_rate': 0.1, 'n_estimators': 500, 'subsample': 0.5, 'rmse': 0.1927868930148273, 'mae': 0.1323181972528575}\n",
      "{'learning_rate': 0.1, 'n_estimators': 500, 'subsample': 0.9, 'rmse': 0.19263180096669652, 'mae': 0.1323950507672861}\n",
      "{'learning_rate': 0.1, 'n_estimators': 500, 'subsample': 1, 'rmse': 0.1926202522192121, 'mae': 0.13245079038753438}\n",
      "{'learning_rate': 0.2, 'n_estimators': 200, 'subsample': 0.3, 'rmse': 0.19458352900528025, 'mae': 0.13370767558585603}\n",
      "{'learning_rate': 0.2, 'n_estimators': 200, 'subsample': 0.5, 'rmse': 0.19334352398032467, 'mae': 0.13271555753021683}\n",
      "{'learning_rate': 0.2, 'n_estimators': 200, 'subsample': 0.9, 'rmse': 0.19274548410925105, 'mae': 0.13245346495250138}\n",
      "{'learning_rate': 0.2, 'n_estimators': 200, 'subsample': 1, 'rmse': 0.1927846335920185, 'mae': 0.13261724000175307}\n",
      "{'learning_rate': 0.2, 'n_estimators': 300, 'subsample': 0.3, 'rmse': 0.19533696493408823, 'mae': 0.13434706447410802}\n",
      "{'learning_rate': 0.2, 'n_estimators': 300, 'subsample': 0.5, 'rmse': 0.19365643151285164, 'mae': 0.13312110129603277}\n",
      "{'learning_rate': 0.2, 'n_estimators': 300, 'subsample': 0.9, 'rmse': 0.19291028286455966, 'mae': 0.13252973570316323}\n",
      "{'learning_rate': 0.2, 'n_estimators': 300, 'subsample': 1, 'rmse': 0.1929235977260254, 'mae': 0.1325996220148528}\n",
      "{'learning_rate': 0.2, 'n_estimators': 400, 'subsample': 0.3, 'rmse': 0.1961710599254581, 'mae': 0.1345614980366836}\n",
      "{'learning_rate': 0.2, 'n_estimators': 400, 'subsample': 0.5, 'rmse': 0.19433447049286037, 'mae': 0.1332635533013351}\n",
      "{'learning_rate': 0.2, 'n_estimators': 400, 'subsample': 0.9, 'rmse': 0.19306434836121275, 'mae': 0.13247827435041504}\n",
      "{'learning_rate': 0.2, 'n_estimators': 400, 'subsample': 1, 'rmse': 0.1932097685580967, 'mae': 0.13273701736232074}\n",
      "{'learning_rate': 0.2, 'n_estimators': 500, 'subsample': 0.3, 'rmse': 0.1968786560732032, 'mae': 0.13481942821993387}\n",
      "{'learning_rate': 0.2, 'n_estimators': 500, 'subsample': 0.5, 'rmse': 0.194684158325784, 'mae': 0.13343557124720765}\n",
      "{'learning_rate': 0.2, 'n_estimators': 500, 'subsample': 0.9, 'rmse': 0.19333658773959234, 'mae': 0.13262934737617083}\n",
      "{'learning_rate': 0.2, 'n_estimators': 500, 'subsample': 1, 'rmse': 0.1933625205367435, 'mae': 0.1328417706151438}\n",
      "{'learning_rate': 0.5, 'n_estimators': 200, 'subsample': 0.3, 'rmse': 0.2024949522540201, 'mae': 0.13774093462593223}\n",
      "{'learning_rate': 0.5, 'n_estimators': 200, 'subsample': 0.5, 'rmse': 0.19867967323565205, 'mae': 0.13578260027006395}\n",
      "{'learning_rate': 0.5, 'n_estimators': 200, 'subsample': 0.9, 'rmse': 0.1958949449179645, 'mae': 0.13408909192018012}\n",
      "{'learning_rate': 0.5, 'n_estimators': 200, 'subsample': 1, 'rmse': 0.19557304957601584, 'mae': 0.13408105771928489}\n",
      "{'learning_rate': 0.5, 'n_estimators': 300, 'subsample': 0.3, 'rmse': 0.2055527714141595, 'mae': 0.1398431414664152}\n",
      "{'learning_rate': 0.5, 'n_estimators': 300, 'subsample': 0.5, 'rmse': 0.20034210594233554, 'mae': 0.13691883404201505}\n",
      "{'learning_rate': 0.5, 'n_estimators': 300, 'subsample': 0.9, 'rmse': 0.19734710537397823, 'mae': 0.13516078267804685}\n",
      "{'learning_rate': 0.5, 'n_estimators': 300, 'subsample': 1, 'rmse': 0.1966491068663978, 'mae': 0.13473626798330915}\n",
      "{'learning_rate': 0.5, 'n_estimators': 400, 'subsample': 0.3, 'rmse': 0.20955803005181836, 'mae': 0.14144782814355183}\n",
      "{'learning_rate': 0.5, 'n_estimators': 400, 'subsample': 0.5, 'rmse': 0.202111073203792, 'mae': 0.1380991870845755}\n",
      "{'learning_rate': 0.5, 'n_estimators': 400, 'subsample': 0.9, 'rmse': 0.19859410704190134, 'mae': 0.13563342714191595}\n",
      "{'learning_rate': 0.5, 'n_estimators': 400, 'subsample': 1, 'rmse': 0.1980453484674174, 'mae': 0.13554675332150204}\n",
      "{'learning_rate': 0.5, 'n_estimators': 500, 'subsample': 0.3, 'rmse': 0.21218062549136688, 'mae': 0.14320363451226975}\n",
      "{'learning_rate': 0.5, 'n_estimators': 500, 'subsample': 0.5, 'rmse': 0.20422499849610984, 'mae': 0.1393146124323224}\n",
      "{'learning_rate': 0.5, 'n_estimators': 500, 'subsample': 0.9, 'rmse': 0.19974668192053346, 'mae': 0.1365750086337717}\n",
      "{'learning_rate': 0.5, 'n_estimators': 500, 'subsample': 1, 'rmse': 0.1988366638404831, 'mae': 0.1361697322456396}\n",
      "{'learning_rate': 0.9, 'n_estimators': 200, 'subsample': 0.3, 'rmse': 0.2216881773072779, 'mae': 0.14448420283490868}\n",
      "{'learning_rate': 0.9, 'n_estimators': 200, 'subsample': 0.5, 'rmse': 0.21007011544137172, 'mae': 0.14100353743547214}\n",
      "{'learning_rate': 0.9, 'n_estimators': 200, 'subsample': 0.9, 'rmse': 0.2025589212774946, 'mae': 0.13790663310923432}\n",
      "{'learning_rate': 0.9, 'n_estimators': 200, 'subsample': 1, 'rmse': 0.20194850983637627, 'mae': 0.13807342631462474}\n",
      "{'learning_rate': 0.9, 'n_estimators': 300, 'subsample': 0.3, 'rmse': 0.2368428120748824, 'mae': 0.1503513671504599}\n",
      "{'learning_rate': 0.9, 'n_estimators': 300, 'subsample': 0.5, 'rmse': 0.21675058243774334, 'mae': 0.14559962850907893}\n",
      "{'learning_rate': 0.9, 'n_estimators': 300, 'subsample': 0.9, 'rmse': 0.2061555411654585, 'mae': 0.14000090991263028}\n",
      "{'learning_rate': 0.9, 'n_estimators': 300, 'subsample': 1, 'rmse': 0.20442767330563458, 'mae': 0.13991850640910547}\n",
      "{'learning_rate': 0.9, 'n_estimators': 400, 'subsample': 0.3, 'rmse': 0.24642037555047516, 'mae': 0.15200113044143876}\n",
      "{'learning_rate': 0.9, 'n_estimators': 400, 'subsample': 0.5, 'rmse': 0.22181101079383278, 'mae': 0.14853343068502348}\n",
      "{'learning_rate': 0.9, 'n_estimators': 400, 'subsample': 0.9, 'rmse': 0.20863301188244368, 'mae': 0.14222236639832084}\n",
      "{'learning_rate': 0.9, 'n_estimators': 400, 'subsample': 1, 'rmse': 0.20682912411944057, 'mae': 0.14166616436561524}\n",
      "{'learning_rate': 0.9, 'n_estimators': 500, 'subsample': 0.3, 'rmse': 0.259954543781913, 'mae': 0.15523137005065674}\n",
      "{'learning_rate': 0.9, 'n_estimators': 500, 'subsample': 0.5, 'rmse': 0.22519980935592898, 'mae': 0.15111228325816628}\n",
      "{'learning_rate': 0.9, 'n_estimators': 500, 'subsample': 0.9, 'rmse': 0.21088234600116876, 'mae': 0.14414256006263607}\n",
      "{'learning_rate': 0.9, 'n_estimators': 500, 'subsample': 1, 'rmse': 0.2086428449379412, 'mae': 0.14319452095921936}\n"
     ]
    }
   ],
   "source": [
    "best_rmse_2=1000\n",
    "best_mae_2=1000\n",
    "for rate in params['learning_rate'] :\n",
    "    for estimator in params['n_estimators'] :\n",
    "        for subsample in params['subsample'] :\n",
    "            xgb_model = xgb.XGBRegressor(learning_rate= rate, n_estimators = estimator, subsample=subsample)\n",
    "            xgb_model.fit(X_train,y_train)\n",
    "            predictions=xgb_model.predict(X_test)\n",
    "            rmse=math.sqrt(mean_squared_error(y_test,predictions))\n",
    "            mae=mean_absolute_error(y_test,predictions)\n",
    "            \n",
    "            res_dict = {'learning_rate': rate, 'n_estimators': estimator, 'subsample': subsample, 'rmse' : rmse, 'mae' : mae }\n",
    "            result_df.append(res_dict, ignore_index=True)\n",
    "\n",
    "            print(res_dict)\n",
    "            \n",
    "            if(rmse<=best_rmse_2) :\n",
    "                if(mae < best_mae_2) :\n",
    "                    best_rmse_2 = rmse\n",
    "                    best_mae_2 = mae\n",
    "                    best_learning_rate_2 = rate\n",
    "                    best_n_estimators_2 = estimator\n",
    "                    best_subsample_2 = subsample\n",
    "            "
   ]
  },
  {
   "cell_type": "code",
   "execution_count": 126,
   "metadata": {},
   "outputs": [
    {
     "data": {
      "text/plain": [
       "0.19256150418330997"
      ]
     },
     "execution_count": 126,
     "metadata": {},
     "output_type": "execute_result"
    }
   ],
   "source": [
    "best_rmse_2"
   ]
  },
  {
   "cell_type": "code",
   "execution_count": 127,
   "metadata": {},
   "outputs": [
    {
     "data": {
      "text/plain": [
       "pandas.core.series.Series"
      ]
     },
     "execution_count": 127,
     "metadata": {},
     "output_type": "execute_result"
    }
   ],
   "source": [
    "type(y)"
   ]
  },
  {
   "cell_type": "code",
   "execution_count": 128,
   "metadata": {},
   "outputs": [
    {
     "data": {
      "text/plain": [
       "0    0.800000\n",
       "1    0.955556\n",
       "2    0.900000\n",
       "3    0.789474\n",
       "4    0.444444\n",
       "Name: helpfulness_score, dtype: float64"
      ]
     },
     "execution_count": 128,
     "metadata": {},
     "output_type": "execute_result"
    }
   ],
   "source": [
    "y.head()"
   ]
  },
  {
   "cell_type": "code",
   "execution_count": 130,
   "metadata": {},
   "outputs": [
    {
     "data": {
      "text/plain": [
       "numpy.ndarray"
      ]
     },
     "execution_count": 130,
     "metadata": {},
     "output_type": "execute_result"
    }
   ],
   "source": [
    "type(predictions)"
   ]
  },
  {
   "cell_type": "code",
   "execution_count": 132,
   "metadata": {},
   "outputs": [
    {
     "ename": "TypeError",
     "evalue": "bad operand type for abs(): 'list'",
     "output_type": "error",
     "traceback": [
      "\u001b[1;31m---------------------------------------------------------------------------\u001b[0m",
      "\u001b[1;31mTypeError\u001b[0m                                 Traceback (most recent call last)",
      "\u001b[1;32m<ipython-input-132-51fc6bf6cb7f>\u001b[0m in \u001b[0;36m<module>\u001b[1;34m()\u001b[0m\n\u001b[1;32m----> 1\u001b[1;33m \u001b[0mabs\u001b[0m\u001b[1;33m(\u001b[0m\u001b[1;33m[\u001b[0m\u001b[1;33m-\u001b[0m\u001b[1;36m10\u001b[0m\u001b[1;33m,\u001b[0m\u001b[1;36m20\u001b[0m\u001b[1;33m]\u001b[0m\u001b[1;33m)\u001b[0m\u001b[1;33m\u001b[0m\u001b[0m\n\u001b[0m",
      "\u001b[1;31mTypeError\u001b[0m: bad operand type for abs(): 'list'"
     ]
    }
   ],
   "source": [
    "abs([-10,20])"
   ]
  },
  {
   "cell_type": "code",
   "execution_count": 136,
   "metadata": {},
   "outputs": [
    {
     "name": "stderr",
     "output_type": "stream",
     "text": [
      "C:\\Users\\Trishul\\Anaconda3\\lib\\site-packages\\ipykernel_launcher.py:1: FutureWarning: Method .as_matrix will be removed in a future version. Use .values instead.\n",
      "  \"\"\"Entry point for launching an IPython kernel.\n"
     ]
    }
   ],
   "source": [
    "y2 = y.as_matrix()"
   ]
  },
  {
   "cell_type": "code",
   "execution_count": 137,
   "metadata": {},
   "outputs": [
    {
     "data": {
      "text/plain": [
       "array([0.8       , 0.95555556, 0.9       , 0.78947368])"
      ]
     },
     "execution_count": 137,
     "metadata": {},
     "output_type": "execute_result"
    }
   ],
   "source": [
    "y2[0:4]"
   ]
  },
  {
   "cell_type": "code",
   "execution_count": 138,
   "metadata": {},
   "outputs": [
    {
     "data": {
      "text/plain": [
       "array([0.89840955, 0.9178419 , 0.9090657 , 0.9037471 ], dtype=float32)"
      ]
     },
     "execution_count": 138,
     "metadata": {},
     "output_type": "execute_result"
    }
   ],
   "source": [
    "predictions[0:4]"
   ]
  },
  {
   "cell_type": "code",
   "execution_count": 139,
   "metadata": {},
   "outputs": [
    {
     "data": {
      "text/plain": [
       "array([0.8       , 0.95555556, 0.9       , ..., 0.63636364, 0.41666667,\n",
       "       0.7826087 ])"
      ]
     },
     "execution_count": 139,
     "metadata": {},
     "output_type": "execute_result"
    }
   ],
   "source": [
    "y.values"
   ]
  },
  {
   "cell_type": "markdown",
   "metadata": {},
   "source": [
    "### Experiment"
   ]
  },
  {
   "cell_type": "code",
   "execution_count": 140,
   "metadata": {},
   "outputs": [
    {
     "data": {
      "text/plain": [
       "Index(['flesch_reading_ease', 'smog_index', 'flesch_kincaid_grade',\n",
       "       'coleman_liau_index', 'automated_readability_index',\n",
       "       'dale_chall_readability_score', 'difficult_words',\n",
       "       'linsear_write_formula', 'gunning_fog', 'sentence_count', 'wps',\n",
       "       'review_length', 'pos_no', 'neg_no', 'user_deviation', 'user_delay',\n",
       "       'no_of_reviews', 'stem_sim_length', 'lem_sim_length', 'overall'],\n",
       "      dtype='object')"
      ]
     },
     "execution_count": 140,
     "metadata": {},
     "output_type": "execute_result"
    }
   ],
   "source": [
    "X = text_df[['flesch_reading_ease', \n",
    "       'smog_index', 'flesch_kincaid_grade', 'coleman_liau_index',\n",
    "       'automated_readability_index', 'dale_chall_readability_score',\n",
    "       'difficult_words', 'linsear_write_formula', 'gunning_fog',\n",
    "       'sentence_count', 'wps', 'review_length', 'pos_no', 'neg_no']]\n",
    "\n",
    "X=X.join(user_df[['user_deviation','user_delay','no_of_reviews']])\n",
    "\n",
    "X = X.join(meta_df[['stem_sim_length','lem_sim_length','overall']])\n",
    "\n",
    "X.columns"
   ]
  },
  {
   "cell_type": "code",
   "execution_count": 141,
   "metadata": {},
   "outputs": [
    {
     "data": {
      "text/html": [
       "<div>\n",
       "<style scoped>\n",
       "    .dataframe tbody tr th:only-of-type {\n",
       "        vertical-align: middle;\n",
       "    }\n",
       "\n",
       "    .dataframe tbody tr th {\n",
       "        vertical-align: top;\n",
       "    }\n",
       "\n",
       "    .dataframe thead th {\n",
       "        text-align: right;\n",
       "    }\n",
       "</style>\n",
       "<table border=\"1\" class=\"dataframe\">\n",
       "  <thead>\n",
       "    <tr style=\"text-align: right;\">\n",
       "      <th></th>\n",
       "      <th>flesch_reading_ease</th>\n",
       "      <th>smog_index</th>\n",
       "      <th>flesch_kincaid_grade</th>\n",
       "      <th>coleman_liau_index</th>\n",
       "      <th>automated_readability_index</th>\n",
       "      <th>dale_chall_readability_score</th>\n",
       "      <th>difficult_words</th>\n",
       "      <th>linsear_write_formula</th>\n",
       "      <th>gunning_fog</th>\n",
       "      <th>sentence_count</th>\n",
       "      <th>wps</th>\n",
       "      <th>review_length</th>\n",
       "      <th>pos_no</th>\n",
       "      <th>neg_no</th>\n",
       "      <th>user_deviation</th>\n",
       "      <th>user_delay</th>\n",
       "      <th>no_of_reviews</th>\n",
       "      <th>stem_sim_length</th>\n",
       "      <th>lem_sim_length</th>\n",
       "      <th>overall</th>\n",
       "    </tr>\n",
       "  </thead>\n",
       "  <tbody>\n",
       "    <tr>\n",
       "      <th>0</th>\n",
       "      <td>-336.56</td>\n",
       "      <td>0.0</td>\n",
       "      <td>166.3</td>\n",
       "      <td>7.69</td>\n",
       "      <td>211.1</td>\n",
       "      <td>26.44</td>\n",
       "      <td>44</td>\n",
       "      <td>14.000000</td>\n",
       "      <td>176.92</td>\n",
       "      <td>1</td>\n",
       "      <td>427.000000</td>\n",
       "      <td>427</td>\n",
       "      <td>2</td>\n",
       "      <td>4</td>\n",
       "      <td>1.399189</td>\n",
       "      <td>10152000.0</td>\n",
       "      <td>1</td>\n",
       "      <td>15</td>\n",
       "      <td>13</td>\n",
       "      <td>1.0</td>\n",
       "    </tr>\n",
       "    <tr>\n",
       "      <th>1</th>\n",
       "      <td>-340.96</td>\n",
       "      <td>0.0</td>\n",
       "      <td>165.9</td>\n",
       "      <td>9.72</td>\n",
       "      <td>210.8</td>\n",
       "      <td>26.37</td>\n",
       "      <td>94</td>\n",
       "      <td>8.666667</td>\n",
       "      <td>175.64</td>\n",
       "      <td>2</td>\n",
       "      <td>423.000000</td>\n",
       "      <td>846</td>\n",
       "      <td>18</td>\n",
       "      <td>8</td>\n",
       "      <td>0.624437</td>\n",
       "      <td>10886400.0</td>\n",
       "      <td>1</td>\n",
       "      <td>24</td>\n",
       "      <td>23</td>\n",
       "      <td>3.0</td>\n",
       "    </tr>\n",
       "    <tr>\n",
       "      <th>2</th>\n",
       "      <td>85.52</td>\n",
       "      <td>7.3</td>\n",
       "      <td>6.2</td>\n",
       "      <td>5.92</td>\n",
       "      <td>7.2</td>\n",
       "      <td>5.87</td>\n",
       "      <td>36</td>\n",
       "      <td>7.666667</td>\n",
       "      <td>13.01</td>\n",
       "      <td>23</td>\n",
       "      <td>19.521739</td>\n",
       "      <td>449</td>\n",
       "      <td>7</td>\n",
       "      <td>6</td>\n",
       "      <td>0.510375</td>\n",
       "      <td>7516800.0</td>\n",
       "      <td>1</td>\n",
       "      <td>17</td>\n",
       "      <td>16</td>\n",
       "      <td>2.0</td>\n",
       "    </tr>\n",
       "    <tr>\n",
       "      <th>3</th>\n",
       "      <td>66.94</td>\n",
       "      <td>10.8</td>\n",
       "      <td>7.1</td>\n",
       "      <td>8.05</td>\n",
       "      <td>6.3</td>\n",
       "      <td>6.99</td>\n",
       "      <td>11</td>\n",
       "      <td>7.200000</td>\n",
       "      <td>14.00</td>\n",
       "      <td>5</td>\n",
       "      <td>12.800000</td>\n",
       "      <td>64</td>\n",
       "      <td>2</td>\n",
       "      <td>0</td>\n",
       "      <td>0.442171</td>\n",
       "      <td>2678400.0</td>\n",
       "      <td>1</td>\n",
       "      <td>2</td>\n",
       "      <td>2</td>\n",
       "      <td>5.0</td>\n",
       "    </tr>\n",
       "    <tr>\n",
       "      <th>4</th>\n",
       "      <td>-43.22</td>\n",
       "      <td>0.0</td>\n",
       "      <td>53.6</td>\n",
       "      <td>8.09</td>\n",
       "      <td>67.2</td>\n",
       "      <td>12.20</td>\n",
       "      <td>15</td>\n",
       "      <td>4.400000</td>\n",
       "      <td>61.55</td>\n",
       "      <td>1</td>\n",
       "      <td>138.000000</td>\n",
       "      <td>138</td>\n",
       "      <td>1</td>\n",
       "      <td>3</td>\n",
       "      <td>1.616074</td>\n",
       "      <td>7603200.0</td>\n",
       "      <td>1</td>\n",
       "      <td>2</td>\n",
       "      <td>2</td>\n",
       "      <td>1.0</td>\n",
       "    </tr>\n",
       "  </tbody>\n",
       "</table>\n",
       "</div>"
      ],
      "text/plain": [
       "   flesch_reading_ease  smog_index  flesch_kincaid_grade  coleman_liau_index  \\\n",
       "0              -336.56         0.0                 166.3                7.69   \n",
       "1              -340.96         0.0                 165.9                9.72   \n",
       "2                85.52         7.3                   6.2                5.92   \n",
       "3                66.94        10.8                   7.1                8.05   \n",
       "4               -43.22         0.0                  53.6                8.09   \n",
       "\n",
       "   automated_readability_index  dale_chall_readability_score  difficult_words  \\\n",
       "0                        211.1                         26.44               44   \n",
       "1                        210.8                         26.37               94   \n",
       "2                          7.2                          5.87               36   \n",
       "3                          6.3                          6.99               11   \n",
       "4                         67.2                         12.20               15   \n",
       "\n",
       "   linsear_write_formula  gunning_fog  sentence_count         wps  \\\n",
       "0              14.000000       176.92               1  427.000000   \n",
       "1               8.666667       175.64               2  423.000000   \n",
       "2               7.666667        13.01              23   19.521739   \n",
       "3               7.200000        14.00               5   12.800000   \n",
       "4               4.400000        61.55               1  138.000000   \n",
       "\n",
       "   review_length  pos_no  neg_no  user_deviation  user_delay  no_of_reviews  \\\n",
       "0            427       2       4        1.399189  10152000.0              1   \n",
       "1            846      18       8        0.624437  10886400.0              1   \n",
       "2            449       7       6        0.510375   7516800.0              1   \n",
       "3             64       2       0        0.442171   2678400.0              1   \n",
       "4            138       1       3        1.616074   7603200.0              1   \n",
       "\n",
       "   stem_sim_length  lem_sim_length  overall  \n",
       "0               15              13      1.0  \n",
       "1               24              23      3.0  \n",
       "2               17              16      2.0  \n",
       "3                2               2      5.0  \n",
       "4                2               2      1.0  "
      ]
     },
     "execution_count": 141,
     "metadata": {},
     "output_type": "execute_result"
    }
   ],
   "source": [
    "X.head()"
   ]
  },
  {
   "cell_type": "code",
   "execution_count": 142,
   "metadata": {
    "collapsed": true
   },
   "outputs": [],
   "source": [
    "y = review_df['helpfulness_score']\n",
    "\t\n",
    "X_train, X_test, y_train, y_test = train_test_split(X, y, test_size=0.4, random_state=101)"
   ]
  },
  {
   "cell_type": "code",
   "execution_count": 143,
   "metadata": {
    "collapsed": true
   },
   "outputs": [],
   "source": [
    "xgb_reg = xgb.XGBRegressor(learning_rate=best_learning_rate, n_estimators=best_n_estimators, subsample=best_subsample)"
   ]
  },
  {
   "cell_type": "code",
   "execution_count": 158,
   "metadata": {},
   "outputs": [
    {
     "name": "stdout",
     "output_type": "stream",
     "text": [
      "Best Learning Rate : 0.09 , Best No of Estimators : 400 , Best Subsample size : 0.9\n"
     ]
    }
   ],
   "source": [
    "print(\"Best Learning Rate : {} , Best No of Estimators : {} , Best Subsample size : {}\".format(best_learning_rate, best_n_estimators, best_subsample))"
   ]
  },
  {
   "cell_type": "code",
   "execution_count": 144,
   "metadata": {},
   "outputs": [
    {
     "data": {
      "text/plain": [
       "XGBRegressor(base_score=0.5, booster='gbtree', colsample_bylevel=1,\n",
       "       colsample_bytree=1, gamma=0, learning_rate=0.09, max_delta_step=0,\n",
       "       max_depth=3, min_child_weight=1, missing=None, n_estimators=400,\n",
       "       n_jobs=1, nthread=None, objective='reg:linear', random_state=0,\n",
       "       reg_alpha=0, reg_lambda=1, scale_pos_weight=1, seed=None,\n",
       "       silent=True, subsample=0.9)"
      ]
     },
     "execution_count": 144,
     "metadata": {},
     "output_type": "execute_result"
    }
   ],
   "source": [
    "xgb_reg.fit(X_train,y_train)"
   ]
  },
  {
   "cell_type": "code",
   "execution_count": 145,
   "metadata": {
    "collapsed": true
   },
   "outputs": [],
   "source": [
    "predictions=xgb_reg.predict(X_test)"
   ]
  },
  {
   "cell_type": "code",
   "execution_count": 146,
   "metadata": {},
   "outputs": [
    {
     "name": "stdout",
     "output_type": "stream",
     "text": [
      "Mean Squared Error (MSE):       0.03701004690499021\n",
      "Root Mean Squared Error (RMSE): 0.19237995453006587\n",
      "Mean Absolute Error (MAE):      0.13237502045293073\n"
     ]
    }
   ],
   "source": [
    "# MSE : Mean Squared Error\n",
    "mse=mean_squared_error(y_test,predictions)\n",
    "\n",
    "# RMSE : Root Mean Squared Error\n",
    "rmse=math.sqrt(mean_squared_error(y_test,predictions))\n",
    "\n",
    "# MAE : Mean Absolute Error\n",
    "mae=mean_absolute_error(y_test,predictions)\n",
    "\n",
    "print('Mean Squared Error (MSE):      ',mse)\n",
    "print('Root Mean Squared Error (RMSE):',rmse)\n",
    "print('Mean Absolute Error (MAE):     ',mae)"
   ]
  },
  {
   "cell_type": "code",
   "execution_count": 147,
   "metadata": {},
   "outputs": [
    {
     "data": {
      "text/plain": [
       "pandas.core.series.Series"
      ]
     },
     "execution_count": 147,
     "metadata": {},
     "output_type": "execute_result"
    }
   ],
   "source": [
    "type(y_test)"
   ]
  },
  {
   "cell_type": "code",
   "execution_count": 148,
   "metadata": {
    "collapsed": true
   },
   "outputs": [],
   "source": [
    "res_df = pd.DataFrame()"
   ]
  },
  {
   "cell_type": "code",
   "execution_count": 149,
   "metadata": {},
   "outputs": [
    {
     "data": {
      "text/html": [
       "<div>\n",
       "<style scoped>\n",
       "    .dataframe tbody tr th:only-of-type {\n",
       "        vertical-align: middle;\n",
       "    }\n",
       "\n",
       "    .dataframe tbody tr th {\n",
       "        vertical-align: top;\n",
       "    }\n",
       "\n",
       "    .dataframe thead th {\n",
       "        text-align: right;\n",
       "    }\n",
       "</style>\n",
       "<table border=\"1\" class=\"dataframe\">\n",
       "  <thead>\n",
       "    <tr style=\"text-align: right;\">\n",
       "      <th></th>\n",
       "    </tr>\n",
       "  </thead>\n",
       "  <tbody>\n",
       "  </tbody>\n",
       "</table>\n",
       "</div>"
      ],
      "text/plain": [
       "Empty DataFrame\n",
       "Columns: []\n",
       "Index: []"
      ]
     },
     "execution_count": 149,
     "metadata": {},
     "output_type": "execute_result"
    }
   ],
   "source": [
    "res_df"
   ]
  },
  {
   "cell_type": "code",
   "execution_count": 150,
   "metadata": {
    "collapsed": true
   },
   "outputs": [],
   "source": [
    "res_df['y_test']=y_test"
   ]
  },
  {
   "cell_type": "code",
   "execution_count": 151,
   "metadata": {
    "collapsed": true
   },
   "outputs": [],
   "source": [
    "res_df['predictions'] = predictions"
   ]
  },
  {
   "cell_type": "code",
   "execution_count": 152,
   "metadata": {},
   "outputs": [
    {
     "data": {
      "text/html": [
       "<div>\n",
       "<style scoped>\n",
       "    .dataframe tbody tr th:only-of-type {\n",
       "        vertical-align: middle;\n",
       "    }\n",
       "\n",
       "    .dataframe tbody tr th {\n",
       "        vertical-align: top;\n",
       "    }\n",
       "\n",
       "    .dataframe thead th {\n",
       "        text-align: right;\n",
       "    }\n",
       "</style>\n",
       "<table border=\"1\" class=\"dataframe\">\n",
       "  <thead>\n",
       "    <tr style=\"text-align: right;\">\n",
       "      <th></th>\n",
       "      <th>y_test</th>\n",
       "      <th>predictions</th>\n",
       "    </tr>\n",
       "  </thead>\n",
       "  <tbody>\n",
       "    <tr>\n",
       "      <th>51704</th>\n",
       "      <td>0.931034</td>\n",
       "      <td>0.934962</td>\n",
       "    </tr>\n",
       "    <tr>\n",
       "      <th>29896</th>\n",
       "      <td>0.975610</td>\n",
       "      <td>0.911354</td>\n",
       "    </tr>\n",
       "    <tr>\n",
       "      <th>9419</th>\n",
       "      <td>0.909091</td>\n",
       "      <td>0.931369</td>\n",
       "    </tr>\n",
       "    <tr>\n",
       "      <th>77612</th>\n",
       "      <td>1.000000</td>\n",
       "      <td>0.873410</td>\n",
       "    </tr>\n",
       "    <tr>\n",
       "      <th>7954</th>\n",
       "      <td>1.000000</td>\n",
       "      <td>0.874662</td>\n",
       "    </tr>\n",
       "  </tbody>\n",
       "</table>\n",
       "</div>"
      ],
      "text/plain": [
       "         y_test  predictions\n",
       "51704  0.931034     0.934962\n",
       "29896  0.975610     0.911354\n",
       "9419   0.909091     0.931369\n",
       "77612  1.000000     0.873410\n",
       "7954   1.000000     0.874662"
      ]
     },
     "execution_count": 152,
     "metadata": {},
     "output_type": "execute_result"
    }
   ],
   "source": [
    "res_df.head()"
   ]
  },
  {
   "cell_type": "code",
   "execution_count": 153,
   "metadata": {
    "collapsed": true
   },
   "outputs": [],
   "source": [
    "res_df['difference'] = res_df['y_test'] - res_df['predictions'] "
   ]
  },
  {
   "cell_type": "code",
   "execution_count": 154,
   "metadata": {
    "collapsed": true
   },
   "outputs": [],
   "source": [
    "res_df['error_abs'] = res_df['difference'].apply(abs)"
   ]
  },
  {
   "cell_type": "code",
   "execution_count": 155,
   "metadata": {},
   "outputs": [
    {
     "data": {
      "text/html": [
       "<div>\n",
       "<style scoped>\n",
       "    .dataframe tbody tr th:only-of-type {\n",
       "        vertical-align: middle;\n",
       "    }\n",
       "\n",
       "    .dataframe tbody tr th {\n",
       "        vertical-align: top;\n",
       "    }\n",
       "\n",
       "    .dataframe thead th {\n",
       "        text-align: right;\n",
       "    }\n",
       "</style>\n",
       "<table border=\"1\" class=\"dataframe\">\n",
       "  <thead>\n",
       "    <tr style=\"text-align: right;\">\n",
       "      <th></th>\n",
       "      <th>y_test</th>\n",
       "      <th>predictions</th>\n",
       "      <th>difference</th>\n",
       "      <th>error_abs</th>\n",
       "    </tr>\n",
       "  </thead>\n",
       "  <tbody>\n",
       "    <tr>\n",
       "      <th>51704</th>\n",
       "      <td>0.931034</td>\n",
       "      <td>0.934962</td>\n",
       "      <td>-0.003928</td>\n",
       "      <td>0.003928</td>\n",
       "    </tr>\n",
       "    <tr>\n",
       "      <th>29896</th>\n",
       "      <td>0.975610</td>\n",
       "      <td>0.911354</td>\n",
       "      <td>0.064256</td>\n",
       "      <td>0.064256</td>\n",
       "    </tr>\n",
       "    <tr>\n",
       "      <th>9419</th>\n",
       "      <td>0.909091</td>\n",
       "      <td>0.931369</td>\n",
       "      <td>-0.022278</td>\n",
       "      <td>0.022278</td>\n",
       "    </tr>\n",
       "    <tr>\n",
       "      <th>77612</th>\n",
       "      <td>1.000000</td>\n",
       "      <td>0.873410</td>\n",
       "      <td>0.126590</td>\n",
       "      <td>0.126590</td>\n",
       "    </tr>\n",
       "    <tr>\n",
       "      <th>7954</th>\n",
       "      <td>1.000000</td>\n",
       "      <td>0.874662</td>\n",
       "      <td>0.125338</td>\n",
       "      <td>0.125338</td>\n",
       "    </tr>\n",
       "  </tbody>\n",
       "</table>\n",
       "</div>"
      ],
      "text/plain": [
       "         y_test  predictions  difference  error_abs\n",
       "51704  0.931034     0.934962   -0.003928   0.003928\n",
       "29896  0.975610     0.911354    0.064256   0.064256\n",
       "9419   0.909091     0.931369   -0.022278   0.022278\n",
       "77612  1.000000     0.873410    0.126590   0.126590\n",
       "7954   1.000000     0.874662    0.125338   0.125338"
      ]
     },
     "execution_count": 155,
     "metadata": {},
     "output_type": "execute_result"
    }
   ],
   "source": [
    "res_df.head()"
   ]
  },
  {
   "cell_type": "code",
   "execution_count": 157,
   "metadata": {},
   "outputs": [
    {
     "data": {
      "text/html": [
       "<div>\n",
       "<style scoped>\n",
       "    .dataframe tbody tr th:only-of-type {\n",
       "        vertical-align: middle;\n",
       "    }\n",
       "\n",
       "    .dataframe tbody tr th {\n",
       "        vertical-align: top;\n",
       "    }\n",
       "\n",
       "    .dataframe thead th {\n",
       "        text-align: right;\n",
       "    }\n",
       "</style>\n",
       "<table border=\"1\" class=\"dataframe\">\n",
       "  <thead>\n",
       "    <tr style=\"text-align: right;\">\n",
       "      <th></th>\n",
       "      <th>y_test</th>\n",
       "      <th>predictions</th>\n",
       "      <th>difference</th>\n",
       "      <th>error_abs</th>\n",
       "    </tr>\n",
       "  </thead>\n",
       "  <tbody>\n",
       "    <tr>\n",
       "      <th>14416</th>\n",
       "      <td>1.000000</td>\n",
       "      <td>-0.051973</td>\n",
       "      <td>1.051973</td>\n",
       "      <td>1.051973</td>\n",
       "    </tr>\n",
       "    <tr>\n",
       "      <th>69520</th>\n",
       "      <td>0.000000</td>\n",
       "      <td>0.917926</td>\n",
       "      <td>-0.917926</td>\n",
       "      <td>0.917926</td>\n",
       "    </tr>\n",
       "    <tr>\n",
       "      <th>61109</th>\n",
       "      <td>0.000000</td>\n",
       "      <td>0.916027</td>\n",
       "      <td>-0.916027</td>\n",
       "      <td>0.916027</td>\n",
       "    </tr>\n",
       "    <tr>\n",
       "      <th>42479</th>\n",
       "      <td>0.000000</td>\n",
       "      <td>0.915319</td>\n",
       "      <td>-0.915319</td>\n",
       "      <td>0.915319</td>\n",
       "    </tr>\n",
       "    <tr>\n",
       "      <th>74862</th>\n",
       "      <td>0.000000</td>\n",
       "      <td>0.908788</td>\n",
       "      <td>-0.908788</td>\n",
       "      <td>0.908788</td>\n",
       "    </tr>\n",
       "    <tr>\n",
       "      <th>26938</th>\n",
       "      <td>0.000000</td>\n",
       "      <td>0.906906</td>\n",
       "      <td>-0.906906</td>\n",
       "      <td>0.906906</td>\n",
       "    </tr>\n",
       "    <tr>\n",
       "      <th>57389</th>\n",
       "      <td>0.000000</td>\n",
       "      <td>0.904466</td>\n",
       "      <td>-0.904466</td>\n",
       "      <td>0.904466</td>\n",
       "    </tr>\n",
       "    <tr>\n",
       "      <th>62249</th>\n",
       "      <td>0.027027</td>\n",
       "      <td>0.928113</td>\n",
       "      <td>-0.901086</td>\n",
       "      <td>0.901086</td>\n",
       "    </tr>\n",
       "    <tr>\n",
       "      <th>5371</th>\n",
       "      <td>0.000000</td>\n",
       "      <td>0.900834</td>\n",
       "      <td>-0.900834</td>\n",
       "      <td>0.900834</td>\n",
       "    </tr>\n",
       "    <tr>\n",
       "      <th>22696</th>\n",
       "      <td>0.000000</td>\n",
       "      <td>0.897455</td>\n",
       "      <td>-0.897455</td>\n",
       "      <td>0.897455</td>\n",
       "    </tr>\n",
       "    <tr>\n",
       "      <th>30212</th>\n",
       "      <td>0.000000</td>\n",
       "      <td>0.897221</td>\n",
       "      <td>-0.897221</td>\n",
       "      <td>0.897221</td>\n",
       "    </tr>\n",
       "    <tr>\n",
       "      <th>30207</th>\n",
       "      <td>0.000000</td>\n",
       "      <td>0.894968</td>\n",
       "      <td>-0.894968</td>\n",
       "      <td>0.894968</td>\n",
       "    </tr>\n",
       "    <tr>\n",
       "      <th>71653</th>\n",
       "      <td>0.000000</td>\n",
       "      <td>0.894308</td>\n",
       "      <td>-0.894308</td>\n",
       "      <td>0.894308</td>\n",
       "    </tr>\n",
       "    <tr>\n",
       "      <th>15368</th>\n",
       "      <td>0.000000</td>\n",
       "      <td>0.893959</td>\n",
       "      <td>-0.893959</td>\n",
       "      <td>0.893959</td>\n",
       "    </tr>\n",
       "    <tr>\n",
       "      <th>30208</th>\n",
       "      <td>0.000000</td>\n",
       "      <td>0.891777</td>\n",
       "      <td>-0.891777</td>\n",
       "      <td>0.891777</td>\n",
       "    </tr>\n",
       "    <tr>\n",
       "      <th>61105</th>\n",
       "      <td>0.000000</td>\n",
       "      <td>0.890996</td>\n",
       "      <td>-0.890996</td>\n",
       "      <td>0.890996</td>\n",
       "    </tr>\n",
       "    <tr>\n",
       "      <th>37163</th>\n",
       "      <td>0.000000</td>\n",
       "      <td>0.887040</td>\n",
       "      <td>-0.887040</td>\n",
       "      <td>0.887040</td>\n",
       "    </tr>\n",
       "    <tr>\n",
       "      <th>36783</th>\n",
       "      <td>0.000000</td>\n",
       "      <td>0.884692</td>\n",
       "      <td>-0.884692</td>\n",
       "      <td>0.884692</td>\n",
       "    </tr>\n",
       "    <tr>\n",
       "      <th>75408</th>\n",
       "      <td>0.016129</td>\n",
       "      <td>0.893363</td>\n",
       "      <td>-0.877234</td>\n",
       "      <td>0.877234</td>\n",
       "    </tr>\n",
       "    <tr>\n",
       "      <th>17033</th>\n",
       "      <td>0.000000</td>\n",
       "      <td>0.872534</td>\n",
       "      <td>-0.872534</td>\n",
       "      <td>0.872534</td>\n",
       "    </tr>\n",
       "    <tr>\n",
       "      <th>64005</th>\n",
       "      <td>0.000000</td>\n",
       "      <td>0.871201</td>\n",
       "      <td>-0.871201</td>\n",
       "      <td>0.871201</td>\n",
       "    </tr>\n",
       "    <tr>\n",
       "      <th>8320</th>\n",
       "      <td>0.000000</td>\n",
       "      <td>0.870870</td>\n",
       "      <td>-0.870870</td>\n",
       "      <td>0.870870</td>\n",
       "    </tr>\n",
       "    <tr>\n",
       "      <th>48132</th>\n",
       "      <td>0.071942</td>\n",
       "      <td>0.937014</td>\n",
       "      <td>-0.865072</td>\n",
       "      <td>0.865072</td>\n",
       "    </tr>\n",
       "    <tr>\n",
       "      <th>56194</th>\n",
       "      <td>0.066667</td>\n",
       "      <td>0.930680</td>\n",
       "      <td>-0.864014</td>\n",
       "      <td>0.864014</td>\n",
       "    </tr>\n",
       "    <tr>\n",
       "      <th>81257</th>\n",
       "      <td>0.000000</td>\n",
       "      <td>0.861515</td>\n",
       "      <td>-0.861515</td>\n",
       "      <td>0.861515</td>\n",
       "    </tr>\n",
       "    <tr>\n",
       "      <th>63966</th>\n",
       "      <td>0.000000</td>\n",
       "      <td>0.860972</td>\n",
       "      <td>-0.860972</td>\n",
       "      <td>0.860972</td>\n",
       "    </tr>\n",
       "    <tr>\n",
       "      <th>25109</th>\n",
       "      <td>0.066667</td>\n",
       "      <td>0.921151</td>\n",
       "      <td>-0.854485</td>\n",
       "      <td>0.854485</td>\n",
       "    </tr>\n",
       "    <tr>\n",
       "      <th>64758</th>\n",
       "      <td>0.062500</td>\n",
       "      <td>0.908433</td>\n",
       "      <td>-0.845933</td>\n",
       "      <td>0.845933</td>\n",
       "    </tr>\n",
       "    <tr>\n",
       "      <th>57243</th>\n",
       "      <td>0.100000</td>\n",
       "      <td>0.943215</td>\n",
       "      <td>-0.843215</td>\n",
       "      <td>0.843215</td>\n",
       "    </tr>\n",
       "    <tr>\n",
       "      <th>20675</th>\n",
       "      <td>0.000000</td>\n",
       "      <td>0.841685</td>\n",
       "      <td>-0.841685</td>\n",
       "      <td>0.841685</td>\n",
       "    </tr>\n",
       "    <tr>\n",
       "      <th>...</th>\n",
       "      <td>...</td>\n",
       "      <td>...</td>\n",
       "      <td>...</td>\n",
       "      <td>...</td>\n",
       "    </tr>\n",
       "    <tr>\n",
       "      <th>72968</th>\n",
       "      <td>0.916667</td>\n",
       "      <td>0.916819</td>\n",
       "      <td>-0.000152</td>\n",
       "      <td>0.000152</td>\n",
       "    </tr>\n",
       "    <tr>\n",
       "      <th>13</th>\n",
       "      <td>0.538462</td>\n",
       "      <td>0.538310</td>\n",
       "      <td>0.000152</td>\n",
       "      <td>0.000152</td>\n",
       "    </tr>\n",
       "    <tr>\n",
       "      <th>73539</th>\n",
       "      <td>0.866667</td>\n",
       "      <td>0.866810</td>\n",
       "      <td>-0.000143</td>\n",
       "      <td>0.000143</td>\n",
       "    </tr>\n",
       "    <tr>\n",
       "      <th>64077</th>\n",
       "      <td>0.900000</td>\n",
       "      <td>0.899869</td>\n",
       "      <td>0.000131</td>\n",
       "      <td>0.000131</td>\n",
       "    </tr>\n",
       "    <tr>\n",
       "      <th>33144</th>\n",
       "      <td>0.916667</td>\n",
       "      <td>0.916535</td>\n",
       "      <td>0.000131</td>\n",
       "      <td>0.000131</td>\n",
       "    </tr>\n",
       "    <tr>\n",
       "      <th>69058</th>\n",
       "      <td>0.783505</td>\n",
       "      <td>0.783621</td>\n",
       "      <td>-0.000116</td>\n",
       "      <td>0.000116</td>\n",
       "    </tr>\n",
       "    <tr>\n",
       "      <th>76014</th>\n",
       "      <td>0.869565</td>\n",
       "      <td>0.869680</td>\n",
       "      <td>-0.000115</td>\n",
       "      <td>0.000115</td>\n",
       "    </tr>\n",
       "    <tr>\n",
       "      <th>11133</th>\n",
       "      <td>0.923077</td>\n",
       "      <td>0.922962</td>\n",
       "      <td>0.000114</td>\n",
       "      <td>0.000114</td>\n",
       "    </tr>\n",
       "    <tr>\n",
       "      <th>55261</th>\n",
       "      <td>0.916667</td>\n",
       "      <td>0.916774</td>\n",
       "      <td>-0.000108</td>\n",
       "      <td>0.000108</td>\n",
       "    </tr>\n",
       "    <tr>\n",
       "      <th>64162</th>\n",
       "      <td>0.909091</td>\n",
       "      <td>0.908985</td>\n",
       "      <td>0.000106</td>\n",
       "      <td>0.000106</td>\n",
       "    </tr>\n",
       "    <tr>\n",
       "      <th>25432</th>\n",
       "      <td>0.900000</td>\n",
       "      <td>0.899899</td>\n",
       "      <td>0.000101</td>\n",
       "      <td>0.000101</td>\n",
       "    </tr>\n",
       "    <tr>\n",
       "      <th>62118</th>\n",
       "      <td>0.907692</td>\n",
       "      <td>0.907600</td>\n",
       "      <td>0.000092</td>\n",
       "      <td>0.000092</td>\n",
       "    </tr>\n",
       "    <tr>\n",
       "      <th>45138</th>\n",
       "      <td>0.924242</td>\n",
       "      <td>0.924334</td>\n",
       "      <td>-0.000091</td>\n",
       "      <td>0.000091</td>\n",
       "    </tr>\n",
       "    <tr>\n",
       "      <th>57321</th>\n",
       "      <td>0.928571</td>\n",
       "      <td>0.928649</td>\n",
       "      <td>-0.000077</td>\n",
       "      <td>0.000077</td>\n",
       "    </tr>\n",
       "    <tr>\n",
       "      <th>29556</th>\n",
       "      <td>0.909091</td>\n",
       "      <td>0.909168</td>\n",
       "      <td>-0.000077</td>\n",
       "      <td>0.000077</td>\n",
       "    </tr>\n",
       "    <tr>\n",
       "      <th>20084</th>\n",
       "      <td>0.945455</td>\n",
       "      <td>0.945519</td>\n",
       "      <td>-0.000064</td>\n",
       "      <td>0.000064</td>\n",
       "    </tr>\n",
       "    <tr>\n",
       "      <th>33173</th>\n",
       "      <td>0.936219</td>\n",
       "      <td>0.936277</td>\n",
       "      <td>-0.000058</td>\n",
       "      <td>0.000058</td>\n",
       "    </tr>\n",
       "    <tr>\n",
       "      <th>52183</th>\n",
       "      <td>0.913043</td>\n",
       "      <td>0.912987</td>\n",
       "      <td>0.000057</td>\n",
       "      <td>0.000057</td>\n",
       "    </tr>\n",
       "    <tr>\n",
       "      <th>74347</th>\n",
       "      <td>0.650000</td>\n",
       "      <td>0.649964</td>\n",
       "      <td>0.000036</td>\n",
       "      <td>0.000036</td>\n",
       "    </tr>\n",
       "    <tr>\n",
       "      <th>79249</th>\n",
       "      <td>0.884615</td>\n",
       "      <td>0.884647</td>\n",
       "      <td>-0.000032</td>\n",
       "      <td>0.000032</td>\n",
       "    </tr>\n",
       "    <tr>\n",
       "      <th>3902</th>\n",
       "      <td>0.941176</td>\n",
       "      <td>0.941147</td>\n",
       "      <td>0.000029</td>\n",
       "      <td>0.000029</td>\n",
       "    </tr>\n",
       "    <tr>\n",
       "      <th>61364</th>\n",
       "      <td>0.903226</td>\n",
       "      <td>0.903250</td>\n",
       "      <td>-0.000024</td>\n",
       "      <td>0.000024</td>\n",
       "    </tr>\n",
       "    <tr>\n",
       "      <th>44100</th>\n",
       "      <td>0.884615</td>\n",
       "      <td>0.884598</td>\n",
       "      <td>0.000017</td>\n",
       "      <td>0.000017</td>\n",
       "    </tr>\n",
       "    <tr>\n",
       "      <th>28009</th>\n",
       "      <td>0.937984</td>\n",
       "      <td>0.937997</td>\n",
       "      <td>-0.000013</td>\n",
       "      <td>0.000013</td>\n",
       "    </tr>\n",
       "    <tr>\n",
       "      <th>69354</th>\n",
       "      <td>0.933333</td>\n",
       "      <td>0.933346</td>\n",
       "      <td>-0.000012</td>\n",
       "      <td>0.000012</td>\n",
       "    </tr>\n",
       "    <tr>\n",
       "      <th>23849</th>\n",
       "      <td>0.909091</td>\n",
       "      <td>0.909082</td>\n",
       "      <td>0.000009</td>\n",
       "      <td>0.000009</td>\n",
       "    </tr>\n",
       "    <tr>\n",
       "      <th>4834</th>\n",
       "      <td>0.927273</td>\n",
       "      <td>0.927281</td>\n",
       "      <td>-0.000008</td>\n",
       "      <td>0.000008</td>\n",
       "    </tr>\n",
       "    <tr>\n",
       "      <th>72941</th>\n",
       "      <td>0.913043</td>\n",
       "      <td>0.913049</td>\n",
       "      <td>-0.000005</td>\n",
       "      <td>0.000005</td>\n",
       "    </tr>\n",
       "    <tr>\n",
       "      <th>57215</th>\n",
       "      <td>0.928571</td>\n",
       "      <td>0.928567</td>\n",
       "      <td>0.000004</td>\n",
       "      <td>0.000004</td>\n",
       "    </tr>\n",
       "    <tr>\n",
       "      <th>40667</th>\n",
       "      <td>0.933333</td>\n",
       "      <td>0.933331</td>\n",
       "      <td>0.000002</td>\n",
       "      <td>0.000002</td>\n",
       "    </tr>\n",
       "  </tbody>\n",
       "</table>\n",
       "<p>32510 rows × 4 columns</p>\n",
       "</div>"
      ],
      "text/plain": [
       "         y_test  predictions  difference  error_abs\n",
       "14416  1.000000    -0.051973    1.051973   1.051973\n",
       "69520  0.000000     0.917926   -0.917926   0.917926\n",
       "61109  0.000000     0.916027   -0.916027   0.916027\n",
       "42479  0.000000     0.915319   -0.915319   0.915319\n",
       "74862  0.000000     0.908788   -0.908788   0.908788\n",
       "26938  0.000000     0.906906   -0.906906   0.906906\n",
       "57389  0.000000     0.904466   -0.904466   0.904466\n",
       "62249  0.027027     0.928113   -0.901086   0.901086\n",
       "5371   0.000000     0.900834   -0.900834   0.900834\n",
       "22696  0.000000     0.897455   -0.897455   0.897455\n",
       "30212  0.000000     0.897221   -0.897221   0.897221\n",
       "30207  0.000000     0.894968   -0.894968   0.894968\n",
       "71653  0.000000     0.894308   -0.894308   0.894308\n",
       "15368  0.000000     0.893959   -0.893959   0.893959\n",
       "30208  0.000000     0.891777   -0.891777   0.891777\n",
       "61105  0.000000     0.890996   -0.890996   0.890996\n",
       "37163  0.000000     0.887040   -0.887040   0.887040\n",
       "36783  0.000000     0.884692   -0.884692   0.884692\n",
       "75408  0.016129     0.893363   -0.877234   0.877234\n",
       "17033  0.000000     0.872534   -0.872534   0.872534\n",
       "64005  0.000000     0.871201   -0.871201   0.871201\n",
       "8320   0.000000     0.870870   -0.870870   0.870870\n",
       "48132  0.071942     0.937014   -0.865072   0.865072\n",
       "56194  0.066667     0.930680   -0.864014   0.864014\n",
       "81257  0.000000     0.861515   -0.861515   0.861515\n",
       "63966  0.000000     0.860972   -0.860972   0.860972\n",
       "25109  0.066667     0.921151   -0.854485   0.854485\n",
       "64758  0.062500     0.908433   -0.845933   0.845933\n",
       "57243  0.100000     0.943215   -0.843215   0.843215\n",
       "20675  0.000000     0.841685   -0.841685   0.841685\n",
       "...         ...          ...         ...        ...\n",
       "72968  0.916667     0.916819   -0.000152   0.000152\n",
       "13     0.538462     0.538310    0.000152   0.000152\n",
       "73539  0.866667     0.866810   -0.000143   0.000143\n",
       "64077  0.900000     0.899869    0.000131   0.000131\n",
       "33144  0.916667     0.916535    0.000131   0.000131\n",
       "69058  0.783505     0.783621   -0.000116   0.000116\n",
       "76014  0.869565     0.869680   -0.000115   0.000115\n",
       "11133  0.923077     0.922962    0.000114   0.000114\n",
       "55261  0.916667     0.916774   -0.000108   0.000108\n",
       "64162  0.909091     0.908985    0.000106   0.000106\n",
       "25432  0.900000     0.899899    0.000101   0.000101\n",
       "62118  0.907692     0.907600    0.000092   0.000092\n",
       "45138  0.924242     0.924334   -0.000091   0.000091\n",
       "57321  0.928571     0.928649   -0.000077   0.000077\n",
       "29556  0.909091     0.909168   -0.000077   0.000077\n",
       "20084  0.945455     0.945519   -0.000064   0.000064\n",
       "33173  0.936219     0.936277   -0.000058   0.000058\n",
       "52183  0.913043     0.912987    0.000057   0.000057\n",
       "74347  0.650000     0.649964    0.000036   0.000036\n",
       "79249  0.884615     0.884647   -0.000032   0.000032\n",
       "3902   0.941176     0.941147    0.000029   0.000029\n",
       "61364  0.903226     0.903250   -0.000024   0.000024\n",
       "44100  0.884615     0.884598    0.000017   0.000017\n",
       "28009  0.937984     0.937997   -0.000013   0.000013\n",
       "69354  0.933333     0.933346   -0.000012   0.000012\n",
       "23849  0.909091     0.909082    0.000009   0.000009\n",
       "4834   0.927273     0.927281   -0.000008   0.000008\n",
       "72941  0.913043     0.913049   -0.000005   0.000005\n",
       "57215  0.928571     0.928567    0.000004   0.000004\n",
       "40667  0.933333     0.933331    0.000002   0.000002\n",
       "\n",
       "[32510 rows x 4 columns]"
      ]
     },
     "execution_count": 157,
     "metadata": {},
     "output_type": "execute_result"
    }
   ],
   "source": [
    "res_df.sort_values(by=['error_abs'], ascending=False)"
   ]
  },
  {
   "cell_type": "code",
   "execution_count": 160,
   "metadata": {},
   "outputs": [
    {
     "data": {
      "text/html": [
       "<div>\n",
       "<style scoped>\n",
       "    .dataframe tbody tr th:only-of-type {\n",
       "        vertical-align: middle;\n",
       "    }\n",
       "\n",
       "    .dataframe tbody tr th {\n",
       "        vertical-align: top;\n",
       "    }\n",
       "\n",
       "    .dataframe thead th {\n",
       "        text-align: right;\n",
       "    }\n",
       "</style>\n",
       "<table border=\"1\" class=\"dataframe\">\n",
       "  <thead>\n",
       "    <tr style=\"text-align: right;\">\n",
       "      <th></th>\n",
       "      <th>reviewerID</th>\n",
       "      <th>reviewerName</th>\n",
       "      <th>reviewText</th>\n",
       "      <th>user_deviation</th>\n",
       "      <th>user_delay</th>\n",
       "      <th>helpful_votes</th>\n",
       "      <th>total_votes</th>\n",
       "      <th>no_of_reviews</th>\n",
       "      <th>all_helpful_votes</th>\n",
       "      <th>all_total_votes</th>\n",
       "      <th>all_no_of_reviews</th>\n",
       "    </tr>\n",
       "  </thead>\n",
       "  <tbody>\n",
       "    <tr>\n",
       "      <th>0</th>\n",
       "      <td>AMO214LNFCEI4</td>\n",
       "      <td>Amazon Customer</td>\n",
       "      <td>I'm a professional OTR truck driver, and I bou...</td>\n",
       "      <td>1.399189</td>\n",
       "      <td>10152000.0</td>\n",
       "      <td>12</td>\n",
       "      <td>15</td>\n",
       "      <td>1</td>\n",
       "      <td>12</td>\n",
       "      <td>15</td>\n",
       "      <td>4</td>\n",
       "    </tr>\n",
       "    <tr>\n",
       "      <th>1</th>\n",
       "      <td>A3N7T0DY83Y4IG</td>\n",
       "      <td>C. A. Freeman</td>\n",
       "      <td>Well, what can I say.  I've had this unit in m...</td>\n",
       "      <td>0.624437</td>\n",
       "      <td>10886400.0</td>\n",
       "      <td>11</td>\n",
       "      <td>11</td>\n",
       "      <td>1</td>\n",
       "      <td>15</td>\n",
       "      <td>21</td>\n",
       "      <td>11</td>\n",
       "    </tr>\n",
       "    <tr>\n",
       "      <th>2</th>\n",
       "      <td>A1H8PY3QHMQQA0</td>\n",
       "      <td>Dave M. Shaw \"mack dave\"</td>\n",
       "      <td>Not going to write a long review, even thought...</td>\n",
       "      <td>0.510375</td>\n",
       "      <td>7516800.0</td>\n",
       "      <td>17</td>\n",
       "      <td>18</td>\n",
       "      <td>1</td>\n",
       "      <td>24</td>\n",
       "      <td>30</td>\n",
       "      <td>21</td>\n",
       "    </tr>\n",
       "    <tr>\n",
       "      <th>3</th>\n",
       "      <td>A3QH8VQDE7HZCR</td>\n",
       "      <td>costaricachris</td>\n",
       "      <td>Quality was excellent. Instructions were clear...</td>\n",
       "      <td>0.442171</td>\n",
       "      <td>2678400.0</td>\n",
       "      <td>15</td>\n",
       "      <td>19</td>\n",
       "      <td>1</td>\n",
       "      <td>17</td>\n",
       "      <td>24</td>\n",
       "      <td>6</td>\n",
       "    </tr>\n",
       "    <tr>\n",
       "      <th>4</th>\n",
       "      <td>A38FGQVJM18OWV</td>\n",
       "      <td>George S. Mitchell \"gsmitchell\"</td>\n",
       "      <td>I checked around Amazon as well as some other ...</td>\n",
       "      <td>1.616074</td>\n",
       "      <td>7603200.0</td>\n",
       "      <td>8</td>\n",
       "      <td>18</td>\n",
       "      <td>1</td>\n",
       "      <td>8</td>\n",
       "      <td>18</td>\n",
       "      <td>5</td>\n",
       "    </tr>\n",
       "  </tbody>\n",
       "</table>\n",
       "</div>"
      ],
      "text/plain": [
       "       reviewerID                     reviewerName  \\\n",
       "0   AMO214LNFCEI4                  Amazon Customer   \n",
       "1  A3N7T0DY83Y4IG                    C. A. Freeman   \n",
       "2  A1H8PY3QHMQQA0         Dave M. Shaw \"mack dave\"   \n",
       "3  A3QH8VQDE7HZCR                   costaricachris   \n",
       "4  A38FGQVJM18OWV  George S. Mitchell \"gsmitchell\"   \n",
       "\n",
       "                                          reviewText  user_deviation  \\\n",
       "0  I'm a professional OTR truck driver, and I bou...        1.399189   \n",
       "1  Well, what can I say.  I've had this unit in m...        0.624437   \n",
       "2  Not going to write a long review, even thought...        0.510375   \n",
       "3  Quality was excellent. Instructions were clear...        0.442171   \n",
       "4  I checked around Amazon as well as some other ...        1.616074   \n",
       "\n",
       "   user_delay  helpful_votes  total_votes  no_of_reviews  all_helpful_votes  \\\n",
       "0  10152000.0             12           15              1                 12   \n",
       "1  10886400.0             11           11              1                 15   \n",
       "2   7516800.0             17           18              1                 24   \n",
       "3   2678400.0             15           19              1                 17   \n",
       "4   7603200.0              8           18              1                  8   \n",
       "\n",
       "   all_total_votes  all_no_of_reviews  \n",
       "0               15                  4  \n",
       "1               21                 11  \n",
       "2               30                 21  \n",
       "3               24                  6  \n",
       "4               18                  5  "
      ]
     },
     "execution_count": 160,
     "metadata": {},
     "output_type": "execute_result"
    }
   ],
   "source": [
    "user_df.head()"
   ]
  },
  {
   "cell_type": "code",
   "execution_count": 162,
   "metadata": {
    "collapsed": true
   },
   "outputs": [],
   "source": [
    "avg_help=user_df['helpful_votes']/user_df['no_of_reviews']"
   ]
  },
  {
   "cell_type": "code",
   "execution_count": 163,
   "metadata": {},
   "outputs": [
    {
     "data": {
      "text/plain": [
       "0    12.0\n",
       "1    11.0\n",
       "2    17.0\n",
       "3    15.0\n",
       "4     8.0\n",
       "dtype: float64"
      ]
     },
     "execution_count": 163,
     "metadata": {},
     "output_type": "execute_result"
    }
   ],
   "source": [
    "avg_help.head()"
   ]
  },
  {
   "cell_type": "code",
   "execution_count": 164,
   "metadata": {},
   "outputs": [
    {
     "data": {
      "text/plain": [
       "0.1161965347854301"
      ]
     },
     "execution_count": 164,
     "metadata": {},
     "output_type": "execute_result"
    }
   ],
   "source": [
    "avg_help.corr(review_df['helpfulness_score'])"
   ]
  },
  {
   "cell_type": "code",
   "execution_count": 169,
   "metadata": {},
   "outputs": [
    {
     "name": "stdout",
     "output_type": "stream",
     "text": [
      "total votes correlation:  0.0733968360582888\n",
      "all helfpul correlation:  0.08895267631661546\n",
      "all total correlation:  0.06005336563686367\n"
     ]
    }
   ],
   "source": [
    "avg_total = user_df['total_votes']/user_df['no_of_reviews']\n",
    "all_avg_help = user_df['all_helpful_votes']/user_df['all_no_of_reviews']\n",
    "all_avg_total = user_df['all_total_votes']/user_df['all_no_of_reviews']\n",
    "\n",
    "print(\"total votes correlation: \",avg_total.corr(review_df['helpfulness_score']))\n",
    "print(\"all helfpul correlation: \",all_avg_help.corr(review_df['helpfulness_score']))\n",
    "print(\"all total correlation: \",all_avg_total.corr(review_df['helpfulness_score']))"
   ]
  },
  {
   "cell_type": "code",
   "execution_count": 170,
   "metadata": {
    "collapsed": true
   },
   "outputs": [],
   "source": [
    "hscore = review_df['helpfulness_score']"
   ]
  },
  {
   "cell_type": "code",
   "execution_count": null,
   "metadata": {
    "collapsed": true
   },
   "outputs": [],
   "source": []
  },
  {
   "cell_type": "code",
   "execution_count": 172,
   "metadata": {},
   "outputs": [
    {
     "data": {
      "text/plain": [
       "-0.23112491522909748"
      ]
     },
     "execution_count": 172,
     "metadata": {},
     "output_type": "execute_result"
    }
   ],
   "source": [
    "(all_avg_total - all_avg_help).corr(hscore)"
   ]
  },
  {
   "cell_type": "code",
   "execution_count": 167,
   "metadata": {
    "collapsed": true
   },
   "outputs": [],
   "source": [
    "user_df['avg_helpful_votes'] = avg_help"
   ]
  },
  {
   "cell_type": "code",
   "execution_count": 174,
   "metadata": {
    "collapsed": true
   },
   "outputs": [],
   "source": [
    "user_df['unhelfpul_votes'] = user_df['total_votes'] - user_df['helpful_votes']"
   ]
  },
  {
   "cell_type": "code",
   "execution_count": 175,
   "metadata": {
    "collapsed": true
   },
   "outputs": [],
   "source": [
    "avg_unhelpful = user_df['unhelfpul_votes']/user_df['no_of_reviews']"
   ]
  },
  {
   "cell_type": "code",
   "execution_count": 176,
   "metadata": {},
   "outputs": [
    {
     "data": {
      "text/plain": [
       "-0.3725002117545532"
      ]
     },
     "execution_count": 176,
     "metadata": {},
     "output_type": "execute_result"
    }
   ],
   "source": [
    "avg_unhelpful.corr(hscore)"
   ]
  },
  {
   "cell_type": "code",
   "execution_count": 177,
   "metadata": {},
   "outputs": [
    {
     "data": {
      "text/plain": [
       "0.1161965347854301"
      ]
     },
     "execution_count": 177,
     "metadata": {},
     "output_type": "execute_result"
    }
   ],
   "source": [
    "avg_help.corr(hscore)"
   ]
  },
  {
   "cell_type": "code",
   "execution_count": 180,
   "metadata": {
    "collapsed": true
   },
   "outputs": [],
   "source": [
    "user_df['avg_unhelpful_votes'] = avg_unhelpful"
   ]
  },
  {
   "cell_type": "code",
   "execution_count": 290,
   "metadata": {
    "collapsed": true
   },
   "outputs": [],
   "source": [
    "user_df['all_unhelpful_votes'] = user_df['all_total_votes'] - user_df['all_helpful_votes'] "
   ]
  },
  {
   "cell_type": "code",
   "execution_count": null,
   "metadata": {
    "collapsed": true
   },
   "outputs": [],
   "source": []
  },
  {
   "cell_type": "code",
   "execution_count": 291,
   "metadata": {
    "collapsed": true
   },
   "outputs": [],
   "source": [
    "user_df['all_avg_helpful_votes'] = all_avg_help\n",
    "user_df['all_avg_unhelpful_votes'] = user_df['all_unhelpful_votes']/user_df['all_no_of_reviews']"
   ]
  },
  {
   "cell_type": "code",
   "execution_count": 182,
   "metadata": {},
   "outputs": [
    {
     "data": {
      "text/html": [
       "<div>\n",
       "<style scoped>\n",
       "    .dataframe tbody tr th:only-of-type {\n",
       "        vertical-align: middle;\n",
       "    }\n",
       "\n",
       "    .dataframe tbody tr th {\n",
       "        vertical-align: top;\n",
       "    }\n",
       "\n",
       "    .dataframe thead th {\n",
       "        text-align: right;\n",
       "    }\n",
       "</style>\n",
       "<table border=\"1\" class=\"dataframe\">\n",
       "  <thead>\n",
       "    <tr style=\"text-align: right;\">\n",
       "      <th></th>\n",
       "      <th>reviewerID</th>\n",
       "      <th>reviewerName</th>\n",
       "      <th>reviewText</th>\n",
       "      <th>user_deviation</th>\n",
       "      <th>user_delay</th>\n",
       "      <th>helpful_votes</th>\n",
       "      <th>total_votes</th>\n",
       "      <th>no_of_reviews</th>\n",
       "      <th>all_helpful_votes</th>\n",
       "      <th>all_total_votes</th>\n",
       "      <th>all_no_of_reviews</th>\n",
       "      <th>avg_helpful_votes</th>\n",
       "      <th>unhelfpul_votes</th>\n",
       "      <th>avg_unhelpful_votes</th>\n",
       "    </tr>\n",
       "  </thead>\n",
       "  <tbody>\n",
       "    <tr>\n",
       "      <th>0</th>\n",
       "      <td>AMO214LNFCEI4</td>\n",
       "      <td>Amazon Customer</td>\n",
       "      <td>I'm a professional OTR truck driver, and I bou...</td>\n",
       "      <td>1.399189</td>\n",
       "      <td>10152000.0</td>\n",
       "      <td>12</td>\n",
       "      <td>15</td>\n",
       "      <td>1</td>\n",
       "      <td>12</td>\n",
       "      <td>15</td>\n",
       "      <td>4</td>\n",
       "      <td>12.0</td>\n",
       "      <td>3</td>\n",
       "      <td>3.0</td>\n",
       "    </tr>\n",
       "    <tr>\n",
       "      <th>1</th>\n",
       "      <td>A3N7T0DY83Y4IG</td>\n",
       "      <td>C. A. Freeman</td>\n",
       "      <td>Well, what can I say.  I've had this unit in m...</td>\n",
       "      <td>0.624437</td>\n",
       "      <td>10886400.0</td>\n",
       "      <td>11</td>\n",
       "      <td>11</td>\n",
       "      <td>1</td>\n",
       "      <td>15</td>\n",
       "      <td>21</td>\n",
       "      <td>11</td>\n",
       "      <td>11.0</td>\n",
       "      <td>0</td>\n",
       "      <td>0.0</td>\n",
       "    </tr>\n",
       "    <tr>\n",
       "      <th>2</th>\n",
       "      <td>A1H8PY3QHMQQA0</td>\n",
       "      <td>Dave M. Shaw \"mack dave\"</td>\n",
       "      <td>Not going to write a long review, even thought...</td>\n",
       "      <td>0.510375</td>\n",
       "      <td>7516800.0</td>\n",
       "      <td>17</td>\n",
       "      <td>18</td>\n",
       "      <td>1</td>\n",
       "      <td>24</td>\n",
       "      <td>30</td>\n",
       "      <td>21</td>\n",
       "      <td>17.0</td>\n",
       "      <td>1</td>\n",
       "      <td>1.0</td>\n",
       "    </tr>\n",
       "    <tr>\n",
       "      <th>3</th>\n",
       "      <td>A3QH8VQDE7HZCR</td>\n",
       "      <td>costaricachris</td>\n",
       "      <td>Quality was excellent. Instructions were clear...</td>\n",
       "      <td>0.442171</td>\n",
       "      <td>2678400.0</td>\n",
       "      <td>15</td>\n",
       "      <td>19</td>\n",
       "      <td>1</td>\n",
       "      <td>17</td>\n",
       "      <td>24</td>\n",
       "      <td>6</td>\n",
       "      <td>15.0</td>\n",
       "      <td>4</td>\n",
       "      <td>4.0</td>\n",
       "    </tr>\n",
       "    <tr>\n",
       "      <th>4</th>\n",
       "      <td>A38FGQVJM18OWV</td>\n",
       "      <td>George S. Mitchell \"gsmitchell\"</td>\n",
       "      <td>I checked around Amazon as well as some other ...</td>\n",
       "      <td>1.616074</td>\n",
       "      <td>7603200.0</td>\n",
       "      <td>8</td>\n",
       "      <td>18</td>\n",
       "      <td>1</td>\n",
       "      <td>8</td>\n",
       "      <td>18</td>\n",
       "      <td>5</td>\n",
       "      <td>8.0</td>\n",
       "      <td>10</td>\n",
       "      <td>10.0</td>\n",
       "    </tr>\n",
       "  </tbody>\n",
       "</table>\n",
       "</div>"
      ],
      "text/plain": [
       "       reviewerID                     reviewerName  \\\n",
       "0   AMO214LNFCEI4                  Amazon Customer   \n",
       "1  A3N7T0DY83Y4IG                    C. A. Freeman   \n",
       "2  A1H8PY3QHMQQA0         Dave M. Shaw \"mack dave\"   \n",
       "3  A3QH8VQDE7HZCR                   costaricachris   \n",
       "4  A38FGQVJM18OWV  George S. Mitchell \"gsmitchell\"   \n",
       "\n",
       "                                          reviewText  user_deviation  \\\n",
       "0  I'm a professional OTR truck driver, and I bou...        1.399189   \n",
       "1  Well, what can I say.  I've had this unit in m...        0.624437   \n",
       "2  Not going to write a long review, even thought...        0.510375   \n",
       "3  Quality was excellent. Instructions were clear...        0.442171   \n",
       "4  I checked around Amazon as well as some other ...        1.616074   \n",
       "\n",
       "   user_delay  helpful_votes  total_votes  no_of_reviews  all_helpful_votes  \\\n",
       "0  10152000.0             12           15              1                 12   \n",
       "1  10886400.0             11           11              1                 15   \n",
       "2   7516800.0             17           18              1                 24   \n",
       "3   2678400.0             15           19              1                 17   \n",
       "4   7603200.0              8           18              1                  8   \n",
       "\n",
       "   all_total_votes  all_no_of_reviews  avg_helpful_votes  unhelfpul_votes  \\\n",
       "0               15                  4               12.0                3   \n",
       "1               21                 11               11.0                0   \n",
       "2               30                 21               17.0                1   \n",
       "3               24                  6               15.0                4   \n",
       "4               18                  5                8.0               10   \n",
       "\n",
       "   avg_unhelpful_votes  \n",
       "0                  3.0  \n",
       "1                  0.0  \n",
       "2                  1.0  \n",
       "3                  4.0  \n",
       "4                 10.0  "
      ]
     },
     "execution_count": 182,
     "metadata": {},
     "output_type": "execute_result"
    }
   ],
   "source": [
    "user_df.head()"
   ]
  },
  {
   "cell_type": "markdown",
   "metadata": {},
   "source": [
    "### Experiment with avg helpful and avg unhelpful"
   ]
  },
  {
   "cell_type": "code",
   "execution_count": 215,
   "metadata": {},
   "outputs": [
    {
     "data": {
      "text/plain": [
       "Index(['flesch_reading_ease', 'smog_index', 'flesch_kincaid_grade',\n",
       "       'coleman_liau_index', 'automated_readability_index',\n",
       "       'dale_chall_readability_score', 'difficult_words',\n",
       "       'linsear_write_formula', 'gunning_fog', 'sentence_count', 'wps',\n",
       "       'review_length', 'pos_no', 'neg_no', 'user_deviation', 'user_delay',\n",
       "       'no_of_reviews', 'stem_sim_length', 'lem_sim_length', 'overall'],\n",
       "      dtype='object')"
      ]
     },
     "execution_count": 215,
     "metadata": {},
     "output_type": "execute_result"
    }
   ],
   "source": [
    "X = text_df[['flesch_reading_ease', \n",
    "       'smog_index', 'flesch_kincaid_grade', 'coleman_liau_index',\n",
    "       'automated_readability_index', 'dale_chall_readability_score',\n",
    "       'difficult_words', 'linsear_write_formula', 'gunning_fog',\n",
    "       'sentence_count', 'wps', 'review_length', 'pos_no', 'neg_no']]\n",
    "\n",
    "X=X.join(user_df[['user_deviation', 'user_delay','no_of_reviews']])\n",
    "\n",
    "X = X.join(meta_df[['stem_sim_length','lem_sim_length','overall']])\n",
    "\n",
    "X.columns"
   ]
  },
  {
   "cell_type": "code",
   "execution_count": 216,
   "metadata": {},
   "outputs": [
    {
     "data": {
      "text/html": [
       "<div>\n",
       "<style scoped>\n",
       "    .dataframe tbody tr th:only-of-type {\n",
       "        vertical-align: middle;\n",
       "    }\n",
       "\n",
       "    .dataframe tbody tr th {\n",
       "        vertical-align: top;\n",
       "    }\n",
       "\n",
       "    .dataframe thead th {\n",
       "        text-align: right;\n",
       "    }\n",
       "</style>\n",
       "<table border=\"1\" class=\"dataframe\">\n",
       "  <thead>\n",
       "    <tr style=\"text-align: right;\">\n",
       "      <th></th>\n",
       "      <th>flesch_reading_ease</th>\n",
       "      <th>smog_index</th>\n",
       "      <th>flesch_kincaid_grade</th>\n",
       "      <th>coleman_liau_index</th>\n",
       "      <th>automated_readability_index</th>\n",
       "      <th>dale_chall_readability_score</th>\n",
       "      <th>difficult_words</th>\n",
       "      <th>linsear_write_formula</th>\n",
       "      <th>gunning_fog</th>\n",
       "      <th>sentence_count</th>\n",
       "      <th>wps</th>\n",
       "      <th>review_length</th>\n",
       "      <th>pos_no</th>\n",
       "      <th>neg_no</th>\n",
       "      <th>user_deviation</th>\n",
       "      <th>user_delay</th>\n",
       "      <th>no_of_reviews</th>\n",
       "      <th>stem_sim_length</th>\n",
       "      <th>lem_sim_length</th>\n",
       "      <th>overall</th>\n",
       "    </tr>\n",
       "  </thead>\n",
       "  <tbody>\n",
       "    <tr>\n",
       "      <th>0</th>\n",
       "      <td>-336.56</td>\n",
       "      <td>0.0</td>\n",
       "      <td>166.3</td>\n",
       "      <td>7.69</td>\n",
       "      <td>211.1</td>\n",
       "      <td>26.44</td>\n",
       "      <td>44</td>\n",
       "      <td>14.000000</td>\n",
       "      <td>176.92</td>\n",
       "      <td>1</td>\n",
       "      <td>427.000000</td>\n",
       "      <td>427</td>\n",
       "      <td>2</td>\n",
       "      <td>4</td>\n",
       "      <td>1.399189</td>\n",
       "      <td>10152000.0</td>\n",
       "      <td>1</td>\n",
       "      <td>15</td>\n",
       "      <td>13</td>\n",
       "      <td>1.0</td>\n",
       "    </tr>\n",
       "    <tr>\n",
       "      <th>1</th>\n",
       "      <td>-340.96</td>\n",
       "      <td>0.0</td>\n",
       "      <td>165.9</td>\n",
       "      <td>9.72</td>\n",
       "      <td>210.8</td>\n",
       "      <td>26.37</td>\n",
       "      <td>94</td>\n",
       "      <td>8.666667</td>\n",
       "      <td>175.64</td>\n",
       "      <td>2</td>\n",
       "      <td>423.000000</td>\n",
       "      <td>846</td>\n",
       "      <td>18</td>\n",
       "      <td>8</td>\n",
       "      <td>0.624437</td>\n",
       "      <td>10886400.0</td>\n",
       "      <td>1</td>\n",
       "      <td>24</td>\n",
       "      <td>23</td>\n",
       "      <td>3.0</td>\n",
       "    </tr>\n",
       "    <tr>\n",
       "      <th>2</th>\n",
       "      <td>85.52</td>\n",
       "      <td>7.3</td>\n",
       "      <td>6.2</td>\n",
       "      <td>5.92</td>\n",
       "      <td>7.2</td>\n",
       "      <td>5.87</td>\n",
       "      <td>36</td>\n",
       "      <td>7.666667</td>\n",
       "      <td>13.01</td>\n",
       "      <td>23</td>\n",
       "      <td>19.521739</td>\n",
       "      <td>449</td>\n",
       "      <td>7</td>\n",
       "      <td>6</td>\n",
       "      <td>0.510375</td>\n",
       "      <td>7516800.0</td>\n",
       "      <td>1</td>\n",
       "      <td>17</td>\n",
       "      <td>16</td>\n",
       "      <td>2.0</td>\n",
       "    </tr>\n",
       "    <tr>\n",
       "      <th>3</th>\n",
       "      <td>66.94</td>\n",
       "      <td>10.8</td>\n",
       "      <td>7.1</td>\n",
       "      <td>8.05</td>\n",
       "      <td>6.3</td>\n",
       "      <td>6.99</td>\n",
       "      <td>11</td>\n",
       "      <td>7.200000</td>\n",
       "      <td>14.00</td>\n",
       "      <td>5</td>\n",
       "      <td>12.800000</td>\n",
       "      <td>64</td>\n",
       "      <td>2</td>\n",
       "      <td>0</td>\n",
       "      <td>0.442171</td>\n",
       "      <td>2678400.0</td>\n",
       "      <td>1</td>\n",
       "      <td>2</td>\n",
       "      <td>2</td>\n",
       "      <td>5.0</td>\n",
       "    </tr>\n",
       "    <tr>\n",
       "      <th>4</th>\n",
       "      <td>-43.22</td>\n",
       "      <td>0.0</td>\n",
       "      <td>53.6</td>\n",
       "      <td>8.09</td>\n",
       "      <td>67.2</td>\n",
       "      <td>12.20</td>\n",
       "      <td>15</td>\n",
       "      <td>4.400000</td>\n",
       "      <td>61.55</td>\n",
       "      <td>1</td>\n",
       "      <td>138.000000</td>\n",
       "      <td>138</td>\n",
       "      <td>1</td>\n",
       "      <td>3</td>\n",
       "      <td>1.616074</td>\n",
       "      <td>7603200.0</td>\n",
       "      <td>1</td>\n",
       "      <td>2</td>\n",
       "      <td>2</td>\n",
       "      <td>1.0</td>\n",
       "    </tr>\n",
       "  </tbody>\n",
       "</table>\n",
       "</div>"
      ],
      "text/plain": [
       "   flesch_reading_ease  smog_index  flesch_kincaid_grade  coleman_liau_index  \\\n",
       "0              -336.56         0.0                 166.3                7.69   \n",
       "1              -340.96         0.0                 165.9                9.72   \n",
       "2                85.52         7.3                   6.2                5.92   \n",
       "3                66.94        10.8                   7.1                8.05   \n",
       "4               -43.22         0.0                  53.6                8.09   \n",
       "\n",
       "   automated_readability_index  dale_chall_readability_score  difficult_words  \\\n",
       "0                        211.1                         26.44               44   \n",
       "1                        210.8                         26.37               94   \n",
       "2                          7.2                          5.87               36   \n",
       "3                          6.3                          6.99               11   \n",
       "4                         67.2                         12.20               15   \n",
       "\n",
       "   linsear_write_formula  gunning_fog  sentence_count         wps  \\\n",
       "0              14.000000       176.92               1  427.000000   \n",
       "1               8.666667       175.64               2  423.000000   \n",
       "2               7.666667        13.01              23   19.521739   \n",
       "3               7.200000        14.00               5   12.800000   \n",
       "4               4.400000        61.55               1  138.000000   \n",
       "\n",
       "   review_length  pos_no  neg_no  user_deviation  user_delay  no_of_reviews  \\\n",
       "0            427       2       4        1.399189  10152000.0              1   \n",
       "1            846      18       8        0.624437  10886400.0              1   \n",
       "2            449       7       6        0.510375   7516800.0              1   \n",
       "3             64       2       0        0.442171   2678400.0              1   \n",
       "4            138       1       3        1.616074   7603200.0              1   \n",
       "\n",
       "   stem_sim_length  lem_sim_length  overall  \n",
       "0               15              13      1.0  \n",
       "1               24              23      3.0  \n",
       "2               17              16      2.0  \n",
       "3                2               2      5.0  \n",
       "4                2               2      1.0  "
      ]
     },
     "execution_count": 216,
     "metadata": {},
     "output_type": "execute_result"
    }
   ],
   "source": [
    "X.head()"
   ]
  },
  {
   "cell_type": "code",
   "execution_count": 217,
   "metadata": {
    "collapsed": true
   },
   "outputs": [],
   "source": [
    "y = review_df['helpfulness_score']\n",
    "\t\n",
    "X_train, X_test, y_train, y_test = train_test_split(X, y, test_size=0.4, random_state=101)"
   ]
  },
  {
   "cell_type": "code",
   "execution_count": 218,
   "metadata": {
    "collapsed": true
   },
   "outputs": [],
   "source": [
    "xgb_reg = xgb.XGBRegressor()"
   ]
  },
  {
   "cell_type": "code",
   "execution_count": 219,
   "metadata": {},
   "outputs": [
    {
     "name": "stdout",
     "output_type": "stream",
     "text": [
      "Best Learning Rate : 0.09 , Best No of Estimators : 400 , Best Subsample size : 0.9\n"
     ]
    }
   ],
   "source": [
    "print(\"Best Learning Rate : {} , Best No of Estimators : {} , Best Subsample size : {}\".format(best_learning_rate, best_n_estimators, best_subsample))"
   ]
  },
  {
   "cell_type": "code",
   "execution_count": 220,
   "metadata": {},
   "outputs": [
    {
     "data": {
      "text/plain": [
       "XGBRegressor(base_score=0.5, booster='gbtree', colsample_bylevel=1,\n",
       "       colsample_bytree=1, gamma=0, learning_rate=0.1, max_delta_step=0,\n",
       "       max_depth=3, min_child_weight=1, missing=None, n_estimators=100,\n",
       "       n_jobs=1, nthread=None, objective='reg:linear', random_state=0,\n",
       "       reg_alpha=0, reg_lambda=1, scale_pos_weight=1, seed=None,\n",
       "       silent=True, subsample=1)"
      ]
     },
     "execution_count": 220,
     "metadata": {},
     "output_type": "execute_result"
    }
   ],
   "source": [
    "xgb_reg.fit(X_train,y_train)"
   ]
  },
  {
   "cell_type": "code",
   "execution_count": 221,
   "metadata": {
    "collapsed": true
   },
   "outputs": [],
   "source": [
    "predictions=xgb_reg.predict(X_test)"
   ]
  },
  {
   "cell_type": "code",
   "execution_count": 222,
   "metadata": {},
   "outputs": [
    {
     "name": "stdout",
     "output_type": "stream",
     "text": [
      "Mean Squared Error (MSE):       0.037214149448659396\n",
      "Root Mean Squared Error (RMSE): 0.1929096924694542\n",
      "Mean Absolute Error (MAE):      0.13303612335141038\n"
     ]
    }
   ],
   "source": [
    "# MSE : Mean Squared Error\n",
    "mse=mean_squared_error(y_test,predictions)\n",
    "\n",
    "# RMSE : Root Mean Squared Error\n",
    "rmse=math.sqrt(mean_squared_error(y_test,predictions))\n",
    "\n",
    "# MAE : Mean Absolute Error\n",
    "mae=mean_absolute_error(y_test,predictions)\n",
    "\n",
    "print('Mean Squared Error (MSE):      ',mse)\n",
    "print('Root Mean Squared Error (RMSE):',rmse)\n",
    "print('Mean Absolute Error (MAE):     ',mae)"
   ]
  },
  {
   "cell_type": "markdown",
   "metadata": {
    "collapsed": true
   },
   "source": [
    "### Individual Feature Prediction - avg helpful, avg unhelpful"
   ]
  },
  {
   "cell_type": "code",
   "execution_count": 249,
   "metadata": {},
   "outputs": [
    {
     "data": {
      "text/html": [
       "<div>\n",
       "<style scoped>\n",
       "    .dataframe tbody tr th:only-of-type {\n",
       "        vertical-align: middle;\n",
       "    }\n",
       "\n",
       "    .dataframe tbody tr th {\n",
       "        vertical-align: top;\n",
       "    }\n",
       "\n",
       "    .dataframe thead th {\n",
       "        text-align: right;\n",
       "    }\n",
       "</style>\n",
       "<table border=\"1\" class=\"dataframe\">\n",
       "  <thead>\n",
       "    <tr style=\"text-align: right;\">\n",
       "      <th></th>\n",
       "      <th>reviewerID</th>\n",
       "      <th>reviewerName</th>\n",
       "      <th>reviewText</th>\n",
       "      <th>user_deviation</th>\n",
       "      <th>user_delay</th>\n",
       "      <th>helpful_votes</th>\n",
       "      <th>total_votes</th>\n",
       "      <th>no_of_reviews</th>\n",
       "      <th>all_helpful_votes</th>\n",
       "      <th>all_total_votes</th>\n",
       "      <th>all_no_of_reviews</th>\n",
       "      <th>avg_helpful_votes</th>\n",
       "      <th>unhelfpul_votes</th>\n",
       "      <th>avg_unhelpful_votes</th>\n",
       "    </tr>\n",
       "  </thead>\n",
       "  <tbody>\n",
       "    <tr>\n",
       "      <th>0</th>\n",
       "      <td>AMO214LNFCEI4</td>\n",
       "      <td>Amazon Customer</td>\n",
       "      <td>I'm a professional OTR truck driver, and I bou...</td>\n",
       "      <td>1.399189</td>\n",
       "      <td>10152000.0</td>\n",
       "      <td>12</td>\n",
       "      <td>15</td>\n",
       "      <td>1</td>\n",
       "      <td>12</td>\n",
       "      <td>15</td>\n",
       "      <td>4</td>\n",
       "      <td>12.0</td>\n",
       "      <td>3</td>\n",
       "      <td>3.0</td>\n",
       "    </tr>\n",
       "    <tr>\n",
       "      <th>1</th>\n",
       "      <td>A3N7T0DY83Y4IG</td>\n",
       "      <td>C. A. Freeman</td>\n",
       "      <td>Well, what can I say.  I've had this unit in m...</td>\n",
       "      <td>0.624437</td>\n",
       "      <td>10886400.0</td>\n",
       "      <td>11</td>\n",
       "      <td>11</td>\n",
       "      <td>1</td>\n",
       "      <td>15</td>\n",
       "      <td>21</td>\n",
       "      <td>11</td>\n",
       "      <td>11.0</td>\n",
       "      <td>0</td>\n",
       "      <td>0.0</td>\n",
       "    </tr>\n",
       "    <tr>\n",
       "      <th>2</th>\n",
       "      <td>A1H8PY3QHMQQA0</td>\n",
       "      <td>Dave M. Shaw \"mack dave\"</td>\n",
       "      <td>Not going to write a long review, even thought...</td>\n",
       "      <td>0.510375</td>\n",
       "      <td>7516800.0</td>\n",
       "      <td>17</td>\n",
       "      <td>18</td>\n",
       "      <td>1</td>\n",
       "      <td>24</td>\n",
       "      <td>30</td>\n",
       "      <td>21</td>\n",
       "      <td>17.0</td>\n",
       "      <td>1</td>\n",
       "      <td>1.0</td>\n",
       "    </tr>\n",
       "    <tr>\n",
       "      <th>3</th>\n",
       "      <td>A3QH8VQDE7HZCR</td>\n",
       "      <td>costaricachris</td>\n",
       "      <td>Quality was excellent. Instructions were clear...</td>\n",
       "      <td>0.442171</td>\n",
       "      <td>2678400.0</td>\n",
       "      <td>15</td>\n",
       "      <td>19</td>\n",
       "      <td>1</td>\n",
       "      <td>17</td>\n",
       "      <td>24</td>\n",
       "      <td>6</td>\n",
       "      <td>15.0</td>\n",
       "      <td>4</td>\n",
       "      <td>4.0</td>\n",
       "    </tr>\n",
       "    <tr>\n",
       "      <th>4</th>\n",
       "      <td>A38FGQVJM18OWV</td>\n",
       "      <td>George S. Mitchell \"gsmitchell\"</td>\n",
       "      <td>I checked around Amazon as well as some other ...</td>\n",
       "      <td>1.616074</td>\n",
       "      <td>7603200.0</td>\n",
       "      <td>8</td>\n",
       "      <td>18</td>\n",
       "      <td>1</td>\n",
       "      <td>8</td>\n",
       "      <td>18</td>\n",
       "      <td>5</td>\n",
       "      <td>8.0</td>\n",
       "      <td>10</td>\n",
       "      <td>10.0</td>\n",
       "    </tr>\n",
       "  </tbody>\n",
       "</table>\n",
       "</div>"
      ],
      "text/plain": [
       "       reviewerID                     reviewerName  \\\n",
       "0   AMO214LNFCEI4                  Amazon Customer   \n",
       "1  A3N7T0DY83Y4IG                    C. A. Freeman   \n",
       "2  A1H8PY3QHMQQA0         Dave M. Shaw \"mack dave\"   \n",
       "3  A3QH8VQDE7HZCR                   costaricachris   \n",
       "4  A38FGQVJM18OWV  George S. Mitchell \"gsmitchell\"   \n",
       "\n",
       "                                          reviewText  user_deviation  \\\n",
       "0  I'm a professional OTR truck driver, and I bou...        1.399189   \n",
       "1  Well, what can I say.  I've had this unit in m...        0.624437   \n",
       "2  Not going to write a long review, even thought...        0.510375   \n",
       "3  Quality was excellent. Instructions were clear...        0.442171   \n",
       "4  I checked around Amazon as well as some other ...        1.616074   \n",
       "\n",
       "   user_delay  helpful_votes  total_votes  no_of_reviews  all_helpful_votes  \\\n",
       "0  10152000.0             12           15              1                 12   \n",
       "1  10886400.0             11           11              1                 15   \n",
       "2   7516800.0             17           18              1                 24   \n",
       "3   2678400.0             15           19              1                 17   \n",
       "4   7603200.0              8           18              1                  8   \n",
       "\n",
       "   all_total_votes  all_no_of_reviews  avg_helpful_votes  unhelfpul_votes  \\\n",
       "0               15                  4               12.0                3   \n",
       "1               21                 11               11.0                0   \n",
       "2               30                 21               17.0                1   \n",
       "3               24                  6               15.0                4   \n",
       "4               18                  5                8.0               10   \n",
       "\n",
       "   avg_unhelpful_votes  \n",
       "0                  3.0  \n",
       "1                  0.0  \n",
       "2                  1.0  \n",
       "3                  4.0  \n",
       "4                 10.0  "
      ]
     },
     "execution_count": 249,
     "metadata": {},
     "output_type": "execute_result"
    }
   ],
   "source": [
    "user_df.head()"
   ]
  },
  {
   "cell_type": "code",
   "execution_count": 282,
   "metadata": {},
   "outputs": [],
   "source": [
    "X = user_df['all_no_of_reviews']\n",
    "X = np.array(X).reshape(-1,1)"
   ]
  },
  {
   "cell_type": "code",
   "execution_count": 283,
   "metadata": {},
   "outputs": [
    {
     "data": {
      "text/plain": [
       "array([[  4],\n",
       "       [ 11],\n",
       "       [ 21],\n",
       "       ...,\n",
       "       [  8],\n",
       "       [ 26],\n",
       "       [206]], dtype=int64)"
      ]
     },
     "execution_count": 283,
     "metadata": {},
     "output_type": "execute_result"
    }
   ],
   "source": [
    "X"
   ]
  },
  {
   "cell_type": "code",
   "execution_count": 284,
   "metadata": {
    "collapsed": true
   },
   "outputs": [],
   "source": [
    "y = review_df['helpfulness_score']\n",
    "\t\n",
    "X_train, X_test, y_train, y_test = train_test_split(X, y, test_size=0.4, random_state=101)"
   ]
  },
  {
   "cell_type": "code",
   "execution_count": 285,
   "metadata": {
    "collapsed": true
   },
   "outputs": [],
   "source": [
    "xgb_reg = xgb.XGBRegressor()"
   ]
  },
  {
   "cell_type": "code",
   "execution_count": 286,
   "metadata": {},
   "outputs": [
    {
     "name": "stdout",
     "output_type": "stream",
     "text": [
      "Best Learning Rate : 0.09 , Best No of Estimators : 400 , Best Subsample size : 0.9\n"
     ]
    }
   ],
   "source": [
    "print(\"Best Learning Rate : {} , Best No of Estimators : {} , Best Subsample size : {}\".format(best_learning_rate, best_n_estimators, best_subsample))"
   ]
  },
  {
   "cell_type": "code",
   "execution_count": 287,
   "metadata": {},
   "outputs": [
    {
     "data": {
      "text/plain": [
       "XGBRegressor(base_score=0.5, booster='gbtree', colsample_bylevel=1,\n",
       "       colsample_bytree=1, gamma=0, learning_rate=0.1, max_delta_step=0,\n",
       "       max_depth=3, min_child_weight=1, missing=None, n_estimators=100,\n",
       "       n_jobs=1, nthread=None, objective='reg:linear', random_state=0,\n",
       "       reg_alpha=0, reg_lambda=1, scale_pos_weight=1, seed=None,\n",
       "       silent=True, subsample=1)"
      ]
     },
     "execution_count": 287,
     "metadata": {},
     "output_type": "execute_result"
    }
   ],
   "source": [
    "xgb_reg.fit(X_train,y_train)"
   ]
  },
  {
   "cell_type": "code",
   "execution_count": 288,
   "metadata": {
    "collapsed": true
   },
   "outputs": [],
   "source": [
    "predictions=xgb_reg.predict(X_test)"
   ]
  },
  {
   "cell_type": "code",
   "execution_count": 289,
   "metadata": {},
   "outputs": [
    {
     "name": "stdout",
     "output_type": "stream",
     "text": [
      "Mean Squared Error (MSE):       0.05580377556989326\n",
      "Root Mean Squared Error (RMSE): 0.23622822771610774\n",
      "Mean Absolute Error (MAE):      0.17192880789351828\n"
     ]
    }
   ],
   "source": [
    "# MSE : Mean Squared Error\n",
    "mse=mean_squared_error(y_test,predictions)\n",
    "\n",
    "# RMSE : Root Mean Squared Error\n",
    "rmse=math.sqrt(mean_squared_error(y_test,predictions))\n",
    "\n",
    "# MAE : Mean Absolute Error\n",
    "mae=mean_absolute_error(y_test,predictions)\n",
    "\n",
    "print('Mean Squared Error (MSE):      ',mse)\n",
    "print('Root Mean Squared Error (RMSE):',rmse)\n",
    "print('Mean Absolute Error (MAE):     ',mae)"
   ]
  },
  {
   "cell_type": "markdown",
   "metadata": {},
   "source": [
    "### Usage of all no of reviews and all avg unhelpful votes with Grid Search"
   ]
  },
  {
   "cell_type": "code",
   "execution_count": 292,
   "metadata": {},
   "outputs": [
    {
     "data": {
      "text/plain": [
       "Index(['flesch_reading_ease', 'smog_index', 'flesch_kincaid_grade',\n",
       "       'coleman_liau_index', 'automated_readability_index',\n",
       "       'dale_chall_readability_score', 'difficult_words',\n",
       "       'linsear_write_formula', 'gunning_fog', 'sentence_count', 'wps',\n",
       "       'review_length', 'pos_no', 'neg_no', 'user_deviation', 'user_delay',\n",
       "       'all_no_of_reviews', 'all_avg_unhelpful_votes', 'stem_sim_length',\n",
       "       'lem_sim_length', 'overall'],\n",
       "      dtype='object')"
      ]
     },
     "execution_count": 292,
     "metadata": {},
     "output_type": "execute_result"
    }
   ],
   "source": [
    "X = text_df[['flesch_reading_ease', \n",
    "       'smog_index', 'flesch_kincaid_grade', 'coleman_liau_index',\n",
    "       'automated_readability_index', 'dale_chall_readability_score',\n",
    "       'difficult_words', 'linsear_write_formula', 'gunning_fog',\n",
    "       'sentence_count', 'wps', 'review_length', 'pos_no', 'neg_no']]\n",
    "\n",
    "X=X.join(user_df[['user_deviation', 'user_delay','all_no_of_reviews', 'all_avg_unhelpful_votes']])\n",
    "\n",
    "X = X.join(meta_df[['stem_sim_length','lem_sim_length','overall']])\n",
    "\n",
    "X.columns"
   ]
  },
  {
   "cell_type": "code",
   "execution_count": 293,
   "metadata": {},
   "outputs": [
    {
     "data": {
      "text/html": [
       "<div>\n",
       "<style scoped>\n",
       "    .dataframe tbody tr th:only-of-type {\n",
       "        vertical-align: middle;\n",
       "    }\n",
       "\n",
       "    .dataframe tbody tr th {\n",
       "        vertical-align: top;\n",
       "    }\n",
       "\n",
       "    .dataframe thead th {\n",
       "        text-align: right;\n",
       "    }\n",
       "</style>\n",
       "<table border=\"1\" class=\"dataframe\">\n",
       "  <thead>\n",
       "    <tr style=\"text-align: right;\">\n",
       "      <th></th>\n",
       "      <th>flesch_reading_ease</th>\n",
       "      <th>smog_index</th>\n",
       "      <th>flesch_kincaid_grade</th>\n",
       "      <th>coleman_liau_index</th>\n",
       "      <th>automated_readability_index</th>\n",
       "      <th>dale_chall_readability_score</th>\n",
       "      <th>difficult_words</th>\n",
       "      <th>linsear_write_formula</th>\n",
       "      <th>gunning_fog</th>\n",
       "      <th>sentence_count</th>\n",
       "      <th>...</th>\n",
       "      <th>review_length</th>\n",
       "      <th>pos_no</th>\n",
       "      <th>neg_no</th>\n",
       "      <th>user_deviation</th>\n",
       "      <th>user_delay</th>\n",
       "      <th>all_no_of_reviews</th>\n",
       "      <th>all_avg_unhelpful_votes</th>\n",
       "      <th>stem_sim_length</th>\n",
       "      <th>lem_sim_length</th>\n",
       "      <th>overall</th>\n",
       "    </tr>\n",
       "  </thead>\n",
       "  <tbody>\n",
       "    <tr>\n",
       "      <th>0</th>\n",
       "      <td>-336.56</td>\n",
       "      <td>0.0</td>\n",
       "      <td>166.3</td>\n",
       "      <td>7.69</td>\n",
       "      <td>211.1</td>\n",
       "      <td>26.44</td>\n",
       "      <td>44</td>\n",
       "      <td>14.000000</td>\n",
       "      <td>176.92</td>\n",
       "      <td>1</td>\n",
       "      <td>...</td>\n",
       "      <td>427</td>\n",
       "      <td>2</td>\n",
       "      <td>4</td>\n",
       "      <td>1.399189</td>\n",
       "      <td>10152000.0</td>\n",
       "      <td>4</td>\n",
       "      <td>0.750000</td>\n",
       "      <td>15</td>\n",
       "      <td>13</td>\n",
       "      <td>1.0</td>\n",
       "    </tr>\n",
       "    <tr>\n",
       "      <th>1</th>\n",
       "      <td>-340.96</td>\n",
       "      <td>0.0</td>\n",
       "      <td>165.9</td>\n",
       "      <td>9.72</td>\n",
       "      <td>210.8</td>\n",
       "      <td>26.37</td>\n",
       "      <td>94</td>\n",
       "      <td>8.666667</td>\n",
       "      <td>175.64</td>\n",
       "      <td>2</td>\n",
       "      <td>...</td>\n",
       "      <td>846</td>\n",
       "      <td>18</td>\n",
       "      <td>8</td>\n",
       "      <td>0.624437</td>\n",
       "      <td>10886400.0</td>\n",
       "      <td>11</td>\n",
       "      <td>0.545455</td>\n",
       "      <td>24</td>\n",
       "      <td>23</td>\n",
       "      <td>3.0</td>\n",
       "    </tr>\n",
       "    <tr>\n",
       "      <th>2</th>\n",
       "      <td>85.52</td>\n",
       "      <td>7.3</td>\n",
       "      <td>6.2</td>\n",
       "      <td>5.92</td>\n",
       "      <td>7.2</td>\n",
       "      <td>5.87</td>\n",
       "      <td>36</td>\n",
       "      <td>7.666667</td>\n",
       "      <td>13.01</td>\n",
       "      <td>23</td>\n",
       "      <td>...</td>\n",
       "      <td>449</td>\n",
       "      <td>7</td>\n",
       "      <td>6</td>\n",
       "      <td>0.510375</td>\n",
       "      <td>7516800.0</td>\n",
       "      <td>21</td>\n",
       "      <td>0.285714</td>\n",
       "      <td>17</td>\n",
       "      <td>16</td>\n",
       "      <td>2.0</td>\n",
       "    </tr>\n",
       "    <tr>\n",
       "      <th>3</th>\n",
       "      <td>66.94</td>\n",
       "      <td>10.8</td>\n",
       "      <td>7.1</td>\n",
       "      <td>8.05</td>\n",
       "      <td>6.3</td>\n",
       "      <td>6.99</td>\n",
       "      <td>11</td>\n",
       "      <td>7.200000</td>\n",
       "      <td>14.00</td>\n",
       "      <td>5</td>\n",
       "      <td>...</td>\n",
       "      <td>64</td>\n",
       "      <td>2</td>\n",
       "      <td>0</td>\n",
       "      <td>0.442171</td>\n",
       "      <td>2678400.0</td>\n",
       "      <td>6</td>\n",
       "      <td>1.166667</td>\n",
       "      <td>2</td>\n",
       "      <td>2</td>\n",
       "      <td>5.0</td>\n",
       "    </tr>\n",
       "    <tr>\n",
       "      <th>4</th>\n",
       "      <td>-43.22</td>\n",
       "      <td>0.0</td>\n",
       "      <td>53.6</td>\n",
       "      <td>8.09</td>\n",
       "      <td>67.2</td>\n",
       "      <td>12.20</td>\n",
       "      <td>15</td>\n",
       "      <td>4.400000</td>\n",
       "      <td>61.55</td>\n",
       "      <td>1</td>\n",
       "      <td>...</td>\n",
       "      <td>138</td>\n",
       "      <td>1</td>\n",
       "      <td>3</td>\n",
       "      <td>1.616074</td>\n",
       "      <td>7603200.0</td>\n",
       "      <td>5</td>\n",
       "      <td>2.000000</td>\n",
       "      <td>2</td>\n",
       "      <td>2</td>\n",
       "      <td>1.0</td>\n",
       "    </tr>\n",
       "  </tbody>\n",
       "</table>\n",
       "<p>5 rows × 21 columns</p>\n",
       "</div>"
      ],
      "text/plain": [
       "   flesch_reading_ease  smog_index  flesch_kincaid_grade  coleman_liau_index  \\\n",
       "0              -336.56         0.0                 166.3                7.69   \n",
       "1              -340.96         0.0                 165.9                9.72   \n",
       "2                85.52         7.3                   6.2                5.92   \n",
       "3                66.94        10.8                   7.1                8.05   \n",
       "4               -43.22         0.0                  53.6                8.09   \n",
       "\n",
       "   automated_readability_index  dale_chall_readability_score  difficult_words  \\\n",
       "0                        211.1                         26.44               44   \n",
       "1                        210.8                         26.37               94   \n",
       "2                          7.2                          5.87               36   \n",
       "3                          6.3                          6.99               11   \n",
       "4                         67.2                         12.20               15   \n",
       "\n",
       "   linsear_write_formula  gunning_fog  sentence_count   ...     review_length  \\\n",
       "0              14.000000       176.92               1   ...               427   \n",
       "1               8.666667       175.64               2   ...               846   \n",
       "2               7.666667        13.01              23   ...               449   \n",
       "3               7.200000        14.00               5   ...                64   \n",
       "4               4.400000        61.55               1   ...               138   \n",
       "\n",
       "   pos_no  neg_no  user_deviation  user_delay  all_no_of_reviews  \\\n",
       "0       2       4        1.399189  10152000.0                  4   \n",
       "1      18       8        0.624437  10886400.0                 11   \n",
       "2       7       6        0.510375   7516800.0                 21   \n",
       "3       2       0        0.442171   2678400.0                  6   \n",
       "4       1       3        1.616074   7603200.0                  5   \n",
       "\n",
       "   all_avg_unhelpful_votes  stem_sim_length  lem_sim_length  overall  \n",
       "0                 0.750000               15              13      1.0  \n",
       "1                 0.545455               24              23      3.0  \n",
       "2                 0.285714               17              16      2.0  \n",
       "3                 1.166667                2               2      5.0  \n",
       "4                 2.000000                2               2      1.0  \n",
       "\n",
       "[5 rows x 21 columns]"
      ]
     },
     "execution_count": 293,
     "metadata": {},
     "output_type": "execute_result"
    }
   ],
   "source": [
    "X.head()"
   ]
  },
  {
   "cell_type": "code",
   "execution_count": 294,
   "metadata": {
    "collapsed": true
   },
   "outputs": [],
   "source": [
    "y = review_df['helpfulness_score']\n",
    "\t\n",
    "X_train, X_test, y_train, y_test = train_test_split(X, y, test_size=0.4, random_state=101)"
   ]
  },
  {
   "cell_type": "code",
   "execution_count": 295,
   "metadata": {
    "collapsed": true
   },
   "outputs": [],
   "source": [
    "xgb_reg = xgb.XGBRegressor()"
   ]
  },
  {
   "cell_type": "code",
   "execution_count": 296,
   "metadata": {},
   "outputs": [
    {
     "name": "stdout",
     "output_type": "stream",
     "text": [
      "Best Learning Rate : 0.09 , Best No of Estimators : 400 , Best Subsample size : 0.9\n"
     ]
    }
   ],
   "source": [
    "print(\"Best Learning Rate : {} , Best No of Estimators : {} , Best Subsample size : {}\".format(best_learning_rate, best_n_estimators, best_subsample))"
   ]
  },
  {
   "cell_type": "code",
   "execution_count": 297,
   "metadata": {},
   "outputs": [
    {
     "data": {
      "text/plain": [
       "XGBRegressor(base_score=0.5, booster='gbtree', colsample_bylevel=1,\n",
       "       colsample_bytree=1, gamma=0, learning_rate=0.1, max_delta_step=0,\n",
       "       max_depth=3, min_child_weight=1, missing=None, n_estimators=100,\n",
       "       n_jobs=1, nthread=None, objective='reg:linear', random_state=0,\n",
       "       reg_alpha=0, reg_lambda=1, scale_pos_weight=1, seed=None,\n",
       "       silent=True, subsample=1)"
      ]
     },
     "execution_count": 297,
     "metadata": {},
     "output_type": "execute_result"
    }
   ],
   "source": [
    "xgb_reg.fit(X_train,y_train)"
   ]
  },
  {
   "cell_type": "code",
   "execution_count": 298,
   "metadata": {
    "collapsed": true
   },
   "outputs": [],
   "source": [
    "predictions=xgb_reg.predict(X_test)"
   ]
  },
  {
   "cell_type": "code",
   "execution_count": 299,
   "metadata": {},
   "outputs": [
    {
     "name": "stdout",
     "output_type": "stream",
     "text": [
      "Mean Squared Error (MSE):       0.05027398806992936\n",
      "Root Mean Squared Error (RMSE): 0.22421861668900145\n",
      "Mean Absolute Error (MAE):      0.14249431558178208\n"
     ]
    }
   ],
   "source": [
    "# MSE : Mean Squared Error\n",
    "mse=mean_squared_error(y_test,predictions)\n",
    "\n",
    "# RMSE : Root Mean Squared Error\n",
    "rmse=math.sqrt(mean_squared_error(y_test,predictions))\n",
    "\n",
    "# MAE : Mean Absolute Error\n",
    "mae=mean_absolute_error(y_test,predictions)\n",
    "\n",
    "print('Mean Squared Error (MSE):      ',mse)\n",
    "print('Root Mean Squared Error (RMSE):',rmse)\n",
    "print('Mean Absolute Error (MAE):     ',mae)"
   ]
  },
  {
   "cell_type": "code",
   "execution_count": 300,
   "metadata": {},
   "outputs": [
    {
     "data": {
      "text/plain": [
       "{'learning_rate': [0.01, 0.09, 0.1, 0.2, 0.5, 0.9],\n",
       " 'n_estimators': [200, 300, 400, 500],\n",
       " 'subsample': [0.3, 0.5, 0.9, 1]}"
      ]
     },
     "execution_count": 300,
     "metadata": {},
     "output_type": "execute_result"
    }
   ],
   "source": [
    "params"
   ]
  },
  {
   "cell_type": "code",
   "execution_count": 301,
   "metadata": {},
   "outputs": [
    {
     "name": "stdout",
     "output_type": "stream",
     "text": [
      "{'learning_rate': 0.01, 'n_estimators': 200, 'subsample': 0.3, 'rmse': 0.21314307319297318, 'mae': 0.1530811937935574}\n",
      "{'learning_rate': 0.01, 'n_estimators': 200, 'subsample': 0.5, 'rmse': 0.2130614453650779, 'mae': 0.15319696240300948}\n",
      "{'learning_rate': 0.01, 'n_estimators': 200, 'subsample': 0.9, 'rmse': 0.2134591035019029, 'mae': 0.15335639210365457}\n",
      "{'learning_rate': 0.01, 'n_estimators': 200, 'subsample': 1, 'rmse': 0.21355567276934975, 'mae': 0.15338899503756429}\n",
      "{'learning_rate': 0.01, 'n_estimators': 300, 'subsample': 0.3, 'rmse': 0.21410896802897203, 'mae': 0.14187605397699626}\n",
      "{'learning_rate': 0.01, 'n_estimators': 300, 'subsample': 0.5, 'rmse': 0.21416492237200602, 'mae': 0.14201952367572518}\n",
      "{'learning_rate': 0.01, 'n_estimators': 300, 'subsample': 0.9, 'rmse': 0.21432378581423026, 'mae': 0.14211416697756685}\n",
      "{'learning_rate': 0.01, 'n_estimators': 300, 'subsample': 1, 'rmse': 0.21436819762516715, 'mae': 0.14216507108874984}\n",
      "{'learning_rate': 0.01, 'n_estimators': 400, 'subsample': 0.3, 'rmse': 0.2160939108028178, 'mae': 0.13955571003007095}\n",
      "{'learning_rate': 0.01, 'n_estimators': 400, 'subsample': 0.5, 'rmse': 0.21632435116494417, 'mae': 0.1398351097478635}\n",
      "{'learning_rate': 0.01, 'n_estimators': 400, 'subsample': 0.9, 'rmse': 0.2163393206577669, 'mae': 0.1398200369130327}\n",
      "{'learning_rate': 0.01, 'n_estimators': 400, 'subsample': 1, 'rmse': 0.21645148705522768, 'mae': 0.13989166234291328}\n",
      "{'learning_rate': 0.01, 'n_estimators': 500, 'subsample': 0.3, 'rmse': 0.2176947095195329, 'mae': 0.13932711849062046}\n",
      "{'learning_rate': 0.01, 'n_estimators': 500, 'subsample': 0.5, 'rmse': 0.21782584428608334, 'mae': 0.13953724909853335}\n",
      "{'learning_rate': 0.01, 'n_estimators': 500, 'subsample': 0.9, 'rmse': 0.21813694827946767, 'mae': 0.13973270584794012}\n",
      "{'learning_rate': 0.01, 'n_estimators': 500, 'subsample': 1, 'rmse': 0.21831611069402362, 'mae': 0.13985560636368377}\n",
      "{'learning_rate': 0.09, 'n_estimators': 200, 'subsample': 0.3, 'rmse': 0.22413921633718525, 'mae': 0.14251250444609115}\n",
      "{'learning_rate': 0.09, 'n_estimators': 200, 'subsample': 0.5, 'rmse': 0.22588283581419058, 'mae': 0.14328510794796645}\n",
      "{'learning_rate': 0.09, 'n_estimators': 200, 'subsample': 0.9, 'rmse': 0.2257778993648595, 'mae': 0.1434060348357343}\n",
      "{'learning_rate': 0.09, 'n_estimators': 200, 'subsample': 1, 'rmse': 0.22661860632934677, 'mae': 0.1438352926805586}\n",
      "{'learning_rate': 0.09, 'n_estimators': 300, 'subsample': 0.3, 'rmse': 0.22437644068789434, 'mae': 0.14252279197063839}\n",
      "{'learning_rate': 0.09, 'n_estimators': 300, 'subsample': 0.5, 'rmse': 0.22665324778367169, 'mae': 0.14355897650667807}\n",
      "{'learning_rate': 0.09, 'n_estimators': 300, 'subsample': 0.9, 'rmse': 0.2264497626257543, 'mae': 0.14373521669075887}\n",
      "{'learning_rate': 0.09, 'n_estimators': 300, 'subsample': 1, 'rmse': 0.22749105464073308, 'mae': 0.1442891102921735}\n",
      "{'learning_rate': 0.09, 'n_estimators': 400, 'subsample': 0.3, 'rmse': 0.22529127372053023, 'mae': 0.1429351444439178}\n",
      "{'learning_rate': 0.09, 'n_estimators': 400, 'subsample': 0.5, 'rmse': 0.2281248486720561, 'mae': 0.14436086613788202}\n",
      "{'learning_rate': 0.09, 'n_estimators': 400, 'subsample': 0.9, 'rmse': 0.22754400727006746, 'mae': 0.14431660464195903}\n",
      "{'learning_rate': 0.09, 'n_estimators': 400, 'subsample': 1, 'rmse': 0.22820973661843272, 'mae': 0.14460373774681012}\n",
      "{'learning_rate': 0.09, 'n_estimators': 500, 'subsample': 0.3, 'rmse': 0.22643183191011934, 'mae': 0.1434841559972804}\n",
      "{'learning_rate': 0.09, 'n_estimators': 500, 'subsample': 0.5, 'rmse': 0.22880116727410219, 'mae': 0.14465133629441765}\n",
      "{'learning_rate': 0.09, 'n_estimators': 500, 'subsample': 0.9, 'rmse': 0.22811516466554443, 'mae': 0.14457309441737434}\n",
      "{'learning_rate': 0.09, 'n_estimators': 500, 'subsample': 1, 'rmse': 0.22856040477539272, 'mae': 0.1447860700955245}\n",
      "{'learning_rate': 0.1, 'n_estimators': 200, 'subsample': 0.3, 'rmse': 0.22557505928023938, 'mae': 0.14302395459028155}\n",
      "{'learning_rate': 0.1, 'n_estimators': 200, 'subsample': 0.5, 'rmse': 0.22639583609705355, 'mae': 0.14353905074108841}\n",
      "{'learning_rate': 0.1, 'n_estimators': 200, 'subsample': 0.9, 'rmse': 0.22637529320957925, 'mae': 0.1438313861077191}\n",
      "{'learning_rate': 0.1, 'n_estimators': 200, 'subsample': 1, 'rmse': 0.22708630942961952, 'mae': 0.1441280303376727}\n",
      "{'learning_rate': 0.1, 'n_estimators': 300, 'subsample': 0.3, 'rmse': 0.22645946630710262, 'mae': 0.14353876434326587}\n",
      "{'learning_rate': 0.1, 'n_estimators': 300, 'subsample': 0.5, 'rmse': 0.22669168913139442, 'mae': 0.14372297521656915}\n",
      "{'learning_rate': 0.1, 'n_estimators': 300, 'subsample': 0.9, 'rmse': 0.2269579202434638, 'mae': 0.14410918699821332}\n",
      "{'learning_rate': 0.1, 'n_estimators': 300, 'subsample': 1, 'rmse': 0.22789443541915827, 'mae': 0.14455005010030839}\n",
      "{'learning_rate': 0.1, 'n_estimators': 400, 'subsample': 0.3, 'rmse': 0.22805413813686132, 'mae': 0.1442967087365929}\n",
      "{'learning_rate': 0.1, 'n_estimators': 400, 'subsample': 0.5, 'rmse': 0.2282838869892036, 'mae': 0.14454874931733544}\n",
      "{'learning_rate': 0.1, 'n_estimators': 400, 'subsample': 0.9, 'rmse': 0.22762912828151774, 'mae': 0.14439915413131912}\n",
      "{'learning_rate': 0.1, 'n_estimators': 400, 'subsample': 1, 'rmse': 0.22888799136581758, 'mae': 0.14502554428146502}\n",
      "{'learning_rate': 0.1, 'n_estimators': 500, 'subsample': 0.3, 'rmse': 0.2290021863044819, 'mae': 0.14484253417930895}\n",
      "{'learning_rate': 0.1, 'n_estimators': 500, 'subsample': 0.5, 'rmse': 0.22885059383642736, 'mae': 0.14486619572906684}\n",
      "{'learning_rate': 0.1, 'n_estimators': 500, 'subsample': 0.9, 'rmse': 0.22798416081306822, 'mae': 0.14460918007554707}\n",
      "{'learning_rate': 0.1, 'n_estimators': 500, 'subsample': 1, 'rmse': 0.22907185259282575, 'mae': 0.14511104677061648}\n",
      "{'learning_rate': 0.2, 'n_estimators': 200, 'subsample': 0.3, 'rmse': 0.22703550694750027, 'mae': 0.1443117692427512}\n",
      "{'learning_rate': 0.2, 'n_estimators': 200, 'subsample': 0.5, 'rmse': 0.2281542210166618, 'mae': 0.14458371635023282}\n",
      "{'learning_rate': 0.2, 'n_estimators': 200, 'subsample': 0.9, 'rmse': 0.2287621965456846, 'mae': 0.1449111687477146}\n",
      "{'learning_rate': 0.2, 'n_estimators': 200, 'subsample': 1, 'rmse': 0.22917556242254608, 'mae': 0.14538664767745332}\n",
      "{'learning_rate': 0.2, 'n_estimators': 300, 'subsample': 0.3, 'rmse': 0.22766718629388105, 'mae': 0.14504713909396114}\n",
      "{'learning_rate': 0.2, 'n_estimators': 300, 'subsample': 0.5, 'rmse': 0.22892817819433536, 'mae': 0.14505069432308162}\n",
      "{'learning_rate': 0.2, 'n_estimators': 300, 'subsample': 0.9, 'rmse': 0.2294912021899174, 'mae': 0.1451894200837261}\n",
      "{'learning_rate': 0.2, 'n_estimators': 300, 'subsample': 1, 'rmse': 0.2297016724866146, 'mae': 0.1456492641616206}\n",
      "{'learning_rate': 0.2, 'n_estimators': 400, 'subsample': 0.3, 'rmse': 0.22930722889312058, 'mae': 0.14568282335467048}\n",
      "{'learning_rate': 0.2, 'n_estimators': 400, 'subsample': 0.5, 'rmse': 0.23001537169250108, 'mae': 0.14564086220583947}\n",
      "{'learning_rate': 0.2, 'n_estimators': 400, 'subsample': 0.9, 'rmse': 0.2299497321143687, 'mae': 0.14543155573485336}\n",
      "{'learning_rate': 0.2, 'n_estimators': 400, 'subsample': 1, 'rmse': 0.23016595406327023, 'mae': 0.14588331190813691}\n",
      "{'learning_rate': 0.2, 'n_estimators': 500, 'subsample': 0.3, 'rmse': 0.22953282663446892, 'mae': 0.14573969253919347}\n",
      "{'learning_rate': 0.2, 'n_estimators': 500, 'subsample': 0.5, 'rmse': 0.2306267871373117, 'mae': 0.14609974464781986}\n",
      "{'learning_rate': 0.2, 'n_estimators': 500, 'subsample': 0.9, 'rmse': 0.23004500437901723, 'mae': 0.14557327808422907}\n",
      "{'learning_rate': 0.2, 'n_estimators': 500, 'subsample': 1, 'rmse': 0.23015996181639112, 'mae': 0.14593999848294775}\n",
      "{'learning_rate': 0.5, 'n_estimators': 200, 'subsample': 0.3, 'rmse': 0.23988985029301035, 'mae': 0.15223076732813656}\n",
      "{'learning_rate': 0.5, 'n_estimators': 200, 'subsample': 0.5, 'rmse': 0.232845621548695, 'mae': 0.14781240991396694}\n",
      "{'learning_rate': 0.5, 'n_estimators': 200, 'subsample': 0.9, 'rmse': 0.2341107503362954, 'mae': 0.14864803679091304}\n",
      "{'learning_rate': 0.5, 'n_estimators': 200, 'subsample': 1, 'rmse': 0.23220775691331275, 'mae': 0.14750890594951319}\n",
      "{'learning_rate': 0.5, 'n_estimators': 300, 'subsample': 0.3, 'rmse': 0.2422596506891614, 'mae': 0.15380591412607023}\n"
     ]
    },
    {
     "name": "stdout",
     "output_type": "stream",
     "text": [
      "{'learning_rate': 0.5, 'n_estimators': 300, 'subsample': 0.5, 'rmse': 0.2340720405390614, 'mae': 0.14884381685926987}\n",
      "{'learning_rate': 0.5, 'n_estimators': 300, 'subsample': 0.9, 'rmse': 0.23434873805907477, 'mae': 0.1489228580005637}\n",
      "{'learning_rate': 0.5, 'n_estimators': 300, 'subsample': 1, 'rmse': 0.2335598682009292, 'mae': 0.14848617701271025}\n",
      "{'learning_rate': 0.5, 'n_estimators': 400, 'subsample': 0.3, 'rmse': 0.24419434130371792, 'mae': 0.15528318624029008}\n",
      "{'learning_rate': 0.5, 'n_estimators': 400, 'subsample': 0.5, 'rmse': 0.23505788580097423, 'mae': 0.14962701798035338}\n",
      "{'learning_rate': 0.5, 'n_estimators': 400, 'subsample': 0.9, 'rmse': 0.23538462381110647, 'mae': 0.14978708470167548}\n",
      "{'learning_rate': 0.5, 'n_estimators': 400, 'subsample': 1, 'rmse': 0.23447526800187501, 'mae': 0.14924534441493936}\n",
      "{'learning_rate': 0.5, 'n_estimators': 500, 'subsample': 0.3, 'rmse': 0.24665709223527163, 'mae': 0.15716333033490573}\n",
      "{'learning_rate': 0.5, 'n_estimators': 500, 'subsample': 0.5, 'rmse': 0.2366029895764488, 'mae': 0.1509890877764277}\n",
      "{'learning_rate': 0.5, 'n_estimators': 500, 'subsample': 0.9, 'rmse': 0.2357544814928182, 'mae': 0.15010351556389964}\n",
      "{'learning_rate': 0.5, 'n_estimators': 500, 'subsample': 1, 'rmse': 0.23469542055862025, 'mae': 0.1495120211567962}\n",
      "{'learning_rate': 0.9, 'n_estimators': 200, 'subsample': 0.3, 'rmse': 0.2523499612938835, 'mae': 0.1582707710838835}\n",
      "{'learning_rate': 0.9, 'n_estimators': 200, 'subsample': 0.5, 'rmse': 0.24063758170628766, 'mae': 0.15306212337398326}\n",
      "{'learning_rate': 0.9, 'n_estimators': 200, 'subsample': 0.9, 'rmse': 0.23959913541538994, 'mae': 0.15306605474632737}\n",
      "{'learning_rate': 0.9, 'n_estimators': 200, 'subsample': 1, 'rmse': 0.23815537783929894, 'mae': 0.15212386104243547}\n",
      "{'learning_rate': 0.9, 'n_estimators': 300, 'subsample': 0.3, 'rmse': 0.26220601019351564, 'mae': 0.1632723296621157}\n",
      "{'learning_rate': 0.9, 'n_estimators': 300, 'subsample': 0.5, 'rmse': 0.24452427408959812, 'mae': 0.15648723419303393}\n",
      "{'learning_rate': 0.9, 'n_estimators': 300, 'subsample': 0.9, 'rmse': 0.23978670928135604, 'mae': 0.15369342119297108}\n",
      "{'learning_rate': 0.9, 'n_estimators': 300, 'subsample': 1, 'rmse': 0.23993570269399037, 'mae': 0.15370590358424152}\n",
      "{'learning_rate': 0.9, 'n_estimators': 400, 'subsample': 0.3, 'rmse': 0.2750759272201572, 'mae': 0.16592834519473232}\n",
      "{'learning_rate': 0.9, 'n_estimators': 400, 'subsample': 0.5, 'rmse': 0.24849749100915264, 'mae': 0.1591149390362939}\n",
      "{'learning_rate': 0.9, 'n_estimators': 400, 'subsample': 0.9, 'rmse': 0.24047546063360373, 'mae': 0.15467031469444803}\n",
      "{'learning_rate': 0.9, 'n_estimators': 400, 'subsample': 1, 'rmse': 0.24099290708572654, 'mae': 0.15487261475292663}\n",
      "{'learning_rate': 0.9, 'n_estimators': 500, 'subsample': 0.3, 'rmse': 0.2917081399870458, 'mae': 0.16873302344686608}\n",
      "{'learning_rate': 0.9, 'n_estimators': 500, 'subsample': 0.5, 'rmse': 0.25066419139496277, 'mae': 0.1610350800001078}\n",
      "{'learning_rate': 0.9, 'n_estimators': 500, 'subsample': 0.9, 'rmse': 0.2414083265962583, 'mae': 0.15568975828719328}\n",
      "{'learning_rate': 0.9, 'n_estimators': 500, 'subsample': 1, 'rmse': 0.24189248266400065, 'mae': 0.15632993260607977}\n"
     ]
    }
   ],
   "source": [
    "best_rmse_2=1000\n",
    "best_mae_2=1000\n",
    "for rate in params['learning_rate'] :\n",
    "    for estimator in params['n_estimators'] :\n",
    "        for subsample in params['subsample'] :\n",
    "            xgb_model = xgb.XGBRegressor(learning_rate= rate, n_estimators = estimator, subsample=subsample)\n",
    "            xgb_model.fit(X_train,y_train)\n",
    "            predictions=xgb_model.predict(X_test)\n",
    "            rmse=math.sqrt(mean_squared_error(y_test,predictions))\n",
    "            mae=mean_absolute_error(y_test,predictions)\n",
    "            \n",
    "            res_dict = {'learning_rate': rate, 'n_estimators': estimator, 'subsample': subsample, 'rmse' : rmse, 'mae' : mae }\n",
    "            result_df.append(res_dict, ignore_index=True)\n",
    "\n",
    "            print(res_dict)\n",
    "            \n",
    "            if(rmse<=best_rmse_2) :\n",
    "                if(mae < best_mae_2) :\n",
    "                    best_rmse_2 = rmse\n",
    "                    best_mae_2 = mae\n",
    "                    best_learning_rate_2 = rate\n",
    "                    best_n_estimators_2 = estimator\n",
    "                    best_subsample_2 = subsample\n",
    "            "
   ]
  },
  {
   "cell_type": "code",
   "execution_count": 302,
   "metadata": {},
   "outputs": [
    {
     "data": {
      "text/plain": [
       "0.21314307319297318"
      ]
     },
     "execution_count": 302,
     "metadata": {},
     "output_type": "execute_result"
    }
   ],
   "source": [
    "best_rmse_2"
   ]
  },
  {
   "cell_type": "code",
   "execution_count": 303,
   "metadata": {},
   "outputs": [
    {
     "data": {
      "text/plain": [
       "0.1530811937935574"
      ]
     },
     "execution_count": 303,
     "metadata": {},
     "output_type": "execute_result"
    }
   ],
   "source": [
    "best_mae_2"
   ]
  },
  {
   "cell_type": "markdown",
   "metadata": {},
   "source": [
    "#### Experiment : Optimization , using feature subset based on correlation graph"
   ]
  },
  {
   "cell_type": "code",
   "execution_count": 320,
   "metadata": {},
   "outputs": [
    {
     "data": {
      "text/plain": [
       "Index(['smog_index', 'wps', 'coleman_liau_index', 'linsear_write_formula',\n",
       "       'sentence_count', 'pos_no', 'user_deviation', 'user_delay',\n",
       "       'lem_sim_length', 'overall'],\n",
       "      dtype='object')"
      ]
     },
     "execution_count": 320,
     "metadata": {},
     "output_type": "execute_result"
    }
   ],
   "source": [
    "X = text_df[[ 'smog_index', 'wps', 'coleman_liau_index',\n",
    "       'linsear_write_formula', 'sentence_count', 'pos_no']]\n",
    "\n",
    "X=X.join(user_df[['user_deviation', 'user_delay','no_of_reviews']])\n",
    "\n",
    "X = X.join(meta_df[['lem_sim_length','overall']])\n",
    "\n",
    "X.columns"
   ]
  },
  {
   "cell_type": "code",
   "execution_count": 321,
   "metadata": {},
   "outputs": [
    {
     "data": {
      "text/html": [
       "<div>\n",
       "<style scoped>\n",
       "    .dataframe tbody tr th:only-of-type {\n",
       "        vertical-align: middle;\n",
       "    }\n",
       "\n",
       "    .dataframe tbody tr th {\n",
       "        vertical-align: top;\n",
       "    }\n",
       "\n",
       "    .dataframe thead th {\n",
       "        text-align: right;\n",
       "    }\n",
       "</style>\n",
       "<table border=\"1\" class=\"dataframe\">\n",
       "  <thead>\n",
       "    <tr style=\"text-align: right;\">\n",
       "      <th></th>\n",
       "      <th>smog_index</th>\n",
       "      <th>wps</th>\n",
       "      <th>coleman_liau_index</th>\n",
       "      <th>linsear_write_formula</th>\n",
       "      <th>sentence_count</th>\n",
       "      <th>pos_no</th>\n",
       "      <th>user_deviation</th>\n",
       "      <th>user_delay</th>\n",
       "      <th>lem_sim_length</th>\n",
       "      <th>overall</th>\n",
       "    </tr>\n",
       "  </thead>\n",
       "  <tbody>\n",
       "    <tr>\n",
       "      <th>0</th>\n",
       "      <td>0.0</td>\n",
       "      <td>427.000000</td>\n",
       "      <td>7.69</td>\n",
       "      <td>14.000000</td>\n",
       "      <td>1</td>\n",
       "      <td>2</td>\n",
       "      <td>1.399189</td>\n",
       "      <td>10152000.0</td>\n",
       "      <td>13</td>\n",
       "      <td>1.0</td>\n",
       "    </tr>\n",
       "    <tr>\n",
       "      <th>1</th>\n",
       "      <td>0.0</td>\n",
       "      <td>423.000000</td>\n",
       "      <td>9.72</td>\n",
       "      <td>8.666667</td>\n",
       "      <td>2</td>\n",
       "      <td>18</td>\n",
       "      <td>0.624437</td>\n",
       "      <td>10886400.0</td>\n",
       "      <td>23</td>\n",
       "      <td>3.0</td>\n",
       "    </tr>\n",
       "    <tr>\n",
       "      <th>2</th>\n",
       "      <td>7.3</td>\n",
       "      <td>19.521739</td>\n",
       "      <td>5.92</td>\n",
       "      <td>7.666667</td>\n",
       "      <td>23</td>\n",
       "      <td>7</td>\n",
       "      <td>0.510375</td>\n",
       "      <td>7516800.0</td>\n",
       "      <td>16</td>\n",
       "      <td>2.0</td>\n",
       "    </tr>\n",
       "    <tr>\n",
       "      <th>3</th>\n",
       "      <td>10.8</td>\n",
       "      <td>12.800000</td>\n",
       "      <td>8.05</td>\n",
       "      <td>7.200000</td>\n",
       "      <td>5</td>\n",
       "      <td>2</td>\n",
       "      <td>0.442171</td>\n",
       "      <td>2678400.0</td>\n",
       "      <td>2</td>\n",
       "      <td>5.0</td>\n",
       "    </tr>\n",
       "    <tr>\n",
       "      <th>4</th>\n",
       "      <td>0.0</td>\n",
       "      <td>138.000000</td>\n",
       "      <td>8.09</td>\n",
       "      <td>4.400000</td>\n",
       "      <td>1</td>\n",
       "      <td>1</td>\n",
       "      <td>1.616074</td>\n",
       "      <td>7603200.0</td>\n",
       "      <td>2</td>\n",
       "      <td>1.0</td>\n",
       "    </tr>\n",
       "  </tbody>\n",
       "</table>\n",
       "</div>"
      ],
      "text/plain": [
       "   smog_index         wps  coleman_liau_index  linsear_write_formula  \\\n",
       "0         0.0  427.000000                7.69              14.000000   \n",
       "1         0.0  423.000000                9.72               8.666667   \n",
       "2         7.3   19.521739                5.92               7.666667   \n",
       "3        10.8   12.800000                8.05               7.200000   \n",
       "4         0.0  138.000000                8.09               4.400000   \n",
       "\n",
       "   sentence_count  pos_no  user_deviation  user_delay  lem_sim_length  overall  \n",
       "0               1       2        1.399189  10152000.0              13      1.0  \n",
       "1               2      18        0.624437  10886400.0              23      3.0  \n",
       "2              23       7        0.510375   7516800.0              16      2.0  \n",
       "3               5       2        0.442171   2678400.0               2      5.0  \n",
       "4               1       1        1.616074   7603200.0               2      1.0  "
      ]
     },
     "execution_count": 321,
     "metadata": {},
     "output_type": "execute_result"
    }
   ],
   "source": [
    "X.head()"
   ]
  },
  {
   "cell_type": "code",
   "execution_count": 322,
   "metadata": {
    "collapsed": true
   },
   "outputs": [],
   "source": [
    "y = review_df['helpfulness_score']\n",
    "\t\n",
    "X_train, X_test, y_train, y_test = train_test_split(X, y, test_size=0.4, random_state=101)"
   ]
  },
  {
   "cell_type": "code",
   "execution_count": 323,
   "metadata": {
    "collapsed": true
   },
   "outputs": [],
   "source": [
    "xgb_reg = xgb.XGBRegressor()"
   ]
  },
  {
   "cell_type": "code",
   "execution_count": 324,
   "metadata": {},
   "outputs": [
    {
     "name": "stdout",
     "output_type": "stream",
     "text": [
      "Best Learning Rate : 0.09 , Best No of Estimators : 400 , Best Subsample size : 0.9\n"
     ]
    }
   ],
   "source": [
    "print(\"Best Learning Rate : {} , Best No of Estimators : {} , Best Subsample size : {}\".format(best_learning_rate, best_n_estimators, best_subsample))"
   ]
  },
  {
   "cell_type": "code",
   "execution_count": 325,
   "metadata": {},
   "outputs": [
    {
     "data": {
      "text/plain": [
       "XGBRegressor(base_score=0.5, booster='gbtree', colsample_bylevel=1,\n",
       "       colsample_bytree=1, gamma=0, learning_rate=0.1, max_delta_step=0,\n",
       "       max_depth=3, min_child_weight=1, missing=None, n_estimators=100,\n",
       "       n_jobs=1, nthread=None, objective='reg:linear', random_state=0,\n",
       "       reg_alpha=0, reg_lambda=1, scale_pos_weight=1, seed=None,\n",
       "       silent=True, subsample=1)"
      ]
     },
     "execution_count": 325,
     "metadata": {},
     "output_type": "execute_result"
    }
   ],
   "source": [
    "xgb_reg.fit(X_train,y_train)"
   ]
  },
  {
   "cell_type": "code",
   "execution_count": 326,
   "metadata": {
    "collapsed": true
   },
   "outputs": [],
   "source": [
    "predictions=xgb_reg.predict(X_test)"
   ]
  },
  {
   "cell_type": "code",
   "execution_count": 327,
   "metadata": {},
   "outputs": [
    {
     "name": "stdout",
     "output_type": "stream",
     "text": [
      "Mean Squared Error (MSE):       0.037714222848234384\n",
      "Root Mean Squared Error (RMSE): 0.19420150063332256\n",
      "Mean Absolute Error (MAE):      0.1339689660933433\n"
     ]
    }
   ],
   "source": [
    "# MSE : Mean Squared Error\n",
    "mse=mean_squared_error(y_test,predictions)\n",
    "\n",
    "# RMSE : Root Mean Squared Error\n",
    "rmse=math.sqrt(mean_squared_error(y_test,predictions))\n",
    "\n",
    "# MAE : Mean Absolute Error\n",
    "mae=mean_absolute_error(y_test,predictions)\n",
    "\n",
    "print('Mean Squared Error (MSE):      ',mse)\n",
    "print('Root Mean Squared Error (RMSE):',rmse)\n",
    "print('Mean Absolute Error (MAE):     ',mae)"
   ]
  },
  {
   "cell_type": "code",
   "execution_count": null,
   "metadata": {
    "collapsed": true
   },
   "outputs": [],
   "source": []
  },
  {
   "cell_type": "code",
   "execution_count": null,
   "metadata": {
    "collapsed": true
   },
   "outputs": [],
   "source": []
  }
 ],
 "metadata": {
  "kernelspec": {
   "display_name": "Python 3",
   "language": "python",
   "name": "python3"
  },
  "language_info": {
   "codemirror_mode": {
    "name": "ipython",
    "version": 3
   },
   "file_extension": ".py",
   "mimetype": "text/x-python",
   "name": "python",
   "nbconvert_exporter": "python",
   "pygments_lexer": "ipython3",
   "version": "3.6.1"
  }
 },
 "nbformat": 4,
 "nbformat_minor": 2
}
