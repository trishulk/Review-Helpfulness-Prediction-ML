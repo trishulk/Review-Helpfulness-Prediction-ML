{
 "cells": [
  {
   "cell_type": "markdown",
   "metadata": {},
   "source": [
    "# Helpfulness Variables"
   ]
  },
  {
   "cell_type": "code",
   "execution_count": 2,
   "metadata": {},
   "outputs": [
    {
     "data": {
      "text/plain": [
       "'\\n1. Get the DataFrame with >=10 Votes\\n2. Get all the Reviewers List in a DataFrame\\n3. Get Total Votes, Positive Votes and Negative Votes grouped by Reviewer\\n4. Store it In the Reviewer - Votes DF\\n5. Store in User_DF where the features are present per review\\n'"
      ]
     },
     "execution_count": 2,
     "metadata": {},
     "output_type": "execute_result"
    }
   ],
   "source": [
    "'''\n",
    "1. Get the DataFrame with >=10 Votes\n",
    "2. Get all the Reviewers List in a DataFrame\n",
    "3. Get Total Votes, Positive Votes and Negative Votes, No of Reviews grouped by Reviewer\n",
    "4. Store it In the Reviewer - Votes DF\n",
    "5. Store in User_DF where the features are present per review\n",
    "'''"
   ]
  },
  {
   "cell_type": "code",
   "execution_count": 26,
   "metadata": {
    "collapsed": true
   },
   "outputs": [],
   "source": [
    "import pandas as pd\n",
    "import seaborn as sns\n",
    "import matplotlib.pyplot as plt\n",
    "%matplotlib inline\n",
    "import numpy as np\n",
    "import gzip\n",
    "\n",
    "\n",
    "from sklearn.model_selection import train_test_split"
   ]
  },
  {
   "cell_type": "markdown",
   "metadata": {},
   "source": [
    "## Get the DataFrame"
   ]
  },
  {
   "cell_type": "code",
   "execution_count": 4,
   "metadata": {
    "collapsed": true
   },
   "outputs": [],
   "source": [
    "\n",
    "\n",
    "def parse(path):\n",
    "  g = gzip.open(path, 'rb')\n",
    "  for l in g:\n",
    "    yield eval(l)\n",
    "\n",
    "def getDF(path):\n",
    "  i = 0\n",
    "  df = {}\n",
    "  for d in parse(path):\n",
    "    df[i] = d\n",
    "    i += 1\n",
    "  return pd.DataFrame.from_dict(df, orient='index')\n",
    "\n"
   ]
  },
  {
   "cell_type": "code",
   "execution_count": 5,
   "metadata": {
    "collapsed": true
   },
   "outputs": [],
   "source": [
    "df = getDF('reviews_Electronics_5.json.gz')"
   ]
  },
  {
   "cell_type": "code",
   "execution_count": 6,
   "metadata": {
    "collapsed": true
   },
   "outputs": [],
   "source": [
    "def num_votes(arr) :\n",
    "    return arr[1]"
   ]
  },
  {
   "cell_type": "code",
   "execution_count": 8,
   "metadata": {
    "collapsed": true
   },
   "outputs": [],
   "source": [
    "MIN_VOTES = 10"
   ]
  },
  {
   "cell_type": "code",
   "execution_count": 9,
   "metadata": {},
   "outputs": [],
   "source": [
    "df2 = df[df['helpful'].apply(num_votes) >= MIN_VOTES]"
   ]
  },
  {
   "cell_type": "code",
   "execution_count": 10,
   "metadata": {},
   "outputs": [
    {
     "data": {
      "text/html": [
       "<div>\n",
       "<style scoped>\n",
       "    .dataframe tbody tr th:only-of-type {\n",
       "        vertical-align: middle;\n",
       "    }\n",
       "\n",
       "    .dataframe tbody tr th {\n",
       "        vertical-align: top;\n",
       "    }\n",
       "\n",
       "    .dataframe thead th {\n",
       "        text-align: right;\n",
       "    }\n",
       "</style>\n",
       "<table border=\"1\" class=\"dataframe\">\n",
       "  <thead>\n",
       "    <tr style=\"text-align: right;\">\n",
       "      <th></th>\n",
       "      <th>reviewerID</th>\n",
       "      <th>asin</th>\n",
       "      <th>reviewerName</th>\n",
       "      <th>helpful</th>\n",
       "      <th>reviewText</th>\n",
       "      <th>overall</th>\n",
       "      <th>summary</th>\n",
       "      <th>unixReviewTime</th>\n",
       "      <th>reviewTime</th>\n",
       "    </tr>\n",
       "  </thead>\n",
       "  <tbody>\n",
       "    <tr>\n",
       "      <th>1</th>\n",
       "      <td>AMO214LNFCEI4</td>\n",
       "      <td>0528881469</td>\n",
       "      <td>Amazon Customer</td>\n",
       "      <td>[12, 15]</td>\n",
       "      <td>I'm a professional OTR truck driver, and I bou...</td>\n",
       "      <td>1.0</td>\n",
       "      <td>Very Disappointed</td>\n",
       "      <td>1290643200</td>\n",
       "      <td>11 25, 2010</td>\n",
       "    </tr>\n",
       "    <tr>\n",
       "      <th>2</th>\n",
       "      <td>A3N7T0DY83Y4IG</td>\n",
       "      <td>0528881469</td>\n",
       "      <td>C. A. Freeman</td>\n",
       "      <td>[43, 45]</td>\n",
       "      <td>Well, what can I say.  I've had this unit in m...</td>\n",
       "      <td>3.0</td>\n",
       "      <td>1st impression</td>\n",
       "      <td>1283990400</td>\n",
       "      <td>09 9, 2010</td>\n",
       "    </tr>\n",
       "    <tr>\n",
       "      <th>3</th>\n",
       "      <td>A1H8PY3QHMQQA0</td>\n",
       "      <td>0528881469</td>\n",
       "      <td>Dave M. Shaw \"mack dave\"</td>\n",
       "      <td>[9, 10]</td>\n",
       "      <td>Not going to write a long review, even thought...</td>\n",
       "      <td>2.0</td>\n",
       "      <td>Great grafics, POOR GPS</td>\n",
       "      <td>1290556800</td>\n",
       "      <td>11 24, 2010</td>\n",
       "    </tr>\n",
       "    <tr>\n",
       "      <th>56</th>\n",
       "      <td>A3QH8VQDE7HZCR</td>\n",
       "      <td>0972683275</td>\n",
       "      <td>costaricachris</td>\n",
       "      <td>[15, 19]</td>\n",
       "      <td>Quality was excellent. Instructions were clear...</td>\n",
       "      <td>5.0</td>\n",
       "      <td>Real value for the money</td>\n",
       "      <td>1286236800</td>\n",
       "      <td>10 5, 2010</td>\n",
       "    </tr>\n",
       "    <tr>\n",
       "      <th>82</th>\n",
       "      <td>A38FGQVJM18OWV</td>\n",
       "      <td>0972683275</td>\n",
       "      <td>George S. Mitchell \"gsmitchell\"</td>\n",
       "      <td>[8, 18]</td>\n",
       "      <td>I checked around Amazon as well as some other ...</td>\n",
       "      <td>1.0</td>\n",
       "      <td>What a piece of junk!</td>\n",
       "      <td>1291161600</td>\n",
       "      <td>12 1, 2010</td>\n",
       "    </tr>\n",
       "  </tbody>\n",
       "</table>\n",
       "</div>"
      ],
      "text/plain": [
       "        reviewerID        asin                     reviewerName   helpful  \\\n",
       "1    AMO214LNFCEI4  0528881469                  Amazon Customer  [12, 15]   \n",
       "2   A3N7T0DY83Y4IG  0528881469                    C. A. Freeman  [43, 45]   \n",
       "3   A1H8PY3QHMQQA0  0528881469         Dave M. Shaw \"mack dave\"   [9, 10]   \n",
       "56  A3QH8VQDE7HZCR  0972683275                   costaricachris  [15, 19]   \n",
       "82  A38FGQVJM18OWV  0972683275  George S. Mitchell \"gsmitchell\"   [8, 18]   \n",
       "\n",
       "                                           reviewText  overall  \\\n",
       "1   I'm a professional OTR truck driver, and I bou...      1.0   \n",
       "2   Well, what can I say.  I've had this unit in m...      3.0   \n",
       "3   Not going to write a long review, even thought...      2.0   \n",
       "56  Quality was excellent. Instructions were clear...      5.0   \n",
       "82  I checked around Amazon as well as some other ...      1.0   \n",
       "\n",
       "                     summary  unixReviewTime   reviewTime  \n",
       "1          Very Disappointed      1290643200  11 25, 2010  \n",
       "2             1st impression      1283990400   09 9, 2010  \n",
       "3    Great grafics, POOR GPS      1290556800  11 24, 2010  \n",
       "56  Real value for the money      1286236800   10 5, 2010  \n",
       "82     What a piece of junk!      1291161600   12 1, 2010  "
      ]
     },
     "execution_count": 10,
     "metadata": {},
     "output_type": "execute_result"
    }
   ],
   "source": [
    "df2.head()"
   ]
  },
  {
   "cell_type": "code",
   "execution_count": 13,
   "metadata": {},
   "outputs": [
    {
     "data": {
      "text/plain": [
       "15"
      ]
     },
     "execution_count": 13,
     "metadata": {},
     "output_type": "execute_result"
    }
   ],
   "source": [
    "df2.iloc[0]['helpful'][1]"
   ]
  },
  {
   "cell_type": "markdown",
   "metadata": {},
   "source": [
    "## Get All Reviewers List"
   ]
  },
  {
   "cell_type": "code",
   "execution_count": 17,
   "metadata": {},
   "outputs": [
    {
     "data": {
      "text/html": [
       "<div>\n",
       "<style scoped>\n",
       "    .dataframe tbody tr th:only-of-type {\n",
       "        vertical-align: middle;\n",
       "    }\n",
       "\n",
       "    .dataframe tbody tr th {\n",
       "        vertical-align: top;\n",
       "    }\n",
       "\n",
       "    .dataframe thead th {\n",
       "        text-align: right;\n",
       "    }\n",
       "</style>\n",
       "<table border=\"1\" class=\"dataframe\">\n",
       "  <thead>\n",
       "    <tr style=\"text-align: right;\">\n",
       "      <th></th>\n",
       "      <th>reviewerID</th>\n",
       "      <th>asin</th>\n",
       "      <th>reviewerName</th>\n",
       "      <th>helpful</th>\n",
       "      <th>reviewText</th>\n",
       "      <th>overall</th>\n",
       "      <th>summary</th>\n",
       "      <th>unixReviewTime</th>\n",
       "      <th>reviewTime</th>\n",
       "    </tr>\n",
       "  </thead>\n",
       "  <tbody>\n",
       "    <tr>\n",
       "      <th>3</th>\n",
       "      <td>A1H8PY3QHMQQA0</td>\n",
       "      <td>0528881469</td>\n",
       "      <td>Dave M. Shaw \"mack dave\"</td>\n",
       "      <td>[9, 10]</td>\n",
       "      <td>Not going to write a long review, even thought...</td>\n",
       "      <td>2.0</td>\n",
       "      <td>Great grafics, POOR GPS</td>\n",
       "      <td>1290556800</td>\n",
       "      <td>11 24, 2010</td>\n",
       "    </tr>\n",
       "  </tbody>\n",
       "</table>\n",
       "</div>"
      ],
      "text/plain": [
       "       reviewerID        asin              reviewerName  helpful  \\\n",
       "3  A1H8PY3QHMQQA0  0528881469  Dave M. Shaw \"mack dave\"  [9, 10]   \n",
       "\n",
       "                                          reviewText  overall  \\\n",
       "3  Not going to write a long review, even thought...      2.0   \n",
       "\n",
       "                   summary  unixReviewTime   reviewTime  \n",
       "3  Great grafics, POOR GPS      1290556800  11 24, 2010  "
      ]
     },
     "execution_count": 17,
     "metadata": {},
     "output_type": "execute_result"
    }
   ],
   "source": [
    "df2[df2.index==3]"
   ]
  },
  {
   "cell_type": "code",
   "execution_count": 19,
   "metadata": {
    "collapsed": true
   },
   "outputs": [],
   "source": [
    "reviewer_ids = df2['reviewerID'].unique()"
   ]
  },
  {
   "cell_type": "code",
   "execution_count": 22,
   "metadata": {},
   "outputs": [
    {
     "data": {
      "text/plain": [
       "54101"
      ]
     },
     "execution_count": 22,
     "metadata": {},
     "output_type": "execute_result"
    }
   ],
   "source": [
    "len(reviewer_ids)"
   ]
  },
  {
   "cell_type": "markdown",
   "metadata": {},
   "source": [
    "## Remove Test Entries from DF"
   ]
  },
  {
   "cell_type": "code",
   "execution_count": 23,
   "metadata": {
    "collapsed": true
   },
   "outputs": [],
   "source": [
    "review_df = pd.read_csv('Amazon_Latest_Data.csv')"
   ]
  },
  {
   "cell_type": "code",
   "execution_count": 79,
   "metadata": {},
   "outputs": [
    {
     "data": {
      "text/html": [
       "<div>\n",
       "<style scoped>\n",
       "    .dataframe tbody tr th:only-of-type {\n",
       "        vertical-align: middle;\n",
       "    }\n",
       "\n",
       "    .dataframe tbody tr th {\n",
       "        vertical-align: top;\n",
       "    }\n",
       "\n",
       "    .dataframe thead th {\n",
       "        text-align: right;\n",
       "    }\n",
       "</style>\n",
       "<table border=\"1\" class=\"dataframe\">\n",
       "  <thead>\n",
       "    <tr style=\"text-align: right;\">\n",
       "      <th></th>\n",
       "      <th>reviewerID</th>\n",
       "      <th>asin</th>\n",
       "      <th>reviewerName</th>\n",
       "      <th>helpful</th>\n",
       "      <th>reviewText</th>\n",
       "      <th>overall</th>\n",
       "      <th>summary</th>\n",
       "      <th>unixReviewTime</th>\n",
       "      <th>reviewTime</th>\n",
       "      <th>helpfulness_score</th>\n",
       "      <th>user_deviation</th>\n",
       "      <th>review_delay</th>\n",
       "      <th>stem_words</th>\n",
       "      <th>lem_words</th>\n",
       "      <th>stem_sim_words</th>\n",
       "      <th>lem_sim_words</th>\n",
       "    </tr>\n",
       "  </thead>\n",
       "  <tbody>\n",
       "    <tr>\n",
       "      <th>81270</th>\n",
       "      <td>APRNS6DB68LLV</td>\n",
       "      <td>B00L26YDA4</td>\n",
       "      <td>Rob Slaven \"slavenrm@gmail. com\"</td>\n",
       "      <td>[5, 10]</td>\n",
       "      <td>As usual I received this item for free in exch...</td>\n",
       "      <td>5.0</td>\n",
       "      <td>Works brilliantly once you understand what it ...</td>\n",
       "      <td>1404172800</td>\n",
       "      <td>07 1, 2014</td>\n",
       "      <td>0.500000</td>\n",
       "      <td>0.597583</td>\n",
       "      <td>432000</td>\n",
       "      <td>['usual', 'receiv', 'item', 'free', 'exchang',...</td>\n",
       "      <td>['usual', 'received', 'item', 'free', 'exchang...</td>\n",
       "      <td>[]</td>\n",
       "      <td>['receiver', 'speaker', 'get', 'wifi', 'need']</td>\n",
       "    </tr>\n",
       "    <tr>\n",
       "      <th>81271</th>\n",
       "      <td>A3A4ZAIBQWKOZS</td>\n",
       "      <td>B00L26YDA4</td>\n",
       "      <td>Stephen M. Lerch</td>\n",
       "      <td>[10, 15]</td>\n",
       "      <td>Want to add wireless audio streaming to your h...</td>\n",
       "      <td>5.0</td>\n",
       "      <td>Smart</td>\n",
       "      <td>1403827200</td>\n",
       "      <td>06 27, 2014</td>\n",
       "      <td>0.666667</td>\n",
       "      <td>0.546834</td>\n",
       "      <td>86400</td>\n",
       "      <td>['want', 'add', 'wireless', 'audio', 'stream',...</td>\n",
       "      <td>['want', 'add', 'wireless', 'audio', 'streamin...</td>\n",
       "      <td>[]</td>\n",
       "      <td>['receiver', 'music', 'connection', 'wifi', 's...</td>\n",
       "    </tr>\n",
       "    <tr>\n",
       "      <th>81272</th>\n",
       "      <td>A18R0PC372EGL</td>\n",
       "      <td>B00L3YHF6O</td>\n",
       "      <td>Blues</td>\n",
       "      <td>[7, 11]</td>\n",
       "      <td>Wow...that's about all I have to say.  Having ...</td>\n",
       "      <td>5.0</td>\n",
       "      <td>To use a technical term...Wow!</td>\n",
       "      <td>1404950400</td>\n",
       "      <td>07 10, 2014</td>\n",
       "      <td>0.636364</td>\n",
       "      <td>0.448464</td>\n",
       "      <td>259200</td>\n",
       "      <td>['wowthat', 'say', 'prior', 'experi', 'bt', 's...</td>\n",
       "      <td>['wowthats', 'say', 'prior', 'experience', 'bt...</td>\n",
       "      <td>[]</td>\n",
       "      <td>['fidelity', 'pair', 'performance', 'sound', '...</td>\n",
       "    </tr>\n",
       "    <tr>\n",
       "      <th>81273</th>\n",
       "      <td>A3OOQH73VQ97VN</td>\n",
       "      <td>B00L3YHF6O</td>\n",
       "      <td>Jem \"Microsoft\"</td>\n",
       "      <td>[5, 12]</td>\n",
       "      <td>Update 14 July 2014: they have a white paper a...</td>\n",
       "      <td>5.0</td>\n",
       "      <td>Purely Cons Review</td>\n",
       "      <td>1404777600</td>\n",
       "      <td>07 8, 2014</td>\n",
       "      <td>0.416667</td>\n",
       "      <td>0.742179</td>\n",
       "      <td>86400</td>\n",
       "      <td>['updat', '14', 'juli', '2014', 'white', 'pape...</td>\n",
       "      <td>['update', '14', 'july', '2014', 'white', 'pap...</td>\n",
       "      <td>['g']</td>\n",
       "      <td>['sbx', 'control', 'audio', 'pair', 'power', '...</td>\n",
       "    </tr>\n",
       "    <tr>\n",
       "      <th>81274</th>\n",
       "      <td>A3A4ZAIBQWKOZS</td>\n",
       "      <td>B00L3YHF6O</td>\n",
       "      <td>Stephen M. Lerch</td>\n",
       "      <td>[18, 23]</td>\n",
       "      <td>My short review:If you have the money to spend...</td>\n",
       "      <td>5.0</td>\n",
       "      <td>Best sounding speaker at this price range</td>\n",
       "      <td>1404691200</td>\n",
       "      <td>07 7, 2014</td>\n",
       "      <td>0.782609</td>\n",
       "      <td>0.546834</td>\n",
       "      <td>0</td>\n",
       "      <td>['short', 'reviewif', 'money', 'spend', 'speak...</td>\n",
       "      <td>['short', 'reviewif', 'money', 'spend', 'speak...</td>\n",
       "      <td>['n', 'w']</td>\n",
       "      <td>['control', 'audio', 'pc', 'connection', 'pair...</td>\n",
       "    </tr>\n",
       "  </tbody>\n",
       "</table>\n",
       "</div>"
      ],
      "text/plain": [
       "           reviewerID        asin                      reviewerName   helpful  \\\n",
       "81270   APRNS6DB68LLV  B00L26YDA4  Rob Slaven \"slavenrm@gmail. com\"   [5, 10]   \n",
       "81271  A3A4ZAIBQWKOZS  B00L26YDA4                  Stephen M. Lerch  [10, 15]   \n",
       "81272   A18R0PC372EGL  B00L3YHF6O                             Blues   [7, 11]   \n",
       "81273  A3OOQH73VQ97VN  B00L3YHF6O                   Jem \"Microsoft\"   [5, 12]   \n",
       "81274  A3A4ZAIBQWKOZS  B00L3YHF6O                  Stephen M. Lerch  [18, 23]   \n",
       "\n",
       "                                              reviewText  overall  \\\n",
       "81270  As usual I received this item for free in exch...      5.0   \n",
       "81271  Want to add wireless audio streaming to your h...      5.0   \n",
       "81272  Wow...that's about all I have to say.  Having ...      5.0   \n",
       "81273  Update 14 July 2014: they have a white paper a...      5.0   \n",
       "81274  My short review:If you have the money to spend...      5.0   \n",
       "\n",
       "                                                 summary  unixReviewTime  \\\n",
       "81270  Works brilliantly once you understand what it ...      1404172800   \n",
       "81271                                              Smart      1403827200   \n",
       "81272                     To use a technical term...Wow!      1404950400   \n",
       "81273                                 Purely Cons Review      1404777600   \n",
       "81274          Best sounding speaker at this price range      1404691200   \n",
       "\n",
       "        reviewTime  helpfulness_score  user_deviation  review_delay  \\\n",
       "81270   07 1, 2014           0.500000        0.597583        432000   \n",
       "81271  06 27, 2014           0.666667        0.546834         86400   \n",
       "81272  07 10, 2014           0.636364        0.448464        259200   \n",
       "81273   07 8, 2014           0.416667        0.742179         86400   \n",
       "81274   07 7, 2014           0.782609        0.546834             0   \n",
       "\n",
       "                                              stem_words  \\\n",
       "81270  ['usual', 'receiv', 'item', 'free', 'exchang',...   \n",
       "81271  ['want', 'add', 'wireless', 'audio', 'stream',...   \n",
       "81272  ['wowthat', 'say', 'prior', 'experi', 'bt', 's...   \n",
       "81273  ['updat', '14', 'juli', '2014', 'white', 'pape...   \n",
       "81274  ['short', 'reviewif', 'money', 'spend', 'speak...   \n",
       "\n",
       "                                               lem_words stem_sim_words  \\\n",
       "81270  ['usual', 'received', 'item', 'free', 'exchang...             []   \n",
       "81271  ['want', 'add', 'wireless', 'audio', 'streamin...             []   \n",
       "81272  ['wowthats', 'say', 'prior', 'experience', 'bt...             []   \n",
       "81273  ['update', '14', 'july', '2014', 'white', 'pap...          ['g']   \n",
       "81274  ['short', 'reviewif', 'money', 'spend', 'speak...     ['n', 'w']   \n",
       "\n",
       "                                           lem_sim_words  \n",
       "81270     ['receiver', 'speaker', 'get', 'wifi', 'need']  \n",
       "81271  ['receiver', 'music', 'connection', 'wifi', 's...  \n",
       "81272  ['fidelity', 'pair', 'performance', 'sound', '...  \n",
       "81273  ['sbx', 'control', 'audio', 'pair', 'power', '...  \n",
       "81274  ['control', 'audio', 'pc', 'connection', 'pair...  "
      ]
     },
     "execution_count": 79,
     "metadata": {},
     "output_type": "execute_result"
    }
   ],
   "source": [
    "review_df.tail()"
   ]
  },
  {
   "cell_type": "code",
   "execution_count": 25,
   "metadata": {},
   "outputs": [
    {
     "data": {
      "text/plain": [
       "81275"
      ]
     },
     "execution_count": 25,
     "metadata": {},
     "output_type": "execute_result"
    }
   ],
   "source": [
    "len(review_df)"
   ]
  },
  {
   "cell_type": "code",
   "execution_count": 88,
   "metadata": {},
   "outputs": [
    {
     "data": {
      "text/plain": [
       "81274"
      ]
     },
     "execution_count": 88,
     "metadata": {},
     "output_type": "execute_result"
    }
   ],
   "source": [
    "len(review_df[~((review_df['reviewerID']=='A3OOQH73VQ97VN') & (review_df['asin']=='B00L3YHF6O'))])"
   ]
  },
  {
   "cell_type": "code",
   "execution_count": null,
   "metadata": {
    "collapsed": true
   },
   "outputs": [],
   "source": []
  },
  {
   "cell_type": "code",
   "execution_count": 28,
   "metadata": {},
   "outputs": [],
   "source": [
    "X = review_df.drop('helpful', axis=1)\n",
    "y = review_df['helpful']"
   ]
  },
  {
   "cell_type": "code",
   "execution_count": 29,
   "metadata": {
    "collapsed": true
   },
   "outputs": [],
   "source": [
    "X_train, X_test, y_train, y_test = train_test_split(X, y, test_size=0.4, random_state=101)"
   ]
  },
  {
   "cell_type": "code",
   "execution_count": 55,
   "metadata": {},
   "outputs": [
    {
     "data": {
      "text/plain": [
       "48765"
      ]
     },
     "execution_count": 55,
     "metadata": {},
     "output_type": "execute_result"
    }
   ],
   "source": [
    "len(X_train)"
   ]
  },
  {
   "cell_type": "code",
   "execution_count": 40,
   "metadata": {},
   "outputs": [],
   "source": [
    "Delta = X_test"
   ]
  },
  {
   "cell_type": "code",
   "execution_count": 100,
   "metadata": {},
   "outputs": [],
   "source": [
    "#Delta.loc[5]"
   ]
  },
  {
   "cell_type": "code",
   "execution_count": 99,
   "metadata": {},
   "outputs": [],
   "source": [
    "#Delta['helpful'] = y_test"
   ]
  },
  {
   "cell_type": "code",
   "execution_count": 98,
   "metadata": {},
   "outputs": [],
   "source": [
    "#Delta.iloc[0]"
   ]
  },
  {
   "cell_type": "code",
   "execution_count": 97,
   "metadata": {},
   "outputs": [],
   "source": [
    "#df3 = df2.drop(Delta.index)"
   ]
  },
  {
   "cell_type": "code",
   "execution_count": 61,
   "metadata": {
    "collapsed": true
   },
   "outputs": [],
   "source": [
    "df3 = df2[~df2.index.isin(Delta.index)"
   ]
  },
  {
   "cell_type": "code",
   "execution_count": 66,
   "metadata": {},
   "outputs": [
    {
     "data": {
      "text/plain": [
       "array([ True,  True, False, ..., False, False, False])"
      ]
     },
     "execution_count": 66,
     "metadata": {},
     "output_type": "execute_result"
    }
   ],
   "source": [
    "df2.index.isin(Delta.index)"
   ]
  },
  {
   "cell_type": "code",
   "execution_count": 63,
   "metadata": {},
   "outputs": [
    {
     "data": {
      "text/plain": [
       "103889"
      ]
     },
     "execution_count": 63,
     "metadata": {},
     "output_type": "execute_result"
    }
   ],
   "source": [
    "len(df3)"
   ]
  },
  {
   "cell_type": "code",
   "execution_count": 64,
   "metadata": {
    "scrolled": true
   },
   "outputs": [
    {
     "data": {
      "text/plain": [
       "107502"
      ]
     },
     "execution_count": 64,
     "metadata": {},
     "output_type": "execute_result"
    }
   ],
   "source": [
    "len(df2)"
   ]
  },
  {
   "cell_type": "code",
   "execution_count": 60,
   "metadata": {},
   "outputs": [
    {
     "data": {
      "text/plain": [
       "32510"
      ]
     },
     "execution_count": 60,
     "metadata": {},
     "output_type": "execute_result"
    }
   ],
   "source": [
    "len(Delta)"
   ]
  },
  {
   "cell_type": "code",
   "execution_count": 91,
   "metadata": {},
   "outputs": [
    {
     "data": {
      "text/html": [
       "<div>\n",
       "<style scoped>\n",
       "    .dataframe tbody tr th:only-of-type {\n",
       "        vertical-align: middle;\n",
       "    }\n",
       "\n",
       "    .dataframe tbody tr th {\n",
       "        vertical-align: top;\n",
       "    }\n",
       "\n",
       "    .dataframe thead th {\n",
       "        text-align: right;\n",
       "    }\n",
       "</style>\n",
       "<table border=\"1\" class=\"dataframe\">\n",
       "  <thead>\n",
       "    <tr style=\"text-align: right;\">\n",
       "      <th></th>\n",
       "      <th>reviewerID</th>\n",
       "      <th>asin</th>\n",
       "      <th>reviewerName</th>\n",
       "      <th>reviewText</th>\n",
       "      <th>overall</th>\n",
       "      <th>summary</th>\n",
       "      <th>unixReviewTime</th>\n",
       "      <th>reviewTime</th>\n",
       "      <th>helpfulness_score</th>\n",
       "      <th>user_deviation</th>\n",
       "      <th>review_delay</th>\n",
       "      <th>stem_words</th>\n",
       "      <th>lem_words</th>\n",
       "      <th>stem_sim_words</th>\n",
       "      <th>lem_sim_words</th>\n",
       "      <th>helpful</th>\n",
       "    </tr>\n",
       "  </thead>\n",
       "  <tbody>\n",
       "    <tr>\n",
       "      <th>51704</th>\n",
       "      <td>A20DDH4NT6Q1E8</td>\n",
       "      <td>B0036AWR8E</td>\n",
       "      <td>Koala1356</td>\n",
       "      <td>If you're looking at the Lowepro SlingShot cam...</td>\n",
       "      <td>5.0</td>\n",
       "      <td>Versatile, Quality Backpack</td>\n",
       "      <td>1271116800</td>\n",
       "      <td>04 13, 2010</td>\n",
       "      <td>0.931034</td>\n",
       "      <td>0.551259</td>\n",
       "      <td>950400</td>\n",
       "      <td>['your', 'look', 'lowepro', 'slingshot', 'came...</td>\n",
       "      <td>['youre', 'looking', 'lowepro', 'slingshot', '...</td>\n",
       "      <td>['x']</td>\n",
       "      <td>['camera', 'front', 'compartment', 'cloth', 'c...</td>\n",
       "      <td>[54, 58]</td>\n",
       "    </tr>\n",
       "    <tr>\n",
       "      <th>29896</th>\n",
       "      <td>A3V2P1ZV2LETF3</td>\n",
       "      <td>B000TXEE14</td>\n",
       "      <td>Artemaria</td>\n",
       "      <td>I bought this drive because it was on sale fro...</td>\n",
       "      <td>4.0</td>\n",
       "      <td>Good Budget Drive</td>\n",
       "      <td>1196208000</td>\n",
       "      <td>11 28, 2007</td>\n",
       "      <td>0.975610</td>\n",
       "      <td>0.681306</td>\n",
       "      <td>0</td>\n",
       "      <td>['bought', 'drive', 'sale', 'circuit', 'citi',...</td>\n",
       "      <td>['bought', 'drive', 'sale', 'circuit', 'city',...</td>\n",
       "      <td>[]</td>\n",
       "      <td>['mind', 'drive', 'storage', 'dont', 'cap', 'w...</td>\n",
       "      <td>[80, 82]</td>\n",
       "    </tr>\n",
       "    <tr>\n",
       "      <th>9419</th>\n",
       "      <td>AYU6VDCDO0542</td>\n",
       "      <td>B0001DA0CO</td>\n",
       "      <td>William N. Ostrove</td>\n",
       "      <td>I have recently become interested in digital p...</td>\n",
       "      <td>5.0</td>\n",
       "      <td>Great Camera for Beginners</td>\n",
       "      <td>1101600000</td>\n",
       "      <td>11 28, 2004</td>\n",
       "      <td>0.909091</td>\n",
       "      <td>0.373805</td>\n",
       "      <td>13305600</td>\n",
       "      <td>['recent', 'becom', 'interest', 'digit', 'phot...</td>\n",
       "      <td>['recently', 'become', 'interested', 'digital'...</td>\n",
       "      <td>[]</td>\n",
       "      <td>['camera', 'easyshare', 'software', 'auto', 'p...</td>\n",
       "      <td>[20, 22]</td>\n",
       "    </tr>\n",
       "    <tr>\n",
       "      <th>77612</th>\n",
       "      <td>A23O3QXCYT55JJ</td>\n",
       "      <td>B00BU7TV6G</td>\n",
       "      <td>i7Rage</td>\n",
       "      <td>SUMMARY: works beautifully to transfer VHS tap...</td>\n",
       "      <td>4.0</td>\n",
       "      <td>Not for editing</td>\n",
       "      <td>1291161600</td>\n",
       "      <td>12 1, 2010</td>\n",
       "      <td>1.000000</td>\n",
       "      <td>0.954457</td>\n",
       "      <td>4147200</td>\n",
       "      <td>['summari', 'work', 'beauti', 'transfer', 'vh'...</td>\n",
       "      <td>['summary', 'work', 'beautifully', 'transfer',...</td>\n",
       "      <td>[]</td>\n",
       "      <td>['recorder', 'home']</td>\n",
       "      <td>[61, 61]</td>\n",
       "    </tr>\n",
       "    <tr>\n",
       "      <th>7954</th>\n",
       "      <td>A1WMHFPD9YLVFV</td>\n",
       "      <td>B0000B35CK</td>\n",
       "      <td>Abester</td>\n",
       "      <td>This card works perfectly in my 8 megapixel Ol...</td>\n",
       "      <td>5.0</td>\n",
       "      <td>Works great in my Olympus C-8080 8 mega pixel ...</td>\n",
       "      <td>1089763200</td>\n",
       "      <td>07 14, 2004</td>\n",
       "      <td>1.000000</td>\n",
       "      <td>0.973060</td>\n",
       "      <td>10281600</td>\n",
       "      <td>['card', 'work', 'perfectli', '8', 'megapixel'...</td>\n",
       "      <td>['card', 'work', 'perfectly', '8', 'megapixel'...</td>\n",
       "      <td>[]</td>\n",
       "      <td>[]</td>\n",
       "      <td>[14, 14]</td>\n",
       "    </tr>\n",
       "  </tbody>\n",
       "</table>\n",
       "</div>"
      ],
      "text/plain": [
       "           reviewerID        asin        reviewerName  \\\n",
       "51704  A20DDH4NT6Q1E8  B0036AWR8E           Koala1356   \n",
       "29896  A3V2P1ZV2LETF3  B000TXEE14           Artemaria   \n",
       "9419    AYU6VDCDO0542  B0001DA0CO  William N. Ostrove   \n",
       "77612  A23O3QXCYT55JJ  B00BU7TV6G              i7Rage   \n",
       "7954   A1WMHFPD9YLVFV  B0000B35CK             Abester   \n",
       "\n",
       "                                              reviewText  overall  \\\n",
       "51704  If you're looking at the Lowepro SlingShot cam...      5.0   \n",
       "29896  I bought this drive because it was on sale fro...      4.0   \n",
       "9419   I have recently become interested in digital p...      5.0   \n",
       "77612  SUMMARY: works beautifully to transfer VHS tap...      4.0   \n",
       "7954   This card works perfectly in my 8 megapixel Ol...      5.0   \n",
       "\n",
       "                                                 summary  unixReviewTime  \\\n",
       "51704                        Versatile, Quality Backpack      1271116800   \n",
       "29896                                  Good Budget Drive      1196208000   \n",
       "9419                          Great Camera for Beginners      1101600000   \n",
       "77612                                    Not for editing      1291161600   \n",
       "7954   Works great in my Olympus C-8080 8 mega pixel ...      1089763200   \n",
       "\n",
       "        reviewTime  helpfulness_score  user_deviation  review_delay  \\\n",
       "51704  04 13, 2010           0.931034        0.551259        950400   \n",
       "29896  11 28, 2007           0.975610        0.681306             0   \n",
       "9419   11 28, 2004           0.909091        0.373805      13305600   \n",
       "77612   12 1, 2010           1.000000        0.954457       4147200   \n",
       "7954   07 14, 2004           1.000000        0.973060      10281600   \n",
       "\n",
       "                                              stem_words  \\\n",
       "51704  ['your', 'look', 'lowepro', 'slingshot', 'came...   \n",
       "29896  ['bought', 'drive', 'sale', 'circuit', 'citi',...   \n",
       "9419   ['recent', 'becom', 'interest', 'digit', 'phot...   \n",
       "77612  ['summari', 'work', 'beauti', 'transfer', 'vh'...   \n",
       "7954   ['card', 'work', 'perfectli', '8', 'megapixel'...   \n",
       "\n",
       "                                               lem_words stem_sim_words  \\\n",
       "51704  ['youre', 'looking', 'lowepro', 'slingshot', '...          ['x']   \n",
       "29896  ['bought', 'drive', 'sale', 'circuit', 'city',...             []   \n",
       "9419   ['recently', 'become', 'interested', 'digital'...             []   \n",
       "77612  ['summary', 'work', 'beautifully', 'transfer',...             []   \n",
       "7954   ['card', 'work', 'perfectly', '8', 'megapixel'...             []   \n",
       "\n",
       "                                           lem_sim_words   helpful  \n",
       "51704  ['camera', 'front', 'compartment', 'cloth', 'c...  [54, 58]  \n",
       "29896  ['mind', 'drive', 'storage', 'dont', 'cap', 'w...  [80, 82]  \n",
       "9419   ['camera', 'easyshare', 'software', 'auto', 'p...  [20, 22]  \n",
       "77612                               ['recorder', 'home']  [61, 61]  \n",
       "7954                                                  []  [14, 14]  "
      ]
     },
     "execution_count": 91,
     "metadata": {},
     "output_type": "execute_result"
    }
   ],
   "source": [
    "Delta.head()"
   ]
  },
  {
   "cell_type": "code",
   "execution_count": null,
   "metadata": {},
   "outputs": [],
   "source": [
    "df3 = df2[df2['reviewerID'].isi]"
   ]
  },
  {
   "cell_type": "code",
   "execution_count": 95,
   "metadata": {},
   "outputs": [],
   "source": [
    "def get_real_index(reviewerID, asin) :\n",
    "    dtemp = df2[(df2['reviewerID']==reviewerID) & (df2['asin']==asin)]\n",
    "    return dtemp.index[0]"
   ]
  },
  {
   "cell_type": "code",
   "execution_count": 101,
   "metadata": {},
   "outputs": [
    {
     "name": "stderr",
     "output_type": "stream",
     "text": [
      "C:\\Users\\Trishul\\Anaconda3\\lib\\site-packages\\ipykernel_launcher.py:1: SettingWithCopyWarning: \n",
      "A value is trying to be set on a copy of a slice from a DataFrame.\n",
      "Try using .loc[row_indexer,col_indexer] = value instead\n",
      "\n",
      "See the caveats in the documentation: http://pandas.pydata.org/pandas-docs/stable/indexing.html#indexing-view-versus-copy\n",
      "  \"\"\"Entry point for launching an IPython kernel.\n"
     ]
    }
   ],
   "source": [
    "Delta['real_index'] = Delta.apply(lambda row: get_real_index(row['reviewerID'],row['asin']), axis=1)"
   ]
  },
  {
   "cell_type": "code",
   "execution_count": 102,
   "metadata": {},
   "outputs": [
    {
     "data": {
      "text/html": [
       "<div>\n",
       "<style scoped>\n",
       "    .dataframe tbody tr th:only-of-type {\n",
       "        vertical-align: middle;\n",
       "    }\n",
       "\n",
       "    .dataframe tbody tr th {\n",
       "        vertical-align: top;\n",
       "    }\n",
       "\n",
       "    .dataframe thead th {\n",
       "        text-align: right;\n",
       "    }\n",
       "</style>\n",
       "<table border=\"1\" class=\"dataframe\">\n",
       "  <thead>\n",
       "    <tr style=\"text-align: right;\">\n",
       "      <th></th>\n",
       "      <th>reviewerID</th>\n",
       "      <th>asin</th>\n",
       "      <th>reviewerName</th>\n",
       "      <th>reviewText</th>\n",
       "      <th>overall</th>\n",
       "      <th>summary</th>\n",
       "      <th>unixReviewTime</th>\n",
       "      <th>reviewTime</th>\n",
       "      <th>helpfulness_score</th>\n",
       "      <th>user_deviation</th>\n",
       "      <th>review_delay</th>\n",
       "      <th>stem_words</th>\n",
       "      <th>lem_words</th>\n",
       "      <th>stem_sim_words</th>\n",
       "      <th>lem_sim_words</th>\n",
       "      <th>helpful</th>\n",
       "      <th>real_index</th>\n",
       "    </tr>\n",
       "  </thead>\n",
       "  <tbody>\n",
       "    <tr>\n",
       "      <th>51704</th>\n",
       "      <td>A20DDH4NT6Q1E8</td>\n",
       "      <td>B0036AWR8E</td>\n",
       "      <td>Koala1356</td>\n",
       "      <td>If you're looking at the Lowepro SlingShot cam...</td>\n",
       "      <td>5.0</td>\n",
       "      <td>Versatile, Quality Backpack</td>\n",
       "      <td>1271116800</td>\n",
       "      <td>04 13, 2010</td>\n",
       "      <td>0.931034</td>\n",
       "      <td>0.551259</td>\n",
       "      <td>950400</td>\n",
       "      <td>['your', 'look', 'lowepro', 'slingshot', 'came...</td>\n",
       "      <td>['youre', 'looking', 'lowepro', 'slingshot', '...</td>\n",
       "      <td>['x']</td>\n",
       "      <td>['camera', 'front', 'compartment', 'cloth', 'c...</td>\n",
       "      <td>[54, 58]</td>\n",
       "      <td>715950</td>\n",
       "    </tr>\n",
       "    <tr>\n",
       "      <th>29896</th>\n",
       "      <td>A3V2P1ZV2LETF3</td>\n",
       "      <td>B000TXEE14</td>\n",
       "      <td>Artemaria</td>\n",
       "      <td>I bought this drive because it was on sale fro...</td>\n",
       "      <td>4.0</td>\n",
       "      <td>Good Budget Drive</td>\n",
       "      <td>1196208000</td>\n",
       "      <td>11 28, 2007</td>\n",
       "      <td>0.975610</td>\n",
       "      <td>0.681306</td>\n",
       "      <td>0</td>\n",
       "      <td>['bought', 'drive', 'sale', 'circuit', 'citi',...</td>\n",
       "      <td>['bought', 'drive', 'sale', 'circuit', 'city',...</td>\n",
       "      <td>[]</td>\n",
       "      <td>['mind', 'drive', 'storage', 'dont', 'cap', 'w...</td>\n",
       "      <td>[80, 82]</td>\n",
       "      <td>313454</td>\n",
       "    </tr>\n",
       "    <tr>\n",
       "      <th>9419</th>\n",
       "      <td>AYU6VDCDO0542</td>\n",
       "      <td>B0001DA0CO</td>\n",
       "      <td>William N. Ostrove</td>\n",
       "      <td>I have recently become interested in digital p...</td>\n",
       "      <td>5.0</td>\n",
       "      <td>Great Camera for Beginners</td>\n",
       "      <td>1101600000</td>\n",
       "      <td>11 28, 2004</td>\n",
       "      <td>0.909091</td>\n",
       "      <td>0.373805</td>\n",
       "      <td>13305600</td>\n",
       "      <td>['recent', 'becom', 'interest', 'digit', 'phot...</td>\n",
       "      <td>['recently', 'become', 'interested', 'digital'...</td>\n",
       "      <td>[]</td>\n",
       "      <td>['camera', 'easyshare', 'software', 'auto', 'p...</td>\n",
       "      <td>[20, 22]</td>\n",
       "      <td>88450</td>\n",
       "    </tr>\n",
       "    <tr>\n",
       "      <th>77612</th>\n",
       "      <td>A23O3QXCYT55JJ</td>\n",
       "      <td>B00BU7TV6G</td>\n",
       "      <td>i7Rage</td>\n",
       "      <td>SUMMARY: works beautifully to transfer VHS tap...</td>\n",
       "      <td>4.0</td>\n",
       "      <td>Not for editing</td>\n",
       "      <td>1291161600</td>\n",
       "      <td>12 1, 2010</td>\n",
       "      <td>1.000000</td>\n",
       "      <td>0.954457</td>\n",
       "      <td>4147200</td>\n",
       "      <td>['summari', 'work', 'beauti', 'transfer', 'vh'...</td>\n",
       "      <td>['summary', 'work', 'beautifully', 'transfer',...</td>\n",
       "      <td>[]</td>\n",
       "      <td>['recorder', 'home']</td>\n",
       "      <td>[61, 61]</td>\n",
       "      <td>1574701</td>\n",
       "    </tr>\n",
       "    <tr>\n",
       "      <th>7954</th>\n",
       "      <td>A1WMHFPD9YLVFV</td>\n",
       "      <td>B0000B35CK</td>\n",
       "      <td>Abester</td>\n",
       "      <td>This card works perfectly in my 8 megapixel Ol...</td>\n",
       "      <td>5.0</td>\n",
       "      <td>Works great in my Olympus C-8080 8 mega pixel ...</td>\n",
       "      <td>1089763200</td>\n",
       "      <td>07 14, 2004</td>\n",
       "      <td>1.000000</td>\n",
       "      <td>0.973060</td>\n",
       "      <td>10281600</td>\n",
       "      <td>['card', 'work', 'perfectli', '8', 'megapixel'...</td>\n",
       "      <td>['card', 'work', 'perfectly', '8', 'megapixel'...</td>\n",
       "      <td>[]</td>\n",
       "      <td>[]</td>\n",
       "      <td>[14, 14]</td>\n",
       "      <td>76480</td>\n",
       "    </tr>\n",
       "  </tbody>\n",
       "</table>\n",
       "</div>"
      ],
      "text/plain": [
       "           reviewerID        asin        reviewerName  \\\n",
       "51704  A20DDH4NT6Q1E8  B0036AWR8E           Koala1356   \n",
       "29896  A3V2P1ZV2LETF3  B000TXEE14           Artemaria   \n",
       "9419    AYU6VDCDO0542  B0001DA0CO  William N. Ostrove   \n",
       "77612  A23O3QXCYT55JJ  B00BU7TV6G              i7Rage   \n",
       "7954   A1WMHFPD9YLVFV  B0000B35CK             Abester   \n",
       "\n",
       "                                              reviewText  overall  \\\n",
       "51704  If you're looking at the Lowepro SlingShot cam...      5.0   \n",
       "29896  I bought this drive because it was on sale fro...      4.0   \n",
       "9419   I have recently become interested in digital p...      5.0   \n",
       "77612  SUMMARY: works beautifully to transfer VHS tap...      4.0   \n",
       "7954   This card works perfectly in my 8 megapixel Ol...      5.0   \n",
       "\n",
       "                                                 summary  unixReviewTime  \\\n",
       "51704                        Versatile, Quality Backpack      1271116800   \n",
       "29896                                  Good Budget Drive      1196208000   \n",
       "9419                          Great Camera for Beginners      1101600000   \n",
       "77612                                    Not for editing      1291161600   \n",
       "7954   Works great in my Olympus C-8080 8 mega pixel ...      1089763200   \n",
       "\n",
       "        reviewTime  helpfulness_score  user_deviation  review_delay  \\\n",
       "51704  04 13, 2010           0.931034        0.551259        950400   \n",
       "29896  11 28, 2007           0.975610        0.681306             0   \n",
       "9419   11 28, 2004           0.909091        0.373805      13305600   \n",
       "77612   12 1, 2010           1.000000        0.954457       4147200   \n",
       "7954   07 14, 2004           1.000000        0.973060      10281600   \n",
       "\n",
       "                                              stem_words  \\\n",
       "51704  ['your', 'look', 'lowepro', 'slingshot', 'came...   \n",
       "29896  ['bought', 'drive', 'sale', 'circuit', 'citi',...   \n",
       "9419   ['recent', 'becom', 'interest', 'digit', 'phot...   \n",
       "77612  ['summari', 'work', 'beauti', 'transfer', 'vh'...   \n",
       "7954   ['card', 'work', 'perfectli', '8', 'megapixel'...   \n",
       "\n",
       "                                               lem_words stem_sim_words  \\\n",
       "51704  ['youre', 'looking', 'lowepro', 'slingshot', '...          ['x']   \n",
       "29896  ['bought', 'drive', 'sale', 'circuit', 'city',...             []   \n",
       "9419   ['recently', 'become', 'interested', 'digital'...             []   \n",
       "77612  ['summary', 'work', 'beautifully', 'transfer',...             []   \n",
       "7954   ['card', 'work', 'perfectly', '8', 'megapixel'...             []   \n",
       "\n",
       "                                           lem_sim_words   helpful  real_index  \n",
       "51704  ['camera', 'front', 'compartment', 'cloth', 'c...  [54, 58]      715950  \n",
       "29896  ['mind', 'drive', 'storage', 'dont', 'cap', 'w...  [80, 82]      313454  \n",
       "9419   ['camera', 'easyshare', 'software', 'auto', 'p...  [20, 22]       88450  \n",
       "77612                               ['recorder', 'home']  [61, 61]     1574701  \n",
       "7954                                                  []  [14, 14]       76480  "
      ]
     },
     "execution_count": 102,
     "metadata": {},
     "output_type": "execute_result"
    }
   ],
   "source": [
    "Delta.head()"
   ]
  },
  {
   "cell_type": "code",
   "execution_count": 103,
   "metadata": {
    "collapsed": true
   },
   "outputs": [],
   "source": [
    "df3 = df2[~df2.index.isin(Delta['real_index'])]"
   ]
  },
  {
   "cell_type": "code",
   "execution_count": 104,
   "metadata": {},
   "outputs": [
    {
     "data": {
      "text/plain": [
       "74992"
      ]
     },
     "execution_count": 104,
     "metadata": {},
     "output_type": "execute_result"
    }
   ],
   "source": [
    "len(df3)"
   ]
  },
  {
   "cell_type": "code",
   "execution_count": 105,
   "metadata": {},
   "outputs": [
    {
     "data": {
      "text/html": [
       "<div>\n",
       "<style scoped>\n",
       "    .dataframe tbody tr th:only-of-type {\n",
       "        vertical-align: middle;\n",
       "    }\n",
       "\n",
       "    .dataframe tbody tr th {\n",
       "        vertical-align: top;\n",
       "    }\n",
       "\n",
       "    .dataframe thead th {\n",
       "        text-align: right;\n",
       "    }\n",
       "</style>\n",
       "<table border=\"1\" class=\"dataframe\">\n",
       "  <thead>\n",
       "    <tr style=\"text-align: right;\">\n",
       "      <th></th>\n",
       "      <th>reviewerID</th>\n",
       "      <th>asin</th>\n",
       "      <th>reviewerName</th>\n",
       "      <th>helpful</th>\n",
       "      <th>reviewText</th>\n",
       "      <th>overall</th>\n",
       "      <th>summary</th>\n",
       "      <th>unixReviewTime</th>\n",
       "      <th>reviewTime</th>\n",
       "    </tr>\n",
       "  </thead>\n",
       "  <tbody>\n",
       "    <tr>\n",
       "      <th>1</th>\n",
       "      <td>AMO214LNFCEI4</td>\n",
       "      <td>0528881469</td>\n",
       "      <td>Amazon Customer</td>\n",
       "      <td>[12, 15]</td>\n",
       "      <td>I'm a professional OTR truck driver, and I bou...</td>\n",
       "      <td>1.0</td>\n",
       "      <td>Very Disappointed</td>\n",
       "      <td>1290643200</td>\n",
       "      <td>11 25, 2010</td>\n",
       "    </tr>\n",
       "    <tr>\n",
       "      <th>56</th>\n",
       "      <td>A3QH8VQDE7HZCR</td>\n",
       "      <td>0972683275</td>\n",
       "      <td>costaricachris</td>\n",
       "      <td>[15, 19]</td>\n",
       "      <td>Quality was excellent. Instructions were clear...</td>\n",
       "      <td>5.0</td>\n",
       "      <td>Real value for the money</td>\n",
       "      <td>1286236800</td>\n",
       "      <td>10 5, 2010</td>\n",
       "    </tr>\n",
       "    <tr>\n",
       "      <th>82</th>\n",
       "      <td>A38FGQVJM18OWV</td>\n",
       "      <td>0972683275</td>\n",
       "      <td>George S. Mitchell \"gsmitchell\"</td>\n",
       "      <td>[8, 18]</td>\n",
       "      <td>I checked around Amazon as well as some other ...</td>\n",
       "      <td>1.0</td>\n",
       "      <td>What a piece of junk!</td>\n",
       "      <td>1291161600</td>\n",
       "      <td>12 1, 2010</td>\n",
       "    </tr>\n",
       "    <tr>\n",
       "      <th>211</th>\n",
       "      <td>A27K5RT7VDB7BU</td>\n",
       "      <td>0972683275</td>\n",
       "      <td>Stephan</td>\n",
       "      <td>[70, 92]</td>\n",
       "      <td>I purchased this mount for my 37 inch LCD TV. ...</td>\n",
       "      <td>3.0</td>\n",
       "      <td>It Works But Could Be Better</td>\n",
       "      <td>1292025600</td>\n",
       "      <td>12 11, 2010</td>\n",
       "    </tr>\n",
       "    <tr>\n",
       "      <th>230</th>\n",
       "      <td>A25M2X8KHSS2NC</td>\n",
       "      <td>0972683275</td>\n",
       "      <td>Ultimate Ducky \"Ultimate Ducky\"</td>\n",
       "      <td>[8, 15]</td>\n",
       "      <td>Unfortunately, I'm returning this mount.Though...</td>\n",
       "      <td>2.0</td>\n",
       "      <td>Poor Quality Control, May Block the Ports on Y...</td>\n",
       "      <td>1283558400</td>\n",
       "      <td>09 4, 2010</td>\n",
       "    </tr>\n",
       "  </tbody>\n",
       "</table>\n",
       "</div>"
      ],
      "text/plain": [
       "         reviewerID        asin                     reviewerName   helpful  \\\n",
       "1     AMO214LNFCEI4  0528881469                  Amazon Customer  [12, 15]   \n",
       "56   A3QH8VQDE7HZCR  0972683275                   costaricachris  [15, 19]   \n",
       "82   A38FGQVJM18OWV  0972683275  George S. Mitchell \"gsmitchell\"   [8, 18]   \n",
       "211  A27K5RT7VDB7BU  0972683275                          Stephan  [70, 92]   \n",
       "230  A25M2X8KHSS2NC  0972683275  Ultimate Ducky \"Ultimate Ducky\"   [8, 15]   \n",
       "\n",
       "                                            reviewText  overall  \\\n",
       "1    I'm a professional OTR truck driver, and I bou...      1.0   \n",
       "56   Quality was excellent. Instructions were clear...      5.0   \n",
       "82   I checked around Amazon as well as some other ...      1.0   \n",
       "211  I purchased this mount for my 37 inch LCD TV. ...      3.0   \n",
       "230  Unfortunately, I'm returning this mount.Though...      2.0   \n",
       "\n",
       "                                               summary  unixReviewTime  \\\n",
       "1                                    Very Disappointed      1290643200   \n",
       "56                            Real value for the money      1286236800   \n",
       "82                               What a piece of junk!      1291161600   \n",
       "211                       It Works But Could Be Better      1292025600   \n",
       "230  Poor Quality Control, May Block the Ports on Y...      1283558400   \n",
       "\n",
       "      reviewTime  \n",
       "1    11 25, 2010  \n",
       "56    10 5, 2010  \n",
       "82    12 1, 2010  \n",
       "211  12 11, 2010  \n",
       "230   09 4, 2010  "
      ]
     },
     "execution_count": 105,
     "metadata": {},
     "output_type": "execute_result"
    }
   ],
   "source": [
    "df3.head()"
   ]
  },
  {
   "cell_type": "markdown",
   "metadata": {},
   "source": [
    "## Get Helpfulness Variables"
   ]
  },
  {
   "cell_type": "code",
   "execution_count": null,
   "metadata": {
    "collapsed": true
   },
   "outputs": [],
   "source": [
    "## Get Helpfulness Variables\n",
    "1. No. of Helpful Votes\n",
    "2. No. of Unhelpful votes\n",
    "3. Total Votes\n",
    "4. No. of Reviews\n",
    "5. Average No. of Helpful Votes per Review"
   ]
  },
  {
   "cell_type": "code",
   "execution_count": 107,
   "metadata": {
    "collapsed": true
   },
   "outputs": [],
   "source": [
    "def get_helpful(arr) :\n",
    "    return arr[0]"
   ]
  },
  {
   "cell_type": "code",
   "execution_count": 108,
   "metadata": {},
   "outputs": [
    {
     "name": "stderr",
     "output_type": "stream",
     "text": [
      "C:\\Users\\Trishul\\Anaconda3\\lib\\site-packages\\ipykernel_launcher.py:1: SettingWithCopyWarning: \n",
      "A value is trying to be set on a copy of a slice from a DataFrame.\n",
      "Try using .loc[row_indexer,col_indexer] = value instead\n",
      "\n",
      "See the caveats in the documentation: http://pandas.pydata.org/pandas-docs/stable/indexing.html#indexing-view-versus-copy\n",
      "  \"\"\"Entry point for launching an IPython kernel.\n"
     ]
    }
   ],
   "source": [
    "df3['helpful_votes'] = df3['helpful'].apply(get_helpful)"
   ]
  },
  {
   "cell_type": "code",
   "execution_count": 110,
   "metadata": {
    "collapsed": true
   },
   "outputs": [],
   "source": [
    "def get_total_votes(arr) :\n",
    "    return arr[1]"
   ]
  },
  {
   "cell_type": "code",
   "execution_count": 112,
   "metadata": {},
   "outputs": [
    {
     "name": "stderr",
     "output_type": "stream",
     "text": [
      "C:\\Users\\Trishul\\Anaconda3\\lib\\site-packages\\ipykernel_launcher.py:1: SettingWithCopyWarning: \n",
      "A value is trying to be set on a copy of a slice from a DataFrame.\n",
      "Try using .loc[row_indexer,col_indexer] = value instead\n",
      "\n",
      "See the caveats in the documentation: http://pandas.pydata.org/pandas-docs/stable/indexing.html#indexing-view-versus-copy\n",
      "  \"\"\"Entry point for launching an IPython kernel.\n"
     ]
    }
   ],
   "source": [
    "df3['total_votes'] = df3['helpful'].apply(get_total_votes)"
   ]
  },
  {
   "cell_type": "code",
   "execution_count": 113,
   "metadata": {},
   "outputs": [
    {
     "data": {
      "text/html": [
       "<div>\n",
       "<style scoped>\n",
       "    .dataframe tbody tr th:only-of-type {\n",
       "        vertical-align: middle;\n",
       "    }\n",
       "\n",
       "    .dataframe tbody tr th {\n",
       "        vertical-align: top;\n",
       "    }\n",
       "\n",
       "    .dataframe thead th {\n",
       "        text-align: right;\n",
       "    }\n",
       "</style>\n",
       "<table border=\"1\" class=\"dataframe\">\n",
       "  <thead>\n",
       "    <tr style=\"text-align: right;\">\n",
       "      <th></th>\n",
       "      <th>reviewerID</th>\n",
       "      <th>asin</th>\n",
       "      <th>reviewerName</th>\n",
       "      <th>helpful</th>\n",
       "      <th>reviewText</th>\n",
       "      <th>overall</th>\n",
       "      <th>summary</th>\n",
       "      <th>unixReviewTime</th>\n",
       "      <th>reviewTime</th>\n",
       "      <th>helpful_votes</th>\n",
       "      <th>total_votes</th>\n",
       "    </tr>\n",
       "  </thead>\n",
       "  <tbody>\n",
       "    <tr>\n",
       "      <th>1</th>\n",
       "      <td>AMO214LNFCEI4</td>\n",
       "      <td>0528881469</td>\n",
       "      <td>Amazon Customer</td>\n",
       "      <td>[12, 15]</td>\n",
       "      <td>I'm a professional OTR truck driver, and I bou...</td>\n",
       "      <td>1.0</td>\n",
       "      <td>Very Disappointed</td>\n",
       "      <td>1290643200</td>\n",
       "      <td>11 25, 2010</td>\n",
       "      <td>12</td>\n",
       "      <td>15</td>\n",
       "    </tr>\n",
       "    <tr>\n",
       "      <th>56</th>\n",
       "      <td>A3QH8VQDE7HZCR</td>\n",
       "      <td>0972683275</td>\n",
       "      <td>costaricachris</td>\n",
       "      <td>[15, 19]</td>\n",
       "      <td>Quality was excellent. Instructions were clear...</td>\n",
       "      <td>5.0</td>\n",
       "      <td>Real value for the money</td>\n",
       "      <td>1286236800</td>\n",
       "      <td>10 5, 2010</td>\n",
       "      <td>15</td>\n",
       "      <td>19</td>\n",
       "    </tr>\n",
       "    <tr>\n",
       "      <th>82</th>\n",
       "      <td>A38FGQVJM18OWV</td>\n",
       "      <td>0972683275</td>\n",
       "      <td>George S. Mitchell \"gsmitchell\"</td>\n",
       "      <td>[8, 18]</td>\n",
       "      <td>I checked around Amazon as well as some other ...</td>\n",
       "      <td>1.0</td>\n",
       "      <td>What a piece of junk!</td>\n",
       "      <td>1291161600</td>\n",
       "      <td>12 1, 2010</td>\n",
       "      <td>8</td>\n",
       "      <td>18</td>\n",
       "    </tr>\n",
       "    <tr>\n",
       "      <th>211</th>\n",
       "      <td>A27K5RT7VDB7BU</td>\n",
       "      <td>0972683275</td>\n",
       "      <td>Stephan</td>\n",
       "      <td>[70, 92]</td>\n",
       "      <td>I purchased this mount for my 37 inch LCD TV. ...</td>\n",
       "      <td>3.0</td>\n",
       "      <td>It Works But Could Be Better</td>\n",
       "      <td>1292025600</td>\n",
       "      <td>12 11, 2010</td>\n",
       "      <td>70</td>\n",
       "      <td>92</td>\n",
       "    </tr>\n",
       "    <tr>\n",
       "      <th>230</th>\n",
       "      <td>A25M2X8KHSS2NC</td>\n",
       "      <td>0972683275</td>\n",
       "      <td>Ultimate Ducky \"Ultimate Ducky\"</td>\n",
       "      <td>[8, 15]</td>\n",
       "      <td>Unfortunately, I'm returning this mount.Though...</td>\n",
       "      <td>2.0</td>\n",
       "      <td>Poor Quality Control, May Block the Ports on Y...</td>\n",
       "      <td>1283558400</td>\n",
       "      <td>09 4, 2010</td>\n",
       "      <td>8</td>\n",
       "      <td>15</td>\n",
       "    </tr>\n",
       "  </tbody>\n",
       "</table>\n",
       "</div>"
      ],
      "text/plain": [
       "         reviewerID        asin                     reviewerName   helpful  \\\n",
       "1     AMO214LNFCEI4  0528881469                  Amazon Customer  [12, 15]   \n",
       "56   A3QH8VQDE7HZCR  0972683275                   costaricachris  [15, 19]   \n",
       "82   A38FGQVJM18OWV  0972683275  George S. Mitchell \"gsmitchell\"   [8, 18]   \n",
       "211  A27K5RT7VDB7BU  0972683275                          Stephan  [70, 92]   \n",
       "230  A25M2X8KHSS2NC  0972683275  Ultimate Ducky \"Ultimate Ducky\"   [8, 15]   \n",
       "\n",
       "                                            reviewText  overall  \\\n",
       "1    I'm a professional OTR truck driver, and I bou...      1.0   \n",
       "56   Quality was excellent. Instructions were clear...      5.0   \n",
       "82   I checked around Amazon as well as some other ...      1.0   \n",
       "211  I purchased this mount for my 37 inch LCD TV. ...      3.0   \n",
       "230  Unfortunately, I'm returning this mount.Though...      2.0   \n",
       "\n",
       "                                               summary  unixReviewTime  \\\n",
       "1                                    Very Disappointed      1290643200   \n",
       "56                            Real value for the money      1286236800   \n",
       "82                               What a piece of junk!      1291161600   \n",
       "211                       It Works But Could Be Better      1292025600   \n",
       "230  Poor Quality Control, May Block the Ports on Y...      1283558400   \n",
       "\n",
       "      reviewTime  helpful_votes  total_votes  \n",
       "1    11 25, 2010             12           15  \n",
       "56    10 5, 2010             15           19  \n",
       "82    12 1, 2010              8           18  \n",
       "211  12 11, 2010             70           92  \n",
       "230   09 4, 2010              8           15  "
      ]
     },
     "execution_count": 113,
     "metadata": {},
     "output_type": "execute_result"
    }
   ],
   "source": [
    "df3.head()"
   ]
  },
  {
   "cell_type": "code",
   "execution_count": 106,
   "metadata": {
    "collapsed": true
   },
   "outputs": [],
   "source": [
    "reviewer_group = df3.groupby('reviewerID')."
   ]
  },
  {
   "cell_type": "code",
   "execution_count": null,
   "metadata": {
    "collapsed": true
   },
   "outputs": [],
   "source": [
    "reviewr_group.mean()"
   ]
  },
  {
   "cell_type": "code",
   "execution_count": 114,
   "metadata": {
    "collapsed": true
   },
   "outputs": [],
   "source": [
    "reviewer_helpful = df3.groupby('reviewerID')['helpful_votes'].sum()"
   ]
  },
  {
   "cell_type": "code",
   "execution_count": 118,
   "metadata": {},
   "outputs": [
    {
     "data": {
      "text/plain": [
       "pandas.core.series.Series"
      ]
     },
     "execution_count": 118,
     "metadata": {},
     "output_type": "execute_result"
    }
   ],
   "source": [
    "type(reviewer_helpful)"
   ]
  },
  {
   "cell_type": "code",
   "execution_count": 119,
   "metadata": {
    "collapsed": true
   },
   "outputs": [],
   "source": [
    "r_total = df3.groupby('reviewerID')['total_votes'].sum()"
   ]
  },
  {
   "cell_type": "code",
   "execution_count": 120,
   "metadata": {},
   "outputs": [
    {
     "data": {
      "text/plain": [
       "reviewerID\n",
       "A0103849GBVWICKXD4T6       24\n",
       "A0191512Q2Z9IPUAE2RZ       14\n",
       "A0266076X6KPZ6CCHGVS       10\n",
       "A08364961O0V6UJTPJB0D      14\n",
       "A09899451IM4ZNZEJQXHO      20\n",
       "A1002O7Q4BOWMM             26\n",
       "A1004703RC79J9             33\n",
       "A1004HHMSDY5IP             30\n",
       "A1007OOXKZK6ZR             32\n",
       "A100GMI0IGM050             11\n",
       "A100IX1FUK5IAW             24\n",
       "A100K8BPAW2Q7F             18\n",
       "A100MKFIT7OG3X            150\n",
       "A100NGGXRQF0AQ             61\n",
       "A100S1JQ5XK960             11\n",
       "A100UD67AHFODS           2204\n",
       "A100WHX0JSGXDB             10\n",
       "A100WO06OQR8BQ            175\n",
       "A100XSM6024QI7             23\n",
       "A1010HVCGBXMDT             77\n",
       "A1016Q5UDME15Z             11\n",
       "A101ARTQSI7ITQ            104\n",
       "A101BQHSPH6STJ             68\n",
       "A101EYIX62T3N0             14\n",
       "A101L4HF0IZ33C             67\n",
       "A101OAAMZYWQ3U             41\n",
       "A101QSLKULPVH1            112\n",
       "A101R8VTVP8ZL9             13\n",
       "A1029ESOR657OQ             71\n",
       "A102ASNDNXLYU2             26\n",
       "                         ... \n",
       "AZWOQXRCS1WA6              14\n",
       "AZWQP2CC2PPNR              21\n",
       "AZWWDK03E3M8S              62\n",
       "AZX52MBY59CL4              11\n",
       "AZX7GJRLMWN92             136\n",
       "AZXFMHSH6VSTS              27\n",
       "AZXG9WGT79144              10\n",
       "AZXGPM8EKSHE9              37\n",
       "AZXKG69RR28G4              14\n",
       "AZXNU10XN4Y3Q              58\n",
       "AZXQ0WME7X6UT             133\n",
       "AZXV98EONIU4S              32\n",
       "AZXXVMQWISPH6              15\n",
       "AZY32HS48OZJO              25\n",
       "AZY5WADV3UWQU              27\n",
       "AZYBZEVISD0YX              18\n",
       "AZYIAWJR9972L              37\n",
       "AZYJE40XW6MFG              62\n",
       "AZYJTD9J82V5I              19\n",
       "AZYQXN79IHDYO              82\n",
       "AZYXW6JLVD8SH              16\n",
       "AZZ1KF8RAO1BR              49\n",
       "AZZ2DEE2NTIM7             386\n",
       "AZZA7IQWTXCH3              17\n",
       "AZZBB05CJFP35              31\n",
       "AZZNK89PXD006              15\n",
       "AZZOQCD4U42P0              25\n",
       "AZZR8DUVE5L8O             107\n",
       "AZZX23UGJGKTT              11\n",
       "AZZYW4YOE1B6E              15\n",
       "Name: total_votes, Length: 43201, dtype: int64"
      ]
     },
     "execution_count": 120,
     "metadata": {},
     "output_type": "execute_result"
    }
   ],
   "source": [
    "r_total"
   ]
  },
  {
   "cell_type": "code",
   "execution_count": 123,
   "metadata": {
    "collapsed": true
   },
   "outputs": [],
   "source": [
    "helpful_data = df3.groupby('reviewerID')['helpful_votes','total_votes'].sum()"
   ]
  },
  {
   "cell_type": "code",
   "execution_count": 125,
   "metadata": {
    "collapsed": true
   },
   "outputs": [],
   "source": [
    "r_count = df3.groupby('reviewerID')['helpful_votes'].count()"
   ]
  },
  {
   "cell_type": "code",
   "execution_count": 127,
   "metadata": {},
   "outputs": [
    {
     "data": {
      "text/plain": [
       "1.7358857433855697"
      ]
     },
     "execution_count": 127,
     "metadata": {},
     "output_type": "execute_result"
    }
   ],
   "source": [
    "r_count.mean()"
   ]
  },
  {
   "cell_type": "code",
   "execution_count": 128,
   "metadata": {},
   "outputs": [],
   "source": [
    "helpful_data['no_of_reviews'] = r_count"
   ]
  },
  {
   "cell_type": "code",
   "execution_count": 130,
   "metadata": {},
   "outputs": [
    {
     "data": {
      "text/html": [
       "<div>\n",
       "<style scoped>\n",
       "    .dataframe tbody tr th:only-of-type {\n",
       "        vertical-align: middle;\n",
       "    }\n",
       "\n",
       "    .dataframe tbody tr th {\n",
       "        vertical-align: top;\n",
       "    }\n",
       "\n",
       "    .dataframe thead th {\n",
       "        text-align: right;\n",
       "    }\n",
       "</style>\n",
       "<table border=\"1\" class=\"dataframe\">\n",
       "  <thead>\n",
       "    <tr style=\"text-align: right;\">\n",
       "      <th></th>\n",
       "      <th>helpful_votes</th>\n",
       "      <th>total_votes</th>\n",
       "      <th>no_of_reviews</th>\n",
       "    </tr>\n",
       "    <tr>\n",
       "      <th>reviewerID</th>\n",
       "      <th></th>\n",
       "      <th></th>\n",
       "      <th></th>\n",
       "    </tr>\n",
       "  </thead>\n",
       "  <tbody>\n",
       "    <tr>\n",
       "      <th>AZZNK89PXD006</th>\n",
       "      <td>15</td>\n",
       "      <td>15</td>\n",
       "      <td>1</td>\n",
       "    </tr>\n",
       "    <tr>\n",
       "      <th>AZZOQCD4U42P0</th>\n",
       "      <td>25</td>\n",
       "      <td>25</td>\n",
       "      <td>2</td>\n",
       "    </tr>\n",
       "    <tr>\n",
       "      <th>AZZR8DUVE5L8O</th>\n",
       "      <td>103</td>\n",
       "      <td>107</td>\n",
       "      <td>2</td>\n",
       "    </tr>\n",
       "    <tr>\n",
       "      <th>AZZX23UGJGKTT</th>\n",
       "      <td>9</td>\n",
       "      <td>11</td>\n",
       "      <td>1</td>\n",
       "    </tr>\n",
       "    <tr>\n",
       "      <th>AZZYW4YOE1B6E</th>\n",
       "      <td>14</td>\n",
       "      <td>15</td>\n",
       "      <td>1</td>\n",
       "    </tr>\n",
       "  </tbody>\n",
       "</table>\n",
       "</div>"
      ],
      "text/plain": [
       "               helpful_votes  total_votes  no_of_reviews\n",
       "reviewerID                                              \n",
       "AZZNK89PXD006             15           15              1\n",
       "AZZOQCD4U42P0             25           25              2\n",
       "AZZR8DUVE5L8O            103          107              2\n",
       "AZZX23UGJGKTT              9           11              1\n",
       "AZZYW4YOE1B6E             14           15              1"
      ]
     },
     "execution_count": 130,
     "metadata": {},
     "output_type": "execute_result"
    }
   ],
   "source": [
    "helpful_data.tail()"
   ]
  },
  {
   "cell_type": "code",
   "execution_count": 134,
   "metadata": {},
   "outputs": [
    {
     "data": {
      "text/plain": [
       "119"
      ]
     },
     "execution_count": 134,
     "metadata": {},
     "output_type": "execute_result"
    }
   ],
   "source": [
    "helpful_data['no_of_reviews'].max()"
   ]
  },
  {
   "cell_type": "code",
   "execution_count": 136,
   "metadata": {},
   "outputs": [
    {
     "data": {
      "text/plain": [
       "Index(['A0103849GBVWICKXD4T6', 'A0191512Q2Z9IPUAE2RZ', 'A0266076X6KPZ6CCHGVS',\n",
       "       'A08364961O0V6UJTPJB0D', 'A09899451IM4ZNZEJQXHO', 'A1002O7Q4BOWMM',\n",
       "       'A1004703RC79J9', 'A1004HHMSDY5IP', 'A1007OOXKZK6ZR', 'A100GMI0IGM050',\n",
       "       ...\n",
       "       'AZYXW6JLVD8SH', 'AZZ1KF8RAO1BR', 'AZZ2DEE2NTIM7', 'AZZA7IQWTXCH3',\n",
       "       'AZZBB05CJFP35', 'AZZNK89PXD006', 'AZZOQCD4U42P0', 'AZZR8DUVE5L8O',\n",
       "       'AZZX23UGJGKTT', 'AZZYW4YOE1B6E'],\n",
       "      dtype='object', name='reviewerID', length=43201)"
      ]
     },
     "execution_count": 136,
     "metadata": {},
     "output_type": "execute_result"
    }
   ],
   "source": [
    "helpful_data.index"
   ]
  },
  {
   "cell_type": "code",
   "execution_count": 139,
   "metadata": {
    "collapsed": true
   },
   "outputs": [],
   "source": [
    "def get_r_helpful(reviewerID) :\n",
    "    if reviewerID in helpful_data.index :\n",
    "        return helpful_data.loc[reviewerID]['helpful_votes']\n",
    "    return 0\n",
    "\n",
    "def get_r_total(reviewerID) :\n",
    "    if reviewerID in helpful_data.index :\n",
    "        return helpful_data.loc[reviewerID]['total_votes']\n",
    "    return 0\n",
    "\n",
    "def get_r_rcount(reviewerID) :\n",
    "    if reviewerID in helpful_data.index :\n",
    "        return helpful_data.loc[reviewerID]['no_of_reviews']\n",
    "    return 0\n"
   ]
  },
  {
   "cell_type": "code",
   "execution_count": 141,
   "metadata": {},
   "outputs": [
    {
     "data": {
      "text/plain": [
       "0"
      ]
     },
     "execution_count": 141,
     "metadata": {},
     "output_type": "execute_result"
    }
   ],
   "source": [
    "get_r_helpful('AZYcXW6JLVD8SH')"
   ]
  },
  {
   "cell_type": "code",
   "execution_count": 142,
   "metadata": {
    "collapsed": true
   },
   "outputs": [],
   "source": [
    "review_df['r_helpful'] = review_df['reviewerID'].apply(get_r_helpful)\n",
    "review_df['r_total'] = review_df['reviewerID'].apply(get_r_total)\n",
    "review_df['r_no_of_reviews'] = review_df['reviewerID'].apply(get_r_rcount)"
   ]
  },
  {
   "cell_type": "code",
   "execution_count": 144,
   "metadata": {},
   "outputs": [
    {
     "data": {
      "text/html": [
       "<div>\n",
       "<style scoped>\n",
       "    .dataframe tbody tr th:only-of-type {\n",
       "        vertical-align: middle;\n",
       "    }\n",
       "\n",
       "    .dataframe tbody tr th {\n",
       "        vertical-align: top;\n",
       "    }\n",
       "\n",
       "    .dataframe thead th {\n",
       "        text-align: right;\n",
       "    }\n",
       "</style>\n",
       "<table border=\"1\" class=\"dataframe\">\n",
       "  <thead>\n",
       "    <tr style=\"text-align: right;\">\n",
       "      <th></th>\n",
       "      <th>reviewerID</th>\n",
       "      <th>asin</th>\n",
       "      <th>reviewerName</th>\n",
       "      <th>helpful</th>\n",
       "      <th>reviewText</th>\n",
       "      <th>overall</th>\n",
       "      <th>summary</th>\n",
       "      <th>unixReviewTime</th>\n",
       "      <th>reviewTime</th>\n",
       "      <th>helpfulness_score</th>\n",
       "      <th>user_deviation</th>\n",
       "      <th>review_delay</th>\n",
       "      <th>stem_words</th>\n",
       "      <th>lem_words</th>\n",
       "      <th>stem_sim_words</th>\n",
       "      <th>lem_sim_words</th>\n",
       "      <th>r_helpful</th>\n",
       "      <th>r_total</th>\n",
       "      <th>r_no_of_reviews</th>\n",
       "    </tr>\n",
       "  </thead>\n",
       "  <tbody>\n",
       "    <tr>\n",
       "      <th>81270</th>\n",
       "      <td>APRNS6DB68LLV</td>\n",
       "      <td>B00L26YDA4</td>\n",
       "      <td>Rob Slaven \"slavenrm@gmail. com\"</td>\n",
       "      <td>[5, 10]</td>\n",
       "      <td>As usual I received this item for free in exch...</td>\n",
       "      <td>5.0</td>\n",
       "      <td>Works brilliantly once you understand what it ...</td>\n",
       "      <td>1404172800</td>\n",
       "      <td>07 1, 2014</td>\n",
       "      <td>0.500000</td>\n",
       "      <td>0.597583</td>\n",
       "      <td>432000</td>\n",
       "      <td>['usual', 'receiv', 'item', 'free', 'exchang',...</td>\n",
       "      <td>['usual', 'received', 'item', 'free', 'exchang...</td>\n",
       "      <td>[]</td>\n",
       "      <td>['receiver', 'speaker', 'get', 'wifi', 'need']</td>\n",
       "      <td>0</td>\n",
       "      <td>0</td>\n",
       "      <td>0</td>\n",
       "    </tr>\n",
       "    <tr>\n",
       "      <th>81271</th>\n",
       "      <td>A3A4ZAIBQWKOZS</td>\n",
       "      <td>B00L26YDA4</td>\n",
       "      <td>Stephen M. Lerch</td>\n",
       "      <td>[10, 15]</td>\n",
       "      <td>Want to add wireless audio streaming to your h...</td>\n",
       "      <td>5.0</td>\n",
       "      <td>Smart</td>\n",
       "      <td>1403827200</td>\n",
       "      <td>06 27, 2014</td>\n",
       "      <td>0.666667</td>\n",
       "      <td>0.546834</td>\n",
       "      <td>86400</td>\n",
       "      <td>['want', 'add', 'wireless', 'audio', 'stream',...</td>\n",
       "      <td>['want', 'add', 'wireless', 'audio', 'streamin...</td>\n",
       "      <td>[]</td>\n",
       "      <td>['receiver', 'music', 'connection', 'wifi', 's...</td>\n",
       "      <td>1482</td>\n",
       "      <td>1628</td>\n",
       "      <td>27</td>\n",
       "    </tr>\n",
       "    <tr>\n",
       "      <th>81272</th>\n",
       "      <td>A18R0PC372EGL</td>\n",
       "      <td>B00L3YHF6O</td>\n",
       "      <td>Blues</td>\n",
       "      <td>[7, 11]</td>\n",
       "      <td>Wow...that's about all I have to say.  Having ...</td>\n",
       "      <td>5.0</td>\n",
       "      <td>To use a technical term...Wow!</td>\n",
       "      <td>1404950400</td>\n",
       "      <td>07 10, 2014</td>\n",
       "      <td>0.636364</td>\n",
       "      <td>0.448464</td>\n",
       "      <td>259200</td>\n",
       "      <td>['wowthat', 'say', 'prior', 'experi', 'bt', 's...</td>\n",
       "      <td>['wowthats', 'say', 'prior', 'experience', 'bt...</td>\n",
       "      <td>[]</td>\n",
       "      <td>['fidelity', 'pair', 'performance', 'sound', '...</td>\n",
       "      <td>7</td>\n",
       "      <td>11</td>\n",
       "      <td>1</td>\n",
       "    </tr>\n",
       "    <tr>\n",
       "      <th>81273</th>\n",
       "      <td>A3OOQH73VQ97VN</td>\n",
       "      <td>B00L3YHF6O</td>\n",
       "      <td>Jem \"Microsoft\"</td>\n",
       "      <td>[5, 12]</td>\n",
       "      <td>Update 14 July 2014: they have a white paper a...</td>\n",
       "      <td>5.0</td>\n",
       "      <td>Purely Cons Review</td>\n",
       "      <td>1404777600</td>\n",
       "      <td>07 8, 2014</td>\n",
       "      <td>0.416667</td>\n",
       "      <td>0.742179</td>\n",
       "      <td>86400</td>\n",
       "      <td>['updat', '14', 'juli', '2014', 'white', 'pape...</td>\n",
       "      <td>['update', '14', 'july', '2014', 'white', 'pap...</td>\n",
       "      <td>['g']</td>\n",
       "      <td>['sbx', 'control', 'audio', 'pair', 'power', '...</td>\n",
       "      <td>73</td>\n",
       "      <td>100</td>\n",
       "      <td>4</td>\n",
       "    </tr>\n",
       "    <tr>\n",
       "      <th>81274</th>\n",
       "      <td>A3A4ZAIBQWKOZS</td>\n",
       "      <td>B00L3YHF6O</td>\n",
       "      <td>Stephen M. Lerch</td>\n",
       "      <td>[18, 23]</td>\n",
       "      <td>My short review:If you have the money to spend...</td>\n",
       "      <td>5.0</td>\n",
       "      <td>Best sounding speaker at this price range</td>\n",
       "      <td>1404691200</td>\n",
       "      <td>07 7, 2014</td>\n",
       "      <td>0.782609</td>\n",
       "      <td>0.546834</td>\n",
       "      <td>0</td>\n",
       "      <td>['short', 'reviewif', 'money', 'spend', 'speak...</td>\n",
       "      <td>['short', 'reviewif', 'money', 'spend', 'speak...</td>\n",
       "      <td>['n', 'w']</td>\n",
       "      <td>['control', 'audio', 'pc', 'connection', 'pair...</td>\n",
       "      <td>1482</td>\n",
       "      <td>1628</td>\n",
       "      <td>27</td>\n",
       "    </tr>\n",
       "  </tbody>\n",
       "</table>\n",
       "</div>"
      ],
      "text/plain": [
       "           reviewerID        asin                      reviewerName   helpful  \\\n",
       "81270   APRNS6DB68LLV  B00L26YDA4  Rob Slaven \"slavenrm@gmail. com\"   [5, 10]   \n",
       "81271  A3A4ZAIBQWKOZS  B00L26YDA4                  Stephen M. Lerch  [10, 15]   \n",
       "81272   A18R0PC372EGL  B00L3YHF6O                             Blues   [7, 11]   \n",
       "81273  A3OOQH73VQ97VN  B00L3YHF6O                   Jem \"Microsoft\"   [5, 12]   \n",
       "81274  A3A4ZAIBQWKOZS  B00L3YHF6O                  Stephen M. Lerch  [18, 23]   \n",
       "\n",
       "                                              reviewText  overall  \\\n",
       "81270  As usual I received this item for free in exch...      5.0   \n",
       "81271  Want to add wireless audio streaming to your h...      5.0   \n",
       "81272  Wow...that's about all I have to say.  Having ...      5.0   \n",
       "81273  Update 14 July 2014: they have a white paper a...      5.0   \n",
       "81274  My short review:If you have the money to spend...      5.0   \n",
       "\n",
       "                                                 summary  unixReviewTime  \\\n",
       "81270  Works brilliantly once you understand what it ...      1404172800   \n",
       "81271                                              Smart      1403827200   \n",
       "81272                     To use a technical term...Wow!      1404950400   \n",
       "81273                                 Purely Cons Review      1404777600   \n",
       "81274          Best sounding speaker at this price range      1404691200   \n",
       "\n",
       "        reviewTime  helpfulness_score  user_deviation  review_delay  \\\n",
       "81270   07 1, 2014           0.500000        0.597583        432000   \n",
       "81271  06 27, 2014           0.666667        0.546834         86400   \n",
       "81272  07 10, 2014           0.636364        0.448464        259200   \n",
       "81273   07 8, 2014           0.416667        0.742179         86400   \n",
       "81274   07 7, 2014           0.782609        0.546834             0   \n",
       "\n",
       "                                              stem_words  \\\n",
       "81270  ['usual', 'receiv', 'item', 'free', 'exchang',...   \n",
       "81271  ['want', 'add', 'wireless', 'audio', 'stream',...   \n",
       "81272  ['wowthat', 'say', 'prior', 'experi', 'bt', 's...   \n",
       "81273  ['updat', '14', 'juli', '2014', 'white', 'pape...   \n",
       "81274  ['short', 'reviewif', 'money', 'spend', 'speak...   \n",
       "\n",
       "                                               lem_words stem_sim_words  \\\n",
       "81270  ['usual', 'received', 'item', 'free', 'exchang...             []   \n",
       "81271  ['want', 'add', 'wireless', 'audio', 'streamin...             []   \n",
       "81272  ['wowthats', 'say', 'prior', 'experience', 'bt...             []   \n",
       "81273  ['update', '14', 'july', '2014', 'white', 'pap...          ['g']   \n",
       "81274  ['short', 'reviewif', 'money', 'spend', 'speak...     ['n', 'w']   \n",
       "\n",
       "                                           lem_sim_words  r_helpful  r_total  \\\n",
       "81270     ['receiver', 'speaker', 'get', 'wifi', 'need']          0        0   \n",
       "81271  ['receiver', 'music', 'connection', 'wifi', 's...       1482     1628   \n",
       "81272  ['fidelity', 'pair', 'performance', 'sound', '...          7       11   \n",
       "81273  ['sbx', 'control', 'audio', 'pair', 'power', '...         73      100   \n",
       "81274  ['control', 'audio', 'pc', 'connection', 'pair...       1482     1628   \n",
       "\n",
       "       r_no_of_reviews  \n",
       "81270                0  \n",
       "81271               27  \n",
       "81272                1  \n",
       "81273                4  \n",
       "81274               27  "
      ]
     },
     "execution_count": 144,
     "metadata": {},
     "output_type": "execute_result"
    }
   ],
   "source": [
    "review_df.tail()"
   ]
  },
  {
   "cell_type": "markdown",
   "metadata": {},
   "source": [
    "## Integrate with User DF"
   ]
  },
  {
   "cell_type": "code",
   "execution_count": 145,
   "metadata": {
    "collapsed": true
   },
   "outputs": [],
   "source": [
    "user_df = pd.read_csv('User_DF.csv')"
   ]
  },
  {
   "cell_type": "code",
   "execution_count": 146,
   "metadata": {},
   "outputs": [
    {
     "data": {
      "text/html": [
       "<div>\n",
       "<style scoped>\n",
       "    .dataframe tbody tr th:only-of-type {\n",
       "        vertical-align: middle;\n",
       "    }\n",
       "\n",
       "    .dataframe tbody tr th {\n",
       "        vertical-align: top;\n",
       "    }\n",
       "\n",
       "    .dataframe thead th {\n",
       "        text-align: right;\n",
       "    }\n",
       "</style>\n",
       "<table border=\"1\" class=\"dataframe\">\n",
       "  <thead>\n",
       "    <tr style=\"text-align: right;\">\n",
       "      <th></th>\n",
       "      <th>reviewerID</th>\n",
       "      <th>reviewerName</th>\n",
       "      <th>reviewText</th>\n",
       "      <th>user_deviation</th>\n",
       "      <th>user_delay</th>\n",
       "    </tr>\n",
       "  </thead>\n",
       "  <tbody>\n",
       "    <tr>\n",
       "      <th>0</th>\n",
       "      <td>AMO214LNFCEI4</td>\n",
       "      <td>Amazon Customer</td>\n",
       "      <td>I'm a professional OTR truck driver, and I bou...</td>\n",
       "      <td>1.399189</td>\n",
       "      <td>10152000.0</td>\n",
       "    </tr>\n",
       "    <tr>\n",
       "      <th>1</th>\n",
       "      <td>A3N7T0DY83Y4IG</td>\n",
       "      <td>C. A. Freeman</td>\n",
       "      <td>Well, what can I say.  I've had this unit in m...</td>\n",
       "      <td>0.624437</td>\n",
       "      <td>10886400.0</td>\n",
       "    </tr>\n",
       "    <tr>\n",
       "      <th>2</th>\n",
       "      <td>A1H8PY3QHMQQA0</td>\n",
       "      <td>Dave M. Shaw \"mack dave\"</td>\n",
       "      <td>Not going to write a long review, even thought...</td>\n",
       "      <td>0.510375</td>\n",
       "      <td>7516800.0</td>\n",
       "    </tr>\n",
       "    <tr>\n",
       "      <th>3</th>\n",
       "      <td>A3QH8VQDE7HZCR</td>\n",
       "      <td>costaricachris</td>\n",
       "      <td>Quality was excellent. Instructions were clear...</td>\n",
       "      <td>0.442171</td>\n",
       "      <td>2678400.0</td>\n",
       "    </tr>\n",
       "    <tr>\n",
       "      <th>4</th>\n",
       "      <td>A38FGQVJM18OWV</td>\n",
       "      <td>George S. Mitchell \"gsmitchell\"</td>\n",
       "      <td>I checked around Amazon as well as some other ...</td>\n",
       "      <td>1.616074</td>\n",
       "      <td>7603200.0</td>\n",
       "    </tr>\n",
       "  </tbody>\n",
       "</table>\n",
       "</div>"
      ],
      "text/plain": [
       "       reviewerID                     reviewerName  \\\n",
       "0   AMO214LNFCEI4                  Amazon Customer   \n",
       "1  A3N7T0DY83Y4IG                    C. A. Freeman   \n",
       "2  A1H8PY3QHMQQA0         Dave M. Shaw \"mack dave\"   \n",
       "3  A3QH8VQDE7HZCR                   costaricachris   \n",
       "4  A38FGQVJM18OWV  George S. Mitchell \"gsmitchell\"   \n",
       "\n",
       "                                          reviewText  user_deviation  \\\n",
       "0  I'm a professional OTR truck driver, and I bou...        1.399189   \n",
       "1  Well, what can I say.  I've had this unit in m...        0.624437   \n",
       "2  Not going to write a long review, even thought...        0.510375   \n",
       "3  Quality was excellent. Instructions were clear...        0.442171   \n",
       "4  I checked around Amazon as well as some other ...        1.616074   \n",
       "\n",
       "   user_delay  \n",
       "0  10152000.0  \n",
       "1  10886400.0  \n",
       "2   7516800.0  \n",
       "3   2678400.0  \n",
       "4   7603200.0  "
      ]
     },
     "execution_count": 146,
     "metadata": {},
     "output_type": "execute_result"
    }
   ],
   "source": [
    "user_df.head()"
   ]
  },
  {
   "cell_type": "code",
   "execution_count": 147,
   "metadata": {
    "collapsed": true
   },
   "outputs": [],
   "source": [
    "user_df['helpful_votes'] = review_df['r_helpful']\n",
    "user_df['total_votes'] = review_df['r_total']\n",
    "user_df['no_of_reviews'] = review_df['r_no_of_reviews']"
   ]
  },
  {
   "cell_type": "code",
   "execution_count": 148,
   "metadata": {},
   "outputs": [
    {
     "data": {
      "text/html": [
       "<div>\n",
       "<style scoped>\n",
       "    .dataframe tbody tr th:only-of-type {\n",
       "        vertical-align: middle;\n",
       "    }\n",
       "\n",
       "    .dataframe tbody tr th {\n",
       "        vertical-align: top;\n",
       "    }\n",
       "\n",
       "    .dataframe thead th {\n",
       "        text-align: right;\n",
       "    }\n",
       "</style>\n",
       "<table border=\"1\" class=\"dataframe\">\n",
       "  <thead>\n",
       "    <tr style=\"text-align: right;\">\n",
       "      <th></th>\n",
       "      <th>reviewerID</th>\n",
       "      <th>reviewerName</th>\n",
       "      <th>reviewText</th>\n",
       "      <th>user_deviation</th>\n",
       "      <th>user_delay</th>\n",
       "      <th>helpful_votes</th>\n",
       "      <th>total_votes</th>\n",
       "      <th>no_of_reviews</th>\n",
       "    </tr>\n",
       "  </thead>\n",
       "  <tbody>\n",
       "    <tr>\n",
       "      <th>0</th>\n",
       "      <td>AMO214LNFCEI4</td>\n",
       "      <td>Amazon Customer</td>\n",
       "      <td>I'm a professional OTR truck driver, and I bou...</td>\n",
       "      <td>1.399189</td>\n",
       "      <td>10152000.0</td>\n",
       "      <td>12</td>\n",
       "      <td>15</td>\n",
       "      <td>1</td>\n",
       "    </tr>\n",
       "    <tr>\n",
       "      <th>1</th>\n",
       "      <td>A3N7T0DY83Y4IG</td>\n",
       "      <td>C. A. Freeman</td>\n",
       "      <td>Well, what can I say.  I've had this unit in m...</td>\n",
       "      <td>0.624437</td>\n",
       "      <td>10886400.0</td>\n",
       "      <td>11</td>\n",
       "      <td>11</td>\n",
       "      <td>1</td>\n",
       "    </tr>\n",
       "    <tr>\n",
       "      <th>2</th>\n",
       "      <td>A1H8PY3QHMQQA0</td>\n",
       "      <td>Dave M. Shaw \"mack dave\"</td>\n",
       "      <td>Not going to write a long review, even thought...</td>\n",
       "      <td>0.510375</td>\n",
       "      <td>7516800.0</td>\n",
       "      <td>17</td>\n",
       "      <td>18</td>\n",
       "      <td>1</td>\n",
       "    </tr>\n",
       "    <tr>\n",
       "      <th>3</th>\n",
       "      <td>A3QH8VQDE7HZCR</td>\n",
       "      <td>costaricachris</td>\n",
       "      <td>Quality was excellent. Instructions were clear...</td>\n",
       "      <td>0.442171</td>\n",
       "      <td>2678400.0</td>\n",
       "      <td>15</td>\n",
       "      <td>19</td>\n",
       "      <td>1</td>\n",
       "    </tr>\n",
       "    <tr>\n",
       "      <th>4</th>\n",
       "      <td>A38FGQVJM18OWV</td>\n",
       "      <td>George S. Mitchell \"gsmitchell\"</td>\n",
       "      <td>I checked around Amazon as well as some other ...</td>\n",
       "      <td>1.616074</td>\n",
       "      <td>7603200.0</td>\n",
       "      <td>8</td>\n",
       "      <td>18</td>\n",
       "      <td>1</td>\n",
       "    </tr>\n",
       "  </tbody>\n",
       "</table>\n",
       "</div>"
      ],
      "text/plain": [
       "       reviewerID                     reviewerName  \\\n",
       "0   AMO214LNFCEI4                  Amazon Customer   \n",
       "1  A3N7T0DY83Y4IG                    C. A. Freeman   \n",
       "2  A1H8PY3QHMQQA0         Dave M. Shaw \"mack dave\"   \n",
       "3  A3QH8VQDE7HZCR                   costaricachris   \n",
       "4  A38FGQVJM18OWV  George S. Mitchell \"gsmitchell\"   \n",
       "\n",
       "                                          reviewText  user_deviation  \\\n",
       "0  I'm a professional OTR truck driver, and I bou...        1.399189   \n",
       "1  Well, what can I say.  I've had this unit in m...        0.624437   \n",
       "2  Not going to write a long review, even thought...        0.510375   \n",
       "3  Quality was excellent. Instructions were clear...        0.442171   \n",
       "4  I checked around Amazon as well as some other ...        1.616074   \n",
       "\n",
       "   user_delay  helpful_votes  total_votes  no_of_reviews  \n",
       "0  10152000.0             12           15              1  \n",
       "1  10886400.0             11           11              1  \n",
       "2   7516800.0             17           18              1  \n",
       "3   2678400.0             15           19              1  \n",
       "4   7603200.0              8           18              1  "
      ]
     },
     "execution_count": 148,
     "metadata": {},
     "output_type": "execute_result"
    }
   ],
   "source": [
    "user_df.head()"
   ]
  },
  {
   "cell_type": "code",
   "execution_count": 149,
   "metadata": {
    "collapsed": true
   },
   "outputs": [],
   "source": [
    "user_df.to_csv('User_DF.csv',index=False)"
   ]
  },
  {
   "cell_type": "code",
   "execution_count": null,
   "metadata": {
    "collapsed": true
   },
   "outputs": [],
   "source": []
  }
 ],
 "metadata": {
  "kernelspec": {
   "display_name": "Python 3",
   "language": "python",
   "name": "python3"
  },
  "language_info": {
   "codemirror_mode": {
    "name": "ipython",
    "version": 3
   },
   "file_extension": ".py",
   "mimetype": "text/x-python",
   "name": "python",
   "nbconvert_exporter": "python",
   "pygments_lexer": "ipython3",
   "version": "3.6.1"
  }
 },
 "nbformat": 4,
 "nbformat_minor": 2
}
