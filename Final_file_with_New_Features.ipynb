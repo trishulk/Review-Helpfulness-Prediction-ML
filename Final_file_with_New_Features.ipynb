{
 "cells": [
  {
   "cell_type": "code",
   "execution_count": 5,
   "metadata": {
    "collapsed": true
   },
   "outputs": [],
   "source": [
    "import pandas as pd\n",
    "import seaborn as sns\n",
    "import matplotlib.pyplot as plt\n",
    "%matplotlib inline\n",
    "import numpy as np\n",
    "import gzip\n",
    "\n",
    "import nltk\n",
    "from nltk.corpus import stopwords \n",
    "from nltk.tokenize import word_tokenize, sent_tokenize \n",
    "from nltk.stem import PorterStemmer\n",
    "from nltk.stem import WordNetLemmatizer\n",
    "import string\n",
    "\n",
    "import dask.dataframe as dd\n",
    "from dask.multiprocessing import get\n",
    "import textstat\n",
    "import swifter\n",
    "\n",
    "import ast\n",
    "import math\n",
    "\n",
    "from sklearn.model_selection import train_test_split\n",
    "\n",
    "from sklearn.linear_model import LinearRegression\n",
    "from sklearn.ensemble import RandomForestRegressor\n",
    "\n",
    "from sklearn.metrics import mean_absolute_error\n",
    "from sklearn.metrics import mean_squared_error\n",
    "\n",
    "from sklearn.preprocessing import StandardScaler\n",
    "from sklearn.preprocessing import MinMaxScaler\n",
    "\n",
    "from sklearn.svm import SVR\n",
    "from sklearn.model_selection import GridSearchCV\n",
    "from sklearn.model_selection import RandomizedSearchCV\n",
    "import xgboost as xgb\n",
    "from sklearn.model_selection import KFold"
   ]
  },
  {
   "cell_type": "code",
   "execution_count": 113,
   "metadata": {
    "collapsed": true
   },
   "outputs": [],
   "source": [
    "# GET ALL THE DATAFRAMES :-\n",
    "# 1.NORMAL REVIEWS\n",
    "# 2.REVIEW TEXT Characteristics\n",
    "# 3.USER Charecteristics\n",
    "# 4.REVIEW METADATA Characteristics\n",
    "# 5.PRODUCT METADATA\n",
    "\n",
    "review_df = pd.read_csv('Amazon_Latest_Data.csv')\n",
    "text_df = pd.read_csv('Text_Parameters.csv')\n",
    "user_df = pd.read_csv('User_DF.csv')\n",
    "meta_df = pd.read_csv('Review_Meta_Data.csv')\n",
    "product_data_df = pd.read_csv('meta_data_latest.csv')\n",
    "helper_df = pd.read_csv('helper_df.csv')"
   ]
  },
  {
   "cell_type": "code",
   "execution_count": 13,
   "metadata": {},
   "outputs": [
    {
     "data": {
      "text/plain": [
       "Index(['reviewerID', 'reviewerName', 'reviewText', 'user_deviation',\n",
       "       'user_delay', 'helpful_votes', 'total_votes', 'no_of_reviews',\n",
       "       'all_helpful_votes', 'all_total_votes', 'all_no_of_reviews'],\n",
       "      dtype='object')"
      ]
     },
     "execution_count": 13,
     "metadata": {},
     "output_type": "execute_result"
    }
   ],
   "source": [
    "user_df.columns"
   ]
  },
  {
   "cell_type": "code",
   "execution_count": 49,
   "metadata": {},
   "outputs": [
    {
     "data": {
      "text/plain": [
       "Index(['flesch_reading_ease', 'smog_index', 'flesch_kincaid_grade',\n",
       "       'coleman_liau_index', 'automated_readability_index',\n",
       "       'dale_chall_readability_score', 'difficult_words',\n",
       "       'linsear_write_formula', 'gunning_fog', 'sentence_count', 'wps',\n",
       "       'review_length', 'pos_no', 'neg_no', 'user_deviation', 'user_delay',\n",
       "       'no_of_reviews', 'stem_sim_length', 'lem_sim_length', 'overall'],\n",
       "      dtype='object')"
      ]
     },
     "execution_count": 49,
     "metadata": {},
     "output_type": "execute_result"
    }
   ],
   "source": [
    "X = text_df[['flesch_reading_ease', \n",
    "       'smog_index', 'flesch_kincaid_grade', 'coleman_liau_index',\n",
    "       'automated_readability_index', 'dale_chall_readability_score',\n",
    "       'difficult_words', 'linsear_write_formula', 'gunning_fog',\n",
    "       'sentence_count', 'wps', 'review_length', 'pos_no', 'neg_no']]\n",
    "\n",
    "X=X.join(user_df[['user_deviation','user_delay','no_of_reviews']])\n",
    "\n",
    "X = X.join(meta_df[['stem_sim_length','lem_sim_length','overall']])\n",
    "\n",
    "X.columns"
   ]
  },
  {
   "cell_type": "code",
   "execution_count": 50,
   "metadata": {},
   "outputs": [
    {
     "data": {
      "text/html": [
       "<div>\n",
       "<style scoped>\n",
       "    .dataframe tbody tr th:only-of-type {\n",
       "        vertical-align: middle;\n",
       "    }\n",
       "\n",
       "    .dataframe tbody tr th {\n",
       "        vertical-align: top;\n",
       "    }\n",
       "\n",
       "    .dataframe thead th {\n",
       "        text-align: right;\n",
       "    }\n",
       "</style>\n",
       "<table border=\"1\" class=\"dataframe\">\n",
       "  <thead>\n",
       "    <tr style=\"text-align: right;\">\n",
       "      <th></th>\n",
       "      <th>flesch_reading_ease</th>\n",
       "      <th>smog_index</th>\n",
       "      <th>flesch_kincaid_grade</th>\n",
       "      <th>coleman_liau_index</th>\n",
       "      <th>automated_readability_index</th>\n",
       "      <th>dale_chall_readability_score</th>\n",
       "      <th>difficult_words</th>\n",
       "      <th>linsear_write_formula</th>\n",
       "      <th>gunning_fog</th>\n",
       "      <th>sentence_count</th>\n",
       "      <th>wps</th>\n",
       "      <th>review_length</th>\n",
       "      <th>pos_no</th>\n",
       "      <th>neg_no</th>\n",
       "      <th>user_deviation</th>\n",
       "      <th>user_delay</th>\n",
       "      <th>no_of_reviews</th>\n",
       "      <th>stem_sim_length</th>\n",
       "      <th>lem_sim_length</th>\n",
       "      <th>overall</th>\n",
       "    </tr>\n",
       "  </thead>\n",
       "  <tbody>\n",
       "    <tr>\n",
       "      <th>0</th>\n",
       "      <td>-336.56</td>\n",
       "      <td>0.0</td>\n",
       "      <td>166.3</td>\n",
       "      <td>7.69</td>\n",
       "      <td>211.1</td>\n",
       "      <td>26.44</td>\n",
       "      <td>44</td>\n",
       "      <td>14.000000</td>\n",
       "      <td>176.92</td>\n",
       "      <td>1</td>\n",
       "      <td>427.000000</td>\n",
       "      <td>427</td>\n",
       "      <td>2</td>\n",
       "      <td>4</td>\n",
       "      <td>1.399189</td>\n",
       "      <td>10152000.0</td>\n",
       "      <td>1</td>\n",
       "      <td>15</td>\n",
       "      <td>13</td>\n",
       "      <td>1.0</td>\n",
       "    </tr>\n",
       "    <tr>\n",
       "      <th>1</th>\n",
       "      <td>-340.96</td>\n",
       "      <td>0.0</td>\n",
       "      <td>165.9</td>\n",
       "      <td>9.72</td>\n",
       "      <td>210.8</td>\n",
       "      <td>26.37</td>\n",
       "      <td>94</td>\n",
       "      <td>8.666667</td>\n",
       "      <td>175.64</td>\n",
       "      <td>2</td>\n",
       "      <td>423.000000</td>\n",
       "      <td>846</td>\n",
       "      <td>18</td>\n",
       "      <td>8</td>\n",
       "      <td>0.624437</td>\n",
       "      <td>10886400.0</td>\n",
       "      <td>1</td>\n",
       "      <td>24</td>\n",
       "      <td>23</td>\n",
       "      <td>3.0</td>\n",
       "    </tr>\n",
       "    <tr>\n",
       "      <th>2</th>\n",
       "      <td>85.52</td>\n",
       "      <td>7.3</td>\n",
       "      <td>6.2</td>\n",
       "      <td>5.92</td>\n",
       "      <td>7.2</td>\n",
       "      <td>5.87</td>\n",
       "      <td>36</td>\n",
       "      <td>7.666667</td>\n",
       "      <td>13.01</td>\n",
       "      <td>23</td>\n",
       "      <td>19.521739</td>\n",
       "      <td>449</td>\n",
       "      <td>7</td>\n",
       "      <td>6</td>\n",
       "      <td>0.510375</td>\n",
       "      <td>7516800.0</td>\n",
       "      <td>1</td>\n",
       "      <td>17</td>\n",
       "      <td>16</td>\n",
       "      <td>2.0</td>\n",
       "    </tr>\n",
       "    <tr>\n",
       "      <th>3</th>\n",
       "      <td>66.94</td>\n",
       "      <td>10.8</td>\n",
       "      <td>7.1</td>\n",
       "      <td>8.05</td>\n",
       "      <td>6.3</td>\n",
       "      <td>6.99</td>\n",
       "      <td>11</td>\n",
       "      <td>7.200000</td>\n",
       "      <td>14.00</td>\n",
       "      <td>5</td>\n",
       "      <td>12.800000</td>\n",
       "      <td>64</td>\n",
       "      <td>2</td>\n",
       "      <td>0</td>\n",
       "      <td>0.442171</td>\n",
       "      <td>2678400.0</td>\n",
       "      <td>1</td>\n",
       "      <td>2</td>\n",
       "      <td>2</td>\n",
       "      <td>5.0</td>\n",
       "    </tr>\n",
       "    <tr>\n",
       "      <th>4</th>\n",
       "      <td>-43.22</td>\n",
       "      <td>0.0</td>\n",
       "      <td>53.6</td>\n",
       "      <td>8.09</td>\n",
       "      <td>67.2</td>\n",
       "      <td>12.20</td>\n",
       "      <td>15</td>\n",
       "      <td>4.400000</td>\n",
       "      <td>61.55</td>\n",
       "      <td>1</td>\n",
       "      <td>138.000000</td>\n",
       "      <td>138</td>\n",
       "      <td>1</td>\n",
       "      <td>3</td>\n",
       "      <td>1.616074</td>\n",
       "      <td>7603200.0</td>\n",
       "      <td>1</td>\n",
       "      <td>2</td>\n",
       "      <td>2</td>\n",
       "      <td>1.0</td>\n",
       "    </tr>\n",
       "  </tbody>\n",
       "</table>\n",
       "</div>"
      ],
      "text/plain": [
       "   flesch_reading_ease  smog_index  flesch_kincaid_grade  coleman_liau_index  \\\n",
       "0              -336.56         0.0                 166.3                7.69   \n",
       "1              -340.96         0.0                 165.9                9.72   \n",
       "2                85.52         7.3                   6.2                5.92   \n",
       "3                66.94        10.8                   7.1                8.05   \n",
       "4               -43.22         0.0                  53.6                8.09   \n",
       "\n",
       "   automated_readability_index  dale_chall_readability_score  difficult_words  \\\n",
       "0                        211.1                         26.44               44   \n",
       "1                        210.8                         26.37               94   \n",
       "2                          7.2                          5.87               36   \n",
       "3                          6.3                          6.99               11   \n",
       "4                         67.2                         12.20               15   \n",
       "\n",
       "   linsear_write_formula  gunning_fog  sentence_count         wps  \\\n",
       "0              14.000000       176.92               1  427.000000   \n",
       "1               8.666667       175.64               2  423.000000   \n",
       "2               7.666667        13.01              23   19.521739   \n",
       "3               7.200000        14.00               5   12.800000   \n",
       "4               4.400000        61.55               1  138.000000   \n",
       "\n",
       "   review_length  pos_no  neg_no  user_deviation  user_delay  no_of_reviews  \\\n",
       "0            427       2       4        1.399189  10152000.0              1   \n",
       "1            846      18       8        0.624437  10886400.0              1   \n",
       "2            449       7       6        0.510375   7516800.0              1   \n",
       "3             64       2       0        0.442171   2678400.0              1   \n",
       "4            138       1       3        1.616074   7603200.0              1   \n",
       "\n",
       "   stem_sim_length  lem_sim_length  overall  \n",
       "0               15              13      1.0  \n",
       "1               24              23      3.0  \n",
       "2               17              16      2.0  \n",
       "3                2               2      5.0  \n",
       "4                2               2      1.0  "
      ]
     },
     "execution_count": 50,
     "metadata": {},
     "output_type": "execute_result"
    }
   ],
   "source": [
    "X.head()"
   ]
  },
  {
   "cell_type": "code",
   "execution_count": 51,
   "metadata": {
    "collapsed": true
   },
   "outputs": [],
   "source": [
    "y = review_df['helpfulness_score']\n",
    "\t\n",
    "X_train, X_test, y_train, y_test = train_test_split(X, y, test_size=0.4, random_state=101)"
   ]
  },
  {
   "cell_type": "code",
   "execution_count": 52,
   "metadata": {
    "collapsed": true
   },
   "outputs": [],
   "source": [
    "xgb_reg = xgb.XGBRegressor()"
   ]
  },
  {
   "cell_type": "code",
   "execution_count": 53,
   "metadata": {},
   "outputs": [
    {
     "data": {
      "text/plain": [
       "XGBRegressor(base_score=0.5, booster='gbtree', colsample_bylevel=1,\n",
       "       colsample_bytree=1, gamma=0, learning_rate=0.1, max_delta_step=0,\n",
       "       max_depth=3, min_child_weight=1, missing=None, n_estimators=100,\n",
       "       n_jobs=1, nthread=None, objective='reg:linear', random_state=0,\n",
       "       reg_alpha=0, reg_lambda=1, scale_pos_weight=1, seed=None,\n",
       "       silent=True, subsample=1)"
      ]
     },
     "execution_count": 53,
     "metadata": {},
     "output_type": "execute_result"
    }
   ],
   "source": [
    "xgb_reg.fit(X_train,y_train)"
   ]
  },
  {
   "cell_type": "code",
   "execution_count": 54,
   "metadata": {
    "collapsed": true
   },
   "outputs": [],
   "source": [
    "predictions=xgb_reg.predict(X_test)"
   ]
  },
  {
   "cell_type": "code",
   "execution_count": 55,
   "metadata": {},
   "outputs": [
    {
     "name": "stdout",
     "output_type": "stream",
     "text": [
      "Mean Squared Error (MSE):       0.037214149448659396\n",
      "Root Mean Squared Error (RMSE): 0.1929096924694542\n",
      "Mean Absolute Error (MAE):      0.13303612335141038\n"
     ]
    }
   ],
   "source": [
    "# MSE : Mean Squared Error\n",
    "mse=mean_squared_error(y_test,predictions)\n",
    "\n",
    "# RMSE : Root Mean Squared Error\n",
    "rmse=math.sqrt(mean_squared_error(y_test,predictions))\n",
    "\n",
    "# MAE : Mean Absolute Error\n",
    "mae=mean_absolute_error(y_test,predictions)\n",
    "\n",
    "print('Mean Squared Error (MSE):      ',mse)\n",
    "print('Root Mean Squared Error (RMSE):',rmse)\n",
    "print('Mean Absolute Error (MAE):     ',mae)"
   ]
  },
  {
   "cell_type": "code",
   "execution_count": null,
   "metadata": {
    "collapsed": true
   },
   "outputs": [],
   "source": []
  },
  {
   "cell_type": "code",
   "execution_count": null,
   "metadata": {
    "collapsed": true
   },
   "outputs": [],
   "source": [
    "{'learning_rate': 0.09, 'n_estimators': 200, 'subsample': 1}\n"
   ]
  },
  {
   "cell_type": "code",
   "execution_count": 56,
   "metadata": {
    "collapsed": true
   },
   "outputs": [],
   "source": [
    "xgb_reg_2 = xgb.XGBRegressor(learning_rate=0.09, n_estimators = 200)"
   ]
  },
  {
   "cell_type": "code",
   "execution_count": 57,
   "metadata": {},
   "outputs": [
    {
     "data": {
      "text/plain": [
       "XGBRegressor(base_score=0.5, booster='gbtree', colsample_bylevel=1,\n",
       "       colsample_bytree=1, gamma=0, learning_rate=0.09, max_delta_step=0,\n",
       "       max_depth=3, min_child_weight=1, missing=None, n_estimators=200,\n",
       "       n_jobs=1, nthread=None, objective='reg:linear', random_state=0,\n",
       "       reg_alpha=0, reg_lambda=1, scale_pos_weight=1, seed=None,\n",
       "       silent=True, subsample=1)"
      ]
     },
     "execution_count": 57,
     "metadata": {},
     "output_type": "execute_result"
    }
   ],
   "source": [
    "xgb_reg_2.fit(X_train,y_train)"
   ]
  },
  {
   "cell_type": "code",
   "execution_count": 58,
   "metadata": {
    "collapsed": true
   },
   "outputs": [],
   "source": [
    "predictions_2=xgb_reg.predict(X_test)"
   ]
  },
  {
   "cell_type": "code",
   "execution_count": 59,
   "metadata": {},
   "outputs": [
    {
     "name": "stdout",
     "output_type": "stream",
     "text": [
      "Mean Squared Error (MSE):       0.037214149448659396\n",
      "Root Mean Squared Error (RMSE): 0.1929096924694542\n",
      "Mean Absolute Error (MAE):      0.13303612335141038\n"
     ]
    }
   ],
   "source": [
    "# MSE : Mean Squared Error\n",
    "mse=mean_squared_error(y_test,predictions_2)\n",
    "\n",
    "# RMSE : Root Mean Squared Error\n",
    "rmse=math.sqrt(mean_squared_error(y_test,predictions_2))\n",
    "\n",
    "# MAE : Mean Absolute Error\n",
    "mae=mean_absolute_error(y_test,predictions_2)\n",
    "\n",
    "print('Mean Squared Error (MSE):      ',mse)\n",
    "print('Root Mean Squared Error (RMSE):',rmse)\n",
    "print('Mean Absolute Error (MAE):     ',mae)"
   ]
  },
  {
   "cell_type": "code",
   "execution_count": 60,
   "metadata": {
    "collapsed": true
   },
   "outputs": [],
   "source": [
    "params = {\n",
    "    'learning_rate': [0.01,0.09,0.1,0.2,0.5,0.9], \n",
    "    'n_estimators': [200,300,400,500], \n",
    "    'subsample': [0.3, 0.5, 0.9, 1]}"
   ]
  },
  {
   "cell_type": "code",
   "execution_count": 61,
   "metadata": {},
   "outputs": [
    {
     "data": {
      "text/plain": [
       "[0.01, 0.09, 0.1, 0.2, 0.5, 0.9]"
      ]
     },
     "execution_count": 61,
     "metadata": {},
     "output_type": "execute_result"
    }
   ],
   "source": [
    "params['learning_rate']"
   ]
  },
  {
   "cell_type": "code",
   "execution_count": 65,
   "metadata": {
    "collapsed": true
   },
   "outputs": [],
   "source": [
    "test_dict={'learning_rate':23}"
   ]
  },
  {
   "cell_type": "code",
   "execution_count": 63,
   "metadata": {
    "collapsed": true
   },
   "outputs": [],
   "source": [
    "result_df = pd.DataFrame(columns=['learning_rate','n_estimators', 'subsample', 'rmse', 'mae'])"
   ]
  },
  {
   "cell_type": "code",
   "execution_count": 70,
   "metadata": {},
   "outputs": [
    {
     "data": {
      "text/html": [
       "<div>\n",
       "<style scoped>\n",
       "    .dataframe tbody tr th:only-of-type {\n",
       "        vertical-align: middle;\n",
       "    }\n",
       "\n",
       "    .dataframe tbody tr th {\n",
       "        vertical-align: top;\n",
       "    }\n",
       "\n",
       "    .dataframe thead th {\n",
       "        text-align: right;\n",
       "    }\n",
       "</style>\n",
       "<table border=\"1\" class=\"dataframe\">\n",
       "  <thead>\n",
       "    <tr style=\"text-align: right;\">\n",
       "      <th></th>\n",
       "      <th>learning_rate</th>\n",
       "      <th>n_estimators</th>\n",
       "      <th>subsample</th>\n",
       "      <th>rmse</th>\n",
       "      <th>mae</th>\n",
       "    </tr>\n",
       "  </thead>\n",
       "  <tbody>\n",
       "    <tr>\n",
       "      <th>0</th>\n",
       "      <td>23.0</td>\n",
       "      <td>NaN</td>\n",
       "      <td>NaN</td>\n",
       "      <td>NaN</td>\n",
       "      <td>NaN</td>\n",
       "    </tr>\n",
       "    <tr>\n",
       "      <th>1</th>\n",
       "      <td>23.0</td>\n",
       "      <td>NaN</td>\n",
       "      <td>NaN</td>\n",
       "      <td>NaN</td>\n",
       "      <td>NaN</td>\n",
       "    </tr>\n",
       "  </tbody>\n",
       "</table>\n",
       "</div>"
      ],
      "text/plain": [
       "   learning_rate  n_estimators  subsample  rmse  mae\n",
       "0           23.0           NaN        NaN   NaN  NaN\n",
       "1           23.0           NaN        NaN   NaN  NaN"
      ]
     },
     "execution_count": 70,
     "metadata": {},
     "output_type": "execute_result"
    }
   ],
   "source": [
    "result_df = result_df.append(test_dict, ignore_index=True)\n",
    "result_df.head()"
   ]
  },
  {
   "cell_type": "markdown",
   "metadata": {},
   "source": [
    "## Customized Grid Search -  22nd April 2019"
   ]
  },
  {
   "cell_type": "code",
   "execution_count": 78,
   "metadata": {
    "scrolled": true
   },
   "outputs": [
    {
     "name": "stdout",
     "output_type": "stream",
     "text": [
      "{'learning_rate': 0.01, 'n_estimators': 200, 'subsample': 0.3, 'rmse': 0.20120225962697713, 'mae': 0.15557041057187085}\n",
      "{'learning_rate': 0.01, 'n_estimators': 200, 'subsample': 0.5, 'rmse': 0.2014565968018854, 'mae': 0.1557875063361773}\n",
      "{'learning_rate': 0.01, 'n_estimators': 200, 'subsample': 0.9, 'rmse': 0.20168651505571994, 'mae': 0.15594161177602933}\n",
      "{'learning_rate': 0.01, 'n_estimators': 200, 'subsample': 1, 'rmse': 0.20173112319307335, 'mae': 0.15598355410201298}\n",
      "{'learning_rate': 0.01, 'n_estimators': 300, 'subsample': 0.3, 'rmse': 0.19531630693234425, 'mae': 0.1407569386813951}\n",
      "{'learning_rate': 0.01, 'n_estimators': 300, 'subsample': 0.5, 'rmse': 0.1955291741974878, 'mae': 0.14093732727325198}\n",
      "{'learning_rate': 0.01, 'n_estimators': 300, 'subsample': 0.9, 'rmse': 0.1957360203909724, 'mae': 0.1411491700239321}\n",
      "{'learning_rate': 0.01, 'n_estimators': 300, 'subsample': 1, 'rmse': 0.19581710426115453, 'mae': 0.14121238169282893}\n",
      "{'learning_rate': 0.01, 'n_estimators': 400, 'subsample': 0.3, 'rmse': 0.1939529724877901, 'mae': 0.13595449039390137}\n",
      "{'learning_rate': 0.01, 'n_estimators': 400, 'subsample': 0.5, 'rmse': 0.19407229936065315, 'mae': 0.13607674326632288}\n",
      "{'learning_rate': 0.01, 'n_estimators': 400, 'subsample': 0.9, 'rmse': 0.1942669772192065, 'mae': 0.13634867753773589}\n",
      "{'learning_rate': 0.01, 'n_estimators': 400, 'subsample': 1, 'rmse': 0.19436642637252308, 'mae': 0.13646748554650368}\n",
      "{'learning_rate': 0.01, 'n_estimators': 500, 'subsample': 0.3, 'rmse': 0.1934651644703302, 'mae': 0.13417407777145268}\n",
      "{'learning_rate': 0.01, 'n_estimators': 500, 'subsample': 0.5, 'rmse': 0.19351077881358725, 'mae': 0.1342698032419107}\n",
      "{'learning_rate': 0.01, 'n_estimators': 500, 'subsample': 0.9, 'rmse': 0.19368385915603525, 'mae': 0.13457764060481842}\n",
      "{'learning_rate': 0.01, 'n_estimators': 500, 'subsample': 1, 'rmse': 0.193770156856822, 'mae': 0.13470093913001513}\n",
      "{'learning_rate': 0.09, 'n_estimators': 200, 'subsample': 0.3, 'rmse': 0.19326885798257532, 'mae': 0.13287875324453233}\n",
      "{'learning_rate': 0.09, 'n_estimators': 200, 'subsample': 0.5, 'rmse': 0.19281035261676624, 'mae': 0.13270153830986256}\n",
      "{'learning_rate': 0.09, 'n_estimators': 200, 'subsample': 0.9, 'rmse': 0.1925886261424162, 'mae': 0.13269917820051016}\n",
      "{'learning_rate': 0.09, 'n_estimators': 200, 'subsample': 1, 'rmse': 0.19267762847141584, 'mae': 0.13279616820645831}\n",
      "{'learning_rate': 0.09, 'n_estimators': 300, 'subsample': 0.3, 'rmse': 0.19326615755210677, 'mae': 0.13295800559319024}\n",
      "{'learning_rate': 0.09, 'n_estimators': 300, 'subsample': 0.5, 'rmse': 0.19269858242931895, 'mae': 0.1327316545979626}\n",
      "{'learning_rate': 0.09, 'n_estimators': 300, 'subsample': 0.9, 'rmse': 0.19243513983724747, 'mae': 0.13251727243448402}\n",
      "{'learning_rate': 0.09, 'n_estimators': 300, 'subsample': 1, 'rmse': 0.1926161235749727, 'mae': 0.13268134519063862}\n",
      "{'learning_rate': 0.09, 'n_estimators': 400, 'subsample': 0.3, 'rmse': 0.1933105189972598, 'mae': 0.13277446908700782}\n",
      "{'learning_rate': 0.09, 'n_estimators': 400, 'subsample': 0.5, 'rmse': 0.19282465638634216, 'mae': 0.13258395921815197}\n",
      "{'learning_rate': 0.09, 'n_estimators': 400, 'subsample': 0.9, 'rmse': 0.19237995453006587, 'mae': 0.13237502045293073}\n",
      "{'learning_rate': 0.09, 'n_estimators': 400, 'subsample': 1, 'rmse': 0.19272364244627296, 'mae': 0.13268974812877782}\n",
      "{'learning_rate': 0.09, 'n_estimators': 500, 'subsample': 0.3, 'rmse': 0.1934340270323044, 'mae': 0.13268064936248497}\n",
      "{'learning_rate': 0.09, 'n_estimators': 500, 'subsample': 0.5, 'rmse': 0.1928075239448761, 'mae': 0.13242484739378171}\n",
      "{'learning_rate': 0.09, 'n_estimators': 500, 'subsample': 0.9, 'rmse': 0.19241162338346154, 'mae': 0.13232202289831785}\n",
      "{'learning_rate': 0.09, 'n_estimators': 500, 'subsample': 1, 'rmse': 0.19270394707732325, 'mae': 0.13257946104168297}\n",
      "{'learning_rate': 0.1, 'n_estimators': 200, 'subsample': 0.3, 'rmse': 0.19305935693640455, 'mae': 0.13278172583450912}\n",
      "{'learning_rate': 0.1, 'n_estimators': 200, 'subsample': 0.5, 'rmse': 0.19287213244778942, 'mae': 0.13272096876512482}\n",
      "{'learning_rate': 0.1, 'n_estimators': 200, 'subsample': 0.9, 'rmse': 0.19267163768612278, 'mae': 0.13271460743356905}\n",
      "{'learning_rate': 0.1, 'n_estimators': 200, 'subsample': 1, 'rmse': 0.19270317079483293, 'mae': 0.1327657233648706}\n",
      "{'learning_rate': 0.1, 'n_estimators': 300, 'subsample': 0.3, 'rmse': 0.1931103540651519, 'mae': 0.13295903233168913}\n",
      "{'learning_rate': 0.1, 'n_estimators': 300, 'subsample': 0.5, 'rmse': 0.19275379797437106, 'mae': 0.13268438311818612}\n",
      "{'learning_rate': 0.1, 'n_estimators': 300, 'subsample': 0.9, 'rmse': 0.19252124833429843, 'mae': 0.1325474779399158}\n",
      "{'learning_rate': 0.1, 'n_estimators': 300, 'subsample': 1, 'rmse': 0.1926948940536101, 'mae': 0.13269775029500197}\n",
      "{'learning_rate': 0.1, 'n_estimators': 400, 'subsample': 0.3, 'rmse': 0.19335741794993874, 'mae': 0.1328290462186427}\n",
      "{'learning_rate': 0.1, 'n_estimators': 400, 'subsample': 0.5, 'rmse': 0.19308895774401338, 'mae': 0.13259518862561875}\n",
      "{'learning_rate': 0.1, 'n_estimators': 400, 'subsample': 0.9, 'rmse': 0.19244936186099615, 'mae': 0.13239797794786146}\n",
      "{'learning_rate': 0.1, 'n_estimators': 400, 'subsample': 1, 'rmse': 0.1926608593386005, 'mae': 0.1326025597183714}\n",
      "{'learning_rate': 0.1, 'n_estimators': 500, 'subsample': 0.3, 'rmse': 0.19367796087006608, 'mae': 0.13285694933834502}\n",
      "{'learning_rate': 0.1, 'n_estimators': 500, 'subsample': 0.5, 'rmse': 0.19317808936726671, 'mae': 0.13253551883780157}\n",
      "{'learning_rate': 0.1, 'n_estimators': 500, 'subsample': 0.9, 'rmse': 0.1925034388535176, 'mae': 0.13238602418662904}\n",
      "{'learning_rate': 0.1, 'n_estimators': 500, 'subsample': 1, 'rmse': 0.19269715965110984, 'mae': 0.13254598262501208}\n",
      "{'learning_rate': 0.2, 'n_estimators': 200, 'subsample': 0.3, 'rmse': 0.1947746259270443, 'mae': 0.13329514211399254}\n",
      "{'learning_rate': 0.2, 'n_estimators': 200, 'subsample': 0.5, 'rmse': 0.19351091651719027, 'mae': 0.13270986892109768}\n",
      "{'learning_rate': 0.2, 'n_estimators': 200, 'subsample': 0.9, 'rmse': 0.19275810037142818, 'mae': 0.13264940712783185}\n",
      "{'learning_rate': 0.2, 'n_estimators': 200, 'subsample': 1, 'rmse': 0.1928782268878543, 'mae': 0.13266735954202513}\n",
      "{'learning_rate': 0.2, 'n_estimators': 300, 'subsample': 0.3, 'rmse': 0.19498584162682733, 'mae': 0.1338088764648932}\n",
      "{'learning_rate': 0.2, 'n_estimators': 300, 'subsample': 0.5, 'rmse': 0.19362829324645922, 'mae': 0.1329523042147439}\n",
      "{'learning_rate': 0.2, 'n_estimators': 300, 'subsample': 0.9, 'rmse': 0.19285377753422028, 'mae': 0.1326247269407523}\n",
      "{'learning_rate': 0.2, 'n_estimators': 300, 'subsample': 1, 'rmse': 0.19297780173259066, 'mae': 0.13262146869841893}\n",
      "{'learning_rate': 0.2, 'n_estimators': 400, 'subsample': 0.3, 'rmse': 0.1958825401021449, 'mae': 0.13413933481373044}\n",
      "{'learning_rate': 0.2, 'n_estimators': 400, 'subsample': 0.5, 'rmse': 0.19436220527056297, 'mae': 0.13310469248848927}\n",
      "{'learning_rate': 0.2, 'n_estimators': 400, 'subsample': 0.9, 'rmse': 0.19323129471784606, 'mae': 0.1326169045807976}\n",
      "{'learning_rate': 0.2, 'n_estimators': 400, 'subsample': 1, 'rmse': 0.1932947272585538, 'mae': 0.13276925759015956}\n",
      "{'learning_rate': 0.2, 'n_estimators': 500, 'subsample': 0.3, 'rmse': 0.19664447463824777, 'mae': 0.1343773762370641}\n",
      "{'learning_rate': 0.2, 'n_estimators': 500, 'subsample': 0.5, 'rmse': 0.194682154073551, 'mae': 0.1333565644992487}\n",
      "{'learning_rate': 0.2, 'n_estimators': 500, 'subsample': 0.9, 'rmse': 0.19339962962623342, 'mae': 0.13278463511264177}\n",
      "{'learning_rate': 0.2, 'n_estimators': 500, 'subsample': 1, 'rmse': 0.1935406529170259, 'mae': 0.13287502307652704}\n",
      "{'learning_rate': 0.5, 'n_estimators': 200, 'subsample': 0.3, 'rmse': 0.20239770095179233, 'mae': 0.13746477751535222}\n",
      "{'learning_rate': 0.5, 'n_estimators': 200, 'subsample': 0.5, 'rmse': 0.19782122651501816, 'mae': 0.13488979585574076}\n",
      "{'learning_rate': 0.5, 'n_estimators': 200, 'subsample': 0.9, 'rmse': 0.19661313505224065, 'mae': 0.1347164125243539}\n",
      "{'learning_rate': 0.5, 'n_estimators': 200, 'subsample': 1, 'rmse': 0.19483360894084195, 'mae': 0.133571543487462}\n",
      "{'learning_rate': 0.5, 'n_estimators': 300, 'subsample': 0.3, 'rmse': 0.20622698842694245, 'mae': 0.14010351287967335}\n",
      "{'learning_rate': 0.5, 'n_estimators': 300, 'subsample': 0.5, 'rmse': 0.2002200915743487, 'mae': 0.13669944857683253}\n",
      "{'learning_rate': 0.5, 'n_estimators': 300, 'subsample': 0.9, 'rmse': 0.19801970196291926, 'mae': 0.13549542092415331}\n",
      "{'learning_rate': 0.5, 'n_estimators': 300, 'subsample': 1, 'rmse': 0.1958169741721597, 'mae': 0.13416021044083426}\n",
      "{'learning_rate': 0.5, 'n_estimators': 400, 'subsample': 0.3, 'rmse': 0.20842210419773974, 'mae': 0.14078378463440938}\n",
      "{'learning_rate': 0.5, 'n_estimators': 400, 'subsample': 0.5, 'rmse': 0.20230427890881839, 'mae': 0.13776266106724325}\n",
      "{'learning_rate': 0.5, 'n_estimators': 400, 'subsample': 0.9, 'rmse': 0.19920164544578003, 'mae': 0.13630153756448496}\n",
      "{'learning_rate': 0.5, 'n_estimators': 400, 'subsample': 1, 'rmse': 0.19714180809298237, 'mae': 0.13500939662157155}\n",
      "{'learning_rate': 0.5, 'n_estimators': 500, 'subsample': 0.3, 'rmse': 0.21065130655807396, 'mae': 0.1420349987138404}\n",
      "{'learning_rate': 0.5, 'n_estimators': 500, 'subsample': 0.5, 'rmse': 0.20404160855337042, 'mae': 0.13901762300214798}\n",
      "{'learning_rate': 0.5, 'n_estimators': 500, 'subsample': 0.9, 'rmse': 0.1999539919260077, 'mae': 0.13684446587464022}\n",
      "{'learning_rate': 0.5, 'n_estimators': 500, 'subsample': 1, 'rmse': 0.19827857391704834, 'mae': 0.13574333725402443}\n",
      "{'learning_rate': 0.9, 'n_estimators': 200, 'subsample': 0.3, 'rmse': 0.22400132459518213, 'mae': 0.14440245132713414}\n",
      "{'learning_rate': 0.9, 'n_estimators': 200, 'subsample': 0.5, 'rmse': 0.21060907740373908, 'mae': 0.14135253510592322}\n",
      "{'learning_rate': 0.9, 'n_estimators': 200, 'subsample': 0.9, 'rmse': 0.2021595527958092, 'mae': 0.137996896548124}\n",
      "{'learning_rate': 0.9, 'n_estimators': 200, 'subsample': 1, 'rmse': 0.202203779942191, 'mae': 0.13797483310618636}\n",
      "{'learning_rate': 0.9, 'n_estimators': 300, 'subsample': 0.3, 'rmse': 0.23589491441287436, 'mae': 0.14852958107695144}\n",
      "{'learning_rate': 0.9, 'n_estimators': 300, 'subsample': 0.5, 'rmse': 0.21632190604979393, 'mae': 0.14591156362457472}\n",
      "{'learning_rate': 0.9, 'n_estimators': 300, 'subsample': 0.9, 'rmse': 0.205347052100211, 'mae': 0.14009504659314875}\n",
      "{'learning_rate': 0.9, 'n_estimators': 300, 'subsample': 1, 'rmse': 0.20470384360260632, 'mae': 0.139928368670493}\n",
      "{'learning_rate': 0.9, 'n_estimators': 400, 'subsample': 0.3, 'rmse': 0.24325770044916845, 'mae': 0.1501078275752437}\n",
      "{'learning_rate': 0.9, 'n_estimators': 400, 'subsample': 0.5, 'rmse': 0.2216774373757654, 'mae': 0.14868013493909993}\n",
      "{'learning_rate': 0.9, 'n_estimators': 400, 'subsample': 0.9, 'rmse': 0.20842473044899223, 'mae': 0.1425830710656691}\n",
      "{'learning_rate': 0.9, 'n_estimators': 400, 'subsample': 1, 'rmse': 0.2070013591158127, 'mae': 0.14147960877444227}\n",
      "{'learning_rate': 0.9, 'n_estimators': 500, 'subsample': 0.3, 'rmse': 0.25680307783279255, 'mae': 0.15446550480491672}\n",
      "{'learning_rate': 0.9, 'n_estimators': 500, 'subsample': 0.5, 'rmse': 0.22656033140870993, 'mae': 0.15196362251918888}\n",
      "{'learning_rate': 0.9, 'n_estimators': 500, 'subsample': 0.9, 'rmse': 0.21097227096453935, 'mae': 0.1441018517827294}\n",
      "{'learning_rate': 0.9, 'n_estimators': 500, 'subsample': 1, 'rmse': 0.2092940781650065, 'mae': 0.143302848477306}\n"
     ]
    }
   ],
   "source": [
    "best_rmse=1000\n",
    "best_mae=1000\n",
    "for rate in params['learning_rate'] :\n",
    "    for estimator in params['n_estimators'] :\n",
    "        for subsample in params['subsample'] :\n",
    "            xgb_model = xgb.XGBRegressor(learning_rate= rate, n_estimators = estimator, subsample=subsample)\n",
    "            xgb_model.fit(X_train,y_train)\n",
    "            predictions=xgb_model.predict(X_test)\n",
    "            rmse=math.sqrt(mean_squared_error(y_test,predictions))\n",
    "            mae=mean_absolute_error(y_test,predictions)\n",
    "            \n",
    "            res_dict = {'learning_rate': rate, 'n_estimators': estimator, 'subsample': subsample, 'rmse' : rmse, 'mae' : mae }\n",
    "            result_df.append(res_dict, ignore_index=True)\n",
    "\n",
    "            print(res_dict)\n",
    "            \n",
    "            if(rmse<=best_rmse) :\n",
    "                if(mae < best_mae) :\n",
    "                    best_rmse = rmse\n",
    "                    best_mae = mae\n",
    "                    best_learning_rate = rate\n",
    "                    best_n_estimators = estimator\n",
    "                    best_subsample = subsample\n",
    "            "
   ]
  },
  {
   "cell_type": "code",
   "execution_count": 80,
   "metadata": {},
   "outputs": [
    {
     "data": {
      "text/plain": [
       "0.19237995453006587"
      ]
     },
     "execution_count": 80,
     "metadata": {},
     "output_type": "execute_result"
    }
   ],
   "source": [
    "best_rmse"
   ]
  },
  {
   "cell_type": "code",
   "execution_count": 81,
   "metadata": {},
   "outputs": [
    {
     "data": {
      "text/plain": [
       "0.13237502045293073"
      ]
     },
     "execution_count": 81,
     "metadata": {},
     "output_type": "execute_result"
    }
   ],
   "source": [
    "best_mae"
   ]
  },
  {
   "cell_type": "code",
   "execution_count": 71,
   "metadata": {},
   "outputs": [
    {
     "data": {
      "text/plain": [
       "0.07176005541202105"
      ]
     },
     "execution_count": 71,
     "metadata": {},
     "output_type": "execute_result"
    }
   ],
   "source": [
    "X['no_of_reviews'].corr(y)"
   ]
  },
  {
   "cell_type": "code",
   "execution_count": 72,
   "metadata": {},
   "outputs": [
    {
     "data": {
      "text/plain": [
       "Index(['reviewerID', 'reviewerName', 'reviewText', 'user_deviation',\n",
       "       'user_delay', 'helpful_votes', 'total_votes', 'no_of_reviews'],\n",
       "      dtype='object')"
      ]
     },
     "execution_count": 72,
     "metadata": {},
     "output_type": "execute_result"
    }
   ],
   "source": [
    "user_df.columns"
   ]
  },
  {
   "cell_type": "code",
   "execution_count": 73,
   "metadata": {},
   "outputs": [
    {
     "data": {
      "text/plain": [
       "0.09454703111241307"
      ]
     },
     "execution_count": 73,
     "metadata": {},
     "output_type": "execute_result"
    }
   ],
   "source": [
    "user_df['helpful_votes'].corr(y)"
   ]
  },
  {
   "cell_type": "code",
   "execution_count": 74,
   "metadata": {},
   "outputs": [
    {
     "data": {
      "text/plain": [
       "0.08271041184733528"
      ]
     },
     "execution_count": 74,
     "metadata": {},
     "output_type": "execute_result"
    }
   ],
   "source": [
    "user_df['total_votes'].corr(y)"
   ]
  },
  {
   "cell_type": "code",
   "execution_count": 75,
   "metadata": {},
   "outputs": [
    {
     "data": {
      "text/plain": [
       "-0.0710923717070309"
      ]
     },
     "execution_count": 75,
     "metadata": {},
     "output_type": "execute_result"
    }
   ],
   "source": [
    "(user_df['total_votes']-user_df['helpful_votes']).corr(y)"
   ]
  },
  {
   "cell_type": "markdown",
   "metadata": {},
   "source": [
    "## Utilizing the All Review Helpfulness Variables - 23rd April 2019"
   ]
  },
  {
   "cell_type": "code",
   "execution_count": null,
   "metadata": {
    "collapsed": true
   },
   "outputs": [],
   "source": []
  },
  {
   "cell_type": "code",
   "execution_count": 117,
   "metadata": {},
   "outputs": [
    {
     "data": {
      "text/plain": [
       "Index(['flesch_reading_ease', 'smog_index', 'flesch_kincaid_grade',\n",
       "       'coleman_liau_index', 'automated_readability_index',\n",
       "       'dale_chall_readability_score', 'difficult_words',\n",
       "       'linsear_write_formula', 'gunning_fog', 'sentence_count', 'wps',\n",
       "       'review_length', 'pos_no', 'neg_no', 'user_deviation', 'user_delay',\n",
       "       'all_no_of_reviews', 'stem_sim_length', 'lem_sim_length', 'overall'],\n",
       "      dtype='object')"
      ]
     },
     "execution_count": 117,
     "metadata": {},
     "output_type": "execute_result"
    }
   ],
   "source": [
    "X = text_df[['flesch_reading_ease', \n",
    "       'smog_index', 'flesch_kincaid_grade', 'coleman_liau_index',\n",
    "       'automated_readability_index', 'dale_chall_readability_score',\n",
    "       'difficult_words', 'linsear_write_formula', 'gunning_fog',\n",
    "       'sentence_count', 'wps', 'review_length', 'pos_no', 'neg_no']]\n",
    "\n",
    "X=X.join(user_df[['user_deviation','user_delay','all_no_of_reviews']])\n",
    "\n",
    "X = X.join(meta_df[['stem_sim_length','lem_sim_length','overall']])\n",
    "\n",
    "X.columns"
   ]
  },
  {
   "cell_type": "code",
   "execution_count": 118,
   "metadata": {},
   "outputs": [
    {
     "data": {
      "text/html": [
       "<div>\n",
       "<style scoped>\n",
       "    .dataframe tbody tr th:only-of-type {\n",
       "        vertical-align: middle;\n",
       "    }\n",
       "\n",
       "    .dataframe tbody tr th {\n",
       "        vertical-align: top;\n",
       "    }\n",
       "\n",
       "    .dataframe thead th {\n",
       "        text-align: right;\n",
       "    }\n",
       "</style>\n",
       "<table border=\"1\" class=\"dataframe\">\n",
       "  <thead>\n",
       "    <tr style=\"text-align: right;\">\n",
       "      <th></th>\n",
       "      <th>flesch_reading_ease</th>\n",
       "      <th>smog_index</th>\n",
       "      <th>flesch_kincaid_grade</th>\n",
       "      <th>coleman_liau_index</th>\n",
       "      <th>automated_readability_index</th>\n",
       "      <th>dale_chall_readability_score</th>\n",
       "      <th>difficult_words</th>\n",
       "      <th>linsear_write_formula</th>\n",
       "      <th>gunning_fog</th>\n",
       "      <th>sentence_count</th>\n",
       "      <th>wps</th>\n",
       "      <th>review_length</th>\n",
       "      <th>pos_no</th>\n",
       "      <th>neg_no</th>\n",
       "      <th>user_deviation</th>\n",
       "      <th>user_delay</th>\n",
       "      <th>all_no_of_reviews</th>\n",
       "      <th>stem_sim_length</th>\n",
       "      <th>lem_sim_length</th>\n",
       "      <th>overall</th>\n",
       "    </tr>\n",
       "  </thead>\n",
       "  <tbody>\n",
       "    <tr>\n",
       "      <th>0</th>\n",
       "      <td>-336.56</td>\n",
       "      <td>0.0</td>\n",
       "      <td>166.3</td>\n",
       "      <td>7.69</td>\n",
       "      <td>211.1</td>\n",
       "      <td>26.44</td>\n",
       "      <td>44</td>\n",
       "      <td>14.000000</td>\n",
       "      <td>176.92</td>\n",
       "      <td>1</td>\n",
       "      <td>427.000000</td>\n",
       "      <td>427</td>\n",
       "      <td>2</td>\n",
       "      <td>4</td>\n",
       "      <td>1.399189</td>\n",
       "      <td>10152000.0</td>\n",
       "      <td>4</td>\n",
       "      <td>15</td>\n",
       "      <td>13</td>\n",
       "      <td>1.0</td>\n",
       "    </tr>\n",
       "    <tr>\n",
       "      <th>1</th>\n",
       "      <td>-340.96</td>\n",
       "      <td>0.0</td>\n",
       "      <td>165.9</td>\n",
       "      <td>9.72</td>\n",
       "      <td>210.8</td>\n",
       "      <td>26.37</td>\n",
       "      <td>94</td>\n",
       "      <td>8.666667</td>\n",
       "      <td>175.64</td>\n",
       "      <td>2</td>\n",
       "      <td>423.000000</td>\n",
       "      <td>846</td>\n",
       "      <td>18</td>\n",
       "      <td>8</td>\n",
       "      <td>0.624437</td>\n",
       "      <td>10886400.0</td>\n",
       "      <td>11</td>\n",
       "      <td>24</td>\n",
       "      <td>23</td>\n",
       "      <td>3.0</td>\n",
       "    </tr>\n",
       "    <tr>\n",
       "      <th>2</th>\n",
       "      <td>85.52</td>\n",
       "      <td>7.3</td>\n",
       "      <td>6.2</td>\n",
       "      <td>5.92</td>\n",
       "      <td>7.2</td>\n",
       "      <td>5.87</td>\n",
       "      <td>36</td>\n",
       "      <td>7.666667</td>\n",
       "      <td>13.01</td>\n",
       "      <td>23</td>\n",
       "      <td>19.521739</td>\n",
       "      <td>449</td>\n",
       "      <td>7</td>\n",
       "      <td>6</td>\n",
       "      <td>0.510375</td>\n",
       "      <td>7516800.0</td>\n",
       "      <td>21</td>\n",
       "      <td>17</td>\n",
       "      <td>16</td>\n",
       "      <td>2.0</td>\n",
       "    </tr>\n",
       "    <tr>\n",
       "      <th>3</th>\n",
       "      <td>66.94</td>\n",
       "      <td>10.8</td>\n",
       "      <td>7.1</td>\n",
       "      <td>8.05</td>\n",
       "      <td>6.3</td>\n",
       "      <td>6.99</td>\n",
       "      <td>11</td>\n",
       "      <td>7.200000</td>\n",
       "      <td>14.00</td>\n",
       "      <td>5</td>\n",
       "      <td>12.800000</td>\n",
       "      <td>64</td>\n",
       "      <td>2</td>\n",
       "      <td>0</td>\n",
       "      <td>0.442171</td>\n",
       "      <td>2678400.0</td>\n",
       "      <td>6</td>\n",
       "      <td>2</td>\n",
       "      <td>2</td>\n",
       "      <td>5.0</td>\n",
       "    </tr>\n",
       "    <tr>\n",
       "      <th>4</th>\n",
       "      <td>-43.22</td>\n",
       "      <td>0.0</td>\n",
       "      <td>53.6</td>\n",
       "      <td>8.09</td>\n",
       "      <td>67.2</td>\n",
       "      <td>12.20</td>\n",
       "      <td>15</td>\n",
       "      <td>4.400000</td>\n",
       "      <td>61.55</td>\n",
       "      <td>1</td>\n",
       "      <td>138.000000</td>\n",
       "      <td>138</td>\n",
       "      <td>1</td>\n",
       "      <td>3</td>\n",
       "      <td>1.616074</td>\n",
       "      <td>7603200.0</td>\n",
       "      <td>5</td>\n",
       "      <td>2</td>\n",
       "      <td>2</td>\n",
       "      <td>1.0</td>\n",
       "    </tr>\n",
       "  </tbody>\n",
       "</table>\n",
       "</div>"
      ],
      "text/plain": [
       "   flesch_reading_ease  smog_index  flesch_kincaid_grade  coleman_liau_index  \\\n",
       "0              -336.56         0.0                 166.3                7.69   \n",
       "1              -340.96         0.0                 165.9                9.72   \n",
       "2                85.52         7.3                   6.2                5.92   \n",
       "3                66.94        10.8                   7.1                8.05   \n",
       "4               -43.22         0.0                  53.6                8.09   \n",
       "\n",
       "   automated_readability_index  dale_chall_readability_score  difficult_words  \\\n",
       "0                        211.1                         26.44               44   \n",
       "1                        210.8                         26.37               94   \n",
       "2                          7.2                          5.87               36   \n",
       "3                          6.3                          6.99               11   \n",
       "4                         67.2                         12.20               15   \n",
       "\n",
       "   linsear_write_formula  gunning_fog  sentence_count         wps  \\\n",
       "0              14.000000       176.92               1  427.000000   \n",
       "1               8.666667       175.64               2  423.000000   \n",
       "2               7.666667        13.01              23   19.521739   \n",
       "3               7.200000        14.00               5   12.800000   \n",
       "4               4.400000        61.55               1  138.000000   \n",
       "\n",
       "   review_length  pos_no  neg_no  user_deviation  user_delay  \\\n",
       "0            427       2       4        1.399189  10152000.0   \n",
       "1            846      18       8        0.624437  10886400.0   \n",
       "2            449       7       6        0.510375   7516800.0   \n",
       "3             64       2       0        0.442171   2678400.0   \n",
       "4            138       1       3        1.616074   7603200.0   \n",
       "\n",
       "   all_no_of_reviews  stem_sim_length  lem_sim_length  overall  \n",
       "0                  4               15              13      1.0  \n",
       "1                 11               24              23      3.0  \n",
       "2                 21               17              16      2.0  \n",
       "3                  6                2               2      5.0  \n",
       "4                  5                2               2      1.0  "
      ]
     },
     "execution_count": 118,
     "metadata": {},
     "output_type": "execute_result"
    }
   ],
   "source": [
    "X.head()"
   ]
  },
  {
   "cell_type": "code",
   "execution_count": 119,
   "metadata": {
    "collapsed": true
   },
   "outputs": [],
   "source": [
    "y = review_df['helpfulness_score']\n",
    "\t\n",
    "X_train, X_test, y_train, y_test = train_test_split(X, y, test_size=0.4, random_state=101)"
   ]
  },
  {
   "cell_type": "code",
   "execution_count": 120,
   "metadata": {
    "collapsed": true
   },
   "outputs": [],
   "source": [
    "xgb_reg = xgb.XGBRegressor()"
   ]
  },
  {
   "cell_type": "code",
   "execution_count": 121,
   "metadata": {},
   "outputs": [
    {
     "data": {
      "text/plain": [
       "XGBRegressor(base_score=0.5, booster='gbtree', colsample_bylevel=1,\n",
       "       colsample_bytree=1, gamma=0, learning_rate=0.1, max_delta_step=0,\n",
       "       max_depth=3, min_child_weight=1, missing=None, n_estimators=100,\n",
       "       n_jobs=1, nthread=None, objective='reg:linear', random_state=0,\n",
       "       reg_alpha=0, reg_lambda=1, scale_pos_weight=1, seed=None,\n",
       "       silent=True, subsample=1)"
      ]
     },
     "execution_count": 121,
     "metadata": {},
     "output_type": "execute_result"
    }
   ],
   "source": [
    "xgb_reg.fit(X_train,y_train)"
   ]
  },
  {
   "cell_type": "code",
   "execution_count": 122,
   "metadata": {
    "collapsed": true
   },
   "outputs": [],
   "source": [
    "predictions=xgb_reg.predict(X_test)"
   ]
  },
  {
   "cell_type": "code",
   "execution_count": 123,
   "metadata": {},
   "outputs": [
    {
     "name": "stdout",
     "output_type": "stream",
     "text": [
      "Mean Squared Error (MSE):       0.037199865040779295\n",
      "Root Mean Squared Error (RMSE): 0.1928726653540602\n",
      "Mean Absolute Error (MAE):      0.13295202548339674\n"
     ]
    }
   ],
   "source": [
    "# MSE : Mean Squared Error\n",
    "mse=mean_squared_error(y_test,predictions)\n",
    "\n",
    "# RMSE : Root Mean Squared Error\n",
    "rmse=math.sqrt(mean_squared_error(y_test,predictions))\n",
    "\n",
    "# MAE : Mean Absolute Error\n",
    "mae=mean_absolute_error(y_test,predictions)\n",
    "\n",
    "print('Mean Squared Error (MSE):      ',mse)\n",
    "print('Root Mean Squared Error (RMSE):',rmse)\n",
    "print('Mean Absolute Error (MAE):     ',mae)"
   ]
  },
  {
   "cell_type": "code",
   "execution_count": null,
   "metadata": {
    "collapsed": true
   },
   "outputs": [],
   "source": []
  },
  {
   "cell_type": "code",
   "execution_count": 92,
   "metadata": {},
   "outputs": [
    {
     "data": {
      "text/plain": [
       "0.08424164406873362"
      ]
     },
     "execution_count": 92,
     "metadata": {},
     "output_type": "execute_result"
    }
   ],
   "source": [
    "X['all_total_votes'].corr(y)"
   ]
  },
  {
   "cell_type": "code",
   "execution_count": 93,
   "metadata": {},
   "outputs": [
    {
     "data": {
      "text/plain": [
       "0.08305330135835792"
      ]
     },
     "execution_count": 93,
     "metadata": {},
     "output_type": "execute_result"
    }
   ],
   "source": [
    "X['all_no_of_reviews'].corr(y)"
   ]
  },
  {
   "cell_type": "code",
   "execution_count": 102,
   "metadata": {
    "collapsed": true
   },
   "outputs": [],
   "source": [
    "params = {\n",
    "    'learning_rate': [0.01,0.09,0.1,0.2,0.5,0.9], \n",
    "    'n_estimators': [200,300,400,500], \n",
    "    'subsample': [0.3, 0.5, 0.9, 1]}"
   ]
  },
  {
   "cell_type": "code",
   "execution_count": 124,
   "metadata": {},
   "outputs": [
    {
     "data": {
      "text/plain": [
       "Index(['flesch_reading_ease', 'smog_index', 'flesch_kincaid_grade',\n",
       "       'coleman_liau_index', 'automated_readability_index',\n",
       "       'dale_chall_readability_score', 'difficult_words',\n",
       "       'linsear_write_formula', 'gunning_fog', 'sentence_count', 'wps',\n",
       "       'review_length', 'pos_no', 'neg_no', 'user_deviation', 'user_delay',\n",
       "       'all_no_of_reviews', 'stem_sim_length', 'lem_sim_length', 'overall'],\n",
       "      dtype='object')"
      ]
     },
     "execution_count": 124,
     "metadata": {},
     "output_type": "execute_result"
    }
   ],
   "source": [
    "X.columns"
   ]
  },
  {
   "cell_type": "code",
   "execution_count": 125,
   "metadata": {},
   "outputs": [
    {
     "name": "stdout",
     "output_type": "stream",
     "text": [
      "{'learning_rate': 0.01, 'n_estimators': 200, 'subsample': 0.3, 'rmse': 0.2012084159554802, 'mae': 0.15557619679967602}\n",
      "{'learning_rate': 0.01, 'n_estimators': 200, 'subsample': 0.5, 'rmse': 0.2014640776183263, 'mae': 0.15579278624431794}\n",
      "{'learning_rate': 0.01, 'n_estimators': 200, 'subsample': 0.9, 'rmse': 0.20168724868842774, 'mae': 0.15594298473079482}\n",
      "{'learning_rate': 0.01, 'n_estimators': 200, 'subsample': 1, 'rmse': 0.20173107000583726, 'mae': 0.15598412014079477}\n",
      "{'learning_rate': 0.01, 'n_estimators': 300, 'subsample': 0.3, 'rmse': 0.19534148559447317, 'mae': 0.14077125605515162}\n",
      "{'learning_rate': 0.01, 'n_estimators': 300, 'subsample': 0.5, 'rmse': 0.19558310147023675, 'mae': 0.14097292819348267}\n",
      "{'learning_rate': 0.01, 'n_estimators': 300, 'subsample': 0.9, 'rmse': 0.1957797949956035, 'mae': 0.14116391862237285}\n",
      "{'learning_rate': 0.01, 'n_estimators': 300, 'subsample': 1, 'rmse': 0.19585855784714698, 'mae': 0.1412323518342349}\n",
      "{'learning_rate': 0.01, 'n_estimators': 400, 'subsample': 0.3, 'rmse': 0.19397569225276587, 'mae': 0.13595140654975438}\n",
      "{'learning_rate': 0.01, 'n_estimators': 400, 'subsample': 0.5, 'rmse': 0.19413689076117768, 'mae': 0.13610605318073457}\n",
      "{'learning_rate': 0.01, 'n_estimators': 400, 'subsample': 0.9, 'rmse': 0.19434466991617697, 'mae': 0.13637828489497938}\n",
      "{'learning_rate': 0.01, 'n_estimators': 400, 'subsample': 1, 'rmse': 0.19442676874058487, 'mae': 0.1364876234178403}\n",
      "{'learning_rate': 0.01, 'n_estimators': 500, 'subsample': 0.3, 'rmse': 0.19347593927403592, 'mae': 0.1341456822564133}\n",
      "{'learning_rate': 0.01, 'n_estimators': 500, 'subsample': 0.5, 'rmse': 0.19357098581646212, 'mae': 0.13430209076164012}\n",
      "{'learning_rate': 0.01, 'n_estimators': 500, 'subsample': 0.9, 'rmse': 0.19377118041979755, 'mae': 0.1346023076719013}\n",
      "{'learning_rate': 0.01, 'n_estimators': 500, 'subsample': 1, 'rmse': 0.19385214693686517, 'mae': 0.13471796541321243}\n",
      "{'learning_rate': 0.09, 'n_estimators': 200, 'subsample': 0.3, 'rmse': 0.19326447933235474, 'mae': 0.1329263595313442}\n",
      "{'learning_rate': 0.09, 'n_estimators': 200, 'subsample': 0.5, 'rmse': 0.19283961800813412, 'mae': 0.1326659240890211}\n",
      "{'learning_rate': 0.09, 'n_estimators': 200, 'subsample': 0.9, 'rmse': 0.19269344060612226, 'mae': 0.13265376020055855}\n",
      "{'learning_rate': 0.09, 'n_estimators': 200, 'subsample': 1, 'rmse': 0.19264432063942805, 'mae': 0.13262528068151203}\n",
      "{'learning_rate': 0.09, 'n_estimators': 300, 'subsample': 0.3, 'rmse': 0.19316816849008356, 'mae': 0.1331030357967092}\n",
      "{'learning_rate': 0.09, 'n_estimators': 300, 'subsample': 0.5, 'rmse': 0.19270798100612144, 'mae': 0.13264371475108508}\n",
      "{'learning_rate': 0.09, 'n_estimators': 300, 'subsample': 0.9, 'rmse': 0.19257396568253285, 'mae': 0.13253410921326722}\n",
      "{'learning_rate': 0.09, 'n_estimators': 300, 'subsample': 1, 'rmse': 0.19262587450501018, 'mae': 0.1325219576885926}\n",
      "{'learning_rate': 0.09, 'n_estimators': 400, 'subsample': 0.3, 'rmse': 0.19337199063523414, 'mae': 0.13303211012942884}\n",
      "{'learning_rate': 0.09, 'n_estimators': 400, 'subsample': 0.5, 'rmse': 0.19279456227319594, 'mae': 0.13255269448138424}\n",
      "{'learning_rate': 0.09, 'n_estimators': 400, 'subsample': 0.9, 'rmse': 0.19256150418330997, 'mae': 0.13238962309019636}\n",
      "{'learning_rate': 0.09, 'n_estimators': 400, 'subsample': 1, 'rmse': 0.1927200572530145, 'mae': 0.13253415198189805}\n",
      "{'learning_rate': 0.09, 'n_estimators': 500, 'subsample': 0.3, 'rmse': 0.19347621339716536, 'mae': 0.1329976603104181}\n",
      "{'learning_rate': 0.09, 'n_estimators': 500, 'subsample': 0.5, 'rmse': 0.19287006776682752, 'mae': 0.13250847543163724}\n",
      "{'learning_rate': 0.09, 'n_estimators': 500, 'subsample': 0.9, 'rmse': 0.19263782917151073, 'mae': 0.13238724946714245}\n",
      "{'learning_rate': 0.09, 'n_estimators': 500, 'subsample': 1, 'rmse': 0.1926882018367405, 'mae': 0.13247662080552083}\n",
      "{'learning_rate': 0.1, 'n_estimators': 200, 'subsample': 0.3, 'rmse': 0.19303750258857552, 'mae': 0.132870851415387}\n",
      "{'learning_rate': 0.1, 'n_estimators': 200, 'subsample': 0.5, 'rmse': 0.19272559473662726, 'mae': 0.13253020305198537}\n",
      "{'learning_rate': 0.1, 'n_estimators': 200, 'subsample': 0.9, 'rmse': 0.19268796566763893, 'mae': 0.13263078634340025}\n",
      "{'learning_rate': 0.1, 'n_estimators': 200, 'subsample': 1, 'rmse': 0.19263551922556368, 'mae': 0.13258713480344703}\n",
      "{'learning_rate': 0.1, 'n_estimators': 300, 'subsample': 0.3, 'rmse': 0.19297810751018823, 'mae': 0.13314083249968564}\n",
      "{'learning_rate': 0.1, 'n_estimators': 300, 'subsample': 0.5, 'rmse': 0.1926641078767454, 'mae': 0.13260740170664245}\n",
      "{'learning_rate': 0.1, 'n_estimators': 300, 'subsample': 0.9, 'rmse': 0.19257610772606104, 'mae': 0.13254700911490386}\n",
      "{'learning_rate': 0.1, 'n_estimators': 300, 'subsample': 1, 'rmse': 0.19264002501885694, 'mae': 0.13252715397108858}\n",
      "{'learning_rate': 0.1, 'n_estimators': 400, 'subsample': 0.3, 'rmse': 0.19317807058683606, 'mae': 0.13306943279543273}\n",
      "{'learning_rate': 0.1, 'n_estimators': 400, 'subsample': 0.5, 'rmse': 0.1927164359345798, 'mae': 0.1323700453016501}\n",
      "{'learning_rate': 0.1, 'n_estimators': 400, 'subsample': 0.9, 'rmse': 0.19258874253471878, 'mae': 0.13241330451911032}\n",
      "{'learning_rate': 0.1, 'n_estimators': 400, 'subsample': 1, 'rmse': 0.19265186233890408, 'mae': 0.13251458153406892}\n",
      "{'learning_rate': 0.1, 'n_estimators': 500, 'subsample': 0.3, 'rmse': 0.19322303489285947, 'mae': 0.13287846259614544}\n",
      "{'learning_rate': 0.1, 'n_estimators': 500, 'subsample': 0.5, 'rmse': 0.1927868930148273, 'mae': 0.1323181972528575}\n",
      "{'learning_rate': 0.1, 'n_estimators': 500, 'subsample': 0.9, 'rmse': 0.19263180096669652, 'mae': 0.1323950507672861}\n",
      "{'learning_rate': 0.1, 'n_estimators': 500, 'subsample': 1, 'rmse': 0.1926202522192121, 'mae': 0.13245079038753438}\n",
      "{'learning_rate': 0.2, 'n_estimators': 200, 'subsample': 0.3, 'rmse': 0.19458352900528025, 'mae': 0.13370767558585603}\n",
      "{'learning_rate': 0.2, 'n_estimators': 200, 'subsample': 0.5, 'rmse': 0.19334352398032467, 'mae': 0.13271555753021683}\n",
      "{'learning_rate': 0.2, 'n_estimators': 200, 'subsample': 0.9, 'rmse': 0.19274548410925105, 'mae': 0.13245346495250138}\n",
      "{'learning_rate': 0.2, 'n_estimators': 200, 'subsample': 1, 'rmse': 0.1927846335920185, 'mae': 0.13261724000175307}\n",
      "{'learning_rate': 0.2, 'n_estimators': 300, 'subsample': 0.3, 'rmse': 0.19533696493408823, 'mae': 0.13434706447410802}\n",
      "{'learning_rate': 0.2, 'n_estimators': 300, 'subsample': 0.5, 'rmse': 0.19365643151285164, 'mae': 0.13312110129603277}\n",
      "{'learning_rate': 0.2, 'n_estimators': 300, 'subsample': 0.9, 'rmse': 0.19291028286455966, 'mae': 0.13252973570316323}\n",
      "{'learning_rate': 0.2, 'n_estimators': 300, 'subsample': 1, 'rmse': 0.1929235977260254, 'mae': 0.1325996220148528}\n",
      "{'learning_rate': 0.2, 'n_estimators': 400, 'subsample': 0.3, 'rmse': 0.1961710599254581, 'mae': 0.1345614980366836}\n",
      "{'learning_rate': 0.2, 'n_estimators': 400, 'subsample': 0.5, 'rmse': 0.19433447049286037, 'mae': 0.1332635533013351}\n",
      "{'learning_rate': 0.2, 'n_estimators': 400, 'subsample': 0.9, 'rmse': 0.19306434836121275, 'mae': 0.13247827435041504}\n",
      "{'learning_rate': 0.2, 'n_estimators': 400, 'subsample': 1, 'rmse': 0.1932097685580967, 'mae': 0.13273701736232074}\n",
      "{'learning_rate': 0.2, 'n_estimators': 500, 'subsample': 0.3, 'rmse': 0.1968786560732032, 'mae': 0.13481942821993387}\n",
      "{'learning_rate': 0.2, 'n_estimators': 500, 'subsample': 0.5, 'rmse': 0.194684158325784, 'mae': 0.13343557124720765}\n",
      "{'learning_rate': 0.2, 'n_estimators': 500, 'subsample': 0.9, 'rmse': 0.19333658773959234, 'mae': 0.13262934737617083}\n",
      "{'learning_rate': 0.2, 'n_estimators': 500, 'subsample': 1, 'rmse': 0.1933625205367435, 'mae': 0.1328417706151438}\n",
      "{'learning_rate': 0.5, 'n_estimators': 200, 'subsample': 0.3, 'rmse': 0.2024949522540201, 'mae': 0.13774093462593223}\n",
      "{'learning_rate': 0.5, 'n_estimators': 200, 'subsample': 0.5, 'rmse': 0.19867967323565205, 'mae': 0.13578260027006395}\n",
      "{'learning_rate': 0.5, 'n_estimators': 200, 'subsample': 0.9, 'rmse': 0.1958949449179645, 'mae': 0.13408909192018012}\n",
      "{'learning_rate': 0.5, 'n_estimators': 200, 'subsample': 1, 'rmse': 0.19557304957601584, 'mae': 0.13408105771928489}\n",
      "{'learning_rate': 0.5, 'n_estimators': 300, 'subsample': 0.3, 'rmse': 0.2055527714141595, 'mae': 0.1398431414664152}\n",
      "{'learning_rate': 0.5, 'n_estimators': 300, 'subsample': 0.5, 'rmse': 0.20034210594233554, 'mae': 0.13691883404201505}\n",
      "{'learning_rate': 0.5, 'n_estimators': 300, 'subsample': 0.9, 'rmse': 0.19734710537397823, 'mae': 0.13516078267804685}\n",
      "{'learning_rate': 0.5, 'n_estimators': 300, 'subsample': 1, 'rmse': 0.1966491068663978, 'mae': 0.13473626798330915}\n",
      "{'learning_rate': 0.5, 'n_estimators': 400, 'subsample': 0.3, 'rmse': 0.20955803005181836, 'mae': 0.14144782814355183}\n",
      "{'learning_rate': 0.5, 'n_estimators': 400, 'subsample': 0.5, 'rmse': 0.202111073203792, 'mae': 0.1380991870845755}\n",
      "{'learning_rate': 0.5, 'n_estimators': 400, 'subsample': 0.9, 'rmse': 0.19859410704190134, 'mae': 0.13563342714191595}\n",
      "{'learning_rate': 0.5, 'n_estimators': 400, 'subsample': 1, 'rmse': 0.1980453484674174, 'mae': 0.13554675332150204}\n",
      "{'learning_rate': 0.5, 'n_estimators': 500, 'subsample': 0.3, 'rmse': 0.21218062549136688, 'mae': 0.14320363451226975}\n",
      "{'learning_rate': 0.5, 'n_estimators': 500, 'subsample': 0.5, 'rmse': 0.20422499849610984, 'mae': 0.1393146124323224}\n",
      "{'learning_rate': 0.5, 'n_estimators': 500, 'subsample': 0.9, 'rmse': 0.19974668192053346, 'mae': 0.1365750086337717}\n",
      "{'learning_rate': 0.5, 'n_estimators': 500, 'subsample': 1, 'rmse': 0.1988366638404831, 'mae': 0.1361697322456396}\n",
      "{'learning_rate': 0.9, 'n_estimators': 200, 'subsample': 0.3, 'rmse': 0.2216881773072779, 'mae': 0.14448420283490868}\n",
      "{'learning_rate': 0.9, 'n_estimators': 200, 'subsample': 0.5, 'rmse': 0.21007011544137172, 'mae': 0.14100353743547214}\n",
      "{'learning_rate': 0.9, 'n_estimators': 200, 'subsample': 0.9, 'rmse': 0.2025589212774946, 'mae': 0.13790663310923432}\n",
      "{'learning_rate': 0.9, 'n_estimators': 200, 'subsample': 1, 'rmse': 0.20194850983637627, 'mae': 0.13807342631462474}\n",
      "{'learning_rate': 0.9, 'n_estimators': 300, 'subsample': 0.3, 'rmse': 0.2368428120748824, 'mae': 0.1503513671504599}\n",
      "{'learning_rate': 0.9, 'n_estimators': 300, 'subsample': 0.5, 'rmse': 0.21675058243774334, 'mae': 0.14559962850907893}\n",
      "{'learning_rate': 0.9, 'n_estimators': 300, 'subsample': 0.9, 'rmse': 0.2061555411654585, 'mae': 0.14000090991263028}\n",
      "{'learning_rate': 0.9, 'n_estimators': 300, 'subsample': 1, 'rmse': 0.20442767330563458, 'mae': 0.13991850640910547}\n",
      "{'learning_rate': 0.9, 'n_estimators': 400, 'subsample': 0.3, 'rmse': 0.24642037555047516, 'mae': 0.15200113044143876}\n",
      "{'learning_rate': 0.9, 'n_estimators': 400, 'subsample': 0.5, 'rmse': 0.22181101079383278, 'mae': 0.14853343068502348}\n",
      "{'learning_rate': 0.9, 'n_estimators': 400, 'subsample': 0.9, 'rmse': 0.20863301188244368, 'mae': 0.14222236639832084}\n",
      "{'learning_rate': 0.9, 'n_estimators': 400, 'subsample': 1, 'rmse': 0.20682912411944057, 'mae': 0.14166616436561524}\n",
      "{'learning_rate': 0.9, 'n_estimators': 500, 'subsample': 0.3, 'rmse': 0.259954543781913, 'mae': 0.15523137005065674}\n",
      "{'learning_rate': 0.9, 'n_estimators': 500, 'subsample': 0.5, 'rmse': 0.22519980935592898, 'mae': 0.15111228325816628}\n",
      "{'learning_rate': 0.9, 'n_estimators': 500, 'subsample': 0.9, 'rmse': 0.21088234600116876, 'mae': 0.14414256006263607}\n",
      "{'learning_rate': 0.9, 'n_estimators': 500, 'subsample': 1, 'rmse': 0.2086428449379412, 'mae': 0.14319452095921936}\n"
     ]
    }
   ],
   "source": [
    "best_rmse_2=1000\n",
    "best_mae_2=1000\n",
    "for rate in params['learning_rate'] :\n",
    "    for estimator in params['n_estimators'] :\n",
    "        for subsample in params['subsample'] :\n",
    "            xgb_model = xgb.XGBRegressor(learning_rate= rate, n_estimators = estimator, subsample=subsample)\n",
    "            xgb_model.fit(X_train,y_train)\n",
    "            predictions=xgb_model.predict(X_test)\n",
    "            rmse=math.sqrt(mean_squared_error(y_test,predictions))\n",
    "            mae=mean_absolute_error(y_test,predictions)\n",
    "            \n",
    "            res_dict = {'learning_rate': rate, 'n_estimators': estimator, 'subsample': subsample, 'rmse' : rmse, 'mae' : mae }\n",
    "            result_df.append(res_dict, ignore_index=True)\n",
    "\n",
    "            print(res_dict)\n",
    "            \n",
    "            if(rmse<=best_rmse_2) :\n",
    "                if(mae < best_mae_2) :\n",
    "                    best_rmse_2 = rmse\n",
    "                    best_mae_2 = mae\n",
    "                    best_learning_rate_2 = rate\n",
    "                    best_n_estimators_2 = estimator\n",
    "                    best_subsample_2 = subsample\n",
    "            "
   ]
  },
  {
   "cell_type": "code",
   "execution_count": 126,
   "metadata": {},
   "outputs": [
    {
     "data": {
      "text/plain": [
       "0.19256150418330997"
      ]
     },
     "execution_count": 126,
     "metadata": {},
     "output_type": "execute_result"
    }
   ],
   "source": [
    "best_rmse_2"
   ]
  },
  {
   "cell_type": "code",
   "execution_count": 127,
   "metadata": {},
   "outputs": [
    {
     "data": {
      "text/plain": [
       "pandas.core.series.Series"
      ]
     },
     "execution_count": 127,
     "metadata": {},
     "output_type": "execute_result"
    }
   ],
   "source": [
    "type(y)"
   ]
  },
  {
   "cell_type": "code",
   "execution_count": 128,
   "metadata": {},
   "outputs": [
    {
     "data": {
      "text/plain": [
       "0    0.800000\n",
       "1    0.955556\n",
       "2    0.900000\n",
       "3    0.789474\n",
       "4    0.444444\n",
       "Name: helpfulness_score, dtype: float64"
      ]
     },
     "execution_count": 128,
     "metadata": {},
     "output_type": "execute_result"
    }
   ],
   "source": [
    "y.head()"
   ]
  },
  {
   "cell_type": "code",
   "execution_count": 130,
   "metadata": {},
   "outputs": [
    {
     "data": {
      "text/plain": [
       "numpy.ndarray"
      ]
     },
     "execution_count": 130,
     "metadata": {},
     "output_type": "execute_result"
    }
   ],
   "source": [
    "type(predictions)"
   ]
  },
  {
   "cell_type": "code",
   "execution_count": 132,
   "metadata": {},
   "outputs": [
    {
     "ename": "TypeError",
     "evalue": "bad operand type for abs(): 'list'",
     "output_type": "error",
     "traceback": [
      "\u001b[1;31m---------------------------------------------------------------------------\u001b[0m",
      "\u001b[1;31mTypeError\u001b[0m                                 Traceback (most recent call last)",
      "\u001b[1;32m<ipython-input-132-51fc6bf6cb7f>\u001b[0m in \u001b[0;36m<module>\u001b[1;34m()\u001b[0m\n\u001b[1;32m----> 1\u001b[1;33m \u001b[0mabs\u001b[0m\u001b[1;33m(\u001b[0m\u001b[1;33m[\u001b[0m\u001b[1;33m-\u001b[0m\u001b[1;36m10\u001b[0m\u001b[1;33m,\u001b[0m\u001b[1;36m20\u001b[0m\u001b[1;33m]\u001b[0m\u001b[1;33m)\u001b[0m\u001b[1;33m\u001b[0m\u001b[0m\n\u001b[0m",
      "\u001b[1;31mTypeError\u001b[0m: bad operand type for abs(): 'list'"
     ]
    }
   ],
   "source": [
    "abs([-10,20])"
   ]
  },
  {
   "cell_type": "code",
   "execution_count": 136,
   "metadata": {},
   "outputs": [
    {
     "name": "stderr",
     "output_type": "stream",
     "text": [
      "C:\\Users\\Trishul\\Anaconda3\\lib\\site-packages\\ipykernel_launcher.py:1: FutureWarning: Method .as_matrix will be removed in a future version. Use .values instead.\n",
      "  \"\"\"Entry point for launching an IPython kernel.\n"
     ]
    }
   ],
   "source": [
    "y2 = y.as_matrix()"
   ]
  },
  {
   "cell_type": "code",
   "execution_count": 137,
   "metadata": {},
   "outputs": [
    {
     "data": {
      "text/plain": [
       "array([0.8       , 0.95555556, 0.9       , 0.78947368])"
      ]
     },
     "execution_count": 137,
     "metadata": {},
     "output_type": "execute_result"
    }
   ],
   "source": [
    "y2[0:4]"
   ]
  },
  {
   "cell_type": "code",
   "execution_count": 138,
   "metadata": {},
   "outputs": [
    {
     "data": {
      "text/plain": [
       "array([0.89840955, 0.9178419 , 0.9090657 , 0.9037471 ], dtype=float32)"
      ]
     },
     "execution_count": 138,
     "metadata": {},
     "output_type": "execute_result"
    }
   ],
   "source": [
    "predictions[0:4]"
   ]
  },
  {
   "cell_type": "code",
   "execution_count": 139,
   "metadata": {},
   "outputs": [
    {
     "data": {
      "text/plain": [
       "array([0.8       , 0.95555556, 0.9       , ..., 0.63636364, 0.41666667,\n",
       "       0.7826087 ])"
      ]
     },
     "execution_count": 139,
     "metadata": {},
     "output_type": "execute_result"
    }
   ],
   "source": [
    "y.values"
   ]
  },
  {
   "cell_type": "markdown",
   "metadata": {},
   "source": [
    "### Experiment"
   ]
  },
  {
   "cell_type": "code",
   "execution_count": 140,
   "metadata": {},
   "outputs": [
    {
     "data": {
      "text/plain": [
       "Index(['flesch_reading_ease', 'smog_index', 'flesch_kincaid_grade',\n",
       "       'coleman_liau_index', 'automated_readability_index',\n",
       "       'dale_chall_readability_score', 'difficult_words',\n",
       "       'linsear_write_formula', 'gunning_fog', 'sentence_count', 'wps',\n",
       "       'review_length', 'pos_no', 'neg_no', 'user_deviation', 'user_delay',\n",
       "       'no_of_reviews', 'stem_sim_length', 'lem_sim_length', 'overall'],\n",
       "      dtype='object')"
      ]
     },
     "execution_count": 140,
     "metadata": {},
     "output_type": "execute_result"
    }
   ],
   "source": [
    "X = text_df[['flesch_reading_ease', \n",
    "       'smog_index', 'flesch_kincaid_grade', 'coleman_liau_index',\n",
    "       'automated_readability_index', 'dale_chall_readability_score',\n",
    "       'difficult_words', 'linsear_write_formula', 'gunning_fog',\n",
    "       'sentence_count', 'wps', 'review_length', 'pos_no', 'neg_no']]\n",
    "\n",
    "X=X.join(user_df[['user_deviation','user_delay','no_of_reviews']])\n",
    "\n",
    "X = X.join(meta_df[['stem_sim_length','lem_sim_length','overall']])\n",
    "\n",
    "X.columns"
   ]
  },
  {
   "cell_type": "code",
   "execution_count": 141,
   "metadata": {},
   "outputs": [
    {
     "data": {
      "text/html": [
       "<div>\n",
       "<style scoped>\n",
       "    .dataframe tbody tr th:only-of-type {\n",
       "        vertical-align: middle;\n",
       "    }\n",
       "\n",
       "    .dataframe tbody tr th {\n",
       "        vertical-align: top;\n",
       "    }\n",
       "\n",
       "    .dataframe thead th {\n",
       "        text-align: right;\n",
       "    }\n",
       "</style>\n",
       "<table border=\"1\" class=\"dataframe\">\n",
       "  <thead>\n",
       "    <tr style=\"text-align: right;\">\n",
       "      <th></th>\n",
       "      <th>flesch_reading_ease</th>\n",
       "      <th>smog_index</th>\n",
       "      <th>flesch_kincaid_grade</th>\n",
       "      <th>coleman_liau_index</th>\n",
       "      <th>automated_readability_index</th>\n",
       "      <th>dale_chall_readability_score</th>\n",
       "      <th>difficult_words</th>\n",
       "      <th>linsear_write_formula</th>\n",
       "      <th>gunning_fog</th>\n",
       "      <th>sentence_count</th>\n",
       "      <th>wps</th>\n",
       "      <th>review_length</th>\n",
       "      <th>pos_no</th>\n",
       "      <th>neg_no</th>\n",
       "      <th>user_deviation</th>\n",
       "      <th>user_delay</th>\n",
       "      <th>no_of_reviews</th>\n",
       "      <th>stem_sim_length</th>\n",
       "      <th>lem_sim_length</th>\n",
       "      <th>overall</th>\n",
       "    </tr>\n",
       "  </thead>\n",
       "  <tbody>\n",
       "    <tr>\n",
       "      <th>0</th>\n",
       "      <td>-336.56</td>\n",
       "      <td>0.0</td>\n",
       "      <td>166.3</td>\n",
       "      <td>7.69</td>\n",
       "      <td>211.1</td>\n",
       "      <td>26.44</td>\n",
       "      <td>44</td>\n",
       "      <td>14.000000</td>\n",
       "      <td>176.92</td>\n",
       "      <td>1</td>\n",
       "      <td>427.000000</td>\n",
       "      <td>427</td>\n",
       "      <td>2</td>\n",
       "      <td>4</td>\n",
       "      <td>1.399189</td>\n",
       "      <td>10152000.0</td>\n",
       "      <td>1</td>\n",
       "      <td>15</td>\n",
       "      <td>13</td>\n",
       "      <td>1.0</td>\n",
       "    </tr>\n",
       "    <tr>\n",
       "      <th>1</th>\n",
       "      <td>-340.96</td>\n",
       "      <td>0.0</td>\n",
       "      <td>165.9</td>\n",
       "      <td>9.72</td>\n",
       "      <td>210.8</td>\n",
       "      <td>26.37</td>\n",
       "      <td>94</td>\n",
       "      <td>8.666667</td>\n",
       "      <td>175.64</td>\n",
       "      <td>2</td>\n",
       "      <td>423.000000</td>\n",
       "      <td>846</td>\n",
       "      <td>18</td>\n",
       "      <td>8</td>\n",
       "      <td>0.624437</td>\n",
       "      <td>10886400.0</td>\n",
       "      <td>1</td>\n",
       "      <td>24</td>\n",
       "      <td>23</td>\n",
       "      <td>3.0</td>\n",
       "    </tr>\n",
       "    <tr>\n",
       "      <th>2</th>\n",
       "      <td>85.52</td>\n",
       "      <td>7.3</td>\n",
       "      <td>6.2</td>\n",
       "      <td>5.92</td>\n",
       "      <td>7.2</td>\n",
       "      <td>5.87</td>\n",
       "      <td>36</td>\n",
       "      <td>7.666667</td>\n",
       "      <td>13.01</td>\n",
       "      <td>23</td>\n",
       "      <td>19.521739</td>\n",
       "      <td>449</td>\n",
       "      <td>7</td>\n",
       "      <td>6</td>\n",
       "      <td>0.510375</td>\n",
       "      <td>7516800.0</td>\n",
       "      <td>1</td>\n",
       "      <td>17</td>\n",
       "      <td>16</td>\n",
       "      <td>2.0</td>\n",
       "    </tr>\n",
       "    <tr>\n",
       "      <th>3</th>\n",
       "      <td>66.94</td>\n",
       "      <td>10.8</td>\n",
       "      <td>7.1</td>\n",
       "      <td>8.05</td>\n",
       "      <td>6.3</td>\n",
       "      <td>6.99</td>\n",
       "      <td>11</td>\n",
       "      <td>7.200000</td>\n",
       "      <td>14.00</td>\n",
       "      <td>5</td>\n",
       "      <td>12.800000</td>\n",
       "      <td>64</td>\n",
       "      <td>2</td>\n",
       "      <td>0</td>\n",
       "      <td>0.442171</td>\n",
       "      <td>2678400.0</td>\n",
       "      <td>1</td>\n",
       "      <td>2</td>\n",
       "      <td>2</td>\n",
       "      <td>5.0</td>\n",
       "    </tr>\n",
       "    <tr>\n",
       "      <th>4</th>\n",
       "      <td>-43.22</td>\n",
       "      <td>0.0</td>\n",
       "      <td>53.6</td>\n",
       "      <td>8.09</td>\n",
       "      <td>67.2</td>\n",
       "      <td>12.20</td>\n",
       "      <td>15</td>\n",
       "      <td>4.400000</td>\n",
       "      <td>61.55</td>\n",
       "      <td>1</td>\n",
       "      <td>138.000000</td>\n",
       "      <td>138</td>\n",
       "      <td>1</td>\n",
       "      <td>3</td>\n",
       "      <td>1.616074</td>\n",
       "      <td>7603200.0</td>\n",
       "      <td>1</td>\n",
       "      <td>2</td>\n",
       "      <td>2</td>\n",
       "      <td>1.0</td>\n",
       "    </tr>\n",
       "  </tbody>\n",
       "</table>\n",
       "</div>"
      ],
      "text/plain": [
       "   flesch_reading_ease  smog_index  flesch_kincaid_grade  coleman_liau_index  \\\n",
       "0              -336.56         0.0                 166.3                7.69   \n",
       "1              -340.96         0.0                 165.9                9.72   \n",
       "2                85.52         7.3                   6.2                5.92   \n",
       "3                66.94        10.8                   7.1                8.05   \n",
       "4               -43.22         0.0                  53.6                8.09   \n",
       "\n",
       "   automated_readability_index  dale_chall_readability_score  difficult_words  \\\n",
       "0                        211.1                         26.44               44   \n",
       "1                        210.8                         26.37               94   \n",
       "2                          7.2                          5.87               36   \n",
       "3                          6.3                          6.99               11   \n",
       "4                         67.2                         12.20               15   \n",
       "\n",
       "   linsear_write_formula  gunning_fog  sentence_count         wps  \\\n",
       "0              14.000000       176.92               1  427.000000   \n",
       "1               8.666667       175.64               2  423.000000   \n",
       "2               7.666667        13.01              23   19.521739   \n",
       "3               7.200000        14.00               5   12.800000   \n",
       "4               4.400000        61.55               1  138.000000   \n",
       "\n",
       "   review_length  pos_no  neg_no  user_deviation  user_delay  no_of_reviews  \\\n",
       "0            427       2       4        1.399189  10152000.0              1   \n",
       "1            846      18       8        0.624437  10886400.0              1   \n",
       "2            449       7       6        0.510375   7516800.0              1   \n",
       "3             64       2       0        0.442171   2678400.0              1   \n",
       "4            138       1       3        1.616074   7603200.0              1   \n",
       "\n",
       "   stem_sim_length  lem_sim_length  overall  \n",
       "0               15              13      1.0  \n",
       "1               24              23      3.0  \n",
       "2               17              16      2.0  \n",
       "3                2               2      5.0  \n",
       "4                2               2      1.0  "
      ]
     },
     "execution_count": 141,
     "metadata": {},
     "output_type": "execute_result"
    }
   ],
   "source": [
    "X.head()"
   ]
  },
  {
   "cell_type": "code",
   "execution_count": 142,
   "metadata": {
    "collapsed": true
   },
   "outputs": [],
   "source": [
    "y = review_df['helpfulness_score']\n",
    "\t\n",
    "X_train, X_test, y_train, y_test = train_test_split(X, y, test_size=0.4, random_state=101)"
   ]
  },
  {
   "cell_type": "code",
   "execution_count": 143,
   "metadata": {
    "collapsed": true
   },
   "outputs": [],
   "source": [
    "xgb_reg = xgb.XGBRegressor(learning_rate=best_learning_rate, n_estimators=best_n_estimators, subsample=best_subsample)"
   ]
  },
  {
   "cell_type": "code",
   "execution_count": 158,
   "metadata": {},
   "outputs": [
    {
     "name": "stdout",
     "output_type": "stream",
     "text": [
      "Best Learning Rate : 0.09 , Best No of Estimators : 400 , Best Subsample size : 0.9\n"
     ]
    }
   ],
   "source": [
    "print(\"Best Learning Rate : {} , Best No of Estimators : {} , Best Subsample size : {}\".format(best_learning_rate, best_n_estimators, best_subsample))"
   ]
  },
  {
   "cell_type": "code",
   "execution_count": 144,
   "metadata": {},
   "outputs": [
    {
     "data": {
      "text/plain": [
       "XGBRegressor(base_score=0.5, booster='gbtree', colsample_bylevel=1,\n",
       "       colsample_bytree=1, gamma=0, learning_rate=0.09, max_delta_step=0,\n",
       "       max_depth=3, min_child_weight=1, missing=None, n_estimators=400,\n",
       "       n_jobs=1, nthread=None, objective='reg:linear', random_state=0,\n",
       "       reg_alpha=0, reg_lambda=1, scale_pos_weight=1, seed=None,\n",
       "       silent=True, subsample=0.9)"
      ]
     },
     "execution_count": 144,
     "metadata": {},
     "output_type": "execute_result"
    }
   ],
   "source": [
    "xgb_reg.fit(X_train,y_train)"
   ]
  },
  {
   "cell_type": "code",
   "execution_count": 145,
   "metadata": {
    "collapsed": true
   },
   "outputs": [],
   "source": [
    "predictions=xgb_reg.predict(X_test)"
   ]
  },
  {
   "cell_type": "code",
   "execution_count": 146,
   "metadata": {},
   "outputs": [
    {
     "name": "stdout",
     "output_type": "stream",
     "text": [
      "Mean Squared Error (MSE):       0.03701004690499021\n",
      "Root Mean Squared Error (RMSE): 0.19237995453006587\n",
      "Mean Absolute Error (MAE):      0.13237502045293073\n"
     ]
    }
   ],
   "source": [
    "# MSE : Mean Squared Error\n",
    "mse=mean_squared_error(y_test,predictions)\n",
    "\n",
    "# RMSE : Root Mean Squared Error\n",
    "rmse=math.sqrt(mean_squared_error(y_test,predictions))\n",
    "\n",
    "# MAE : Mean Absolute Error\n",
    "mae=mean_absolute_error(y_test,predictions)\n",
    "\n",
    "print('Mean Squared Error (MSE):      ',mse)\n",
    "print('Root Mean Squared Error (RMSE):',rmse)\n",
    "print('Mean Absolute Error (MAE):     ',mae)"
   ]
  },
  {
   "cell_type": "code",
   "execution_count": 147,
   "metadata": {},
   "outputs": [
    {
     "data": {
      "text/plain": [
       "pandas.core.series.Series"
      ]
     },
     "execution_count": 147,
     "metadata": {},
     "output_type": "execute_result"
    }
   ],
   "source": [
    "type(y_test)"
   ]
  },
  {
   "cell_type": "code",
   "execution_count": 148,
   "metadata": {
    "collapsed": true
   },
   "outputs": [],
   "source": [
    "res_df = pd.DataFrame()"
   ]
  },
  {
   "cell_type": "code",
   "execution_count": 149,
   "metadata": {},
   "outputs": [
    {
     "data": {
      "text/html": [
       "<div>\n",
       "<style scoped>\n",
       "    .dataframe tbody tr th:only-of-type {\n",
       "        vertical-align: middle;\n",
       "    }\n",
       "\n",
       "    .dataframe tbody tr th {\n",
       "        vertical-align: top;\n",
       "    }\n",
       "\n",
       "    .dataframe thead th {\n",
       "        text-align: right;\n",
       "    }\n",
       "</style>\n",
       "<table border=\"1\" class=\"dataframe\">\n",
       "  <thead>\n",
       "    <tr style=\"text-align: right;\">\n",
       "      <th></th>\n",
       "    </tr>\n",
       "  </thead>\n",
       "  <tbody>\n",
       "  </tbody>\n",
       "</table>\n",
       "</div>"
      ],
      "text/plain": [
       "Empty DataFrame\n",
       "Columns: []\n",
       "Index: []"
      ]
     },
     "execution_count": 149,
     "metadata": {},
     "output_type": "execute_result"
    }
   ],
   "source": [
    "res_df"
   ]
  },
  {
   "cell_type": "code",
   "execution_count": 150,
   "metadata": {
    "collapsed": true
   },
   "outputs": [],
   "source": [
    "res_df['y_test']=y_test"
   ]
  },
  {
   "cell_type": "code",
   "execution_count": 151,
   "metadata": {
    "collapsed": true
   },
   "outputs": [],
   "source": [
    "res_df['predictions'] = predictions"
   ]
  },
  {
   "cell_type": "code",
   "execution_count": 152,
   "metadata": {},
   "outputs": [
    {
     "data": {
      "text/html": [
       "<div>\n",
       "<style scoped>\n",
       "    .dataframe tbody tr th:only-of-type {\n",
       "        vertical-align: middle;\n",
       "    }\n",
       "\n",
       "    .dataframe tbody tr th {\n",
       "        vertical-align: top;\n",
       "    }\n",
       "\n",
       "    .dataframe thead th {\n",
       "        text-align: right;\n",
       "    }\n",
       "</style>\n",
       "<table border=\"1\" class=\"dataframe\">\n",
       "  <thead>\n",
       "    <tr style=\"text-align: right;\">\n",
       "      <th></th>\n",
       "      <th>y_test</th>\n",
       "      <th>predictions</th>\n",
       "    </tr>\n",
       "  </thead>\n",
       "  <tbody>\n",
       "    <tr>\n",
       "      <th>51704</th>\n",
       "      <td>0.931034</td>\n",
       "      <td>0.934962</td>\n",
       "    </tr>\n",
       "    <tr>\n",
       "      <th>29896</th>\n",
       "      <td>0.975610</td>\n",
       "      <td>0.911354</td>\n",
       "    </tr>\n",
       "    <tr>\n",
       "      <th>9419</th>\n",
       "      <td>0.909091</td>\n",
       "      <td>0.931369</td>\n",
       "    </tr>\n",
       "    <tr>\n",
       "      <th>77612</th>\n",
       "      <td>1.000000</td>\n",
       "      <td>0.873410</td>\n",
       "    </tr>\n",
       "    <tr>\n",
       "      <th>7954</th>\n",
       "      <td>1.000000</td>\n",
       "      <td>0.874662</td>\n",
       "    </tr>\n",
       "  </tbody>\n",
       "</table>\n",
       "</div>"
      ],
      "text/plain": [
       "         y_test  predictions\n",
       "51704  0.931034     0.934962\n",
       "29896  0.975610     0.911354\n",
       "9419   0.909091     0.931369\n",
       "77612  1.000000     0.873410\n",
       "7954   1.000000     0.874662"
      ]
     },
     "execution_count": 152,
     "metadata": {},
     "output_type": "execute_result"
    }
   ],
   "source": [
    "res_df.head()"
   ]
  },
  {
   "cell_type": "code",
   "execution_count": 153,
   "metadata": {
    "collapsed": true
   },
   "outputs": [],
   "source": [
    "res_df['difference'] = res_df['y_test'] - res_df['predictions'] "
   ]
  },
  {
   "cell_type": "code",
   "execution_count": 154,
   "metadata": {
    "collapsed": true
   },
   "outputs": [],
   "source": [
    "res_df['error_abs'] = res_df['difference'].apply(abs)"
   ]
  },
  {
   "cell_type": "code",
   "execution_count": 155,
   "metadata": {},
   "outputs": [
    {
     "data": {
      "text/html": [
       "<div>\n",
       "<style scoped>\n",
       "    .dataframe tbody tr th:only-of-type {\n",
       "        vertical-align: middle;\n",
       "    }\n",
       "\n",
       "    .dataframe tbody tr th {\n",
       "        vertical-align: top;\n",
       "    }\n",
       "\n",
       "    .dataframe thead th {\n",
       "        text-align: right;\n",
       "    }\n",
       "</style>\n",
       "<table border=\"1\" class=\"dataframe\">\n",
       "  <thead>\n",
       "    <tr style=\"text-align: right;\">\n",
       "      <th></th>\n",
       "      <th>y_test</th>\n",
       "      <th>predictions</th>\n",
       "      <th>difference</th>\n",
       "      <th>error_abs</th>\n",
       "    </tr>\n",
       "  </thead>\n",
       "  <tbody>\n",
       "    <tr>\n",
       "      <th>51704</th>\n",
       "      <td>0.931034</td>\n",
       "      <td>0.934962</td>\n",
       "      <td>-0.003928</td>\n",
       "      <td>0.003928</td>\n",
       "    </tr>\n",
       "    <tr>\n",
       "      <th>29896</th>\n",
       "      <td>0.975610</td>\n",
       "      <td>0.911354</td>\n",
       "      <td>0.064256</td>\n",
       "      <td>0.064256</td>\n",
       "    </tr>\n",
       "    <tr>\n",
       "      <th>9419</th>\n",
       "      <td>0.909091</td>\n",
       "      <td>0.931369</td>\n",
       "      <td>-0.022278</td>\n",
       "      <td>0.022278</td>\n",
       "    </tr>\n",
       "    <tr>\n",
       "      <th>77612</th>\n",
       "      <td>1.000000</td>\n",
       "      <td>0.873410</td>\n",
       "      <td>0.126590</td>\n",
       "      <td>0.126590</td>\n",
       "    </tr>\n",
       "    <tr>\n",
       "      <th>7954</th>\n",
       "      <td>1.000000</td>\n",
       "      <td>0.874662</td>\n",
       "      <td>0.125338</td>\n",
       "      <td>0.125338</td>\n",
       "    </tr>\n",
       "  </tbody>\n",
       "</table>\n",
       "</div>"
      ],
      "text/plain": [
       "         y_test  predictions  difference  error_abs\n",
       "51704  0.931034     0.934962   -0.003928   0.003928\n",
       "29896  0.975610     0.911354    0.064256   0.064256\n",
       "9419   0.909091     0.931369   -0.022278   0.022278\n",
       "77612  1.000000     0.873410    0.126590   0.126590\n",
       "7954   1.000000     0.874662    0.125338   0.125338"
      ]
     },
     "execution_count": 155,
     "metadata": {},
     "output_type": "execute_result"
    }
   ],
   "source": [
    "res_df.head()"
   ]
  },
  {
   "cell_type": "code",
   "execution_count": 157,
   "metadata": {},
   "outputs": [
    {
     "data": {
      "text/html": [
       "<div>\n",
       "<style scoped>\n",
       "    .dataframe tbody tr th:only-of-type {\n",
       "        vertical-align: middle;\n",
       "    }\n",
       "\n",
       "    .dataframe tbody tr th {\n",
       "        vertical-align: top;\n",
       "    }\n",
       "\n",
       "    .dataframe thead th {\n",
       "        text-align: right;\n",
       "    }\n",
       "</style>\n",
       "<table border=\"1\" class=\"dataframe\">\n",
       "  <thead>\n",
       "    <tr style=\"text-align: right;\">\n",
       "      <th></th>\n",
       "      <th>y_test</th>\n",
       "      <th>predictions</th>\n",
       "      <th>difference</th>\n",
       "      <th>error_abs</th>\n",
       "    </tr>\n",
       "  </thead>\n",
       "  <tbody>\n",
       "    <tr>\n",
       "      <th>14416</th>\n",
       "      <td>1.000000</td>\n",
       "      <td>-0.051973</td>\n",
       "      <td>1.051973</td>\n",
       "      <td>1.051973</td>\n",
       "    </tr>\n",
       "    <tr>\n",
       "      <th>69520</th>\n",
       "      <td>0.000000</td>\n",
       "      <td>0.917926</td>\n",
       "      <td>-0.917926</td>\n",
       "      <td>0.917926</td>\n",
       "    </tr>\n",
       "    <tr>\n",
       "      <th>61109</th>\n",
       "      <td>0.000000</td>\n",
       "      <td>0.916027</td>\n",
       "      <td>-0.916027</td>\n",
       "      <td>0.916027</td>\n",
       "    </tr>\n",
       "    <tr>\n",
       "      <th>42479</th>\n",
       "      <td>0.000000</td>\n",
       "      <td>0.915319</td>\n",
       "      <td>-0.915319</td>\n",
       "      <td>0.915319</td>\n",
       "    </tr>\n",
       "    <tr>\n",
       "      <th>74862</th>\n",
       "      <td>0.000000</td>\n",
       "      <td>0.908788</td>\n",
       "      <td>-0.908788</td>\n",
       "      <td>0.908788</td>\n",
       "    </tr>\n",
       "    <tr>\n",
       "      <th>26938</th>\n",
       "      <td>0.000000</td>\n",
       "      <td>0.906906</td>\n",
       "      <td>-0.906906</td>\n",
       "      <td>0.906906</td>\n",
       "    </tr>\n",
       "    <tr>\n",
       "      <th>57389</th>\n",
       "      <td>0.000000</td>\n",
       "      <td>0.904466</td>\n",
       "      <td>-0.904466</td>\n",
       "      <td>0.904466</td>\n",
       "    </tr>\n",
       "    <tr>\n",
       "      <th>62249</th>\n",
       "      <td>0.027027</td>\n",
       "      <td>0.928113</td>\n",
       "      <td>-0.901086</td>\n",
       "      <td>0.901086</td>\n",
       "    </tr>\n",
       "    <tr>\n",
       "      <th>5371</th>\n",
       "      <td>0.000000</td>\n",
       "      <td>0.900834</td>\n",
       "      <td>-0.900834</td>\n",
       "      <td>0.900834</td>\n",
       "    </tr>\n",
       "    <tr>\n",
       "      <th>22696</th>\n",
       "      <td>0.000000</td>\n",
       "      <td>0.897455</td>\n",
       "      <td>-0.897455</td>\n",
       "      <td>0.897455</td>\n",
       "    </tr>\n",
       "    <tr>\n",
       "      <th>30212</th>\n",
       "      <td>0.000000</td>\n",
       "      <td>0.897221</td>\n",
       "      <td>-0.897221</td>\n",
       "      <td>0.897221</td>\n",
       "    </tr>\n",
       "    <tr>\n",
       "      <th>30207</th>\n",
       "      <td>0.000000</td>\n",
       "      <td>0.894968</td>\n",
       "      <td>-0.894968</td>\n",
       "      <td>0.894968</td>\n",
       "    </tr>\n",
       "    <tr>\n",
       "      <th>71653</th>\n",
       "      <td>0.000000</td>\n",
       "      <td>0.894308</td>\n",
       "      <td>-0.894308</td>\n",
       "      <td>0.894308</td>\n",
       "    </tr>\n",
       "    <tr>\n",
       "      <th>15368</th>\n",
       "      <td>0.000000</td>\n",
       "      <td>0.893959</td>\n",
       "      <td>-0.893959</td>\n",
       "      <td>0.893959</td>\n",
       "    </tr>\n",
       "    <tr>\n",
       "      <th>30208</th>\n",
       "      <td>0.000000</td>\n",
       "      <td>0.891777</td>\n",
       "      <td>-0.891777</td>\n",
       "      <td>0.891777</td>\n",
       "    </tr>\n",
       "    <tr>\n",
       "      <th>61105</th>\n",
       "      <td>0.000000</td>\n",
       "      <td>0.890996</td>\n",
       "      <td>-0.890996</td>\n",
       "      <td>0.890996</td>\n",
       "    </tr>\n",
       "    <tr>\n",
       "      <th>37163</th>\n",
       "      <td>0.000000</td>\n",
       "      <td>0.887040</td>\n",
       "      <td>-0.887040</td>\n",
       "      <td>0.887040</td>\n",
       "    </tr>\n",
       "    <tr>\n",
       "      <th>36783</th>\n",
       "      <td>0.000000</td>\n",
       "      <td>0.884692</td>\n",
       "      <td>-0.884692</td>\n",
       "      <td>0.884692</td>\n",
       "    </tr>\n",
       "    <tr>\n",
       "      <th>75408</th>\n",
       "      <td>0.016129</td>\n",
       "      <td>0.893363</td>\n",
       "      <td>-0.877234</td>\n",
       "      <td>0.877234</td>\n",
       "    </tr>\n",
       "    <tr>\n",
       "      <th>17033</th>\n",
       "      <td>0.000000</td>\n",
       "      <td>0.872534</td>\n",
       "      <td>-0.872534</td>\n",
       "      <td>0.872534</td>\n",
       "    </tr>\n",
       "    <tr>\n",
       "      <th>64005</th>\n",
       "      <td>0.000000</td>\n",
       "      <td>0.871201</td>\n",
       "      <td>-0.871201</td>\n",
       "      <td>0.871201</td>\n",
       "    </tr>\n",
       "    <tr>\n",
       "      <th>8320</th>\n",
       "      <td>0.000000</td>\n",
       "      <td>0.870870</td>\n",
       "      <td>-0.870870</td>\n",
       "      <td>0.870870</td>\n",
       "    </tr>\n",
       "    <tr>\n",
       "      <th>48132</th>\n",
       "      <td>0.071942</td>\n",
       "      <td>0.937014</td>\n",
       "      <td>-0.865072</td>\n",
       "      <td>0.865072</td>\n",
       "    </tr>\n",
       "    <tr>\n",
       "      <th>56194</th>\n",
       "      <td>0.066667</td>\n",
       "      <td>0.930680</td>\n",
       "      <td>-0.864014</td>\n",
       "      <td>0.864014</td>\n",
       "    </tr>\n",
       "    <tr>\n",
       "      <th>81257</th>\n",
       "      <td>0.000000</td>\n",
       "      <td>0.861515</td>\n",
       "      <td>-0.861515</td>\n",
       "      <td>0.861515</td>\n",
       "    </tr>\n",
       "    <tr>\n",
       "      <th>63966</th>\n",
       "      <td>0.000000</td>\n",
       "      <td>0.860972</td>\n",
       "      <td>-0.860972</td>\n",
       "      <td>0.860972</td>\n",
       "    </tr>\n",
       "    <tr>\n",
       "      <th>25109</th>\n",
       "      <td>0.066667</td>\n",
       "      <td>0.921151</td>\n",
       "      <td>-0.854485</td>\n",
       "      <td>0.854485</td>\n",
       "    </tr>\n",
       "    <tr>\n",
       "      <th>64758</th>\n",
       "      <td>0.062500</td>\n",
       "      <td>0.908433</td>\n",
       "      <td>-0.845933</td>\n",
       "      <td>0.845933</td>\n",
       "    </tr>\n",
       "    <tr>\n",
       "      <th>57243</th>\n",
       "      <td>0.100000</td>\n",
       "      <td>0.943215</td>\n",
       "      <td>-0.843215</td>\n",
       "      <td>0.843215</td>\n",
       "    </tr>\n",
       "    <tr>\n",
       "      <th>20675</th>\n",
       "      <td>0.000000</td>\n",
       "      <td>0.841685</td>\n",
       "      <td>-0.841685</td>\n",
       "      <td>0.841685</td>\n",
       "    </tr>\n",
       "    <tr>\n",
       "      <th>...</th>\n",
       "      <td>...</td>\n",
       "      <td>...</td>\n",
       "      <td>...</td>\n",
       "      <td>...</td>\n",
       "    </tr>\n",
       "    <tr>\n",
       "      <th>72968</th>\n",
       "      <td>0.916667</td>\n",
       "      <td>0.916819</td>\n",
       "      <td>-0.000152</td>\n",
       "      <td>0.000152</td>\n",
       "    </tr>\n",
       "    <tr>\n",
       "      <th>13</th>\n",
       "      <td>0.538462</td>\n",
       "      <td>0.538310</td>\n",
       "      <td>0.000152</td>\n",
       "      <td>0.000152</td>\n",
       "    </tr>\n",
       "    <tr>\n",
       "      <th>73539</th>\n",
       "      <td>0.866667</td>\n",
       "      <td>0.866810</td>\n",
       "      <td>-0.000143</td>\n",
       "      <td>0.000143</td>\n",
       "    </tr>\n",
       "    <tr>\n",
       "      <th>64077</th>\n",
       "      <td>0.900000</td>\n",
       "      <td>0.899869</td>\n",
       "      <td>0.000131</td>\n",
       "      <td>0.000131</td>\n",
       "    </tr>\n",
       "    <tr>\n",
       "      <th>33144</th>\n",
       "      <td>0.916667</td>\n",
       "      <td>0.916535</td>\n",
       "      <td>0.000131</td>\n",
       "      <td>0.000131</td>\n",
       "    </tr>\n",
       "    <tr>\n",
       "      <th>69058</th>\n",
       "      <td>0.783505</td>\n",
       "      <td>0.783621</td>\n",
       "      <td>-0.000116</td>\n",
       "      <td>0.000116</td>\n",
       "    </tr>\n",
       "    <tr>\n",
       "      <th>76014</th>\n",
       "      <td>0.869565</td>\n",
       "      <td>0.869680</td>\n",
       "      <td>-0.000115</td>\n",
       "      <td>0.000115</td>\n",
       "    </tr>\n",
       "    <tr>\n",
       "      <th>11133</th>\n",
       "      <td>0.923077</td>\n",
       "      <td>0.922962</td>\n",
       "      <td>0.000114</td>\n",
       "      <td>0.000114</td>\n",
       "    </tr>\n",
       "    <tr>\n",
       "      <th>55261</th>\n",
       "      <td>0.916667</td>\n",
       "      <td>0.916774</td>\n",
       "      <td>-0.000108</td>\n",
       "      <td>0.000108</td>\n",
       "    </tr>\n",
       "    <tr>\n",
       "      <th>64162</th>\n",
       "      <td>0.909091</td>\n",
       "      <td>0.908985</td>\n",
       "      <td>0.000106</td>\n",
       "      <td>0.000106</td>\n",
       "    </tr>\n",
       "    <tr>\n",
       "      <th>25432</th>\n",
       "      <td>0.900000</td>\n",
       "      <td>0.899899</td>\n",
       "      <td>0.000101</td>\n",
       "      <td>0.000101</td>\n",
       "    </tr>\n",
       "    <tr>\n",
       "      <th>62118</th>\n",
       "      <td>0.907692</td>\n",
       "      <td>0.907600</td>\n",
       "      <td>0.000092</td>\n",
       "      <td>0.000092</td>\n",
       "    </tr>\n",
       "    <tr>\n",
       "      <th>45138</th>\n",
       "      <td>0.924242</td>\n",
       "      <td>0.924334</td>\n",
       "      <td>-0.000091</td>\n",
       "      <td>0.000091</td>\n",
       "    </tr>\n",
       "    <tr>\n",
       "      <th>57321</th>\n",
       "      <td>0.928571</td>\n",
       "      <td>0.928649</td>\n",
       "      <td>-0.000077</td>\n",
       "      <td>0.000077</td>\n",
       "    </tr>\n",
       "    <tr>\n",
       "      <th>29556</th>\n",
       "      <td>0.909091</td>\n",
       "      <td>0.909168</td>\n",
       "      <td>-0.000077</td>\n",
       "      <td>0.000077</td>\n",
       "    </tr>\n",
       "    <tr>\n",
       "      <th>20084</th>\n",
       "      <td>0.945455</td>\n",
       "      <td>0.945519</td>\n",
       "      <td>-0.000064</td>\n",
       "      <td>0.000064</td>\n",
       "    </tr>\n",
       "    <tr>\n",
       "      <th>33173</th>\n",
       "      <td>0.936219</td>\n",
       "      <td>0.936277</td>\n",
       "      <td>-0.000058</td>\n",
       "      <td>0.000058</td>\n",
       "    </tr>\n",
       "    <tr>\n",
       "      <th>52183</th>\n",
       "      <td>0.913043</td>\n",
       "      <td>0.912987</td>\n",
       "      <td>0.000057</td>\n",
       "      <td>0.000057</td>\n",
       "    </tr>\n",
       "    <tr>\n",
       "      <th>74347</th>\n",
       "      <td>0.650000</td>\n",
       "      <td>0.649964</td>\n",
       "      <td>0.000036</td>\n",
       "      <td>0.000036</td>\n",
       "    </tr>\n",
       "    <tr>\n",
       "      <th>79249</th>\n",
       "      <td>0.884615</td>\n",
       "      <td>0.884647</td>\n",
       "      <td>-0.000032</td>\n",
       "      <td>0.000032</td>\n",
       "    </tr>\n",
       "    <tr>\n",
       "      <th>3902</th>\n",
       "      <td>0.941176</td>\n",
       "      <td>0.941147</td>\n",
       "      <td>0.000029</td>\n",
       "      <td>0.000029</td>\n",
       "    </tr>\n",
       "    <tr>\n",
       "      <th>61364</th>\n",
       "      <td>0.903226</td>\n",
       "      <td>0.903250</td>\n",
       "      <td>-0.000024</td>\n",
       "      <td>0.000024</td>\n",
       "    </tr>\n",
       "    <tr>\n",
       "      <th>44100</th>\n",
       "      <td>0.884615</td>\n",
       "      <td>0.884598</td>\n",
       "      <td>0.000017</td>\n",
       "      <td>0.000017</td>\n",
       "    </tr>\n",
       "    <tr>\n",
       "      <th>28009</th>\n",
       "      <td>0.937984</td>\n",
       "      <td>0.937997</td>\n",
       "      <td>-0.000013</td>\n",
       "      <td>0.000013</td>\n",
       "    </tr>\n",
       "    <tr>\n",
       "      <th>69354</th>\n",
       "      <td>0.933333</td>\n",
       "      <td>0.933346</td>\n",
       "      <td>-0.000012</td>\n",
       "      <td>0.000012</td>\n",
       "    </tr>\n",
       "    <tr>\n",
       "      <th>23849</th>\n",
       "      <td>0.909091</td>\n",
       "      <td>0.909082</td>\n",
       "      <td>0.000009</td>\n",
       "      <td>0.000009</td>\n",
       "    </tr>\n",
       "    <tr>\n",
       "      <th>4834</th>\n",
       "      <td>0.927273</td>\n",
       "      <td>0.927281</td>\n",
       "      <td>-0.000008</td>\n",
       "      <td>0.000008</td>\n",
       "    </tr>\n",
       "    <tr>\n",
       "      <th>72941</th>\n",
       "      <td>0.913043</td>\n",
       "      <td>0.913049</td>\n",
       "      <td>-0.000005</td>\n",
       "      <td>0.000005</td>\n",
       "    </tr>\n",
       "    <tr>\n",
       "      <th>57215</th>\n",
       "      <td>0.928571</td>\n",
       "      <td>0.928567</td>\n",
       "      <td>0.000004</td>\n",
       "      <td>0.000004</td>\n",
       "    </tr>\n",
       "    <tr>\n",
       "      <th>40667</th>\n",
       "      <td>0.933333</td>\n",
       "      <td>0.933331</td>\n",
       "      <td>0.000002</td>\n",
       "      <td>0.000002</td>\n",
       "    </tr>\n",
       "  </tbody>\n",
       "</table>\n",
       "<p>32510 rows × 4 columns</p>\n",
       "</div>"
      ],
      "text/plain": [
       "         y_test  predictions  difference  error_abs\n",
       "14416  1.000000    -0.051973    1.051973   1.051973\n",
       "69520  0.000000     0.917926   -0.917926   0.917926\n",
       "61109  0.000000     0.916027   -0.916027   0.916027\n",
       "42479  0.000000     0.915319   -0.915319   0.915319\n",
       "74862  0.000000     0.908788   -0.908788   0.908788\n",
       "26938  0.000000     0.906906   -0.906906   0.906906\n",
       "57389  0.000000     0.904466   -0.904466   0.904466\n",
       "62249  0.027027     0.928113   -0.901086   0.901086\n",
       "5371   0.000000     0.900834   -0.900834   0.900834\n",
       "22696  0.000000     0.897455   -0.897455   0.897455\n",
       "30212  0.000000     0.897221   -0.897221   0.897221\n",
       "30207  0.000000     0.894968   -0.894968   0.894968\n",
       "71653  0.000000     0.894308   -0.894308   0.894308\n",
       "15368  0.000000     0.893959   -0.893959   0.893959\n",
       "30208  0.000000     0.891777   -0.891777   0.891777\n",
       "61105  0.000000     0.890996   -0.890996   0.890996\n",
       "37163  0.000000     0.887040   -0.887040   0.887040\n",
       "36783  0.000000     0.884692   -0.884692   0.884692\n",
       "75408  0.016129     0.893363   -0.877234   0.877234\n",
       "17033  0.000000     0.872534   -0.872534   0.872534\n",
       "64005  0.000000     0.871201   -0.871201   0.871201\n",
       "8320   0.000000     0.870870   -0.870870   0.870870\n",
       "48132  0.071942     0.937014   -0.865072   0.865072\n",
       "56194  0.066667     0.930680   -0.864014   0.864014\n",
       "81257  0.000000     0.861515   -0.861515   0.861515\n",
       "63966  0.000000     0.860972   -0.860972   0.860972\n",
       "25109  0.066667     0.921151   -0.854485   0.854485\n",
       "64758  0.062500     0.908433   -0.845933   0.845933\n",
       "57243  0.100000     0.943215   -0.843215   0.843215\n",
       "20675  0.000000     0.841685   -0.841685   0.841685\n",
       "...         ...          ...         ...        ...\n",
       "72968  0.916667     0.916819   -0.000152   0.000152\n",
       "13     0.538462     0.538310    0.000152   0.000152\n",
       "73539  0.866667     0.866810   -0.000143   0.000143\n",
       "64077  0.900000     0.899869    0.000131   0.000131\n",
       "33144  0.916667     0.916535    0.000131   0.000131\n",
       "69058  0.783505     0.783621   -0.000116   0.000116\n",
       "76014  0.869565     0.869680   -0.000115   0.000115\n",
       "11133  0.923077     0.922962    0.000114   0.000114\n",
       "55261  0.916667     0.916774   -0.000108   0.000108\n",
       "64162  0.909091     0.908985    0.000106   0.000106\n",
       "25432  0.900000     0.899899    0.000101   0.000101\n",
       "62118  0.907692     0.907600    0.000092   0.000092\n",
       "45138  0.924242     0.924334   -0.000091   0.000091\n",
       "57321  0.928571     0.928649   -0.000077   0.000077\n",
       "29556  0.909091     0.909168   -0.000077   0.000077\n",
       "20084  0.945455     0.945519   -0.000064   0.000064\n",
       "33173  0.936219     0.936277   -0.000058   0.000058\n",
       "52183  0.913043     0.912987    0.000057   0.000057\n",
       "74347  0.650000     0.649964    0.000036   0.000036\n",
       "79249  0.884615     0.884647   -0.000032   0.000032\n",
       "3902   0.941176     0.941147    0.000029   0.000029\n",
       "61364  0.903226     0.903250   -0.000024   0.000024\n",
       "44100  0.884615     0.884598    0.000017   0.000017\n",
       "28009  0.937984     0.937997   -0.000013   0.000013\n",
       "69354  0.933333     0.933346   -0.000012   0.000012\n",
       "23849  0.909091     0.909082    0.000009   0.000009\n",
       "4834   0.927273     0.927281   -0.000008   0.000008\n",
       "72941  0.913043     0.913049   -0.000005   0.000005\n",
       "57215  0.928571     0.928567    0.000004   0.000004\n",
       "40667  0.933333     0.933331    0.000002   0.000002\n",
       "\n",
       "[32510 rows x 4 columns]"
      ]
     },
     "execution_count": 157,
     "metadata": {},
     "output_type": "execute_result"
    }
   ],
   "source": [
    "res_df.sort_values(by=['error_abs'], ascending=False)"
   ]
  },
  {
   "cell_type": "code",
   "execution_count": 160,
   "metadata": {},
   "outputs": [
    {
     "data": {
      "text/html": [
       "<div>\n",
       "<style scoped>\n",
       "    .dataframe tbody tr th:only-of-type {\n",
       "        vertical-align: middle;\n",
       "    }\n",
       "\n",
       "    .dataframe tbody tr th {\n",
       "        vertical-align: top;\n",
       "    }\n",
       "\n",
       "    .dataframe thead th {\n",
       "        text-align: right;\n",
       "    }\n",
       "</style>\n",
       "<table border=\"1\" class=\"dataframe\">\n",
       "  <thead>\n",
       "    <tr style=\"text-align: right;\">\n",
       "      <th></th>\n",
       "      <th>reviewerID</th>\n",
       "      <th>reviewerName</th>\n",
       "      <th>reviewText</th>\n",
       "      <th>user_deviation</th>\n",
       "      <th>user_delay</th>\n",
       "      <th>helpful_votes</th>\n",
       "      <th>total_votes</th>\n",
       "      <th>no_of_reviews</th>\n",
       "      <th>all_helpful_votes</th>\n",
       "      <th>all_total_votes</th>\n",
       "      <th>all_no_of_reviews</th>\n",
       "    </tr>\n",
       "  </thead>\n",
       "  <tbody>\n",
       "    <tr>\n",
       "      <th>0</th>\n",
       "      <td>AMO214LNFCEI4</td>\n",
       "      <td>Amazon Customer</td>\n",
       "      <td>I'm a professional OTR truck driver, and I bou...</td>\n",
       "      <td>1.399189</td>\n",
       "      <td>10152000.0</td>\n",
       "      <td>12</td>\n",
       "      <td>15</td>\n",
       "      <td>1</td>\n",
       "      <td>12</td>\n",
       "      <td>15</td>\n",
       "      <td>4</td>\n",
       "    </tr>\n",
       "    <tr>\n",
       "      <th>1</th>\n",
       "      <td>A3N7T0DY83Y4IG</td>\n",
       "      <td>C. A. Freeman</td>\n",
       "      <td>Well, what can I say.  I've had this unit in m...</td>\n",
       "      <td>0.624437</td>\n",
       "      <td>10886400.0</td>\n",
       "      <td>11</td>\n",
       "      <td>11</td>\n",
       "      <td>1</td>\n",
       "      <td>15</td>\n",
       "      <td>21</td>\n",
       "      <td>11</td>\n",
       "    </tr>\n",
       "    <tr>\n",
       "      <th>2</th>\n",
       "      <td>A1H8PY3QHMQQA0</td>\n",
       "      <td>Dave M. Shaw \"mack dave\"</td>\n",
       "      <td>Not going to write a long review, even thought...</td>\n",
       "      <td>0.510375</td>\n",
       "      <td>7516800.0</td>\n",
       "      <td>17</td>\n",
       "      <td>18</td>\n",
       "      <td>1</td>\n",
       "      <td>24</td>\n",
       "      <td>30</td>\n",
       "      <td>21</td>\n",
       "    </tr>\n",
       "    <tr>\n",
       "      <th>3</th>\n",
       "      <td>A3QH8VQDE7HZCR</td>\n",
       "      <td>costaricachris</td>\n",
       "      <td>Quality was excellent. Instructions were clear...</td>\n",
       "      <td>0.442171</td>\n",
       "      <td>2678400.0</td>\n",
       "      <td>15</td>\n",
       "      <td>19</td>\n",
       "      <td>1</td>\n",
       "      <td>17</td>\n",
       "      <td>24</td>\n",
       "      <td>6</td>\n",
       "    </tr>\n",
       "    <tr>\n",
       "      <th>4</th>\n",
       "      <td>A38FGQVJM18OWV</td>\n",
       "      <td>George S. Mitchell \"gsmitchell\"</td>\n",
       "      <td>I checked around Amazon as well as some other ...</td>\n",
       "      <td>1.616074</td>\n",
       "      <td>7603200.0</td>\n",
       "      <td>8</td>\n",
       "      <td>18</td>\n",
       "      <td>1</td>\n",
       "      <td>8</td>\n",
       "      <td>18</td>\n",
       "      <td>5</td>\n",
       "    </tr>\n",
       "  </tbody>\n",
       "</table>\n",
       "</div>"
      ],
      "text/plain": [
       "       reviewerID                     reviewerName  \\\n",
       "0   AMO214LNFCEI4                  Amazon Customer   \n",
       "1  A3N7T0DY83Y4IG                    C. A. Freeman   \n",
       "2  A1H8PY3QHMQQA0         Dave M. Shaw \"mack dave\"   \n",
       "3  A3QH8VQDE7HZCR                   costaricachris   \n",
       "4  A38FGQVJM18OWV  George S. Mitchell \"gsmitchell\"   \n",
       "\n",
       "                                          reviewText  user_deviation  \\\n",
       "0  I'm a professional OTR truck driver, and I bou...        1.399189   \n",
       "1  Well, what can I say.  I've had this unit in m...        0.624437   \n",
       "2  Not going to write a long review, even thought...        0.510375   \n",
       "3  Quality was excellent. Instructions were clear...        0.442171   \n",
       "4  I checked around Amazon as well as some other ...        1.616074   \n",
       "\n",
       "   user_delay  helpful_votes  total_votes  no_of_reviews  all_helpful_votes  \\\n",
       "0  10152000.0             12           15              1                 12   \n",
       "1  10886400.0             11           11              1                 15   \n",
       "2   7516800.0             17           18              1                 24   \n",
       "3   2678400.0             15           19              1                 17   \n",
       "4   7603200.0              8           18              1                  8   \n",
       "\n",
       "   all_total_votes  all_no_of_reviews  \n",
       "0               15                  4  \n",
       "1               21                 11  \n",
       "2               30                 21  \n",
       "3               24                  6  \n",
       "4               18                  5  "
      ]
     },
     "execution_count": 160,
     "metadata": {},
     "output_type": "execute_result"
    }
   ],
   "source": [
    "user_df.head()"
   ]
  },
  {
   "cell_type": "code",
   "execution_count": 162,
   "metadata": {
    "collapsed": true
   },
   "outputs": [],
   "source": [
    "avg_help=user_df['helpful_votes']/user_df['no_of_reviews']"
   ]
  },
  {
   "cell_type": "code",
   "execution_count": 163,
   "metadata": {},
   "outputs": [
    {
     "data": {
      "text/plain": [
       "0    12.0\n",
       "1    11.0\n",
       "2    17.0\n",
       "3    15.0\n",
       "4     8.0\n",
       "dtype: float64"
      ]
     },
     "execution_count": 163,
     "metadata": {},
     "output_type": "execute_result"
    }
   ],
   "source": [
    "avg_help.head()"
   ]
  },
  {
   "cell_type": "code",
   "execution_count": 164,
   "metadata": {},
   "outputs": [
    {
     "data": {
      "text/plain": [
       "0.1161965347854301"
      ]
     },
     "execution_count": 164,
     "metadata": {},
     "output_type": "execute_result"
    }
   ],
   "source": [
    "avg_help.corr(review_df['helpfulness_score'])"
   ]
  },
  {
   "cell_type": "code",
   "execution_count": 169,
   "metadata": {},
   "outputs": [
    {
     "name": "stdout",
     "output_type": "stream",
     "text": [
      "total votes correlation:  0.0733968360582888\n",
      "all helfpul correlation:  0.08895267631661546\n",
      "all total correlation:  0.06005336563686367\n"
     ]
    }
   ],
   "source": [
    "avg_total = user_df['total_votes']/user_df['no_of_reviews']\n",
    "all_avg_help = user_df['all_helpful_votes']/user_df['all_no_of_reviews']\n",
    "all_avg_total = user_df['all_total_votes']/user_df['all_no_of_reviews']\n",
    "\n",
    "print(\"total votes correlation: \",avg_total.corr(review_df['helpfulness_score']))\n",
    "print(\"all helfpul correlation: \",all_avg_help.corr(review_df['helpfulness_score']))\n",
    "print(\"all total correlation: \",all_avg_total.corr(review_df['helpfulness_score']))"
   ]
  },
  {
   "cell_type": "code",
   "execution_count": 170,
   "metadata": {
    "collapsed": true
   },
   "outputs": [],
   "source": [
    "hscore = review_df['helpfulness_score']"
   ]
  },
  {
   "cell_type": "code",
   "execution_count": null,
   "metadata": {
    "collapsed": true
   },
   "outputs": [],
   "source": []
  },
  {
   "cell_type": "code",
   "execution_count": 172,
   "metadata": {},
   "outputs": [
    {
     "data": {
      "text/plain": [
       "-0.23112491522909748"
      ]
     },
     "execution_count": 172,
     "metadata": {},
     "output_type": "execute_result"
    }
   ],
   "source": [
    "(all_avg_total - all_avg_help).corr(hscore)"
   ]
  },
  {
   "cell_type": "code",
   "execution_count": 167,
   "metadata": {
    "collapsed": true
   },
   "outputs": [],
   "source": [
    "user_df['avg_helpful_votes'] = avg_help"
   ]
  },
  {
   "cell_type": "code",
   "execution_count": 174,
   "metadata": {
    "collapsed": true
   },
   "outputs": [],
   "source": [
    "user_df['unhelfpul_votes'] = user_df['total_votes'] - user_df['helpful_votes']"
   ]
  },
  {
   "cell_type": "code",
   "execution_count": 175,
   "metadata": {
    "collapsed": true
   },
   "outputs": [],
   "source": [
    "avg_unhelpful = user_df['unhelfpul_votes']/user_df['no_of_reviews']"
   ]
  },
  {
   "cell_type": "code",
   "execution_count": 176,
   "metadata": {},
   "outputs": [
    {
     "data": {
      "text/plain": [
       "-0.3725002117545532"
      ]
     },
     "execution_count": 176,
     "metadata": {},
     "output_type": "execute_result"
    }
   ],
   "source": [
    "avg_unhelpful.corr(hscore)"
   ]
  },
  {
   "cell_type": "code",
   "execution_count": 177,
   "metadata": {},
   "outputs": [
    {
     "data": {
      "text/plain": [
       "0.1161965347854301"
      ]
     },
     "execution_count": 177,
     "metadata": {},
     "output_type": "execute_result"
    }
   ],
   "source": [
    "avg_help.corr(hscore)"
   ]
  },
  {
   "cell_type": "code",
   "execution_count": 180,
   "metadata": {
    "collapsed": true
   },
   "outputs": [],
   "source": [
    "user_df['avg_unhelpful_votes'] = avg_unhelpful"
   ]
  },
  {
   "cell_type": "code",
   "execution_count": 290,
   "metadata": {
    "collapsed": true
   },
   "outputs": [],
   "source": [
    "user_df['all_unhelpful_votes'] = user_df['all_total_votes'] - user_df['all_helpful_votes'] "
   ]
  },
  {
   "cell_type": "code",
   "execution_count": null,
   "metadata": {
    "collapsed": true
   },
   "outputs": [],
   "source": []
  },
  {
   "cell_type": "code",
   "execution_count": 291,
   "metadata": {
    "collapsed": true
   },
   "outputs": [],
   "source": [
    "user_df['all_avg_helpful_votes'] = all_avg_help\n",
    "user_df['all_avg_unhelpful_votes'] = user_df['all_unhelpful_votes']/user_df['all_no_of_reviews']"
   ]
  },
  {
   "cell_type": "code",
   "execution_count": 182,
   "metadata": {},
   "outputs": [
    {
     "data": {
      "text/html": [
       "<div>\n",
       "<style scoped>\n",
       "    .dataframe tbody tr th:only-of-type {\n",
       "        vertical-align: middle;\n",
       "    }\n",
       "\n",
       "    .dataframe tbody tr th {\n",
       "        vertical-align: top;\n",
       "    }\n",
       "\n",
       "    .dataframe thead th {\n",
       "        text-align: right;\n",
       "    }\n",
       "</style>\n",
       "<table border=\"1\" class=\"dataframe\">\n",
       "  <thead>\n",
       "    <tr style=\"text-align: right;\">\n",
       "      <th></th>\n",
       "      <th>reviewerID</th>\n",
       "      <th>reviewerName</th>\n",
       "      <th>reviewText</th>\n",
       "      <th>user_deviation</th>\n",
       "      <th>user_delay</th>\n",
       "      <th>helpful_votes</th>\n",
       "      <th>total_votes</th>\n",
       "      <th>no_of_reviews</th>\n",
       "      <th>all_helpful_votes</th>\n",
       "      <th>all_total_votes</th>\n",
       "      <th>all_no_of_reviews</th>\n",
       "      <th>avg_helpful_votes</th>\n",
       "      <th>unhelfpul_votes</th>\n",
       "      <th>avg_unhelpful_votes</th>\n",
       "    </tr>\n",
       "  </thead>\n",
       "  <tbody>\n",
       "    <tr>\n",
       "      <th>0</th>\n",
       "      <td>AMO214LNFCEI4</td>\n",
       "      <td>Amazon Customer</td>\n",
       "      <td>I'm a professional OTR truck driver, and I bou...</td>\n",
       "      <td>1.399189</td>\n",
       "      <td>10152000.0</td>\n",
       "      <td>12</td>\n",
       "      <td>15</td>\n",
       "      <td>1</td>\n",
       "      <td>12</td>\n",
       "      <td>15</td>\n",
       "      <td>4</td>\n",
       "      <td>12.0</td>\n",
       "      <td>3</td>\n",
       "      <td>3.0</td>\n",
       "    </tr>\n",
       "    <tr>\n",
       "      <th>1</th>\n",
       "      <td>A3N7T0DY83Y4IG</td>\n",
       "      <td>C. A. Freeman</td>\n",
       "      <td>Well, what can I say.  I've had this unit in m...</td>\n",
       "      <td>0.624437</td>\n",
       "      <td>10886400.0</td>\n",
       "      <td>11</td>\n",
       "      <td>11</td>\n",
       "      <td>1</td>\n",
       "      <td>15</td>\n",
       "      <td>21</td>\n",
       "      <td>11</td>\n",
       "      <td>11.0</td>\n",
       "      <td>0</td>\n",
       "      <td>0.0</td>\n",
       "    </tr>\n",
       "    <tr>\n",
       "      <th>2</th>\n",
       "      <td>A1H8PY3QHMQQA0</td>\n",
       "      <td>Dave M. Shaw \"mack dave\"</td>\n",
       "      <td>Not going to write a long review, even thought...</td>\n",
       "      <td>0.510375</td>\n",
       "      <td>7516800.0</td>\n",
       "      <td>17</td>\n",
       "      <td>18</td>\n",
       "      <td>1</td>\n",
       "      <td>24</td>\n",
       "      <td>30</td>\n",
       "      <td>21</td>\n",
       "      <td>17.0</td>\n",
       "      <td>1</td>\n",
       "      <td>1.0</td>\n",
       "    </tr>\n",
       "    <tr>\n",
       "      <th>3</th>\n",
       "      <td>A3QH8VQDE7HZCR</td>\n",
       "      <td>costaricachris</td>\n",
       "      <td>Quality was excellent. Instructions were clear...</td>\n",
       "      <td>0.442171</td>\n",
       "      <td>2678400.0</td>\n",
       "      <td>15</td>\n",
       "      <td>19</td>\n",
       "      <td>1</td>\n",
       "      <td>17</td>\n",
       "      <td>24</td>\n",
       "      <td>6</td>\n",
       "      <td>15.0</td>\n",
       "      <td>4</td>\n",
       "      <td>4.0</td>\n",
       "    </tr>\n",
       "    <tr>\n",
       "      <th>4</th>\n",
       "      <td>A38FGQVJM18OWV</td>\n",
       "      <td>George S. Mitchell \"gsmitchell\"</td>\n",
       "      <td>I checked around Amazon as well as some other ...</td>\n",
       "      <td>1.616074</td>\n",
       "      <td>7603200.0</td>\n",
       "      <td>8</td>\n",
       "      <td>18</td>\n",
       "      <td>1</td>\n",
       "      <td>8</td>\n",
       "      <td>18</td>\n",
       "      <td>5</td>\n",
       "      <td>8.0</td>\n",
       "      <td>10</td>\n",
       "      <td>10.0</td>\n",
       "    </tr>\n",
       "  </tbody>\n",
       "</table>\n",
       "</div>"
      ],
      "text/plain": [
       "       reviewerID                     reviewerName  \\\n",
       "0   AMO214LNFCEI4                  Amazon Customer   \n",
       "1  A3N7T0DY83Y4IG                    C. A. Freeman   \n",
       "2  A1H8PY3QHMQQA0         Dave M. Shaw \"mack dave\"   \n",
       "3  A3QH8VQDE7HZCR                   costaricachris   \n",
       "4  A38FGQVJM18OWV  George S. Mitchell \"gsmitchell\"   \n",
       "\n",
       "                                          reviewText  user_deviation  \\\n",
       "0  I'm a professional OTR truck driver, and I bou...        1.399189   \n",
       "1  Well, what can I say.  I've had this unit in m...        0.624437   \n",
       "2  Not going to write a long review, even thought...        0.510375   \n",
       "3  Quality was excellent. Instructions were clear...        0.442171   \n",
       "4  I checked around Amazon as well as some other ...        1.616074   \n",
       "\n",
       "   user_delay  helpful_votes  total_votes  no_of_reviews  all_helpful_votes  \\\n",
       "0  10152000.0             12           15              1                 12   \n",
       "1  10886400.0             11           11              1                 15   \n",
       "2   7516800.0             17           18              1                 24   \n",
       "3   2678400.0             15           19              1                 17   \n",
       "4   7603200.0              8           18              1                  8   \n",
       "\n",
       "   all_total_votes  all_no_of_reviews  avg_helpful_votes  unhelfpul_votes  \\\n",
       "0               15                  4               12.0                3   \n",
       "1               21                 11               11.0                0   \n",
       "2               30                 21               17.0                1   \n",
       "3               24                  6               15.0                4   \n",
       "4               18                  5                8.0               10   \n",
       "\n",
       "   avg_unhelpful_votes  \n",
       "0                  3.0  \n",
       "1                  0.0  \n",
       "2                  1.0  \n",
       "3                  4.0  \n",
       "4                 10.0  "
      ]
     },
     "execution_count": 182,
     "metadata": {},
     "output_type": "execute_result"
    }
   ],
   "source": [
    "user_df.head()"
   ]
  },
  {
   "cell_type": "markdown",
   "metadata": {},
   "source": [
    "### Experiment with avg helpful and avg unhelpful"
   ]
  },
  {
   "cell_type": "code",
   "execution_count": 215,
   "metadata": {},
   "outputs": [
    {
     "data": {
      "text/plain": [
       "Index(['flesch_reading_ease', 'smog_index', 'flesch_kincaid_grade',\n",
       "       'coleman_liau_index', 'automated_readability_index',\n",
       "       'dale_chall_readability_score', 'difficult_words',\n",
       "       'linsear_write_formula', 'gunning_fog', 'sentence_count', 'wps',\n",
       "       'review_length', 'pos_no', 'neg_no', 'user_deviation', 'user_delay',\n",
       "       'no_of_reviews', 'stem_sim_length', 'lem_sim_length', 'overall'],\n",
       "      dtype='object')"
      ]
     },
     "execution_count": 215,
     "metadata": {},
     "output_type": "execute_result"
    }
   ],
   "source": [
    "X = text_df[['flesch_reading_ease', \n",
    "       'smog_index', 'flesch_kincaid_grade', 'coleman_liau_index',\n",
    "       'automated_readability_index', 'dale_chall_readability_score',\n",
    "       'difficult_words', 'linsear_write_formula', 'gunning_fog',\n",
    "       'sentence_count', 'wps', 'review_length', 'pos_no', 'neg_no']]\n",
    "\n",
    "X=X.join(user_df[['user_deviation', 'user_delay','no_of_reviews']])\n",
    "\n",
    "X = X.join(meta_df[['stem_sim_length','lem_sim_length','overall']])\n",
    "\n",
    "X.columns"
   ]
  },
  {
   "cell_type": "code",
   "execution_count": 216,
   "metadata": {},
   "outputs": [
    {
     "data": {
      "text/html": [
       "<div>\n",
       "<style scoped>\n",
       "    .dataframe tbody tr th:only-of-type {\n",
       "        vertical-align: middle;\n",
       "    }\n",
       "\n",
       "    .dataframe tbody tr th {\n",
       "        vertical-align: top;\n",
       "    }\n",
       "\n",
       "    .dataframe thead th {\n",
       "        text-align: right;\n",
       "    }\n",
       "</style>\n",
       "<table border=\"1\" class=\"dataframe\">\n",
       "  <thead>\n",
       "    <tr style=\"text-align: right;\">\n",
       "      <th></th>\n",
       "      <th>flesch_reading_ease</th>\n",
       "      <th>smog_index</th>\n",
       "      <th>flesch_kincaid_grade</th>\n",
       "      <th>coleman_liau_index</th>\n",
       "      <th>automated_readability_index</th>\n",
       "      <th>dale_chall_readability_score</th>\n",
       "      <th>difficult_words</th>\n",
       "      <th>linsear_write_formula</th>\n",
       "      <th>gunning_fog</th>\n",
       "      <th>sentence_count</th>\n",
       "      <th>wps</th>\n",
       "      <th>review_length</th>\n",
       "      <th>pos_no</th>\n",
       "      <th>neg_no</th>\n",
       "      <th>user_deviation</th>\n",
       "      <th>user_delay</th>\n",
       "      <th>no_of_reviews</th>\n",
       "      <th>stem_sim_length</th>\n",
       "      <th>lem_sim_length</th>\n",
       "      <th>overall</th>\n",
       "    </tr>\n",
       "  </thead>\n",
       "  <tbody>\n",
       "    <tr>\n",
       "      <th>0</th>\n",
       "      <td>-336.56</td>\n",
       "      <td>0.0</td>\n",
       "      <td>166.3</td>\n",
       "      <td>7.69</td>\n",
       "      <td>211.1</td>\n",
       "      <td>26.44</td>\n",
       "      <td>44</td>\n",
       "      <td>14.000000</td>\n",
       "      <td>176.92</td>\n",
       "      <td>1</td>\n",
       "      <td>427.000000</td>\n",
       "      <td>427</td>\n",
       "      <td>2</td>\n",
       "      <td>4</td>\n",
       "      <td>1.399189</td>\n",
       "      <td>10152000.0</td>\n",
       "      <td>1</td>\n",
       "      <td>15</td>\n",
       "      <td>13</td>\n",
       "      <td>1.0</td>\n",
       "    </tr>\n",
       "    <tr>\n",
       "      <th>1</th>\n",
       "      <td>-340.96</td>\n",
       "      <td>0.0</td>\n",
       "      <td>165.9</td>\n",
       "      <td>9.72</td>\n",
       "      <td>210.8</td>\n",
       "      <td>26.37</td>\n",
       "      <td>94</td>\n",
       "      <td>8.666667</td>\n",
       "      <td>175.64</td>\n",
       "      <td>2</td>\n",
       "      <td>423.000000</td>\n",
       "      <td>846</td>\n",
       "      <td>18</td>\n",
       "      <td>8</td>\n",
       "      <td>0.624437</td>\n",
       "      <td>10886400.0</td>\n",
       "      <td>1</td>\n",
       "      <td>24</td>\n",
       "      <td>23</td>\n",
       "      <td>3.0</td>\n",
       "    </tr>\n",
       "    <tr>\n",
       "      <th>2</th>\n",
       "      <td>85.52</td>\n",
       "      <td>7.3</td>\n",
       "      <td>6.2</td>\n",
       "      <td>5.92</td>\n",
       "      <td>7.2</td>\n",
       "      <td>5.87</td>\n",
       "      <td>36</td>\n",
       "      <td>7.666667</td>\n",
       "      <td>13.01</td>\n",
       "      <td>23</td>\n",
       "      <td>19.521739</td>\n",
       "      <td>449</td>\n",
       "      <td>7</td>\n",
       "      <td>6</td>\n",
       "      <td>0.510375</td>\n",
       "      <td>7516800.0</td>\n",
       "      <td>1</td>\n",
       "      <td>17</td>\n",
       "      <td>16</td>\n",
       "      <td>2.0</td>\n",
       "    </tr>\n",
       "    <tr>\n",
       "      <th>3</th>\n",
       "      <td>66.94</td>\n",
       "      <td>10.8</td>\n",
       "      <td>7.1</td>\n",
       "      <td>8.05</td>\n",
       "      <td>6.3</td>\n",
       "      <td>6.99</td>\n",
       "      <td>11</td>\n",
       "      <td>7.200000</td>\n",
       "      <td>14.00</td>\n",
       "      <td>5</td>\n",
       "      <td>12.800000</td>\n",
       "      <td>64</td>\n",
       "      <td>2</td>\n",
       "      <td>0</td>\n",
       "      <td>0.442171</td>\n",
       "      <td>2678400.0</td>\n",
       "      <td>1</td>\n",
       "      <td>2</td>\n",
       "      <td>2</td>\n",
       "      <td>5.0</td>\n",
       "    </tr>\n",
       "    <tr>\n",
       "      <th>4</th>\n",
       "      <td>-43.22</td>\n",
       "      <td>0.0</td>\n",
       "      <td>53.6</td>\n",
       "      <td>8.09</td>\n",
       "      <td>67.2</td>\n",
       "      <td>12.20</td>\n",
       "      <td>15</td>\n",
       "      <td>4.400000</td>\n",
       "      <td>61.55</td>\n",
       "      <td>1</td>\n",
       "      <td>138.000000</td>\n",
       "      <td>138</td>\n",
       "      <td>1</td>\n",
       "      <td>3</td>\n",
       "      <td>1.616074</td>\n",
       "      <td>7603200.0</td>\n",
       "      <td>1</td>\n",
       "      <td>2</td>\n",
       "      <td>2</td>\n",
       "      <td>1.0</td>\n",
       "    </tr>\n",
       "  </tbody>\n",
       "</table>\n",
       "</div>"
      ],
      "text/plain": [
       "   flesch_reading_ease  smog_index  flesch_kincaid_grade  coleman_liau_index  \\\n",
       "0              -336.56         0.0                 166.3                7.69   \n",
       "1              -340.96         0.0                 165.9                9.72   \n",
       "2                85.52         7.3                   6.2                5.92   \n",
       "3                66.94        10.8                   7.1                8.05   \n",
       "4               -43.22         0.0                  53.6                8.09   \n",
       "\n",
       "   automated_readability_index  dale_chall_readability_score  difficult_words  \\\n",
       "0                        211.1                         26.44               44   \n",
       "1                        210.8                         26.37               94   \n",
       "2                          7.2                          5.87               36   \n",
       "3                          6.3                          6.99               11   \n",
       "4                         67.2                         12.20               15   \n",
       "\n",
       "   linsear_write_formula  gunning_fog  sentence_count         wps  \\\n",
       "0              14.000000       176.92               1  427.000000   \n",
       "1               8.666667       175.64               2  423.000000   \n",
       "2               7.666667        13.01              23   19.521739   \n",
       "3               7.200000        14.00               5   12.800000   \n",
       "4               4.400000        61.55               1  138.000000   \n",
       "\n",
       "   review_length  pos_no  neg_no  user_deviation  user_delay  no_of_reviews  \\\n",
       "0            427       2       4        1.399189  10152000.0              1   \n",
       "1            846      18       8        0.624437  10886400.0              1   \n",
       "2            449       7       6        0.510375   7516800.0              1   \n",
       "3             64       2       0        0.442171   2678400.0              1   \n",
       "4            138       1       3        1.616074   7603200.0              1   \n",
       "\n",
       "   stem_sim_length  lem_sim_length  overall  \n",
       "0               15              13      1.0  \n",
       "1               24              23      3.0  \n",
       "2               17              16      2.0  \n",
       "3                2               2      5.0  \n",
       "4                2               2      1.0  "
      ]
     },
     "execution_count": 216,
     "metadata": {},
     "output_type": "execute_result"
    }
   ],
   "source": [
    "X.head()"
   ]
  },
  {
   "cell_type": "code",
   "execution_count": 217,
   "metadata": {
    "collapsed": true
   },
   "outputs": [],
   "source": [
    "y = review_df['helpfulness_score']\n",
    "\t\n",
    "X_train, X_test, y_train, y_test = train_test_split(X, y, test_size=0.4, random_state=101)"
   ]
  },
  {
   "cell_type": "code",
   "execution_count": 218,
   "metadata": {
    "collapsed": true
   },
   "outputs": [],
   "source": [
    "xgb_reg = xgb.XGBRegressor()"
   ]
  },
  {
   "cell_type": "code",
   "execution_count": 219,
   "metadata": {},
   "outputs": [
    {
     "name": "stdout",
     "output_type": "stream",
     "text": [
      "Best Learning Rate : 0.09 , Best No of Estimators : 400 , Best Subsample size : 0.9\n"
     ]
    }
   ],
   "source": [
    "print(\"Best Learning Rate : {} , Best No of Estimators : {} , Best Subsample size : {}\".format(best_learning_rate, best_n_estimators, best_subsample))"
   ]
  },
  {
   "cell_type": "code",
   "execution_count": 220,
   "metadata": {},
   "outputs": [
    {
     "data": {
      "text/plain": [
       "XGBRegressor(base_score=0.5, booster='gbtree', colsample_bylevel=1,\n",
       "       colsample_bytree=1, gamma=0, learning_rate=0.1, max_delta_step=0,\n",
       "       max_depth=3, min_child_weight=1, missing=None, n_estimators=100,\n",
       "       n_jobs=1, nthread=None, objective='reg:linear', random_state=0,\n",
       "       reg_alpha=0, reg_lambda=1, scale_pos_weight=1, seed=None,\n",
       "       silent=True, subsample=1)"
      ]
     },
     "execution_count": 220,
     "metadata": {},
     "output_type": "execute_result"
    }
   ],
   "source": [
    "xgb_reg.fit(X_train,y_train)"
   ]
  },
  {
   "cell_type": "code",
   "execution_count": 221,
   "metadata": {
    "collapsed": true
   },
   "outputs": [],
   "source": [
    "predictions=xgb_reg.predict(X_test)"
   ]
  },
  {
   "cell_type": "code",
   "execution_count": 222,
   "metadata": {},
   "outputs": [
    {
     "name": "stdout",
     "output_type": "stream",
     "text": [
      "Mean Squared Error (MSE):       0.037214149448659396\n",
      "Root Mean Squared Error (RMSE): 0.1929096924694542\n",
      "Mean Absolute Error (MAE):      0.13303612335141038\n"
     ]
    }
   ],
   "source": [
    "# MSE : Mean Squared Error\n",
    "mse=mean_squared_error(y_test,predictions)\n",
    "\n",
    "# RMSE : Root Mean Squared Error\n",
    "rmse=math.sqrt(mean_squared_error(y_test,predictions))\n",
    "\n",
    "# MAE : Mean Absolute Error\n",
    "mae=mean_absolute_error(y_test,predictions)\n",
    "\n",
    "print('Mean Squared Error (MSE):      ',mse)\n",
    "print('Root Mean Squared Error (RMSE):',rmse)\n",
    "print('Mean Absolute Error (MAE):     ',mae)"
   ]
  },
  {
   "cell_type": "markdown",
   "metadata": {
    "collapsed": true
   },
   "source": [
    "### Individual Feature Prediction - avg helpful, avg unhelpful"
   ]
  },
  {
   "cell_type": "code",
   "execution_count": 249,
   "metadata": {},
   "outputs": [
    {
     "data": {
      "text/html": [
       "<div>\n",
       "<style scoped>\n",
       "    .dataframe tbody tr th:only-of-type {\n",
       "        vertical-align: middle;\n",
       "    }\n",
       "\n",
       "    .dataframe tbody tr th {\n",
       "        vertical-align: top;\n",
       "    }\n",
       "\n",
       "    .dataframe thead th {\n",
       "        text-align: right;\n",
       "    }\n",
       "</style>\n",
       "<table border=\"1\" class=\"dataframe\">\n",
       "  <thead>\n",
       "    <tr style=\"text-align: right;\">\n",
       "      <th></th>\n",
       "      <th>reviewerID</th>\n",
       "      <th>reviewerName</th>\n",
       "      <th>reviewText</th>\n",
       "      <th>user_deviation</th>\n",
       "      <th>user_delay</th>\n",
       "      <th>helpful_votes</th>\n",
       "      <th>total_votes</th>\n",
       "      <th>no_of_reviews</th>\n",
       "      <th>all_helpful_votes</th>\n",
       "      <th>all_total_votes</th>\n",
       "      <th>all_no_of_reviews</th>\n",
       "      <th>avg_helpful_votes</th>\n",
       "      <th>unhelfpul_votes</th>\n",
       "      <th>avg_unhelpful_votes</th>\n",
       "    </tr>\n",
       "  </thead>\n",
       "  <tbody>\n",
       "    <tr>\n",
       "      <th>0</th>\n",
       "      <td>AMO214LNFCEI4</td>\n",
       "      <td>Amazon Customer</td>\n",
       "      <td>I'm a professional OTR truck driver, and I bou...</td>\n",
       "      <td>1.399189</td>\n",
       "      <td>10152000.0</td>\n",
       "      <td>12</td>\n",
       "      <td>15</td>\n",
       "      <td>1</td>\n",
       "      <td>12</td>\n",
       "      <td>15</td>\n",
       "      <td>4</td>\n",
       "      <td>12.0</td>\n",
       "      <td>3</td>\n",
       "      <td>3.0</td>\n",
       "    </tr>\n",
       "    <tr>\n",
       "      <th>1</th>\n",
       "      <td>A3N7T0DY83Y4IG</td>\n",
       "      <td>C. A. Freeman</td>\n",
       "      <td>Well, what can I say.  I've had this unit in m...</td>\n",
       "      <td>0.624437</td>\n",
       "      <td>10886400.0</td>\n",
       "      <td>11</td>\n",
       "      <td>11</td>\n",
       "      <td>1</td>\n",
       "      <td>15</td>\n",
       "      <td>21</td>\n",
       "      <td>11</td>\n",
       "      <td>11.0</td>\n",
       "      <td>0</td>\n",
       "      <td>0.0</td>\n",
       "    </tr>\n",
       "    <tr>\n",
       "      <th>2</th>\n",
       "      <td>A1H8PY3QHMQQA0</td>\n",
       "      <td>Dave M. Shaw \"mack dave\"</td>\n",
       "      <td>Not going to write a long review, even thought...</td>\n",
       "      <td>0.510375</td>\n",
       "      <td>7516800.0</td>\n",
       "      <td>17</td>\n",
       "      <td>18</td>\n",
       "      <td>1</td>\n",
       "      <td>24</td>\n",
       "      <td>30</td>\n",
       "      <td>21</td>\n",
       "      <td>17.0</td>\n",
       "      <td>1</td>\n",
       "      <td>1.0</td>\n",
       "    </tr>\n",
       "    <tr>\n",
       "      <th>3</th>\n",
       "      <td>A3QH8VQDE7HZCR</td>\n",
       "      <td>costaricachris</td>\n",
       "      <td>Quality was excellent. Instructions were clear...</td>\n",
       "      <td>0.442171</td>\n",
       "      <td>2678400.0</td>\n",
       "      <td>15</td>\n",
       "      <td>19</td>\n",
       "      <td>1</td>\n",
       "      <td>17</td>\n",
       "      <td>24</td>\n",
       "      <td>6</td>\n",
       "      <td>15.0</td>\n",
       "      <td>4</td>\n",
       "      <td>4.0</td>\n",
       "    </tr>\n",
       "    <tr>\n",
       "      <th>4</th>\n",
       "      <td>A38FGQVJM18OWV</td>\n",
       "      <td>George S. Mitchell \"gsmitchell\"</td>\n",
       "      <td>I checked around Amazon as well as some other ...</td>\n",
       "      <td>1.616074</td>\n",
       "      <td>7603200.0</td>\n",
       "      <td>8</td>\n",
       "      <td>18</td>\n",
       "      <td>1</td>\n",
       "      <td>8</td>\n",
       "      <td>18</td>\n",
       "      <td>5</td>\n",
       "      <td>8.0</td>\n",
       "      <td>10</td>\n",
       "      <td>10.0</td>\n",
       "    </tr>\n",
       "  </tbody>\n",
       "</table>\n",
       "</div>"
      ],
      "text/plain": [
       "       reviewerID                     reviewerName  \\\n",
       "0   AMO214LNFCEI4                  Amazon Customer   \n",
       "1  A3N7T0DY83Y4IG                    C. A. Freeman   \n",
       "2  A1H8PY3QHMQQA0         Dave M. Shaw \"mack dave\"   \n",
       "3  A3QH8VQDE7HZCR                   costaricachris   \n",
       "4  A38FGQVJM18OWV  George S. Mitchell \"gsmitchell\"   \n",
       "\n",
       "                                          reviewText  user_deviation  \\\n",
       "0  I'm a professional OTR truck driver, and I bou...        1.399189   \n",
       "1  Well, what can I say.  I've had this unit in m...        0.624437   \n",
       "2  Not going to write a long review, even thought...        0.510375   \n",
       "3  Quality was excellent. Instructions were clear...        0.442171   \n",
       "4  I checked around Amazon as well as some other ...        1.616074   \n",
       "\n",
       "   user_delay  helpful_votes  total_votes  no_of_reviews  all_helpful_votes  \\\n",
       "0  10152000.0             12           15              1                 12   \n",
       "1  10886400.0             11           11              1                 15   \n",
       "2   7516800.0             17           18              1                 24   \n",
       "3   2678400.0             15           19              1                 17   \n",
       "4   7603200.0              8           18              1                  8   \n",
       "\n",
       "   all_total_votes  all_no_of_reviews  avg_helpful_votes  unhelfpul_votes  \\\n",
       "0               15                  4               12.0                3   \n",
       "1               21                 11               11.0                0   \n",
       "2               30                 21               17.0                1   \n",
       "3               24                  6               15.0                4   \n",
       "4               18                  5                8.0               10   \n",
       "\n",
       "   avg_unhelpful_votes  \n",
       "0                  3.0  \n",
       "1                  0.0  \n",
       "2                  1.0  \n",
       "3                  4.0  \n",
       "4                 10.0  "
      ]
     },
     "execution_count": 249,
     "metadata": {},
     "output_type": "execute_result"
    }
   ],
   "source": [
    "user_df.head()"
   ]
  },
  {
   "cell_type": "code",
   "execution_count": 677,
   "metadata": {
    "collapsed": true
   },
   "outputs": [],
   "source": [
    "X = user_df['iota']\n",
    "X = np.array(X).reshape(-1,1)"
   ]
  },
  {
   "cell_type": "code",
   "execution_count": 678,
   "metadata": {},
   "outputs": [
    {
     "data": {
      "text/plain": [
       "array([[0.8125    ],\n",
       "       [1.        ],\n",
       "       [0.94736842],\n",
       "       ...,\n",
       "       [0.66666667],\n",
       "       [0.73267327],\n",
       "       [0.91037446]])"
      ]
     },
     "execution_count": 678,
     "metadata": {},
     "output_type": "execute_result"
    }
   ],
   "source": [
    "X"
   ]
  },
  {
   "cell_type": "code",
   "execution_count": 679,
   "metadata": {
    "collapsed": true
   },
   "outputs": [],
   "source": [
    "y = review_df['helpfulness_score']\n",
    "\t\n",
    "X_train, X_test, y_train, y_test = train_test_split(X, y, test_size=0.4, random_state=101)"
   ]
  },
  {
   "cell_type": "code",
   "execution_count": 680,
   "metadata": {
    "collapsed": true
   },
   "outputs": [],
   "source": [
    "xgb_reg = xgb.XGBRegressor()"
   ]
  },
  {
   "cell_type": "code",
   "execution_count": 681,
   "metadata": {},
   "outputs": [
    {
     "name": "stdout",
     "output_type": "stream",
     "text": [
      "Best Learning Rate : 0.09 , Best No of Estimators : 400 , Best Subsample size : 0.9\n"
     ]
    }
   ],
   "source": [
    "print(\"Best Learning Rate : {} , Best No of Estimators : {} , Best Subsample size : {}\".format(best_learning_rate, best_n_estimators, best_subsample))"
   ]
  },
  {
   "cell_type": "code",
   "execution_count": 682,
   "metadata": {},
   "outputs": [
    {
     "data": {
      "text/plain": [
       "XGBRegressor(base_score=0.5, booster='gbtree', colsample_bylevel=1,\n",
       "       colsample_bytree=1, gamma=0, learning_rate=0.1, max_delta_step=0,\n",
       "       max_depth=3, min_child_weight=1, missing=None, n_estimators=100,\n",
       "       n_jobs=1, nthread=None, objective='reg:linear', random_state=0,\n",
       "       reg_alpha=0, reg_lambda=1, scale_pos_weight=1, seed=None,\n",
       "       silent=True, subsample=1)"
      ]
     },
     "execution_count": 682,
     "metadata": {},
     "output_type": "execute_result"
    }
   ],
   "source": [
    "xgb_reg.fit(X_train,y_train)"
   ]
  },
  {
   "cell_type": "code",
   "execution_count": 683,
   "metadata": {
    "collapsed": true
   },
   "outputs": [],
   "source": [
    "predictions=xgb_reg.predict(X_test)"
   ]
  },
  {
   "cell_type": "code",
   "execution_count": 684,
   "metadata": {},
   "outputs": [
    {
     "name": "stdout",
     "output_type": "stream",
     "text": [
      "Mean Squared Error (MSE):       0.07494140050242103\n",
      "Root Mean Squared Error (RMSE): 0.27375427029075006\n",
      "Mean Absolute Error (MAE):      0.17365267622730043\n"
     ]
    }
   ],
   "source": [
    "# MSE : Mean Squared Error\n",
    "mse=mean_squared_error(y_test,predictions)\n",
    "\n",
    "# RMSE : Root Mean Squared Error\n",
    "rmse=math.sqrt(mean_squared_error(y_test,predictions))\n",
    "\n",
    "# MAE : Mean Absolute Error\n",
    "mae=mean_absolute_error(y_test,predictions)\n",
    "\n",
    "print('Mean Squared Error (MSE):      ',mse)\n",
    "print('Root Mean Squared Error (RMSE):',rmse)\n",
    "print('Mean Absolute Error (MAE):     ',mae)"
   ]
  },
  {
   "cell_type": "markdown",
   "metadata": {},
   "source": [
    "### Usage of all no of reviews and all avg unhelpful votes with Grid Search"
   ]
  },
  {
   "cell_type": "code",
   "execution_count": 292,
   "metadata": {},
   "outputs": [
    {
     "data": {
      "text/plain": [
       "Index(['flesch_reading_ease', 'smog_index', 'flesch_kincaid_grade',\n",
       "       'coleman_liau_index', 'automated_readability_index',\n",
       "       'dale_chall_readability_score', 'difficult_words',\n",
       "       'linsear_write_formula', 'gunning_fog', 'sentence_count', 'wps',\n",
       "       'review_length', 'pos_no', 'neg_no', 'user_deviation', 'user_delay',\n",
       "       'all_no_of_reviews', 'all_avg_unhelpful_votes', 'stem_sim_length',\n",
       "       'lem_sim_length', 'overall'],\n",
       "      dtype='object')"
      ]
     },
     "execution_count": 292,
     "metadata": {},
     "output_type": "execute_result"
    }
   ],
   "source": [
    "X = text_df[['flesch_reading_ease', \n",
    "       'smog_index', 'flesch_kincaid_grade', 'coleman_liau_index',\n",
    "       'automated_readability_index', 'dale_chall_readability_score',\n",
    "       'difficult_words', 'linsear_write_formula', 'gunning_fog',\n",
    "       'sentence_count', 'wps', 'review_length', 'pos_no', 'neg_no']]\n",
    "\n",
    "X=X.join(user_df[['user_deviation', 'user_delay','all_no_of_reviews', 'all_avg_unhelpful_votes']])\n",
    "\n",
    "X = X.join(meta_df[['stem_sim_length','lem_sim_length','overall']])\n",
    "\n",
    "X.columns"
   ]
  },
  {
   "cell_type": "code",
   "execution_count": 293,
   "metadata": {},
   "outputs": [
    {
     "data": {
      "text/html": [
       "<div>\n",
       "<style scoped>\n",
       "    .dataframe tbody tr th:only-of-type {\n",
       "        vertical-align: middle;\n",
       "    }\n",
       "\n",
       "    .dataframe tbody tr th {\n",
       "        vertical-align: top;\n",
       "    }\n",
       "\n",
       "    .dataframe thead th {\n",
       "        text-align: right;\n",
       "    }\n",
       "</style>\n",
       "<table border=\"1\" class=\"dataframe\">\n",
       "  <thead>\n",
       "    <tr style=\"text-align: right;\">\n",
       "      <th></th>\n",
       "      <th>flesch_reading_ease</th>\n",
       "      <th>smog_index</th>\n",
       "      <th>flesch_kincaid_grade</th>\n",
       "      <th>coleman_liau_index</th>\n",
       "      <th>automated_readability_index</th>\n",
       "      <th>dale_chall_readability_score</th>\n",
       "      <th>difficult_words</th>\n",
       "      <th>linsear_write_formula</th>\n",
       "      <th>gunning_fog</th>\n",
       "      <th>sentence_count</th>\n",
       "      <th>...</th>\n",
       "      <th>review_length</th>\n",
       "      <th>pos_no</th>\n",
       "      <th>neg_no</th>\n",
       "      <th>user_deviation</th>\n",
       "      <th>user_delay</th>\n",
       "      <th>all_no_of_reviews</th>\n",
       "      <th>all_avg_unhelpful_votes</th>\n",
       "      <th>stem_sim_length</th>\n",
       "      <th>lem_sim_length</th>\n",
       "      <th>overall</th>\n",
       "    </tr>\n",
       "  </thead>\n",
       "  <tbody>\n",
       "    <tr>\n",
       "      <th>0</th>\n",
       "      <td>-336.56</td>\n",
       "      <td>0.0</td>\n",
       "      <td>166.3</td>\n",
       "      <td>7.69</td>\n",
       "      <td>211.1</td>\n",
       "      <td>26.44</td>\n",
       "      <td>44</td>\n",
       "      <td>14.000000</td>\n",
       "      <td>176.92</td>\n",
       "      <td>1</td>\n",
       "      <td>...</td>\n",
       "      <td>427</td>\n",
       "      <td>2</td>\n",
       "      <td>4</td>\n",
       "      <td>1.399189</td>\n",
       "      <td>10152000.0</td>\n",
       "      <td>4</td>\n",
       "      <td>0.750000</td>\n",
       "      <td>15</td>\n",
       "      <td>13</td>\n",
       "      <td>1.0</td>\n",
       "    </tr>\n",
       "    <tr>\n",
       "      <th>1</th>\n",
       "      <td>-340.96</td>\n",
       "      <td>0.0</td>\n",
       "      <td>165.9</td>\n",
       "      <td>9.72</td>\n",
       "      <td>210.8</td>\n",
       "      <td>26.37</td>\n",
       "      <td>94</td>\n",
       "      <td>8.666667</td>\n",
       "      <td>175.64</td>\n",
       "      <td>2</td>\n",
       "      <td>...</td>\n",
       "      <td>846</td>\n",
       "      <td>18</td>\n",
       "      <td>8</td>\n",
       "      <td>0.624437</td>\n",
       "      <td>10886400.0</td>\n",
       "      <td>11</td>\n",
       "      <td>0.545455</td>\n",
       "      <td>24</td>\n",
       "      <td>23</td>\n",
       "      <td>3.0</td>\n",
       "    </tr>\n",
       "    <tr>\n",
       "      <th>2</th>\n",
       "      <td>85.52</td>\n",
       "      <td>7.3</td>\n",
       "      <td>6.2</td>\n",
       "      <td>5.92</td>\n",
       "      <td>7.2</td>\n",
       "      <td>5.87</td>\n",
       "      <td>36</td>\n",
       "      <td>7.666667</td>\n",
       "      <td>13.01</td>\n",
       "      <td>23</td>\n",
       "      <td>...</td>\n",
       "      <td>449</td>\n",
       "      <td>7</td>\n",
       "      <td>6</td>\n",
       "      <td>0.510375</td>\n",
       "      <td>7516800.0</td>\n",
       "      <td>21</td>\n",
       "      <td>0.285714</td>\n",
       "      <td>17</td>\n",
       "      <td>16</td>\n",
       "      <td>2.0</td>\n",
       "    </tr>\n",
       "    <tr>\n",
       "      <th>3</th>\n",
       "      <td>66.94</td>\n",
       "      <td>10.8</td>\n",
       "      <td>7.1</td>\n",
       "      <td>8.05</td>\n",
       "      <td>6.3</td>\n",
       "      <td>6.99</td>\n",
       "      <td>11</td>\n",
       "      <td>7.200000</td>\n",
       "      <td>14.00</td>\n",
       "      <td>5</td>\n",
       "      <td>...</td>\n",
       "      <td>64</td>\n",
       "      <td>2</td>\n",
       "      <td>0</td>\n",
       "      <td>0.442171</td>\n",
       "      <td>2678400.0</td>\n",
       "      <td>6</td>\n",
       "      <td>1.166667</td>\n",
       "      <td>2</td>\n",
       "      <td>2</td>\n",
       "      <td>5.0</td>\n",
       "    </tr>\n",
       "    <tr>\n",
       "      <th>4</th>\n",
       "      <td>-43.22</td>\n",
       "      <td>0.0</td>\n",
       "      <td>53.6</td>\n",
       "      <td>8.09</td>\n",
       "      <td>67.2</td>\n",
       "      <td>12.20</td>\n",
       "      <td>15</td>\n",
       "      <td>4.400000</td>\n",
       "      <td>61.55</td>\n",
       "      <td>1</td>\n",
       "      <td>...</td>\n",
       "      <td>138</td>\n",
       "      <td>1</td>\n",
       "      <td>3</td>\n",
       "      <td>1.616074</td>\n",
       "      <td>7603200.0</td>\n",
       "      <td>5</td>\n",
       "      <td>2.000000</td>\n",
       "      <td>2</td>\n",
       "      <td>2</td>\n",
       "      <td>1.0</td>\n",
       "    </tr>\n",
       "  </tbody>\n",
       "</table>\n",
       "<p>5 rows × 21 columns</p>\n",
       "</div>"
      ],
      "text/plain": [
       "   flesch_reading_ease  smog_index  flesch_kincaid_grade  coleman_liau_index  \\\n",
       "0              -336.56         0.0                 166.3                7.69   \n",
       "1              -340.96         0.0                 165.9                9.72   \n",
       "2                85.52         7.3                   6.2                5.92   \n",
       "3                66.94        10.8                   7.1                8.05   \n",
       "4               -43.22         0.0                  53.6                8.09   \n",
       "\n",
       "   automated_readability_index  dale_chall_readability_score  difficult_words  \\\n",
       "0                        211.1                         26.44               44   \n",
       "1                        210.8                         26.37               94   \n",
       "2                          7.2                          5.87               36   \n",
       "3                          6.3                          6.99               11   \n",
       "4                         67.2                         12.20               15   \n",
       "\n",
       "   linsear_write_formula  gunning_fog  sentence_count   ...     review_length  \\\n",
       "0              14.000000       176.92               1   ...               427   \n",
       "1               8.666667       175.64               2   ...               846   \n",
       "2               7.666667        13.01              23   ...               449   \n",
       "3               7.200000        14.00               5   ...                64   \n",
       "4               4.400000        61.55               1   ...               138   \n",
       "\n",
       "   pos_no  neg_no  user_deviation  user_delay  all_no_of_reviews  \\\n",
       "0       2       4        1.399189  10152000.0                  4   \n",
       "1      18       8        0.624437  10886400.0                 11   \n",
       "2       7       6        0.510375   7516800.0                 21   \n",
       "3       2       0        0.442171   2678400.0                  6   \n",
       "4       1       3        1.616074   7603200.0                  5   \n",
       "\n",
       "   all_avg_unhelpful_votes  stem_sim_length  lem_sim_length  overall  \n",
       "0                 0.750000               15              13      1.0  \n",
       "1                 0.545455               24              23      3.0  \n",
       "2                 0.285714               17              16      2.0  \n",
       "3                 1.166667                2               2      5.0  \n",
       "4                 2.000000                2               2      1.0  \n",
       "\n",
       "[5 rows x 21 columns]"
      ]
     },
     "execution_count": 293,
     "metadata": {},
     "output_type": "execute_result"
    }
   ],
   "source": [
    "X.head()"
   ]
  },
  {
   "cell_type": "code",
   "execution_count": 294,
   "metadata": {
    "collapsed": true
   },
   "outputs": [],
   "source": [
    "y = review_df['helpfulness_score']\n",
    "\t\n",
    "X_train, X_test, y_train, y_test = train_test_split(X, y, test_size=0.4, random_state=101)"
   ]
  },
  {
   "cell_type": "code",
   "execution_count": 295,
   "metadata": {
    "collapsed": true
   },
   "outputs": [],
   "source": [
    "xgb_reg = xgb.XGBRegressor()"
   ]
  },
  {
   "cell_type": "code",
   "execution_count": 296,
   "metadata": {},
   "outputs": [
    {
     "name": "stdout",
     "output_type": "stream",
     "text": [
      "Best Learning Rate : 0.09 , Best No of Estimators : 400 , Best Subsample size : 0.9\n"
     ]
    }
   ],
   "source": [
    "print(\"Best Learning Rate : {} , Best No of Estimators : {} , Best Subsample size : {}\".format(best_learning_rate, best_n_estimators, best_subsample))"
   ]
  },
  {
   "cell_type": "code",
   "execution_count": 297,
   "metadata": {},
   "outputs": [
    {
     "data": {
      "text/plain": [
       "XGBRegressor(base_score=0.5, booster='gbtree', colsample_bylevel=1,\n",
       "       colsample_bytree=1, gamma=0, learning_rate=0.1, max_delta_step=0,\n",
       "       max_depth=3, min_child_weight=1, missing=None, n_estimators=100,\n",
       "       n_jobs=1, nthread=None, objective='reg:linear', random_state=0,\n",
       "       reg_alpha=0, reg_lambda=1, scale_pos_weight=1, seed=None,\n",
       "       silent=True, subsample=1)"
      ]
     },
     "execution_count": 297,
     "metadata": {},
     "output_type": "execute_result"
    }
   ],
   "source": [
    "xgb_reg.fit(X_train,y_train)"
   ]
  },
  {
   "cell_type": "code",
   "execution_count": 298,
   "metadata": {
    "collapsed": true
   },
   "outputs": [],
   "source": [
    "predictions=xgb_reg.predict(X_test)"
   ]
  },
  {
   "cell_type": "code",
   "execution_count": 299,
   "metadata": {},
   "outputs": [
    {
     "name": "stdout",
     "output_type": "stream",
     "text": [
      "Mean Squared Error (MSE):       0.05027398806992936\n",
      "Root Mean Squared Error (RMSE): 0.22421861668900145\n",
      "Mean Absolute Error (MAE):      0.14249431558178208\n"
     ]
    }
   ],
   "source": [
    "# MSE : Mean Squared Error\n",
    "mse=mean_squared_error(y_test,predictions)\n",
    "\n",
    "# RMSE : Root Mean Squared Error\n",
    "rmse=math.sqrt(mean_squared_error(y_test,predictions))\n",
    "\n",
    "# MAE : Mean Absolute Error\n",
    "mae=mean_absolute_error(y_test,predictions)\n",
    "\n",
    "print('Mean Squared Error (MSE):      ',mse)\n",
    "print('Root Mean Squared Error (RMSE):',rmse)\n",
    "print('Mean Absolute Error (MAE):     ',mae)"
   ]
  },
  {
   "cell_type": "code",
   "execution_count": 300,
   "metadata": {},
   "outputs": [
    {
     "data": {
      "text/plain": [
       "{'learning_rate': [0.01, 0.09, 0.1, 0.2, 0.5, 0.9],\n",
       " 'n_estimators': [200, 300, 400, 500],\n",
       " 'subsample': [0.3, 0.5, 0.9, 1]}"
      ]
     },
     "execution_count": 300,
     "metadata": {},
     "output_type": "execute_result"
    }
   ],
   "source": [
    "params"
   ]
  },
  {
   "cell_type": "code",
   "execution_count": 301,
   "metadata": {
    "collapsed": true
   },
   "outputs": [
    {
     "name": "stdout",
     "output_type": "stream",
     "text": [
      "{'learning_rate': 0.01, 'n_estimators': 200, 'subsample': 0.3, 'rmse': 0.21314307319297318, 'mae': 0.1530811937935574}\n",
      "{'learning_rate': 0.01, 'n_estimators': 200, 'subsample': 0.5, 'rmse': 0.2130614453650779, 'mae': 0.15319696240300948}\n",
      "{'learning_rate': 0.01, 'n_estimators': 200, 'subsample': 0.9, 'rmse': 0.2134591035019029, 'mae': 0.15335639210365457}\n",
      "{'learning_rate': 0.01, 'n_estimators': 200, 'subsample': 1, 'rmse': 0.21355567276934975, 'mae': 0.15338899503756429}\n",
      "{'learning_rate': 0.01, 'n_estimators': 300, 'subsample': 0.3, 'rmse': 0.21410896802897203, 'mae': 0.14187605397699626}\n",
      "{'learning_rate': 0.01, 'n_estimators': 300, 'subsample': 0.5, 'rmse': 0.21416492237200602, 'mae': 0.14201952367572518}\n",
      "{'learning_rate': 0.01, 'n_estimators': 300, 'subsample': 0.9, 'rmse': 0.21432378581423026, 'mae': 0.14211416697756685}\n",
      "{'learning_rate': 0.01, 'n_estimators': 300, 'subsample': 1, 'rmse': 0.21436819762516715, 'mae': 0.14216507108874984}\n",
      "{'learning_rate': 0.01, 'n_estimators': 400, 'subsample': 0.3, 'rmse': 0.2160939108028178, 'mae': 0.13955571003007095}\n",
      "{'learning_rate': 0.01, 'n_estimators': 400, 'subsample': 0.5, 'rmse': 0.21632435116494417, 'mae': 0.1398351097478635}\n",
      "{'learning_rate': 0.01, 'n_estimators': 400, 'subsample': 0.9, 'rmse': 0.2163393206577669, 'mae': 0.1398200369130327}\n",
      "{'learning_rate': 0.01, 'n_estimators': 400, 'subsample': 1, 'rmse': 0.21645148705522768, 'mae': 0.13989166234291328}\n",
      "{'learning_rate': 0.01, 'n_estimators': 500, 'subsample': 0.3, 'rmse': 0.2176947095195329, 'mae': 0.13932711849062046}\n",
      "{'learning_rate': 0.01, 'n_estimators': 500, 'subsample': 0.5, 'rmse': 0.21782584428608334, 'mae': 0.13953724909853335}\n",
      "{'learning_rate': 0.01, 'n_estimators': 500, 'subsample': 0.9, 'rmse': 0.21813694827946767, 'mae': 0.13973270584794012}\n",
      "{'learning_rate': 0.01, 'n_estimators': 500, 'subsample': 1, 'rmse': 0.21831611069402362, 'mae': 0.13985560636368377}\n",
      "{'learning_rate': 0.09, 'n_estimators': 200, 'subsample': 0.3, 'rmse': 0.22413921633718525, 'mae': 0.14251250444609115}\n",
      "{'learning_rate': 0.09, 'n_estimators': 200, 'subsample': 0.5, 'rmse': 0.22588283581419058, 'mae': 0.14328510794796645}\n",
      "{'learning_rate': 0.09, 'n_estimators': 200, 'subsample': 0.9, 'rmse': 0.2257778993648595, 'mae': 0.1434060348357343}\n",
      "{'learning_rate': 0.09, 'n_estimators': 200, 'subsample': 1, 'rmse': 0.22661860632934677, 'mae': 0.1438352926805586}\n",
      "{'learning_rate': 0.09, 'n_estimators': 300, 'subsample': 0.3, 'rmse': 0.22437644068789434, 'mae': 0.14252279197063839}\n",
      "{'learning_rate': 0.09, 'n_estimators': 300, 'subsample': 0.5, 'rmse': 0.22665324778367169, 'mae': 0.14355897650667807}\n",
      "{'learning_rate': 0.09, 'n_estimators': 300, 'subsample': 0.9, 'rmse': 0.2264497626257543, 'mae': 0.14373521669075887}\n",
      "{'learning_rate': 0.09, 'n_estimators': 300, 'subsample': 1, 'rmse': 0.22749105464073308, 'mae': 0.1442891102921735}\n",
      "{'learning_rate': 0.09, 'n_estimators': 400, 'subsample': 0.3, 'rmse': 0.22529127372053023, 'mae': 0.1429351444439178}\n",
      "{'learning_rate': 0.09, 'n_estimators': 400, 'subsample': 0.5, 'rmse': 0.2281248486720561, 'mae': 0.14436086613788202}\n",
      "{'learning_rate': 0.09, 'n_estimators': 400, 'subsample': 0.9, 'rmse': 0.22754400727006746, 'mae': 0.14431660464195903}\n",
      "{'learning_rate': 0.09, 'n_estimators': 400, 'subsample': 1, 'rmse': 0.22820973661843272, 'mae': 0.14460373774681012}\n",
      "{'learning_rate': 0.09, 'n_estimators': 500, 'subsample': 0.3, 'rmse': 0.22643183191011934, 'mae': 0.1434841559972804}\n",
      "{'learning_rate': 0.09, 'n_estimators': 500, 'subsample': 0.5, 'rmse': 0.22880116727410219, 'mae': 0.14465133629441765}\n",
      "{'learning_rate': 0.09, 'n_estimators': 500, 'subsample': 0.9, 'rmse': 0.22811516466554443, 'mae': 0.14457309441737434}\n",
      "{'learning_rate': 0.09, 'n_estimators': 500, 'subsample': 1, 'rmse': 0.22856040477539272, 'mae': 0.1447860700955245}\n",
      "{'learning_rate': 0.1, 'n_estimators': 200, 'subsample': 0.3, 'rmse': 0.22557505928023938, 'mae': 0.14302395459028155}\n",
      "{'learning_rate': 0.1, 'n_estimators': 200, 'subsample': 0.5, 'rmse': 0.22639583609705355, 'mae': 0.14353905074108841}\n",
      "{'learning_rate': 0.1, 'n_estimators': 200, 'subsample': 0.9, 'rmse': 0.22637529320957925, 'mae': 0.1438313861077191}\n",
      "{'learning_rate': 0.1, 'n_estimators': 200, 'subsample': 1, 'rmse': 0.22708630942961952, 'mae': 0.1441280303376727}\n",
      "{'learning_rate': 0.1, 'n_estimators': 300, 'subsample': 0.3, 'rmse': 0.22645946630710262, 'mae': 0.14353876434326587}\n",
      "{'learning_rate': 0.1, 'n_estimators': 300, 'subsample': 0.5, 'rmse': 0.22669168913139442, 'mae': 0.14372297521656915}\n",
      "{'learning_rate': 0.1, 'n_estimators': 300, 'subsample': 0.9, 'rmse': 0.2269579202434638, 'mae': 0.14410918699821332}\n",
      "{'learning_rate': 0.1, 'n_estimators': 300, 'subsample': 1, 'rmse': 0.22789443541915827, 'mae': 0.14455005010030839}\n",
      "{'learning_rate': 0.1, 'n_estimators': 400, 'subsample': 0.3, 'rmse': 0.22805413813686132, 'mae': 0.1442967087365929}\n",
      "{'learning_rate': 0.1, 'n_estimators': 400, 'subsample': 0.5, 'rmse': 0.2282838869892036, 'mae': 0.14454874931733544}\n",
      "{'learning_rate': 0.1, 'n_estimators': 400, 'subsample': 0.9, 'rmse': 0.22762912828151774, 'mae': 0.14439915413131912}\n",
      "{'learning_rate': 0.1, 'n_estimators': 400, 'subsample': 1, 'rmse': 0.22888799136581758, 'mae': 0.14502554428146502}\n",
      "{'learning_rate': 0.1, 'n_estimators': 500, 'subsample': 0.3, 'rmse': 0.2290021863044819, 'mae': 0.14484253417930895}\n",
      "{'learning_rate': 0.1, 'n_estimators': 500, 'subsample': 0.5, 'rmse': 0.22885059383642736, 'mae': 0.14486619572906684}\n",
      "{'learning_rate': 0.1, 'n_estimators': 500, 'subsample': 0.9, 'rmse': 0.22798416081306822, 'mae': 0.14460918007554707}\n",
      "{'learning_rate': 0.1, 'n_estimators': 500, 'subsample': 1, 'rmse': 0.22907185259282575, 'mae': 0.14511104677061648}\n",
      "{'learning_rate': 0.2, 'n_estimators': 200, 'subsample': 0.3, 'rmse': 0.22703550694750027, 'mae': 0.1443117692427512}\n",
      "{'learning_rate': 0.2, 'n_estimators': 200, 'subsample': 0.5, 'rmse': 0.2281542210166618, 'mae': 0.14458371635023282}\n",
      "{'learning_rate': 0.2, 'n_estimators': 200, 'subsample': 0.9, 'rmse': 0.2287621965456846, 'mae': 0.1449111687477146}\n",
      "{'learning_rate': 0.2, 'n_estimators': 200, 'subsample': 1, 'rmse': 0.22917556242254608, 'mae': 0.14538664767745332}\n",
      "{'learning_rate': 0.2, 'n_estimators': 300, 'subsample': 0.3, 'rmse': 0.22766718629388105, 'mae': 0.14504713909396114}\n",
      "{'learning_rate': 0.2, 'n_estimators': 300, 'subsample': 0.5, 'rmse': 0.22892817819433536, 'mae': 0.14505069432308162}\n",
      "{'learning_rate': 0.2, 'n_estimators': 300, 'subsample': 0.9, 'rmse': 0.2294912021899174, 'mae': 0.1451894200837261}\n",
      "{'learning_rate': 0.2, 'n_estimators': 300, 'subsample': 1, 'rmse': 0.2297016724866146, 'mae': 0.1456492641616206}\n",
      "{'learning_rate': 0.2, 'n_estimators': 400, 'subsample': 0.3, 'rmse': 0.22930722889312058, 'mae': 0.14568282335467048}\n",
      "{'learning_rate': 0.2, 'n_estimators': 400, 'subsample': 0.5, 'rmse': 0.23001537169250108, 'mae': 0.14564086220583947}\n",
      "{'learning_rate': 0.2, 'n_estimators': 400, 'subsample': 0.9, 'rmse': 0.2299497321143687, 'mae': 0.14543155573485336}\n",
      "{'learning_rate': 0.2, 'n_estimators': 400, 'subsample': 1, 'rmse': 0.23016595406327023, 'mae': 0.14588331190813691}\n",
      "{'learning_rate': 0.2, 'n_estimators': 500, 'subsample': 0.3, 'rmse': 0.22953282663446892, 'mae': 0.14573969253919347}\n",
      "{'learning_rate': 0.2, 'n_estimators': 500, 'subsample': 0.5, 'rmse': 0.2306267871373117, 'mae': 0.14609974464781986}\n",
      "{'learning_rate': 0.2, 'n_estimators': 500, 'subsample': 0.9, 'rmse': 0.23004500437901723, 'mae': 0.14557327808422907}\n",
      "{'learning_rate': 0.2, 'n_estimators': 500, 'subsample': 1, 'rmse': 0.23015996181639112, 'mae': 0.14593999848294775}\n",
      "{'learning_rate': 0.5, 'n_estimators': 200, 'subsample': 0.3, 'rmse': 0.23988985029301035, 'mae': 0.15223076732813656}\n",
      "{'learning_rate': 0.5, 'n_estimators': 200, 'subsample': 0.5, 'rmse': 0.232845621548695, 'mae': 0.14781240991396694}\n",
      "{'learning_rate': 0.5, 'n_estimators': 200, 'subsample': 0.9, 'rmse': 0.2341107503362954, 'mae': 0.14864803679091304}\n",
      "{'learning_rate': 0.5, 'n_estimators': 200, 'subsample': 1, 'rmse': 0.23220775691331275, 'mae': 0.14750890594951319}\n",
      "{'learning_rate': 0.5, 'n_estimators': 300, 'subsample': 0.3, 'rmse': 0.2422596506891614, 'mae': 0.15380591412607023}\n",
      "{'learning_rate': 0.5, 'n_estimators': 300, 'subsample': 0.5, 'rmse': 0.2340720405390614, 'mae': 0.14884381685926987}\n",
      "{'learning_rate': 0.5, 'n_estimators': 300, 'subsample': 0.9, 'rmse': 0.23434873805907477, 'mae': 0.1489228580005637}\n",
      "{'learning_rate': 0.5, 'n_estimators': 300, 'subsample': 1, 'rmse': 0.2335598682009292, 'mae': 0.14848617701271025}\n",
      "{'learning_rate': 0.5, 'n_estimators': 400, 'subsample': 0.3, 'rmse': 0.24419434130371792, 'mae': 0.15528318624029008}\n",
      "{'learning_rate': 0.5, 'n_estimators': 400, 'subsample': 0.5, 'rmse': 0.23505788580097423, 'mae': 0.14962701798035338}\n",
      "{'learning_rate': 0.5, 'n_estimators': 400, 'subsample': 0.9, 'rmse': 0.23538462381110647, 'mae': 0.14978708470167548}\n",
      "{'learning_rate': 0.5, 'n_estimators': 400, 'subsample': 1, 'rmse': 0.23447526800187501, 'mae': 0.14924534441493936}\n",
      "{'learning_rate': 0.5, 'n_estimators': 500, 'subsample': 0.3, 'rmse': 0.24665709223527163, 'mae': 0.15716333033490573}\n",
      "{'learning_rate': 0.5, 'n_estimators': 500, 'subsample': 0.5, 'rmse': 0.2366029895764488, 'mae': 0.1509890877764277}\n",
      "{'learning_rate': 0.5, 'n_estimators': 500, 'subsample': 0.9, 'rmse': 0.2357544814928182, 'mae': 0.15010351556389964}\n",
      "{'learning_rate': 0.5, 'n_estimators': 500, 'subsample': 1, 'rmse': 0.23469542055862025, 'mae': 0.1495120211567962}\n",
      "{'learning_rate': 0.9, 'n_estimators': 200, 'subsample': 0.3, 'rmse': 0.2523499612938835, 'mae': 0.1582707710838835}\n",
      "{'learning_rate': 0.9, 'n_estimators': 200, 'subsample': 0.5, 'rmse': 0.24063758170628766, 'mae': 0.15306212337398326}\n",
      "{'learning_rate': 0.9, 'n_estimators': 200, 'subsample': 0.9, 'rmse': 0.23959913541538994, 'mae': 0.15306605474632737}\n",
      "{'learning_rate': 0.9, 'n_estimators': 200, 'subsample': 1, 'rmse': 0.23815537783929894, 'mae': 0.15212386104243547}\n",
      "{'learning_rate': 0.9, 'n_estimators': 300, 'subsample': 0.3, 'rmse': 0.26220601019351564, 'mae': 0.1632723296621157}\n",
      "{'learning_rate': 0.9, 'n_estimators': 300, 'subsample': 0.5, 'rmse': 0.24452427408959812, 'mae': 0.15648723419303393}\n",
      "{'learning_rate': 0.9, 'n_estimators': 300, 'subsample': 0.9, 'rmse': 0.23978670928135604, 'mae': 0.15369342119297108}\n",
      "{'learning_rate': 0.9, 'n_estimators': 300, 'subsample': 1, 'rmse': 0.23993570269399037, 'mae': 0.15370590358424152}\n",
      "{'learning_rate': 0.9, 'n_estimators': 400, 'subsample': 0.3, 'rmse': 0.2750759272201572, 'mae': 0.16592834519473232}\n",
      "{'learning_rate': 0.9, 'n_estimators': 400, 'subsample': 0.5, 'rmse': 0.24849749100915264, 'mae': 0.1591149390362939}\n",
      "{'learning_rate': 0.9, 'n_estimators': 400, 'subsample': 0.9, 'rmse': 0.24047546063360373, 'mae': 0.15467031469444803}\n",
      "{'learning_rate': 0.9, 'n_estimators': 400, 'subsample': 1, 'rmse': 0.24099290708572654, 'mae': 0.15487261475292663}\n",
      "{'learning_rate': 0.9, 'n_estimators': 500, 'subsample': 0.3, 'rmse': 0.2917081399870458, 'mae': 0.16873302344686608}\n",
      "{'learning_rate': 0.9, 'n_estimators': 500, 'subsample': 0.5, 'rmse': 0.25066419139496277, 'mae': 0.1610350800001078}\n",
      "{'learning_rate': 0.9, 'n_estimators': 500, 'subsample': 0.9, 'rmse': 0.2414083265962583, 'mae': 0.15568975828719328}\n",
      "{'learning_rate': 0.9, 'n_estimators': 500, 'subsample': 1, 'rmse': 0.24189248266400065, 'mae': 0.15632993260607977}\n"
     ]
    }
   ],
   "source": [
    "best_rmse_2=1000\n",
    "best_mae_2=1000\n",
    "for rate in params['learning_rate'] :\n",
    "    for estimator in params['n_estimators'] :\n",
    "        for subsample in params['subsample'] :\n",
    "            xgb_model = xgb.XGBRegressor(learning_rate= rate, n_estimators = estimator, subsample=subsample)\n",
    "            xgb_model.fit(X_train,y_train)\n",
    "            predictions=xgb_model.predict(X_test)\n",
    "            rmse=math.sqrt(mean_squared_error(y_test,predictions))\n",
    "            mae=mean_absolute_error(y_test,predictions)\n",
    "            \n",
    "            res_dict = {'learning_rate': rate, 'n_estimators': estimator, 'subsample': subsample, 'rmse' : rmse, 'mae' : mae }\n",
    "            result_df.append(res_dict, ignore_index=True)\n",
    "\n",
    "            print(res_dict)\n",
    "            \n",
    "            if(rmse<=best_rmse_2) :\n",
    "                if(mae < best_mae_2) :\n",
    "                    best_rmse_2 = rmse\n",
    "                    best_mae_2 = mae\n",
    "                    best_learning_rate_2 = rate\n",
    "                    best_n_estimators_2 = estimator\n",
    "                    best_subsample_2 = subsample\n",
    "            "
   ]
  },
  {
   "cell_type": "code",
   "execution_count": 302,
   "metadata": {},
   "outputs": [
    {
     "data": {
      "text/plain": [
       "0.21314307319297318"
      ]
     },
     "execution_count": 302,
     "metadata": {},
     "output_type": "execute_result"
    }
   ],
   "source": [
    "best_rmse_2"
   ]
  },
  {
   "cell_type": "code",
   "execution_count": 303,
   "metadata": {},
   "outputs": [
    {
     "data": {
      "text/plain": [
       "0.1530811937935574"
      ]
     },
     "execution_count": 303,
     "metadata": {},
     "output_type": "execute_result"
    }
   ],
   "source": [
    "best_mae_2"
   ]
  },
  {
   "cell_type": "markdown",
   "metadata": {},
   "source": [
    "#### Experiment : Optimization , using feature subset based on correlation graph"
   ]
  },
  {
   "cell_type": "code",
   "execution_count": 400,
   "metadata": {},
   "outputs": [
    {
     "data": {
      "text/plain": [
       "Index(['smog_index', 'wps', 'coleman_liau_index', 'linsear_write_formula',\n",
       "       'sentence_count', 'pos_no', 'neg_no', 'user_deviation', 'user_delay',\n",
       "       'no_of_reviews', 'lem_sim_length', 'overall'],\n",
       "      dtype='object')"
      ]
     },
     "execution_count": 400,
     "metadata": {},
     "output_type": "execute_result"
    }
   ],
   "source": [
    "X = text_df[[ 'smog_index', 'wps', 'coleman_liau_index',\n",
    "       'linsear_write_formula', 'sentence_count', 'pos_no', 'neg_no']]\n",
    "\n",
    "X=X.join(user_df[['user_deviation', 'user_delay','no_of_reviews']])\n",
    "\n",
    "X = X.join(meta_df[['lem_sim_length','overall']])\n",
    "\n",
    "X.columns"
   ]
  },
  {
   "cell_type": "code",
   "execution_count": 401,
   "metadata": {},
   "outputs": [
    {
     "data": {
      "text/html": [
       "<div>\n",
       "<style scoped>\n",
       "    .dataframe tbody tr th:only-of-type {\n",
       "        vertical-align: middle;\n",
       "    }\n",
       "\n",
       "    .dataframe tbody tr th {\n",
       "        vertical-align: top;\n",
       "    }\n",
       "\n",
       "    .dataframe thead th {\n",
       "        text-align: right;\n",
       "    }\n",
       "</style>\n",
       "<table border=\"1\" class=\"dataframe\">\n",
       "  <thead>\n",
       "    <tr style=\"text-align: right;\">\n",
       "      <th></th>\n",
       "      <th>smog_index</th>\n",
       "      <th>wps</th>\n",
       "      <th>coleman_liau_index</th>\n",
       "      <th>linsear_write_formula</th>\n",
       "      <th>sentence_count</th>\n",
       "      <th>pos_no</th>\n",
       "      <th>neg_no</th>\n",
       "      <th>user_deviation</th>\n",
       "      <th>user_delay</th>\n",
       "      <th>no_of_reviews</th>\n",
       "      <th>lem_sim_length</th>\n",
       "      <th>overall</th>\n",
       "    </tr>\n",
       "  </thead>\n",
       "  <tbody>\n",
       "    <tr>\n",
       "      <th>0</th>\n",
       "      <td>0.0</td>\n",
       "      <td>427.000000</td>\n",
       "      <td>7.69</td>\n",
       "      <td>14.000000</td>\n",
       "      <td>1</td>\n",
       "      <td>2</td>\n",
       "      <td>4</td>\n",
       "      <td>1.399189</td>\n",
       "      <td>10152000.0</td>\n",
       "      <td>1</td>\n",
       "      <td>13</td>\n",
       "      <td>1.0</td>\n",
       "    </tr>\n",
       "    <tr>\n",
       "      <th>1</th>\n",
       "      <td>0.0</td>\n",
       "      <td>423.000000</td>\n",
       "      <td>9.72</td>\n",
       "      <td>8.666667</td>\n",
       "      <td>2</td>\n",
       "      <td>18</td>\n",
       "      <td>8</td>\n",
       "      <td>0.624437</td>\n",
       "      <td>10886400.0</td>\n",
       "      <td>1</td>\n",
       "      <td>23</td>\n",
       "      <td>3.0</td>\n",
       "    </tr>\n",
       "    <tr>\n",
       "      <th>2</th>\n",
       "      <td>7.3</td>\n",
       "      <td>19.521739</td>\n",
       "      <td>5.92</td>\n",
       "      <td>7.666667</td>\n",
       "      <td>23</td>\n",
       "      <td>7</td>\n",
       "      <td>6</td>\n",
       "      <td>0.510375</td>\n",
       "      <td>7516800.0</td>\n",
       "      <td>1</td>\n",
       "      <td>16</td>\n",
       "      <td>2.0</td>\n",
       "    </tr>\n",
       "    <tr>\n",
       "      <th>3</th>\n",
       "      <td>10.8</td>\n",
       "      <td>12.800000</td>\n",
       "      <td>8.05</td>\n",
       "      <td>7.200000</td>\n",
       "      <td>5</td>\n",
       "      <td>2</td>\n",
       "      <td>0</td>\n",
       "      <td>0.442171</td>\n",
       "      <td>2678400.0</td>\n",
       "      <td>1</td>\n",
       "      <td>2</td>\n",
       "      <td>5.0</td>\n",
       "    </tr>\n",
       "    <tr>\n",
       "      <th>4</th>\n",
       "      <td>0.0</td>\n",
       "      <td>138.000000</td>\n",
       "      <td>8.09</td>\n",
       "      <td>4.400000</td>\n",
       "      <td>1</td>\n",
       "      <td>1</td>\n",
       "      <td>3</td>\n",
       "      <td>1.616074</td>\n",
       "      <td>7603200.0</td>\n",
       "      <td>1</td>\n",
       "      <td>2</td>\n",
       "      <td>1.0</td>\n",
       "    </tr>\n",
       "  </tbody>\n",
       "</table>\n",
       "</div>"
      ],
      "text/plain": [
       "   smog_index         wps  coleman_liau_index  linsear_write_formula  \\\n",
       "0         0.0  427.000000                7.69              14.000000   \n",
       "1         0.0  423.000000                9.72               8.666667   \n",
       "2         7.3   19.521739                5.92               7.666667   \n",
       "3        10.8   12.800000                8.05               7.200000   \n",
       "4         0.0  138.000000                8.09               4.400000   \n",
       "\n",
       "   sentence_count  pos_no  neg_no  user_deviation  user_delay  no_of_reviews  \\\n",
       "0               1       2       4        1.399189  10152000.0              1   \n",
       "1               2      18       8        0.624437  10886400.0              1   \n",
       "2              23       7       6        0.510375   7516800.0              1   \n",
       "3               5       2       0        0.442171   2678400.0              1   \n",
       "4               1       1       3        1.616074   7603200.0              1   \n",
       "\n",
       "   lem_sim_length  overall  \n",
       "0              13      1.0  \n",
       "1              23      3.0  \n",
       "2              16      2.0  \n",
       "3               2      5.0  \n",
       "4               2      1.0  "
      ]
     },
     "execution_count": 401,
     "metadata": {},
     "output_type": "execute_result"
    }
   ],
   "source": [
    "X.head()"
   ]
  },
  {
   "cell_type": "code",
   "execution_count": 402,
   "metadata": {
    "collapsed": true
   },
   "outputs": [],
   "source": [
    "y = review_df['helpfulness_score']\n",
    "\t\n",
    "X_train, X_test, y_train, y_test = train_test_split(X, y, test_size=0.4, random_state=101)"
   ]
  },
  {
   "cell_type": "code",
   "execution_count": 403,
   "metadata": {
    "collapsed": true
   },
   "outputs": [],
   "source": [
    "xgb_reg = xgb.XGBRegressor()"
   ]
  },
  {
   "cell_type": "code",
   "execution_count": 404,
   "metadata": {},
   "outputs": [
    {
     "name": "stdout",
     "output_type": "stream",
     "text": [
      "Best Learning Rate : 0.09 , Best No of Estimators : 400 , Best Subsample size : 0.9\n"
     ]
    }
   ],
   "source": [
    "print(\"Best Learning Rate : {} , Best No of Estimators : {} , Best Subsample size : {}\".format(best_learning_rate, best_n_estimators, best_subsample))"
   ]
  },
  {
   "cell_type": "code",
   "execution_count": 405,
   "metadata": {},
   "outputs": [
    {
     "data": {
      "text/plain": [
       "XGBRegressor(base_score=0.5, booster='gbtree', colsample_bylevel=1,\n",
       "       colsample_bytree=1, gamma=0, learning_rate=0.1, max_delta_step=0,\n",
       "       max_depth=3, min_child_weight=1, missing=None, n_estimators=100,\n",
       "       n_jobs=1, nthread=None, objective='reg:linear', random_state=0,\n",
       "       reg_alpha=0, reg_lambda=1, scale_pos_weight=1, seed=None,\n",
       "       silent=True, subsample=1)"
      ]
     },
     "execution_count": 405,
     "metadata": {},
     "output_type": "execute_result"
    }
   ],
   "source": [
    "xgb_reg.fit(X_train,y_train)"
   ]
  },
  {
   "cell_type": "code",
   "execution_count": 406,
   "metadata": {
    "collapsed": true
   },
   "outputs": [],
   "source": [
    "predictions=xgb_reg.predict(X_test)"
   ]
  },
  {
   "cell_type": "code",
   "execution_count": 407,
   "metadata": {},
   "outputs": [
    {
     "name": "stdout",
     "output_type": "stream",
     "text": [
      "Mean Squared Error (MSE):       0.03754420894859956\n",
      "Root Mean Squared Error (RMSE): 0.1937632807025097\n",
      "Mean Absolute Error (MAE):      0.13367795600713675\n"
     ]
    }
   ],
   "source": [
    "# MSE : Mean Squared Error\n",
    "mse=mean_squared_error(y_test,predictions)\n",
    "\n",
    "# RMSE : Root Mean Squared Error\n",
    "rmse=math.sqrt(mean_squared_error(y_test,predictions))\n",
    "\n",
    "# MAE : Mean Absolute Error\n",
    "mae=mean_absolute_error(y_test,predictions)\n",
    "\n",
    "print('Mean Squared Error (MSE):      ',mse)\n",
    "print('Root Mean Squared Error (RMSE):',rmse)\n",
    "print('Mean Absolute Error (MAE):     ',mae)"
   ]
  },
  {
   "cell_type": "markdown",
   "metadata": {},
   "source": [
    "### Extraction of User Early and Latest Review Times"
   ]
  },
  {
   "cell_type": "code",
   "execution_count": 6,
   "metadata": {},
   "outputs": [
    {
     "data": {
      "text/html": [
       "<div>\n",
       "<style scoped>\n",
       "    .dataframe tbody tr th:only-of-type {\n",
       "        vertical-align: middle;\n",
       "    }\n",
       "\n",
       "    .dataframe tbody tr th {\n",
       "        vertical-align: top;\n",
       "    }\n",
       "\n",
       "    .dataframe thead th {\n",
       "        text-align: right;\n",
       "    }\n",
       "</style>\n",
       "<table border=\"1\" class=\"dataframe\">\n",
       "  <thead>\n",
       "    <tr style=\"text-align: right;\">\n",
       "      <th></th>\n",
       "      <th>reviewerID</th>\n",
       "      <th>asin</th>\n",
       "      <th>reviewerName</th>\n",
       "      <th>helpful</th>\n",
       "      <th>reviewText</th>\n",
       "      <th>overall</th>\n",
       "      <th>summary</th>\n",
       "      <th>unixReviewTime</th>\n",
       "      <th>reviewTime</th>\n",
       "      <th>helpfulness_score</th>\n",
       "      <th>user_deviation</th>\n",
       "      <th>review_delay</th>\n",
       "      <th>stem_words</th>\n",
       "      <th>lem_words</th>\n",
       "      <th>stem_sim_words</th>\n",
       "      <th>lem_sim_words</th>\n",
       "    </tr>\n",
       "  </thead>\n",
       "  <tbody>\n",
       "    <tr>\n",
       "      <th>0</th>\n",
       "      <td>AMO214LNFCEI4</td>\n",
       "      <td>0528881469</td>\n",
       "      <td>Amazon Customer</td>\n",
       "      <td>[12, 15]</td>\n",
       "      <td>I'm a professional OTR truck driver, and I bou...</td>\n",
       "      <td>1.0</td>\n",
       "      <td>Very Disappointed</td>\n",
       "      <td>1290643200</td>\n",
       "      <td>11 25, 2010</td>\n",
       "      <td>0.800000</td>\n",
       "      <td>1.399189</td>\n",
       "      <td>6652800</td>\n",
       "      <td>['im', 'profession', 'otr', 'truck', 'driver',...</td>\n",
       "      <td>['im', 'professional', 'otr', 'truck', 'driver...</td>\n",
       "      <td>['5']</td>\n",
       "      <td>['rand', 'route', 'weight', 'take', 'time', 'l...</td>\n",
       "    </tr>\n",
       "    <tr>\n",
       "      <th>1</th>\n",
       "      <td>A3N7T0DY83Y4IG</td>\n",
       "      <td>0528881469</td>\n",
       "      <td>C. A. Freeman</td>\n",
       "      <td>[43, 45]</td>\n",
       "      <td>Well, what can I say.  I've had this unit in m...</td>\n",
       "      <td>3.0</td>\n",
       "      <td>1st impression</td>\n",
       "      <td>1283990400</td>\n",
       "      <td>09 9, 2010</td>\n",
       "      <td>0.955556</td>\n",
       "      <td>0.624437</td>\n",
       "      <td>0</td>\n",
       "      <td>['well', 'say', 'ive', 'unit', 'truck', 'four'...</td>\n",
       "      <td>['well', 'say', 'ive', 'unit', 'truck', 'four'...</td>\n",
       "      <td>[]</td>\n",
       "      <td>['dock', 'feature', 'car', 'determine', 'home'...</td>\n",
       "    </tr>\n",
       "    <tr>\n",
       "      <th>2</th>\n",
       "      <td>A1H8PY3QHMQQA0</td>\n",
       "      <td>0528881469</td>\n",
       "      <td>Dave M. Shaw \"mack dave\"</td>\n",
       "      <td>[9, 10]</td>\n",
       "      <td>Not going to write a long review, even thought...</td>\n",
       "      <td>2.0</td>\n",
       "      <td>Great grafics, POOR GPS</td>\n",
       "      <td>1290556800</td>\n",
       "      <td>11 24, 2010</td>\n",
       "      <td>0.900000</td>\n",
       "      <td>0.510375</td>\n",
       "      <td>6566400</td>\n",
       "      <td>['go', 'write', 'long', 'review', 'even', 'tho...</td>\n",
       "      <td>['going', 'write', 'long', 'review', 'even', '...</td>\n",
       "      <td>[]</td>\n",
       "      <td>['screen', 'road', 'rand', 'route', 'truck', '...</td>\n",
       "    </tr>\n",
       "    <tr>\n",
       "      <th>3</th>\n",
       "      <td>A3QH8VQDE7HZCR</td>\n",
       "      <td>0972683275</td>\n",
       "      <td>costaricachris</td>\n",
       "      <td>[15, 19]</td>\n",
       "      <td>Quality was excellent. Instructions were clear...</td>\n",
       "      <td>5.0</td>\n",
       "      <td>Real value for the money</td>\n",
       "      <td>1286236800</td>\n",
       "      <td>10 5, 2010</td>\n",
       "      <td>0.789474</td>\n",
       "      <td>0.442171</td>\n",
       "      <td>2678400</td>\n",
       "      <td>['qualiti', 'excel', 'instruct', 'clear', 'cle...</td>\n",
       "      <td>['quality', 'excellent', 'instruction', 'clear...</td>\n",
       "      <td>[]</td>\n",
       "      <td>['level', 'hardware']</td>\n",
       "    </tr>\n",
       "    <tr>\n",
       "      <th>4</th>\n",
       "      <td>A38FGQVJM18OWV</td>\n",
       "      <td>0972683275</td>\n",
       "      <td>George S. Mitchell \"gsmitchell\"</td>\n",
       "      <td>[8, 18]</td>\n",
       "      <td>I checked around Amazon as well as some other ...</td>\n",
       "      <td>1.0</td>\n",
       "      <td>What a piece of junk!</td>\n",
       "      <td>1291161600</td>\n",
       "      <td>12 1, 2010</td>\n",
       "      <td>0.444444</td>\n",
       "      <td>1.616074</td>\n",
       "      <td>7603200</td>\n",
       "      <td>['check', 'around', 'amazon', 'well', 'site', ...</td>\n",
       "      <td>['checked', 'around', 'amazon', 'well', 'site'...</td>\n",
       "      <td>[]</td>\n",
       "      <td>['tv', 'mount']</td>\n",
       "    </tr>\n",
       "  </tbody>\n",
       "</table>\n",
       "</div>"
      ],
      "text/plain": [
       "       reviewerID        asin                     reviewerName   helpful  \\\n",
       "0   AMO214LNFCEI4  0528881469                  Amazon Customer  [12, 15]   \n",
       "1  A3N7T0DY83Y4IG  0528881469                    C. A. Freeman  [43, 45]   \n",
       "2  A1H8PY3QHMQQA0  0528881469         Dave M. Shaw \"mack dave\"   [9, 10]   \n",
       "3  A3QH8VQDE7HZCR  0972683275                   costaricachris  [15, 19]   \n",
       "4  A38FGQVJM18OWV  0972683275  George S. Mitchell \"gsmitchell\"   [8, 18]   \n",
       "\n",
       "                                          reviewText  overall  \\\n",
       "0  I'm a professional OTR truck driver, and I bou...      1.0   \n",
       "1  Well, what can I say.  I've had this unit in m...      3.0   \n",
       "2  Not going to write a long review, even thought...      2.0   \n",
       "3  Quality was excellent. Instructions were clear...      5.0   \n",
       "4  I checked around Amazon as well as some other ...      1.0   \n",
       "\n",
       "                    summary  unixReviewTime   reviewTime  helpfulness_score  \\\n",
       "0         Very Disappointed      1290643200  11 25, 2010           0.800000   \n",
       "1            1st impression      1283990400   09 9, 2010           0.955556   \n",
       "2   Great grafics, POOR GPS      1290556800  11 24, 2010           0.900000   \n",
       "3  Real value for the money      1286236800   10 5, 2010           0.789474   \n",
       "4     What a piece of junk!      1291161600   12 1, 2010           0.444444   \n",
       "\n",
       "   user_deviation  review_delay  \\\n",
       "0        1.399189       6652800   \n",
       "1        0.624437             0   \n",
       "2        0.510375       6566400   \n",
       "3        0.442171       2678400   \n",
       "4        1.616074       7603200   \n",
       "\n",
       "                                          stem_words  \\\n",
       "0  ['im', 'profession', 'otr', 'truck', 'driver',...   \n",
       "1  ['well', 'say', 'ive', 'unit', 'truck', 'four'...   \n",
       "2  ['go', 'write', 'long', 'review', 'even', 'tho...   \n",
       "3  ['qualiti', 'excel', 'instruct', 'clear', 'cle...   \n",
       "4  ['check', 'around', 'amazon', 'well', 'site', ...   \n",
       "\n",
       "                                           lem_words stem_sim_words  \\\n",
       "0  ['im', 'professional', 'otr', 'truck', 'driver...          ['5']   \n",
       "1  ['well', 'say', 'ive', 'unit', 'truck', 'four'...             []   \n",
       "2  ['going', 'write', 'long', 'review', 'even', '...             []   \n",
       "3  ['quality', 'excellent', 'instruction', 'clear...             []   \n",
       "4  ['checked', 'around', 'amazon', 'well', 'site'...             []   \n",
       "\n",
       "                                       lem_sim_words  \n",
       "0  ['rand', 'route', 'weight', 'take', 'time', 'l...  \n",
       "1  ['dock', 'feature', 'car', 'determine', 'home'...  \n",
       "2  ['screen', 'road', 'rand', 'route', 'truck', '...  \n",
       "3                              ['level', 'hardware']  \n",
       "4                                    ['tv', 'mount']  "
      ]
     },
     "execution_count": 6,
     "metadata": {},
     "output_type": "execute_result"
    }
   ],
   "source": [
    "review_df.head()"
   ]
  },
  {
   "cell_type": "code",
   "execution_count": 14,
   "metadata": {
    "collapsed": true
   },
   "outputs": [],
   "source": [
    "reviewer = review_df.groupby(['reviewerID'])"
   ]
  },
  {
   "cell_type": "code",
   "execution_count": 15,
   "metadata": {
    "collapsed": true
   },
   "outputs": [],
   "source": [
    "reviewer1 = reviewer['unixReviewTime'].min()"
   ]
  },
  {
   "cell_type": "code",
   "execution_count": 16,
   "metadata": {
    "collapsed": true
   },
   "outputs": [],
   "source": [
    "reviewer2 = reviewer['unixReviewTime'].max()"
   ]
  },
  {
   "cell_type": "code",
   "execution_count": 17,
   "metadata": {
    "collapsed": true
   },
   "outputs": [],
   "source": [
    "reviewer3 = reviewer2 - reviewer1"
   ]
  },
  {
   "cell_type": "code",
   "execution_count": 18,
   "metadata": {
    "collapsed": true
   },
   "outputs": [],
   "source": [
    "reviewer4 = reviewer3/86400"
   ]
  },
  {
   "cell_type": "code",
   "execution_count": 19,
   "metadata": {},
   "outputs": [
    {
     "data": {
      "text/plain": [
       "reviewerID\n",
       "A0103849GBVWICKXD4T6       0.0\n",
       "A0191512Q2Z9IPUAE2RZ       0.0\n",
       "A0266076X6KPZ6CCHGVS       0.0\n",
       "A05793033A673QTUT56XZ    338.0\n",
       "A09899451IM4ZNZEJQXHO      0.0\n",
       "Name: unixReviewTime, dtype: float64"
      ]
     },
     "execution_count": 19,
     "metadata": {},
     "output_type": "execute_result"
    }
   ],
   "source": [
    "reviewer4.head()"
   ]
  },
  {
   "cell_type": "code",
   "execution_count": 20,
   "metadata": {
    "collapsed": true
   },
   "outputs": [],
   "source": [
    "def get_reviewer_days(reviewerID) :\n",
    "    return reviewer4.loc[reviewerID]"
   ]
  },
  {
   "cell_type": "code",
   "execution_count": 21,
   "metadata": {
    "collapsed": true
   },
   "outputs": [],
   "source": [
    "user_df['reviewer_days'] = user_df['reviewerID'].apply(get_reviewer_days)"
   ]
  },
  {
   "cell_type": "code",
   "execution_count": 22,
   "metadata": {},
   "outputs": [
    {
     "data": {
      "text/html": [
       "<div>\n",
       "<style scoped>\n",
       "    .dataframe tbody tr th:only-of-type {\n",
       "        vertical-align: middle;\n",
       "    }\n",
       "\n",
       "    .dataframe tbody tr th {\n",
       "        vertical-align: top;\n",
       "    }\n",
       "\n",
       "    .dataframe thead th {\n",
       "        text-align: right;\n",
       "    }\n",
       "</style>\n",
       "<table border=\"1\" class=\"dataframe\">\n",
       "  <thead>\n",
       "    <tr style=\"text-align: right;\">\n",
       "      <th></th>\n",
       "      <th>reviewerID</th>\n",
       "      <th>reviewerName</th>\n",
       "      <th>reviewText</th>\n",
       "      <th>user_deviation</th>\n",
       "      <th>user_delay</th>\n",
       "      <th>helpful_votes</th>\n",
       "      <th>total_votes</th>\n",
       "      <th>no_of_reviews</th>\n",
       "      <th>all_helpful_votes</th>\n",
       "      <th>all_total_votes</th>\n",
       "      <th>all_no_of_reviews</th>\n",
       "      <th>reviewer_days</th>\n",
       "    </tr>\n",
       "  </thead>\n",
       "  <tbody>\n",
       "    <tr>\n",
       "      <th>0</th>\n",
       "      <td>AMO214LNFCEI4</td>\n",
       "      <td>Amazon Customer</td>\n",
       "      <td>I'm a professional OTR truck driver, and I bou...</td>\n",
       "      <td>1.399189</td>\n",
       "      <td>10152000.0</td>\n",
       "      <td>12</td>\n",
       "      <td>15</td>\n",
       "      <td>1</td>\n",
       "      <td>12</td>\n",
       "      <td>15</td>\n",
       "      <td>4</td>\n",
       "      <td>260.0</td>\n",
       "    </tr>\n",
       "    <tr>\n",
       "      <th>1</th>\n",
       "      <td>A3N7T0DY83Y4IG</td>\n",
       "      <td>C. A. Freeman</td>\n",
       "      <td>Well, what can I say.  I've had this unit in m...</td>\n",
       "      <td>0.624437</td>\n",
       "      <td>10886400.0</td>\n",
       "      <td>11</td>\n",
       "      <td>11</td>\n",
       "      <td>1</td>\n",
       "      <td>15</td>\n",
       "      <td>21</td>\n",
       "      <td>11</td>\n",
       "      <td>1390.0</td>\n",
       "    </tr>\n",
       "    <tr>\n",
       "      <th>2</th>\n",
       "      <td>A1H8PY3QHMQQA0</td>\n",
       "      <td>Dave M. Shaw \"mack dave\"</td>\n",
       "      <td>Not going to write a long review, even thought...</td>\n",
       "      <td>0.510375</td>\n",
       "      <td>7516800.0</td>\n",
       "      <td>17</td>\n",
       "      <td>18</td>\n",
       "      <td>1</td>\n",
       "      <td>24</td>\n",
       "      <td>30</td>\n",
       "      <td>21</td>\n",
       "      <td>929.0</td>\n",
       "    </tr>\n",
       "    <tr>\n",
       "      <th>3</th>\n",
       "      <td>A3QH8VQDE7HZCR</td>\n",
       "      <td>costaricachris</td>\n",
       "      <td>Quality was excellent. Instructions were clear...</td>\n",
       "      <td>0.442171</td>\n",
       "      <td>2678400.0</td>\n",
       "      <td>15</td>\n",
       "      <td>19</td>\n",
       "      <td>1</td>\n",
       "      <td>17</td>\n",
       "      <td>24</td>\n",
       "      <td>6</td>\n",
       "      <td>0.0</td>\n",
       "    </tr>\n",
       "    <tr>\n",
       "      <th>4</th>\n",
       "      <td>A38FGQVJM18OWV</td>\n",
       "      <td>George S. Mitchell \"gsmitchell\"</td>\n",
       "      <td>I checked around Amazon as well as some other ...</td>\n",
       "      <td>1.616074</td>\n",
       "      <td>7603200.0</td>\n",
       "      <td>8</td>\n",
       "      <td>18</td>\n",
       "      <td>1</td>\n",
       "      <td>8</td>\n",
       "      <td>18</td>\n",
       "      <td>5</td>\n",
       "      <td>0.0</td>\n",
       "    </tr>\n",
       "  </tbody>\n",
       "</table>\n",
       "</div>"
      ],
      "text/plain": [
       "       reviewerID                     reviewerName  \\\n",
       "0   AMO214LNFCEI4                  Amazon Customer   \n",
       "1  A3N7T0DY83Y4IG                    C. A. Freeman   \n",
       "2  A1H8PY3QHMQQA0         Dave M. Shaw \"mack dave\"   \n",
       "3  A3QH8VQDE7HZCR                   costaricachris   \n",
       "4  A38FGQVJM18OWV  George S. Mitchell \"gsmitchell\"   \n",
       "\n",
       "                                          reviewText  user_deviation  \\\n",
       "0  I'm a professional OTR truck driver, and I bou...        1.399189   \n",
       "1  Well, what can I say.  I've had this unit in m...        0.624437   \n",
       "2  Not going to write a long review, even thought...        0.510375   \n",
       "3  Quality was excellent. Instructions were clear...        0.442171   \n",
       "4  I checked around Amazon as well as some other ...        1.616074   \n",
       "\n",
       "   user_delay  helpful_votes  total_votes  no_of_reviews  all_helpful_votes  \\\n",
       "0  10152000.0             12           15              1                 12   \n",
       "1  10886400.0             11           11              1                 15   \n",
       "2   7516800.0             17           18              1                 24   \n",
       "3   2678400.0             15           19              1                 17   \n",
       "4   7603200.0              8           18              1                  8   \n",
       "\n",
       "   all_total_votes  all_no_of_reviews  reviewer_days  \n",
       "0               15                  4          260.0  \n",
       "1               21                 11         1390.0  \n",
       "2               30                 21          929.0  \n",
       "3               24                  6            0.0  \n",
       "4               18                  5            0.0  "
      ]
     },
     "execution_count": 22,
     "metadata": {},
     "output_type": "execute_result"
    }
   ],
   "source": [
    "user_df.head()"
   ]
  },
  {
   "cell_type": "code",
   "execution_count": 23,
   "metadata": {
    "collapsed": true
   },
   "outputs": [],
   "source": [
    "user_df.to_csv('User_DF.csv',index=False)"
   ]
  },
  {
   "cell_type": "code",
   "execution_count": 445,
   "metadata": {},
   "outputs": [
    {
     "data": {
      "text/plain": [
       "51239"
      ]
     },
     "execution_count": 445,
     "metadata": {},
     "output_type": "execute_result"
    }
   ],
   "source": [
    "len(user_df[user_df['reviewer_days'] != 0])"
   ]
  },
  {
   "cell_type": "code",
   "execution_count": 446,
   "metadata": {},
   "outputs": [
    {
     "data": {
      "text/plain": [
       "0.4892931408087923"
      ]
     },
     "execution_count": 446,
     "metadata": {},
     "output_type": "execute_result"
    }
   ],
   "source": [
    "user_df['reviewer_days'].corr(user_df['no_of_reviews'])"
   ]
  },
  {
   "cell_type": "markdown",
   "metadata": {},
   "source": [
    "### Experiment - usage of reviewer days"
   ]
  },
  {
   "cell_type": "code",
   "execution_count": 716,
   "metadata": {},
   "outputs": [
    {
     "data": {
      "text/plain": [
       "Index(['flesch_reading_ease', 'smog_index', 'flesch_kincaid_grade',\n",
       "       'coleman_liau_index', 'automated_readability_index',\n",
       "       'dale_chall_readability_score', 'difficult_words',\n",
       "       'linsear_write_formula', 'gunning_fog', 'sentence_count', 'wps',\n",
       "       'review_length', 'pos_no', 'neg_no', 'user_deviation', 'user_delay',\n",
       "       'no_of_reviews', 'reviewer_days', 'epsilon', 'stem_sim_length',\n",
       "       'lem_sim_length', 'overall'],\n",
       "      dtype='object')"
      ]
     },
     "execution_count": 716,
     "metadata": {},
     "output_type": "execute_result"
    }
   ],
   "source": [
    "X = text_df[['flesch_reading_ease', \n",
    "       'smog_index', 'flesch_kincaid_grade', 'coleman_liau_index',\n",
    "       'automated_readability_index', 'dale_chall_readability_score',\n",
    "       'difficult_words', 'linsear_write_formula', 'gunning_fog',\n",
    "       'sentence_count', 'wps', 'review_length', 'pos_no', 'neg_no']]\n",
    "\n",
    "X=X.join(user_df[['user_deviation', 'user_delay','no_of_reviews', 'reviewer_days','epsilon']])\n",
    "\n",
    "X = X.join(meta_df[['stem_sim_length','lem_sim_length','overall']])\n",
    "\n",
    "X.columns"
   ]
  },
  {
   "cell_type": "code",
   "execution_count": 717,
   "metadata": {},
   "outputs": [
    {
     "data": {
      "text/html": [
       "<div>\n",
       "<style scoped>\n",
       "    .dataframe tbody tr th:only-of-type {\n",
       "        vertical-align: middle;\n",
       "    }\n",
       "\n",
       "    .dataframe tbody tr th {\n",
       "        vertical-align: top;\n",
       "    }\n",
       "\n",
       "    .dataframe thead th {\n",
       "        text-align: right;\n",
       "    }\n",
       "</style>\n",
       "<table border=\"1\" class=\"dataframe\">\n",
       "  <thead>\n",
       "    <tr style=\"text-align: right;\">\n",
       "      <th></th>\n",
       "      <th>flesch_reading_ease</th>\n",
       "      <th>smog_index</th>\n",
       "      <th>flesch_kincaid_grade</th>\n",
       "      <th>coleman_liau_index</th>\n",
       "      <th>automated_readability_index</th>\n",
       "      <th>dale_chall_readability_score</th>\n",
       "      <th>difficult_words</th>\n",
       "      <th>linsear_write_formula</th>\n",
       "      <th>gunning_fog</th>\n",
       "      <th>sentence_count</th>\n",
       "      <th>...</th>\n",
       "      <th>pos_no</th>\n",
       "      <th>neg_no</th>\n",
       "      <th>user_deviation</th>\n",
       "      <th>user_delay</th>\n",
       "      <th>no_of_reviews</th>\n",
       "      <th>reviewer_days</th>\n",
       "      <th>epsilon</th>\n",
       "      <th>stem_sim_length</th>\n",
       "      <th>lem_sim_length</th>\n",
       "      <th>overall</th>\n",
       "    </tr>\n",
       "  </thead>\n",
       "  <tbody>\n",
       "    <tr>\n",
       "      <th>0</th>\n",
       "      <td>-336.56</td>\n",
       "      <td>0.0</td>\n",
       "      <td>166.3</td>\n",
       "      <td>7.69</td>\n",
       "      <td>211.1</td>\n",
       "      <td>26.44</td>\n",
       "      <td>44</td>\n",
       "      <td>14.000000</td>\n",
       "      <td>176.92</td>\n",
       "      <td>1</td>\n",
       "      <td>...</td>\n",
       "      <td>2</td>\n",
       "      <td>4</td>\n",
       "      <td>1.399189</td>\n",
       "      <td>10152000.0</td>\n",
       "      <td>1</td>\n",
       "      <td>260.0</td>\n",
       "      <td>0.007663</td>\n",
       "      <td>15</td>\n",
       "      <td>13</td>\n",
       "      <td>1.0</td>\n",
       "    </tr>\n",
       "    <tr>\n",
       "      <th>1</th>\n",
       "      <td>-340.96</td>\n",
       "      <td>0.0</td>\n",
       "      <td>165.9</td>\n",
       "      <td>9.72</td>\n",
       "      <td>210.8</td>\n",
       "      <td>26.37</td>\n",
       "      <td>94</td>\n",
       "      <td>8.666667</td>\n",
       "      <td>175.64</td>\n",
       "      <td>2</td>\n",
       "      <td>...</td>\n",
       "      <td>18</td>\n",
       "      <td>8</td>\n",
       "      <td>0.624437</td>\n",
       "      <td>10886400.0</td>\n",
       "      <td>1</td>\n",
       "      <td>1390.0</td>\n",
       "      <td>0.001438</td>\n",
       "      <td>24</td>\n",
       "      <td>23</td>\n",
       "      <td>3.0</td>\n",
       "    </tr>\n",
       "    <tr>\n",
       "      <th>2</th>\n",
       "      <td>85.52</td>\n",
       "      <td>7.3</td>\n",
       "      <td>6.2</td>\n",
       "      <td>5.92</td>\n",
       "      <td>7.2</td>\n",
       "      <td>5.87</td>\n",
       "      <td>36</td>\n",
       "      <td>7.666667</td>\n",
       "      <td>13.01</td>\n",
       "      <td>23</td>\n",
       "      <td>...</td>\n",
       "      <td>7</td>\n",
       "      <td>6</td>\n",
       "      <td>0.510375</td>\n",
       "      <td>7516800.0</td>\n",
       "      <td>1</td>\n",
       "      <td>929.0</td>\n",
       "      <td>0.002151</td>\n",
       "      <td>17</td>\n",
       "      <td>16</td>\n",
       "      <td>2.0</td>\n",
       "    </tr>\n",
       "    <tr>\n",
       "      <th>3</th>\n",
       "      <td>66.94</td>\n",
       "      <td>10.8</td>\n",
       "      <td>7.1</td>\n",
       "      <td>8.05</td>\n",
       "      <td>6.3</td>\n",
       "      <td>6.99</td>\n",
       "      <td>11</td>\n",
       "      <td>7.200000</td>\n",
       "      <td>14.00</td>\n",
       "      <td>5</td>\n",
       "      <td>...</td>\n",
       "      <td>2</td>\n",
       "      <td>0</td>\n",
       "      <td>0.442171</td>\n",
       "      <td>2678400.0</td>\n",
       "      <td>1</td>\n",
       "      <td>0.0</td>\n",
       "      <td>2.000000</td>\n",
       "      <td>2</td>\n",
       "      <td>2</td>\n",
       "      <td>5.0</td>\n",
       "    </tr>\n",
       "    <tr>\n",
       "      <th>4</th>\n",
       "      <td>-43.22</td>\n",
       "      <td>0.0</td>\n",
       "      <td>53.6</td>\n",
       "      <td>8.09</td>\n",
       "      <td>67.2</td>\n",
       "      <td>12.20</td>\n",
       "      <td>15</td>\n",
       "      <td>4.400000</td>\n",
       "      <td>61.55</td>\n",
       "      <td>1</td>\n",
       "      <td>...</td>\n",
       "      <td>1</td>\n",
       "      <td>3</td>\n",
       "      <td>1.616074</td>\n",
       "      <td>7603200.0</td>\n",
       "      <td>1</td>\n",
       "      <td>0.0</td>\n",
       "      <td>2.000000</td>\n",
       "      <td>2</td>\n",
       "      <td>2</td>\n",
       "      <td>1.0</td>\n",
       "    </tr>\n",
       "  </tbody>\n",
       "</table>\n",
       "<p>5 rows × 22 columns</p>\n",
       "</div>"
      ],
      "text/plain": [
       "   flesch_reading_ease  smog_index  flesch_kincaid_grade  coleman_liau_index  \\\n",
       "0              -336.56         0.0                 166.3                7.69   \n",
       "1              -340.96         0.0                 165.9                9.72   \n",
       "2                85.52         7.3                   6.2                5.92   \n",
       "3                66.94        10.8                   7.1                8.05   \n",
       "4               -43.22         0.0                  53.6                8.09   \n",
       "\n",
       "   automated_readability_index  dale_chall_readability_score  difficult_words  \\\n",
       "0                        211.1                         26.44               44   \n",
       "1                        210.8                         26.37               94   \n",
       "2                          7.2                          5.87               36   \n",
       "3                          6.3                          6.99               11   \n",
       "4                         67.2                         12.20               15   \n",
       "\n",
       "   linsear_write_formula  gunning_fog  sentence_count   ...     pos_no  \\\n",
       "0              14.000000       176.92               1   ...          2   \n",
       "1               8.666667       175.64               2   ...         18   \n",
       "2               7.666667        13.01              23   ...          7   \n",
       "3               7.200000        14.00               5   ...          2   \n",
       "4               4.400000        61.55               1   ...          1   \n",
       "\n",
       "   neg_no  user_deviation  user_delay  no_of_reviews  reviewer_days   epsilon  \\\n",
       "0       4        1.399189  10152000.0              1          260.0  0.007663   \n",
       "1       8        0.624437  10886400.0              1         1390.0  0.001438   \n",
       "2       6        0.510375   7516800.0              1          929.0  0.002151   \n",
       "3       0        0.442171   2678400.0              1            0.0  2.000000   \n",
       "4       3        1.616074   7603200.0              1            0.0  2.000000   \n",
       "\n",
       "   stem_sim_length  lem_sim_length  overall  \n",
       "0               15              13      1.0  \n",
       "1               24              23      3.0  \n",
       "2               17              16      2.0  \n",
       "3                2               2      5.0  \n",
       "4                2               2      1.0  \n",
       "\n",
       "[5 rows x 22 columns]"
      ]
     },
     "execution_count": 717,
     "metadata": {},
     "output_type": "execute_result"
    }
   ],
   "source": [
    "X.head()"
   ]
  },
  {
   "cell_type": "code",
   "execution_count": 718,
   "metadata": {
    "collapsed": true
   },
   "outputs": [],
   "source": [
    "y = review_df['helpfulness_score']\n",
    "\t\n",
    "X_train, X_test, y_train, y_test = train_test_split(X, y, test_size=0.4, random_state=101)"
   ]
  },
  {
   "cell_type": "code",
   "execution_count": 719,
   "metadata": {
    "collapsed": true
   },
   "outputs": [],
   "source": [
    "xgb_reg = xgb.XGBRegressor()"
   ]
  },
  {
   "cell_type": "code",
   "execution_count": 720,
   "metadata": {},
   "outputs": [
    {
     "name": "stdout",
     "output_type": "stream",
     "text": [
      "Best Learning Rate : 0.09 , Best No of Estimators : 400 , Best Subsample size : 0.9\n"
     ]
    }
   ],
   "source": [
    "print(\"Best Learning Rate : {} , Best No of Estimators : {} , Best Subsample size : {}\".format(best_learning_rate, best_n_estimators, best_subsample))"
   ]
  },
  {
   "cell_type": "code",
   "execution_count": 721,
   "metadata": {},
   "outputs": [
    {
     "data": {
      "text/plain": [
       "XGBRegressor(base_score=0.5, booster='gbtree', colsample_bylevel=1,\n",
       "       colsample_bytree=1, gamma=0, learning_rate=0.1, max_delta_step=0,\n",
       "       max_depth=3, min_child_weight=1, missing=None, n_estimators=100,\n",
       "       n_jobs=1, nthread=None, objective='reg:linear', random_state=0,\n",
       "       reg_alpha=0, reg_lambda=1, scale_pos_weight=1, seed=None,\n",
       "       silent=True, subsample=1)"
      ]
     },
     "execution_count": 721,
     "metadata": {},
     "output_type": "execute_result"
    }
   ],
   "source": [
    "xgb_reg.fit(X_train,y_train)"
   ]
  },
  {
   "cell_type": "code",
   "execution_count": 722,
   "metadata": {
    "collapsed": true
   },
   "outputs": [],
   "source": [
    "predictions=xgb_reg.predict(X_test)"
   ]
  },
  {
   "cell_type": "code",
   "execution_count": 723,
   "metadata": {},
   "outputs": [
    {
     "name": "stdout",
     "output_type": "stream",
     "text": [
      "Mean Squared Error (MSE):       0.03717392871490753\n",
      "Root Mean Squared Error (RMSE): 0.19280541671568133\n",
      "Mean Absolute Error (MAE):      0.1329168852217482\n"
     ]
    }
   ],
   "source": [
    "# MSE : Mean Squared Error\n",
    "mse=mean_squared_error(y_test,predictions)\n",
    "\n",
    "# RMSE : Root Mean Squared Error\n",
    "rmse=math.sqrt(mean_squared_error(y_test,predictions))\n",
    "\n",
    "# MAE : Mean Absolute Error\n",
    "mae=mean_absolute_error(y_test,predictions)\n",
    "\n",
    "print('Mean Squared Error (MSE):      ',mse)\n",
    "print('Root Mean Squared Error (RMSE):',rmse)\n",
    "print('Mean Absolute Error (MAE):     ',mae)"
   ]
  },
  {
   "cell_type": "code",
   "execution_count": 576,
   "metadata": {},
   "outputs": [
    {
     "ename": "KeyboardInterrupt",
     "evalue": "",
     "output_type": "error",
     "traceback": [
      "\u001b[1;31m---------------------------------------------------------------------------\u001b[0m",
      "\u001b[1;31mKeyboardInterrupt\u001b[0m                         Traceback (most recent call last)",
      "\u001b[1;32m<ipython-input-576-d2f0d49ce402>\u001b[0m in \u001b[0;36m<module>\u001b[1;34m()\u001b[0m\n\u001b[0;32m      5\u001b[0m         \u001b[1;32mfor\u001b[0m \u001b[0msubsample\u001b[0m \u001b[1;32min\u001b[0m \u001b[0mparams\u001b[0m\u001b[1;33m[\u001b[0m\u001b[1;34m'subsample'\u001b[0m\u001b[1;33m]\u001b[0m \u001b[1;33m:\u001b[0m\u001b[1;33m\u001b[0m\u001b[0m\n\u001b[0;32m      6\u001b[0m             \u001b[0mxgb_model\u001b[0m \u001b[1;33m=\u001b[0m \u001b[0mxgb\u001b[0m\u001b[1;33m.\u001b[0m\u001b[0mXGBRegressor\u001b[0m\u001b[1;33m(\u001b[0m\u001b[0mlearning_rate\u001b[0m\u001b[1;33m=\u001b[0m \u001b[0mrate\u001b[0m\u001b[1;33m,\u001b[0m \u001b[0mn_estimators\u001b[0m \u001b[1;33m=\u001b[0m \u001b[0mestimator\u001b[0m\u001b[1;33m,\u001b[0m \u001b[0msubsample\u001b[0m\u001b[1;33m=\u001b[0m\u001b[0msubsample\u001b[0m\u001b[1;33m)\u001b[0m\u001b[1;33m\u001b[0m\u001b[0m\n\u001b[1;32m----> 7\u001b[1;33m             \u001b[0mxgb_model\u001b[0m\u001b[1;33m.\u001b[0m\u001b[0mfit\u001b[0m\u001b[1;33m(\u001b[0m\u001b[0mX_train\u001b[0m\u001b[1;33m,\u001b[0m\u001b[0my_train\u001b[0m\u001b[1;33m)\u001b[0m\u001b[1;33m\u001b[0m\u001b[0m\n\u001b[0m\u001b[0;32m      8\u001b[0m             \u001b[0mpredictions\u001b[0m\u001b[1;33m=\u001b[0m\u001b[0mxgb_model\u001b[0m\u001b[1;33m.\u001b[0m\u001b[0mpredict\u001b[0m\u001b[1;33m(\u001b[0m\u001b[0mX_test\u001b[0m\u001b[1;33m)\u001b[0m\u001b[1;33m\u001b[0m\u001b[0m\n\u001b[0;32m      9\u001b[0m             \u001b[0mrmse\u001b[0m\u001b[1;33m=\u001b[0m\u001b[0mmath\u001b[0m\u001b[1;33m.\u001b[0m\u001b[0msqrt\u001b[0m\u001b[1;33m(\u001b[0m\u001b[0mmean_squared_error\u001b[0m\u001b[1;33m(\u001b[0m\u001b[0my_test\u001b[0m\u001b[1;33m,\u001b[0m\u001b[0mpredictions\u001b[0m\u001b[1;33m)\u001b[0m\u001b[1;33m)\u001b[0m\u001b[1;33m\u001b[0m\u001b[0m\n",
      "\u001b[1;32mC:\\Users\\Trishul\\Anaconda3\\lib\\site-packages\\xgboost\\sklearn.py\u001b[0m in \u001b[0;36mfit\u001b[1;34m(self, X, y, sample_weight, eval_set, eval_metric, early_stopping_rounds, verbose, xgb_model, sample_weight_eval_set, callbacks)\u001b[0m\n\u001b[0;32m    371\u001b[0m                               \u001b[0mevals_result\u001b[0m\u001b[1;33m=\u001b[0m\u001b[0mevals_result\u001b[0m\u001b[1;33m,\u001b[0m \u001b[0mobj\u001b[0m\u001b[1;33m=\u001b[0m\u001b[0mobj\u001b[0m\u001b[1;33m,\u001b[0m \u001b[0mfeval\u001b[0m\u001b[1;33m=\u001b[0m\u001b[0mfeval\u001b[0m\u001b[1;33m,\u001b[0m\u001b[1;33m\u001b[0m\u001b[0m\n\u001b[0;32m    372\u001b[0m                               \u001b[0mverbose_eval\u001b[0m\u001b[1;33m=\u001b[0m\u001b[0mverbose\u001b[0m\u001b[1;33m,\u001b[0m \u001b[0mxgb_model\u001b[0m\u001b[1;33m=\u001b[0m\u001b[0mxgb_model\u001b[0m\u001b[1;33m,\u001b[0m\u001b[1;33m\u001b[0m\u001b[0m\n\u001b[1;32m--> 373\u001b[1;33m                               callbacks=callbacks)\n\u001b[0m\u001b[0;32m    374\u001b[0m \u001b[1;33m\u001b[0m\u001b[0m\n\u001b[0;32m    375\u001b[0m         \u001b[1;32mif\u001b[0m \u001b[0mevals_result\u001b[0m\u001b[1;33m:\u001b[0m\u001b[1;33m\u001b[0m\u001b[0m\n",
      "\u001b[1;32mC:\\Users\\Trishul\\Anaconda3\\lib\\site-packages\\xgboost\\training.py\u001b[0m in \u001b[0;36mtrain\u001b[1;34m(params, dtrain, num_boost_round, evals, obj, feval, maximize, early_stopping_rounds, evals_result, verbose_eval, xgb_model, callbacks, learning_rates)\u001b[0m\n\u001b[0;32m    214\u001b[0m                            \u001b[0mevals\u001b[0m\u001b[1;33m=\u001b[0m\u001b[0mevals\u001b[0m\u001b[1;33m,\u001b[0m\u001b[1;33m\u001b[0m\u001b[0m\n\u001b[0;32m    215\u001b[0m                            \u001b[0mobj\u001b[0m\u001b[1;33m=\u001b[0m\u001b[0mobj\u001b[0m\u001b[1;33m,\u001b[0m \u001b[0mfeval\u001b[0m\u001b[1;33m=\u001b[0m\u001b[0mfeval\u001b[0m\u001b[1;33m,\u001b[0m\u001b[1;33m\u001b[0m\u001b[0m\n\u001b[1;32m--> 216\u001b[1;33m                            xgb_model=xgb_model, callbacks=callbacks)\n\u001b[0m\u001b[0;32m    217\u001b[0m \u001b[1;33m\u001b[0m\u001b[0m\n\u001b[0;32m    218\u001b[0m \u001b[1;33m\u001b[0m\u001b[0m\n",
      "\u001b[1;32mC:\\Users\\Trishul\\Anaconda3\\lib\\site-packages\\xgboost\\training.py\u001b[0m in \u001b[0;36m_train_internal\u001b[1;34m(params, dtrain, num_boost_round, evals, obj, feval, xgb_model, callbacks)\u001b[0m\n\u001b[0;32m     72\u001b[0m         \u001b[1;31m# Skip the first update if it is a recovery step.\u001b[0m\u001b[1;33m\u001b[0m\u001b[1;33m\u001b[0m\u001b[0m\n\u001b[0;32m     73\u001b[0m         \u001b[1;32mif\u001b[0m \u001b[0mversion\u001b[0m \u001b[1;33m%\u001b[0m \u001b[1;36m2\u001b[0m \u001b[1;33m==\u001b[0m \u001b[1;36m0\u001b[0m\u001b[1;33m:\u001b[0m\u001b[1;33m\u001b[0m\u001b[0m\n\u001b[1;32m---> 74\u001b[1;33m             \u001b[0mbst\u001b[0m\u001b[1;33m.\u001b[0m\u001b[0mupdate\u001b[0m\u001b[1;33m(\u001b[0m\u001b[0mdtrain\u001b[0m\u001b[1;33m,\u001b[0m \u001b[0mi\u001b[0m\u001b[1;33m,\u001b[0m \u001b[0mobj\u001b[0m\u001b[1;33m)\u001b[0m\u001b[1;33m\u001b[0m\u001b[0m\n\u001b[0m\u001b[0;32m     75\u001b[0m             \u001b[0mbst\u001b[0m\u001b[1;33m.\u001b[0m\u001b[0msave_rabit_checkpoint\u001b[0m\u001b[1;33m(\u001b[0m\u001b[1;33m)\u001b[0m\u001b[1;33m\u001b[0m\u001b[0m\n\u001b[0;32m     76\u001b[0m             \u001b[0mversion\u001b[0m \u001b[1;33m+=\u001b[0m \u001b[1;36m1\u001b[0m\u001b[1;33m\u001b[0m\u001b[0m\n",
      "\u001b[1;32mC:\\Users\\Trishul\\Anaconda3\\lib\\site-packages\\xgboost\\core.py\u001b[0m in \u001b[0;36mupdate\u001b[1;34m(self, dtrain, iteration, fobj)\u001b[0m\n\u001b[0;32m   1043\u001b[0m         \u001b[1;32mif\u001b[0m \u001b[0mfobj\u001b[0m \u001b[1;32mis\u001b[0m \u001b[1;32mNone\u001b[0m\u001b[1;33m:\u001b[0m\u001b[1;33m\u001b[0m\u001b[0m\n\u001b[0;32m   1044\u001b[0m             _check_call(_LIB.XGBoosterUpdateOneIter(self.handle, ctypes.c_int(iteration),\n\u001b[1;32m-> 1045\u001b[1;33m                                                     dtrain.handle))\n\u001b[0m\u001b[0;32m   1046\u001b[0m         \u001b[1;32melse\u001b[0m\u001b[1;33m:\u001b[0m\u001b[1;33m\u001b[0m\u001b[0m\n\u001b[0;32m   1047\u001b[0m             \u001b[0mpred\u001b[0m \u001b[1;33m=\u001b[0m \u001b[0mself\u001b[0m\u001b[1;33m.\u001b[0m\u001b[0mpredict\u001b[0m\u001b[1;33m(\u001b[0m\u001b[0mdtrain\u001b[0m\u001b[1;33m)\u001b[0m\u001b[1;33m\u001b[0m\u001b[0m\n",
      "\u001b[1;31mKeyboardInterrupt\u001b[0m: "
     ]
    }
   ],
   "source": [
    "best_rmse_4=1000\n",
    "best_mae_4=1000\n",
    "for rate in params['learning_rate'] :\n",
    "    for estimator in params['n_estimators'] :\n",
    "        for subsample in params['subsample'] :\n",
    "            xgb_model = xgb.XGBRegressor(learning_rate= rate, n_estimators = estimator, subsample=subsample)\n",
    "            xgb_model.fit(X_train,y_train)\n",
    "            predictions=xgb_model.predict(X_test)\n",
    "            rmse=math.sqrt(mean_squared_error(y_test,predictions))\n",
    "            mae=mean_absolute_error(y_test,predictions)\n",
    "            \n",
    "            res_dict = {'learning_rate': rate, 'n_estimators': estimator, 'subsample': subsample, 'rmse' : rmse, 'mae' : mae }\n",
    "            result_df.append(res_dict, ignore_index=True)\n",
    "\n",
    "            print(res_dict)\n",
    "            \n",
    "            if(rmse<=best_rmse_4) :\n",
    "                if(mae < best_mae_4) :\n",
    "                    best_rmse_4 = rmse\n",
    "                    best_mae_4 = mae\n",
    "                    best_learning_rate_4 = rate\n",
    "                    best_n_estimators_4 = estimator\n",
    "                    best_subsample_4 = subsample\n",
    "            "
   ]
  },
  {
   "cell_type": "code",
   "execution_count": 481,
   "metadata": {},
   "outputs": [
    {
     "data": {
      "text/plain": [
       "(0.1920870022409736, 0.13192014023385665)"
      ]
     },
     "execution_count": 481,
     "metadata": {},
     "output_type": "execute_result"
    }
   ],
   "source": [
    "best_rmse_3,best_mae_3"
   ]
  },
  {
   "cell_type": "code",
   "execution_count": 478,
   "metadata": {},
   "outputs": [
    {
     "data": {
      "text/plain": [
       "0.09"
      ]
     },
     "execution_count": 478,
     "metadata": {},
     "output_type": "execute_result"
    }
   ],
   "source": [
    "best_learning_rate_3"
   ]
  },
  {
   "cell_type": "code",
   "execution_count": 479,
   "metadata": {},
   "outputs": [
    {
     "data": {
      "text/plain": [
       "500"
      ]
     },
     "execution_count": 479,
     "metadata": {},
     "output_type": "execute_result"
    }
   ],
   "source": [
    "best_n_estimators_3"
   ]
  },
  {
   "cell_type": "code",
   "execution_count": 480,
   "metadata": {},
   "outputs": [
    {
     "data": {
      "text/plain": [
       "0.9"
      ]
     },
     "execution_count": 480,
     "metadata": {},
     "output_type": "execute_result"
    }
   ],
   "source": [
    "best_subsample_3"
   ]
  },
  {
   "cell_type": "code",
   "execution_count": 482,
   "metadata": {},
   "outputs": [
    {
     "data": {
      "text/html": [
       "<div>\n",
       "<style scoped>\n",
       "    .dataframe tbody tr th:only-of-type {\n",
       "        vertical-align: middle;\n",
       "    }\n",
       "\n",
       "    .dataframe tbody tr th {\n",
       "        vertical-align: top;\n",
       "    }\n",
       "\n",
       "    .dataframe thead th {\n",
       "        text-align: right;\n",
       "    }\n",
       "</style>\n",
       "<table border=\"1\" class=\"dataframe\">\n",
       "  <thead>\n",
       "    <tr style=\"text-align: right;\">\n",
       "      <th></th>\n",
       "      <th>reviewText</th>\n",
       "      <th>flesch_reading_ease</th>\n",
       "      <th>helpfulness_score</th>\n",
       "      <th>smog_index</th>\n",
       "      <th>flesch_kincaid_grade</th>\n",
       "      <th>coleman_liau_index</th>\n",
       "      <th>automated_readability_index</th>\n",
       "      <th>dale_chall_readability_score</th>\n",
       "      <th>difficult_words</th>\n",
       "      <th>linsear_write_formula</th>\n",
       "      <th>gunning_fog</th>\n",
       "      <th>text_standard</th>\n",
       "      <th>sentence_count</th>\n",
       "      <th>wps</th>\n",
       "      <th>review_length</th>\n",
       "      <th>pos_words</th>\n",
       "      <th>neg_words</th>\n",
       "      <th>pos_no</th>\n",
       "      <th>neg_no</th>\n",
       "    </tr>\n",
       "  </thead>\n",
       "  <tbody>\n",
       "    <tr>\n",
       "      <th>0</th>\n",
       "      <td>I'm a professional OTR truck driver, and I bou...</td>\n",
       "      <td>-336.56</td>\n",
       "      <td>0.800000</td>\n",
       "      <td>0.0</td>\n",
       "      <td>166.3</td>\n",
       "      <td>7.69</td>\n",
       "      <td>211.1</td>\n",
       "      <td>26.44</td>\n",
       "      <td>44</td>\n",
       "      <td>14.000000</td>\n",
       "      <td>176.92</td>\n",
       "      <td>-1th and 0th grade</td>\n",
       "      <td>1</td>\n",
       "      <td>427.000000</td>\n",
       "      <td>427</td>\n",
       "      <td>['available', 'preferred']</td>\n",
       "      <td>['problem', 'refused', 'cheap', 'lost']</td>\n",
       "      <td>2</td>\n",
       "      <td>4</td>\n",
       "    </tr>\n",
       "    <tr>\n",
       "      <th>1</th>\n",
       "      <td>Well, what can I say.  I've had this unit in m...</td>\n",
       "      <td>-340.96</td>\n",
       "      <td>0.955556</td>\n",
       "      <td>0.0</td>\n",
       "      <td>165.9</td>\n",
       "      <td>9.72</td>\n",
       "      <td>210.8</td>\n",
       "      <td>26.37</td>\n",
       "      <td>94</td>\n",
       "      <td>8.666667</td>\n",
       "      <td>175.64</td>\n",
       "      <td>165th and 166th grade</td>\n",
       "      <td>2</td>\n",
       "      <td>423.000000</td>\n",
       "      <td>846</td>\n",
       "      <td>['favorite', 'like', 'best', 'best', 'importan...</td>\n",
       "      <td>['strictly', 'slow', 'overwhelming', 'omission...</td>\n",
       "      <td>18</td>\n",
       "      <td>8</td>\n",
       "    </tr>\n",
       "    <tr>\n",
       "      <th>2</th>\n",
       "      <td>Not going to write a long review, even thought...</td>\n",
       "      <td>85.52</td>\n",
       "      <td>0.900000</td>\n",
       "      <td>7.3</td>\n",
       "      <td>6.2</td>\n",
       "      <td>5.92</td>\n",
       "      <td>7.2</td>\n",
       "      <td>5.87</td>\n",
       "      <td>36</td>\n",
       "      <td>7.666667</td>\n",
       "      <td>13.01</td>\n",
       "      <td>5th and 6th grade</td>\n",
       "      <td>23</td>\n",
       "      <td>19.521739</td>\n",
       "      <td>449</td>\n",
       "      <td>['well', 'pretty', 'fastest', 'excited', 'grea...</td>\n",
       "      <td>['trouble', 'lacking', 'mistakes', 'problem', ...</td>\n",
       "      <td>7</td>\n",
       "      <td>6</td>\n",
       "    </tr>\n",
       "    <tr>\n",
       "      <th>3</th>\n",
       "      <td>Quality was excellent. Instructions were clear...</td>\n",
       "      <td>66.94</td>\n",
       "      <td>0.789474</td>\n",
       "      <td>10.8</td>\n",
       "      <td>7.1</td>\n",
       "      <td>8.05</td>\n",
       "      <td>6.3</td>\n",
       "      <td>6.99</td>\n",
       "      <td>11</td>\n",
       "      <td>7.200000</td>\n",
       "      <td>14.00</td>\n",
       "      <td>6th and 7th grade</td>\n",
       "      <td>5</td>\n",
       "      <td>12.800000</td>\n",
       "      <td>64</td>\n",
       "      <td>['clear', 'enough']</td>\n",
       "      <td>[]</td>\n",
       "      <td>2</td>\n",
       "      <td>0</td>\n",
       "    </tr>\n",
       "    <tr>\n",
       "      <th>4</th>\n",
       "      <td>I checked around Amazon as well as some other ...</td>\n",
       "      <td>-43.22</td>\n",
       "      <td>0.444444</td>\n",
       "      <td>0.0</td>\n",
       "      <td>53.6</td>\n",
       "      <td>8.09</td>\n",
       "      <td>67.2</td>\n",
       "      <td>12.20</td>\n",
       "      <td>15</td>\n",
       "      <td>4.400000</td>\n",
       "      <td>61.55</td>\n",
       "      <td>53th and 54th grade</td>\n",
       "      <td>1</td>\n",
       "      <td>138.000000</td>\n",
       "      <td>138</td>\n",
       "      <td>['well']</td>\n",
       "      <td>['damage', 'issue', 'hard']</td>\n",
       "      <td>1</td>\n",
       "      <td>3</td>\n",
       "    </tr>\n",
       "  </tbody>\n",
       "</table>\n",
       "</div>"
      ],
      "text/plain": [
       "                                          reviewText  flesch_reading_ease  \\\n",
       "0  I'm a professional OTR truck driver, and I bou...              -336.56   \n",
       "1  Well, what can I say.  I've had this unit in m...              -340.96   \n",
       "2  Not going to write a long review, even thought...                85.52   \n",
       "3  Quality was excellent. Instructions were clear...                66.94   \n",
       "4  I checked around Amazon as well as some other ...               -43.22   \n",
       "\n",
       "   helpfulness_score  smog_index  flesch_kincaid_grade  coleman_liau_index  \\\n",
       "0           0.800000         0.0                 166.3                7.69   \n",
       "1           0.955556         0.0                 165.9                9.72   \n",
       "2           0.900000         7.3                   6.2                5.92   \n",
       "3           0.789474        10.8                   7.1                8.05   \n",
       "4           0.444444         0.0                  53.6                8.09   \n",
       "\n",
       "   automated_readability_index  dale_chall_readability_score  difficult_words  \\\n",
       "0                        211.1                         26.44               44   \n",
       "1                        210.8                         26.37               94   \n",
       "2                          7.2                          5.87               36   \n",
       "3                          6.3                          6.99               11   \n",
       "4                         67.2                         12.20               15   \n",
       "\n",
       "   linsear_write_formula  gunning_fog          text_standard  sentence_count  \\\n",
       "0              14.000000       176.92     -1th and 0th grade               1   \n",
       "1               8.666667       175.64  165th and 166th grade               2   \n",
       "2               7.666667        13.01      5th and 6th grade              23   \n",
       "3               7.200000        14.00      6th and 7th grade               5   \n",
       "4               4.400000        61.55    53th and 54th grade               1   \n",
       "\n",
       "          wps  review_length  \\\n",
       "0  427.000000            427   \n",
       "1  423.000000            846   \n",
       "2   19.521739            449   \n",
       "3   12.800000             64   \n",
       "4  138.000000            138   \n",
       "\n",
       "                                           pos_words  \\\n",
       "0                         ['available', 'preferred']   \n",
       "1  ['favorite', 'like', 'best', 'best', 'importan...   \n",
       "2  ['well', 'pretty', 'fastest', 'excited', 'grea...   \n",
       "3                                ['clear', 'enough']   \n",
       "4                                           ['well']   \n",
       "\n",
       "                                           neg_words  pos_no  neg_no  \n",
       "0            ['problem', 'refused', 'cheap', 'lost']       2       4  \n",
       "1  ['strictly', 'slow', 'overwhelming', 'omission...      18       8  \n",
       "2  ['trouble', 'lacking', 'mistakes', 'problem', ...       7       6  \n",
       "3                                                 []       2       0  \n",
       "4                        ['damage', 'issue', 'hard']       1       3  "
      ]
     },
     "execution_count": 482,
     "metadata": {},
     "output_type": "execute_result"
    }
   ],
   "source": [
    "text_df.head()"
   ]
  },
  {
   "cell_type": "code",
   "execution_count": 492,
   "metadata": {},
   "outputs": [
    {
     "data": {
      "text/html": [
       "<div>\n",
       "<style scoped>\n",
       "    .dataframe tbody tr th:only-of-type {\n",
       "        vertical-align: middle;\n",
       "    }\n",
       "\n",
       "    .dataframe tbody tr th {\n",
       "        vertical-align: top;\n",
       "    }\n",
       "\n",
       "    .dataframe thead th {\n",
       "        text-align: right;\n",
       "    }\n",
       "</style>\n",
       "<table border=\"1\" class=\"dataframe\">\n",
       "  <thead>\n",
       "    <tr style=\"text-align: right;\">\n",
       "      <th></th>\n",
       "      <th>reviewerID</th>\n",
       "      <th>reviewerName</th>\n",
       "      <th>reviewText</th>\n",
       "      <th>user_deviation</th>\n",
       "      <th>user_delay</th>\n",
       "      <th>helpful_votes</th>\n",
       "      <th>total_votes</th>\n",
       "      <th>no_of_reviews</th>\n",
       "      <th>all_helpful_votes</th>\n",
       "      <th>all_total_votes</th>\n",
       "      <th>all_no_of_reviews</th>\n",
       "      <th>avg_helpful_votes</th>\n",
       "      <th>unhelfpul_votes</th>\n",
       "      <th>avg_unhelpful_votes</th>\n",
       "      <th>all_unhelpful_votes</th>\n",
       "      <th>all_avg_helpful_votes</th>\n",
       "      <th>all_avg_unhelpful_votes</th>\n",
       "      <th>reviewer_days</th>\n",
       "    </tr>\n",
       "  </thead>\n",
       "  <tbody>\n",
       "  </tbody>\n",
       "</table>\n",
       "</div>"
      ],
      "text/plain": [
       "Empty DataFrame\n",
       "Columns: [reviewerID, reviewerName, reviewText, user_deviation, user_delay, helpful_votes, total_votes, no_of_reviews, all_helpful_votes, all_total_votes, all_no_of_reviews, avg_helpful_votes, unhelfpul_votes, avg_unhelpful_votes, all_unhelpful_votes, all_avg_helpful_votes, all_avg_unhelpful_votes, reviewer_days]\n",
       "Index: []"
      ]
     },
     "execution_count": 492,
     "metadata": {},
     "output_type": "execute_result"
    }
   ],
   "source": [
    "user_df[user_df['avg_unhelpful_votes']==np.nan]"
   ]
  },
  {
   "cell_type": "code",
   "execution_count": 494,
   "metadata": {},
   "outputs": [
    {
     "data": {
      "text/plain": [
       "81275"
      ]
     },
     "execution_count": 494,
     "metadata": {},
     "output_type": "execute_result"
    }
   ],
   "source": [
    "len(user_df['avg_unhelpful_votes'])"
   ]
  },
  {
   "cell_type": "code",
   "execution_count": 496,
   "metadata": {},
   "outputs": [
    {
     "data": {
      "text/plain": [
       "Index(['reviewerID', 'reviewerName', 'reviewText', 'user_deviation',\n",
       "       'user_delay', 'helpful_votes', 'total_votes', 'no_of_reviews',\n",
       "       'all_helpful_votes', 'all_total_votes', 'all_no_of_reviews',\n",
       "       'avg_helpful_votes', 'unhelfpul_votes', 'avg_unhelpful_votes',\n",
       "       'all_unhelpful_votes', 'all_avg_helpful_votes',\n",
       "       'all_avg_unhelpful_votes', 'reviewer_days'],\n",
       "      dtype='object')"
      ]
     },
     "execution_count": 496,
     "metadata": {},
     "output_type": "execute_result"
    }
   ],
   "source": [
    "user_df.columns"
   ]
  },
  {
   "cell_type": "code",
   "execution_count": 497,
   "metadata": {
    "collapsed": true
   },
   "outputs": [],
   "source": [
    "user_df['unhelpful_votes'] = user_df['total_votes'] - user_df['helpful_votes']"
   ]
  },
  {
   "cell_type": "code",
   "execution_count": 498,
   "metadata": {},
   "outputs": [
    {
     "data": {
      "text/plain": [
       "81275"
      ]
     },
     "execution_count": 498,
     "metadata": {},
     "output_type": "execute_result"
    }
   ],
   "source": [
    "user_df['unhelpful_votes'].count()"
   ]
  },
  {
   "cell_type": "code",
   "execution_count": 501,
   "metadata": {
    "collapsed": true
   },
   "outputs": [],
   "source": [
    "user_df['avg_unhelpful_votes_v2']=user_df['avg_unhelpful_votes'].fillna(0)"
   ]
  },
  {
   "cell_type": "markdown",
   "metadata": {},
   "source": [
    "#### New Features"
   ]
  },
  {
   "cell_type": "code",
   "execution_count": null,
   "metadata": {
    "collapsed": true
   },
   "outputs": [],
   "source": [
    "1. alpha -> unhelpful / days\n",
    "2. beta  -> avg unhelpful / days\n",
    "3. gamma -> avg unhelpful v2 / days\n",
    "4. delta -> unhelpful / (reviews*days)\n",
    "5. iota  -> helpful/total\n",
    "6. epsilon -> reviews no / days"
   ]
  },
  {
   "cell_type": "code",
   "execution_count": 526,
   "metadata": {},
   "outputs": [
    {
     "data": {
      "text/plain": [
       "-0.21871856699081108"
      ]
     },
     "execution_count": 526,
     "metadata": {},
     "output_type": "execute_result"
    }
   ],
   "source": [
    "(user_df['unhelpful_votes']/(user_df['reviewer_days']+1)).corr(review_df['helpfulness_score'])"
   ]
  },
  {
   "cell_type": "code",
   "execution_count": 527,
   "metadata": {
    "collapsed": true
   },
   "outputs": [],
   "source": [
    "user_df['alpha'] = user_df['unhelpful_votes']/(user_df['reviewer_days']+1)"
   ]
  },
  {
   "cell_type": "code",
   "execution_count": 528,
   "metadata": {
    "collapsed": true
   },
   "outputs": [],
   "source": [
    "user_df['beta'] = user_df['avg_unhelpful_votes']/(user_df['reviewer_days']+1)"
   ]
  },
  {
   "cell_type": "code",
   "execution_count": 529,
   "metadata": {
    "collapsed": true
   },
   "outputs": [],
   "source": [
    "user_df['gamma'] = user_df['avg_unhelpful_votes_v2']/(user_df['reviewer_days']+1)"
   ]
  },
  {
   "cell_type": "code",
   "execution_count": 567,
   "metadata": {
    "collapsed": true
   },
   "outputs": [],
   "source": [
    "user_df['delta'] = user_df['unhelpful_votes']/((user_df['no_of_reviews']+1)*(user_df['reviewer_days']+1))"
   ]
  },
  {
   "cell_type": "code",
   "execution_count": 646,
   "metadata": {
    "collapsed": true
   },
   "outputs": [],
   "source": [
    "user_df['iota'] =(user_df['helpful_votes']+1)/(user_df['total_votes']+1)"
   ]
  },
  {
   "cell_type": "code",
   "execution_count": 647,
   "metadata": {},
   "outputs": [
    {
     "data": {
      "text/plain": [
       "0.6024305529364564"
      ]
     },
     "execution_count": 647,
     "metadata": {},
     "output_type": "execute_result"
    }
   ],
   "source": [
    "user_df['iota'].corr(review_df['helpfulness_score'])"
   ]
  },
  {
   "cell_type": "code",
   "execution_count": 698,
   "metadata": {
    "collapsed": true
   },
   "outputs": [],
   "source": [
    "user_df['epsilon'] = (user_df['no_of_reviews']+1) / (user_df['reviewer_days']+1)"
   ]
  },
  {
   "cell_type": "code",
   "execution_count": 699,
   "metadata": {},
   "outputs": [
    {
     "data": {
      "text/plain": [
       "-0.07094621221965774"
      ]
     },
     "execution_count": 699,
     "metadata": {},
     "output_type": "execute_result"
    }
   ],
   "source": [
    "user_df['epsilon'].corr(review_df['helpfulness_score'])"
   ]
  },
  {
   "cell_type": "markdown",
   "metadata": {},
   "source": [
    "### Inter-Feature Correlation"
   ]
  },
  {
   "cell_type": "code",
   "execution_count": 40,
   "metadata": {
    "collapsed": true
   },
   "outputs": [],
   "source": [
    "x_corr=X.corr()"
   ]
  },
  {
   "cell_type": "code",
   "execution_count": 41,
   "metadata": {},
   "outputs": [
    {
     "data": {
      "text/html": [
       "<div>\n",
       "<style scoped>\n",
       "    .dataframe tbody tr th:only-of-type {\n",
       "        vertical-align: middle;\n",
       "    }\n",
       "\n",
       "    .dataframe tbody tr th {\n",
       "        vertical-align: top;\n",
       "    }\n",
       "\n",
       "    .dataframe thead th {\n",
       "        text-align: right;\n",
       "    }\n",
       "</style>\n",
       "<table border=\"1\" class=\"dataframe\">\n",
       "  <thead>\n",
       "    <tr style=\"text-align: right;\">\n",
       "      <th></th>\n",
       "      <th>flesch_reading_ease</th>\n",
       "      <th>smog_index</th>\n",
       "      <th>flesch_kincaid_grade</th>\n",
       "      <th>coleman_liau_index</th>\n",
       "      <th>automated_readability_index</th>\n",
       "      <th>dale_chall_readability_score</th>\n",
       "      <th>difficult_words</th>\n",
       "      <th>linsear_write_formula</th>\n",
       "      <th>gunning_fog</th>\n",
       "      <th>sentence_count</th>\n",
       "      <th>...</th>\n",
       "      <th>review_length</th>\n",
       "      <th>pos_no</th>\n",
       "      <th>neg_no</th>\n",
       "      <th>user_deviation</th>\n",
       "      <th>user_delay</th>\n",
       "      <th>no_of_reviews</th>\n",
       "      <th>reviewer_days</th>\n",
       "      <th>stem_sim_length</th>\n",
       "      <th>lem_sim_length</th>\n",
       "      <th>overall</th>\n",
       "    </tr>\n",
       "  </thead>\n",
       "  <tbody>\n",
       "    <tr>\n",
       "      <th>flesch_reading_ease</th>\n",
       "      <td>1.000000</td>\n",
       "      <td>0.321961</td>\n",
       "      <td>-0.999465</td>\n",
       "      <td>-0.260971</td>\n",
       "      <td>-0.999300</td>\n",
       "      <td>-0.996831</td>\n",
       "      <td>-0.355395</td>\n",
       "      <td>-0.133238</td>\n",
       "      <td>-0.999334</td>\n",
       "      <td>0.265178</td>\n",
       "      <td>...</td>\n",
       "      <td>-0.355110</td>\n",
       "      <td>-0.318744</td>\n",
       "      <td>-0.299891</td>\n",
       "      <td>0.057596</td>\n",
       "      <td>-0.001563</td>\n",
       "      <td>-0.085232</td>\n",
       "      <td>-0.105965</td>\n",
       "      <td>-0.238218</td>\n",
       "      <td>-0.239106</td>\n",
       "      <td>-0.052626</td>\n",
       "    </tr>\n",
       "    <tr>\n",
       "      <th>smog_index</th>\n",
       "      <td>0.321961</td>\n",
       "      <td>1.000000</td>\n",
       "      <td>-0.325246</td>\n",
       "      <td>0.020604</td>\n",
       "      <td>-0.323973</td>\n",
       "      <td>-0.324201</td>\n",
       "      <td>0.363657</td>\n",
       "      <td>-0.005783</td>\n",
       "      <td>-0.327498</td>\n",
       "      <td>0.368345</td>\n",
       "      <td>...</td>\n",
       "      <td>0.337437</td>\n",
       "      <td>0.310563</td>\n",
       "      <td>0.283001</td>\n",
       "      <td>-0.066908</td>\n",
       "      <td>-0.006860</td>\n",
       "      <td>0.066433</td>\n",
       "      <td>0.076553</td>\n",
       "      <td>0.215368</td>\n",
       "      <td>0.215090</td>\n",
       "      <td>0.064401</td>\n",
       "    </tr>\n",
       "    <tr>\n",
       "      <th>flesch_kincaid_grade</th>\n",
       "      <td>-0.999465</td>\n",
       "      <td>-0.325246</td>\n",
       "      <td>1.000000</td>\n",
       "      <td>0.236112</td>\n",
       "      <td>0.999913</td>\n",
       "      <td>0.995617</td>\n",
       "      <td>0.350158</td>\n",
       "      <td>0.130133</td>\n",
       "      <td>0.999815</td>\n",
       "      <td>-0.264906</td>\n",
       "      <td>...</td>\n",
       "      <td>0.354533</td>\n",
       "      <td>0.317912</td>\n",
       "      <td>0.298891</td>\n",
       "      <td>-0.057829</td>\n",
       "      <td>0.001863</td>\n",
       "      <td>0.082451</td>\n",
       "      <td>0.103036</td>\n",
       "      <td>0.235802</td>\n",
       "      <td>0.236770</td>\n",
       "      <td>0.052886</td>\n",
       "    </tr>\n",
       "    <tr>\n",
       "      <th>coleman_liau_index</th>\n",
       "      <td>-0.260971</td>\n",
       "      <td>0.020604</td>\n",
       "      <td>0.236112</td>\n",
       "      <td>1.000000</td>\n",
       "      <td>0.241079</td>\n",
       "      <td>0.281476</td>\n",
       "      <td>0.280264</td>\n",
       "      <td>0.282248</td>\n",
       "      <td>0.238779</td>\n",
       "      <td>-0.068969</td>\n",
       "      <td>...</td>\n",
       "      <td>0.152129</td>\n",
       "      <td>0.148471</td>\n",
       "      <td>0.142632</td>\n",
       "      <td>-0.024429</td>\n",
       "      <td>-0.008178</td>\n",
       "      <td>0.133666</td>\n",
       "      <td>0.136980</td>\n",
       "      <td>0.148900</td>\n",
       "      <td>0.147523</td>\n",
       "      <td>0.027022</td>\n",
       "    </tr>\n",
       "    <tr>\n",
       "      <th>automated_readability_index</th>\n",
       "      <td>-0.999300</td>\n",
       "      <td>-0.323973</td>\n",
       "      <td>0.999913</td>\n",
       "      <td>0.241079</td>\n",
       "      <td>1.000000</td>\n",
       "      <td>0.995590</td>\n",
       "      <td>0.351371</td>\n",
       "      <td>0.131895</td>\n",
       "      <td>0.999780</td>\n",
       "      <td>-0.263448</td>\n",
       "      <td>...</td>\n",
       "      <td>0.355621</td>\n",
       "      <td>0.318982</td>\n",
       "      <td>0.299865</td>\n",
       "      <td>-0.057983</td>\n",
       "      <td>0.001912</td>\n",
       "      <td>0.083146</td>\n",
       "      <td>0.103518</td>\n",
       "      <td>0.236302</td>\n",
       "      <td>0.237283</td>\n",
       "      <td>0.053202</td>\n",
       "    </tr>\n",
       "    <tr>\n",
       "      <th>dale_chall_readability_score</th>\n",
       "      <td>-0.996831</td>\n",
       "      <td>-0.324201</td>\n",
       "      <td>0.995617</td>\n",
       "      <td>0.281476</td>\n",
       "      <td>0.995590</td>\n",
       "      <td>1.000000</td>\n",
       "      <td>0.348506</td>\n",
       "      <td>0.135912</td>\n",
       "      <td>0.996795</td>\n",
       "      <td>-0.274865</td>\n",
       "      <td>...</td>\n",
       "      <td>0.339885</td>\n",
       "      <td>0.306564</td>\n",
       "      <td>0.288581</td>\n",
       "      <td>-0.057995</td>\n",
       "      <td>-0.000344</td>\n",
       "      <td>0.085654</td>\n",
       "      <td>0.105880</td>\n",
       "      <td>0.233200</td>\n",
       "      <td>0.233856</td>\n",
       "      <td>0.054906</td>\n",
       "    </tr>\n",
       "    <tr>\n",
       "      <th>difficult_words</th>\n",
       "      <td>-0.355395</td>\n",
       "      <td>0.363657</td>\n",
       "      <td>0.350158</td>\n",
       "      <td>0.280264</td>\n",
       "      <td>0.351371</td>\n",
       "      <td>0.348506</td>\n",
       "      <td>1.000000</td>\n",
       "      <td>0.126794</td>\n",
       "      <td>0.347074</td>\n",
       "      <td>0.633576</td>\n",
       "      <td>...</td>\n",
       "      <td>0.954660</td>\n",
       "      <td>0.884000</td>\n",
       "      <td>0.804404</td>\n",
       "      <td>-0.141222</td>\n",
       "      <td>-0.002968</td>\n",
       "      <td>0.167861</td>\n",
       "      <td>0.189626</td>\n",
       "      <td>0.571501</td>\n",
       "      <td>0.572042</td>\n",
       "      <td>0.135322</td>\n",
       "    </tr>\n",
       "    <tr>\n",
       "      <th>linsear_write_formula</th>\n",
       "      <td>-0.133238</td>\n",
       "      <td>-0.005783</td>\n",
       "      <td>0.130133</td>\n",
       "      <td>0.282248</td>\n",
       "      <td>0.131895</td>\n",
       "      <td>0.135912</td>\n",
       "      <td>0.126794</td>\n",
       "      <td>1.000000</td>\n",
       "      <td>0.130461</td>\n",
       "      <td>-0.064222</td>\n",
       "      <td>...</td>\n",
       "      <td>0.100037</td>\n",
       "      <td>0.095482</td>\n",
       "      <td>0.086842</td>\n",
       "      <td>-0.020204</td>\n",
       "      <td>-0.007936</td>\n",
       "      <td>0.048201</td>\n",
       "      <td>0.034591</td>\n",
       "      <td>0.068427</td>\n",
       "      <td>0.068935</td>\n",
       "      <td>0.024774</td>\n",
       "    </tr>\n",
       "    <tr>\n",
       "      <th>gunning_fog</th>\n",
       "      <td>-0.999334</td>\n",
       "      <td>-0.327498</td>\n",
       "      <td>0.999815</td>\n",
       "      <td>0.238779</td>\n",
       "      <td>0.999780</td>\n",
       "      <td>0.996795</td>\n",
       "      <td>0.347074</td>\n",
       "      <td>0.130461</td>\n",
       "      <td>1.000000</td>\n",
       "      <td>-0.268844</td>\n",
       "      <td>...</td>\n",
       "      <td>0.349452</td>\n",
       "      <td>0.313730</td>\n",
       "      <td>0.295037</td>\n",
       "      <td>-0.057712</td>\n",
       "      <td>0.001378</td>\n",
       "      <td>0.082182</td>\n",
       "      <td>0.102453</td>\n",
       "      <td>0.233647</td>\n",
       "      <td>0.234556</td>\n",
       "      <td>0.053345</td>\n",
       "    </tr>\n",
       "    <tr>\n",
       "      <th>sentence_count</th>\n",
       "      <td>0.265178</td>\n",
       "      <td>0.368345</td>\n",
       "      <td>-0.264906</td>\n",
       "      <td>-0.068969</td>\n",
       "      <td>-0.263448</td>\n",
       "      <td>-0.274865</td>\n",
       "      <td>0.633576</td>\n",
       "      <td>-0.064222</td>\n",
       "      <td>-0.268844</td>\n",
       "      <td>1.000000</td>\n",
       "      <td>...</td>\n",
       "      <td>0.660515</td>\n",
       "      <td>0.614204</td>\n",
       "      <td>0.552957</td>\n",
       "      <td>-0.089573</td>\n",
       "      <td>0.004338</td>\n",
       "      <td>0.068811</td>\n",
       "      <td>0.082580</td>\n",
       "      <td>0.361033</td>\n",
       "      <td>0.361972</td>\n",
       "      <td>0.086132</td>\n",
       "    </tr>\n",
       "    <tr>\n",
       "      <th>wps</th>\n",
       "      <td>-0.998677</td>\n",
       "      <td>-0.326850</td>\n",
       "      <td>0.999805</td>\n",
       "      <td>0.222411</td>\n",
       "      <td>0.999766</td>\n",
       "      <td>0.994415</td>\n",
       "      <td>0.347116</td>\n",
       "      <td>0.129073</td>\n",
       "      <td>0.999580</td>\n",
       "      <td>-0.264693</td>\n",
       "      <td>...</td>\n",
       "      <td>0.354194</td>\n",
       "      <td>0.317303</td>\n",
       "      <td>0.298282</td>\n",
       "      <td>-0.057882</td>\n",
       "      <td>0.002023</td>\n",
       "      <td>0.080743</td>\n",
       "      <td>0.101295</td>\n",
       "      <td>0.234360</td>\n",
       "      <td>0.235376</td>\n",
       "      <td>0.053028</td>\n",
       "    </tr>\n",
       "    <tr>\n",
       "      <th>review_length</th>\n",
       "      <td>-0.355110</td>\n",
       "      <td>0.337437</td>\n",
       "      <td>0.354533</td>\n",
       "      <td>0.152129</td>\n",
       "      <td>0.355621</td>\n",
       "      <td>0.339885</td>\n",
       "      <td>0.954660</td>\n",
       "      <td>0.100037</td>\n",
       "      <td>0.349452</td>\n",
       "      <td>0.660515</td>\n",
       "      <td>...</td>\n",
       "      <td>1.000000</td>\n",
       "      <td>0.907989</td>\n",
       "      <td>0.827676</td>\n",
       "      <td>-0.131156</td>\n",
       "      <td>0.004538</td>\n",
       "      <td>0.136637</td>\n",
       "      <td>0.160465</td>\n",
       "      <td>0.545151</td>\n",
       "      <td>0.547123</td>\n",
       "      <td>0.124357</td>\n",
       "    </tr>\n",
       "    <tr>\n",
       "      <th>pos_no</th>\n",
       "      <td>-0.318744</td>\n",
       "      <td>0.310563</td>\n",
       "      <td>0.317912</td>\n",
       "      <td>0.148471</td>\n",
       "      <td>0.318982</td>\n",
       "      <td>0.306564</td>\n",
       "      <td>0.884000</td>\n",
       "      <td>0.095482</td>\n",
       "      <td>0.313730</td>\n",
       "      <td>0.614204</td>\n",
       "      <td>...</td>\n",
       "      <td>0.907989</td>\n",
       "      <td>1.000000</td>\n",
       "      <td>0.735482</td>\n",
       "      <td>-0.177806</td>\n",
       "      <td>-0.005693</td>\n",
       "      <td>0.153252</td>\n",
       "      <td>0.165157</td>\n",
       "      <td>0.532786</td>\n",
       "      <td>0.534185</td>\n",
       "      <td>0.200726</td>\n",
       "    </tr>\n",
       "    <tr>\n",
       "      <th>neg_no</th>\n",
       "      <td>-0.299891</td>\n",
       "      <td>0.283001</td>\n",
       "      <td>0.298891</td>\n",
       "      <td>0.142632</td>\n",
       "      <td>0.299865</td>\n",
       "      <td>0.288581</td>\n",
       "      <td>0.804404</td>\n",
       "      <td>0.086842</td>\n",
       "      <td>0.295037</td>\n",
       "      <td>0.552957</td>\n",
       "      <td>...</td>\n",
       "      <td>0.827676</td>\n",
       "      <td>0.735482</td>\n",
       "      <td>1.000000</td>\n",
       "      <td>-0.035901</td>\n",
       "      <td>0.022856</td>\n",
       "      <td>0.093441</td>\n",
       "      <td>0.126494</td>\n",
       "      <td>0.431564</td>\n",
       "      <td>0.430991</td>\n",
       "      <td>-0.019837</td>\n",
       "    </tr>\n",
       "    <tr>\n",
       "      <th>user_deviation</th>\n",
       "      <td>0.057596</td>\n",
       "      <td>-0.066908</td>\n",
       "      <td>-0.057829</td>\n",
       "      <td>-0.024429</td>\n",
       "      <td>-0.057983</td>\n",
       "      <td>-0.057995</td>\n",
       "      <td>-0.141222</td>\n",
       "      <td>-0.020204</td>\n",
       "      <td>-0.057712</td>\n",
       "      <td>-0.089573</td>\n",
       "      <td>...</td>\n",
       "      <td>-0.131156</td>\n",
       "      <td>-0.177806</td>\n",
       "      <td>-0.035901</td>\n",
       "      <td>1.000000</td>\n",
       "      <td>0.086595</td>\n",
       "      <td>-0.093705</td>\n",
       "      <td>-0.053899</td>\n",
       "      <td>-0.105679</td>\n",
       "      <td>-0.107516</td>\n",
       "      <td>-0.471181</td>\n",
       "    </tr>\n",
       "    <tr>\n",
       "      <th>user_delay</th>\n",
       "      <td>-0.001563</td>\n",
       "      <td>-0.006860</td>\n",
       "      <td>0.001863</td>\n",
       "      <td>-0.008178</td>\n",
       "      <td>0.001912</td>\n",
       "      <td>-0.000344</td>\n",
       "      <td>-0.002968</td>\n",
       "      <td>-0.007936</td>\n",
       "      <td>0.001378</td>\n",
       "      <td>0.004338</td>\n",
       "      <td>...</td>\n",
       "      <td>0.004538</td>\n",
       "      <td>-0.005693</td>\n",
       "      <td>0.022856</td>\n",
       "      <td>0.086595</td>\n",
       "      <td>1.000000</td>\n",
       "      <td>-0.024810</td>\n",
       "      <td>-0.030136</td>\n",
       "      <td>-0.041286</td>\n",
       "      <td>-0.042187</td>\n",
       "      <td>-0.112062</td>\n",
       "    </tr>\n",
       "    <tr>\n",
       "      <th>no_of_reviews</th>\n",
       "      <td>-0.085232</td>\n",
       "      <td>0.066433</td>\n",
       "      <td>0.082451</td>\n",
       "      <td>0.133666</td>\n",
       "      <td>0.083146</td>\n",
       "      <td>0.085654</td>\n",
       "      <td>0.167861</td>\n",
       "      <td>0.048201</td>\n",
       "      <td>0.082182</td>\n",
       "      <td>0.068811</td>\n",
       "      <td>...</td>\n",
       "      <td>0.136637</td>\n",
       "      <td>0.153252</td>\n",
       "      <td>0.093441</td>\n",
       "      <td>-0.093705</td>\n",
       "      <td>-0.024810</td>\n",
       "      <td>1.000000</td>\n",
       "      <td>0.489293</td>\n",
       "      <td>0.131325</td>\n",
       "      <td>0.132850</td>\n",
       "      <td>0.068702</td>\n",
       "    </tr>\n",
       "    <tr>\n",
       "      <th>reviewer_days</th>\n",
       "      <td>-0.105965</td>\n",
       "      <td>0.076553</td>\n",
       "      <td>0.103036</td>\n",
       "      <td>0.136980</td>\n",
       "      <td>0.103518</td>\n",
       "      <td>0.105880</td>\n",
       "      <td>0.189626</td>\n",
       "      <td>0.034591</td>\n",
       "      <td>0.102453</td>\n",
       "      <td>0.082580</td>\n",
       "      <td>...</td>\n",
       "      <td>0.160465</td>\n",
       "      <td>0.165157</td>\n",
       "      <td>0.126494</td>\n",
       "      <td>-0.053899</td>\n",
       "      <td>-0.030136</td>\n",
       "      <td>0.489293</td>\n",
       "      <td>1.000000</td>\n",
       "      <td>0.162446</td>\n",
       "      <td>0.163965</td>\n",
       "      <td>0.058992</td>\n",
       "    </tr>\n",
       "    <tr>\n",
       "      <th>stem_sim_length</th>\n",
       "      <td>-0.238218</td>\n",
       "      <td>0.215368</td>\n",
       "      <td>0.235802</td>\n",
       "      <td>0.148900</td>\n",
       "      <td>0.236302</td>\n",
       "      <td>0.233200</td>\n",
       "      <td>0.571501</td>\n",
       "      <td>0.068427</td>\n",
       "      <td>0.233647</td>\n",
       "      <td>0.361033</td>\n",
       "      <td>...</td>\n",
       "      <td>0.545151</td>\n",
       "      <td>0.532786</td>\n",
       "      <td>0.431564</td>\n",
       "      <td>-0.105679</td>\n",
       "      <td>-0.041286</td>\n",
       "      <td>0.131325</td>\n",
       "      <td>0.162446</td>\n",
       "      <td>1.000000</td>\n",
       "      <td>0.995196</td>\n",
       "      <td>0.131599</td>\n",
       "    </tr>\n",
       "    <tr>\n",
       "      <th>lem_sim_length</th>\n",
       "      <td>-0.239106</td>\n",
       "      <td>0.215090</td>\n",
       "      <td>0.236770</td>\n",
       "      <td>0.147523</td>\n",
       "      <td>0.237283</td>\n",
       "      <td>0.233856</td>\n",
       "      <td>0.572042</td>\n",
       "      <td>0.068935</td>\n",
       "      <td>0.234556</td>\n",
       "      <td>0.361972</td>\n",
       "      <td>...</td>\n",
       "      <td>0.547123</td>\n",
       "      <td>0.534185</td>\n",
       "      <td>0.430991</td>\n",
       "      <td>-0.107516</td>\n",
       "      <td>-0.042187</td>\n",
       "      <td>0.132850</td>\n",
       "      <td>0.163965</td>\n",
       "      <td>0.995196</td>\n",
       "      <td>1.000000</td>\n",
       "      <td>0.133821</td>\n",
       "    </tr>\n",
       "    <tr>\n",
       "      <th>overall</th>\n",
       "      <td>-0.052626</td>\n",
       "      <td>0.064401</td>\n",
       "      <td>0.052886</td>\n",
       "      <td>0.027022</td>\n",
       "      <td>0.053202</td>\n",
       "      <td>0.054906</td>\n",
       "      <td>0.135322</td>\n",
       "      <td>0.024774</td>\n",
       "      <td>0.053345</td>\n",
       "      <td>0.086132</td>\n",
       "      <td>...</td>\n",
       "      <td>0.124357</td>\n",
       "      <td>0.200726</td>\n",
       "      <td>-0.019837</td>\n",
       "      <td>-0.471181</td>\n",
       "      <td>-0.112062</td>\n",
       "      <td>0.068702</td>\n",
       "      <td>0.058992</td>\n",
       "      <td>0.131599</td>\n",
       "      <td>0.133821</td>\n",
       "      <td>1.000000</td>\n",
       "    </tr>\n",
       "  </tbody>\n",
       "</table>\n",
       "<p>21 rows × 21 columns</p>\n",
       "</div>"
      ],
      "text/plain": [
       "                              flesch_reading_ease  smog_index  \\\n",
       "flesch_reading_ease                      1.000000    0.321961   \n",
       "smog_index                               0.321961    1.000000   \n",
       "flesch_kincaid_grade                    -0.999465   -0.325246   \n",
       "coleman_liau_index                      -0.260971    0.020604   \n",
       "automated_readability_index             -0.999300   -0.323973   \n",
       "dale_chall_readability_score            -0.996831   -0.324201   \n",
       "difficult_words                         -0.355395    0.363657   \n",
       "linsear_write_formula                   -0.133238   -0.005783   \n",
       "gunning_fog                             -0.999334   -0.327498   \n",
       "sentence_count                           0.265178    0.368345   \n",
       "wps                                     -0.998677   -0.326850   \n",
       "review_length                           -0.355110    0.337437   \n",
       "pos_no                                  -0.318744    0.310563   \n",
       "neg_no                                  -0.299891    0.283001   \n",
       "user_deviation                           0.057596   -0.066908   \n",
       "user_delay                              -0.001563   -0.006860   \n",
       "no_of_reviews                           -0.085232    0.066433   \n",
       "reviewer_days                           -0.105965    0.076553   \n",
       "stem_sim_length                         -0.238218    0.215368   \n",
       "lem_sim_length                          -0.239106    0.215090   \n",
       "overall                                 -0.052626    0.064401   \n",
       "\n",
       "                              flesch_kincaid_grade  coleman_liau_index  \\\n",
       "flesch_reading_ease                      -0.999465           -0.260971   \n",
       "smog_index                               -0.325246            0.020604   \n",
       "flesch_kincaid_grade                      1.000000            0.236112   \n",
       "coleman_liau_index                        0.236112            1.000000   \n",
       "automated_readability_index               0.999913            0.241079   \n",
       "dale_chall_readability_score              0.995617            0.281476   \n",
       "difficult_words                           0.350158            0.280264   \n",
       "linsear_write_formula                     0.130133            0.282248   \n",
       "gunning_fog                               0.999815            0.238779   \n",
       "sentence_count                           -0.264906           -0.068969   \n",
       "wps                                       0.999805            0.222411   \n",
       "review_length                             0.354533            0.152129   \n",
       "pos_no                                    0.317912            0.148471   \n",
       "neg_no                                    0.298891            0.142632   \n",
       "user_deviation                           -0.057829           -0.024429   \n",
       "user_delay                                0.001863           -0.008178   \n",
       "no_of_reviews                             0.082451            0.133666   \n",
       "reviewer_days                             0.103036            0.136980   \n",
       "stem_sim_length                           0.235802            0.148900   \n",
       "lem_sim_length                            0.236770            0.147523   \n",
       "overall                                   0.052886            0.027022   \n",
       "\n",
       "                              automated_readability_index  \\\n",
       "flesch_reading_ease                             -0.999300   \n",
       "smog_index                                      -0.323973   \n",
       "flesch_kincaid_grade                             0.999913   \n",
       "coleman_liau_index                               0.241079   \n",
       "automated_readability_index                      1.000000   \n",
       "dale_chall_readability_score                     0.995590   \n",
       "difficult_words                                  0.351371   \n",
       "linsear_write_formula                            0.131895   \n",
       "gunning_fog                                      0.999780   \n",
       "sentence_count                                  -0.263448   \n",
       "wps                                              0.999766   \n",
       "review_length                                    0.355621   \n",
       "pos_no                                           0.318982   \n",
       "neg_no                                           0.299865   \n",
       "user_deviation                                  -0.057983   \n",
       "user_delay                                       0.001912   \n",
       "no_of_reviews                                    0.083146   \n",
       "reviewer_days                                    0.103518   \n",
       "stem_sim_length                                  0.236302   \n",
       "lem_sim_length                                   0.237283   \n",
       "overall                                          0.053202   \n",
       "\n",
       "                              dale_chall_readability_score  difficult_words  \\\n",
       "flesch_reading_ease                              -0.996831        -0.355395   \n",
       "smog_index                                       -0.324201         0.363657   \n",
       "flesch_kincaid_grade                              0.995617         0.350158   \n",
       "coleman_liau_index                                0.281476         0.280264   \n",
       "automated_readability_index                       0.995590         0.351371   \n",
       "dale_chall_readability_score                      1.000000         0.348506   \n",
       "difficult_words                                   0.348506         1.000000   \n",
       "linsear_write_formula                             0.135912         0.126794   \n",
       "gunning_fog                                       0.996795         0.347074   \n",
       "sentence_count                                   -0.274865         0.633576   \n",
       "wps                                               0.994415         0.347116   \n",
       "review_length                                     0.339885         0.954660   \n",
       "pos_no                                            0.306564         0.884000   \n",
       "neg_no                                            0.288581         0.804404   \n",
       "user_deviation                                   -0.057995        -0.141222   \n",
       "user_delay                                       -0.000344        -0.002968   \n",
       "no_of_reviews                                     0.085654         0.167861   \n",
       "reviewer_days                                     0.105880         0.189626   \n",
       "stem_sim_length                                   0.233200         0.571501   \n",
       "lem_sim_length                                    0.233856         0.572042   \n",
       "overall                                           0.054906         0.135322   \n",
       "\n",
       "                              linsear_write_formula  gunning_fog  \\\n",
       "flesch_reading_ease                       -0.133238    -0.999334   \n",
       "smog_index                                -0.005783    -0.327498   \n",
       "flesch_kincaid_grade                       0.130133     0.999815   \n",
       "coleman_liau_index                         0.282248     0.238779   \n",
       "automated_readability_index                0.131895     0.999780   \n",
       "dale_chall_readability_score               0.135912     0.996795   \n",
       "difficult_words                            0.126794     0.347074   \n",
       "linsear_write_formula                      1.000000     0.130461   \n",
       "gunning_fog                                0.130461     1.000000   \n",
       "sentence_count                            -0.064222    -0.268844   \n",
       "wps                                        0.129073     0.999580   \n",
       "review_length                              0.100037     0.349452   \n",
       "pos_no                                     0.095482     0.313730   \n",
       "neg_no                                     0.086842     0.295037   \n",
       "user_deviation                            -0.020204    -0.057712   \n",
       "user_delay                                -0.007936     0.001378   \n",
       "no_of_reviews                              0.048201     0.082182   \n",
       "reviewer_days                              0.034591     0.102453   \n",
       "stem_sim_length                            0.068427     0.233647   \n",
       "lem_sim_length                             0.068935     0.234556   \n",
       "overall                                    0.024774     0.053345   \n",
       "\n",
       "                              sentence_count    ...     review_length  \\\n",
       "flesch_reading_ease                 0.265178    ...         -0.355110   \n",
       "smog_index                          0.368345    ...          0.337437   \n",
       "flesch_kincaid_grade               -0.264906    ...          0.354533   \n",
       "coleman_liau_index                 -0.068969    ...          0.152129   \n",
       "automated_readability_index        -0.263448    ...          0.355621   \n",
       "dale_chall_readability_score       -0.274865    ...          0.339885   \n",
       "difficult_words                     0.633576    ...          0.954660   \n",
       "linsear_write_formula              -0.064222    ...          0.100037   \n",
       "gunning_fog                        -0.268844    ...          0.349452   \n",
       "sentence_count                      1.000000    ...          0.660515   \n",
       "wps                                -0.264693    ...          0.354194   \n",
       "review_length                       0.660515    ...          1.000000   \n",
       "pos_no                              0.614204    ...          0.907989   \n",
       "neg_no                              0.552957    ...          0.827676   \n",
       "user_deviation                     -0.089573    ...         -0.131156   \n",
       "user_delay                          0.004338    ...          0.004538   \n",
       "no_of_reviews                       0.068811    ...          0.136637   \n",
       "reviewer_days                       0.082580    ...          0.160465   \n",
       "stem_sim_length                     0.361033    ...          0.545151   \n",
       "lem_sim_length                      0.361972    ...          0.547123   \n",
       "overall                             0.086132    ...          0.124357   \n",
       "\n",
       "                                pos_no    neg_no  user_deviation  user_delay  \\\n",
       "flesch_reading_ease          -0.318744 -0.299891        0.057596   -0.001563   \n",
       "smog_index                    0.310563  0.283001       -0.066908   -0.006860   \n",
       "flesch_kincaid_grade          0.317912  0.298891       -0.057829    0.001863   \n",
       "coleman_liau_index            0.148471  0.142632       -0.024429   -0.008178   \n",
       "automated_readability_index   0.318982  0.299865       -0.057983    0.001912   \n",
       "dale_chall_readability_score  0.306564  0.288581       -0.057995   -0.000344   \n",
       "difficult_words               0.884000  0.804404       -0.141222   -0.002968   \n",
       "linsear_write_formula         0.095482  0.086842       -0.020204   -0.007936   \n",
       "gunning_fog                   0.313730  0.295037       -0.057712    0.001378   \n",
       "sentence_count                0.614204  0.552957       -0.089573    0.004338   \n",
       "wps                           0.317303  0.298282       -0.057882    0.002023   \n",
       "review_length                 0.907989  0.827676       -0.131156    0.004538   \n",
       "pos_no                        1.000000  0.735482       -0.177806   -0.005693   \n",
       "neg_no                        0.735482  1.000000       -0.035901    0.022856   \n",
       "user_deviation               -0.177806 -0.035901        1.000000    0.086595   \n",
       "user_delay                   -0.005693  0.022856        0.086595    1.000000   \n",
       "no_of_reviews                 0.153252  0.093441       -0.093705   -0.024810   \n",
       "reviewer_days                 0.165157  0.126494       -0.053899   -0.030136   \n",
       "stem_sim_length               0.532786  0.431564       -0.105679   -0.041286   \n",
       "lem_sim_length                0.534185  0.430991       -0.107516   -0.042187   \n",
       "overall                       0.200726 -0.019837       -0.471181   -0.112062   \n",
       "\n",
       "                              no_of_reviews  reviewer_days  stem_sim_length  \\\n",
       "flesch_reading_ease               -0.085232      -0.105965        -0.238218   \n",
       "smog_index                         0.066433       0.076553         0.215368   \n",
       "flesch_kincaid_grade               0.082451       0.103036         0.235802   \n",
       "coleman_liau_index                 0.133666       0.136980         0.148900   \n",
       "automated_readability_index        0.083146       0.103518         0.236302   \n",
       "dale_chall_readability_score       0.085654       0.105880         0.233200   \n",
       "difficult_words                    0.167861       0.189626         0.571501   \n",
       "linsear_write_formula              0.048201       0.034591         0.068427   \n",
       "gunning_fog                        0.082182       0.102453         0.233647   \n",
       "sentence_count                     0.068811       0.082580         0.361033   \n",
       "wps                                0.080743       0.101295         0.234360   \n",
       "review_length                      0.136637       0.160465         0.545151   \n",
       "pos_no                             0.153252       0.165157         0.532786   \n",
       "neg_no                             0.093441       0.126494         0.431564   \n",
       "user_deviation                    -0.093705      -0.053899        -0.105679   \n",
       "user_delay                        -0.024810      -0.030136        -0.041286   \n",
       "no_of_reviews                      1.000000       0.489293         0.131325   \n",
       "reviewer_days                      0.489293       1.000000         0.162446   \n",
       "stem_sim_length                    0.131325       0.162446         1.000000   \n",
       "lem_sim_length                     0.132850       0.163965         0.995196   \n",
       "overall                            0.068702       0.058992         0.131599   \n",
       "\n",
       "                              lem_sim_length   overall  \n",
       "flesch_reading_ease                -0.239106 -0.052626  \n",
       "smog_index                          0.215090  0.064401  \n",
       "flesch_kincaid_grade                0.236770  0.052886  \n",
       "coleman_liau_index                  0.147523  0.027022  \n",
       "automated_readability_index         0.237283  0.053202  \n",
       "dale_chall_readability_score        0.233856  0.054906  \n",
       "difficult_words                     0.572042  0.135322  \n",
       "linsear_write_formula               0.068935  0.024774  \n",
       "gunning_fog                         0.234556  0.053345  \n",
       "sentence_count                      0.361972  0.086132  \n",
       "wps                                 0.235376  0.053028  \n",
       "review_length                       0.547123  0.124357  \n",
       "pos_no                              0.534185  0.200726  \n",
       "neg_no                              0.430991 -0.019837  \n",
       "user_deviation                     -0.107516 -0.471181  \n",
       "user_delay                         -0.042187 -0.112062  \n",
       "no_of_reviews                       0.132850  0.068702  \n",
       "reviewer_days                       0.163965  0.058992  \n",
       "stem_sim_length                     0.995196  0.131599  \n",
       "lem_sim_length                      1.000000  0.133821  \n",
       "overall                             0.133821  1.000000  \n",
       "\n",
       "[21 rows x 21 columns]"
      ]
     },
     "execution_count": 41,
     "metadata": {},
     "output_type": "execute_result"
    }
   ],
   "source": [
    "x_corr"
   ]
  },
  {
   "cell_type": "code",
   "execution_count": 42,
   "metadata": {},
   "outputs": [
    {
     "data": {
      "image/png": "[encoded data removed]",
      "text/plain": [
       "<matplotlib.figure.Figure at 0x220027d8390>"
      ]
     },
     "metadata": {},
     "output_type": "display_data"
    }
   ],
   "source": [
    "fig, ax = plt.subplots(figsize=(20,10))\n",
    "ht=sns.heatmap(X.corr(),cmap='coolwarm', linewidths=.5,annot=True, ax=ax)"
   ]
  },
  {
   "cell_type": "code",
   "execution_count": 44,
   "metadata": {
    "collapsed": true
   },
   "outputs": [],
   "source": [
    "fig.savefig('correlation_Final.png')"
   ]
  },
  {
   "cell_type": "code",
   "execution_count": 46,
   "metadata": {},
   "outputs": [
    {
     "data": {
      "text/plain": [
       "Index(['flesch_reading_ease', 'smog_index', 'flesch_kincaid_grade',\n",
       "       'coleman_liau_index', 'automated_readability_index',\n",
       "       'dale_chall_readability_score', 'difficult_words',\n",
       "       'linsear_write_formula', 'gunning_fog', 'sentence_count', 'wps',\n",
       "       'review_length', 'pos_no', 'neg_no', 'user_deviation', 'user_delay',\n",
       "       'no_of_reviews', 'reviewer_days', 'stem_sim_length', 'lem_sim_length',\n",
       "       'overall'],\n",
       "      dtype='object')"
      ]
     },
     "execution_count": 46,
     "metadata": {},
     "output_type": "execute_result"
    }
   ],
   "source": [
    "features = X.columns\n",
    "features"
   ]
  },
  {
   "cell_type": "code",
   "execution_count": 47,
   "metadata": {
    "collapsed": true
   },
   "outputs": [],
   "source": [
    "feature_size = len(features)"
   ]
  },
  {
   "cell_type": "code",
   "execution_count": 48,
   "metadata": {
    "collapsed": true
   },
   "outputs": [],
   "source": [
    "top_correlation_df = pd.DataFrame(columns=['Feature_1', 'Feature_2', 'Correlation'])\n",
    "threshold = 0.8\n",
    "for i in range(0,feature_size):\n",
    "    f1 = features[i]\n",
    "    for j in range(0,feature_size):\n",
    "        if j > i :\n",
    "            correlation = x_corr.iloc[i].iloc[j]\n",
    "            f2 = features[j]\n",
    "            if abs(correlation) >= threshold :\n",
    "                corr_series = pd.Series({'Feature_1':f1,'Feature_2':f2,'Correlation':correlation})\n",
    "                top_correlation_df=top_correlation_df.append(corr_series, ignore_index=True)"
   ]
  },
  {
   "cell_type": "code",
   "execution_count": 50,
   "metadata": {
    "collapsed": true,
    "scrolled": true
   },
   "outputs": [],
   "source": [
    "top_correlation_df.index = top_correlation_df.index +1"
   ]
  },
  {
   "cell_type": "code",
   "execution_count": 51,
   "metadata": {},
   "outputs": [
    {
     "data": {
      "text/html": [
       "<div>\n",
       "<style scoped>\n",
       "    .dataframe tbody tr th:only-of-type {\n",
       "        vertical-align: middle;\n",
       "    }\n",
       "\n",
       "    .dataframe tbody tr th {\n",
       "        vertical-align: top;\n",
       "    }\n",
       "\n",
       "    .dataframe thead th {\n",
       "        text-align: right;\n",
       "    }\n",
       "</style>\n",
       "<table border=\"1\" class=\"dataframe\">\n",
       "  <thead>\n",
       "    <tr style=\"text-align: right;\">\n",
       "      <th></th>\n",
       "      <th>Feature_1</th>\n",
       "      <th>Feature_2</th>\n",
       "      <th>Correlation</th>\n",
       "    </tr>\n",
       "  </thead>\n",
       "  <tbody>\n",
       "    <tr>\n",
       "      <th>1</th>\n",
       "      <td>flesch_reading_ease</td>\n",
       "      <td>flesch_kincaid_grade</td>\n",
       "      <td>-0.999465</td>\n",
       "    </tr>\n",
       "    <tr>\n",
       "      <th>2</th>\n",
       "      <td>flesch_reading_ease</td>\n",
       "      <td>automated_readability_index</td>\n",
       "      <td>-0.999300</td>\n",
       "    </tr>\n",
       "    <tr>\n",
       "      <th>3</th>\n",
       "      <td>flesch_reading_ease</td>\n",
       "      <td>dale_chall_readability_score</td>\n",
       "      <td>-0.996831</td>\n",
       "    </tr>\n",
       "    <tr>\n",
       "      <th>4</th>\n",
       "      <td>flesch_reading_ease</td>\n",
       "      <td>gunning_fog</td>\n",
       "      <td>-0.999334</td>\n",
       "    </tr>\n",
       "    <tr>\n",
       "      <th>5</th>\n",
       "      <td>flesch_reading_ease</td>\n",
       "      <td>wps</td>\n",
       "      <td>-0.998677</td>\n",
       "    </tr>\n",
       "    <tr>\n",
       "      <th>6</th>\n",
       "      <td>flesch_kincaid_grade</td>\n",
       "      <td>automated_readability_index</td>\n",
       "      <td>0.999913</td>\n",
       "    </tr>\n",
       "    <tr>\n",
       "      <th>7</th>\n",
       "      <td>flesch_kincaid_grade</td>\n",
       "      <td>dale_chall_readability_score</td>\n",
       "      <td>0.995617</td>\n",
       "    </tr>\n",
       "    <tr>\n",
       "      <th>8</th>\n",
       "      <td>flesch_kincaid_grade</td>\n",
       "      <td>gunning_fog</td>\n",
       "      <td>0.999815</td>\n",
       "    </tr>\n",
       "    <tr>\n",
       "      <th>9</th>\n",
       "      <td>flesch_kincaid_grade</td>\n",
       "      <td>wps</td>\n",
       "      <td>0.999805</td>\n",
       "    </tr>\n",
       "    <tr>\n",
       "      <th>10</th>\n",
       "      <td>automated_readability_index</td>\n",
       "      <td>dale_chall_readability_score</td>\n",
       "      <td>0.995590</td>\n",
       "    </tr>\n",
       "    <tr>\n",
       "      <th>11</th>\n",
       "      <td>automated_readability_index</td>\n",
       "      <td>gunning_fog</td>\n",
       "      <td>0.999780</td>\n",
       "    </tr>\n",
       "    <tr>\n",
       "      <th>12</th>\n",
       "      <td>automated_readability_index</td>\n",
       "      <td>wps</td>\n",
       "      <td>0.999766</td>\n",
       "    </tr>\n",
       "    <tr>\n",
       "      <th>13</th>\n",
       "      <td>dale_chall_readability_score</td>\n",
       "      <td>gunning_fog</td>\n",
       "      <td>0.996795</td>\n",
       "    </tr>\n",
       "    <tr>\n",
       "      <th>14</th>\n",
       "      <td>dale_chall_readability_score</td>\n",
       "      <td>wps</td>\n",
       "      <td>0.994415</td>\n",
       "    </tr>\n",
       "    <tr>\n",
       "      <th>15</th>\n",
       "      <td>difficult_words</td>\n",
       "      <td>review_length</td>\n",
       "      <td>0.954660</td>\n",
       "    </tr>\n",
       "    <tr>\n",
       "      <th>16</th>\n",
       "      <td>difficult_words</td>\n",
       "      <td>pos_no</td>\n",
       "      <td>0.884000</td>\n",
       "    </tr>\n",
       "    <tr>\n",
       "      <th>17</th>\n",
       "      <td>difficult_words</td>\n",
       "      <td>neg_no</td>\n",
       "      <td>0.804404</td>\n",
       "    </tr>\n",
       "    <tr>\n",
       "      <th>18</th>\n",
       "      <td>gunning_fog</td>\n",
       "      <td>wps</td>\n",
       "      <td>0.999580</td>\n",
       "    </tr>\n",
       "    <tr>\n",
       "      <th>19</th>\n",
       "      <td>review_length</td>\n",
       "      <td>pos_no</td>\n",
       "      <td>0.907989</td>\n",
       "    </tr>\n",
       "    <tr>\n",
       "      <th>20</th>\n",
       "      <td>review_length</td>\n",
       "      <td>neg_no</td>\n",
       "      <td>0.827676</td>\n",
       "    </tr>\n",
       "    <tr>\n",
       "      <th>21</th>\n",
       "      <td>stem_sim_length</td>\n",
       "      <td>lem_sim_length</td>\n",
       "      <td>0.995196</td>\n",
       "    </tr>\n",
       "  </tbody>\n",
       "</table>\n",
       "</div>"
      ],
      "text/plain": [
       "                       Feature_1                     Feature_2  Correlation\n",
       "1            flesch_reading_ease          flesch_kincaid_grade    -0.999465\n",
       "2            flesch_reading_ease   automated_readability_index    -0.999300\n",
       "3            flesch_reading_ease  dale_chall_readability_score    -0.996831\n",
       "4            flesch_reading_ease                   gunning_fog    -0.999334\n",
       "5            flesch_reading_ease                           wps    -0.998677\n",
       "6           flesch_kincaid_grade   automated_readability_index     0.999913\n",
       "7           flesch_kincaid_grade  dale_chall_readability_score     0.995617\n",
       "8           flesch_kincaid_grade                   gunning_fog     0.999815\n",
       "9           flesch_kincaid_grade                           wps     0.999805\n",
       "10   automated_readability_index  dale_chall_readability_score     0.995590\n",
       "11   automated_readability_index                   gunning_fog     0.999780\n",
       "12   automated_readability_index                           wps     0.999766\n",
       "13  dale_chall_readability_score                   gunning_fog     0.996795\n",
       "14  dale_chall_readability_score                           wps     0.994415\n",
       "15               difficult_words                 review_length     0.954660\n",
       "16               difficult_words                        pos_no     0.884000\n",
       "17               difficult_words                        neg_no     0.804404\n",
       "18                   gunning_fog                           wps     0.999580\n",
       "19                 review_length                        pos_no     0.907989\n",
       "20                 review_length                        neg_no     0.827676\n",
       "21               stem_sim_length                lem_sim_length     0.995196"
      ]
     },
     "execution_count": 51,
     "metadata": {},
     "output_type": "execute_result"
    }
   ],
   "source": [
    "top_correlation_df"
   ]
  },
  {
   "cell_type": "code",
   "execution_count": 52,
   "metadata": {
    "collapsed": true
   },
   "outputs": [],
   "source": [
    "top_correlation_df.to_csv('Top_Correlation_Final.csv')"
   ]
  },
  {
   "cell_type": "code",
   "execution_count": 604,
   "metadata": {},
   "outputs": [
    {
     "data": {
      "text/plain": [
       "21"
      ]
     },
     "execution_count": 604,
     "metadata": {},
     "output_type": "execute_result"
    }
   ],
   "source": [
    "feature_size"
   ]
  },
  {
   "cell_type": "code",
   "execution_count": 707,
   "metadata": {},
   "outputs": [
    {
     "name": "stdout",
     "output_type": "stream",
     "text": [
      "Index(['smog_index', 'wps', 'coleman_liau_index', 'linsear_write_formula',\n",
      "       'sentence_count', 'pos_no', 'neg_no', 'user_deviation', 'user_delay',\n",
      "       'no_of_reviews', 'reviewer_days', 'lem_sim_length', 'overall'],\n",
      "      dtype='object')\n",
      "No of Features:  13\n"
     ]
    }
   ],
   "source": [
    "X = text_df[[ 'smog_index', 'wps', 'coleman_liau_index',\n",
    "       'linsear_write_formula', 'sentence_count', 'pos_no', 'neg_no']]\n",
    "\n",
    "X=X.join(user_df[['user_deviation', 'user_delay','no_of_reviews', 'reviewer_days']])\n",
    "\n",
    "X = X.join(meta_df[['lem_sim_length','overall']])\n",
    "\n",
    "print(X.columns)\n",
    "print(\"No of Features: \",len(X.columns))"
   ]
  },
  {
   "cell_type": "code",
   "execution_count": 708,
   "metadata": {},
   "outputs": [
    {
     "data": {
      "text/html": [
       "<div>\n",
       "<style scoped>\n",
       "    .dataframe tbody tr th:only-of-type {\n",
       "        vertical-align: middle;\n",
       "    }\n",
       "\n",
       "    .dataframe tbody tr th {\n",
       "        vertical-align: top;\n",
       "    }\n",
       "\n",
       "    .dataframe thead th {\n",
       "        text-align: right;\n",
       "    }\n",
       "</style>\n",
       "<table border=\"1\" class=\"dataframe\">\n",
       "  <thead>\n",
       "    <tr style=\"text-align: right;\">\n",
       "      <th></th>\n",
       "      <th>smog_index</th>\n",
       "      <th>wps</th>\n",
       "      <th>coleman_liau_index</th>\n",
       "      <th>linsear_write_formula</th>\n",
       "      <th>sentence_count</th>\n",
       "      <th>pos_no</th>\n",
       "      <th>neg_no</th>\n",
       "      <th>user_deviation</th>\n",
       "      <th>user_delay</th>\n",
       "      <th>no_of_reviews</th>\n",
       "      <th>reviewer_days</th>\n",
       "      <th>lem_sim_length</th>\n",
       "      <th>overall</th>\n",
       "    </tr>\n",
       "  </thead>\n",
       "  <tbody>\n",
       "    <tr>\n",
       "      <th>0</th>\n",
       "      <td>0.0</td>\n",
       "      <td>427.000000</td>\n",
       "      <td>7.69</td>\n",
       "      <td>14.000000</td>\n",
       "      <td>1</td>\n",
       "      <td>2</td>\n",
       "      <td>4</td>\n",
       "      <td>1.399189</td>\n",
       "      <td>10152000.0</td>\n",
       "      <td>1</td>\n",
       "      <td>260.0</td>\n",
       "      <td>13</td>\n",
       "      <td>1.0</td>\n",
       "    </tr>\n",
       "    <tr>\n",
       "      <th>1</th>\n",
       "      <td>0.0</td>\n",
       "      <td>423.000000</td>\n",
       "      <td>9.72</td>\n",
       "      <td>8.666667</td>\n",
       "      <td>2</td>\n",
       "      <td>18</td>\n",
       "      <td>8</td>\n",
       "      <td>0.624437</td>\n",
       "      <td>10886400.0</td>\n",
       "      <td>1</td>\n",
       "      <td>1390.0</td>\n",
       "      <td>23</td>\n",
       "      <td>3.0</td>\n",
       "    </tr>\n",
       "    <tr>\n",
       "      <th>2</th>\n",
       "      <td>7.3</td>\n",
       "      <td>19.521739</td>\n",
       "      <td>5.92</td>\n",
       "      <td>7.666667</td>\n",
       "      <td>23</td>\n",
       "      <td>7</td>\n",
       "      <td>6</td>\n",
       "      <td>0.510375</td>\n",
       "      <td>7516800.0</td>\n",
       "      <td>1</td>\n",
       "      <td>929.0</td>\n",
       "      <td>16</td>\n",
       "      <td>2.0</td>\n",
       "    </tr>\n",
       "    <tr>\n",
       "      <th>3</th>\n",
       "      <td>10.8</td>\n",
       "      <td>12.800000</td>\n",
       "      <td>8.05</td>\n",
       "      <td>7.200000</td>\n",
       "      <td>5</td>\n",
       "      <td>2</td>\n",
       "      <td>0</td>\n",
       "      <td>0.442171</td>\n",
       "      <td>2678400.0</td>\n",
       "      <td>1</td>\n",
       "      <td>0.0</td>\n",
       "      <td>2</td>\n",
       "      <td>5.0</td>\n",
       "    </tr>\n",
       "    <tr>\n",
       "      <th>4</th>\n",
       "      <td>0.0</td>\n",
       "      <td>138.000000</td>\n",
       "      <td>8.09</td>\n",
       "      <td>4.400000</td>\n",
       "      <td>1</td>\n",
       "      <td>1</td>\n",
       "      <td>3</td>\n",
       "      <td>1.616074</td>\n",
       "      <td>7603200.0</td>\n",
       "      <td>1</td>\n",
       "      <td>0.0</td>\n",
       "      <td>2</td>\n",
       "      <td>1.0</td>\n",
       "    </tr>\n",
       "  </tbody>\n",
       "</table>\n",
       "</div>"
      ],
      "text/plain": [
       "   smog_index         wps  coleman_liau_index  linsear_write_formula  \\\n",
       "0         0.0  427.000000                7.69              14.000000   \n",
       "1         0.0  423.000000                9.72               8.666667   \n",
       "2         7.3   19.521739                5.92               7.666667   \n",
       "3        10.8   12.800000                8.05               7.200000   \n",
       "4         0.0  138.000000                8.09               4.400000   \n",
       "\n",
       "   sentence_count  pos_no  neg_no  user_deviation  user_delay  no_of_reviews  \\\n",
       "0               1       2       4        1.399189  10152000.0              1   \n",
       "1               2      18       8        0.624437  10886400.0              1   \n",
       "2              23       7       6        0.510375   7516800.0              1   \n",
       "3               5       2       0        0.442171   2678400.0              1   \n",
       "4               1       1       3        1.616074   7603200.0              1   \n",
       "\n",
       "   reviewer_days  lem_sim_length  overall  \n",
       "0          260.0              13      1.0  \n",
       "1         1390.0              23      3.0  \n",
       "2          929.0              16      2.0  \n",
       "3            0.0               2      5.0  \n",
       "4            0.0               2      1.0  "
      ]
     },
     "execution_count": 708,
     "metadata": {},
     "output_type": "execute_result"
    }
   ],
   "source": [
    "X.head()"
   ]
  },
  {
   "cell_type": "code",
   "execution_count": 709,
   "metadata": {
    "collapsed": true
   },
   "outputs": [],
   "source": [
    "y = review_df['helpfulness_score']\n",
    "\t\n",
    "X_train, X_test, y_train, y_test = train_test_split(X, y, test_size=0.4, random_state=101)"
   ]
  },
  {
   "cell_type": "code",
   "execution_count": 710,
   "metadata": {
    "collapsed": true
   },
   "outputs": [],
   "source": [
    "xgb_reg = xgb.XGBRegressor()"
   ]
  },
  {
   "cell_type": "code",
   "execution_count": 711,
   "metadata": {},
   "outputs": [
    {
     "name": "stdout",
     "output_type": "stream",
     "text": [
      "Best Learning Rate : 0.09 , Best No of Estimators : 400 , Best Subsample size : 0.9\n"
     ]
    }
   ],
   "source": [
    "print(\"Best Learning Rate : {} , Best No of Estimators : {} , Best Subsample size : {}\".format(best_learning_rate, best_n_estimators, best_subsample))"
   ]
  },
  {
   "cell_type": "code",
   "execution_count": 712,
   "metadata": {},
   "outputs": [
    {
     "data": {
      "text/plain": [
       "XGBRegressor(base_score=0.5, booster='gbtree', colsample_bylevel=1,\n",
       "       colsample_bytree=1, gamma=0, learning_rate=0.1, max_delta_step=0,\n",
       "       max_depth=3, min_child_weight=1, missing=None, n_estimators=100,\n",
       "       n_jobs=1, nthread=None, objective='reg:linear', random_state=0,\n",
       "       reg_alpha=0, reg_lambda=1, scale_pos_weight=1, seed=None,\n",
       "       silent=True, subsample=1)"
      ]
     },
     "execution_count": 712,
     "metadata": {},
     "output_type": "execute_result"
    }
   ],
   "source": [
    "xgb_reg.fit(X_train,y_train)"
   ]
  },
  {
   "cell_type": "code",
   "execution_count": 713,
   "metadata": {
    "collapsed": true
   },
   "outputs": [],
   "source": [
    "predictions=xgb_reg.predict(X_test)"
   ]
  },
  {
   "cell_type": "code",
   "execution_count": 714,
   "metadata": {},
   "outputs": [
    {
     "name": "stdout",
     "output_type": "stream",
     "text": [
      "Mean Squared Error (MSE):       0.03749584249070656\n",
      "Root Mean Squared Error (RMSE): 0.19363843236998837\n",
      "Mean Absolute Error (MAE):      0.1335894220636948\n"
     ]
    }
   ],
   "source": [
    "# MSE : Mean Squared Error\n",
    "mse=mean_squared_error(y_test,predictions)\n",
    "\n",
    "# RMSE : Root Mean Squared Error\n",
    "rmse=math.sqrt(mean_squared_error(y_test,predictions))\n",
    "\n",
    "# MAE : Mean Absolute Error\n",
    "mae=mean_absolute_error(y_test,predictions)\n",
    "\n",
    "print('Mean Squared Error (MSE):      ',mse)\n",
    "print('Root Mean Squared Error (RMSE):',rmse)\n",
    "print('Mean Absolute Error (MAE):     ',mae)"
   ]
  },
  {
   "cell_type": "code",
   "execution_count": 693,
   "metadata": {},
   "outputs": [
    {
     "name": "stdout",
     "output_type": "stream",
     "text": [
      "{'learning_rate': 0.01, 'n_estimators': 200, 'subsample': 0.3, 'rmse': 0.2033476304568681, 'mae': 0.1572598743815295}\n",
      "{'learning_rate': 0.01, 'n_estimators': 200, 'subsample': 0.5, 'rmse': 0.20359316383768933, 'mae': 0.1574722327778122}\n",
      "{'learning_rate': 0.01, 'n_estimators': 200, 'subsample': 0.9, 'rmse': 0.20379005892453583, 'mae': 0.1576244288572968}\n",
      "{'learning_rate': 0.01, 'n_estimators': 200, 'subsample': 1, 'rmse': 0.20384708183632821, 'mae': 0.1576827554095967}\n",
      "{'learning_rate': 0.01, 'n_estimators': 300, 'subsample': 0.3, 'rmse': 0.19731976332700435, 'mae': 0.1423085072352256}\n",
      "{'learning_rate': 0.01, 'n_estimators': 300, 'subsample': 0.5, 'rmse': 0.197575500529425, 'mae': 0.1425071965580442}\n",
      "{'learning_rate': 0.01, 'n_estimators': 300, 'subsample': 0.9, 'rmse': 0.19775580404169904, 'mae': 0.14270564787289575}\n",
      "{'learning_rate': 0.01, 'n_estimators': 300, 'subsample': 1, 'rmse': 0.1978348977067556, 'mae': 0.1427958165350609}\n",
      "{'learning_rate': 0.01, 'n_estimators': 400, 'subsample': 0.3, 'rmse': 0.1956771485201474, 'mae': 0.13729316639526135}\n",
      "{'learning_rate': 0.01, 'n_estimators': 400, 'subsample': 0.5, 'rmse': 0.19586470374070525, 'mae': 0.1374758143332403}\n",
      "{'learning_rate': 0.01, 'n_estimators': 400, 'subsample': 0.9, 'rmse': 0.19603721963320278, 'mae': 0.1377165520031102}\n",
      "{'learning_rate': 0.01, 'n_estimators': 400, 'subsample': 1, 'rmse': 0.19608980960289268, 'mae': 0.13778059507540322}\n",
      "{'learning_rate': 0.01, 'n_estimators': 500, 'subsample': 0.3, 'rmse': 0.19486481575881834, 'mae': 0.13526430754764865}\n",
      "{'learning_rate': 0.01, 'n_estimators': 500, 'subsample': 0.5, 'rmse': 0.19503505418127803, 'mae': 0.13548178747684225}\n",
      "{'learning_rate': 0.01, 'n_estimators': 500, 'subsample': 0.9, 'rmse': 0.19520922161356707, 'mae': 0.13576773947989232}\n",
      "{'learning_rate': 0.01, 'n_estimators': 500, 'subsample': 1, 'rmse': 0.195199332994647, 'mae': 0.1358090417421177}\n",
      "{'learning_rate': 0.09, 'n_estimators': 200, 'subsample': 0.3, 'rmse': 0.19372037298622882, 'mae': 0.13314969902168192}\n",
      "{'learning_rate': 0.09, 'n_estimators': 200, 'subsample': 0.5, 'rmse': 0.19308190160068356, 'mae': 0.13284605154604504}\n",
      "{'learning_rate': 0.09, 'n_estimators': 200, 'subsample': 0.9, 'rmse': 0.1928807448973994, 'mae': 0.13284563454523426}\n",
      "{'learning_rate': 0.09, 'n_estimators': 200, 'subsample': 1, 'rmse': 0.19298229859472144, 'mae': 0.1329916768445648}\n",
      "{'learning_rate': 0.09, 'n_estimators': 300, 'subsample': 0.3, 'rmse': 0.19347952468768315, 'mae': 0.1332013182964349}\n",
      "{'learning_rate': 0.09, 'n_estimators': 300, 'subsample': 0.5, 'rmse': 0.19278580526699968, 'mae': 0.13270512341965937}\n",
      "{'learning_rate': 0.09, 'n_estimators': 300, 'subsample': 0.9, 'rmse': 0.19249531286871532, 'mae': 0.13249347276691012}\n",
      "{'learning_rate': 0.09, 'n_estimators': 300, 'subsample': 1, 'rmse': 0.19276480021724746, 'mae': 0.1327318820614529}\n",
      "{'learning_rate': 0.09, 'n_estimators': 400, 'subsample': 0.3, 'rmse': 0.19356019562349042, 'mae': 0.13303414383598924}\n",
      "{'learning_rate': 0.09, 'n_estimators': 400, 'subsample': 0.5, 'rmse': 0.19276980150587172, 'mae': 0.13245828824183795}\n",
      "{'learning_rate': 0.09, 'n_estimators': 400, 'subsample': 0.9, 'rmse': 0.1924226773642787, 'mae': 0.13235961470501104}\n",
      "{'learning_rate': 0.09, 'n_estimators': 400, 'subsample': 1, 'rmse': 0.19263958154867442, 'mae': 0.13254179221722254}\n",
      "{'learning_rate': 0.09, 'n_estimators': 500, 'subsample': 0.3, 'rmse': 0.19352857583113084, 'mae': 0.13276868377469225}\n",
      "{'learning_rate': 0.09, 'n_estimators': 500, 'subsample': 0.5, 'rmse': 0.1927765249488596, 'mae': 0.1323065913673192}\n",
      "{'learning_rate': 0.09, 'n_estimators': 500, 'subsample': 0.9, 'rmse': 0.19248574787674927, 'mae': 0.13233826751275282}\n",
      "{'learning_rate': 0.09, 'n_estimators': 500, 'subsample': 1, 'rmse': 0.19261361519972825, 'mae': 0.1324659045611545}\n",
      "{'learning_rate': 0.1, 'n_estimators': 200, 'subsample': 0.3, 'rmse': 0.19356776703197212, 'mae': 0.13315049719948735}\n",
      "{'learning_rate': 0.1, 'n_estimators': 200, 'subsample': 0.5, 'rmse': 0.19311018899656054, 'mae': 0.13300109427990853}\n",
      "{'learning_rate': 0.1, 'n_estimators': 200, 'subsample': 0.9, 'rmse': 0.19290027050109282, 'mae': 0.13278974706984123}\n",
      "{'learning_rate': 0.1, 'n_estimators': 200, 'subsample': 1, 'rmse': 0.19300596683175042, 'mae': 0.1329161101635913}\n",
      "{'learning_rate': 0.1, 'n_estimators': 300, 'subsample': 0.3, 'rmse': 0.19355229764766146, 'mae': 0.13325241368860002}\n",
      "{'learning_rate': 0.1, 'n_estimators': 300, 'subsample': 0.5, 'rmse': 0.19305541859718056, 'mae': 0.13297572762381024}\n",
      "{'learning_rate': 0.1, 'n_estimators': 300, 'subsample': 0.9, 'rmse': 0.19264415782084696, 'mae': 0.13249034437095833}\n",
      "{'learning_rate': 0.1, 'n_estimators': 300, 'subsample': 1, 'rmse': 0.19282652365119485, 'mae': 0.13265042327624355}\n",
      "{'learning_rate': 0.1, 'n_estimators': 400, 'subsample': 0.3, 'rmse': 0.19370651791419338, 'mae': 0.133150572682603}\n",
      "{'learning_rate': 0.1, 'n_estimators': 400, 'subsample': 0.5, 'rmse': 0.19300966857868818, 'mae': 0.13271258121197996}\n",
      "{'learning_rate': 0.1, 'n_estimators': 400, 'subsample': 0.9, 'rmse': 0.19253349828547284, 'mae': 0.13232935886336883}\n",
      "{'learning_rate': 0.1, 'n_estimators': 400, 'subsample': 1, 'rmse': 0.19282879247966594, 'mae': 0.13259208469073797}\n",
      "{'learning_rate': 0.1, 'n_estimators': 500, 'subsample': 0.3, 'rmse': 0.19377967943652147, 'mae': 0.13296600631934544}\n",
      "{'learning_rate': 0.1, 'n_estimators': 500, 'subsample': 0.5, 'rmse': 0.19308740298331128, 'mae': 0.1325451288352066}\n",
      "{'learning_rate': 0.1, 'n_estimators': 500, 'subsample': 0.9, 'rmse': 0.19260675275208616, 'mae': 0.13233504050893463}\n",
      "{'learning_rate': 0.1, 'n_estimators': 500, 'subsample': 1, 'rmse': 0.19287312686349775, 'mae': 0.1326021838578727}\n",
      "{'learning_rate': 0.2, 'n_estimators': 200, 'subsample': 0.3, 'rmse': 0.19490198979261836, 'mae': 0.13344886915822377}\n",
      "{'learning_rate': 0.2, 'n_estimators': 200, 'subsample': 0.5, 'rmse': 0.19315784989689527, 'mae': 0.13258288609525182}\n",
      "{'learning_rate': 0.2, 'n_estimators': 200, 'subsample': 0.9, 'rmse': 0.19284811847321917, 'mae': 0.13256270390521913}\n",
      "{'learning_rate': 0.2, 'n_estimators': 200, 'subsample': 1, 'rmse': 0.19298362539634614, 'mae': 0.13257898034397805}\n",
      "{'learning_rate': 0.2, 'n_estimators': 300, 'subsample': 0.3, 'rmse': 0.1950903748361387, 'mae': 0.13393454448477587}\n",
      "{'learning_rate': 0.2, 'n_estimators': 300, 'subsample': 0.5, 'rmse': 0.19351175471939794, 'mae': 0.13297716217689198}\n",
      "{'learning_rate': 0.2, 'n_estimators': 300, 'subsample': 0.9, 'rmse': 0.19305182817214858, 'mae': 0.13259313551002455}\n",
      "{'learning_rate': 0.2, 'n_estimators': 300, 'subsample': 1, 'rmse': 0.1929888801538933, 'mae': 0.13253040772407165}\n",
      "{'learning_rate': 0.2, 'n_estimators': 400, 'subsample': 0.3, 'rmse': 0.19545285934886705, 'mae': 0.13396288443795734}\n",
      "{'learning_rate': 0.2, 'n_estimators': 400, 'subsample': 0.5, 'rmse': 0.19391504504005264, 'mae': 0.13304861836600781}\n",
      "{'learning_rate': 0.2, 'n_estimators': 400, 'subsample': 0.9, 'rmse': 0.1930531623713298, 'mae': 0.13250573693340537}\n",
      "{'learning_rate': 0.2, 'n_estimators': 400, 'subsample': 1, 'rmse': 0.19310003086357377, 'mae': 0.1325115949308227}\n",
      "{'learning_rate': 0.2, 'n_estimators': 500, 'subsample': 0.3, 'rmse': 0.19596016794208926, 'mae': 0.13409957702817404}\n",
      "{'learning_rate': 0.2, 'n_estimators': 500, 'subsample': 0.5, 'rmse': 0.1943492184898216, 'mae': 0.13328035193899151}\n",
      "{'learning_rate': 0.2, 'n_estimators': 500, 'subsample': 0.9, 'rmse': 0.19328736203425084, 'mae': 0.1326413163293455}\n",
      "{'learning_rate': 0.2, 'n_estimators': 500, 'subsample': 1, 'rmse': 0.1932654176645484, 'mae': 0.13261553137783552}\n",
      "{'learning_rate': 0.5, 'n_estimators': 200, 'subsample': 0.3, 'rmse': 0.20136162962040818, 'mae': 0.13702252136189716}\n",
      "{'learning_rate': 0.5, 'n_estimators': 200, 'subsample': 0.5, 'rmse': 0.19818468232110933, 'mae': 0.1354104803451944}\n",
      "{'learning_rate': 0.5, 'n_estimators': 200, 'subsample': 0.9, 'rmse': 0.19525429850384937, 'mae': 0.13395937522842616}\n",
      "{'learning_rate': 0.5, 'n_estimators': 200, 'subsample': 1, 'rmse': 0.1949535178421295, 'mae': 0.13370970667110602}\n",
      "{'learning_rate': 0.5, 'n_estimators': 300, 'subsample': 0.3, 'rmse': 0.2033848304305754, 'mae': 0.13910441537428098}\n",
      "{'learning_rate': 0.5, 'n_estimators': 300, 'subsample': 0.5, 'rmse': 0.2002498975312421, 'mae': 0.13688802592159313}\n",
      "{'learning_rate': 0.5, 'n_estimators': 300, 'subsample': 0.9, 'rmse': 0.19633519213485467, 'mae': 0.1347799536623886}\n",
      "{'learning_rate': 0.5, 'n_estimators': 300, 'subsample': 1, 'rmse': 0.19617901645656782, 'mae': 0.13456094919922265}\n",
      "{'learning_rate': 0.5, 'n_estimators': 400, 'subsample': 0.3, 'rmse': 0.20509419924846434, 'mae': 0.13966607321661048}\n",
      "{'learning_rate': 0.5, 'n_estimators': 400, 'subsample': 0.5, 'rmse': 0.20217281475323157, 'mae': 0.13804061153772998}\n",
      "{'learning_rate': 0.5, 'n_estimators': 400, 'subsample': 0.9, 'rmse': 0.19758024304207195, 'mae': 0.13561853897917087}\n",
      "{'learning_rate': 0.5, 'n_estimators': 400, 'subsample': 1, 'rmse': 0.1970559141182705, 'mae': 0.13511978388851958}\n",
      "{'learning_rate': 0.5, 'n_estimators': 500, 'subsample': 0.3, 'rmse': 0.20826491022709573, 'mae': 0.14146953674327634}\n",
      "{'learning_rate': 0.5, 'n_estimators': 500, 'subsample': 0.5, 'rmse': 0.2033274076217017, 'mae': 0.1390163278452075}\n",
      "{'learning_rate': 0.5, 'n_estimators': 500, 'subsample': 0.9, 'rmse': 0.19849996284231314, 'mae': 0.13617630022925095}\n",
      "{'learning_rate': 0.5, 'n_estimators': 500, 'subsample': 1, 'rmse': 0.19787039415939506, 'mae': 0.1358311869530384}\n",
      "{'learning_rate': 0.9, 'n_estimators': 200, 'subsample': 0.3, 'rmse': 0.21830751191145326, 'mae': 0.14494559315411557}\n",
      "{'learning_rate': 0.9, 'n_estimators': 200, 'subsample': 0.5, 'rmse': 0.20708804378694254, 'mae': 0.1400037262466946}\n",
      "{'learning_rate': 0.9, 'n_estimators': 200, 'subsample': 0.9, 'rmse': 0.20127396779006926, 'mae': 0.13738096405742142}\n",
      "{'learning_rate': 0.9, 'n_estimators': 200, 'subsample': 1, 'rmse': 0.19983831095109109, 'mae': 0.13704368927079735}\n",
      "{'learning_rate': 0.9, 'n_estimators': 300, 'subsample': 0.3, 'rmse': 0.22912779136994557, 'mae': 0.1494528912347786}\n",
      "{'learning_rate': 0.9, 'n_estimators': 300, 'subsample': 0.5, 'rmse': 0.2117153164173738, 'mae': 0.14372064993401834}\n",
      "{'learning_rate': 0.9, 'n_estimators': 300, 'subsample': 0.9, 'rmse': 0.20403566954896, 'mae': 0.13931775732110785}\n",
      "{'learning_rate': 0.9, 'n_estimators': 300, 'subsample': 1, 'rmse': 0.20165629327896006, 'mae': 0.13812458920218168}\n",
      "{'learning_rate': 0.9, 'n_estimators': 400, 'subsample': 0.3, 'rmse': 0.23515675716874151, 'mae': 0.1519936811817088}\n",
      "{'learning_rate': 0.9, 'n_estimators': 400, 'subsample': 0.5, 'rmse': 0.21561537672874692, 'mae': 0.1458960551453729}\n",
      "{'learning_rate': 0.9, 'n_estimators': 400, 'subsample': 0.9, 'rmse': 0.20604349997192528, 'mae': 0.14088377378646402}\n",
      "{'learning_rate': 0.9, 'n_estimators': 400, 'subsample': 1, 'rmse': 0.20379421637022405, 'mae': 0.13986705457788876}\n",
      "{'learning_rate': 0.9, 'n_estimators': 500, 'subsample': 0.3, 'rmse': 0.24469771551024105, 'mae': 0.15604615942008926}\n",
      "{'learning_rate': 0.9, 'n_estimators': 500, 'subsample': 0.5, 'rmse': 0.218706170754104, 'mae': 0.14829135956659248}\n",
      "{'learning_rate': 0.9, 'n_estimators': 500, 'subsample': 0.9, 'rmse': 0.20795252962183022, 'mae': 0.1425180844686298}\n",
      "{'learning_rate': 0.9, 'n_estimators': 500, 'subsample': 1, 'rmse': 0.206062069933791, 'mae': 0.14156641921510824}\n"
     ]
    }
   ],
   "source": [
    "best_rmse_4=1000\n",
    "best_mae_4=1000\n",
    "for rate in params['learning_rate'] :\n",
    "    for estimator in params['n_estimators'] :\n",
    "        for subsample in params['subsample'] :\n",
    "            xgb_model = xgb.XGBRegressor(learning_rate= rate, n_estimators = estimator, subsample=subsample)\n",
    "            xgb_model.fit(X_train,y_train)\n",
    "            predictions=xgb_model.predict(X_test)\n",
    "            rmse=math.sqrt(mean_squared_error(y_test,predictions))\n",
    "            mae=mean_absolute_error(y_test,predictions)\n",
    "            \n",
    "            res_dict = {'learning_rate': rate, 'n_estimators': estimator, 'subsample': subsample, 'rmse' : rmse, 'mae' : mae }\n",
    "            result_df.append(res_dict, ignore_index=True)\n",
    "\n",
    "            print(res_dict)\n",
    "            \n",
    "            if(rmse<=best_rmse_4) :\n",
    "                if(mae < best_mae_4) :\n",
    "                    best_rmse_4 = rmse\n",
    "                    best_mae_4 = mae\n",
    "                    best_learning_rate_4 = rate\n",
    "                    best_n_estimators_4 = estimator\n",
    "                    best_subsample_4 = subsample\n",
    "            "
   ]
  },
  {
   "cell_type": "code",
   "execution_count": 694,
   "metadata": {},
   "outputs": [
    {
     "data": {
      "text/plain": [
       "0.13235961470501104"
      ]
     },
     "execution_count": 694,
     "metadata": {},
     "output_type": "execute_result"
    }
   ],
   "source": [
    "best_mae_4"
   ]
  },
  {
   "cell_type": "code",
   "execution_count": 695,
   "metadata": {},
   "outputs": [
    {
     "data": {
      "text/plain": [
       "0.1924226773642787"
      ]
     },
     "execution_count": 695,
     "metadata": {},
     "output_type": "execute_result"
    }
   ],
   "source": [
    "best_rmse_4"
   ]
  },
  {
   "cell_type": "markdown",
   "metadata": {},
   "source": [
    "### Per-Feature Prediction"
   ]
  },
  {
   "cell_type": "code",
   "execution_count": 24,
   "metadata": {
    "scrolled": true
   },
   "outputs": [
    {
     "name": "stdout",
     "output_type": "stream",
     "text": [
      "Features:  Index(['flesch_reading_ease', 'smog_index', 'flesch_kincaid_grade',\n",
      "       'coleman_liau_index', 'automated_readability_index',\n",
      "       'dale_chall_readability_score', 'difficult_words',\n",
      "       'linsear_write_formula', 'gunning_fog', 'sentence_count', 'wps',\n",
      "       'review_length', 'pos_no', 'neg_no', 'user_deviation', 'user_delay',\n",
      "       'no_of_reviews', 'reviewer_days', 'stem_sim_length', 'lem_sim_length',\n",
      "       'overall'],\n",
      "      dtype='object')\n",
      "No of Features:  21\n"
     ]
    }
   ],
   "source": [
    "X = text_df[['flesch_reading_ease', \n",
    "       'smog_index', 'flesch_kincaid_grade', 'coleman_liau_index',\n",
    "       'automated_readability_index', 'dale_chall_readability_score',\n",
    "       'difficult_words', 'linsear_write_formula', 'gunning_fog',\n",
    "       'sentence_count', 'wps', 'review_length', 'pos_no', 'neg_no']]\n",
    "\n",
    "X=X.join(user_df[['user_deviation', 'user_delay','no_of_reviews', 'reviewer_days']])\n",
    "\n",
    "X = X.join(meta_df[['stem_sim_length','lem_sim_length','overall']])\n",
    "\n",
    "print(\"Features: \",X.columns)\n",
    "print(\"No of Features: \",len(X.columns))"
   ]
  },
  {
   "cell_type": "code",
   "execution_count": 25,
   "metadata": {
    "collapsed": true
   },
   "outputs": [],
   "source": [
    "y = review_df['helpfulness_score']\n",
    "\t\n",
    "X_train, X_test, y_train, y_test = train_test_split(X, y, test_size=0.4, random_state=101)"
   ]
  },
  {
   "cell_type": "code",
   "execution_count": 18,
   "metadata": {
    "collapsed": true
   },
   "outputs": [],
   "source": [
    "featurewise_result= pd.DataFrame(columns=['feature','correlation','rmse-LR','mae-LR','rmse-RF','mae-RF','rmse-XGB','mae-XGB'])\n",
    "for col in X.columns:\n",
    "    tempdict={}\n",
    "    tempdict['feature']=col\n",
    "    # GET CORRELATION WITH HELPFULNESS\n",
    "    a = X[col]\n",
    "    tempdict['correlation'] = a.corr(y)\n",
    "    \n",
    "    train = X_train[col]\n",
    "    test  = X_test[col]\n",
    "    \n",
    "    train = np.array(train).reshape(-1,1)\n",
    "    test = np.array(test).reshape(-1,1)\n",
    "   \n",
    "    #LINEAR REGRESSION\n",
    "    lm = LinearRegression()\n",
    "    lm.fit(train,y_train)\n",
    "    predictions = lm.predict(test)\n",
    "    \n",
    "    tempdict['rmse-LR']=math.sqrt(mean_squared_error(y_test,predictions))\n",
    "    tempdict['mae-LR']=mean_absolute_error(y_test,predictions)\n",
    "    \n",
    "    #RANDOM FOREST\n",
    "    regressor = RandomForestRegressor(n_estimators=500, random_state=42)\n",
    "    regressor.fit(train,y_train)\n",
    "    preds_2 = regressor.predict(test)\n",
    "\n",
    "    tempdict['rmse-RF']=math.sqrt(mean_squared_error(y_test,preds_2))\n",
    "    tempdict['mae-RF']=mean_absolute_error(y_test,preds_2)\n",
    "    \n",
    "    #XGBOOST\n",
    "    xgb_reg = xgb.XGBRegressor()\n",
    "    xgb_reg.fit(train,y_train)\n",
    "    preds_3 = xgb_reg.predict(test)\n",
    "    \n",
    "    tempdict['rmse-XGB'] = math.sqrt(mean_squared_error(y_test,preds_3))\n",
    "    tempdict['mae-XGB'] = mean_absolute_error(y_test,preds_3)\n",
    "    \n",
    "    \n",
    "    tempSeries=pd.Series(tempdict)\n",
    "    featurewise_result=featurewise_result.append(tempSeries, ignore_index=True)\n",
    "    "
   ]
  },
  {
   "cell_type": "code",
   "execution_count": 19,
   "metadata": {
    "collapsed": true
   },
   "outputs": [],
   "source": [
    "featurewise_result.to_csv('Featurewise_Final.csv', index=False)"
   ]
  },
  {
   "cell_type": "markdown",
   "metadata": {},
   "source": [
    "### Category-wise Prediction"
   ]
  },
  {
   "cell_type": "code",
   "execution_count": 26,
   "metadata": {
    "collapsed": true
   },
   "outputs": [],
   "source": [
    "categorywise_result= pd.DataFrame(columns=['category','rmse-LR','mae-LR','rmse-RF','mae-RF', 'rmse-XGB', 'mae-XGB'])"
   ]
  },
  {
   "cell_type": "code",
   "execution_count": 27,
   "metadata": {
    "collapsed": true
   },
   "outputs": [],
   "source": [
    "#USER FEATURES vs. HELPFULNESS\n",
    "tempdict={}\n",
    "tempdict['category']='User Features'\n",
    "\n",
    "cols = ['user_deviation', 'user_delay', 'no_of_reviews', 'reviewer_days']\n",
    "train = X_train[cols]\n",
    "test  = X_test[cols]\n",
    "\n",
    "#LINEAR REGRESSION\n",
    "lm = LinearRegression()\n",
    "lm.fit(train,y_train)\n",
    "predictions = lm.predict(test)\n",
    "\n",
    "\n",
    "tempdict['rmse-LR']=math.sqrt(mean_squared_error(y_test,predictions))\n",
    "tempdict['mae-LR']=mean_absolute_error(y_test,predictions)\n",
    "\n",
    "#RANDOM FOREST\n",
    "regressor = RandomForestRegressor(n_estimators=500, random_state=42)\n",
    "regressor.fit(train,y_train)\n",
    "preds_2 = regressor.predict(test)\n",
    "\n",
    "tempdict['rmse-RF']=math.sqrt(mean_squared_error(y_test,preds_2))\n",
    "tempdict['mae-RF']=mean_absolute_error(y_test,preds_2)\n",
    "\n",
    "#XGBOOST\n",
    "xgb_reg = xgb.XGBRegressor()\n",
    "xgb_reg.fit(train,y_train)\n",
    "preds_3 = xgb_reg.predict(test)\n",
    "\n",
    "tempdict['rmse-XGB'] = math.sqrt(mean_squared_error(y_test,preds_3))\n",
    "tempdict['mae-XGB'] = mean_absolute_error(y_test,preds_3)\n",
    "\n",
    "tempSeries=pd.Series(tempdict)\n",
    "categorywise_result=categorywise_result.append(tempSeries, ignore_index=True)"
   ]
  },
  {
   "cell_type": "code",
   "execution_count": 28,
   "metadata": {
    "scrolled": true
   },
   "outputs": [
    {
     "data": {
      "text/html": [
       "<div>\n",
       "<style scoped>\n",
       "    .dataframe tbody tr th:only-of-type {\n",
       "        vertical-align: middle;\n",
       "    }\n",
       "\n",
       "    .dataframe tbody tr th {\n",
       "        vertical-align: top;\n",
       "    }\n",
       "\n",
       "    .dataframe thead th {\n",
       "        text-align: right;\n",
       "    }\n",
       "</style>\n",
       "<table border=\"1\" class=\"dataframe\">\n",
       "  <thead>\n",
       "    <tr style=\"text-align: right;\">\n",
       "      <th></th>\n",
       "      <th>category</th>\n",
       "      <th>rmse-LR</th>\n",
       "      <th>mae-LR</th>\n",
       "      <th>rmse-RF</th>\n",
       "      <th>mae-RF</th>\n",
       "      <th>rmse-XGB</th>\n",
       "      <th>mae-XGB</th>\n",
       "    </tr>\n",
       "  </thead>\n",
       "  <tbody>\n",
       "    <tr>\n",
       "      <th>0</th>\n",
       "      <td>User Features</td>\n",
       "      <td>0.223521</td>\n",
       "      <td>0.159481</td>\n",
       "      <td>0.236387</td>\n",
       "      <td>0.165092</td>\n",
       "      <td>0.221966</td>\n",
       "      <td>0.158669</td>\n",
       "    </tr>\n",
       "  </tbody>\n",
       "</table>\n",
       "</div>"
      ],
      "text/plain": [
       "        category   rmse-LR    mae-LR   rmse-RF    mae-RF  rmse-XGB   mae-XGB\n",
       "0  User Features  0.223521  0.159481  0.236387  0.165092  0.221966  0.158669"
      ]
     },
     "execution_count": 28,
     "metadata": {},
     "output_type": "execute_result"
    }
   ],
   "source": [
    "categorywise_result"
   ]
  },
  {
   "cell_type": "code",
   "execution_count": 29,
   "metadata": {
    "collapsed": true
   },
   "outputs": [],
   "source": [
    "#REVIEW TEXT FEATURES vs. HELPFULNESS\n",
    "tempdict={}\n",
    "tempdict['category']='Review Text Features'\n",
    "\n",
    "cols = ['flesch_reading_ease', 'smog_index', 'flesch_kincaid_grade',\n",
    "       'coleman_liau_index', 'automated_readability_index',\n",
    "       'dale_chall_readability_score', 'difficult_words',\n",
    "       'linsear_write_formula', 'gunning_fog', 'sentence_count', 'wps',\n",
    "       'review_length', 'pos_no', 'neg_no',]\n",
    "train = X_train[cols]\n",
    "test  = X_test[cols]\n",
    "\n",
    "#LINEAR REGRESSION\n",
    "lm = LinearRegression()\n",
    "lm.fit(train,y_train)\n",
    "predictions = lm.predict(test)\n",
    "\n",
    "\n",
    "tempdict['rmse-LR']=math.sqrt(mean_squared_error(y_test,predictions))\n",
    "tempdict['mae-LR']=mean_absolute_error(y_test,predictions)\n",
    "\n",
    "#RANDOM FOREST\n",
    "regressor = RandomForestRegressor(n_estimators=500, random_state=42)\n",
    "regressor.fit(train,y_train)\n",
    "preds_2 = regressor.predict(test)\n",
    "\n",
    "\n",
    "tempdict['rmse-RF']=math.sqrt(mean_squared_error(y_test,preds_2))\n",
    "tempdict['mae-RF']=mean_absolute_error(y_test,preds_2)\n",
    "\n",
    "#XGBOOST\n",
    "xgb_reg = xgb.XGBRegressor()\n",
    "xgb_reg.fit(train,y_train)\n",
    "preds_3 = xgb_reg.predict(test)\n",
    "\n",
    "tempdict['rmse-XGB'] = math.sqrt(mean_squared_error(y_test,preds_3))\n",
    "tempdict['mae-XGB'] = mean_absolute_error(y_test,preds_3)\n",
    "\n",
    "tempSeries=pd.Series(tempdict)\n",
    "categorywise_result=categorywise_result.append(tempSeries, ignore_index=True)"
   ]
  },
  {
   "cell_type": "code",
   "execution_count": 30,
   "metadata": {
    "collapsed": true
   },
   "outputs": [],
   "source": [
    "#METADATA FEATURES vs. HELPFULNESS\n",
    "tempdict={}\n",
    "tempdict['category']='Meta Data Features'\n",
    "\n",
    "cols = ['stem_sim_length', 'lem_sim_length', 'overall']\n",
    "train = X_train[cols]\n",
    "test  = X_test[cols]\n",
    "\n",
    "#LINEAR REGRESSION\n",
    "lm = LinearRegression()\n",
    "lm.fit(train,y_train)\n",
    "predictions = lm.predict(test)\n",
    "\n",
    "\n",
    "tempdict['rmse-LR']=math.sqrt(mean_squared_error(y_test,predictions))\n",
    "tempdict['mae-LR']=mean_absolute_error(y_test,predictions)\n",
    "\n",
    "#RANDOM FOREST\n",
    "regressor = RandomForestRegressor(n_estimators=500, random_state=42)\n",
    "regressor.fit(train,y_train)\n",
    "preds_2 = regressor.predict(test)\n",
    "\n",
    "\n",
    "tempdict['rmse-RF']=math.sqrt(mean_squared_error(y_test,preds_2))\n",
    "tempdict['mae-RF']=mean_absolute_error(y_test,preds_2)\n",
    "\n",
    "#XGBOOST\n",
    "xgb_reg = xgb.XGBRegressor()\n",
    "xgb_reg.fit(train,y_train)\n",
    "preds_3 = xgb_reg.predict(test)\n",
    "\n",
    "tempdict['rmse-XGB'] = math.sqrt(mean_squared_error(y_test,preds_3))\n",
    "tempdict['mae-XGB'] = mean_absolute_error(y_test,preds_3)\n",
    "\n",
    "tempSeries=pd.Series(tempdict)\n",
    "categorywise_result=categorywise_result.append(tempSeries, ignore_index=True)"
   ]
  },
  {
   "cell_type": "code",
   "execution_count": 31,
   "metadata": {
    "collapsed": true
   },
   "outputs": [],
   "source": [
    "categorywise_result.to_csv('Categorywise_Final.csv', index=False)"
   ]
  },
  {
   "cell_type": "code",
   "execution_count": 32,
   "metadata": {
    "scrolled": true
   },
   "outputs": [
    {
     "data": {
      "text/html": [
       "<div>\n",
       "<style scoped>\n",
       "    .dataframe tbody tr th:only-of-type {\n",
       "        vertical-align: middle;\n",
       "    }\n",
       "\n",
       "    .dataframe tbody tr th {\n",
       "        vertical-align: top;\n",
       "    }\n",
       "\n",
       "    .dataframe thead th {\n",
       "        text-align: right;\n",
       "    }\n",
       "</style>\n",
       "<table border=\"1\" class=\"dataframe\">\n",
       "  <thead>\n",
       "    <tr style=\"text-align: right;\">\n",
       "      <th></th>\n",
       "      <th>category</th>\n",
       "      <th>rmse-LR</th>\n",
       "      <th>mae-LR</th>\n",
       "      <th>rmse-RF</th>\n",
       "      <th>mae-RF</th>\n",
       "      <th>rmse-XGB</th>\n",
       "      <th>mae-XGB</th>\n",
       "    </tr>\n",
       "  </thead>\n",
       "  <tbody>\n",
       "    <tr>\n",
       "      <th>0</th>\n",
       "      <td>User Features</td>\n",
       "      <td>0.223521</td>\n",
       "      <td>0.159481</td>\n",
       "      <td>0.236387</td>\n",
       "      <td>0.165092</td>\n",
       "      <td>0.221966</td>\n",
       "      <td>0.158669</td>\n",
       "    </tr>\n",
       "    <tr>\n",
       "      <th>1</th>\n",
       "      <td>Review Text Features</td>\n",
       "      <td>0.225886</td>\n",
       "      <td>0.165162</td>\n",
       "      <td>0.223141</td>\n",
       "      <td>0.162692</td>\n",
       "      <td>0.217774</td>\n",
       "      <td>0.156143</td>\n",
       "    </tr>\n",
       "    <tr>\n",
       "      <th>2</th>\n",
       "      <td>Meta Data Features</td>\n",
       "      <td>0.208531</td>\n",
       "      <td>0.145716</td>\n",
       "      <td>0.206249</td>\n",
       "      <td>0.142711</td>\n",
       "      <td>0.204963</td>\n",
       "      <td>0.141700</td>\n",
       "    </tr>\n",
       "  </tbody>\n",
       "</table>\n",
       "</div>"
      ],
      "text/plain": [
       "               category   rmse-LR    mae-LR   rmse-RF    mae-RF  rmse-XGB  \\\n",
       "0         User Features  0.223521  0.159481  0.236387  0.165092  0.221966   \n",
       "1  Review Text Features  0.225886  0.165162  0.223141  0.162692  0.217774   \n",
       "2    Meta Data Features  0.208531  0.145716  0.206249  0.142711  0.204963   \n",
       "\n",
       "    mae-XGB  \n",
       "0  0.158669  \n",
       "1  0.156143  \n",
       "2  0.141700  "
      ]
     },
     "execution_count": 32,
     "metadata": {},
     "output_type": "execute_result"
    }
   ],
   "source": [
    "categorywise_result"
   ]
  },
  {
   "cell_type": "markdown",
   "metadata": {},
   "source": [
    "### Model-wise Prediction - All Feature"
   ]
  },
  {
   "cell_type": "code",
   "execution_count": 35,
   "metadata": {
    "collapsed": true
   },
   "outputs": [],
   "source": [
    "modelwise_result = pd.DataFrame(columns=['Prediction Model', 'RMSE', 'MAE'])"
   ]
  },
  {
   "cell_type": "code",
   "execution_count": null,
   "metadata": {
    "collapsed": true
   },
   "outputs": [],
   "source": []
  },
  {
   "cell_type": "code",
   "execution_count": 36,
   "metadata": {
    "collapsed": true
   },
   "outputs": [],
   "source": [
    "grid_learning_rate=0.09\n",
    "grid_n_estimators = 500\n",
    "grid_subsample = 0.9\n",
    "\n",
    "tempdict={}\n",
    "\n",
    "train = X_train\n",
    "test  = X_test\n",
    "\n",
    "#LINEAR REGRESSION\n",
    "tempdict['Prediction Model']='Linear Regression'\n",
    "lm = LinearRegression()\n",
    "lm.fit(train,y_train)\n",
    "predictions = lm.predict(test)\n",
    "\n",
    "\n",
    "tempdict['RMSE']=math.sqrt(mean_squared_error(y_test,predictions))\n",
    "tempdict['MAE']=mean_absolute_error(y_test,predictions)\n",
    "\n",
    "tempSeries=pd.Series(tempdict)\n",
    "modelwise_result=modelwise_result.append(tempSeries, ignore_index=True)\n",
    "\n",
    "#RANDOM FOREST\n",
    "tempdict['Prediction Model']='Random Forest'\n",
    "regressor = RandomForestRegressor(n_estimators=500, random_state=42)\n",
    "regressor.fit(train,y_train)\n",
    "preds_2 = regressor.predict(test)\n",
    "\n",
    "\n",
    "tempdict['RMSE']=math.sqrt(mean_squared_error(y_test,preds_2))\n",
    "tempdict['MAE']=mean_absolute_error(y_test,preds_2)\n",
    "\n",
    "tempSeries=pd.Series(tempdict)\n",
    "modelwise_result=modelwise_result.append(tempSeries, ignore_index=True)\n",
    "\n",
    "#XGBOOST\n",
    "tempdict['Prediction Model']='Extreme Gradient Boosting'\n",
    "xgb_reg = xgb.XGBRegressor()\n",
    "xgb_reg.fit(train,y_train)\n",
    "preds_3 = xgb_reg.predict(test)\n",
    "\n",
    "tempdict['RMSE']=math.sqrt(mean_squared_error(y_test,preds_3))\n",
    "tempdict['MAE']=mean_absolute_error(y_test,preds_3)\n",
    "\n",
    "tempSeries=pd.Series(tempdict)\n",
    "modelwise_result=modelwise_result.append(tempSeries, ignore_index=True)\n",
    "\n",
    "#XGBOOST WITH GRID SEARCH\n",
    "tempdict['Prediction Model']='XGBoost with Grid Search'\n",
    "xgb_reg = xgb.XGBRegressor(learning_rate=grid_learning_rate, n_estimators=grid_n_estimators, subsample=grid_subsample)\n",
    "xgb_reg.fit(train,y_train)\n",
    "preds_3 = xgb_reg.predict(test)\n",
    "\n",
    "tempdict['RMSE']=math.sqrt(mean_squared_error(y_test,preds_3))\n",
    "tempdict['MAE']=mean_absolute_error(y_test,preds_3)\n",
    "\n",
    "tempSeries=pd.Series(tempdict)\n",
    "modelwise_result=modelwise_result.append(tempSeries, ignore_index=True)\n"
   ]
  },
  {
   "cell_type": "code",
   "execution_count": 37,
   "metadata": {
    "collapsed": true
   },
   "outputs": [],
   "source": [
    "modelwise_result.to_csv('All_Feature_Final.csv', index=False)"
   ]
  },
  {
   "cell_type": "code",
   "execution_count": 38,
   "metadata": {},
   "outputs": [
    {
     "data": {
      "text/html": [
       "<div>\n",
       "<style scoped>\n",
       "    .dataframe tbody tr th:only-of-type {\n",
       "        vertical-align: middle;\n",
       "    }\n",
       "\n",
       "    .dataframe tbody tr th {\n",
       "        vertical-align: top;\n",
       "    }\n",
       "\n",
       "    .dataframe thead th {\n",
       "        text-align: right;\n",
       "    }\n",
       "</style>\n",
       "<table border=\"1\" class=\"dataframe\">\n",
       "  <thead>\n",
       "    <tr style=\"text-align: right;\">\n",
       "      <th></th>\n",
       "      <th>Prediction Model</th>\n",
       "      <th>RMSE</th>\n",
       "      <th>MAE</th>\n",
       "    </tr>\n",
       "  </thead>\n",
       "  <tbody>\n",
       "    <tr>\n",
       "      <th>0</th>\n",
       "      <td>Linear Regression</td>\n",
       "      <td>0.201030</td>\n",
       "      <td>0.141376</td>\n",
       "    </tr>\n",
       "    <tr>\n",
       "      <th>1</th>\n",
       "      <td>Random Forest</td>\n",
       "      <td>0.194449</td>\n",
       "      <td>0.136248</td>\n",
       "    </tr>\n",
       "    <tr>\n",
       "      <th>2</th>\n",
       "      <td>Extreme Gradient Boosting</td>\n",
       "      <td>0.192803</td>\n",
       "      <td>0.132932</td>\n",
       "    </tr>\n",
       "    <tr>\n",
       "      <th>3</th>\n",
       "      <td>XGBoost with Grid Search</td>\n",
       "      <td>0.192087</td>\n",
       "      <td>0.131920</td>\n",
       "    </tr>\n",
       "  </tbody>\n",
       "</table>\n",
       "</div>"
      ],
      "text/plain": [
       "            Prediction Model      RMSE       MAE\n",
       "0          Linear Regression  0.201030  0.141376\n",
       "1              Random Forest  0.194449  0.136248\n",
       "2  Extreme Gradient Boosting  0.192803  0.132932\n",
       "3   XGBoost with Grid Search  0.192087  0.131920"
      ]
     },
     "execution_count": 38,
     "metadata": {},
     "output_type": "execute_result"
    }
   ],
   "source": [
    "modelwise_result"
   ]
  },
  {
   "cell_type": "markdown",
   "metadata": {},
   "source": [
    "## Usage of Helper Classifier"
   ]
  },
  {
   "cell_type": "code",
   "execution_count": 128,
   "metadata": {},
   "outputs": [
    {
     "data": {
      "text/plain": [
       "Index(['flesch_reading_ease', 'smog_index', 'flesch_kincaid_grade',\n",
       "       'coleman_liau_index', 'automated_readability_index',\n",
       "       'dale_chall_readability_score', 'difficult_words',\n",
       "       'linsear_write_formula', 'gunning_fog', 'sentence_count', 'wps',\n",
       "       'review_length', 'pos_no', 'neg_no', 'user_deviation', 'user_delay',\n",
       "       'no_of_reviews', 'reviewer_days', 'stem_sim_length', 'lem_sim_length',\n",
       "       'overall', 'help_pred_2'],\n",
       "      dtype='object')"
      ]
     },
     "execution_count": 128,
     "metadata": {},
     "output_type": "execute_result"
    }
   ],
   "source": [
    "X = text_df[['flesch_reading_ease', \n",
    "       'smog_index', 'flesch_kincaid_grade', 'coleman_liau_index',\n",
    "       'automated_readability_index', 'dale_chall_readability_score',\n",
    "       'difficult_words', 'linsear_write_formula', 'gunning_fog',\n",
    "       'sentence_count', 'wps', 'review_length', 'pos_no', 'neg_no']]\n",
    "\n",
    "X=X.join(user_df[['user_deviation', 'user_delay','no_of_reviews', 'reviewer_days']])\n",
    "\n",
    "X = X.join(meta_df[['stem_sim_length','lem_sim_length','overall']])\n",
    "\n",
    "X = X.join(helper_df['help_pred_2'])\n",
    "X.columns"
   ]
  },
  {
   "cell_type": "code",
   "execution_count": 129,
   "metadata": {},
   "outputs": [
    {
     "data": {
      "text/html": [
       "<div>\n",
       "<style scoped>\n",
       "    .dataframe tbody tr th:only-of-type {\n",
       "        vertical-align: middle;\n",
       "    }\n",
       "\n",
       "    .dataframe tbody tr th {\n",
       "        vertical-align: top;\n",
       "    }\n",
       "\n",
       "    .dataframe thead th {\n",
       "        text-align: right;\n",
       "    }\n",
       "</style>\n",
       "<table border=\"1\" class=\"dataframe\">\n",
       "  <thead>\n",
       "    <tr style=\"text-align: right;\">\n",
       "      <th></th>\n",
       "      <th>flesch_reading_ease</th>\n",
       "      <th>smog_index</th>\n",
       "      <th>flesch_kincaid_grade</th>\n",
       "      <th>coleman_liau_index</th>\n",
       "      <th>automated_readability_index</th>\n",
       "      <th>dale_chall_readability_score</th>\n",
       "      <th>difficult_words</th>\n",
       "      <th>linsear_write_formula</th>\n",
       "      <th>gunning_fog</th>\n",
       "      <th>sentence_count</th>\n",
       "      <th>...</th>\n",
       "      <th>pos_no</th>\n",
       "      <th>neg_no</th>\n",
       "      <th>user_deviation</th>\n",
       "      <th>user_delay</th>\n",
       "      <th>no_of_reviews</th>\n",
       "      <th>reviewer_days</th>\n",
       "      <th>stem_sim_length</th>\n",
       "      <th>lem_sim_length</th>\n",
       "      <th>overall</th>\n",
       "      <th>help_pred_2</th>\n",
       "    </tr>\n",
       "  </thead>\n",
       "  <tbody>\n",
       "    <tr>\n",
       "      <th>0</th>\n",
       "      <td>-336.56</td>\n",
       "      <td>0.0</td>\n",
       "      <td>166.3</td>\n",
       "      <td>7.69</td>\n",
       "      <td>211.1</td>\n",
       "      <td>26.44</td>\n",
       "      <td>44</td>\n",
       "      <td>14.000000</td>\n",
       "      <td>176.92</td>\n",
       "      <td>1</td>\n",
       "      <td>...</td>\n",
       "      <td>2</td>\n",
       "      <td>4</td>\n",
       "      <td>1.399189</td>\n",
       "      <td>10152000.0</td>\n",
       "      <td>1</td>\n",
       "      <td>260.0</td>\n",
       "      <td>15</td>\n",
       "      <td>13</td>\n",
       "      <td>1.0</td>\n",
       "      <td>0</td>\n",
       "    </tr>\n",
       "    <tr>\n",
       "      <th>1</th>\n",
       "      <td>-340.96</td>\n",
       "      <td>0.0</td>\n",
       "      <td>165.9</td>\n",
       "      <td>9.72</td>\n",
       "      <td>210.8</td>\n",
       "      <td>26.37</td>\n",
       "      <td>94</td>\n",
       "      <td>8.666667</td>\n",
       "      <td>175.64</td>\n",
       "      <td>2</td>\n",
       "      <td>...</td>\n",
       "      <td>18</td>\n",
       "      <td>8</td>\n",
       "      <td>0.624437</td>\n",
       "      <td>10886400.0</td>\n",
       "      <td>1</td>\n",
       "      <td>1390.0</td>\n",
       "      <td>24</td>\n",
       "      <td>23</td>\n",
       "      <td>3.0</td>\n",
       "      <td>1</td>\n",
       "    </tr>\n",
       "    <tr>\n",
       "      <th>2</th>\n",
       "      <td>85.52</td>\n",
       "      <td>7.3</td>\n",
       "      <td>6.2</td>\n",
       "      <td>5.92</td>\n",
       "      <td>7.2</td>\n",
       "      <td>5.87</td>\n",
       "      <td>36</td>\n",
       "      <td>7.666667</td>\n",
       "      <td>13.01</td>\n",
       "      <td>23</td>\n",
       "      <td>...</td>\n",
       "      <td>7</td>\n",
       "      <td>6</td>\n",
       "      <td>0.510375</td>\n",
       "      <td>7516800.0</td>\n",
       "      <td>1</td>\n",
       "      <td>929.0</td>\n",
       "      <td>17</td>\n",
       "      <td>16</td>\n",
       "      <td>2.0</td>\n",
       "      <td>0</td>\n",
       "    </tr>\n",
       "    <tr>\n",
       "      <th>3</th>\n",
       "      <td>66.94</td>\n",
       "      <td>10.8</td>\n",
       "      <td>7.1</td>\n",
       "      <td>8.05</td>\n",
       "      <td>6.3</td>\n",
       "      <td>6.99</td>\n",
       "      <td>11</td>\n",
       "      <td>7.200000</td>\n",
       "      <td>14.00</td>\n",
       "      <td>5</td>\n",
       "      <td>...</td>\n",
       "      <td>2</td>\n",
       "      <td>0</td>\n",
       "      <td>0.442171</td>\n",
       "      <td>2678400.0</td>\n",
       "      <td>1</td>\n",
       "      <td>0.0</td>\n",
       "      <td>2</td>\n",
       "      <td>2</td>\n",
       "      <td>5.0</td>\n",
       "      <td>1</td>\n",
       "    </tr>\n",
       "    <tr>\n",
       "      <th>4</th>\n",
       "      <td>-43.22</td>\n",
       "      <td>0.0</td>\n",
       "      <td>53.6</td>\n",
       "      <td>8.09</td>\n",
       "      <td>67.2</td>\n",
       "      <td>12.20</td>\n",
       "      <td>15</td>\n",
       "      <td>4.400000</td>\n",
       "      <td>61.55</td>\n",
       "      <td>1</td>\n",
       "      <td>...</td>\n",
       "      <td>1</td>\n",
       "      <td>3</td>\n",
       "      <td>1.616074</td>\n",
       "      <td>7603200.0</td>\n",
       "      <td>1</td>\n",
       "      <td>0.0</td>\n",
       "      <td>2</td>\n",
       "      <td>2</td>\n",
       "      <td>1.0</td>\n",
       "      <td>0</td>\n",
       "    </tr>\n",
       "  </tbody>\n",
       "</table>\n",
       "<p>5 rows × 22 columns</p>\n",
       "</div>"
      ],
      "text/plain": [
       "   flesch_reading_ease  smog_index  flesch_kincaid_grade  coleman_liau_index  \\\n",
       "0              -336.56         0.0                 166.3                7.69   \n",
       "1              -340.96         0.0                 165.9                9.72   \n",
       "2                85.52         7.3                   6.2                5.92   \n",
       "3                66.94        10.8                   7.1                8.05   \n",
       "4               -43.22         0.0                  53.6                8.09   \n",
       "\n",
       "   automated_readability_index  dale_chall_readability_score  difficult_words  \\\n",
       "0                        211.1                         26.44               44   \n",
       "1                        210.8                         26.37               94   \n",
       "2                          7.2                          5.87               36   \n",
       "3                          6.3                          6.99               11   \n",
       "4                         67.2                         12.20               15   \n",
       "\n",
       "   linsear_write_formula  gunning_fog  sentence_count     ...       pos_no  \\\n",
       "0              14.000000       176.92               1     ...            2   \n",
       "1               8.666667       175.64               2     ...           18   \n",
       "2               7.666667        13.01              23     ...            7   \n",
       "3               7.200000        14.00               5     ...            2   \n",
       "4               4.400000        61.55               1     ...            1   \n",
       "\n",
       "   neg_no  user_deviation  user_delay  no_of_reviews  reviewer_days  \\\n",
       "0       4        1.399189  10152000.0              1          260.0   \n",
       "1       8        0.624437  10886400.0              1         1390.0   \n",
       "2       6        0.510375   7516800.0              1          929.0   \n",
       "3       0        0.442171   2678400.0              1            0.0   \n",
       "4       3        1.616074   7603200.0              1            0.0   \n",
       "\n",
       "   stem_sim_length  lem_sim_length  overall  help_pred_2  \n",
       "0               15              13      1.0            0  \n",
       "1               24              23      3.0            1  \n",
       "2               17              16      2.0            0  \n",
       "3                2               2      5.0            1  \n",
       "4                2               2      1.0            0  \n",
       "\n",
       "[5 rows x 22 columns]"
      ]
     },
     "execution_count": 129,
     "metadata": {},
     "output_type": "execute_result"
    }
   ],
   "source": [
    "X.head()"
   ]
  },
  {
   "cell_type": "code",
   "execution_count": 130,
   "metadata": {
    "collapsed": true
   },
   "outputs": [],
   "source": [
    "y = review_df['helpfulness_score']\n",
    "\t\n",
    "X_train, X_test, y_train, y_test = train_test_split(X, y, test_size=0.4, random_state=101)"
   ]
  },
  {
   "cell_type": "code",
   "execution_count": 131,
   "metadata": {
    "collapsed": true
   },
   "outputs": [],
   "source": [
    "xgb_reg = xgb.XGBRegressor()"
   ]
  },
  {
   "cell_type": "code",
   "execution_count": 132,
   "metadata": {},
   "outputs": [
    {
     "data": {
      "text/plain": [
       "XGBRegressor(base_score=0.5, booster='gbtree', colsample_bylevel=1,\n",
       "       colsample_bytree=1, gamma=0, learning_rate=0.1, max_delta_step=0,\n",
       "       max_depth=3, min_child_weight=1, missing=None, n_estimators=100,\n",
       "       n_jobs=1, nthread=None, objective='reg:linear', random_state=0,\n",
       "       reg_alpha=0, reg_lambda=1, scale_pos_weight=1, seed=None,\n",
       "       silent=True, subsample=1)"
      ]
     },
     "execution_count": 132,
     "metadata": {},
     "output_type": "execute_result"
    }
   ],
   "source": [
    "xgb_reg.fit(X_train,y_train)"
   ]
  },
  {
   "cell_type": "code",
   "execution_count": 133,
   "metadata": {
    "collapsed": true
   },
   "outputs": [],
   "source": [
    "predictions=xgb_reg.predict(X_test)"
   ]
  },
  {
   "cell_type": "code",
   "execution_count": 134,
   "metadata": {},
   "outputs": [
    {
     "name": "stdout",
     "output_type": "stream",
     "text": [
      "Mean Squared Error (MSE):       0.03728177323603432\n",
      "Root Mean Squared Error (RMSE): 0.19308488608908342\n",
      "Mean Absolute Error (MAE):      0.13320756116264879\n"
     ]
    }
   ],
   "source": [
    "# MSE : Mean Squared Error\n",
    "mse=mean_squared_error(y_test,predictions)\n",
    "\n",
    "# RMSE : Root Mean Squared Error\n",
    "rmse=math.sqrt(mean_squared_error(y_test,predictions))\n",
    "\n",
    "# MAE : Mean Absolute Error\n",
    "mae=mean_absolute_error(y_test,predictions)\n",
    "\n",
    "print('Mean Squared Error (MSE):      ',mse)\n",
    "print('Root Mean Squared Error (RMSE):',rmse)\n",
    "print('Mean Absolute Error (MAE):     ',mae)"
   ]
  },
  {
   "cell_type": "code",
   "execution_count": null,
   "metadata": {
    "collapsed": true
   },
   "outputs": [],
   "source": [
    "error_df = "
   ]
  },
  {
   "cell_type": "code",
   "execution_count": 83,
   "metadata": {
    "collapsed": true
   },
   "outputs": [],
   "source": [
    "params = {\n",
    "    'learning_rate': [0.01,0.09,0.1,0.2,0.5,0.9], \n",
    "    'n_estimators': [200,300,400,500], \n",
    "    'subsample': [0.3, 0.5, 0.9, 1]}"
   ]
  },
  {
   "cell_type": "code",
   "execution_count": 135,
   "metadata": {
    "collapsed": true
   },
   "outputs": [],
   "source": [
    "result_df = pd.DataFrame(columns=['learning_rate','n_estimators', 'subsample', 'rmse', 'mae'])"
   ]
  },
  {
   "cell_type": "code",
   "execution_count": 136,
   "metadata": {},
   "outputs": [
    {
     "name": "stdout",
     "output_type": "stream",
     "text": [
      "{'learning_rate': 0.01, 'n_estimators': 200, 'subsample': 0.3, 'rmse': 0.20139545942771958, 'mae': 0.15560848916060288}\n",
      "{'learning_rate': 0.01, 'n_estimators': 200, 'subsample': 0.5, 'rmse': 0.20160953301534293, 'mae': 0.1557887123412146}\n",
      "{'learning_rate': 0.01, 'n_estimators': 200, 'subsample': 0.9, 'rmse': 0.20182420616036403, 'mae': 0.1559246233298197}\n",
      "{'learning_rate': 0.01, 'n_estimators': 200, 'subsample': 1, 'rmse': 0.20180779338027474, 'mae': 0.15590294308081656}\n",
      "{'learning_rate': 0.01, 'n_estimators': 300, 'subsample': 0.3, 'rmse': 0.19558117048017537, 'mae': 0.14089706748998346}\n",
      "{'learning_rate': 0.01, 'n_estimators': 300, 'subsample': 0.5, 'rmse': 0.1957829190617543, 'mae': 0.14104662132640136}\n",
      "{'learning_rate': 0.01, 'n_estimators': 300, 'subsample': 0.9, 'rmse': 0.19598129759494692, 'mae': 0.1412405058350879}\n",
      "{'learning_rate': 0.01, 'n_estimators': 300, 'subsample': 1, 'rmse': 0.19602729681738457, 'mae': 0.1412806723727846}\n",
      "{'learning_rate': 0.01, 'n_estimators': 400, 'subsample': 0.3, 'rmse': 0.19426957396304234, 'mae': 0.13619446623924683}\n",
      "{'learning_rate': 0.01, 'n_estimators': 400, 'subsample': 0.5, 'rmse': 0.1943886915308246, 'mae': 0.13631924072299412}\n",
      "{'learning_rate': 0.01, 'n_estimators': 400, 'subsample': 0.9, 'rmse': 0.19457117687051423, 'mae': 0.13655340395379048}\n",
      "{'learning_rate': 0.01, 'n_estimators': 400, 'subsample': 1, 'rmse': 0.19464927153551156, 'mae': 0.13665068615023546}\n",
      "{'learning_rate': 0.01, 'n_estimators': 500, 'subsample': 0.3, 'rmse': 0.193799422858233, 'mae': 0.13444571743692454}\n",
      "{'learning_rate': 0.01, 'n_estimators': 500, 'subsample': 0.5, 'rmse': 0.1938278597685786, 'mae': 0.13454511542342404}\n",
      "{'learning_rate': 0.01, 'n_estimators': 500, 'subsample': 0.9, 'rmse': 0.19398615937110908, 'mae': 0.13482011312383696}\n",
      "{'learning_rate': 0.01, 'n_estimators': 500, 'subsample': 1, 'rmse': 0.19401410706769875, 'mae': 0.13490990792534158}\n",
      "{'learning_rate': 0.09, 'n_estimators': 200, 'subsample': 0.3, 'rmse': 0.19324581405469227, 'mae': 0.13290807040917021}\n",
      "{'learning_rate': 0.09, 'n_estimators': 200, 'subsample': 0.5, 'rmse': 0.19287360323209415, 'mae': 0.13270814493391367}\n",
      "{'learning_rate': 0.09, 'n_estimators': 200, 'subsample': 0.9, 'rmse': 0.1926973798067669, 'mae': 0.13271885376684614}\n",
      "{'learning_rate': 0.09, 'n_estimators': 200, 'subsample': 1, 'rmse': 0.19252977787279357, 'mae': 0.1326768137924307}\n",
      "{'learning_rate': 0.09, 'n_estimators': 300, 'subsample': 0.3, 'rmse': 0.19304227587304568, 'mae': 0.13293544822605655}\n",
      "{'learning_rate': 0.09, 'n_estimators': 300, 'subsample': 0.5, 'rmse': 0.19283731004240082, 'mae': 0.13268560160671755}\n",
      "{'learning_rate': 0.09, 'n_estimators': 300, 'subsample': 0.9, 'rmse': 0.19237566423586933, 'mae': 0.13236765547657192}\n",
      "{'learning_rate': 0.09, 'n_estimators': 300, 'subsample': 1, 'rmse': 0.19232580221711262, 'mae': 0.13243803282297564}\n",
      "{'learning_rate': 0.09, 'n_estimators': 400, 'subsample': 0.3, 'rmse': 0.1932203775471882, 'mae': 0.13281068207473745}\n",
      "{'learning_rate': 0.09, 'n_estimators': 400, 'subsample': 0.5, 'rmse': 0.19283033558875254, 'mae': 0.13242060483259016}\n",
      "{'learning_rate': 0.09, 'n_estimators': 400, 'subsample': 0.9, 'rmse': 0.19223114620400353, 'mae': 0.13215340062000652}\n",
      "{'learning_rate': 0.09, 'n_estimators': 400, 'subsample': 1, 'rmse': 0.1923299966275741, 'mae': 0.13239665287981406}\n",
      "{'learning_rate': 0.09, 'n_estimators': 500, 'subsample': 0.3, 'rmse': 0.1933452992107152, 'mae': 0.13256877431753564}\n",
      "{'learning_rate': 0.09, 'n_estimators': 500, 'subsample': 0.5, 'rmse': 0.19288893563235013, 'mae': 0.13231708741734502}\n",
      "{'learning_rate': 0.09, 'n_estimators': 500, 'subsample': 0.9, 'rmse': 0.19228895614724076, 'mae': 0.13211752727510595}\n",
      "{'learning_rate': 0.09, 'n_estimators': 500, 'subsample': 1, 'rmse': 0.1923005091741656, 'mae': 0.1323170345298934}\n",
      "{'learning_rate': 0.1, 'n_estimators': 200, 'subsample': 0.3, 'rmse': 0.19315592627144032, 'mae': 0.13282931823659164}\n",
      "{'learning_rate': 0.1, 'n_estimators': 200, 'subsample': 0.5, 'rmse': 0.19279988495642256, 'mae': 0.13272951542078767}\n",
      "{'learning_rate': 0.1, 'n_estimators': 200, 'subsample': 0.9, 'rmse': 0.19258009447203012, 'mae': 0.13264739160385586}\n",
      "{'learning_rate': 0.1, 'n_estimators': 200, 'subsample': 1, 'rmse': 0.1925611043902423, 'mae': 0.13266503792208076}\n",
      "{'learning_rate': 0.1, 'n_estimators': 300, 'subsample': 0.3, 'rmse': 0.19317794173579741, 'mae': 0.13298345997843997}\n",
      "{'learning_rate': 0.1, 'n_estimators': 300, 'subsample': 0.5, 'rmse': 0.19272065749958664, 'mae': 0.1326576777838894}\n",
      "{'learning_rate': 0.1, 'n_estimators': 300, 'subsample': 0.9, 'rmse': 0.1924052518972055, 'mae': 0.1323590654469332}\n",
      "{'learning_rate': 0.1, 'n_estimators': 300, 'subsample': 1, 'rmse': 0.19238544094187593, 'mae': 0.13243116477234923}\n",
      "{'learning_rate': 0.1, 'n_estimators': 400, 'subsample': 0.3, 'rmse': 0.1933354799357229, 'mae': 0.13285012486114411}\n",
      "{'learning_rate': 0.1, 'n_estimators': 400, 'subsample': 0.5, 'rmse': 0.19290963849433307, 'mae': 0.13247710242118738}\n",
      "{'learning_rate': 0.1, 'n_estimators': 400, 'subsample': 0.9, 'rmse': 0.1923148485345309, 'mae': 0.13218068125284527}\n",
      "{'learning_rate': 0.1, 'n_estimators': 400, 'subsample': 1, 'rmse': 0.19238531946987056, 'mae': 0.13231979902408628}\n",
      "{'learning_rate': 0.1, 'n_estimators': 500, 'subsample': 0.3, 'rmse': 0.19351746379107237, 'mae': 0.13262786098929188}\n",
      "{'learning_rate': 0.1, 'n_estimators': 500, 'subsample': 0.5, 'rmse': 0.19303410911809085, 'mae': 0.13238000935644814}\n",
      "{'learning_rate': 0.1, 'n_estimators': 500, 'subsample': 0.9, 'rmse': 0.19232893653775923, 'mae': 0.13212158647341304}\n",
      "{'learning_rate': 0.1, 'n_estimators': 500, 'subsample': 1, 'rmse': 0.1923889467219061, 'mae': 0.13226225059994667}\n",
      "{'learning_rate': 0.2, 'n_estimators': 200, 'subsample': 0.3, 'rmse': 0.19445743391630094, 'mae': 0.13318581566234994}\n",
      "{'learning_rate': 0.2, 'n_estimators': 200, 'subsample': 0.5, 'rmse': 0.19284617710233534, 'mae': 0.1324401985565474}\n",
      "{'learning_rate': 0.2, 'n_estimators': 200, 'subsample': 0.9, 'rmse': 0.19254864982608721, 'mae': 0.13242083051414294}\n",
      "{'learning_rate': 0.2, 'n_estimators': 200, 'subsample': 1, 'rmse': 0.1927098971741481, 'mae': 0.13249888664681483}\n",
      "{'learning_rate': 0.2, 'n_estimators': 300, 'subsample': 0.3, 'rmse': 0.19487047897473295, 'mae': 0.13358058765051992}\n",
      "{'learning_rate': 0.2, 'n_estimators': 300, 'subsample': 0.5, 'rmse': 0.1931247310748292, 'mae': 0.13250297763479515}\n",
      "{'learning_rate': 0.2, 'n_estimators': 300, 'subsample': 0.9, 'rmse': 0.19278413006261885, 'mae': 0.1323839812950921}\n",
      "{'learning_rate': 0.2, 'n_estimators': 300, 'subsample': 1, 'rmse': 0.19292482475542752, 'mae': 0.13248883256073807}\n",
      "{'learning_rate': 0.2, 'n_estimators': 400, 'subsample': 0.3, 'rmse': 0.19571627290383956, 'mae': 0.13376659112659364}\n",
      "{'learning_rate': 0.2, 'n_estimators': 400, 'subsample': 0.5, 'rmse': 0.19379319125826877, 'mae': 0.13257434945934765}\n",
      "{'learning_rate': 0.2, 'n_estimators': 400, 'subsample': 0.9, 'rmse': 0.19303212110089218, 'mae': 0.1324646036251199}\n",
      "{'learning_rate': 0.2, 'n_estimators': 400, 'subsample': 1, 'rmse': 0.19304978245897794, 'mae': 0.13249961006844338}\n",
      "{'learning_rate': 0.2, 'n_estimators': 500, 'subsample': 0.3, 'rmse': 0.19615485629984442, 'mae': 0.13383654486570376}\n",
      "{'learning_rate': 0.2, 'n_estimators': 500, 'subsample': 0.5, 'rmse': 0.19430979302984444, 'mae': 0.13290692203100626}\n",
      "{'learning_rate': 0.2, 'n_estimators': 500, 'subsample': 0.9, 'rmse': 0.19325375235418785, 'mae': 0.13250372502587807}\n",
      "{'learning_rate': 0.2, 'n_estimators': 500, 'subsample': 1, 'rmse': 0.1934221503193658, 'mae': 0.1326796699193383}\n",
      "{'learning_rate': 0.5, 'n_estimators': 200, 'subsample': 0.3, 'rmse': 0.20223023359154926, 'mae': 0.13735004094134098}\n",
      "{'learning_rate': 0.5, 'n_estimators': 200, 'subsample': 0.5, 'rmse': 0.19857521268006575, 'mae': 0.13494708613495346}\n",
      "{'learning_rate': 0.5, 'n_estimators': 200, 'subsample': 0.9, 'rmse': 0.19500138525778005, 'mae': 0.13329472378674598}\n",
      "{'learning_rate': 0.5, 'n_estimators': 200, 'subsample': 1, 'rmse': 0.19471266077457436, 'mae': 0.13341396651375215}\n",
      "{'learning_rate': 0.5, 'n_estimators': 300, 'subsample': 0.3, 'rmse': 0.20483065838361525, 'mae': 0.13894395528122822}\n",
      "{'learning_rate': 0.5, 'n_estimators': 300, 'subsample': 0.5, 'rmse': 0.20046900103659804, 'mae': 0.13653103288801088}\n",
      "{'learning_rate': 0.5, 'n_estimators': 300, 'subsample': 0.9, 'rmse': 0.1966003899992586, 'mae': 0.13432054502571358}\n",
      "{'learning_rate': 0.5, 'n_estimators': 300, 'subsample': 1, 'rmse': 0.19592640873579276, 'mae': 0.13398851662027025}\n",
      "{'learning_rate': 0.5, 'n_estimators': 400, 'subsample': 0.3, 'rmse': 0.20860069966364547, 'mae': 0.14105431564169557}\n",
      "{'learning_rate': 0.5, 'n_estimators': 400, 'subsample': 0.5, 'rmse': 0.2030242579692987, 'mae': 0.13784785881645528}\n",
      "{'learning_rate': 0.5, 'n_estimators': 400, 'subsample': 0.9, 'rmse': 0.19763490564097574, 'mae': 0.13510312387163334}\n",
      "{'learning_rate': 0.5, 'n_estimators': 400, 'subsample': 1, 'rmse': 0.19672755561681057, 'mae': 0.1345187335173557}\n",
      "{'learning_rate': 0.5, 'n_estimators': 500, 'subsample': 0.3, 'rmse': 0.2110713051717518, 'mae': 0.14239140199286104}\n",
      "{'learning_rate': 0.5, 'n_estimators': 500, 'subsample': 0.5, 'rmse': 0.20486352993731358, 'mae': 0.13917010985513018}\n",
      "{'learning_rate': 0.5, 'n_estimators': 500, 'subsample': 0.9, 'rmse': 0.19843396744731698, 'mae': 0.13582929288824477}\n",
      "{'learning_rate': 0.5, 'n_estimators': 500, 'subsample': 1, 'rmse': 0.19780356592057247, 'mae': 0.13524897590436094}\n",
      "{'learning_rate': 0.9, 'n_estimators': 200, 'subsample': 0.3, 'rmse': 0.2297662151276473, 'mae': 0.14398437069322553}\n",
      "{'learning_rate': 0.9, 'n_estimators': 200, 'subsample': 0.5, 'rmse': 0.20960233654581215, 'mae': 0.14097806749621336}\n",
      "{'learning_rate': 0.9, 'n_estimators': 200, 'subsample': 0.9, 'rmse': 0.20231682520391306, 'mae': 0.13770035489706917}\n",
      "{'learning_rate': 0.9, 'n_estimators': 200, 'subsample': 1, 'rmse': 0.20174069914769774, 'mae': 0.13775800210894878}\n",
      "{'learning_rate': 0.9, 'n_estimators': 300, 'subsample': 0.3, 'rmse': 0.247898556262293, 'mae': 0.14875324095686002}\n",
      "{'learning_rate': 0.9, 'n_estimators': 300, 'subsample': 0.5, 'rmse': 0.21518315708603405, 'mae': 0.14492221619782647}\n",
      "{'learning_rate': 0.9, 'n_estimators': 300, 'subsample': 0.9, 'rmse': 0.2050628194005812, 'mae': 0.13941351571570307}\n",
      "{'learning_rate': 0.9, 'n_estimators': 300, 'subsample': 1, 'rmse': 0.2045721984952687, 'mae': 0.1399053964084139}\n",
      "{'learning_rate': 0.9, 'n_estimators': 400, 'subsample': 0.3, 'rmse': 0.2657272748223959, 'mae': 0.1520455950019782}\n",
      "{'learning_rate': 0.9, 'n_estimators': 400, 'subsample': 0.5, 'rmse': 0.21967753679185736, 'mae': 0.14731106945962924}\n",
      "{'learning_rate': 0.9, 'n_estimators': 400, 'subsample': 0.9, 'rmse': 0.20771849401940576, 'mae': 0.1416113893381116}\n",
      "{'learning_rate': 0.9, 'n_estimators': 400, 'subsample': 1, 'rmse': 0.20747010070872285, 'mae': 0.14191148342499454}\n",
      "{'learning_rate': 0.9, 'n_estimators': 500, 'subsample': 0.3, 'rmse': 0.30600104118996196, 'mae': 0.15609734767717476}\n",
      "{'learning_rate': 0.9, 'n_estimators': 500, 'subsample': 0.5, 'rmse': 0.22468486087128842, 'mae': 0.15059769984227425}\n",
      "{'learning_rate': 0.9, 'n_estimators': 500, 'subsample': 0.9, 'rmse': 0.20985120215890485, 'mae': 0.14321776283080326}\n",
      "{'learning_rate': 0.9, 'n_estimators': 500, 'subsample': 1, 'rmse': 0.2098889426343844, 'mae': 0.14374443965534311}\n"
     ]
    }
   ],
   "source": [
    "best_rmse_5=1000\n",
    "best_mae_5=1000\n",
    "for rate in params['learning_rate'] :\n",
    "    for estimator in params['n_estimators'] :\n",
    "        for subsample in params['subsample'] :\n",
    "            xgb_model = xgb.XGBRegressor(learning_rate= rate, n_estimators = estimator, subsample=subsample)\n",
    "            xgb_model.fit(X_train,y_train)\n",
    "            predictions=xgb_model.predict(X_test)\n",
    "            rmse=math.sqrt(mean_squared_error(y_test,predictions))\n",
    "            mae=mean_absolute_error(y_test,predictions)\n",
    "            \n",
    "            res_dict = {'learning_rate': rate, 'n_estimators': estimator, 'subsample': subsample, 'rmse' : rmse, 'mae' : mae }\n",
    "            result_df.append(res_dict, ignore_index=True)\n",
    "\n",
    "            print(res_dict)\n",
    "            \n",
    "            if(rmse<=best_rmse_5) :\n",
    "                if(mae < best_mae_5) :\n",
    "                    best_rmse_5 = rmse\n",
    "                    best_mae_5 = mae\n",
    "                    best_learning_rate_5 = rate\n",
    "                    best_n_estimators_5 = estimator\n",
    "                    best_subsample_5 = subsample\n",
    "            "
   ]
  },
  {
   "cell_type": "code",
   "execution_count": 137,
   "metadata": {},
   "outputs": [
    {
     "data": {
      "text/plain": [
       "0.19223114620400353"
      ]
     },
     "execution_count": 137,
     "metadata": {},
     "output_type": "execute_result"
    }
   ],
   "source": [
    "best_rmse_5"
   ]
  },
  {
   "cell_type": "code",
   "execution_count": 138,
   "metadata": {},
   "outputs": [
    {
     "data": {
      "text/plain": [
       "0.13215340062000652"
      ]
     },
     "execution_count": 138,
     "metadata": {},
     "output_type": "execute_result"
    }
   ],
   "source": [
    "best_mae_5"
   ]
  },
  {
   "cell_type": "code",
   "execution_count": 89,
   "metadata": {
    "collapsed": true
   },
   "outputs": [],
   "source": [
    "experiment_data = {}"
   ]
  },
  {
   "cell_type": "code",
   "execution_count": 92,
   "metadata": {
    "collapsed": true
   },
   "outputs": [],
   "source": [
    "import datetime"
   ]
  },
  {
   "cell_type": "code",
   "execution_count": 139,
   "metadata": {
    "collapsed": true
   },
   "outputs": [],
   "source": [
    "experiment_data['columns'] = X.columns\n",
    "experiment_data['result']={}\n",
    "experiment_data['result']['best_rmse']=best_rmse_5\n",
    "experiment_data['result']['best_mae'] = best_mae_5\n",
    "experiment_data['result']['learning_rate'] = best_learning_rate_5\n",
    "experiment_data['result']['n_estimators'] = best_n_estimators_5\n",
    "experiment_data['result']['subsample']=best_subsample_5\n",
    "experiment_data['date'] = str(datetime.datetime.now())"
   ]
  },
  {
   "cell_type": "code",
   "execution_count": 144,
   "metadata": {
    "collapsed": true
   },
   "outputs": [],
   "source": [
    "experiment_file = open('Experiment_Data.txt', 'a')"
   ]
  },
  {
   "cell_type": "code",
   "execution_count": 145,
   "metadata": {},
   "outputs": [
    {
     "data": {
      "text/plain": [
       "660"
      ]
     },
     "execution_count": 145,
     "metadata": {},
     "output_type": "execute_result"
    }
   ],
   "source": [
    "experiment_file.write(\"\\n\"+str(experiment_data))"
   ]
  },
  {
   "cell_type": "code",
   "execution_count": 147,
   "metadata": {},
   "outputs": [
    {
     "name": "stdout",
     "output_type": "stream",
     "text": [
      "\n",
      "{'columns': Index(['flesch_reading_ease', 'smog_index', 'flesch_kincaid_grade',\n",
      "       'coleman_liau_index', 'automated_readability_index',\n",
      "       'dale_chall_readability_score', 'difficult_words',\n",
      "       'linsear_write_formula', 'gunning_fog', 'sentence_count', 'wps',\n",
      "       'review_length', 'pos_no', 'neg_no', 'user_deviation', 'user_delay',\n",
      "       'no_of_reviews', 'reviewer_days', 'stem_sim_length', 'lem_sim_length',\n",
      "       'overall', 'help_pred_2'],\n",
      "      dtype='object'), 'result': {'best_rmse': 0.19223114620400353, 'best_mae': 0.13215340062000652, 'learning_rate': 0.09, 'n_estimators': 400, 'subsample': 0.9}, 'date': '2019-05-14 17:51:24.549776'}\n"
     ]
    }
   ],
   "source": [
    "print(\"\\n\"+str(experiment_data))"
   ]
  },
  {
   "cell_type": "code",
   "execution_count": 142,
   "metadata": {
    "collapsed": true
   },
   "outputs": [],
   "source": [
    "f = open('Experiment_Data.txt', 'r')"
   ]
  },
  {
   "cell_type": "code",
   "execution_count": 143,
   "metadata": {},
   "outputs": [
    {
     "data": {
      "text/plain": [
       "\"{'columns': Index(['flesch_reading_ease', 'smog_index', 'flesch_kincaid_grade',\\n       'coleman_liau_index', 'automated_readability_index',\\n       'dale_chall_readability_score', 'difficult_words',\\n       'linsear_write_formula', 'gunning_fog', 'sentence_count', 'wps',\\n       'review_length', 'pos_no', 'neg_no', 'user_deviation', 'user_delay',\\n       'no_of_reviews', 'reviewer_days', 'stem_sim_length', 'lem_sim_length',\\n       'overall', 'help_pred_1'],\\n      dtype='object'), 'result': {'best_rmse': 0.19219438320768384, 'best_mae': 0.13215792251807856, 'learning_rate': 0.09, 'n_estimators': 400, 'subsample': 0.9}, 'date': '2019-05-13 23:38:24.676568'}{'columns': Index(['flesch_reading_ease', 'smog_index', 'flesch_kincaid_grade',\\n       'coleman_liau_index', 'automated_readability_index',\\n       'dale_chall_readability_score', 'difficult_words',\\n       'linsear_write_formula', 'gunning_fog', 'sentence_count', 'wps',\\n       'review_length', 'pos_no', 'neg_no', 'user_deviation', 'user_delay',\\n       'no_of_reviews', 'reviewer_days', 'stem_sim_length', 'lem_sim_length',\\n       'overall', 'help_pred_1'],\\n      dtype='object'), 'result': {'best_rmse': 0.19219438320768384, 'best_mae': 0.13215792251807856, 'learning_rate': 0.09, 'n_estimators': 400, 'subsample': 0.9}, 'date': '2019-05-13 23:38:24.676568'}\""
      ]
     },
     "execution_count": 143,
     "metadata": {},
     "output_type": "execute_result"
    }
   ],
   "source": [
    "f.read()"
   ]
  },
  {
   "cell_type": "code",
   "execution_count": 148,
   "metadata": {
    "collapsed": true
   },
   "outputs": [],
   "source": [
    "featurewise_result = pd.read_csv('Featurewise_Final.csv')"
   ]
  },
  {
   "cell_type": "code",
   "execution_count": 149,
   "metadata": {},
   "outputs": [
    {
     "data": {
      "text/html": [
       "<div>\n",
       "<style scoped>\n",
       "    .dataframe tbody tr th:only-of-type {\n",
       "        vertical-align: middle;\n",
       "    }\n",
       "\n",
       "    .dataframe tbody tr th {\n",
       "        vertical-align: top;\n",
       "    }\n",
       "\n",
       "    .dataframe thead th {\n",
       "        text-align: right;\n",
       "    }\n",
       "</style>\n",
       "<table border=\"1\" class=\"dataframe\">\n",
       "  <thead>\n",
       "    <tr style=\"text-align: right;\">\n",
       "      <th></th>\n",
       "      <th>feature</th>\n",
       "      <th>correlation</th>\n",
       "      <th>rmse-LR</th>\n",
       "      <th>mae-LR</th>\n",
       "      <th>rmse-RF</th>\n",
       "      <th>mae-RF</th>\n",
       "      <th>rmse-XGB</th>\n",
       "      <th>mae-XGB</th>\n",
       "    </tr>\n",
       "  </thead>\n",
       "  <tbody>\n",
       "    <tr>\n",
       "      <th>0</th>\n",
       "      <td>flesch_reading_ease</td>\n",
       "      <td>-0.111958</td>\n",
       "      <td>0.236515</td>\n",
       "      <td>0.172393</td>\n",
       "      <td>0.239447</td>\n",
       "      <td>0.173287</td>\n",
       "      <td>0.234108</td>\n",
       "      <td>0.170034</td>\n",
       "    </tr>\n",
       "    <tr>\n",
       "      <th>1</th>\n",
       "      <td>smog_index</td>\n",
       "      <td>0.115414</td>\n",
       "      <td>0.236336</td>\n",
       "      <td>0.172052</td>\n",
       "      <td>0.234847</td>\n",
       "      <td>0.170670</td>\n",
       "      <td>0.234702</td>\n",
       "      <td>0.170574</td>\n",
       "    </tr>\n",
       "    <tr>\n",
       "      <th>2</th>\n",
       "      <td>flesch_kincaid_grade</td>\n",
       "      <td>0.110595</td>\n",
       "      <td>0.236547</td>\n",
       "      <td>0.172405</td>\n",
       "      <td>0.235316</td>\n",
       "      <td>0.171055</td>\n",
       "      <td>0.233818</td>\n",
       "      <td>0.169690</td>\n",
       "    </tr>\n",
       "    <tr>\n",
       "      <th>3</th>\n",
       "      <td>coleman_liau_index</td>\n",
       "      <td>0.107465</td>\n",
       "      <td>0.236695</td>\n",
       "      <td>0.172458</td>\n",
       "      <td>0.236714</td>\n",
       "      <td>0.170643</td>\n",
       "      <td>0.233702</td>\n",
       "      <td>0.169747</td>\n",
       "    </tr>\n",
       "    <tr>\n",
       "      <th>4</th>\n",
       "      <td>automated_readability_index</td>\n",
       "      <td>0.110973</td>\n",
       "      <td>0.236538</td>\n",
       "      <td>0.172404</td>\n",
       "      <td>0.238498</td>\n",
       "      <td>0.173384</td>\n",
       "      <td>0.233903</td>\n",
       "      <td>0.169729</td>\n",
       "    </tr>\n",
       "    <tr>\n",
       "      <th>5</th>\n",
       "      <td>dale_chall_readability_score</td>\n",
       "      <td>0.113564</td>\n",
       "      <td>0.236480</td>\n",
       "      <td>0.172404</td>\n",
       "      <td>0.238596</td>\n",
       "      <td>0.173142</td>\n",
       "      <td>0.233639</td>\n",
       "      <td>0.169768</td>\n",
       "    </tr>\n",
       "    <tr>\n",
       "      <th>6</th>\n",
       "      <td>difficult_words</td>\n",
       "      <td>0.216660</td>\n",
       "      <td>0.232292</td>\n",
       "      <td>0.170116</td>\n",
       "      <td>0.224072</td>\n",
       "      <td>0.162243</td>\n",
       "      <td>0.223898</td>\n",
       "      <td>0.161996</td>\n",
       "    </tr>\n",
       "    <tr>\n",
       "      <th>7</th>\n",
       "      <td>linsear_write_formula</td>\n",
       "      <td>0.014142</td>\n",
       "      <td>0.237968</td>\n",
       "      <td>0.173186</td>\n",
       "      <td>0.233313</td>\n",
       "      <td>0.168712</td>\n",
       "      <td>0.233643</td>\n",
       "      <td>0.169577</td>\n",
       "    </tr>\n",
       "    <tr>\n",
       "      <th>8</th>\n",
       "      <td>gunning_fog</td>\n",
       "      <td>0.109958</td>\n",
       "      <td>0.236567</td>\n",
       "      <td>0.172418</td>\n",
       "      <td>0.245639</td>\n",
       "      <td>0.177515</td>\n",
       "      <td>0.233768</td>\n",
       "      <td>0.169728</td>\n",
       "    </tr>\n",
       "    <tr>\n",
       "      <th>9</th>\n",
       "      <td>sentence_count</td>\n",
       "      <td>0.121914</td>\n",
       "      <td>0.236107</td>\n",
       "      <td>0.172027</td>\n",
       "      <td>0.235254</td>\n",
       "      <td>0.171097</td>\n",
       "      <td>0.235211</td>\n",
       "      <td>0.171006</td>\n",
       "    </tr>\n",
       "    <tr>\n",
       "      <th>10</th>\n",
       "      <td>wps</td>\n",
       "      <td>0.109722</td>\n",
       "      <td>0.236569</td>\n",
       "      <td>0.172411</td>\n",
       "      <td>0.238453</td>\n",
       "      <td>0.173417</td>\n",
       "      <td>0.232971</td>\n",
       "      <td>0.169140</td>\n",
       "    </tr>\n",
       "    <tr>\n",
       "      <th>11</th>\n",
       "      <td>review_length</td>\n",
       "      <td>0.196104</td>\n",
       "      <td>0.233316</td>\n",
       "      <td>0.170669</td>\n",
       "      <td>0.225790</td>\n",
       "      <td>0.163742</td>\n",
       "      <td>0.224070</td>\n",
       "      <td>0.162040</td>\n",
       "    </tr>\n",
       "    <tr>\n",
       "      <th>12</th>\n",
       "      <td>pos_no</td>\n",
       "      <td>0.223190</td>\n",
       "      <td>0.232012</td>\n",
       "      <td>0.169830</td>\n",
       "      <td>0.222123</td>\n",
       "      <td>0.159747</td>\n",
       "      <td>0.222092</td>\n",
       "      <td>0.159673</td>\n",
       "    </tr>\n",
       "    <tr>\n",
       "      <th>13</th>\n",
       "      <td>neg_no</td>\n",
       "      <td>0.119384</td>\n",
       "      <td>0.236172</td>\n",
       "      <td>0.172354</td>\n",
       "      <td>0.234694</td>\n",
       "      <td>0.171108</td>\n",
       "      <td>0.234667</td>\n",
       "      <td>0.171065</td>\n",
       "    </tr>\n",
       "    <tr>\n",
       "      <th>14</th>\n",
       "      <td>user_deviation</td>\n",
       "      <td>-0.330468</td>\n",
       "      <td>0.224785</td>\n",
       "      <td>0.160081</td>\n",
       "      <td>0.251740</td>\n",
       "      <td>0.171661</td>\n",
       "      <td>0.224415</td>\n",
       "      <td>0.159584</td>\n",
       "    </tr>\n",
       "    <tr>\n",
       "      <th>15</th>\n",
       "      <td>user_delay</td>\n",
       "      <td>-0.094694</td>\n",
       "      <td>0.236995</td>\n",
       "      <td>0.172626</td>\n",
       "      <td>0.239586</td>\n",
       "      <td>0.170837</td>\n",
       "      <td>0.236607</td>\n",
       "      <td>0.172250</td>\n",
       "    </tr>\n",
       "    <tr>\n",
       "      <th>16</th>\n",
       "      <td>no_of_reviews</td>\n",
       "      <td>0.071760</td>\n",
       "      <td>0.237384</td>\n",
       "      <td>0.173439</td>\n",
       "      <td>0.236534</td>\n",
       "      <td>0.173950</td>\n",
       "      <td>0.236547</td>\n",
       "      <td>0.173906</td>\n",
       "    </tr>\n",
       "    <tr>\n",
       "      <th>17</th>\n",
       "      <td>reviewer_days</td>\n",
       "      <td>0.091997</td>\n",
       "      <td>0.236926</td>\n",
       "      <td>0.172384</td>\n",
       "      <td>0.238912</td>\n",
       "      <td>0.172622</td>\n",
       "      <td>0.236160</td>\n",
       "      <td>0.171822</td>\n",
       "    </tr>\n",
       "    <tr>\n",
       "      <th>18</th>\n",
       "      <td>stem_sim_length</td>\n",
       "      <td>0.170400</td>\n",
       "      <td>0.234537</td>\n",
       "      <td>0.170971</td>\n",
       "      <td>0.231976</td>\n",
       "      <td>0.168500</td>\n",
       "      <td>0.231948</td>\n",
       "      <td>0.168446</td>\n",
       "    </tr>\n",
       "    <tr>\n",
       "      <th>19</th>\n",
       "      <td>lem_sim_length</td>\n",
       "      <td>0.171916</td>\n",
       "      <td>0.234496</td>\n",
       "      <td>0.170931</td>\n",
       "      <td>0.231958</td>\n",
       "      <td>0.168378</td>\n",
       "      <td>0.231941</td>\n",
       "      <td>0.168347</td>\n",
       "    </tr>\n",
       "    <tr>\n",
       "      <th>20</th>\n",
       "      <td>overall</td>\n",
       "      <td>0.475150</td>\n",
       "      <td>0.210184</td>\n",
       "      <td>0.146280</td>\n",
       "      <td>0.208644</td>\n",
       "      <td>0.144121</td>\n",
       "      <td>0.208644</td>\n",
       "      <td>0.144111</td>\n",
       "    </tr>\n",
       "  </tbody>\n",
       "</table>\n",
       "</div>"
      ],
      "text/plain": [
       "                         feature  correlation   rmse-LR    mae-LR   rmse-RF  \\\n",
       "0            flesch_reading_ease    -0.111958  0.236515  0.172393  0.239447   \n",
       "1                     smog_index     0.115414  0.236336  0.172052  0.234847   \n",
       "2           flesch_kincaid_grade     0.110595  0.236547  0.172405  0.235316   \n",
       "3             coleman_liau_index     0.107465  0.236695  0.172458  0.236714   \n",
       "4    automated_readability_index     0.110973  0.236538  0.172404  0.238498   \n",
       "5   dale_chall_readability_score     0.113564  0.236480  0.172404  0.238596   \n",
       "6                difficult_words     0.216660  0.232292  0.170116  0.224072   \n",
       "7          linsear_write_formula     0.014142  0.237968  0.173186  0.233313   \n",
       "8                    gunning_fog     0.109958  0.236567  0.172418  0.245639   \n",
       "9                 sentence_count     0.121914  0.236107  0.172027  0.235254   \n",
       "10                           wps     0.109722  0.236569  0.172411  0.238453   \n",
       "11                 review_length     0.196104  0.233316  0.170669  0.225790   \n",
       "12                        pos_no     0.223190  0.232012  0.169830  0.222123   \n",
       "13                        neg_no     0.119384  0.236172  0.172354  0.234694   \n",
       "14                user_deviation    -0.330468  0.224785  0.160081  0.251740   \n",
       "15                    user_delay    -0.094694  0.236995  0.172626  0.239586   \n",
       "16                 no_of_reviews     0.071760  0.237384  0.173439  0.236534   \n",
       "17                 reviewer_days     0.091997  0.236926  0.172384  0.238912   \n",
       "18               stem_sim_length     0.170400  0.234537  0.170971  0.231976   \n",
       "19                lem_sim_length     0.171916  0.234496  0.170931  0.231958   \n",
       "20                       overall     0.475150  0.210184  0.146280  0.208644   \n",
       "\n",
       "      mae-RF  rmse-XGB   mae-XGB  \n",
       "0   0.173287  0.234108  0.170034  \n",
       "1   0.170670  0.234702  0.170574  \n",
       "2   0.171055  0.233818  0.169690  \n",
       "3   0.170643  0.233702  0.169747  \n",
       "4   0.173384  0.233903  0.169729  \n",
       "5   0.173142  0.233639  0.169768  \n",
       "6   0.162243  0.223898  0.161996  \n",
       "7   0.168712  0.233643  0.169577  \n",
       "8   0.177515  0.233768  0.169728  \n",
       "9   0.171097  0.235211  0.171006  \n",
       "10  0.173417  0.232971  0.169140  \n",
       "11  0.163742  0.224070  0.162040  \n",
       "12  0.159747  0.222092  0.159673  \n",
       "13  0.171108  0.234667  0.171065  \n",
       "14  0.171661  0.224415  0.159584  \n",
       "15  0.170837  0.236607  0.172250  \n",
       "16  0.173950  0.236547  0.173906  \n",
       "17  0.172622  0.236160  0.171822  \n",
       "18  0.168500  0.231948  0.168446  \n",
       "19  0.168378  0.231941  0.168347  \n",
       "20  0.144121  0.208644  0.144111  "
      ]
     },
     "execution_count": 149,
     "metadata": {},
     "output_type": "execute_result"
    }
   ],
   "source": [
    "featurewise_result"
   ]
  },
  {
   "cell_type": "code",
   "execution_count": 150,
   "metadata": {
    "collapsed": true
   },
   "outputs": [],
   "source": [
    "def get_least_error(lr, rf, xgb) :\n",
    "    if xgb < rf and xgb < lr :\n",
    "        return xgb\n",
    "    if rf < lr and rf < xgb :\n",
    "        return rf\n",
    "    if lr < rf and lr < xgb :\n",
    "        return lr"
   ]
  },
  {
   "cell_type": "code",
   "execution_count": 154,
   "metadata": {
    "collapsed": true
   },
   "outputs": [],
   "source": [
    "featurewise_result['least_mae'] = featurewise_result.apply(lambda row: get_least_error(row['mae-LR'],row['mae-RF'], row['mae-XGB']), axis=1)\n",
    "featurewise_result['least_rmse'] = featurewise_result.apply(lambda row: get_least_error(row['rmse-LR'], row['rmse-RF'], row['rmse-XGB']), axis=1)"
   ]
  },
  {
   "cell_type": "code",
   "execution_count": 156,
   "metadata": {
    "collapsed": true
   },
   "outputs": [],
   "source": [
    "featurewise_result_sorted = featurewise_result.sort_values(by='least_mae')"
   ]
  },
  {
   "cell_type": "code",
   "execution_count": 159,
   "metadata": {
    "collapsed": true
   },
   "outputs": [],
   "source": [
    "featurewise_result_sorted.to_csv('Featurewise_Final.csv', index=False)"
   ]
  },
  {
   "cell_type": "markdown",
   "metadata": {},
   "source": [
    "### Error Analysis"
   ]
  },
  {
   "cell_type": "code",
   "execution_count": 161,
   "metadata": {},
   "outputs": [
    {
     "name": "stdout",
     "output_type": "stream",
     "text": [
      "Features:  Index(['flesch_reading_ease', 'smog_index', 'flesch_kincaid_grade',\n",
      "       'coleman_liau_index', 'automated_readability_index',\n",
      "       'dale_chall_readability_score', 'difficult_words',\n",
      "       'linsear_write_formula', 'gunning_fog', 'sentence_count', 'wps',\n",
      "       'review_length', 'pos_no', 'neg_no', 'user_deviation', 'user_delay',\n",
      "       'no_of_reviews', 'reviewer_days', 'stem_sim_length', 'lem_sim_length',\n",
      "       'overall'],\n",
      "      dtype='object')\n",
      "No of Features:  21\n"
     ]
    }
   ],
   "source": [
    "X = text_df[['flesch_reading_ease', \n",
    "       'smog_index', 'flesch_kincaid_grade', 'coleman_liau_index',\n",
    "       'automated_readability_index', 'dale_chall_readability_score',\n",
    "       'difficult_words', 'linsear_write_formula', 'gunning_fog',\n",
    "       'sentence_count', 'wps', 'review_length', 'pos_no', 'neg_no']]\n",
    "\n",
    "X=X.join(user_df[['user_deviation', 'user_delay','no_of_reviews', 'reviewer_days']])\n",
    "\n",
    "X = X.join(meta_df[['stem_sim_length','lem_sim_length','overall']])\n",
    "\n",
    "print(\"Features: \",X.columns)\n",
    "print(\"No of Features: \",len(X.columns))"
   ]
  },
  {
   "cell_type": "code",
   "execution_count": 162,
   "metadata": {},
   "outputs": [
    {
     "data": {
      "text/html": [
       "<div>\n",
       "<style scoped>\n",
       "    .dataframe tbody tr th:only-of-type {\n",
       "        vertical-align: middle;\n",
       "    }\n",
       "\n",
       "    .dataframe tbody tr th {\n",
       "        vertical-align: top;\n",
       "    }\n",
       "\n",
       "    .dataframe thead th {\n",
       "        text-align: right;\n",
       "    }\n",
       "</style>\n",
       "<table border=\"1\" class=\"dataframe\">\n",
       "  <thead>\n",
       "    <tr style=\"text-align: right;\">\n",
       "      <th></th>\n",
       "      <th>flesch_reading_ease</th>\n",
       "      <th>smog_index</th>\n",
       "      <th>flesch_kincaid_grade</th>\n",
       "      <th>coleman_liau_index</th>\n",
       "      <th>automated_readability_index</th>\n",
       "      <th>dale_chall_readability_score</th>\n",
       "      <th>difficult_words</th>\n",
       "      <th>linsear_write_formula</th>\n",
       "      <th>gunning_fog</th>\n",
       "      <th>sentence_count</th>\n",
       "      <th>...</th>\n",
       "      <th>review_length</th>\n",
       "      <th>pos_no</th>\n",
       "      <th>neg_no</th>\n",
       "      <th>user_deviation</th>\n",
       "      <th>user_delay</th>\n",
       "      <th>no_of_reviews</th>\n",
       "      <th>reviewer_days</th>\n",
       "      <th>stem_sim_length</th>\n",
       "      <th>lem_sim_length</th>\n",
       "      <th>overall</th>\n",
       "    </tr>\n",
       "  </thead>\n",
       "  <tbody>\n",
       "    <tr>\n",
       "      <th>0</th>\n",
       "      <td>-336.56</td>\n",
       "      <td>0.0</td>\n",
       "      <td>166.3</td>\n",
       "      <td>7.69</td>\n",
       "      <td>211.1</td>\n",
       "      <td>26.44</td>\n",
       "      <td>44</td>\n",
       "      <td>14.000000</td>\n",
       "      <td>176.92</td>\n",
       "      <td>1</td>\n",
       "      <td>...</td>\n",
       "      <td>427</td>\n",
       "      <td>2</td>\n",
       "      <td>4</td>\n",
       "      <td>1.399189</td>\n",
       "      <td>10152000.0</td>\n",
       "      <td>1</td>\n",
       "      <td>260.0</td>\n",
       "      <td>15</td>\n",
       "      <td>13</td>\n",
       "      <td>1.0</td>\n",
       "    </tr>\n",
       "    <tr>\n",
       "      <th>1</th>\n",
       "      <td>-340.96</td>\n",
       "      <td>0.0</td>\n",
       "      <td>165.9</td>\n",
       "      <td>9.72</td>\n",
       "      <td>210.8</td>\n",
       "      <td>26.37</td>\n",
       "      <td>94</td>\n",
       "      <td>8.666667</td>\n",
       "      <td>175.64</td>\n",
       "      <td>2</td>\n",
       "      <td>...</td>\n",
       "      <td>846</td>\n",
       "      <td>18</td>\n",
       "      <td>8</td>\n",
       "      <td>0.624437</td>\n",
       "      <td>10886400.0</td>\n",
       "      <td>1</td>\n",
       "      <td>1390.0</td>\n",
       "      <td>24</td>\n",
       "      <td>23</td>\n",
       "      <td>3.0</td>\n",
       "    </tr>\n",
       "    <tr>\n",
       "      <th>2</th>\n",
       "      <td>85.52</td>\n",
       "      <td>7.3</td>\n",
       "      <td>6.2</td>\n",
       "      <td>5.92</td>\n",
       "      <td>7.2</td>\n",
       "      <td>5.87</td>\n",
       "      <td>36</td>\n",
       "      <td>7.666667</td>\n",
       "      <td>13.01</td>\n",
       "      <td>23</td>\n",
       "      <td>...</td>\n",
       "      <td>449</td>\n",
       "      <td>7</td>\n",
       "      <td>6</td>\n",
       "      <td>0.510375</td>\n",
       "      <td>7516800.0</td>\n",
       "      <td>1</td>\n",
       "      <td>929.0</td>\n",
       "      <td>17</td>\n",
       "      <td>16</td>\n",
       "      <td>2.0</td>\n",
       "    </tr>\n",
       "    <tr>\n",
       "      <th>3</th>\n",
       "      <td>66.94</td>\n",
       "      <td>10.8</td>\n",
       "      <td>7.1</td>\n",
       "      <td>8.05</td>\n",
       "      <td>6.3</td>\n",
       "      <td>6.99</td>\n",
       "      <td>11</td>\n",
       "      <td>7.200000</td>\n",
       "      <td>14.00</td>\n",
       "      <td>5</td>\n",
       "      <td>...</td>\n",
       "      <td>64</td>\n",
       "      <td>2</td>\n",
       "      <td>0</td>\n",
       "      <td>0.442171</td>\n",
       "      <td>2678400.0</td>\n",
       "      <td>1</td>\n",
       "      <td>0.0</td>\n",
       "      <td>2</td>\n",
       "      <td>2</td>\n",
       "      <td>5.0</td>\n",
       "    </tr>\n",
       "    <tr>\n",
       "      <th>4</th>\n",
       "      <td>-43.22</td>\n",
       "      <td>0.0</td>\n",
       "      <td>53.6</td>\n",
       "      <td>8.09</td>\n",
       "      <td>67.2</td>\n",
       "      <td>12.20</td>\n",
       "      <td>15</td>\n",
       "      <td>4.400000</td>\n",
       "      <td>61.55</td>\n",
       "      <td>1</td>\n",
       "      <td>...</td>\n",
       "      <td>138</td>\n",
       "      <td>1</td>\n",
       "      <td>3</td>\n",
       "      <td>1.616074</td>\n",
       "      <td>7603200.0</td>\n",
       "      <td>1</td>\n",
       "      <td>0.0</td>\n",
       "      <td>2</td>\n",
       "      <td>2</td>\n",
       "      <td>1.0</td>\n",
       "    </tr>\n",
       "  </tbody>\n",
       "</table>\n",
       "<p>5 rows × 21 columns</p>\n",
       "</div>"
      ],
      "text/plain": [
       "   flesch_reading_ease  smog_index  flesch_kincaid_grade  coleman_liau_index  \\\n",
       "0              -336.56         0.0                 166.3                7.69   \n",
       "1              -340.96         0.0                 165.9                9.72   \n",
       "2                85.52         7.3                   6.2                5.92   \n",
       "3                66.94        10.8                   7.1                8.05   \n",
       "4               -43.22         0.0                  53.6                8.09   \n",
       "\n",
       "   automated_readability_index  dale_chall_readability_score  difficult_words  \\\n",
       "0                        211.1                         26.44               44   \n",
       "1                        210.8                         26.37               94   \n",
       "2                          7.2                          5.87               36   \n",
       "3                          6.3                          6.99               11   \n",
       "4                         67.2                         12.20               15   \n",
       "\n",
       "   linsear_write_formula  gunning_fog  sentence_count   ...     review_length  \\\n",
       "0              14.000000       176.92               1   ...               427   \n",
       "1               8.666667       175.64               2   ...               846   \n",
       "2               7.666667        13.01              23   ...               449   \n",
       "3               7.200000        14.00               5   ...                64   \n",
       "4               4.400000        61.55               1   ...               138   \n",
       "\n",
       "   pos_no  neg_no  user_deviation  user_delay  no_of_reviews  reviewer_days  \\\n",
       "0       2       4        1.399189  10152000.0              1          260.0   \n",
       "1      18       8        0.624437  10886400.0              1         1390.0   \n",
       "2       7       6        0.510375   7516800.0              1          929.0   \n",
       "3       2       0        0.442171   2678400.0              1            0.0   \n",
       "4       1       3        1.616074   7603200.0              1            0.0   \n",
       "\n",
       "   stem_sim_length  lem_sim_length  overall  \n",
       "0               15              13      1.0  \n",
       "1               24              23      3.0  \n",
       "2               17              16      2.0  \n",
       "3                2               2      5.0  \n",
       "4                2               2      1.0  \n",
       "\n",
       "[5 rows x 21 columns]"
      ]
     },
     "execution_count": 162,
     "metadata": {},
     "output_type": "execute_result"
    }
   ],
   "source": [
    "X.head()"
   ]
  },
  {
   "cell_type": "code",
   "execution_count": 163,
   "metadata": {
    "collapsed": true
   },
   "outputs": [],
   "source": [
    "y = review_df['helpfulness_score']\n",
    "\t\n",
    "X_train, X_test, y_train, y_test = train_test_split(X, y, test_size=0.4, random_state=101)"
   ]
  },
  {
   "cell_type": "code",
   "execution_count": 164,
   "metadata": {
    "collapsed": true
   },
   "outputs": [],
   "source": [
    "xgb_reg = xgb.XGBRegressor(learning_rate=grid_learning_rate, n_estimators=grid_n_estimators, subsample=grid_subsample)"
   ]
  },
  {
   "cell_type": "code",
   "execution_count": null,
   "metadata": {
    "collapsed": true
   },
   "outputs": [],
   "source": [
    "print(\"Best Learning Rate : {} , Best No of Estimators : {} , Best Subsample size : {}\".format(best_learning_rate, best_n_estimators, best_subsample))"
   ]
  },
  {
   "cell_type": "code",
   "execution_count": 165,
   "metadata": {},
   "outputs": [
    {
     "data": {
      "text/plain": [
       "XGBRegressor(base_score=0.5, booster='gbtree', colsample_bylevel=1,\n",
       "       colsample_bytree=1, gamma=0, learning_rate=0.09, max_delta_step=0,\n",
       "       max_depth=3, min_child_weight=1, missing=None, n_estimators=500,\n",
       "       n_jobs=1, nthread=None, objective='reg:linear', random_state=0,\n",
       "       reg_alpha=0, reg_lambda=1, scale_pos_weight=1, seed=None,\n",
       "       silent=True, subsample=0.9)"
      ]
     },
     "execution_count": 165,
     "metadata": {},
     "output_type": "execute_result"
    }
   ],
   "source": [
    "xgb_reg.fit(X_train,y_train)"
   ]
  },
  {
   "cell_type": "code",
   "execution_count": 166,
   "metadata": {
    "collapsed": true
   },
   "outputs": [],
   "source": [
    "predictions=xgb_reg.predict(X_test)"
   ]
  },
  {
   "cell_type": "code",
   "execution_count": 167,
   "metadata": {},
   "outputs": [
    {
     "name": "stdout",
     "output_type": "stream",
     "text": [
      "Mean Squared Error (MSE):       0.0368974164299238\n",
      "Root Mean Squared Error (RMSE): 0.1920870022409736\n",
      "Mean Absolute Error (MAE):      0.13192014023385665\n"
     ]
    }
   ],
   "source": [
    "# MSE : Mean Squared Error\n",
    "mse=mean_squared_error(y_test,predictions)\n",
    "\n",
    "# RMSE : Root Mean Squared Error\n",
    "rmse=math.sqrt(mean_squared_error(y_test,predictions))\n",
    "\n",
    "# MAE : Mean Absolute Error\n",
    "mae=mean_absolute_error(y_test,predictions)\n",
    "\n",
    "print('Mean Squared Error (MSE):      ',mse)\n",
    "print('Root Mean Squared Error (RMSE):',rmse)\n",
    "print('Mean Absolute Error (MAE):     ',mae)"
   ]
  },
  {
   "cell_type": "code",
   "execution_count": 168,
   "metadata": {
    "collapsed": true
   },
   "outputs": [],
   "source": [
    "error_list = abs(y_test-predictions)"
   ]
  },
  {
   "cell_type": "code",
   "execution_count": null,
   "metadata": {
    "collapsed": true
   },
   "outputs": [],
   "source": []
  },
  {
   "cell_type": "code",
   "execution_count": 177,
   "metadata": {
    "collapsed": true
   },
   "outputs": [],
   "source": [
    "error_df = pd.DataFrame()"
   ]
  },
  {
   "cell_type": "code",
   "execution_count": 179,
   "metadata": {
    "collapsed": true
   },
   "outputs": [],
   "source": [
    "error_df['y_test']=y_test\n",
    "error_df['predictions'] = predictions\n",
    "error_df['error'] = error_list"
   ]
  },
  {
   "cell_type": "code",
   "execution_count": 252,
   "metadata": {},
   "outputs": [
    {
     "data": {
      "text/html": [
       "<div>\n",
       "<style scoped>\n",
       "    .dataframe tbody tr th:only-of-type {\n",
       "        vertical-align: middle;\n",
       "    }\n",
       "\n",
       "    .dataframe tbody tr th {\n",
       "        vertical-align: top;\n",
       "    }\n",
       "\n",
       "    .dataframe thead th {\n",
       "        text-align: right;\n",
       "    }\n",
       "</style>\n",
       "<table border=\"1\" class=\"dataframe\">\n",
       "  <thead>\n",
       "    <tr style=\"text-align: right;\">\n",
       "      <th></th>\n",
       "      <th>y_test</th>\n",
       "      <th>predictions</th>\n",
       "      <th>error</th>\n",
       "      <th>class_predict</th>\n",
       "    </tr>\n",
       "  </thead>\n",
       "  <tbody>\n",
       "    <tr>\n",
       "      <th>69520</th>\n",
       "      <td>0.000000</td>\n",
       "      <td>0.926131</td>\n",
       "      <td>0.926131</td>\n",
       "      <td>1</td>\n",
       "    </tr>\n",
       "    <tr>\n",
       "      <th>5371</th>\n",
       "      <td>0.000000</td>\n",
       "      <td>0.918928</td>\n",
       "      <td>0.918928</td>\n",
       "      <td>1</td>\n",
       "    </tr>\n",
       "    <tr>\n",
       "      <th>74862</th>\n",
       "      <td>0.000000</td>\n",
       "      <td>0.915146</td>\n",
       "      <td>0.915146</td>\n",
       "      <td>1</td>\n",
       "    </tr>\n",
       "    <tr>\n",
       "      <th>61109</th>\n",
       "      <td>0.000000</td>\n",
       "      <td>0.912949</td>\n",
       "      <td>0.912949</td>\n",
       "      <td>1</td>\n",
       "    </tr>\n",
       "    <tr>\n",
       "      <th>42479</th>\n",
       "      <td>0.000000</td>\n",
       "      <td>0.911104</td>\n",
       "      <td>0.911104</td>\n",
       "      <td>1</td>\n",
       "    </tr>\n",
       "    <tr>\n",
       "      <th>30207</th>\n",
       "      <td>0.000000</td>\n",
       "      <td>0.909286</td>\n",
       "      <td>0.909286</td>\n",
       "      <td>1</td>\n",
       "    </tr>\n",
       "    <tr>\n",
       "      <th>62249</th>\n",
       "      <td>0.027027</td>\n",
       "      <td>0.931933</td>\n",
       "      <td>0.904906</td>\n",
       "      <td>1</td>\n",
       "    </tr>\n",
       "    <tr>\n",
       "      <th>26938</th>\n",
       "      <td>0.000000</td>\n",
       "      <td>0.904504</td>\n",
       "      <td>0.904504</td>\n",
       "      <td>1</td>\n",
       "    </tr>\n",
       "    <tr>\n",
       "      <th>61105</th>\n",
       "      <td>0.000000</td>\n",
       "      <td>0.901851</td>\n",
       "      <td>0.901851</td>\n",
       "      <td>1</td>\n",
       "    </tr>\n",
       "    <tr>\n",
       "      <th>22696</th>\n",
       "      <td>0.000000</td>\n",
       "      <td>0.896530</td>\n",
       "      <td>0.896530</td>\n",
       "      <td>1</td>\n",
       "    </tr>\n",
       "    <tr>\n",
       "      <th>71653</th>\n",
       "      <td>0.000000</td>\n",
       "      <td>0.893957</td>\n",
       "      <td>0.893957</td>\n",
       "      <td>1</td>\n",
       "    </tr>\n",
       "    <tr>\n",
       "      <th>57389</th>\n",
       "      <td>0.000000</td>\n",
       "      <td>0.892782</td>\n",
       "      <td>0.892782</td>\n",
       "      <td>1</td>\n",
       "    </tr>\n",
       "    <tr>\n",
       "      <th>30212</th>\n",
       "      <td>0.000000</td>\n",
       "      <td>0.888650</td>\n",
       "      <td>0.888650</td>\n",
       "      <td>1</td>\n",
       "    </tr>\n",
       "    <tr>\n",
       "      <th>36783</th>\n",
       "      <td>0.000000</td>\n",
       "      <td>0.884479</td>\n",
       "      <td>0.884479</td>\n",
       "      <td>1</td>\n",
       "    </tr>\n",
       "    <tr>\n",
       "      <th>15368</th>\n",
       "      <td>0.000000</td>\n",
       "      <td>0.884155</td>\n",
       "      <td>0.884155</td>\n",
       "      <td>1</td>\n",
       "    </tr>\n",
       "    <tr>\n",
       "      <th>30208</th>\n",
       "      <td>0.000000</td>\n",
       "      <td>0.881216</td>\n",
       "      <td>0.881216</td>\n",
       "      <td>1</td>\n",
       "    </tr>\n",
       "    <tr>\n",
       "      <th>37163</th>\n",
       "      <td>0.000000</td>\n",
       "      <td>0.880677</td>\n",
       "      <td>0.880677</td>\n",
       "      <td>1</td>\n",
       "    </tr>\n",
       "    <tr>\n",
       "      <th>75408</th>\n",
       "      <td>0.016129</td>\n",
       "      <td>0.894958</td>\n",
       "      <td>0.878829</td>\n",
       "      <td>0</td>\n",
       "    </tr>\n",
       "    <tr>\n",
       "      <th>14416</th>\n",
       "      <td>1.000000</td>\n",
       "      <td>0.124452</td>\n",
       "      <td>0.875548</td>\n",
       "      <td>0</td>\n",
       "    </tr>\n",
       "    <tr>\n",
       "      <th>64005</th>\n",
       "      <td>0.000000</td>\n",
       "      <td>0.870496</td>\n",
       "      <td>0.870496</td>\n",
       "      <td>1</td>\n",
       "    </tr>\n",
       "    <tr>\n",
       "      <th>81257</th>\n",
       "      <td>0.000000</td>\n",
       "      <td>0.867911</td>\n",
       "      <td>0.867911</td>\n",
       "      <td>1</td>\n",
       "    </tr>\n",
       "    <tr>\n",
       "      <th>8320</th>\n",
       "      <td>0.000000</td>\n",
       "      <td>0.867749</td>\n",
       "      <td>0.867749</td>\n",
       "      <td>1</td>\n",
       "    </tr>\n",
       "    <tr>\n",
       "      <th>25109</th>\n",
       "      <td>0.066667</td>\n",
       "      <td>0.932143</td>\n",
       "      <td>0.865477</td>\n",
       "      <td>1</td>\n",
       "    </tr>\n",
       "    <tr>\n",
       "      <th>56194</th>\n",
       "      <td>0.066667</td>\n",
       "      <td>0.929098</td>\n",
       "      <td>0.862431</td>\n",
       "      <td>1</td>\n",
       "    </tr>\n",
       "    <tr>\n",
       "      <th>9632</th>\n",
       "      <td>0.000000</td>\n",
       "      <td>0.859079</td>\n",
       "      <td>0.859079</td>\n",
       "      <td>1</td>\n",
       "    </tr>\n",
       "    <tr>\n",
       "      <th>17033</th>\n",
       "      <td>0.000000</td>\n",
       "      <td>0.858829</td>\n",
       "      <td>0.858829</td>\n",
       "      <td>1</td>\n",
       "    </tr>\n",
       "    <tr>\n",
       "      <th>63966</th>\n",
       "      <td>0.000000</td>\n",
       "      <td>0.857232</td>\n",
       "      <td>0.857232</td>\n",
       "      <td>1</td>\n",
       "    </tr>\n",
       "    <tr>\n",
       "      <th>48132</th>\n",
       "      <td>0.071942</td>\n",
       "      <td>0.926851</td>\n",
       "      <td>0.854909</td>\n",
       "      <td>1</td>\n",
       "    </tr>\n",
       "    <tr>\n",
       "      <th>74104</th>\n",
       "      <td>0.000000</td>\n",
       "      <td>0.843250</td>\n",
       "      <td>0.843250</td>\n",
       "      <td>1</td>\n",
       "    </tr>\n",
       "    <tr>\n",
       "      <th>64758</th>\n",
       "      <td>0.062500</td>\n",
       "      <td>0.904258</td>\n",
       "      <td>0.841758</td>\n",
       "      <td>0</td>\n",
       "    </tr>\n",
       "    <tr>\n",
       "      <th>63745</th>\n",
       "      <td>0.000000</td>\n",
       "      <td>0.841478</td>\n",
       "      <td>0.841478</td>\n",
       "      <td>1</td>\n",
       "    </tr>\n",
       "    <tr>\n",
       "      <th>58170</th>\n",
       "      <td>0.052632</td>\n",
       "      <td>0.893866</td>\n",
       "      <td>0.841234</td>\n",
       "      <td>1</td>\n",
       "    </tr>\n",
       "    <tr>\n",
       "      <th>57243</th>\n",
       "      <td>0.100000</td>\n",
       "      <td>0.940104</td>\n",
       "      <td>0.840104</td>\n",
       "      <td>1</td>\n",
       "    </tr>\n",
       "    <tr>\n",
       "      <th>73581</th>\n",
       "      <td>0.027027</td>\n",
       "      <td>0.865344</td>\n",
       "      <td>0.838317</td>\n",
       "      <td>1</td>\n",
       "    </tr>\n",
       "    <tr>\n",
       "      <th>38809</th>\n",
       "      <td>0.000000</td>\n",
       "      <td>0.833748</td>\n",
       "      <td>0.833748</td>\n",
       "      <td>0</td>\n",
       "    </tr>\n",
       "    <tr>\n",
       "      <th>66461</th>\n",
       "      <td>0.071429</td>\n",
       "      <td>0.903539</td>\n",
       "      <td>0.832111</td>\n",
       "      <td>1</td>\n",
       "    </tr>\n",
       "    <tr>\n",
       "      <th>56498</th>\n",
       "      <td>0.100000</td>\n",
       "      <td>0.932028</td>\n",
       "      <td>0.832028</td>\n",
       "      <td>1</td>\n",
       "    </tr>\n",
       "    <tr>\n",
       "      <th>27032</th>\n",
       "      <td>0.000000</td>\n",
       "      <td>0.828635</td>\n",
       "      <td>0.828635</td>\n",
       "      <td>1</td>\n",
       "    </tr>\n",
       "    <tr>\n",
       "      <th>44684</th>\n",
       "      <td>0.066667</td>\n",
       "      <td>0.894948</td>\n",
       "      <td>0.828281</td>\n",
       "      <td>1</td>\n",
       "    </tr>\n",
       "    <tr>\n",
       "      <th>20675</th>\n",
       "      <td>0.000000</td>\n",
       "      <td>0.828264</td>\n",
       "      <td>0.828264</td>\n",
       "      <td>1</td>\n",
       "    </tr>\n",
       "  </tbody>\n",
       "</table>\n",
       "</div>"
      ],
      "text/plain": [
       "         y_test  predictions     error  class_predict\n",
       "69520  0.000000     0.926131  0.926131              1\n",
       "5371   0.000000     0.918928  0.918928              1\n",
       "74862  0.000000     0.915146  0.915146              1\n",
       "61109  0.000000     0.912949  0.912949              1\n",
       "42479  0.000000     0.911104  0.911104              1\n",
       "30207  0.000000     0.909286  0.909286              1\n",
       "62249  0.027027     0.931933  0.904906              1\n",
       "26938  0.000000     0.904504  0.904504              1\n",
       "61105  0.000000     0.901851  0.901851              1\n",
       "22696  0.000000     0.896530  0.896530              1\n",
       "71653  0.000000     0.893957  0.893957              1\n",
       "57389  0.000000     0.892782  0.892782              1\n",
       "30212  0.000000     0.888650  0.888650              1\n",
       "36783  0.000000     0.884479  0.884479              1\n",
       "15368  0.000000     0.884155  0.884155              1\n",
       "30208  0.000000     0.881216  0.881216              1\n",
       "37163  0.000000     0.880677  0.880677              1\n",
       "75408  0.016129     0.894958  0.878829              0\n",
       "14416  1.000000     0.124452  0.875548              0\n",
       "64005  0.000000     0.870496  0.870496              1\n",
       "81257  0.000000     0.867911  0.867911              1\n",
       "8320   0.000000     0.867749  0.867749              1\n",
       "25109  0.066667     0.932143  0.865477              1\n",
       "56194  0.066667     0.929098  0.862431              1\n",
       "9632   0.000000     0.859079  0.859079              1\n",
       "17033  0.000000     0.858829  0.858829              1\n",
       "63966  0.000000     0.857232  0.857232              1\n",
       "48132  0.071942     0.926851  0.854909              1\n",
       "74104  0.000000     0.843250  0.843250              1\n",
       "64758  0.062500     0.904258  0.841758              0\n",
       "63745  0.000000     0.841478  0.841478              1\n",
       "58170  0.052632     0.893866  0.841234              1\n",
       "57243  0.100000     0.940104  0.840104              1\n",
       "73581  0.027027     0.865344  0.838317              1\n",
       "38809  0.000000     0.833748  0.833748              0\n",
       "66461  0.071429     0.903539  0.832111              1\n",
       "56498  0.100000     0.932028  0.832028              1\n",
       "27032  0.000000     0.828635  0.828635              1\n",
       "44684  0.066667     0.894948  0.828281              1\n",
       "20675  0.000000     0.828264  0.828264              1"
      ]
     },
     "execution_count": 252,
     "metadata": {},
     "output_type": "execute_result"
    }
   ],
   "source": [
    "error_df.head(40)"
   ]
  },
  {
   "cell_type": "code",
   "execution_count": 254,
   "metadata": {},
   "outputs": [
    {
     "data": {
      "text/plain": [
       "y_test           2434\n",
       "predictions      2434\n",
       "error            2434\n",
       "class_predict    2434\n",
       "dtype: int64"
      ]
     },
     "execution_count": 254,
     "metadata": {},
     "output_type": "execute_result"
    }
   ],
   "source": [
    "error_df[(error_df['class_predict']==0) & (error_df['predictions'] > 0.5) & (error_df['y_test'] <= 0.5)].count()"
   ]
  },
  {
   "cell_type": "code",
   "execution_count": 256,
   "metadata": {},
   "outputs": [
    {
     "data": {
      "text/plain": [
       "y_test           3171\n",
       "predictions      3171\n",
       "error            3171\n",
       "class_predict    3171\n",
       "dtype: int64"
      ]
     },
     "execution_count": 256,
     "metadata": {},
     "output_type": "execute_result"
    }
   ],
   "source": [
    "error_df[(error_df['predictions']>0.5) & (error_df['y_test']<=0.5)].count()"
   ]
  },
  {
   "cell_type": "code",
   "execution_count": 187,
   "metadata": {
    "collapsed": true
   },
   "outputs": [],
   "source": [
    "error_df['class_predict']=helper_df['help_pred_2']"
   ]
  },
  {
   "cell_type": "code",
   "execution_count": 251,
   "metadata": {},
   "outputs": [
    {
     "data": {
      "text/plain": [
       "0.08892003573785723"
      ]
     },
     "execution_count": 251,
     "metadata": {},
     "output_type": "execute_result"
    }
   ],
   "source": [
    "error_df[error_df['class_predict']==1]['error'].mean()"
   ]
  },
  {
   "cell_type": "code",
   "execution_count": 184,
   "metadata": {
    "collapsed": true
   },
   "outputs": [],
   "source": [
    "error_df = error_df.sort_values(by=['error'],ascending=False)"
   ]
  },
  {
   "cell_type": "code",
   "execution_count": 195,
   "metadata": {},
   "outputs": [
    {
     "data": {
      "text/plain": [
       "0.18934951076361148"
      ]
     },
     "execution_count": 195,
     "metadata": {},
     "output_type": "execute_result"
    }
   ],
   "source": [
    "error_df[error_df['error']> 0.5]['y_test'].mean()"
   ]
  },
  {
   "cell_type": "code",
   "execution_count": 229,
   "metadata": {},
   "outputs": [
    {
     "data": {
      "text/plain": [
       "0.1319181610444203"
      ]
     },
     "execution_count": 229,
     "metadata": {},
     "output_type": "execute_result"
    }
   ],
   "source": [
    "error_df[(error_df['y_test']>=0.0) & (error_df['predictions']<=1.0) & (error_df['predictions']>=0.0)]['error'].mean()"
   ]
  },
  {
   "cell_type": "code",
   "execution_count": 213,
   "metadata": {},
   "outputs": [
    {
     "data": {
      "text/plain": [
       "3882"
      ]
     },
     "execution_count": 213,
     "metadata": {},
     "output_type": "execute_result"
    }
   ],
   "source": [
    "len(error_df[error_df['y_test']<=0.5]['error'])"
   ]
  },
  {
   "cell_type": "code",
   "execution_count": 265,
   "metadata": {},
   "outputs": [
    {
     "data": {
      "text/plain": [
       "y_test           2371\n",
       "predictions      2371\n",
       "error            2371\n",
       "class_predict    2371\n",
       "dtype: int64"
      ]
     },
     "execution_count": 265,
     "metadata": {},
     "output_type": "execute_result"
    }
   ],
   "source": [
    "error_df[(error_df['y_test']>0.9) & (error_df['class_predict']==0)].count()"
   ]
  },
  {
   "cell_type": "code",
   "execution_count": 269,
   "metadata": {},
   "outputs": [
    {
     "data": {
      "text/plain": [
       "10134"
      ]
     },
     "execution_count": 269,
     "metadata": {},
     "output_type": "execute_result"
    }
   ],
   "source": [
    "error_df[error_df['class_predict']==0]['error'].count()"
   ]
  },
  {
   "cell_type": "code",
   "execution_count": 209,
   "metadata": {},
   "outputs": [
    {
     "data": {
      "text/plain": [
       "32510"
      ]
     },
     "execution_count": 209,
     "metadata": {},
     "output_type": "execute_result"
    }
   ],
   "source": [
    "len(error_df)"
   ]
  },
  {
   "cell_type": "code",
   "execution_count": 214,
   "metadata": {
    "scrolled": true
   },
   "outputs": [
    {
     "data": {
      "text/plain": [
       "11.940941248846508"
      ]
     },
     "execution_count": 214,
     "metadata": {},
     "output_type": "execute_result"
    }
   ],
   "source": [
    "3882*100/32510"
   ]
  },
  {
   "cell_type": "code",
   "execution_count": 237,
   "metadata": {},
   "outputs": [
    {
     "data": {
      "text/plain": [
       "0.12258064516129032"
      ]
     },
     "execution_count": 237,
     "metadata": {},
     "output_type": "execute_result"
    }
   ],
   "source": [
    "error_df[error_df['y_test']==0.0]['class_predict'].mean()"
   ]
  },
  {
   "cell_type": "code",
   "execution_count": 471,
   "metadata": {
    "collapsed": true
   },
   "outputs": [],
   "source": [
    "def get_revised_score(pred, label) :\n",
    "    return pred + 0.05"
   ]
  },
  {
   "cell_type": "code",
   "execution_count": 528,
   "metadata": {
    "collapsed": true
   },
   "outputs": [],
   "source": [
    "def get_revised_score(pred, label) :\n",
    "    pred = pred+0.05\n",
    "    if pred > 1 :\n",
    "        pred =1\n",
    "    if pred < 0 :\n",
    "        pred = 0\n",
    "    if label == 0 and pred >= 0.9:\n",
    "        pred = pred - 0.02\n",
    "    return pred"
   ]
  },
  {
   "cell_type": "code",
   "execution_count": 529,
   "metadata": {},
   "outputs": [
    {
     "ename": "IndentationError",
     "evalue": "unindent does not match any outer indentation level (<ipython-input-529-15a77bfd0ad5>, line 3)",
     "output_type": "error",
     "traceback": [
      "\u001b[1;36m  File \u001b[1;32m\"<ipython-input-529-15a77bfd0ad5>\"\u001b[1;36m, line \u001b[1;32m3\u001b[0m\n\u001b[1;33m    if pred <0 :\u001b[0m\n\u001b[1;37m                ^\u001b[0m\n\u001b[1;31mIndentationError\u001b[0m\u001b[1;31m:\u001b[0m unindent does not match any outer indentation level\n"
     ]
    }
   ],
   "source": [
    "  if pred > 1 :\n",
    "        pred =1\n",
    "    if pred <0 :\n",
    "        pred =0\n",
    "    if label==1 :\n",
    "        return pred\n",
    "    if pred <0.5 :\n",
    "        return pred\n",
    "    if pred >= 0.9 :\n",
    "        return pred -0.015\n",
    "    return pred + 0.05"
   ]
  },
  {
   "cell_type": "code",
   "execution_count": 530,
   "metadata": {},
   "outputs": [
    {
     "data": {
      "text/plain": [
       "0.93"
      ]
     },
     "execution_count": 530,
     "metadata": {},
     "output_type": "execute_result"
    }
   ],
   "source": [
    "get_revised_score(0.9,0)"
   ]
  },
  {
   "cell_type": "code",
   "execution_count": 531,
   "metadata": {
    "collapsed": true
   },
   "outputs": [],
   "source": [
    "error_df['revised_score'] = error_df.apply(lambda row : get_revised_score(row['predictions'], row['class_predict']), axis=1)"
   ]
  },
  {
   "cell_type": "code",
   "execution_count": 532,
   "metadata": {
    "collapsed": true
   },
   "outputs": [],
   "source": [
    "error_df['error_revised'] = abs(error_df['revised_score']-error_df['y_test'])"
   ]
  },
  {
   "cell_type": "code",
   "execution_count": 533,
   "metadata": {},
   "outputs": [
    {
     "data": {
      "text/plain": [
       "0.12806866003726933"
      ]
     },
     "execution_count": 533,
     "metadata": {},
     "output_type": "execute_result"
    }
   ],
   "source": [
    "error_df['error_revised'].mean()"
   ]
  },
  {
   "cell_type": "markdown",
   "metadata": {},
   "source": [
    "### Usage of Inter-Feature correlation Graph"
   ]
  },
  {
   "cell_type": "code",
   "execution_count": null,
   "metadata": {
    "collapsed": true
   },
   "outputs": [],
   "source": []
  },
  {
   "cell_type": "code",
   "execution_count": 270,
   "metadata": {},
   "outputs": [
    {
     "name": "stdout",
     "output_type": "stream",
     "text": [
      "Features:  Index(['smog_index', 'coleman_liau_index', 'difficult_words',\n",
      "       'linsear_write_formula', 'sentence_count', 'wps', 'pos_no',\n",
      "       'user_deviation', 'user_delay', 'no_of_reviews', 'reviewer_days',\n",
      "       'lem_sim_length', 'overall'],\n",
      "      dtype='object')\n",
      "No of Features:  13\n"
     ]
    }
   ],
   "source": [
    "X = text_df[['smog_index', 'coleman_liau_index',\n",
    "       'difficult_words', 'linsear_write_formula',\n",
    "       'sentence_count', 'wps', 'pos_no']]\n",
    "\n",
    "X=X.join(user_df[['user_deviation', 'user_delay','no_of_reviews', 'reviewer_days']])\n",
    "\n",
    "X = X.join(meta_df[['lem_sim_length','overall']])\n",
    "\n",
    "print(\"Features: \",X.columns)\n",
    "print(\"No of Features: \",len(X.columns))"
   ]
  },
  {
   "cell_type": "code",
   "execution_count": 271,
   "metadata": {},
   "outputs": [
    {
     "data": {
      "text/html": [
       "<div>\n",
       "<style scoped>\n",
       "    .dataframe tbody tr th:only-of-type {\n",
       "        vertical-align: middle;\n",
       "    }\n",
       "\n",
       "    .dataframe tbody tr th {\n",
       "        vertical-align: top;\n",
       "    }\n",
       "\n",
       "    .dataframe thead th {\n",
       "        text-align: right;\n",
       "    }\n",
       "</style>\n",
       "<table border=\"1\" class=\"dataframe\">\n",
       "  <thead>\n",
       "    <tr style=\"text-align: right;\">\n",
       "      <th></th>\n",
       "      <th>smog_index</th>\n",
       "      <th>coleman_liau_index</th>\n",
       "      <th>difficult_words</th>\n",
       "      <th>linsear_write_formula</th>\n",
       "      <th>sentence_count</th>\n",
       "      <th>wps</th>\n",
       "      <th>pos_no</th>\n",
       "      <th>user_deviation</th>\n",
       "      <th>user_delay</th>\n",
       "      <th>no_of_reviews</th>\n",
       "      <th>reviewer_days</th>\n",
       "      <th>lem_sim_length</th>\n",
       "      <th>overall</th>\n",
       "    </tr>\n",
       "  </thead>\n",
       "  <tbody>\n",
       "    <tr>\n",
       "      <th>0</th>\n",
       "      <td>0.0</td>\n",
       "      <td>7.69</td>\n",
       "      <td>44</td>\n",
       "      <td>14.000000</td>\n",
       "      <td>1</td>\n",
       "      <td>427.000000</td>\n",
       "      <td>2</td>\n",
       "      <td>1.399189</td>\n",
       "      <td>10152000.0</td>\n",
       "      <td>1</td>\n",
       "      <td>260.0</td>\n",
       "      <td>13</td>\n",
       "      <td>1.0</td>\n",
       "    </tr>\n",
       "    <tr>\n",
       "      <th>1</th>\n",
       "      <td>0.0</td>\n",
       "      <td>9.72</td>\n",
       "      <td>94</td>\n",
       "      <td>8.666667</td>\n",
       "      <td>2</td>\n",
       "      <td>423.000000</td>\n",
       "      <td>18</td>\n",
       "      <td>0.624437</td>\n",
       "      <td>10886400.0</td>\n",
       "      <td>1</td>\n",
       "      <td>1390.0</td>\n",
       "      <td>23</td>\n",
       "      <td>3.0</td>\n",
       "    </tr>\n",
       "    <tr>\n",
       "      <th>2</th>\n",
       "      <td>7.3</td>\n",
       "      <td>5.92</td>\n",
       "      <td>36</td>\n",
       "      <td>7.666667</td>\n",
       "      <td>23</td>\n",
       "      <td>19.521739</td>\n",
       "      <td>7</td>\n",
       "      <td>0.510375</td>\n",
       "      <td>7516800.0</td>\n",
       "      <td>1</td>\n",
       "      <td>929.0</td>\n",
       "      <td>16</td>\n",
       "      <td>2.0</td>\n",
       "    </tr>\n",
       "    <tr>\n",
       "      <th>3</th>\n",
       "      <td>10.8</td>\n",
       "      <td>8.05</td>\n",
       "      <td>11</td>\n",
       "      <td>7.200000</td>\n",
       "      <td>5</td>\n",
       "      <td>12.800000</td>\n",
       "      <td>2</td>\n",
       "      <td>0.442171</td>\n",
       "      <td>2678400.0</td>\n",
       "      <td>1</td>\n",
       "      <td>0.0</td>\n",
       "      <td>2</td>\n",
       "      <td>5.0</td>\n",
       "    </tr>\n",
       "    <tr>\n",
       "      <th>4</th>\n",
       "      <td>0.0</td>\n",
       "      <td>8.09</td>\n",
       "      <td>15</td>\n",
       "      <td>4.400000</td>\n",
       "      <td>1</td>\n",
       "      <td>138.000000</td>\n",
       "      <td>1</td>\n",
       "      <td>1.616074</td>\n",
       "      <td>7603200.0</td>\n",
       "      <td>1</td>\n",
       "      <td>0.0</td>\n",
       "      <td>2</td>\n",
       "      <td>1.0</td>\n",
       "    </tr>\n",
       "  </tbody>\n",
       "</table>\n",
       "</div>"
      ],
      "text/plain": [
       "   smog_index  coleman_liau_index  difficult_words  linsear_write_formula  \\\n",
       "0         0.0                7.69               44              14.000000   \n",
       "1         0.0                9.72               94               8.666667   \n",
       "2         7.3                5.92               36               7.666667   \n",
       "3        10.8                8.05               11               7.200000   \n",
       "4         0.0                8.09               15               4.400000   \n",
       "\n",
       "   sentence_count         wps  pos_no  user_deviation  user_delay  \\\n",
       "0               1  427.000000       2        1.399189  10152000.0   \n",
       "1               2  423.000000      18        0.624437  10886400.0   \n",
       "2              23   19.521739       7        0.510375   7516800.0   \n",
       "3               5   12.800000       2        0.442171   2678400.0   \n",
       "4               1  138.000000       1        1.616074   7603200.0   \n",
       "\n",
       "   no_of_reviews  reviewer_days  lem_sim_length  overall  \n",
       "0              1          260.0              13      1.0  \n",
       "1              1         1390.0              23      3.0  \n",
       "2              1          929.0              16      2.0  \n",
       "3              1            0.0               2      5.0  \n",
       "4              1            0.0               2      1.0  "
      ]
     },
     "execution_count": 271,
     "metadata": {},
     "output_type": "execute_result"
    }
   ],
   "source": [
    "X.head()"
   ]
  },
  {
   "cell_type": "code",
   "execution_count": 272,
   "metadata": {
    "collapsed": true
   },
   "outputs": [],
   "source": [
    "y = review_df['helpfulness_score']\n",
    "\t\n",
    "X_train, X_test, y_train, y_test = train_test_split(X, y, test_size=0.4, random_state=101)"
   ]
  },
  {
   "cell_type": "code",
   "execution_count": 273,
   "metadata": {
    "collapsed": true
   },
   "outputs": [],
   "source": [
    "xgb_reg = xgb.XGBRegressor()"
   ]
  },
  {
   "cell_type": "code",
   "execution_count": 274,
   "metadata": {},
   "outputs": [
    {
     "data": {
      "text/plain": [
       "XGBRegressor(base_score=0.5, booster='gbtree', colsample_bylevel=1,\n",
       "       colsample_bytree=1, gamma=0, learning_rate=0.1, max_delta_step=0,\n",
       "       max_depth=3, min_child_weight=1, missing=None, n_estimators=100,\n",
       "       n_jobs=1, nthread=None, objective='reg:linear', random_state=0,\n",
       "       reg_alpha=0, reg_lambda=1, scale_pos_weight=1, seed=None,\n",
       "       silent=True, subsample=1)"
      ]
     },
     "execution_count": 274,
     "metadata": {},
     "output_type": "execute_result"
    }
   ],
   "source": [
    "xgb_reg.fit(X_train,y_train)"
   ]
  },
  {
   "cell_type": "code",
   "execution_count": 275,
   "metadata": {
    "collapsed": true
   },
   "outputs": [],
   "source": [
    "predictions=xgb_reg.predict(X_test)"
   ]
  },
  {
   "cell_type": "code",
   "execution_count": 276,
   "metadata": {},
   "outputs": [
    {
     "name": "stdout",
     "output_type": "stream",
     "text": [
      "Mean Squared Error (MSE):       0.03740666324834456\n",
      "Root Mean Squared Error (RMSE): 0.19340802270936064\n",
      "Mean Absolute Error (MAE):      0.13326267738249728\n"
     ]
    }
   ],
   "source": [
    "# MSE : Mean Squared Error\n",
    "mse=mean_squared_error(y_test,predictions)\n",
    "\n",
    "# RMSE : Root Mean Squared Error\n",
    "rmse=math.sqrt(mean_squared_error(y_test,predictions))\n",
    "\n",
    "# MAE : Mean Absolute Error\n",
    "mae=mean_absolute_error(y_test,predictions)\n",
    "\n",
    "print('Mean Squared Error (MSE):      ',mse)\n",
    "print('Root Mean Squared Error (RMSE):',rmse)\n",
    "print('Mean Absolute Error (MAE):     ',mae)"
   ]
  },
  {
   "cell_type": "code",
   "execution_count": 277,
   "metadata": {},
   "outputs": [
    {
     "name": "stdout",
     "output_type": "stream",
     "text": [
      "{'learning_rate': 0.01, 'n_estimators': 200, 'subsample': 0.3, 'rmse': 0.20171749953146403, 'mae': 0.1559526248510373}\n",
      "{'learning_rate': 0.01, 'n_estimators': 200, 'subsample': 0.5, 'rmse': 0.2019182641557227, 'mae': 0.15609815593138562}\n",
      "{'learning_rate': 0.01, 'n_estimators': 200, 'subsample': 0.9, 'rmse': 0.2021600676265661, 'mae': 0.15625301169167322}\n",
      "{'learning_rate': 0.01, 'n_estimators': 200, 'subsample': 1, 'rmse': 0.20221236117143457, 'mae': 0.1563045985390589}\n",
      "{'learning_rate': 0.01, 'n_estimators': 300, 'subsample': 0.3, 'rmse': 0.19590809982366242, 'mae': 0.14118442189511274}\n",
      "{'learning_rate': 0.01, 'n_estimators': 300, 'subsample': 0.5, 'rmse': 0.196056843817347, 'mae': 0.14132035025056605}\n",
      "{'learning_rate': 0.01, 'n_estimators': 300, 'subsample': 0.9, 'rmse': 0.19630457507962856, 'mae': 0.14153463879714134}\n",
      "{'learning_rate': 0.01, 'n_estimators': 300, 'subsample': 1, 'rmse': 0.1963364140473708, 'mae': 0.14158779812269956}\n",
      "{'learning_rate': 0.01, 'n_estimators': 400, 'subsample': 0.3, 'rmse': 0.19451788263895053, 'mae': 0.13636049424516578}\n",
      "{'learning_rate': 0.01, 'n_estimators': 400, 'subsample': 0.5, 'rmse': 0.19461320007261898, 'mae': 0.13650232033285714}\n",
      "{'learning_rate': 0.01, 'n_estimators': 400, 'subsample': 0.9, 'rmse': 0.19483073439534004, 'mae': 0.13674779116710944}\n",
      "{'learning_rate': 0.01, 'n_estimators': 400, 'subsample': 1, 'rmse': 0.19491848146258015, 'mae': 0.13685695365654466}\n",
      "{'learning_rate': 0.01, 'n_estimators': 500, 'subsample': 0.3, 'rmse': 0.19397621529231746, 'mae': 0.13452351411409855}\n",
      "{'learning_rate': 0.01, 'n_estimators': 500, 'subsample': 0.5, 'rmse': 0.19401857011250193, 'mae': 0.1346774752566921}\n",
      "{'learning_rate': 0.01, 'n_estimators': 500, 'subsample': 0.9, 'rmse': 0.19419649575704326, 'mae': 0.13494815355671394}\n",
      "{'learning_rate': 0.01, 'n_estimators': 500, 'subsample': 1, 'rmse': 0.1942947569897271, 'mae': 0.1350889571920297}\n",
      "{'learning_rate': 0.09, 'n_estimators': 200, 'subsample': 0.3, 'rmse': 0.193417853382685, 'mae': 0.13283805572799404}\n",
      "{'learning_rate': 0.09, 'n_estimators': 200, 'subsample': 0.5, 'rmse': 0.19303377520444676, 'mae': 0.1327407662032092}\n",
      "{'learning_rate': 0.09, 'n_estimators': 200, 'subsample': 0.9, 'rmse': 0.19268692846740298, 'mae': 0.1325788312121777}\n",
      "{'learning_rate': 0.09, 'n_estimators': 200, 'subsample': 1, 'rmse': 0.19289723203997824, 'mae': 0.13280147170939632}\n",
      "{'learning_rate': 0.09, 'n_estimators': 300, 'subsample': 0.3, 'rmse': 0.19318501371923297, 'mae': 0.13288344872416616}\n",
      "{'learning_rate': 0.09, 'n_estimators': 300, 'subsample': 0.5, 'rmse': 0.19289091397640487, 'mae': 0.13273243462791384}\n",
      "{'learning_rate': 0.09, 'n_estimators': 300, 'subsample': 0.9, 'rmse': 0.19252411961707316, 'mae': 0.13239042957196814}\n",
      "{'learning_rate': 0.09, 'n_estimators': 300, 'subsample': 1, 'rmse': 0.19247633421314375, 'mae': 0.13235415665939965}\n",
      "{'learning_rate': 0.09, 'n_estimators': 400, 'subsample': 0.3, 'rmse': 0.19326390125566162, 'mae': 0.13270432770637317}\n",
      "{'learning_rate': 0.09, 'n_estimators': 400, 'subsample': 0.5, 'rmse': 0.19289775869680442, 'mae': 0.13247892276695958}\n",
      "{'learning_rate': 0.09, 'n_estimators': 400, 'subsample': 0.9, 'rmse': 0.19238426132140946, 'mae': 0.1321799530943447}\n",
      "{'learning_rate': 0.09, 'n_estimators': 400, 'subsample': 1, 'rmse': 0.19239307448561865, 'mae': 0.13222640432424163}\n",
      "{'learning_rate': 0.09, 'n_estimators': 500, 'subsample': 0.3, 'rmse': 0.19336803333844121, 'mae': 0.13260963783257554}\n",
      "{'learning_rate': 0.09, 'n_estimators': 500, 'subsample': 0.5, 'rmse': 0.19294090187780324, 'mae': 0.13235530947263227}\n",
      "{'learning_rate': 0.09, 'n_estimators': 500, 'subsample': 0.9, 'rmse': 0.19235112674585303, 'mae': 0.1321202629181903}\n",
      "{'learning_rate': 0.09, 'n_estimators': 500, 'subsample': 1, 'rmse': 0.19235466663318918, 'mae': 0.13215525734099878}\n",
      "{'learning_rate': 0.1, 'n_estimators': 200, 'subsample': 0.3, 'rmse': 0.19312564220734768, 'mae': 0.13262263274377867}\n",
      "{'learning_rate': 0.1, 'n_estimators': 200, 'subsample': 0.5, 'rmse': 0.19277364908102937, 'mae': 0.13252418457244267}\n",
      "{'learning_rate': 0.1, 'n_estimators': 200, 'subsample': 0.9, 'rmse': 0.19279364750416247, 'mae': 0.13260250202055163}\n",
      "{'learning_rate': 0.1, 'n_estimators': 200, 'subsample': 1, 'rmse': 0.19291776410718967, 'mae': 0.1327473219661155}\n",
      "{'learning_rate': 0.1, 'n_estimators': 300, 'subsample': 0.3, 'rmse': 0.19316165864922943, 'mae': 0.13274885692755087}\n",
      "{'learning_rate': 0.1, 'n_estimators': 300, 'subsample': 0.5, 'rmse': 0.1927002152015459, 'mae': 0.13252928143065035}\n",
      "{'learning_rate': 0.1, 'n_estimators': 300, 'subsample': 0.9, 'rmse': 0.1925455436627403, 'mae': 0.13232256594152797}\n",
      "{'learning_rate': 0.1, 'n_estimators': 300, 'subsample': 1, 'rmse': 0.19266312968313656, 'mae': 0.13244523017489782}\n",
      "{'learning_rate': 0.1, 'n_estimators': 400, 'subsample': 0.3, 'rmse': 0.19316050651923922, 'mae': 0.1325793089982664}\n",
      "{'learning_rate': 0.1, 'n_estimators': 400, 'subsample': 0.5, 'rmse': 0.1928362830299161, 'mae': 0.1323176207181173}\n",
      "{'learning_rate': 0.1, 'n_estimators': 400, 'subsample': 0.9, 'rmse': 0.1924636325932108, 'mae': 0.13215394324508026}\n",
      "{'learning_rate': 0.1, 'n_estimators': 400, 'subsample': 1, 'rmse': 0.19266449740656674, 'mae': 0.13237902540254956}\n",
      "{'learning_rate': 0.1, 'n_estimators': 500, 'subsample': 0.3, 'rmse': 0.1933838017492289, 'mae': 0.13249863885886096}\n",
      "{'learning_rate': 0.1, 'n_estimators': 500, 'subsample': 0.5, 'rmse': 0.19285488594443514, 'mae': 0.13220101607477963}\n",
      "{'learning_rate': 0.1, 'n_estimators': 500, 'subsample': 0.9, 'rmse': 0.19244702242981604, 'mae': 0.13213110410074164}\n",
      "{'learning_rate': 0.1, 'n_estimators': 500, 'subsample': 1, 'rmse': 0.1926734112185432, 'mae': 0.13231267286651607}\n",
      "{'learning_rate': 0.2, 'n_estimators': 200, 'subsample': 0.3, 'rmse': 0.194309081509221, 'mae': 0.13299849079999435}\n",
      "{'learning_rate': 0.2, 'n_estimators': 200, 'subsample': 0.5, 'rmse': 0.1931817886619002, 'mae': 0.13245797594123357}\n",
      "{'learning_rate': 0.2, 'n_estimators': 200, 'subsample': 0.9, 'rmse': 0.19252742630959924, 'mae': 0.13221998824419887}\n",
      "{'learning_rate': 0.2, 'n_estimators': 200, 'subsample': 1, 'rmse': 0.1927179403918059, 'mae': 0.13235857989942146}\n",
      "{'learning_rate': 0.2, 'n_estimators': 300, 'subsample': 0.3, 'rmse': 0.19478338016097618, 'mae': 0.1335204381607028}\n",
      "{'learning_rate': 0.2, 'n_estimators': 300, 'subsample': 0.5, 'rmse': 0.1933177584864187, 'mae': 0.132804066319753}\n",
      "{'learning_rate': 0.2, 'n_estimators': 300, 'subsample': 0.9, 'rmse': 0.1928182122873475, 'mae': 0.13226037975951757}\n",
      "{'learning_rate': 0.2, 'n_estimators': 300, 'subsample': 1, 'rmse': 0.19282750995590905, 'mae': 0.13231658478644398}\n",
      "{'learning_rate': 0.2, 'n_estimators': 400, 'subsample': 0.3, 'rmse': 0.19538957358420633, 'mae': 0.13365245479377225}\n",
      "{'learning_rate': 0.2, 'n_estimators': 400, 'subsample': 0.5, 'rmse': 0.19396257456055022, 'mae': 0.1329335729831072}\n",
      "{'learning_rate': 0.2, 'n_estimators': 400, 'subsample': 0.9, 'rmse': 0.19292975902962345, 'mae': 0.13218562674456852}\n",
      "{'learning_rate': 0.2, 'n_estimators': 400, 'subsample': 1, 'rmse': 0.193065672954025, 'mae': 0.13236555941669448}\n",
      "{'learning_rate': 0.2, 'n_estimators': 500, 'subsample': 0.3, 'rmse': 0.19600782296773409, 'mae': 0.13374794234686396}\n",
      "{'learning_rate': 0.2, 'n_estimators': 500, 'subsample': 0.5, 'rmse': 0.19420589009163486, 'mae': 0.13304029657591537}\n",
      "{'learning_rate': 0.2, 'n_estimators': 500, 'subsample': 0.9, 'rmse': 0.1930311545709206, 'mae': 0.13219486831811433}\n",
      "{'learning_rate': 0.2, 'n_estimators': 500, 'subsample': 1, 'rmse': 0.19316716684891466, 'mae': 0.1323863371624234}\n",
      "{'learning_rate': 0.5, 'n_estimators': 200, 'subsample': 0.3, 'rmse': 0.20127305743901922, 'mae': 0.13688114361529738}\n",
      "{'learning_rate': 0.5, 'n_estimators': 200, 'subsample': 0.5, 'rmse': 0.19803402895731137, 'mae': 0.13514295439427718}\n",
      "{'learning_rate': 0.5, 'n_estimators': 200, 'subsample': 0.9, 'rmse': 0.19527680451672833, 'mae': 0.13356133442036566}\n",
      "{'learning_rate': 0.5, 'n_estimators': 200, 'subsample': 1, 'rmse': 0.1947496385585862, 'mae': 0.13346806844935805}\n",
      "{'learning_rate': 0.5, 'n_estimators': 300, 'subsample': 0.3, 'rmse': 0.20475372724758564, 'mae': 0.13930447819246555}\n",
      "{'learning_rate': 0.5, 'n_estimators': 300, 'subsample': 0.5, 'rmse': 0.19957570446701223, 'mae': 0.13651999346591}\n",
      "{'learning_rate': 0.5, 'n_estimators': 300, 'subsample': 0.9, 'rmse': 0.1965100356582403, 'mae': 0.13440946616940608}\n",
      "{'learning_rate': 0.5, 'n_estimators': 300, 'subsample': 1, 'rmse': 0.19588264878982178, 'mae': 0.1341691116738836}\n",
      "{'learning_rate': 0.5, 'n_estimators': 400, 'subsample': 0.3, 'rmse': 0.20748596324331917, 'mae': 0.1404088137676256}\n",
      "{'learning_rate': 0.5, 'n_estimators': 400, 'subsample': 0.5, 'rmse': 0.2014748355094838, 'mae': 0.1376974424967732}\n",
      "{'learning_rate': 0.5, 'n_estimators': 400, 'subsample': 0.9, 'rmse': 0.1976755570488564, 'mae': 0.13524442418613897}\n",
      "{'learning_rate': 0.5, 'n_estimators': 400, 'subsample': 1, 'rmse': 0.1966721360288147, 'mae': 0.13469655884682644}\n",
      "{'learning_rate': 0.5, 'n_estimators': 500, 'subsample': 0.3, 'rmse': 0.20948320232368595, 'mae': 0.14162660145293868}\n",
      "{'learning_rate': 0.5, 'n_estimators': 500, 'subsample': 0.5, 'rmse': 0.20267749254337586, 'mae': 0.13846300391836042}\n",
      "{'learning_rate': 0.5, 'n_estimators': 500, 'subsample': 0.9, 'rmse': 0.19846149566971472, 'mae': 0.13573903929570139}\n",
      "{'learning_rate': 0.5, 'n_estimators': 500, 'subsample': 1, 'rmse': 0.1974792108568879, 'mae': 0.1352920657160884}\n",
      "{'learning_rate': 0.9, 'n_estimators': 200, 'subsample': 0.3, 'rmse': 0.21868805765811714, 'mae': 0.14408527309472027}\n",
      "{'learning_rate': 0.9, 'n_estimators': 200, 'subsample': 0.5, 'rmse': 0.20779665230515496, 'mae': 0.14005104757440462}\n",
      "{'learning_rate': 0.9, 'n_estimators': 200, 'subsample': 0.9, 'rmse': 0.20065351089809266, 'mae': 0.13691654574244902}\n",
      "{'learning_rate': 0.9, 'n_estimators': 200, 'subsample': 1, 'rmse': 0.1999802618557771, 'mae': 0.13702700610687232}\n",
      "{'learning_rate': 0.9, 'n_estimators': 300, 'subsample': 0.3, 'rmse': 0.22681944222091321, 'mae': 0.14877982044995064}\n",
      "{'learning_rate': 0.9, 'n_estimators': 300, 'subsample': 0.5, 'rmse': 0.2127144907081161, 'mae': 0.14402118633076585}\n",
      "{'learning_rate': 0.9, 'n_estimators': 300, 'subsample': 0.9, 'rmse': 0.2038343988456319, 'mae': 0.1390945283763627}\n",
      "{'learning_rate': 0.9, 'n_estimators': 300, 'subsample': 1, 'rmse': 0.20253209411193981, 'mae': 0.13899812661122068}\n",
      "{'learning_rate': 0.9, 'n_estimators': 400, 'subsample': 0.3, 'rmse': 0.23689276039294102, 'mae': 0.15097466126485984}\n",
      "{'learning_rate': 0.9, 'n_estimators': 400, 'subsample': 0.5, 'rmse': 0.2171919222029803, 'mae': 0.14641149482945848}\n",
      "{'learning_rate': 0.9, 'n_estimators': 400, 'subsample': 0.9, 'rmse': 0.2059652431254962, 'mae': 0.14060296776554707}\n",
      "{'learning_rate': 0.9, 'n_estimators': 400, 'subsample': 1, 'rmse': 0.2047714129845543, 'mae': 0.1404079228956475}\n",
      "{'learning_rate': 0.9, 'n_estimators': 500, 'subsample': 0.3, 'rmse': 0.2442899312297964, 'mae': 0.15515058058279804}\n",
      "{'learning_rate': 0.9, 'n_estimators': 500, 'subsample': 0.5, 'rmse': 0.2216327569093658, 'mae': 0.14950429648598107}\n",
      "{'learning_rate': 0.9, 'n_estimators': 500, 'subsample': 0.9, 'rmse': 0.20822984132445524, 'mae': 0.14249884016863829}\n",
      "{'learning_rate': 0.9, 'n_estimators': 500, 'subsample': 1, 'rmse': 0.2064956303114996, 'mae': 0.14188902291834388}\n"
     ]
    }
   ],
   "source": [
    "best_rmse_6=1000\n",
    "best_mae_6=1000\n",
    "for rate in params['learning_rate'] :\n",
    "    for estimator in params['n_estimators'] :\n",
    "        for subsample in params['subsample'] :\n",
    "            xgb_model = xgb.XGBRegressor(learning_rate= rate, n_estimators = estimator, subsample=subsample)\n",
    "            xgb_model.fit(X_train,y_train)\n",
    "            predictions=xgb_model.predict(X_test)\n",
    "            rmse=math.sqrt(mean_squared_error(y_test,predictions))\n",
    "            mae=mean_absolute_error(y_test,predictions)\n",
    "            \n",
    "            res_dict = {'learning_rate': rate, 'n_estimators': estimator, 'subsample': subsample, 'rmse' : rmse, 'mae' : mae }\n",
    "            result_df.append(res_dict, ignore_index=True)\n",
    "\n",
    "            print(res_dict)\n",
    "            \n",
    "            if(rmse<=best_rmse_6) :\n",
    "                if(mae < best_mae_6) :\n",
    "                    best_rmse_6 = rmse\n",
    "                    best_mae_6 = mae\n",
    "                    best_learning_rate_6 = rate\n",
    "                    best_n_estimators_6 = estimator\n",
    "                    best_subsample_6 = subsample\n",
    "            "
   ]
  },
  {
   "cell_type": "code",
   "execution_count": 278,
   "metadata": {},
   "outputs": [
    {
     "data": {
      "text/plain": [
       "0.1321202629181903"
      ]
     },
     "execution_count": 278,
     "metadata": {},
     "output_type": "execute_result"
    }
   ],
   "source": [
    "best_mae_6"
   ]
  },
  {
   "cell_type": "markdown",
   "metadata": {},
   "source": [
    "### Experiment : Mean Difference of Prediction"
   ]
  },
  {
   "cell_type": "code",
   "execution_count": 534,
   "metadata": {},
   "outputs": [
    {
     "name": "stdout",
     "output_type": "stream",
     "text": [
      "Features:  Index(['flesch_reading_ease', 'smog_index', 'flesch_kincaid_grade',\n",
      "       'coleman_liau_index', 'automated_readability_index',\n",
      "       'dale_chall_readability_score', 'difficult_words',\n",
      "       'linsear_write_formula', 'gunning_fog', 'sentence_count', 'wps',\n",
      "       'review_length', 'pos_no', 'neg_no', 'user_deviation', 'user_delay',\n",
      "       'no_of_reviews', 'reviewer_days', 'stem_sim_length', 'lem_sim_length',\n",
      "       'overall'],\n",
      "      dtype='object')\n",
      "No of Features:  21\n"
     ]
    }
   ],
   "source": [
    "X = text_df[['flesch_reading_ease', \n",
    "       'smog_index', 'flesch_kincaid_grade', 'coleman_liau_index',\n",
    "       'automated_readability_index', 'dale_chall_readability_score',\n",
    "       'difficult_words', 'linsear_write_formula', 'gunning_fog',\n",
    "       'sentence_count', 'wps', 'review_length', 'pos_no', 'neg_no']]\n",
    "\n",
    "X=X.join(user_df[['user_deviation', 'user_delay','no_of_reviews', 'reviewer_days']])\n",
    "\n",
    "X = X.join(meta_df[['stem_sim_length','lem_sim_length','overall']])\n",
    "\n",
    "print(\"Features: \",X.columns)\n",
    "print(\"No of Features: \",len(X.columns))"
   ]
  },
  {
   "cell_type": "code",
   "execution_count": 535,
   "metadata": {},
   "outputs": [
    {
     "data": {
      "text/html": [
       "<div>\n",
       "<style scoped>\n",
       "    .dataframe tbody tr th:only-of-type {\n",
       "        vertical-align: middle;\n",
       "    }\n",
       "\n",
       "    .dataframe tbody tr th {\n",
       "        vertical-align: top;\n",
       "    }\n",
       "\n",
       "    .dataframe thead th {\n",
       "        text-align: right;\n",
       "    }\n",
       "</style>\n",
       "<table border=\"1\" class=\"dataframe\">\n",
       "  <thead>\n",
       "    <tr style=\"text-align: right;\">\n",
       "      <th></th>\n",
       "      <th>flesch_reading_ease</th>\n",
       "      <th>smog_index</th>\n",
       "      <th>flesch_kincaid_grade</th>\n",
       "      <th>coleman_liau_index</th>\n",
       "      <th>automated_readability_index</th>\n",
       "      <th>dale_chall_readability_score</th>\n",
       "      <th>difficult_words</th>\n",
       "      <th>linsear_write_formula</th>\n",
       "      <th>gunning_fog</th>\n",
       "      <th>sentence_count</th>\n",
       "      <th>...</th>\n",
       "      <th>review_length</th>\n",
       "      <th>pos_no</th>\n",
       "      <th>neg_no</th>\n",
       "      <th>user_deviation</th>\n",
       "      <th>user_delay</th>\n",
       "      <th>no_of_reviews</th>\n",
       "      <th>reviewer_days</th>\n",
       "      <th>stem_sim_length</th>\n",
       "      <th>lem_sim_length</th>\n",
       "      <th>overall</th>\n",
       "    </tr>\n",
       "  </thead>\n",
       "  <tbody>\n",
       "    <tr>\n",
       "      <th>0</th>\n",
       "      <td>-336.56</td>\n",
       "      <td>0.0</td>\n",
       "      <td>166.3</td>\n",
       "      <td>7.69</td>\n",
       "      <td>211.1</td>\n",
       "      <td>26.44</td>\n",
       "      <td>44</td>\n",
       "      <td>14.000000</td>\n",
       "      <td>176.92</td>\n",
       "      <td>1</td>\n",
       "      <td>...</td>\n",
       "      <td>427</td>\n",
       "      <td>2</td>\n",
       "      <td>4</td>\n",
       "      <td>1.399189</td>\n",
       "      <td>10152000.0</td>\n",
       "      <td>1</td>\n",
       "      <td>260.0</td>\n",
       "      <td>15</td>\n",
       "      <td>13</td>\n",
       "      <td>1.0</td>\n",
       "    </tr>\n",
       "    <tr>\n",
       "      <th>1</th>\n",
       "      <td>-340.96</td>\n",
       "      <td>0.0</td>\n",
       "      <td>165.9</td>\n",
       "      <td>9.72</td>\n",
       "      <td>210.8</td>\n",
       "      <td>26.37</td>\n",
       "      <td>94</td>\n",
       "      <td>8.666667</td>\n",
       "      <td>175.64</td>\n",
       "      <td>2</td>\n",
       "      <td>...</td>\n",
       "      <td>846</td>\n",
       "      <td>18</td>\n",
       "      <td>8</td>\n",
       "      <td>0.624437</td>\n",
       "      <td>10886400.0</td>\n",
       "      <td>1</td>\n",
       "      <td>1390.0</td>\n",
       "      <td>24</td>\n",
       "      <td>23</td>\n",
       "      <td>3.0</td>\n",
       "    </tr>\n",
       "    <tr>\n",
       "      <th>2</th>\n",
       "      <td>85.52</td>\n",
       "      <td>7.3</td>\n",
       "      <td>6.2</td>\n",
       "      <td>5.92</td>\n",
       "      <td>7.2</td>\n",
       "      <td>5.87</td>\n",
       "      <td>36</td>\n",
       "      <td>7.666667</td>\n",
       "      <td>13.01</td>\n",
       "      <td>23</td>\n",
       "      <td>...</td>\n",
       "      <td>449</td>\n",
       "      <td>7</td>\n",
       "      <td>6</td>\n",
       "      <td>0.510375</td>\n",
       "      <td>7516800.0</td>\n",
       "      <td>1</td>\n",
       "      <td>929.0</td>\n",
       "      <td>17</td>\n",
       "      <td>16</td>\n",
       "      <td>2.0</td>\n",
       "    </tr>\n",
       "    <tr>\n",
       "      <th>3</th>\n",
       "      <td>66.94</td>\n",
       "      <td>10.8</td>\n",
       "      <td>7.1</td>\n",
       "      <td>8.05</td>\n",
       "      <td>6.3</td>\n",
       "      <td>6.99</td>\n",
       "      <td>11</td>\n",
       "      <td>7.200000</td>\n",
       "      <td>14.00</td>\n",
       "      <td>5</td>\n",
       "      <td>...</td>\n",
       "      <td>64</td>\n",
       "      <td>2</td>\n",
       "      <td>0</td>\n",
       "      <td>0.442171</td>\n",
       "      <td>2678400.0</td>\n",
       "      <td>1</td>\n",
       "      <td>0.0</td>\n",
       "      <td>2</td>\n",
       "      <td>2</td>\n",
       "      <td>5.0</td>\n",
       "    </tr>\n",
       "    <tr>\n",
       "      <th>4</th>\n",
       "      <td>-43.22</td>\n",
       "      <td>0.0</td>\n",
       "      <td>53.6</td>\n",
       "      <td>8.09</td>\n",
       "      <td>67.2</td>\n",
       "      <td>12.20</td>\n",
       "      <td>15</td>\n",
       "      <td>4.400000</td>\n",
       "      <td>61.55</td>\n",
       "      <td>1</td>\n",
       "      <td>...</td>\n",
       "      <td>138</td>\n",
       "      <td>1</td>\n",
       "      <td>3</td>\n",
       "      <td>1.616074</td>\n",
       "      <td>7603200.0</td>\n",
       "      <td>1</td>\n",
       "      <td>0.0</td>\n",
       "      <td>2</td>\n",
       "      <td>2</td>\n",
       "      <td>1.0</td>\n",
       "    </tr>\n",
       "  </tbody>\n",
       "</table>\n",
       "<p>5 rows × 21 columns</p>\n",
       "</div>"
      ],
      "text/plain": [
       "   flesch_reading_ease  smog_index  flesch_kincaid_grade  coleman_liau_index  \\\n",
       "0              -336.56         0.0                 166.3                7.69   \n",
       "1              -340.96         0.0                 165.9                9.72   \n",
       "2                85.52         7.3                   6.2                5.92   \n",
       "3                66.94        10.8                   7.1                8.05   \n",
       "4               -43.22         0.0                  53.6                8.09   \n",
       "\n",
       "   automated_readability_index  dale_chall_readability_score  difficult_words  \\\n",
       "0                        211.1                         26.44               44   \n",
       "1                        210.8                         26.37               94   \n",
       "2                          7.2                          5.87               36   \n",
       "3                          6.3                          6.99               11   \n",
       "4                         67.2                         12.20               15   \n",
       "\n",
       "   linsear_write_formula  gunning_fog  sentence_count   ...     review_length  \\\n",
       "0              14.000000       176.92               1   ...               427   \n",
       "1               8.666667       175.64               2   ...               846   \n",
       "2               7.666667        13.01              23   ...               449   \n",
       "3               7.200000        14.00               5   ...                64   \n",
       "4               4.400000        61.55               1   ...               138   \n",
       "\n",
       "   pos_no  neg_no  user_deviation  user_delay  no_of_reviews  reviewer_days  \\\n",
       "0       2       4        1.399189  10152000.0              1          260.0   \n",
       "1      18       8        0.624437  10886400.0              1         1390.0   \n",
       "2       7       6        0.510375   7516800.0              1          929.0   \n",
       "3       2       0        0.442171   2678400.0              1            0.0   \n",
       "4       1       3        1.616074   7603200.0              1            0.0   \n",
       "\n",
       "   stem_sim_length  lem_sim_length  overall  \n",
       "0               15              13      1.0  \n",
       "1               24              23      3.0  \n",
       "2               17              16      2.0  \n",
       "3                2               2      5.0  \n",
       "4                2               2      1.0  \n",
       "\n",
       "[5 rows x 21 columns]"
      ]
     },
     "execution_count": 535,
     "metadata": {},
     "output_type": "execute_result"
    }
   ],
   "source": [
    "X.head()"
   ]
  },
  {
   "cell_type": "code",
   "execution_count": 536,
   "metadata": {
    "collapsed": true
   },
   "outputs": [],
   "source": [
    "y = review_df['helpfulness_score']\n",
    "\t\n",
    "X_train, X_test, y_train, y_test = train_test_split(X, y, test_size=0.4, random_state=101)"
   ]
  },
  {
   "cell_type": "code",
   "execution_count": 537,
   "metadata": {
    "collapsed": true
   },
   "outputs": [],
   "source": [
    "xgb_reg = xgb.XGBRegressor(learning_rate=grid_learning_rate, n_estimators=grid_n_estimators, subsample=grid_subsample)"
   ]
  },
  {
   "cell_type": "code",
   "execution_count": 538,
   "metadata": {},
   "outputs": [
    {
     "ename": "NameError",
     "evalue": "name 'best_learning_rate' is not defined",
     "output_type": "error",
     "traceback": [
      "\u001b[1;31m---------------------------------------------------------------------------\u001b[0m",
      "\u001b[1;31mNameError\u001b[0m                                 Traceback (most recent call last)",
      "\u001b[1;32m<ipython-input-538-4e2f5b53247b>\u001b[0m in \u001b[0;36m<module>\u001b[1;34m()\u001b[0m\n\u001b[1;32m----> 1\u001b[1;33m \u001b[0mprint\u001b[0m\u001b[1;33m(\u001b[0m\u001b[1;34m\"Best Learning Rate : {} , Best No of Estimators : {} , Best Subsample size : {}\"\u001b[0m\u001b[1;33m.\u001b[0m\u001b[0mformat\u001b[0m\u001b[1;33m(\u001b[0m\u001b[0mbest_learning_rate\u001b[0m\u001b[1;33m,\u001b[0m \u001b[0mbest_n_estimators\u001b[0m\u001b[1;33m,\u001b[0m \u001b[0mbest_subsample\u001b[0m\u001b[1;33m)\u001b[0m\u001b[1;33m)\u001b[0m\u001b[1;33m\u001b[0m\u001b[0m\n\u001b[0m",
      "\u001b[1;31mNameError\u001b[0m: name 'best_learning_rate' is not defined"
     ]
    }
   ],
   "source": [
    "print(\"Best Learning Rate : {} , Best No of Estimators : {} , Best Subsample size : {}\".format(best_learning_rate, best_n_estimators, best_subsample))"
   ]
  },
  {
   "cell_type": "code",
   "execution_count": 540,
   "metadata": {},
   "outputs": [
    {
     "data": {
      "text/plain": [
       "XGBRegressor(base_score=0.5, booster='gbtree', colsample_bylevel=1,\n",
       "       colsample_bytree=1, gamma=0, learning_rate=0.09, max_delta_step=0,\n",
       "       max_depth=3, min_child_weight=1, missing=None, n_estimators=500,\n",
       "       n_jobs=1, nthread=None, objective='reg:linear', random_state=0,\n",
       "       reg_alpha=0, reg_lambda=1, scale_pos_weight=1, seed=None,\n",
       "       silent=True, subsample=0.9)"
      ]
     },
     "execution_count": 540,
     "metadata": {},
     "output_type": "execute_result"
    }
   ],
   "source": [
    "xgb_reg.fit(X_train,y_train)"
   ]
  },
  {
   "cell_type": "code",
   "execution_count": 541,
   "metadata": {
    "collapsed": true
   },
   "outputs": [],
   "source": [
    "predictions=xgb_reg.predict(X_test)"
   ]
  },
  {
   "cell_type": "code",
   "execution_count": 542,
   "metadata": {},
   "outputs": [
    {
     "name": "stdout",
     "output_type": "stream",
     "text": [
      "Mean Squared Error (MSE):       0.0368974164299238\n",
      "Root Mean Squared Error (RMSE): 0.1920870022409736\n",
      "Mean Absolute Error (MAE):      0.13192014023385665\n"
     ]
    }
   ],
   "source": [
    "# MSE : Mean Squared Error\n",
    "mse=mean_squared_error(y_test,predictions)\n",
    "\n",
    "# RMSE : Root Mean Squared Error\n",
    "rmse=math.sqrt(mean_squared_error(y_test,predictions))\n",
    "\n",
    "# MAE : Mean Absolute Error\n",
    "mae=mean_absolute_error(y_test,predictions)\n",
    "\n",
    "print('Mean Squared Error (MSE):      ',mse)\n",
    "print('Root Mean Squared Error (RMSE):',rmse)\n",
    "print('Mean Absolute Error (MAE):     ',mae)"
   ]
  },
  {
   "cell_type": "code",
   "execution_count": 543,
   "metadata": {
    "collapsed": true
   },
   "outputs": [],
   "source": [
    "preds_train = xgb_reg.predict(X_train)"
   ]
  },
  {
   "cell_type": "code",
   "execution_count": 544,
   "metadata": {
    "collapsed": true
   },
   "outputs": [],
   "source": [
    "err_train = preds_train-y_train"
   ]
  },
  {
   "cell_type": "code",
   "execution_count": 551,
   "metadata": {},
   "outputs": [
    {
     "name": "stdout",
     "output_type": "stream",
     "text": [
      "-2.7907002463167557e-05\n"
     ]
    }
   ],
   "source": [
    "print(err_train.mean())"
   ]
  },
  {
   "cell_type": "code",
   "execution_count": null,
   "metadata": {
    "collapsed": true
   },
   "outputs": [],
   "source": []
  },
  {
   "cell_type": "code",
   "execution_count": 552,
   "metadata": {
    "collapsed": true
   },
   "outputs": [],
   "source": [
    "preds_train_2 = preds_train - err_train.median()"
   ]
  },
  {
   "cell_type": "code",
   "execution_count": 554,
   "metadata": {
    "collapsed": true
   },
   "outputs": [],
   "source": [
    "err_train_2 =preds_train_2 - y_train"
   ]
  },
  {
   "cell_type": "code",
   "execution_count": 556,
   "metadata": {},
   "outputs": [
    {
     "data": {
      "text/plain": [
       "-0.036126155277778405"
      ]
     },
     "execution_count": 556,
     "metadata": {},
     "output_type": "execute_result"
    }
   ],
   "source": [
    "err_train.median()"
   ]
  },
  {
   "cell_type": "code",
   "execution_count": 562,
   "metadata": {},
   "outputs": [
    {
     "data": {
      "text/plain": [
       "-1.849799324826762e-08"
      ]
     },
     "execution_count": 562,
     "metadata": {},
     "output_type": "execute_result"
    }
   ],
   "source": [
    "err_train_2.median()"
   ]
  },
  {
   "cell_type": "code",
   "execution_count": 564,
   "metadata": {},
   "outputs": [
    {
     "data": {
      "text/plain": [
       "14019    0.072296\n",
       "2513    -0.107392\n",
       "67575   -0.009882\n",
       "27635    0.202600\n",
       "35219    0.019037\n",
       "19071   -0.098061\n",
       "74043   -0.009664\n",
       "32637    0.019351\n",
       "40561    0.114297\n",
       "57269    0.493940\n",
       "8604    -0.217952\n",
       "61705   -0.127001\n",
       "19452   -0.032631\n",
       "31444   -0.008109\n",
       "24728    0.088135\n",
       "32691    0.178584\n",
       "71632    0.300440\n",
       "5637     0.193927\n",
       "50247   -0.289423\n",
       "56123    0.414839\n",
       "38520   -0.096079\n",
       "29493   -0.136129\n",
       "33247   -0.044369\n",
       "73743    0.108189\n",
       "27047   -0.092839\n",
       "73504    0.295462\n",
       "77545    0.042740\n",
       "31348   -0.193481\n",
       "30865   -0.068068\n",
       "56413   -0.100964\n",
       "           ...   \n",
       "21311   -0.101127\n",
       "21459   -0.084898\n",
       "3748     0.514119\n",
       "71919   -0.282299\n",
       "77257   -0.051957\n",
       "74071    0.385073\n",
       "63083   -0.029655\n",
       "20191   -0.047516\n",
       "15436    0.070426\n",
       "28488   -0.268457\n",
       "9772    -0.079731\n",
       "18491    0.314923\n",
       "53619   -0.082498\n",
       "78447   -0.274420\n",
       "63315    0.341613\n",
       "32817   -0.123498\n",
       "19566   -0.030091\n",
       "78556    0.508471\n",
       "71996   -0.156775\n",
       "61173   -0.024932\n",
       "35391   -0.053373\n",
       "22056   -0.022553\n",
       "17357   -0.146627\n",
       "20463   -0.002380\n",
       "77899    0.460892\n",
       "55293   -0.079426\n",
       "49751   -0.068437\n",
       "5695    -0.079956\n",
       "73542    0.023727\n",
       "45919    0.034306\n",
       "Name: helpfulness_score, Length: 48765, dtype: float64"
      ]
     },
     "execution_count": 564,
     "metadata": {},
     "output_type": "execute_result"
    }
   ],
   "source": [
    "err_train"
   ]
  },
  {
   "cell_type": "code",
   "execution_count": 566,
   "metadata": {
    "collapsed": true
   },
   "outputs": [],
   "source": [
    "preds_train_3=pd.Series(preds_train)"
   ]
  },
  {
   "cell_type": "code",
   "execution_count": 567,
   "metadata": {},
   "outputs": [
    {
     "data": {
      "text/plain": [
       "0.8818578124046326"
      ]
     },
     "execution_count": 567,
     "metadata": {},
     "output_type": "execute_result"
    }
   ],
   "source": [
    "preds_train_3[preds_train_3-y_train]"
   ]
  },
  {
   "cell_type": "markdown",
   "metadata": {},
   "source": [
    "#### Now with Test"
   ]
  },
  {
   "cell_type": "code",
   "execution_count": 559,
   "metadata": {
    "collapsed": true
   },
   "outputs": [],
   "source": [
    "preds_2 = predictions - err_train.median()"
   ]
  },
  {
   "cell_type": "code",
   "execution_count": 560,
   "metadata": {},
   "outputs": [
    {
     "name": "stdout",
     "output_type": "stream",
     "text": [
      "Mean Squared Error (MSE):       0.038341095974403896\n",
      "Root Mean Squared Error (RMSE): 0.19580882506772745\n",
      "Mean Absolute Error (MAE):      0.12734134337808103\n"
     ]
    }
   ],
   "source": [
    "# MSE : Mean Squared Error\n",
    "mse=mean_squared_error(y_test,preds_2)\n",
    "\n",
    "# RMSE : Root Mean Squared Error\n",
    "rmse=math.sqrt(mean_squared_error(y_test,preds_2))\n",
    "\n",
    "# MAE : Mean Absolute Error\n",
    "mae=mean_absolute_error(y_test,preds_2)\n",
    "\n",
    "print('Mean Squared Error (MSE):      ',mse)\n",
    "print('Root Mean Squared Error (RMSE):',rmse)\n",
    "print('Mean Absolute Error (MAE):     ',mae)"
   ]
  },
  {
   "cell_type": "code",
   "execution_count": 568,
   "metadata": {
    "collapsed": true
   },
   "outputs": [],
   "source": [
    "new_err_df = pd.DataFrame()"
   ]
  },
  {
   "cell_type": "code",
   "execution_count": 569,
   "metadata": {},
   "outputs": [
    {
     "data": {
      "text/html": [
       "<div>\n",
       "<style scoped>\n",
       "    .dataframe tbody tr th:only-of-type {\n",
       "        vertical-align: middle;\n",
       "    }\n",
       "\n",
       "    .dataframe tbody tr th {\n",
       "        vertical-align: top;\n",
       "    }\n",
       "\n",
       "    .dataframe thead th {\n",
       "        text-align: right;\n",
       "    }\n",
       "</style>\n",
       "<table border=\"1\" class=\"dataframe\">\n",
       "  <thead>\n",
       "    <tr style=\"text-align: right;\">\n",
       "      <th></th>\n",
       "    </tr>\n",
       "  </thead>\n",
       "  <tbody>\n",
       "  </tbody>\n",
       "</table>\n",
       "</div>"
      ],
      "text/plain": [
       "Empty DataFrame\n",
       "Columns: []\n",
       "Index: []"
      ]
     },
     "execution_count": 569,
     "metadata": {},
     "output_type": "execute_result"
    }
   ],
   "source": [
    "new_err_df"
   ]
  },
  {
   "cell_type": "code",
   "execution_count": 570,
   "metadata": {
    "collapsed": true
   },
   "outputs": [],
   "source": [
    "new_err_df['preds_train'] = preds_train"
   ]
  },
  {
   "cell_type": "code",
   "execution_count": 594,
   "metadata": {
    "collapsed": true
   },
   "outputs": [],
   "source": [
    "diff = preds_train - y_train"
   ]
  },
  {
   "cell_type": "code",
   "execution_count": 584,
   "metadata": {
    "collapsed": true
   },
   "outputs": [],
   "source": [
    "new_err_df['y_train'] = y_train_list"
   ]
  },
  {
   "cell_type": "code",
   "execution_count": 583,
   "metadata": {
    "collapsed": true
   },
   "outputs": [],
   "source": [
    "y_train_list=y_train.tolist()"
   ]
  },
  {
   "cell_type": "code",
   "execution_count": 595,
   "metadata": {
    "collapsed": true
   },
   "outputs": [],
   "source": [
    "new_err_df['err_train'] = diff.tolist()"
   ]
  },
  {
   "cell_type": "code",
   "execution_count": 599,
   "metadata": {},
   "outputs": [
    {
     "data": {
      "text/plain": [
       "-0.036126155277778405"
      ]
     },
     "execution_count": 599,
     "metadata": {},
     "output_type": "execute_result"
    }
   ],
   "source": [
    "new_err_df['err_train'].median()"
   ]
  },
  {
   "cell_type": "code",
   "execution_count": 610,
   "metadata": {},
   "outputs": [
    {
     "data": {
      "text/plain": [
       "preds_train    0.883305\n",
       "err_train     -0.030175\n",
       "y_train        0.913480\n",
       "dtype: float64"
      ]
     },
     "execution_count": 610,
     "metadata": {},
     "output_type": "execute_result"
    }
   ],
   "source": [
    "new_err_df[(new_err_df['err_train']<=-0.02) & (new_err_df['err_train'] >= -0.04) ].mean()"
   ]
  },
  {
   "cell_type": "code",
   "execution_count": 607,
   "metadata": {},
   "outputs": [
    {
     "data": {
      "text/plain": [
       "preds_train    48765\n",
       "err_train      48765\n",
       "y_train        48765\n",
       "dtype: int64"
      ]
     },
     "execution_count": 607,
     "metadata": {},
     "output_type": "execute_result"
    }
   ],
   "source": [
    "new_err_df.count()"
   ]
  },
  {
   "cell_type": "code",
   "execution_count": 633,
   "metadata": {
    "collapsed": true
   },
   "outputs": [],
   "source": [
    "def revise_preds(pred) :\n",
    "    if pred >=0.880 and pred <=0.889 :\n",
    "        return pred - err_train.median()\n",
    "    return pred"
   ]
  },
  {
   "cell_type": "code",
   "execution_count": null,
   "metadata": {
    "collapsed": true
   },
   "outputs": [],
   "source": [
    "#####new_err_df['revised_preds'] = new_err_df.apply(lambda row: get_least_error(row['mae-LR'],row['mae-RF'], row['mae-XGB']), axis=1)"
   ]
  },
  {
   "cell_type": "code",
   "execution_count": 613,
   "metadata": {
    "collapsed": true
   },
   "outputs": [],
   "source": [
    "predictions_ser = pd.Series(predictions)"
   ]
  },
  {
   "cell_type": "code",
   "execution_count": 634,
   "metadata": {
    "collapsed": true
   },
   "outputs": [],
   "source": [
    "preds_3 = predictions_ser.apply(revise_preds)"
   ]
  },
  {
   "cell_type": "code",
   "execution_count": 635,
   "metadata": {},
   "outputs": [
    {
     "data": {
      "text/plain": [
       "0    0.939419\n",
       "1    0.915579\n",
       "2    0.932346\n",
       "3    0.871317\n",
       "4    0.870685\n",
       "dtype: float64"
      ]
     },
     "execution_count": 635,
     "metadata": {},
     "output_type": "execute_result"
    }
   ],
   "source": [
    "preds_3.head()"
   ]
  },
  {
   "cell_type": "code",
   "execution_count": 636,
   "metadata": {},
   "outputs": [
    {
     "name": "stdout",
     "output_type": "stream",
     "text": [
      "Mean Squared Error (MSE):       0.03694080933291586\n",
      "Root Mean Squared Error (RMSE): 0.1921999202208884\n",
      "Mean Absolute Error (MAE):      0.13159618640264975\n"
     ]
    }
   ],
   "source": [
    "# MSE : Mean Squared Error\n",
    "mse=mean_squared_error(y_test,preds_3)\n",
    "\n",
    "# RMSE : Root Mean Squared Error\n",
    "rmse=math.sqrt(mean_squared_error(y_test,preds_3))\n",
    "\n",
    "# MAE : Mean Absolute Error\n",
    "mae=mean_absolute_error(y_test,preds_3)\n",
    "\n",
    "print('Mean Squared Error (MSE):      ',mse)\n",
    "print('Root Mean Squared Error (RMSE):',rmse)\n",
    "print('Mean Absolute Error (MAE):     ',mae)"
   ]
  },
  {
   "cell_type": "code",
   "execution_count": 638,
   "metadata": {},
   "outputs": [
    {
     "name": "stdout",
     "output_type": "stream",
     "text": [
      "Help on package xgboost:\n",
      "\n",
      "NAME\n",
      "    xgboost - XGBoost: eXtreme Gradient Boosting library.\n",
      "\n",
      "DESCRIPTION\n",
      "    Contributors: https://github.com/dmlc/xgboost/blob/master/CONTRIBUTORS.md\n",
      "\n",
      "PACKAGE CONTENTS\n",
      "    callback\n",
      "    compat\n",
      "    core\n",
      "    libpath\n",
      "    plotting\n",
      "    rabit\n",
      "    sklearn\n",
      "    training\n",
      "\n",
      "CLASSES\n",
      "    builtins.object\n",
      "        xgboost.core.Booster\n",
      "        xgboost.core.DMatrix\n",
      "    sklearn.base.BaseEstimator(builtins.object)\n",
      "        xgboost.sklearn.XGBModel\n",
      "            xgboost.sklearn.XGBClassifier(xgboost.sklearn.XGBModel, sklearn.base.ClassifierMixin)\n",
      "            xgboost.sklearn.XGBRanker\n",
      "            xgboost.sklearn.XGBRegressor(xgboost.sklearn.XGBModel, sklearn.base.RegressorMixin)\n",
      "    \n",
      "    class Booster(builtins.object)\n",
      "     |  A Booster of XGBoost.\n",
      "     |  \n",
      "     |  Booster is the model of xgboost, that contains low level routines for\n",
      "     |  training, prediction and evaluation.\n",
      "     |  \n",
      "     |  Methods defined here:\n",
      "     |  \n",
      "     |  __copy__(self)\n",
      "     |  \n",
      "     |  __deepcopy__(self, _)\n",
      "     |  \n",
      "     |  __del__(self)\n",
      "     |  \n",
      "     |  __getstate__(self)\n",
      "     |  \n",
      "     |  __init__(self, params=None, cache=(), model_file=None)\n",
      "     |      Parameters\n",
      "     |      ----------\n",
      "     |      params : dict\n",
      "     |          Parameters for boosters.\n",
      "     |      cache : list\n",
      "     |          List of cache items.\n",
      "     |      model_file : string\n",
      "     |          Path to the model file.\n",
      "     |  \n",
      "     |  __setstate__(self, state)\n",
      "     |  \n",
      "     |  attr(self, key)\n",
      "     |      Get attribute string from the Booster.\n",
      "     |      \n",
      "     |      Parameters\n",
      "     |      ----------\n",
      "     |      key : str\n",
      "     |          The key to get attribute from.\n",
      "     |      \n",
      "     |      Returns\n",
      "     |      -------\n",
      "     |      value : str\n",
      "     |          The attribute value of the key, returns None if attribute do not exist.\n",
      "     |  \n",
      "     |  attributes(self)\n",
      "     |      Get attributes stored in the Booster as a dictionary.\n",
      "     |      \n",
      "     |      Returns\n",
      "     |      -------\n",
      "     |      result : dictionary of  attribute_name: attribute_value pairs of strings.\n",
      "     |          Returns an empty dict if there's no attributes.\n",
      "     |  \n",
      "     |  boost(self, dtrain, grad, hess)\n",
      "     |      Boost the booster for one iteration, with customized gradient statistics.\n",
      "     |      \n",
      "     |      Parameters\n",
      "     |      ----------\n",
      "     |      dtrain : DMatrix\n",
      "     |          The training DMatrix.\n",
      "     |      grad : list\n",
      "     |          The first order of gradient.\n",
      "     |      hess : list\n",
      "     |          The second order of gradient.\n",
      "     |  \n",
      "     |  copy(self)\n",
      "     |      Copy the booster object.\n",
      "     |      \n",
      "     |      Returns\n",
      "     |      -------\n",
      "     |      booster: `Booster`\n",
      "     |          a copied booster model\n",
      "     |  \n",
      "     |  dump_model(self, fout, fmap='', with_stats=False, dump_format='text')\n",
      "     |      Dump model into a text or JSON file.\n",
      "     |      \n",
      "     |      Parameters\n",
      "     |      ----------\n",
      "     |      fout : string\n",
      "     |          Output file name.\n",
      "     |      fmap : string, optional\n",
      "     |          Name of the file containing feature map names.\n",
      "     |      with_stats : bool, optional\n",
      "     |          Controls whether the split statistics are output.\n",
      "     |      dump_format : string, optional\n",
      "     |          Format of model dump file. Can be 'text' or 'json'.\n",
      "     |  \n",
      "     |  eval(self, data, name='eval', iteration=0)\n",
      "     |      Evaluate the model on mat.\n",
      "     |      \n",
      "     |      Parameters\n",
      "     |      ----------\n",
      "     |      data : DMatrix\n",
      "     |          The dmatrix storing the input.\n",
      "     |      \n",
      "     |      name : str, optional\n",
      "     |          The name of the dataset.\n",
      "     |      \n",
      "     |      iteration : int, optional\n",
      "     |          The current iteration number.\n",
      "     |      \n",
      "     |      Returns\n",
      "     |      -------\n",
      "     |      result: str\n",
      "     |          Evaluation result string.\n",
      "     |  \n",
      "     |  eval_set(self, evals, iteration=0, feval=None)\n",
      "     |      Evaluate a set of data.\n",
      "     |      \n",
      "     |      Parameters\n",
      "     |      ----------\n",
      "     |      evals : list of tuples (DMatrix, string)\n",
      "     |          List of items to be evaluated.\n",
      "     |      iteration : int\n",
      "     |          Current iteration.\n",
      "     |      feval : function\n",
      "     |          Custom evaluation function.\n",
      "     |      \n",
      "     |      Returns\n",
      "     |      -------\n",
      "     |      result: str\n",
      "     |          Evaluation result string.\n",
      "     |  \n",
      "     |  get_dump(self, fmap='', with_stats=False, dump_format='text')\n",
      "     |      Returns the model dump as a list of strings.\n",
      "     |      \n",
      "     |      Parameters\n",
      "     |      ----------\n",
      "     |      fmap : string, optional\n",
      "     |          Name of the file containing feature map names.\n",
      "     |      with_stats : bool, optional\n",
      "     |          Controls whether the split statistics are output.\n",
      "     |      dump_format : string, optional\n",
      "     |          Format of model dump. Can be 'text' or 'json'.\n",
      "     |  \n",
      "     |  get_fscore(self, fmap='')\n",
      "     |      Get feature importance of each feature.\n",
      "     |      \n",
      "     |      .. note:: Feature importance is defined only for tree boosters\n",
      "     |      \n",
      "     |          Feature importance is only defined when the decision tree model is chosen as base\n",
      "     |          learner (`booster=gbtree`). It is not defined for other base learner types, such\n",
      "     |          as linear learners (`booster=gblinear`).\n",
      "     |      \n",
      "     |      .. note:: Zero-importance features will not be included\n",
      "     |      \n",
      "     |         Keep in mind that this function does not include zero-importance feature, i.e.\n",
      "     |         those features that have not been used in any split conditions.\n",
      "     |      \n",
      "     |      Parameters\n",
      "     |      ----------\n",
      "     |      fmap: str (optional)\n",
      "     |         The name of feature map file\n",
      "     |  \n",
      "     |  get_score(self, fmap='', importance_type='weight')\n",
      "     |      Get feature importance of each feature.\n",
      "     |      Importance type can be defined as:\n",
      "     |      \n",
      "     |      * 'weight': the number of times a feature is used to split the data across all trees.\n",
      "     |      * 'gain': the average gain across all splits the feature is used in.\n",
      "     |      * 'cover': the average coverage across all splits the feature is used in.\n",
      "     |      * 'total_gain': the total gain across all splits the feature is used in.\n",
      "     |      * 'total_cover': the total coverage across all splits the feature is used in.\n",
      "     |      \n",
      "     |      .. note:: Feature importance is defined only for tree boosters\n",
      "     |      \n",
      "     |          Feature importance is only defined when the decision tree model is chosen as base\n",
      "     |          learner (`booster=gbtree`). It is not defined for other base learner types, such\n",
      "     |          as linear learners (`booster=gblinear`).\n",
      "     |      \n",
      "     |      Parameters\n",
      "     |      ----------\n",
      "     |      fmap: str (optional)\n",
      "     |         The name of feature map file.\n",
      "     |      importance_type: str, default 'weight'\n",
      "     |          One of the importance types defined above.\n",
      "     |  \n",
      "     |  get_split_value_histogram(self, feature, fmap='', bins=None, as_pandas=True)\n",
      "     |      Get split value histogram of a feature\n",
      "     |      \n",
      "     |      Parameters\n",
      "     |      ----------\n",
      "     |      feature: str\n",
      "     |          The name of the feature.\n",
      "     |      fmap: str (optional)\n",
      "     |          The name of feature map file.\n",
      "     |      bin: int, default None\n",
      "     |          The maximum number of bins.\n",
      "     |          Number of bins equals number of unique split values n_unique,\n",
      "     |          if bins == None or bins > n_unique.\n",
      "     |      as_pandas: bool, default True\n",
      "     |          Return pd.DataFrame when pandas is installed.\n",
      "     |          If False or pandas is not installed, return numpy ndarray.\n",
      "     |      \n",
      "     |      Returns\n",
      "     |      -------\n",
      "     |      a histogram of used splitting values for the specified feature\n",
      "     |      either as numpy array or pandas DataFrame.\n",
      "     |  \n",
      "     |  load_model(self, fname)\n",
      "     |      Load the model from a file.\n",
      "     |      \n",
      "     |      The model is loaded from an XGBoost internal binary format which is\n",
      "     |      universal among the various XGBoost interfaces. Auxiliary attributes of\n",
      "     |      the Python Booster object (such as feature_names) will not be loaded.\n",
      "     |      To preserve all attributes, pickle the Booster object.\n",
      "     |      \n",
      "     |      Parameters\n",
      "     |      ----------\n",
      "     |      fname : string or a memory buffer\n",
      "     |          Input file name or memory buffer(see also save_raw)\n",
      "     |  \n",
      "     |  load_rabit_checkpoint(self)\n",
      "     |      Initialize the model by load from rabit checkpoint.\n",
      "     |      \n",
      "     |      Returns\n",
      "     |      -------\n",
      "     |      version: integer\n",
      "     |          The version number of the model.\n",
      "     |  \n",
      "     |  predict(self, data, output_margin=False, ntree_limit=0, pred_leaf=False, pred_contribs=False, approx_contribs=False, pred_interactions=False, validate_features=True)\n",
      "     |      Predict with data.\n",
      "     |      \n",
      "     |      .. note:: This function is not thread safe.\n",
      "     |      \n",
      "     |        For each booster object, predict can only be called from one thread.\n",
      "     |        If you want to run prediction using multiple thread, call ``bst.copy()`` to make copies\n",
      "     |        of model object and then call ``predict()``.\n",
      "     |      \n",
      "     |      .. note:: Using ``predict()`` with DART booster\n",
      "     |      \n",
      "     |        If the booster object is DART type, ``predict()`` will perform dropouts, i.e. only\n",
      "     |        some of the trees will be evaluated. This will produce incorrect results if ``data`` is\n",
      "     |        not the training data. To obtain correct results on test sets, set ``ntree_limit`` to\n",
      "     |        a nonzero value, e.g.\n",
      "     |      \n",
      "     |        .. code-block:: python\n",
      "     |      \n",
      "     |          preds = bst.predict(dtest, ntree_limit=num_round)\n",
      "     |      \n",
      "     |      Parameters\n",
      "     |      ----------\n",
      "     |      data : DMatrix\n",
      "     |          The dmatrix storing the input.\n",
      "     |      \n",
      "     |      output_margin : bool\n",
      "     |          Whether to output the raw untransformed margin value.\n",
      "     |      \n",
      "     |      ntree_limit : int\n",
      "     |          Limit number of trees in the prediction; defaults to 0 (use all trees).\n",
      "     |      \n",
      "     |      pred_leaf : bool\n",
      "     |          When this option is on, the output will be a matrix of (nsample, ntrees)\n",
      "     |          with each record indicating the predicted leaf index of each sample in each tree.\n",
      "     |          Note that the leaf index of a tree is unique per tree, so you may find leaf 1\n",
      "     |          in both tree 1 and tree 0.\n",
      "     |      \n",
      "     |      pred_contribs : bool\n",
      "     |          When this is True the output will be a matrix of size (nsample, nfeats + 1)\n",
      "     |          with each record indicating the feature contributions (SHAP values) for that\n",
      "     |          prediction. The sum of all feature contributions is equal to the raw untransformed\n",
      "     |          margin value of the prediction. Note the final column is the bias term.\n",
      "     |      \n",
      "     |      approx_contribs : bool\n",
      "     |          Approximate the contributions of each feature\n",
      "     |      \n",
      "     |      pred_interactions : bool\n",
      "     |          When this is True the output will be a matrix of size (nsample, nfeats + 1, nfeats + 1)\n",
      "     |          indicating the SHAP interaction values for each pair of features. The sum of each\n",
      "     |          row (or column) of the interaction values equals the corresponding SHAP value (from\n",
      "     |          pred_contribs), and the sum of the entire matrix equals the raw untransformed margin\n",
      "     |          value of the prediction. Note the last row and column correspond to the bias term.\n",
      "     |      \n",
      "     |      validate_features : bool\n",
      "     |          When this is True, validate that the Booster's and data's feature_names are identical.\n",
      "     |          Otherwise, it is assumed that the feature_names are the same.\n",
      "     |      \n",
      "     |      Returns\n",
      "     |      -------\n",
      "     |      prediction : numpy array\n",
      "     |  \n",
      "     |  save_model(self, fname)\n",
      "     |      Save the model to a file.\n",
      "     |      \n",
      "     |      The model is saved in an XGBoost internal binary format which is\n",
      "     |      universal among the various XGBoost interfaces. Auxiliary attributes of\n",
      "     |      the Python Booster object (such as feature_names) will not be saved.\n",
      "     |      To preserve all attributes, pickle the Booster object.\n",
      "     |      \n",
      "     |      Parameters\n",
      "     |      ----------\n",
      "     |      fname : string\n",
      "     |          Output file name\n",
      "     |  \n",
      "     |  save_rabit_checkpoint(self)\n",
      "     |      Save the current booster to rabit checkpoint.\n",
      "     |  \n",
      "     |  save_raw(self)\n",
      "     |      Save the model to a in memory buffer representation\n",
      "     |      \n",
      "     |      Returns\n",
      "     |      -------\n",
      "     |      a in memory buffer representation of the model\n",
      "     |  \n",
      "     |  set_attr(self, **kwargs)\n",
      "     |      Set the attribute of the Booster.\n",
      "     |      \n",
      "     |      Parameters\n",
      "     |      ----------\n",
      "     |      **kwargs\n",
      "     |          The attributes to set. Setting a value to None deletes an attribute.\n",
      "     |  \n",
      "     |  set_param(self, params, value=None)\n",
      "     |      Set parameters into the Booster.\n",
      "     |      \n",
      "     |      Parameters\n",
      "     |      ----------\n",
      "     |      params: dict/list/str\n",
      "     |         list of key,value pairs, dict of key to value or simply str key\n",
      "     |      value: optional\n",
      "     |         value of the specified parameter, when params is str key\n",
      "     |  \n",
      "     |  update(self, dtrain, iteration, fobj=None)\n",
      "     |      Update for one iteration, with objective function calculated internally.\n",
      "     |      \n",
      "     |      Parameters\n",
      "     |      ----------\n",
      "     |      dtrain : DMatrix\n",
      "     |          Training data.\n",
      "     |      iteration : int\n",
      "     |          Current iteration number.\n",
      "     |      fobj : function\n",
      "     |          Customized objective function.\n",
      "     |  \n",
      "     |  ----------------------------------------------------------------------\n",
      "     |  Data descriptors defined here:\n",
      "     |  \n",
      "     |  __dict__\n",
      "     |      dictionary for instance variables (if defined)\n",
      "     |  \n",
      "     |  __weakref__\n",
      "     |      list of weak references to the object (if defined)\n",
      "     |  \n",
      "     |  ----------------------------------------------------------------------\n",
      "     |  Data and other attributes defined here:\n",
      "     |  \n",
      "     |  feature_names = None\n",
      "    \n",
      "    class DMatrix(builtins.object)\n",
      "     |  Data Matrix used in XGBoost.\n",
      "     |  \n",
      "     |  DMatrix is a internal data structure that used by XGBoost\n",
      "     |  which is optimized for both memory efficiency and training speed.\n",
      "     |  You can construct DMatrix from numpy.arrays\n",
      "     |  \n",
      "     |  Methods defined here:\n",
      "     |  \n",
      "     |  __del__(self)\n",
      "     |  \n",
      "     |  __init__(self, data, label=None, missing=None, weight=None, silent=False, feature_names=None, feature_types=None, nthread=None)\n",
      "     |      Parameters\n",
      "     |      ----------\n",
      "     |      data : string/numpy array/scipy.sparse/pd.DataFrame/DataTable\n",
      "     |          Data source of DMatrix.\n",
      "     |          When data is string type, it represents the path libsvm format txt file,\n",
      "     |          or binary file that xgboost can read from.\n",
      "     |      label : list or numpy 1-D array, optional\n",
      "     |          Label of the training data.\n",
      "     |      missing : float, optional\n",
      "     |          Value in the data which needs to be present as a missing value. If\n",
      "     |          None, defaults to np.nan.\n",
      "     |      weight : list or numpy 1-D array , optional\n",
      "     |          Weight for each instance.\n",
      "     |      silent : boolean, optional\n",
      "     |          Whether print messages during construction\n",
      "     |      feature_names : list, optional\n",
      "     |          Set names for features.\n",
      "     |      feature_types : list, optional\n",
      "     |          Set types for features.\n",
      "     |      nthread : integer, optional\n",
      "     |          Number of threads to use for loading data from numpy array. If -1,\n",
      "     |          uses maximum threads available on the system.\n",
      "     |  \n",
      "     |  get_base_margin(self)\n",
      "     |      Get the base margin of the DMatrix.\n",
      "     |      \n",
      "     |      Returns\n",
      "     |      -------\n",
      "     |      base_margin : float\n",
      "     |  \n",
      "     |  get_float_info(self, field)\n",
      "     |      Get float property from the DMatrix.\n",
      "     |      \n",
      "     |      Parameters\n",
      "     |      ----------\n",
      "     |      field: str\n",
      "     |          The field name of the information\n",
      "     |      \n",
      "     |      Returns\n",
      "     |      -------\n",
      "     |      info : array\n",
      "     |          a numpy array of float information of the data\n",
      "     |  \n",
      "     |  get_label(self)\n",
      "     |      Get the label of the DMatrix.\n",
      "     |      \n",
      "     |      Returns\n",
      "     |      -------\n",
      "     |      label : array\n",
      "     |  \n",
      "     |  get_uint_info(self, field)\n",
      "     |      Get unsigned integer property from the DMatrix.\n",
      "     |      \n",
      "     |      Parameters\n",
      "     |      ----------\n",
      "     |      field: str\n",
      "     |          The field name of the information\n",
      "     |      \n",
      "     |      Returns\n",
      "     |      -------\n",
      "     |      info : array\n",
      "     |          a numpy array of unsigned integer information of the data\n",
      "     |  \n",
      "     |  get_weight(self)\n",
      "     |      Get the weight of the DMatrix.\n",
      "     |      \n",
      "     |      Returns\n",
      "     |      -------\n",
      "     |      weight : array\n",
      "     |  \n",
      "     |  num_col(self)\n",
      "     |      Get the number of columns (features) in the DMatrix.\n",
      "     |      \n",
      "     |      Returns\n",
      "     |      -------\n",
      "     |      number of columns : int\n",
      "     |  \n",
      "     |  num_row(self)\n",
      "     |      Get the number of rows in the DMatrix.\n",
      "     |      \n",
      "     |      Returns\n",
      "     |      -------\n",
      "     |      number of rows : int\n",
      "     |  \n",
      "     |  save_binary(self, fname, silent=True)\n",
      "     |      Save DMatrix to an XGBoost buffer.\n",
      "     |      \n",
      "     |      Parameters\n",
      "     |      ----------\n",
      "     |      fname : string\n",
      "     |          Name of the output buffer file.\n",
      "     |      silent : bool (optional; default: True)\n",
      "     |          If set, the output is suppressed.\n",
      "     |  \n",
      "     |  set_base_margin(self, margin)\n",
      "     |      Set base margin of booster to start from.\n",
      "     |      \n",
      "     |      This can be used to specify a prediction value of\n",
      "     |      existing model to be base_margin\n",
      "     |      However, remember margin is needed, instead of transformed prediction\n",
      "     |      e.g. for logistic regression: need to put in value before logistic transformation\n",
      "     |      see also example/demo.py\n",
      "     |      \n",
      "     |      Parameters\n",
      "     |      ----------\n",
      "     |      margin: array like\n",
      "     |          Prediction margin of each datapoint\n",
      "     |  \n",
      "     |  set_float_info(self, field, data)\n",
      "     |      Set float type property into the DMatrix.\n",
      "     |      \n",
      "     |      Parameters\n",
      "     |      ----------\n",
      "     |      field: str\n",
      "     |          The field name of the information\n",
      "     |      \n",
      "     |      data: numpy array\n",
      "     |          The array of data to be set\n",
      "     |  \n",
      "     |  set_float_info_npy2d(self, field, data)\n",
      "     |      Set float type property into the DMatrix\n",
      "     |         for numpy 2d array input\n",
      "     |      \n",
      "     |      Parameters\n",
      "     |      ----------\n",
      "     |      field: str\n",
      "     |          The field name of the information\n",
      "     |      \n",
      "     |      data: numpy array\n",
      "     |          The array of data to be set\n",
      "     |  \n",
      "     |  set_group(self, group)\n",
      "     |      Set group size of DMatrix (used for ranking).\n",
      "     |      \n",
      "     |      Parameters\n",
      "     |      ----------\n",
      "     |      group : array like\n",
      "     |          Group size of each group\n",
      "     |  \n",
      "     |  set_label(self, label)\n",
      "     |      Set label of dmatrix\n",
      "     |      \n",
      "     |      Parameters\n",
      "     |      ----------\n",
      "     |      label: array like\n",
      "     |          The label information to be set into DMatrix\n",
      "     |  \n",
      "     |  set_label_npy2d(self, label)\n",
      "     |      Set label of dmatrix\n",
      "     |      \n",
      "     |      Parameters\n",
      "     |      ----------\n",
      "     |      label: array like\n",
      "     |          The label information to be set into DMatrix\n",
      "     |          from numpy 2D array\n",
      "     |  \n",
      "     |  set_uint_info(self, field, data)\n",
      "     |      Set uint type property into the DMatrix.\n",
      "     |      \n",
      "     |      Parameters\n",
      "     |      ----------\n",
      "     |      field: str\n",
      "     |          The field name of the information\n",
      "     |      \n",
      "     |      data: numpy array\n",
      "     |          The array of data to be set\n",
      "     |  \n",
      "     |  set_weight(self, weight)\n",
      "     |      Set weight of each instance.\n",
      "     |      \n",
      "     |      Parameters\n",
      "     |      ----------\n",
      "     |      weight : array like\n",
      "     |          Weight for each data point\n",
      "     |  \n",
      "     |  set_weight_npy2d(self, weight)\n",
      "     |      Set weight of each instance\n",
      "     |          for numpy 2D array\n",
      "     |      \n",
      "     |      Parameters\n",
      "     |      ----------\n",
      "     |      weight : array like\n",
      "     |          Weight for each data point in numpy 2D array\n",
      "     |  \n",
      "     |  slice(self, rindex)\n",
      "     |      Slice the DMatrix and return a new DMatrix that only contains `rindex`.\n",
      "     |      \n",
      "     |      Parameters\n",
      "     |      ----------\n",
      "     |      rindex : list\n",
      "     |          List of indices to be selected.\n",
      "     |      \n",
      "     |      Returns\n",
      "     |      -------\n",
      "     |      res : DMatrix\n",
      "     |          A new DMatrix containing only selected indices.\n",
      "     |  \n",
      "     |  ----------------------------------------------------------------------\n",
      "     |  Data descriptors defined here:\n",
      "     |  \n",
      "     |  __dict__\n",
      "     |      dictionary for instance variables (if defined)\n",
      "     |  \n",
      "     |  __weakref__\n",
      "     |      list of weak references to the object (if defined)\n",
      "     |  \n",
      "     |  feature_names\n",
      "     |      Get feature names (column labels).\n",
      "     |      \n",
      "     |      Returns\n",
      "     |      -------\n",
      "     |      feature_names : list or None\n",
      "     |  \n",
      "     |  feature_types\n",
      "     |      Get feature types (column types).\n",
      "     |      \n",
      "     |      Returns\n",
      "     |      -------\n",
      "     |      feature_types : list or None\n",
      "    \n",
      "    class XGBClassifier(XGBModel, sklearn.base.ClassifierMixin)\n",
      "     |  Implementation of the scikit-learn API for XGBoost classification.\n",
      "     |  \n",
      "     |  Parameters\n",
      "     |  ----------\n",
      "     |  max_depth : int\n",
      "     |      Maximum tree depth for base learners.\n",
      "     |  learning_rate : float\n",
      "     |      Boosting learning rate (xgb's \"eta\")\n",
      "     |  n_estimators : int\n",
      "     |      Number of boosted trees to fit.\n",
      "     |  silent : boolean\n",
      "     |      Whether to print messages while running boosting.\n",
      "     |  objective : string or callable\n",
      "     |      Specify the learning task and the corresponding learning objective or\n",
      "     |      a custom objective function to be used (see note below).\n",
      "     |  booster: string\n",
      "     |      Specify which booster to use: gbtree, gblinear or dart.\n",
      "     |  nthread : int\n",
      "     |      Number of parallel threads used to run xgboost.  (Deprecated, please use ``n_jobs``)\n",
      "     |  n_jobs : int\n",
      "     |      Number of parallel threads used to run xgboost.  (replaces ``nthread``)\n",
      "     |  gamma : float\n",
      "     |      Minimum loss reduction required to make a further partition on a leaf node of the tree.\n",
      "     |  min_child_weight : int\n",
      "     |      Minimum sum of instance weight(hessian) needed in a child.\n",
      "     |  max_delta_step : int\n",
      "     |      Maximum delta step we allow each tree's weight estimation to be.\n",
      "     |  subsample : float\n",
      "     |      Subsample ratio of the training instance.\n",
      "     |  colsample_bytree : float\n",
      "     |      Subsample ratio of columns when constructing each tree.\n",
      "     |  colsample_bylevel : float\n",
      "     |      Subsample ratio of columns for each split, in each level.\n",
      "     |  reg_alpha : float (xgb's alpha)\n",
      "     |      L1 regularization term on weights\n",
      "     |  reg_lambda : float (xgb's lambda)\n",
      "     |      L2 regularization term on weights\n",
      "     |  scale_pos_weight : float\n",
      "     |      Balancing of positive and negative weights.\n",
      "     |  base_score:\n",
      "     |      The initial prediction score of all instances, global bias.\n",
      "     |  seed : int\n",
      "     |      Random number seed.  (Deprecated, please use random_state)\n",
      "     |  random_state : int\n",
      "     |      Random number seed.  (replaces seed)\n",
      "     |  missing : float, optional\n",
      "     |      Value in the data which needs to be present as a missing value. If\n",
      "     |      None, defaults to np.nan.\n",
      "     |  \\*\\*kwargs : dict, optional\n",
      "     |      Keyword arguments for XGBoost Booster object.  Full documentation of parameters can\n",
      "     |      be found here: https://github.com/dmlc/xgboost/blob/master/doc/parameter.rst.\n",
      "     |      Attempting to set a parameter via the constructor args and \\*\\*kwargs dict simultaneously\n",
      "     |      will result in a TypeError.\n",
      "     |  \n",
      "     |      .. note:: \\*\\*kwargs unsupported by scikit-learn\n",
      "     |  \n",
      "     |          \\*\\*kwargs is unsupported by scikit-learn.  We do not guarantee that parameters\n",
      "     |          passed via this argument will interact properly with scikit-learn.\n",
      "     |  \n",
      "     |  Note\n",
      "     |  ----\n",
      "     |  A custom objective function can be provided for the ``objective``\n",
      "     |  parameter. In this case, it should have the signature\n",
      "     |  ``objective(y_true, y_pred) -> grad, hess``:\n",
      "     |  \n",
      "     |  y_true: array_like of shape [n_samples]\n",
      "     |      The target values\n",
      "     |  y_pred: array_like of shape [n_samples]\n",
      "     |      The predicted values\n",
      "     |  \n",
      "     |  grad: array_like of shape [n_samples]\n",
      "     |      The value of the gradient for each sample point.\n",
      "     |  hess: array_like of shape [n_samples]\n",
      "     |      The value of the second derivative for each sample point\n",
      "     |  \n",
      "     |  Method resolution order:\n",
      "     |      XGBClassifier\n",
      "     |      XGBModel\n",
      "     |      sklearn.base.BaseEstimator\n",
      "     |      sklearn.base.ClassifierMixin\n",
      "     |      builtins.object\n",
      "     |  \n",
      "     |  Methods defined here:\n",
      "     |  \n",
      "     |  __init__(self, max_depth=3, learning_rate=0.1, n_estimators=100, silent=True, objective='binary:logistic', booster='gbtree', n_jobs=1, nthread=None, gamma=0, min_child_weight=1, max_delta_step=0, subsample=1, colsample_bytree=1, colsample_bylevel=1, reg_alpha=0, reg_lambda=1, scale_pos_weight=1, base_score=0.5, random_state=0, seed=None, missing=None, **kwargs)\n",
      "     |      Initialize self.  See help(type(self)) for accurate signature.\n",
      "     |  \n",
      "     |  evals_result(self)\n",
      "     |      Return the evaluation results.\n",
      "     |      \n",
      "     |      If **eval_set** is passed to the `fit` function, you can call\n",
      "     |      ``evals_result()`` to get evaluation results for all passed **eval_sets**.\n",
      "     |      When **eval_metric** is also passed to the `fit` function, the\n",
      "     |      **evals_result** will contain the **eval_metrics** passed to the `fit` function.\n",
      "     |      \n",
      "     |      Returns\n",
      "     |      -------\n",
      "     |      evals_result : dictionary\n",
      "     |      \n",
      "     |      Example\n",
      "     |      -------\n",
      "     |      \n",
      "     |      .. code-block:: python\n",
      "     |      \n",
      "     |          param_dist = {'objective':'binary:logistic', 'n_estimators':2}\n",
      "     |      \n",
      "     |          clf = xgb.XGBClassifier(**param_dist)\n",
      "     |      \n",
      "     |          clf.fit(X_train, y_train,\n",
      "     |                  eval_set=[(X_train, y_train), (X_test, y_test)],\n",
      "     |                  eval_metric='logloss',\n",
      "     |                  verbose=True)\n",
      "     |      \n",
      "     |          evals_result = clf.evals_result()\n",
      "     |      \n",
      "     |      The variable **evals_result** will contain\n",
      "     |      \n",
      "     |      .. code-block:: python\n",
      "     |      \n",
      "     |          {'validation_0': {'logloss': ['0.604835', '0.531479']},\n",
      "     |          'validation_1': {'logloss': ['0.41965', '0.17686']}}\n",
      "     |  \n",
      "     |  fit(self, X, y, sample_weight=None, eval_set=None, eval_metric=None, early_stopping_rounds=None, verbose=True, xgb_model=None, sample_weight_eval_set=None, callbacks=None)\n",
      "     |      Fit gradient boosting classifier\n",
      "     |      \n",
      "     |      Parameters\n",
      "     |      ----------\n",
      "     |      X : array_like\n",
      "     |          Feature matrix\n",
      "     |      y : array_like\n",
      "     |          Labels\n",
      "     |      sample_weight : array_like\n",
      "     |          Weight for each instance\n",
      "     |      eval_set : list, optional\n",
      "     |          A list of (X, y) pairs to use as a validation set for\n",
      "     |          early-stopping\n",
      "     |      sample_weight_eval_set : list, optional\n",
      "     |          A list of the form [L_1, L_2, ..., L_n], where each L_i is a list of\n",
      "     |          instance weights on the i-th validation set.\n",
      "     |      eval_metric : str, callable, optional\n",
      "     |          If a str, should be a built-in evaluation metric to use. See\n",
      "     |          doc/parameter.rst. If callable, a custom evaluation metric. The call\n",
      "     |          signature is func(y_predicted, y_true) where y_true will be a\n",
      "     |          DMatrix object such that you may need to call the get_label\n",
      "     |          method. It must return a str, value pair where the str is a name\n",
      "     |          for the evaluation and value is the value of the evaluation\n",
      "     |          function. This objective is always minimized.\n",
      "     |      early_stopping_rounds : int, optional\n",
      "     |          Activates early stopping. Validation error needs to decrease at\n",
      "     |          least every <early_stopping_rounds> round(s) to continue training.\n",
      "     |          Requires at least one item in evals.  If there's more than one,\n",
      "     |          will use the last. Returns the model from the last iteration\n",
      "     |          (not the best one). If early stopping occurs, the model will\n",
      "     |          have three additional fields: bst.best_score, bst.best_iteration\n",
      "     |          and bst.best_ntree_limit.\n",
      "     |          (Use bst.best_ntree_limit to get the correct value if num_parallel_tree\n",
      "     |          and/or num_class appears in the parameters)\n",
      "     |      verbose : bool\n",
      "     |          If `verbose` and an evaluation set is used, writes the evaluation\n",
      "     |          metric measured on the validation set to stderr.\n",
      "     |      xgb_model : str\n",
      "     |          file name of stored xgb model or 'Booster' instance Xgb model to be\n",
      "     |          loaded before training (allows training continuation).\n",
      "     |      callbacks : list of callback functions\n",
      "     |          List of callback functions that are applied at end of each iteration.\n",
      "     |          It is possible to use predefined callbacks by using :ref:`callback_api`.\n",
      "     |          Example:\n",
      "     |      \n",
      "     |          .. code-block:: python\n",
      "     |      \n",
      "     |              [xgb.callback.reset_learning_rate(custom_rates)]\n",
      "     |  \n",
      "     |  predict(self, data, output_margin=False, ntree_limit=None, validate_features=True)\n",
      "     |      Predict with `data`.\n",
      "     |      \n",
      "     |      .. note:: This function is not thread safe.\n",
      "     |      \n",
      "     |        For each booster object, predict can only be called from one thread.\n",
      "     |        If you want to run prediction using multiple thread, call ``xgb.copy()`` to make copies\n",
      "     |        of model object and then call ``predict()``.\n",
      "     |      \n",
      "     |      .. note:: Using ``predict()`` with DART booster\n",
      "     |      \n",
      "     |        If the booster object is DART type, ``predict()`` will perform dropouts, i.e. only\n",
      "     |        some of the trees will be evaluated. This will produce incorrect results if ``data`` is\n",
      "     |        not the training data. To obtain correct results on test sets, set ``ntree_limit`` to\n",
      "     |        a nonzero value, e.g.\n",
      "     |      \n",
      "     |        .. code-block:: python\n",
      "     |      \n",
      "     |          preds = bst.predict(dtest, ntree_limit=num_round)\n",
      "     |      \n",
      "     |      Parameters\n",
      "     |      ----------\n",
      "     |      data : DMatrix\n",
      "     |          The dmatrix storing the input.\n",
      "     |      output_margin : bool\n",
      "     |          Whether to output the raw untransformed margin value.\n",
      "     |      ntree_limit : int\n",
      "     |          Limit number of trees in the prediction; defaults to best_ntree_limit if defined\n",
      "     |          (i.e. it has been trained with early stopping), otherwise 0 (use all trees).\n",
      "     |      validate_features : bool\n",
      "     |          When this is True, validate that the Booster's and data's feature_names are identical.\n",
      "     |          Otherwise, it is assumed that the feature_names are the same.\n",
      "     |      Returns\n",
      "     |      -------\n",
      "     |      prediction : numpy array\n",
      "     |  \n",
      "     |  predict_proba(self, data, ntree_limit=None, validate_features=True)\n",
      "     |      Predict the probability of each `data` example being of a given class.\n",
      "     |      \n",
      "     |      .. note:: This function is not thread safe\n",
      "     |      \n",
      "     |          For each booster object, predict can only be called from one thread.\n",
      "     |          If you want to run prediction using multiple thread, call ``xgb.copy()`` to make copies\n",
      "     |          of model object and then call predict\n",
      "     |      \n",
      "     |      Parameters\n",
      "     |      ----------\n",
      "     |      data : DMatrix\n",
      "     |          The dmatrix storing the input.\n",
      "     |      ntree_limit : int\n",
      "     |          Limit number of trees in the prediction; defaults to best_ntree_limit if defined\n",
      "     |          (i.e. it has been trained with early stopping), otherwise 0 (use all trees).\n",
      "     |      validate_features : bool\n",
      "     |          When this is True, validate that the Booster's and data's feature_names are identical.\n",
      "     |          Otherwise, it is assumed that the feature_names are the same.\n",
      "     |      \n",
      "     |      Returns\n",
      "     |      -------\n",
      "     |      prediction : numpy array\n",
      "     |          a numpy array with the probability of each data example being of a given class.\n",
      "     |  \n",
      "     |  ----------------------------------------------------------------------\n",
      "     |  Methods inherited from XGBModel:\n",
      "     |  \n",
      "     |  __setstate__(self, state)\n",
      "     |  \n",
      "     |  apply(self, X, ntree_limit=0)\n",
      "     |      Return the predicted leaf every tree for each sample.\n",
      "     |      \n",
      "     |      Parameters\n",
      "     |      ----------\n",
      "     |      X : array_like, shape=[n_samples, n_features]\n",
      "     |          Input features matrix.\n",
      "     |      \n",
      "     |      ntree_limit : int\n",
      "     |          Limit number of trees in the prediction; defaults to 0 (use all trees).\n",
      "     |      \n",
      "     |      Returns\n",
      "     |      -------\n",
      "     |      X_leaves : array_like, shape=[n_samples, n_trees]\n",
      "     |          For each datapoint x in X and for each tree, return the index of the\n",
      "     |          leaf x ends up in. Leaves are numbered within\n",
      "     |          ``[0; 2**(self.max_depth+1))``, possibly with gaps in the numbering.\n",
      "     |  \n",
      "     |  get_booster(self)\n",
      "     |      Get the underlying xgboost Booster of this model.\n",
      "     |      \n",
      "     |      This will raise an exception when fit was not called\n",
      "     |      \n",
      "     |      Returns\n",
      "     |      -------\n",
      "     |      booster : a xgboost booster of underlying model\n",
      "     |  \n",
      "     |  get_params(self, deep=False)\n",
      "     |      Get parameters.\n",
      "     |  \n",
      "     |  get_xgb_params(self)\n",
      "     |      Get xgboost type parameters.\n",
      "     |  \n",
      "     |  load_model(self, fname)\n",
      "     |      Load the model from a file.\n",
      "     |      \n",
      "     |      The model is loaded from an XGBoost internal binary format which is\n",
      "     |      universal among the various XGBoost interfaces. Auxiliary attributes of\n",
      "     |      the Python Booster object (such as feature names) will not be loaded.\n",
      "     |      Label encodings (text labels to numeric labels) will be also lost.\n",
      "     |      **If you are using only the Python interface, we recommend pickling the\n",
      "     |      model object for best results.**\n",
      "     |      \n",
      "     |      Parameters\n",
      "     |      ----------\n",
      "     |      fname : string or a memory buffer\n",
      "     |          Input file name or memory buffer(see also save_raw)\n",
      "     |  \n",
      "     |  save_model(self, fname)\n",
      "     |      Save the model to a file.\n",
      "     |      \n",
      "     |      The model is saved in an XGBoost internal binary format which is\n",
      "     |      universal among the various XGBoost interfaces. Auxiliary attributes of\n",
      "     |      the Python Booster object (such as feature names) will not be loaded.\n",
      "     |      Label encodings (text labels to numeric labels) will be also lost.\n",
      "     |      **If you are using only the Python interface, we recommend pickling the\n",
      "     |      model object for best results.**\n",
      "     |      \n",
      "     |      Parameters\n",
      "     |      ----------\n",
      "     |      fname : string\n",
      "     |          Output file name\n",
      "     |  \n",
      "     |  set_params(self, **params)\n",
      "     |      Set the parameters of this estimator.\n",
      "     |      Modification of the sklearn method to allow unknown kwargs. This allows using\n",
      "     |      the full range of xgboost parameters that are not defined as member variables\n",
      "     |      in sklearn grid search.\n",
      "     |      Returns\n",
      "     |      -------\n",
      "     |      self\n",
      "     |  \n",
      "     |  ----------------------------------------------------------------------\n",
      "     |  Data descriptors inherited from XGBModel:\n",
      "     |  \n",
      "     |  coef_\n",
      "     |      Coefficients property\n",
      "     |      \n",
      "     |      .. note:: Coefficients are defined only for linear learners\n",
      "     |      \n",
      "     |          Coefficients are only defined when the linear model is chosen as base\n",
      "     |          learner (`booster=gblinear`). It is not defined for other base learner types, such\n",
      "     |          as tree learners (`booster=gbtree`).\n",
      "     |      \n",
      "     |      Returns\n",
      "     |      -------\n",
      "     |      coef_ : array of shape ``[n_features]``\n",
      "     |  \n",
      "     |  feature_importances_\n",
      "     |      Feature importances property\n",
      "     |      \n",
      "     |      .. note:: Feature importance is defined only for tree boosters\n",
      "     |      \n",
      "     |          Feature importance is only defined when the decision tree model is chosen as base\n",
      "     |          learner (`booster=gbtree`). It is not defined for other base learner types, such\n",
      "     |          as linear learners (`booster=gblinear`).\n",
      "     |      \n",
      "     |      Returns\n",
      "     |      -------\n",
      "     |      feature_importances_ : array of shape ``[n_features]``\n",
      "     |  \n",
      "     |  intercept_\n",
      "     |      Intercept (bias) property\n",
      "     |      \n",
      "     |      .. note:: Intercept is defined only for linear learners\n",
      "     |      \n",
      "     |          Intercept (bias) is only defined when the linear model is chosen as base\n",
      "     |          learner (`booster=gblinear`). It is not defined for other base learner types, such\n",
      "     |          as tree learners (`booster=gbtree`).\n",
      "     |      \n",
      "     |      Returns\n",
      "     |      -------\n",
      "     |      intercept_ : array of shape ``[n_features]``\n",
      "     |  \n",
      "     |  ----------------------------------------------------------------------\n",
      "     |  Methods inherited from sklearn.base.BaseEstimator:\n",
      "     |  \n",
      "     |  __getstate__(self)\n",
      "     |  \n",
      "     |  __repr__(self)\n",
      "     |      Return repr(self).\n",
      "     |  \n",
      "     |  ----------------------------------------------------------------------\n",
      "     |  Data descriptors inherited from sklearn.base.BaseEstimator:\n",
      "     |  \n",
      "     |  __dict__\n",
      "     |      dictionary for instance variables (if defined)\n",
      "     |  \n",
      "     |  __weakref__\n",
      "     |      list of weak references to the object (if defined)\n",
      "     |  \n",
      "     |  ----------------------------------------------------------------------\n",
      "     |  Methods inherited from sklearn.base.ClassifierMixin:\n",
      "     |  \n",
      "     |  score(self, X, y, sample_weight=None)\n",
      "     |      Returns the mean accuracy on the given test data and labels.\n",
      "     |      \n",
      "     |      In multi-label classification, this is the subset accuracy\n",
      "     |      which is a harsh metric since you require for each sample that\n",
      "     |      each label set be correctly predicted.\n",
      "     |      \n",
      "     |      Parameters\n",
      "     |      ----------\n",
      "     |      X : array-like, shape = (n_samples, n_features)\n",
      "     |          Test samples.\n",
      "     |      \n",
      "     |      y : array-like, shape = (n_samples) or (n_samples, n_outputs)\n",
      "     |          True labels for X.\n",
      "     |      \n",
      "     |      sample_weight : array-like, shape = [n_samples], optional\n",
      "     |          Sample weights.\n",
      "     |      \n",
      "     |      Returns\n",
      "     |      -------\n",
      "     |      score : float\n",
      "     |          Mean accuracy of self.predict(X) wrt. y.\n",
      "    \n",
      "    class XGBModel(sklearn.base.BaseEstimator)\n",
      "     |  Implementation of the Scikit-Learn API for XGBoost.\n",
      "     |  \n",
      "     |  Parameters\n",
      "     |  ----------\n",
      "     |  max_depth : int\n",
      "     |      Maximum tree depth for base learners.\n",
      "     |  learning_rate : float\n",
      "     |      Boosting learning rate (xgb's \"eta\")\n",
      "     |  n_estimators : int\n",
      "     |      Number of boosted trees to fit.\n",
      "     |  silent : boolean\n",
      "     |      Whether to print messages while running boosting.\n",
      "     |  objective : string or callable\n",
      "     |      Specify the learning task and the corresponding learning objective or\n",
      "     |      a custom objective function to be used (see note below).\n",
      "     |  booster: string\n",
      "     |      Specify which booster to use: gbtree, gblinear or dart.\n",
      "     |  nthread : int\n",
      "     |      Number of parallel threads used to run xgboost.  (Deprecated, please use ``n_jobs``)\n",
      "     |  n_jobs : int\n",
      "     |      Number of parallel threads used to run xgboost.  (replaces ``nthread``)\n",
      "     |  gamma : float\n",
      "     |      Minimum loss reduction required to make a further partition on a leaf node of the tree.\n",
      "     |  min_child_weight : int\n",
      "     |      Minimum sum of instance weight(hessian) needed in a child.\n",
      "     |  max_delta_step : int\n",
      "     |      Maximum delta step we allow each tree's weight estimation to be.\n",
      "     |  subsample : float\n",
      "     |      Subsample ratio of the training instance.\n",
      "     |  colsample_bytree : float\n",
      "     |      Subsample ratio of columns when constructing each tree.\n",
      "     |  colsample_bylevel : float\n",
      "     |      Subsample ratio of columns for each split, in each level.\n",
      "     |  reg_alpha : float (xgb's alpha)\n",
      "     |      L1 regularization term on weights\n",
      "     |  reg_lambda : float (xgb's lambda)\n",
      "     |      L2 regularization term on weights\n",
      "     |  scale_pos_weight : float\n",
      "     |      Balancing of positive and negative weights.\n",
      "     |  base_score:\n",
      "     |      The initial prediction score of all instances, global bias.\n",
      "     |  seed : int\n",
      "     |      Random number seed.  (Deprecated, please use random_state)\n",
      "     |  random_state : int\n",
      "     |      Random number seed.  (replaces seed)\n",
      "     |  missing : float, optional\n",
      "     |      Value in the data which needs to be present as a missing value. If\n",
      "     |      None, defaults to np.nan.\n",
      "     |  \\*\\*kwargs : dict, optional\n",
      "     |      Keyword arguments for XGBoost Booster object.  Full documentation of parameters can\n",
      "     |      be found here: https://github.com/dmlc/xgboost/blob/master/doc/parameter.rst.\n",
      "     |      Attempting to set a parameter via the constructor args and \\*\\*kwargs dict simultaneously\n",
      "     |      will result in a TypeError.\n",
      "     |  \n",
      "     |      .. note:: \\*\\*kwargs unsupported by scikit-learn\n",
      "     |  \n",
      "     |          \\*\\*kwargs is unsupported by scikit-learn.  We do not guarantee that parameters\n",
      "     |          passed via this argument will interact properly with scikit-learn.\n",
      "     |  \n",
      "     |  Note\n",
      "     |  ----\n",
      "     |  A custom objective function can be provided for the ``objective``\n",
      "     |  parameter. In this case, it should have the signature\n",
      "     |  ``objective(y_true, y_pred) -> grad, hess``:\n",
      "     |  \n",
      "     |  y_true: array_like of shape [n_samples]\n",
      "     |      The target values\n",
      "     |  y_pred: array_like of shape [n_samples]\n",
      "     |      The predicted values\n",
      "     |  \n",
      "     |  grad: array_like of shape [n_samples]\n",
      "     |      The value of the gradient for each sample point.\n",
      "     |  hess: array_like of shape [n_samples]\n",
      "     |      The value of the second derivative for each sample point\n",
      "     |  \n",
      "     |  Method resolution order:\n",
      "     |      XGBModel\n",
      "     |      sklearn.base.BaseEstimator\n",
      "     |      builtins.object\n",
      "     |  \n",
      "     |  Methods defined here:\n",
      "     |  \n",
      "     |  __init__(self, max_depth=3, learning_rate=0.1, n_estimators=100, silent=True, objective='reg:linear', booster='gbtree', n_jobs=1, nthread=None, gamma=0, min_child_weight=1, max_delta_step=0, subsample=1, colsample_bytree=1, colsample_bylevel=1, reg_alpha=0, reg_lambda=1, scale_pos_weight=1, base_score=0.5, random_state=0, seed=None, missing=None, **kwargs)\n",
      "     |      Initialize self.  See help(type(self)) for accurate signature.\n",
      "     |  \n",
      "     |  __setstate__(self, state)\n",
      "     |  \n",
      "     |  apply(self, X, ntree_limit=0)\n",
      "     |      Return the predicted leaf every tree for each sample.\n",
      "     |      \n",
      "     |      Parameters\n",
      "     |      ----------\n",
      "     |      X : array_like, shape=[n_samples, n_features]\n",
      "     |          Input features matrix.\n",
      "     |      \n",
      "     |      ntree_limit : int\n",
      "     |          Limit number of trees in the prediction; defaults to 0 (use all trees).\n",
      "     |      \n",
      "     |      Returns\n",
      "     |      -------\n",
      "     |      X_leaves : array_like, shape=[n_samples, n_trees]\n",
      "     |          For each datapoint x in X and for each tree, return the index of the\n",
      "     |          leaf x ends up in. Leaves are numbered within\n",
      "     |          ``[0; 2**(self.max_depth+1))``, possibly with gaps in the numbering.\n",
      "     |  \n",
      "     |  evals_result(self)\n",
      "     |      Return the evaluation results.\n",
      "     |      \n",
      "     |      If **eval_set** is passed to the `fit` function, you can call\n",
      "     |      ``evals_result()`` to get evaluation results for all passed **eval_sets**.\n",
      "     |      When **eval_metric** is also passed to the `fit` function, the\n",
      "     |      **evals_result** will contain the **eval_metrics** passed to the `fit` function.\n",
      "     |      \n",
      "     |      Returns\n",
      "     |      -------\n",
      "     |      evals_result : dictionary\n",
      "     |      \n",
      "     |      Example\n",
      "     |      -------\n",
      "     |      \n",
      "     |      .. code-block:: python\n",
      "     |      \n",
      "     |          param_dist = {'objective':'binary:logistic', 'n_estimators':2}\n",
      "     |      \n",
      "     |          clf = xgb.XGBModel(**param_dist)\n",
      "     |      \n",
      "     |          clf.fit(X_train, y_train,\n",
      "     |                  eval_set=[(X_train, y_train), (X_test, y_test)],\n",
      "     |                  eval_metric='logloss',\n",
      "     |                  verbose=True)\n",
      "     |      \n",
      "     |          evals_result = clf.evals_result()\n",
      "     |      \n",
      "     |      The variable **evals_result** will contain:\n",
      "     |      \n",
      "     |      .. code-block:: python\n",
      "     |      \n",
      "     |          {'validation_0': {'logloss': ['0.604835', '0.531479']},\n",
      "     |          'validation_1': {'logloss': ['0.41965', '0.17686']}}\n",
      "     |  \n",
      "     |  fit(self, X, y, sample_weight=None, eval_set=None, eval_metric=None, early_stopping_rounds=None, verbose=True, xgb_model=None, sample_weight_eval_set=None, callbacks=None)\n",
      "     |      Fit the gradient boosting model\n",
      "     |      \n",
      "     |      Parameters\n",
      "     |      ----------\n",
      "     |      X : array_like\n",
      "     |          Feature matrix\n",
      "     |      y : array_like\n",
      "     |          Labels\n",
      "     |      sample_weight : array_like\n",
      "     |          instance weights\n",
      "     |      eval_set : list, optional\n",
      "     |          A list of (X, y) tuple pairs to use as a validation set for\n",
      "     |          early-stopping\n",
      "     |      sample_weight_eval_set : list, optional\n",
      "     |          A list of the form [L_1, L_2, ..., L_n], where each L_i is a list of\n",
      "     |          instance weights on the i-th validation set.\n",
      "     |      eval_metric : str, callable, optional\n",
      "     |          If a str, should be a built-in evaluation metric to use. See\n",
      "     |          doc/parameter.rst. If callable, a custom evaluation metric. The call\n",
      "     |          signature is func(y_predicted, y_true) where y_true will be a\n",
      "     |          DMatrix object such that you may need to call the get_label\n",
      "     |          method. It must return a str, value pair where the str is a name\n",
      "     |          for the evaluation and value is the value of the evaluation\n",
      "     |          function. This objective is always minimized.\n",
      "     |      early_stopping_rounds : int\n",
      "     |          Activates early stopping. Validation error needs to decrease at\n",
      "     |          least every <early_stopping_rounds> round(s) to continue training.\n",
      "     |          Requires at least one item in evals.  If there's more than one,\n",
      "     |          will use the last. Returns the model from the last iteration\n",
      "     |          (not the best one). If early stopping occurs, the model will\n",
      "     |          have three additional fields: bst.best_score, bst.best_iteration\n",
      "     |          and bst.best_ntree_limit.\n",
      "     |          (Use bst.best_ntree_limit to get the correct value if num_parallel_tree\n",
      "     |          and/or num_class appears in the parameters)\n",
      "     |      verbose : bool\n",
      "     |          If `verbose` and an evaluation set is used, writes the evaluation\n",
      "     |          metric measured on the validation set to stderr.\n",
      "     |      xgb_model : str\n",
      "     |          file name of stored xgb model or 'Booster' instance Xgb model to be\n",
      "     |          loaded before training (allows training continuation).\n",
      "     |      callbacks : list of callback functions\n",
      "     |          List of callback functions that are applied at end of each iteration.\n",
      "     |          It is possible to use predefined callbacks by using :ref:`callback_api`.\n",
      "     |          Example:\n",
      "     |      \n",
      "     |          .. code-block:: python\n",
      "     |      \n",
      "     |              [xgb.callback.reset_learning_rate(custom_rates)]\n",
      "     |  \n",
      "     |  get_booster(self)\n",
      "     |      Get the underlying xgboost Booster of this model.\n",
      "     |      \n",
      "     |      This will raise an exception when fit was not called\n",
      "     |      \n",
      "     |      Returns\n",
      "     |      -------\n",
      "     |      booster : a xgboost booster of underlying model\n",
      "     |  \n",
      "     |  get_params(self, deep=False)\n",
      "     |      Get parameters.\n",
      "     |  \n",
      "     |  get_xgb_params(self)\n",
      "     |      Get xgboost type parameters.\n",
      "     |  \n",
      "     |  load_model(self, fname)\n",
      "     |      Load the model from a file.\n",
      "     |      \n",
      "     |      The model is loaded from an XGBoost internal binary format which is\n",
      "     |      universal among the various XGBoost interfaces. Auxiliary attributes of\n",
      "     |      the Python Booster object (such as feature names) will not be loaded.\n",
      "     |      Label encodings (text labels to numeric labels) will be also lost.\n",
      "     |      **If you are using only the Python interface, we recommend pickling the\n",
      "     |      model object for best results.**\n",
      "     |      \n",
      "     |      Parameters\n",
      "     |      ----------\n",
      "     |      fname : string or a memory buffer\n",
      "     |          Input file name or memory buffer(see also save_raw)\n",
      "     |  \n",
      "     |  predict(self, data, output_margin=False, ntree_limit=None, validate_features=True)\n",
      "     |      Predict with `data`.\n",
      "     |      \n",
      "     |      .. note:: This function is not thread safe.\n",
      "     |      \n",
      "     |        For each booster object, predict can only be called from one thread.\n",
      "     |        If you want to run prediction using multiple thread, call ``xgb.copy()`` to make copies\n",
      "     |        of model object and then call ``predict()``.\n",
      "     |      \n",
      "     |      .. note:: Using ``predict()`` with DART booster\n",
      "     |      \n",
      "     |        If the booster object is DART type, ``predict()`` will perform dropouts, i.e. only\n",
      "     |        some of the trees will be evaluated. This will produce incorrect results if ``data`` is\n",
      "     |        not the training data. To obtain correct results on test sets, set ``ntree_limit`` to\n",
      "     |        a nonzero value, e.g.\n",
      "     |      \n",
      "     |        .. code-block:: python\n",
      "     |      \n",
      "     |          preds = bst.predict(dtest, ntree_limit=num_round)\n",
      "     |      \n",
      "     |      Parameters\n",
      "     |      ----------\n",
      "     |      data : DMatrix\n",
      "     |          The dmatrix storing the input.\n",
      "     |      output_margin : bool\n",
      "     |          Whether to output the raw untransformed margin value.\n",
      "     |      ntree_limit : int\n",
      "     |          Limit number of trees in the prediction; defaults to best_ntree_limit if defined\n",
      "     |          (i.e. it has been trained with early stopping), otherwise 0 (use all trees).\n",
      "     |      validate_features : bool\n",
      "     |          When this is True, validate that the Booster's and data's feature_names are identical.\n",
      "     |          Otherwise, it is assumed that the feature_names are the same.\n",
      "     |      Returns\n",
      "     |      -------\n",
      "     |      prediction : numpy array\n",
      "     |  \n",
      "     |  save_model(self, fname)\n",
      "     |      Save the model to a file.\n",
      "     |      \n",
      "     |      The model is saved in an XGBoost internal binary format which is\n",
      "     |      universal among the various XGBoost interfaces. Auxiliary attributes of\n",
      "     |      the Python Booster object (such as feature names) will not be loaded.\n",
      "     |      Label encodings (text labels to numeric labels) will be also lost.\n",
      "     |      **If you are using only the Python interface, we recommend pickling the\n",
      "     |      model object for best results.**\n",
      "     |      \n",
      "     |      Parameters\n",
      "     |      ----------\n",
      "     |      fname : string\n",
      "     |          Output file name\n",
      "     |  \n",
      "     |  set_params(self, **params)\n",
      "     |      Set the parameters of this estimator.\n",
      "     |      Modification of the sklearn method to allow unknown kwargs. This allows using\n",
      "     |      the full range of xgboost parameters that are not defined as member variables\n",
      "     |      in sklearn grid search.\n",
      "     |      Returns\n",
      "     |      -------\n",
      "     |      self\n",
      "     |  \n",
      "     |  ----------------------------------------------------------------------\n",
      "     |  Data descriptors defined here:\n",
      "     |  \n",
      "     |  coef_\n",
      "     |      Coefficients property\n",
      "     |      \n",
      "     |      .. note:: Coefficients are defined only for linear learners\n",
      "     |      \n",
      "     |          Coefficients are only defined when the linear model is chosen as base\n",
      "     |          learner (`booster=gblinear`). It is not defined for other base learner types, such\n",
      "     |          as tree learners (`booster=gbtree`).\n",
      "     |      \n",
      "     |      Returns\n",
      "     |      -------\n",
      "     |      coef_ : array of shape ``[n_features]``\n",
      "     |  \n",
      "     |  feature_importances_\n",
      "     |      Feature importances property\n",
      "     |      \n",
      "     |      .. note:: Feature importance is defined only for tree boosters\n",
      "     |      \n",
      "     |          Feature importance is only defined when the decision tree model is chosen as base\n",
      "     |          learner (`booster=gbtree`). It is not defined for other base learner types, such\n",
      "     |          as linear learners (`booster=gblinear`).\n",
      "     |      \n",
      "     |      Returns\n",
      "     |      -------\n",
      "     |      feature_importances_ : array of shape ``[n_features]``\n",
      "     |  \n",
      "     |  intercept_\n",
      "     |      Intercept (bias) property\n",
      "     |      \n",
      "     |      .. note:: Intercept is defined only for linear learners\n",
      "     |      \n",
      "     |          Intercept (bias) is only defined when the linear model is chosen as base\n",
      "     |          learner (`booster=gblinear`). It is not defined for other base learner types, such\n",
      "     |          as tree learners (`booster=gbtree`).\n",
      "     |      \n",
      "     |      Returns\n",
      "     |      -------\n",
      "     |      intercept_ : array of shape ``[n_features]``\n",
      "     |  \n",
      "     |  ----------------------------------------------------------------------\n",
      "     |  Methods inherited from sklearn.base.BaseEstimator:\n",
      "     |  \n",
      "     |  __getstate__(self)\n",
      "     |  \n",
      "     |  __repr__(self)\n",
      "     |      Return repr(self).\n",
      "     |  \n",
      "     |  ----------------------------------------------------------------------\n",
      "     |  Data descriptors inherited from sklearn.base.BaseEstimator:\n",
      "     |  \n",
      "     |  __dict__\n",
      "     |      dictionary for instance variables (if defined)\n",
      "     |  \n",
      "     |  __weakref__\n",
      "     |      list of weak references to the object (if defined)\n",
      "    \n",
      "    class XGBRanker(XGBModel)\n",
      "     |  Implementation of the Scikit-Learn API for XGBoost Ranking.\n",
      "     |  \n",
      "     |  Parameters\n",
      "     |  ----------\n",
      "     |  max_depth : int\n",
      "     |      Maximum tree depth for base learners.\n",
      "     |  learning_rate : float\n",
      "     |      Boosting learning rate (xgb's \"eta\")\n",
      "     |  n_estimators : int\n",
      "     |      Number of boosted trees to fit.\n",
      "     |  silent : boolean\n",
      "     |      Whether to print messages while running boosting.\n",
      "     |  objective : string\n",
      "     |      Specify the learning task and the corresponding learning objective.\n",
      "     |      Only \"rank:pairwise\" is supported currently.\n",
      "     |  booster: string\n",
      "     |      Specify which booster to use: gbtree, gblinear or dart.\n",
      "     |  nthread : int\n",
      "     |      Number of parallel threads used to run xgboost.  (Deprecated, please use ``n_jobs``)\n",
      "     |  n_jobs : int\n",
      "     |      Number of parallel threads used to run xgboost.  (replaces ``nthread``)\n",
      "     |  gamma : float\n",
      "     |      Minimum loss reduction required to make a further partition on a leaf node of the tree.\n",
      "     |  min_child_weight : int\n",
      "     |      Minimum sum of instance weight(hessian) needed in a child.\n",
      "     |  max_delta_step : int\n",
      "     |      Maximum delta step we allow each tree's weight estimation to be.\n",
      "     |  subsample : float\n",
      "     |      Subsample ratio of the training instance.\n",
      "     |  colsample_bytree : float\n",
      "     |      Subsample ratio of columns when constructing each tree.\n",
      "     |  colsample_bylevel : float\n",
      "     |      Subsample ratio of columns for each split, in each level.\n",
      "     |  reg_alpha : float (xgb's alpha)\n",
      "     |      L1 regularization term on weights\n",
      "     |  reg_lambda : float (xgb's lambda)\n",
      "     |      L2 regularization term on weights\n",
      "     |  scale_pos_weight : float\n",
      "     |      Balancing of positive and negative weights.\n",
      "     |  base_score:\n",
      "     |      The initial prediction score of all instances, global bias.\n",
      "     |  seed : int\n",
      "     |      Random number seed.  (Deprecated, please use random_state)\n",
      "     |  random_state : int\n",
      "     |      Random number seed.  (replaces seed)\n",
      "     |  missing : float, optional\n",
      "     |      Value in the data which needs to be present as a missing value. If\n",
      "     |      None, defaults to np.nan.\n",
      "     |  \\*\\*kwargs : dict, optional\n",
      "     |      Keyword arguments for XGBoost Booster object.  Full documentation of parameters can\n",
      "     |      be found here: https://github.com/dmlc/xgboost/blob/master/doc/parameter.rst.\n",
      "     |      Attempting to set a parameter via the constructor args and \\*\\*kwargs dict\n",
      "     |      simultaneously will result in a TypeError.\n",
      "     |  \n",
      "     |      .. note:: \\*\\*kwargs unsupported by scikit-learn\n",
      "     |  \n",
      "     |          \\*\\*kwargs is unsupported by scikit-learn.  We do not guarantee that parameters\n",
      "     |          passed via this argument will interact properly with scikit-learn.\n",
      "     |  \n",
      "     |  Note\n",
      "     |  ----\n",
      "     |  A custom objective function is currently not supported by XGBRanker.\n",
      "     |  \n",
      "     |  Note\n",
      "     |  ----\n",
      "     |  Group information is required for ranking tasks.\n",
      "     |  \n",
      "     |  Before fitting the model, your data need to be sorted by group. When\n",
      "     |  fitting the model, you need to provide an additional array that\n",
      "     |  contains the size of each group.\n",
      "     |  \n",
      "     |  For example, if your original data look like:\n",
      "     |  \n",
      "     |  +-------+-----------+---------------+\n",
      "     |  |   qid |   label   |   features    |\n",
      "     |  +-------+-----------+---------------+\n",
      "     |  |   1   |   0       |   x_1         |\n",
      "     |  +-------+-----------+---------------+\n",
      "     |  |   1   |   1       |   x_2         |\n",
      "     |  +-------+-----------+---------------+\n",
      "     |  |   1   |   0       |   x_3         |\n",
      "     |  +-------+-----------+---------------+\n",
      "     |  |   2   |   0       |   x_4         |\n",
      "     |  +-------+-----------+---------------+\n",
      "     |  |   2   |   1       |   x_5         |\n",
      "     |  +-------+-----------+---------------+\n",
      "     |  |   2   |   1       |   x_6         |\n",
      "     |  +-------+-----------+---------------+\n",
      "     |  |   2   |   1       |   x_7         |\n",
      "     |  +-------+-----------+---------------+\n",
      "     |  \n",
      "     |  then your group array should be ``[3, 4]``.\n",
      "     |  \n",
      "     |  Method resolution order:\n",
      "     |      XGBRanker\n",
      "     |      XGBModel\n",
      "     |      sklearn.base.BaseEstimator\n",
      "     |      builtins.object\n",
      "     |  \n",
      "     |  Methods defined here:\n",
      "     |  \n",
      "     |  __init__(self, max_depth=3, learning_rate=0.1, n_estimators=100, silent=True, objective='rank:pairwise', booster='gbtree', n_jobs=-1, nthread=None, gamma=0, min_child_weight=1, max_delta_step=0, subsample=1, colsample_bytree=1, colsample_bylevel=1, reg_alpha=0, reg_lambda=1, scale_pos_weight=1, base_score=0.5, random_state=0, seed=None, missing=None, **kwargs)\n",
      "     |      Initialize self.  See help(type(self)) for accurate signature.\n",
      "     |  \n",
      "     |  fit(self, X, y, group, sample_weight=None, eval_set=None, sample_weight_eval_set=None, eval_group=None, eval_metric=None, early_stopping_rounds=None, verbose=False, xgb_model=None, callbacks=None)\n",
      "     |      Fit the gradient boosting model\n",
      "     |      \n",
      "     |      Parameters\n",
      "     |      ----------\n",
      "     |      X : array_like\n",
      "     |          Feature matrix\n",
      "     |      y : array_like\n",
      "     |          Labels\n",
      "     |      group : array_like\n",
      "     |          group size of training data\n",
      "     |      sample_weight : array_like\n",
      "     |          instance weights\n",
      "     |      eval_set : list, optional\n",
      "     |          A list of (X, y) tuple pairs to use as a validation set for\n",
      "     |          early-stopping\n",
      "     |      sample_weight_eval_set : list, optional\n",
      "     |          A list of the form [L_1, L_2, ..., L_n], where each L_i is a list of\n",
      "     |          instance weights on the i-th validation set.\n",
      "     |      eval_group : list of arrays, optional\n",
      "     |          A list that contains the group size corresponds to each\n",
      "     |          (X, y) pair in eval_set\n",
      "     |      eval_metric : str, callable, optional\n",
      "     |          If a str, should be a built-in evaluation metric to use. See\n",
      "     |          doc/parameter.rst. If callable, a custom evaluation metric. The call\n",
      "     |          signature is func(y_predicted, y_true) where y_true will be a\n",
      "     |          DMatrix object such that you may need to call the get_label\n",
      "     |          method. It must return a str, value pair where the str is a name\n",
      "     |          for the evaluation and value is the value of the evaluation\n",
      "     |          function. This objective is always minimized.\n",
      "     |      early_stopping_rounds : int\n",
      "     |          Activates early stopping. Validation error needs to decrease at\n",
      "     |          least every <early_stopping_rounds> round(s) to continue training.\n",
      "     |          Requires at least one item in evals.  If there's more than one,\n",
      "     |          will use the last. Returns the model from the last iteration\n",
      "     |          (not the best one). If early stopping occurs, the model will\n",
      "     |          have three additional fields: bst.best_score, bst.best_iteration\n",
      "     |          and bst.best_ntree_limit.\n",
      "     |          (Use bst.best_ntree_limit to get the correct value if num_parallel_tree\n",
      "     |          and/or num_class appears in the parameters)\n",
      "     |      verbose : bool\n",
      "     |          If `verbose` and an evaluation set is used, writes the evaluation\n",
      "     |          metric measured on the validation set to stderr.\n",
      "     |      xgb_model : str\n",
      "     |          file name of stored xgb model or 'Booster' instance Xgb model to be\n",
      "     |          loaded before training (allows training continuation).\n",
      "     |      callbacks : list of callback functions\n",
      "     |          List of callback functions that are applied at end of each iteration.\n",
      "     |          It is possible to use predefined callbacks by using :ref:`callback_api`.\n",
      "     |          Example:\n",
      "     |      \n",
      "     |          .. code-block:: python\n",
      "     |      \n",
      "     |              [xgb.callback.reset_learning_rate(custom_rates)]\n",
      "     |  \n",
      "     |  predict(self, data, output_margin=False, ntree_limit=0, validate_features=True)\n",
      "     |      Predict with `data`.\n",
      "     |      \n",
      "     |      .. note:: This function is not thread safe.\n",
      "     |      \n",
      "     |        For each booster object, predict can only be called from one thread.\n",
      "     |        If you want to run prediction using multiple thread, call ``xgb.copy()`` to make copies\n",
      "     |        of model object and then call ``predict()``.\n",
      "     |      \n",
      "     |      .. note:: Using ``predict()`` with DART booster\n",
      "     |      \n",
      "     |        If the booster object is DART type, ``predict()`` will perform dropouts, i.e. only\n",
      "     |        some of the trees will be evaluated. This will produce incorrect results if ``data`` is\n",
      "     |        not the training data. To obtain correct results on test sets, set ``ntree_limit`` to\n",
      "     |        a nonzero value, e.g.\n",
      "     |      \n",
      "     |        .. code-block:: python\n",
      "     |      \n",
      "     |          preds = bst.predict(dtest, ntree_limit=num_round)\n",
      "     |      \n",
      "     |      Parameters\n",
      "     |      ----------\n",
      "     |      data : DMatrix\n",
      "     |          The dmatrix storing the input.\n",
      "     |      output_margin : bool\n",
      "     |          Whether to output the raw untransformed margin value.\n",
      "     |      ntree_limit : int\n",
      "     |          Limit number of trees in the prediction; defaults to best_ntree_limit if defined\n",
      "     |          (i.e. it has been trained with early stopping), otherwise 0 (use all trees).\n",
      "     |      validate_features : bool\n",
      "     |          When this is True, validate that the Booster's and data's feature_names are identical.\n",
      "     |          Otherwise, it is assumed that the feature_names are the same.\n",
      "     |      Returns\n",
      "     |      -------\n",
      "     |      prediction : numpy array\n",
      "     |  \n",
      "     |  ----------------------------------------------------------------------\n",
      "     |  Methods inherited from XGBModel:\n",
      "     |  \n",
      "     |  __setstate__(self, state)\n",
      "     |  \n",
      "     |  apply(self, X, ntree_limit=0)\n",
      "     |      Return the predicted leaf every tree for each sample.\n",
      "     |      \n",
      "     |      Parameters\n",
      "     |      ----------\n",
      "     |      X : array_like, shape=[n_samples, n_features]\n",
      "     |          Input features matrix.\n",
      "     |      \n",
      "     |      ntree_limit : int\n",
      "     |          Limit number of trees in the prediction; defaults to 0 (use all trees).\n",
      "     |      \n",
      "     |      Returns\n",
      "     |      -------\n",
      "     |      X_leaves : array_like, shape=[n_samples, n_trees]\n",
      "     |          For each datapoint x in X and for each tree, return the index of the\n",
      "     |          leaf x ends up in. Leaves are numbered within\n",
      "     |          ``[0; 2**(self.max_depth+1))``, possibly with gaps in the numbering.\n",
      "     |  \n",
      "     |  evals_result(self)\n",
      "     |      Return the evaluation results.\n",
      "     |      \n",
      "     |      If **eval_set** is passed to the `fit` function, you can call\n",
      "     |      ``evals_result()`` to get evaluation results for all passed **eval_sets**.\n",
      "     |      When **eval_metric** is also passed to the `fit` function, the\n",
      "     |      **evals_result** will contain the **eval_metrics** passed to the `fit` function.\n",
      "     |      \n",
      "     |      Returns\n",
      "     |      -------\n",
      "     |      evals_result : dictionary\n",
      "     |      \n",
      "     |      Example\n",
      "     |      -------\n",
      "     |      \n",
      "     |      .. code-block:: python\n",
      "     |      \n",
      "     |          param_dist = {'objective':'binary:logistic', 'n_estimators':2}\n",
      "     |      \n",
      "     |          clf = xgb.XGBModel(**param_dist)\n",
      "     |      \n",
      "     |          clf.fit(X_train, y_train,\n",
      "     |                  eval_set=[(X_train, y_train), (X_test, y_test)],\n",
      "     |                  eval_metric='logloss',\n",
      "     |                  verbose=True)\n",
      "     |      \n",
      "     |          evals_result = clf.evals_result()\n",
      "     |      \n",
      "     |      The variable **evals_result** will contain:\n",
      "     |      \n",
      "     |      .. code-block:: python\n",
      "     |      \n",
      "     |          {'validation_0': {'logloss': ['0.604835', '0.531479']},\n",
      "     |          'validation_1': {'logloss': ['0.41965', '0.17686']}}\n",
      "     |  \n",
      "     |  get_booster(self)\n",
      "     |      Get the underlying xgboost Booster of this model.\n",
      "     |      \n",
      "     |      This will raise an exception when fit was not called\n",
      "     |      \n",
      "     |      Returns\n",
      "     |      -------\n",
      "     |      booster : a xgboost booster of underlying model\n",
      "     |  \n",
      "     |  get_params(self, deep=False)\n",
      "     |      Get parameters.\n",
      "     |  \n",
      "     |  get_xgb_params(self)\n",
      "     |      Get xgboost type parameters.\n",
      "     |  \n",
      "     |  load_model(self, fname)\n",
      "     |      Load the model from a file.\n",
      "     |      \n",
      "     |      The model is loaded from an XGBoost internal binary format which is\n",
      "     |      universal among the various XGBoost interfaces. Auxiliary attributes of\n",
      "     |      the Python Booster object (such as feature names) will not be loaded.\n",
      "     |      Label encodings (text labels to numeric labels) will be also lost.\n",
      "     |      **If you are using only the Python interface, we recommend pickling the\n",
      "     |      model object for best results.**\n",
      "     |      \n",
      "     |      Parameters\n",
      "     |      ----------\n",
      "     |      fname : string or a memory buffer\n",
      "     |          Input file name or memory buffer(see also save_raw)\n",
      "     |  \n",
      "     |  save_model(self, fname)\n",
      "     |      Save the model to a file.\n",
      "     |      \n",
      "     |      The model is saved in an XGBoost internal binary format which is\n",
      "     |      universal among the various XGBoost interfaces. Auxiliary attributes of\n",
      "     |      the Python Booster object (such as feature names) will not be loaded.\n",
      "     |      Label encodings (text labels to numeric labels) will be also lost.\n",
      "     |      **If you are using only the Python interface, we recommend pickling the\n",
      "     |      model object for best results.**\n",
      "     |      \n",
      "     |      Parameters\n",
      "     |      ----------\n",
      "     |      fname : string\n",
      "     |          Output file name\n",
      "     |  \n",
      "     |  set_params(self, **params)\n",
      "     |      Set the parameters of this estimator.\n",
      "     |      Modification of the sklearn method to allow unknown kwargs. This allows using\n",
      "     |      the full range of xgboost parameters that are not defined as member variables\n",
      "     |      in sklearn grid search.\n",
      "     |      Returns\n",
      "     |      -------\n",
      "     |      self\n",
      "     |  \n",
      "     |  ----------------------------------------------------------------------\n",
      "     |  Data descriptors inherited from XGBModel:\n",
      "     |  \n",
      "     |  coef_\n",
      "     |      Coefficients property\n",
      "     |      \n",
      "     |      .. note:: Coefficients are defined only for linear learners\n",
      "     |      \n",
      "     |          Coefficients are only defined when the linear model is chosen as base\n",
      "     |          learner (`booster=gblinear`). It is not defined for other base learner types, such\n",
      "     |          as tree learners (`booster=gbtree`).\n",
      "     |      \n",
      "     |      Returns\n",
      "     |      -------\n",
      "     |      coef_ : array of shape ``[n_features]``\n",
      "     |  \n",
      "     |  feature_importances_\n",
      "     |      Feature importances property\n",
      "     |      \n",
      "     |      .. note:: Feature importance is defined only for tree boosters\n",
      "     |      \n",
      "     |          Feature importance is only defined when the decision tree model is chosen as base\n",
      "     |          learner (`booster=gbtree`). It is not defined for other base learner types, such\n",
      "     |          as linear learners (`booster=gblinear`).\n",
      "     |      \n",
      "     |      Returns\n",
      "     |      -------\n",
      "     |      feature_importances_ : array of shape ``[n_features]``\n",
      "     |  \n",
      "     |  intercept_\n",
      "     |      Intercept (bias) property\n",
      "     |      \n",
      "     |      .. note:: Intercept is defined only for linear learners\n",
      "     |      \n",
      "     |          Intercept (bias) is only defined when the linear model is chosen as base\n",
      "     |          learner (`booster=gblinear`). It is not defined for other base learner types, such\n",
      "     |          as tree learners (`booster=gbtree`).\n",
      "     |      \n",
      "     |      Returns\n",
      "     |      -------\n",
      "     |      intercept_ : array of shape ``[n_features]``\n",
      "     |  \n",
      "     |  ----------------------------------------------------------------------\n",
      "     |  Methods inherited from sklearn.base.BaseEstimator:\n",
      "     |  \n",
      "     |  __getstate__(self)\n",
      "     |  \n",
      "     |  __repr__(self)\n",
      "     |      Return repr(self).\n",
      "     |  \n",
      "     |  ----------------------------------------------------------------------\n",
      "     |  Data descriptors inherited from sklearn.base.BaseEstimator:\n",
      "     |  \n",
      "     |  __dict__\n",
      "     |      dictionary for instance variables (if defined)\n",
      "     |  \n",
      "     |  __weakref__\n",
      "     |      list of weak references to the object (if defined)\n",
      "    \n",
      "    class XGBRegressor(XGBModel, sklearn.base.RegressorMixin)\n",
      "     |  Implementation of the scikit-learn API for XGBoost regression.\n",
      "     |  \n",
      "     |  Parameters\n",
      "     |  ----------\n",
      "     |  max_depth : int\n",
      "     |      Maximum tree depth for base learners.\n",
      "     |  learning_rate : float\n",
      "     |      Boosting learning rate (xgb's \"eta\")\n",
      "     |  n_estimators : int\n",
      "     |      Number of boosted trees to fit.\n",
      "     |  silent : boolean\n",
      "     |      Whether to print messages while running boosting.\n",
      "     |  objective : string or callable\n",
      "     |      Specify the learning task and the corresponding learning objective or\n",
      "     |      a custom objective function to be used (see note below).\n",
      "     |  booster: string\n",
      "     |      Specify which booster to use: gbtree, gblinear or dart.\n",
      "     |  nthread : int\n",
      "     |      Number of parallel threads used to run xgboost.  (Deprecated, please use ``n_jobs``)\n",
      "     |  n_jobs : int\n",
      "     |      Number of parallel threads used to run xgboost.  (replaces ``nthread``)\n",
      "     |  gamma : float\n",
      "     |      Minimum loss reduction required to make a further partition on a leaf node of the tree.\n",
      "     |  min_child_weight : int\n",
      "     |      Minimum sum of instance weight(hessian) needed in a child.\n",
      "     |  max_delta_step : int\n",
      "     |      Maximum delta step we allow each tree's weight estimation to be.\n",
      "     |  subsample : float\n",
      "     |      Subsample ratio of the training instance.\n",
      "     |  colsample_bytree : float\n",
      "     |      Subsample ratio of columns when constructing each tree.\n",
      "     |  colsample_bylevel : float\n",
      "     |      Subsample ratio of columns for each split, in each level.\n",
      "     |  reg_alpha : float (xgb's alpha)\n",
      "     |      L1 regularization term on weights\n",
      "     |  reg_lambda : float (xgb's lambda)\n",
      "     |      L2 regularization term on weights\n",
      "     |  scale_pos_weight : float\n",
      "     |      Balancing of positive and negative weights.\n",
      "     |  base_score:\n",
      "     |      The initial prediction score of all instances, global bias.\n",
      "     |  seed : int\n",
      "     |      Random number seed.  (Deprecated, please use random_state)\n",
      "     |  random_state : int\n",
      "     |      Random number seed.  (replaces seed)\n",
      "     |  missing : float, optional\n",
      "     |      Value in the data which needs to be present as a missing value. If\n",
      "     |      None, defaults to np.nan.\n",
      "     |  \\*\\*kwargs : dict, optional\n",
      "     |      Keyword arguments for XGBoost Booster object.  Full documentation of parameters can\n",
      "     |      be found here: https://github.com/dmlc/xgboost/blob/master/doc/parameter.rst.\n",
      "     |      Attempting to set a parameter via the constructor args and \\*\\*kwargs dict simultaneously\n",
      "     |      will result in a TypeError.\n",
      "     |  \n",
      "     |      .. note:: \\*\\*kwargs unsupported by scikit-learn\n",
      "     |  \n",
      "     |          \\*\\*kwargs is unsupported by scikit-learn.  We do not guarantee that parameters\n",
      "     |          passed via this argument will interact properly with scikit-learn.\n",
      "     |  \n",
      "     |  Note\n",
      "     |  ----\n",
      "     |  A custom objective function can be provided for the ``objective``\n",
      "     |  parameter. In this case, it should have the signature\n",
      "     |  ``objective(y_true, y_pred) -> grad, hess``:\n",
      "     |  \n",
      "     |  y_true: array_like of shape [n_samples]\n",
      "     |      The target values\n",
      "     |  y_pred: array_like of shape [n_samples]\n",
      "     |      The predicted values\n",
      "     |  \n",
      "     |  grad: array_like of shape [n_samples]\n",
      "     |      The value of the gradient for each sample point.\n",
      "     |  hess: array_like of shape [n_samples]\n",
      "     |      The value of the second derivative for each sample point\n",
      "     |  \n",
      "     |  Method resolution order:\n",
      "     |      XGBRegressor\n",
      "     |      XGBModel\n",
      "     |      sklearn.base.BaseEstimator\n",
      "     |      sklearn.base.RegressorMixin\n",
      "     |      builtins.object\n",
      "     |  \n",
      "     |  Methods inherited from XGBModel:\n",
      "     |  \n",
      "     |  __init__(self, max_depth=3, learning_rate=0.1, n_estimators=100, silent=True, objective='reg:linear', booster='gbtree', n_jobs=1, nthread=None, gamma=0, min_child_weight=1, max_delta_step=0, subsample=1, colsample_bytree=1, colsample_bylevel=1, reg_alpha=0, reg_lambda=1, scale_pos_weight=1, base_score=0.5, random_state=0, seed=None, missing=None, **kwargs)\n",
      "     |      Initialize self.  See help(type(self)) for accurate signature.\n",
      "     |  \n",
      "     |  __setstate__(self, state)\n",
      "     |  \n",
      "     |  apply(self, X, ntree_limit=0)\n",
      "     |      Return the predicted leaf every tree for each sample.\n",
      "     |      \n",
      "     |      Parameters\n",
      "     |      ----------\n",
      "     |      X : array_like, shape=[n_samples, n_features]\n",
      "     |          Input features matrix.\n",
      "     |      \n",
      "     |      ntree_limit : int\n",
      "     |          Limit number of trees in the prediction; defaults to 0 (use all trees).\n",
      "     |      \n",
      "     |      Returns\n",
      "     |      -------\n",
      "     |      X_leaves : array_like, shape=[n_samples, n_trees]\n",
      "     |          For each datapoint x in X and for each tree, return the index of the\n",
      "     |          leaf x ends up in. Leaves are numbered within\n",
      "     |          ``[0; 2**(self.max_depth+1))``, possibly with gaps in the numbering.\n",
      "     |  \n",
      "     |  evals_result(self)\n",
      "     |      Return the evaluation results.\n",
      "     |      \n",
      "     |      If **eval_set** is passed to the `fit` function, you can call\n",
      "     |      ``evals_result()`` to get evaluation results for all passed **eval_sets**.\n",
      "     |      When **eval_metric** is also passed to the `fit` function, the\n",
      "     |      **evals_result** will contain the **eval_metrics** passed to the `fit` function.\n",
      "     |      \n",
      "     |      Returns\n",
      "     |      -------\n",
      "     |      evals_result : dictionary\n",
      "     |      \n",
      "     |      Example\n",
      "     |      -------\n",
      "     |      \n",
      "     |      .. code-block:: python\n",
      "     |      \n",
      "     |          param_dist = {'objective':'binary:logistic', 'n_estimators':2}\n",
      "     |      \n",
      "     |          clf = xgb.XGBModel(**param_dist)\n",
      "     |      \n",
      "     |          clf.fit(X_train, y_train,\n",
      "     |                  eval_set=[(X_train, y_train), (X_test, y_test)],\n",
      "     |                  eval_metric='logloss',\n",
      "     |                  verbose=True)\n",
      "     |      \n",
      "     |          evals_result = clf.evals_result()\n",
      "     |      \n",
      "     |      The variable **evals_result** will contain:\n",
      "     |      \n",
      "     |      .. code-block:: python\n",
      "     |      \n",
      "     |          {'validation_0': {'logloss': ['0.604835', '0.531479']},\n",
      "     |          'validation_1': {'logloss': ['0.41965', '0.17686']}}\n",
      "     |  \n",
      "     |  fit(self, X, y, sample_weight=None, eval_set=None, eval_metric=None, early_stopping_rounds=None, verbose=True, xgb_model=None, sample_weight_eval_set=None, callbacks=None)\n",
      "     |      Fit the gradient boosting model\n",
      "     |      \n",
      "     |      Parameters\n",
      "     |      ----------\n",
      "     |      X : array_like\n",
      "     |          Feature matrix\n",
      "     |      y : array_like\n",
      "     |          Labels\n",
      "     |      sample_weight : array_like\n",
      "     |          instance weights\n",
      "     |      eval_set : list, optional\n",
      "     |          A list of (X, y) tuple pairs to use as a validation set for\n",
      "     |          early-stopping\n",
      "     |      sample_weight_eval_set : list, optional\n",
      "     |          A list of the form [L_1, L_2, ..., L_n], where each L_i is a list of\n",
      "     |          instance weights on the i-th validation set.\n",
      "     |      eval_metric : str, callable, optional\n",
      "     |          If a str, should be a built-in evaluation metric to use. See\n",
      "     |          doc/parameter.rst. If callable, a custom evaluation metric. The call\n",
      "     |          signature is func(y_predicted, y_true) where y_true will be a\n",
      "     |          DMatrix object such that you may need to call the get_label\n",
      "     |          method. It must return a str, value pair where the str is a name\n",
      "     |          for the evaluation and value is the value of the evaluation\n",
      "     |          function. This objective is always minimized.\n",
      "     |      early_stopping_rounds : int\n",
      "     |          Activates early stopping. Validation error needs to decrease at\n",
      "     |          least every <early_stopping_rounds> round(s) to continue training.\n",
      "     |          Requires at least one item in evals.  If there's more than one,\n",
      "     |          will use the last. Returns the model from the last iteration\n",
      "     |          (not the best one). If early stopping occurs, the model will\n",
      "     |          have three additional fields: bst.best_score, bst.best_iteration\n",
      "     |          and bst.best_ntree_limit.\n",
      "     |          (Use bst.best_ntree_limit to get the correct value if num_parallel_tree\n",
      "     |          and/or num_class appears in the parameters)\n",
      "     |      verbose : bool\n",
      "     |          If `verbose` and an evaluation set is used, writes the evaluation\n",
      "     |          metric measured on the validation set to stderr.\n",
      "     |      xgb_model : str\n",
      "     |          file name of stored xgb model or 'Booster' instance Xgb model to be\n",
      "     |          loaded before training (allows training continuation).\n",
      "     |      callbacks : list of callback functions\n",
      "     |          List of callback functions that are applied at end of each iteration.\n",
      "     |          It is possible to use predefined callbacks by using :ref:`callback_api`.\n",
      "     |          Example:\n",
      "     |      \n",
      "     |          .. code-block:: python\n",
      "     |      \n",
      "     |              [xgb.callback.reset_learning_rate(custom_rates)]\n",
      "     |  \n",
      "     |  get_booster(self)\n",
      "     |      Get the underlying xgboost Booster of this model.\n",
      "     |      \n",
      "     |      This will raise an exception when fit was not called\n",
      "     |      \n",
      "     |      Returns\n",
      "     |      -------\n",
      "     |      booster : a xgboost booster of underlying model\n",
      "     |  \n",
      "     |  get_params(self, deep=False)\n",
      "     |      Get parameters.\n",
      "     |  \n",
      "     |  get_xgb_params(self)\n",
      "     |      Get xgboost type parameters.\n",
      "     |  \n",
      "     |  load_model(self, fname)\n",
      "     |      Load the model from a file.\n",
      "     |      \n",
      "     |      The model is loaded from an XGBoost internal binary format which is\n",
      "     |      universal among the various XGBoost interfaces. Auxiliary attributes of\n",
      "     |      the Python Booster object (such as feature names) will not be loaded.\n",
      "     |      Label encodings (text labels to numeric labels) will be also lost.\n",
      "     |      **If you are using only the Python interface, we recommend pickling the\n",
      "     |      model object for best results.**\n",
      "     |      \n",
      "     |      Parameters\n",
      "     |      ----------\n",
      "     |      fname : string or a memory buffer\n",
      "     |          Input file name or memory buffer(see also save_raw)\n",
      "     |  \n",
      "     |  predict(self, data, output_margin=False, ntree_limit=None, validate_features=True)\n",
      "     |      Predict with `data`.\n",
      "     |      \n",
      "     |      .. note:: This function is not thread safe.\n",
      "     |      \n",
      "     |        For each booster object, predict can only be called from one thread.\n",
      "     |        If you want to run prediction using multiple thread, call ``xgb.copy()`` to make copies\n",
      "     |        of model object and then call ``predict()``.\n",
      "     |      \n",
      "     |      .. note:: Using ``predict()`` with DART booster\n",
      "     |      \n",
      "     |        If the booster object is DART type, ``predict()`` will perform dropouts, i.e. only\n",
      "     |        some of the trees will be evaluated. This will produce incorrect results if ``data`` is\n",
      "     |        not the training data. To obtain correct results on test sets, set ``ntree_limit`` to\n",
      "     |        a nonzero value, e.g.\n",
      "     |      \n",
      "     |        .. code-block:: python\n",
      "     |      \n",
      "     |          preds = bst.predict(dtest, ntree_limit=num_round)\n",
      "     |      \n",
      "     |      Parameters\n",
      "     |      ----------\n",
      "     |      data : DMatrix\n",
      "     |          The dmatrix storing the input.\n",
      "     |      output_margin : bool\n",
      "     |          Whether to output the raw untransformed margin value.\n",
      "     |      ntree_limit : int\n",
      "     |          Limit number of trees in the prediction; defaults to best_ntree_limit if defined\n",
      "     |          (i.e. it has been trained with early stopping), otherwise 0 (use all trees).\n",
      "     |      validate_features : bool\n",
      "     |          When this is True, validate that the Booster's and data's feature_names are identical.\n",
      "     |          Otherwise, it is assumed that the feature_names are the same.\n",
      "     |      Returns\n",
      "     |      -------\n",
      "     |      prediction : numpy array\n",
      "     |  \n",
      "     |  save_model(self, fname)\n",
      "     |      Save the model to a file.\n",
      "     |      \n",
      "     |      The model is saved in an XGBoost internal binary format which is\n",
      "     |      universal among the various XGBoost interfaces. Auxiliary attributes of\n",
      "     |      the Python Booster object (such as feature names) will not be loaded.\n",
      "     |      Label encodings (text labels to numeric labels) will be also lost.\n",
      "     |      **If you are using only the Python interface, we recommend pickling the\n",
      "     |      model object for best results.**\n",
      "     |      \n",
      "     |      Parameters\n",
      "     |      ----------\n",
      "     |      fname : string\n",
      "     |          Output file name\n",
      "     |  \n",
      "     |  set_params(self, **params)\n",
      "     |      Set the parameters of this estimator.\n",
      "     |      Modification of the sklearn method to allow unknown kwargs. This allows using\n",
      "     |      the full range of xgboost parameters that are not defined as member variables\n",
      "     |      in sklearn grid search.\n",
      "     |      Returns\n",
      "     |      -------\n",
      "     |      self\n",
      "     |  \n",
      "     |  ----------------------------------------------------------------------\n",
      "     |  Data descriptors inherited from XGBModel:\n",
      "     |  \n",
      "     |  coef_\n",
      "     |      Coefficients property\n",
      "     |      \n",
      "     |      .. note:: Coefficients are defined only for linear learners\n",
      "     |      \n",
      "     |          Coefficients are only defined when the linear model is chosen as base\n",
      "     |          learner (`booster=gblinear`). It is not defined for other base learner types, such\n",
      "     |          as tree learners (`booster=gbtree`).\n",
      "     |      \n",
      "     |      Returns\n",
      "     |      -------\n",
      "     |      coef_ : array of shape ``[n_features]``\n",
      "     |  \n",
      "     |  feature_importances_\n",
      "     |      Feature importances property\n",
      "     |      \n",
      "     |      .. note:: Feature importance is defined only for tree boosters\n",
      "     |      \n",
      "     |          Feature importance is only defined when the decision tree model is chosen as base\n",
      "     |          learner (`booster=gbtree`). It is not defined for other base learner types, such\n",
      "     |          as linear learners (`booster=gblinear`).\n",
      "     |      \n",
      "     |      Returns\n",
      "     |      -------\n",
      "     |      feature_importances_ : array of shape ``[n_features]``\n",
      "     |  \n",
      "     |  intercept_\n",
      "     |      Intercept (bias) property\n",
      "     |      \n",
      "     |      .. note:: Intercept is defined only for linear learners\n",
      "     |      \n",
      "     |          Intercept (bias) is only defined when the linear model is chosen as base\n",
      "     |          learner (`booster=gblinear`). It is not defined for other base learner types, such\n",
      "     |          as tree learners (`booster=gbtree`).\n",
      "     |      \n",
      "     |      Returns\n",
      "     |      -------\n",
      "     |      intercept_ : array of shape ``[n_features]``\n",
      "     |  \n",
      "     |  ----------------------------------------------------------------------\n",
      "     |  Methods inherited from sklearn.base.BaseEstimator:\n",
      "     |  \n",
      "     |  __getstate__(self)\n",
      "     |  \n",
      "     |  __repr__(self)\n",
      "     |      Return repr(self).\n",
      "     |  \n",
      "     |  ----------------------------------------------------------------------\n",
      "     |  Data descriptors inherited from sklearn.base.BaseEstimator:\n",
      "     |  \n",
      "     |  __dict__\n",
      "     |      dictionary for instance variables (if defined)\n",
      "     |  \n",
      "     |  __weakref__\n",
      "     |      list of weak references to the object (if defined)\n",
      "     |  \n",
      "     |  ----------------------------------------------------------------------\n",
      "     |  Methods inherited from sklearn.base.RegressorMixin:\n",
      "     |  \n",
      "     |  score(self, X, y, sample_weight=None)\n",
      "     |      Returns the coefficient of determination R^2 of the prediction.\n",
      "     |      \n",
      "     |      The coefficient R^2 is defined as (1 - u/v), where u is the residual\n",
      "     |      sum of squares ((y_true - y_pred) ** 2).sum() and v is the total\n",
      "     |      sum of squares ((y_true - y_true.mean()) ** 2).sum().\n",
      "     |      The best possible score is 1.0 and it can be negative (because the\n",
      "     |      model can be arbitrarily worse). A constant model that always\n",
      "     |      predicts the expected value of y, disregarding the input features,\n",
      "     |      would get a R^2 score of 0.0.\n",
      "     |      \n",
      "     |      Parameters\n",
      "     |      ----------\n",
      "     |      X : array-like, shape = (n_samples, n_features)\n",
      "     |          Test samples.\n",
      "     |      \n",
      "     |      y : array-like, shape = (n_samples) or (n_samples, n_outputs)\n",
      "     |          True values for X.\n",
      "     |      \n",
      "     |      sample_weight : array-like, shape = [n_samples], optional\n",
      "     |          Sample weights.\n",
      "     |      \n",
      "     |      Returns\n",
      "     |      -------\n",
      "     |      score : float\n",
      "     |          R^2 of self.predict(X) wrt. y.\n",
      "\n",
      "FUNCTIONS\n",
      "    cv(params, dtrain, num_boost_round=10, nfold=3, stratified=False, folds=None, metrics=(), obj=None, feval=None, maximize=False, early_stopping_rounds=None, fpreproc=None, as_pandas=True, verbose_eval=None, show_stdv=True, seed=0, callbacks=None, shuffle=True)\n",
      "        Cross-validation with given parameters.\n",
      "        \n",
      "        Parameters\n",
      "        ----------\n",
      "        params : dict\n",
      "            Booster params.\n",
      "        dtrain : DMatrix\n",
      "            Data to be trained.\n",
      "        num_boost_round : int\n",
      "            Number of boosting iterations.\n",
      "        nfold : int\n",
      "            Number of folds in CV.\n",
      "        stratified : bool\n",
      "            Perform stratified sampling.\n",
      "        folds : a KFold or StratifiedKFold instance or list of fold indices\n",
      "            Sklearn KFolds or StratifiedKFolds object.\n",
      "            Alternatively may explicitly pass sample indices for each fold.\n",
      "            For ``n`` folds, **folds** should be a length ``n`` list of tuples.\n",
      "            Each tuple is ``(in,out)`` where ``in`` is a list of indices to be used\n",
      "            as the training samples for the ``n`` th fold and ``out`` is a list of\n",
      "            indices to be used as the testing samples for the ``n`` th fold.\n",
      "        metrics : string or list of strings\n",
      "            Evaluation metrics to be watched in CV.\n",
      "        obj : function\n",
      "            Custom objective function.\n",
      "        feval : function\n",
      "            Custom evaluation function.\n",
      "        maximize : bool\n",
      "            Whether to maximize feval.\n",
      "        early_stopping_rounds: int\n",
      "            Activates early stopping. CV error needs to decrease at least\n",
      "            every <early_stopping_rounds> round(s) to continue.\n",
      "            Last entry in evaluation history is the one from best iteration.\n",
      "        fpreproc : function\n",
      "            Preprocessing function that takes (dtrain, dtest, param) and returns\n",
      "            transformed versions of those.\n",
      "        as_pandas : bool, default True\n",
      "            Return pd.DataFrame when pandas is installed.\n",
      "            If False or pandas is not installed, return np.ndarray\n",
      "        verbose_eval : bool, int, or None, default None\n",
      "            Whether to display the progress. If None, progress will be displayed\n",
      "            when np.ndarray is returned. If True, progress will be displayed at\n",
      "            boosting stage. If an integer is given, progress will be displayed\n",
      "            at every given `verbose_eval` boosting stage.\n",
      "        show_stdv : bool, default True\n",
      "            Whether to display the standard deviation in progress.\n",
      "            Results are not affected, and always contains std.\n",
      "        seed : int\n",
      "            Seed used to generate the folds (passed to numpy.random.seed).\n",
      "        callbacks : list of callback functions\n",
      "            List of callback functions that are applied at end of each iteration.\n",
      "            It is possible to use predefined callbacks by using\n",
      "            :ref:`Callback API <callback_api>`.\n",
      "            Example:\n",
      "        \n",
      "            .. code-block:: python\n",
      "        \n",
      "                [xgb.callback.reset_learning_rate(custom_rates)]\n",
      "        shuffle : bool\n",
      "            Shuffle data before creating folds.\n",
      "        \n",
      "        Returns\n",
      "        -------\n",
      "        evaluation history : list(string)\n",
      "    \n",
      "    plot_importance(booster, ax=None, height=0.2, xlim=None, ylim=None, title='Feature importance', xlabel='F score', ylabel='Features', importance_type='weight', max_num_features=None, grid=True, show_values=True, **kwargs)\n",
      "        Plot importance based on fitted trees.\n",
      "        \n",
      "        Parameters\n",
      "        ----------\n",
      "        booster : Booster, XGBModel or dict\n",
      "            Booster or XGBModel instance, or dict taken by Booster.get_fscore()\n",
      "        ax : matplotlib Axes, default None\n",
      "            Target axes instance. If None, new figure and axes will be created.\n",
      "        grid : bool, Turn the axes grids on or off.  Default is True (On).\n",
      "        importance_type : str, default \"weight\"\n",
      "            How the importance is calculated: either \"weight\", \"gain\", or \"cover\"\n",
      "        \n",
      "            * \"weight\" is the number of times a feature appears in a tree\n",
      "            * \"gain\" is the average gain of splits which use the feature\n",
      "            * \"cover\" is the average coverage of splits which use the feature\n",
      "              where coverage is defined as the number of samples affected by the split\n",
      "        max_num_features : int, default None\n",
      "            Maximum number of top features displayed on plot. If None, all features will be displayed.\n",
      "        height : float, default 0.2\n",
      "            Bar height, passed to ax.barh()\n",
      "        xlim : tuple, default None\n",
      "            Tuple passed to axes.xlim()\n",
      "        ylim : tuple, default None\n",
      "            Tuple passed to axes.ylim()\n",
      "        title : str, default \"Feature importance\"\n",
      "            Axes title. To disable, pass None.\n",
      "        xlabel : str, default \"F score\"\n",
      "            X axis title label. To disable, pass None.\n",
      "        ylabel : str, default \"Features\"\n",
      "            Y axis title label. To disable, pass None.\n",
      "        show_values : bool, default True\n",
      "            Show values on plot. To disable, pass False.\n",
      "        kwargs :\n",
      "            Other keywords passed to ax.barh()\n",
      "        \n",
      "        Returns\n",
      "        -------\n",
      "        ax : matplotlib Axes\n",
      "    \n",
      "    plot_tree(booster, fmap='', num_trees=0, rankdir='UT', ax=None, **kwargs)\n",
      "        Plot specified tree.\n",
      "        \n",
      "        Parameters\n",
      "        ----------\n",
      "        booster : Booster, XGBModel\n",
      "            Booster or XGBModel instance\n",
      "        fmap: str (optional)\n",
      "           The name of feature map file\n",
      "        num_trees : int, default 0\n",
      "            Specify the ordinal number of target tree\n",
      "        rankdir : str, default \"UT\"\n",
      "            Passed to graphiz via graph_attr\n",
      "        ax : matplotlib Axes, default None\n",
      "            Target axes instance. If None, new figure and axes will be created.\n",
      "        kwargs :\n",
      "            Other keywords passed to to_graphviz\n",
      "        \n",
      "        Returns\n",
      "        -------\n",
      "        ax : matplotlib Axes\n",
      "    \n",
      "    to_graphviz(booster, fmap='', num_trees=0, rankdir='UT', yes_color='#0000FF', no_color='#FF0000', **kwargs)\n",
      "        Convert specified tree to graphviz instance. IPython can automatically plot the\n",
      "        returned graphiz instance. Otherwise, you should call .render() method\n",
      "        of the returned graphiz instance.\n",
      "        \n",
      "        Parameters\n",
      "        ----------\n",
      "        booster : Booster, XGBModel\n",
      "            Booster or XGBModel instance\n",
      "        fmap: str (optional)\n",
      "           The name of feature map file\n",
      "        num_trees : int, default 0\n",
      "            Specify the ordinal number of target tree\n",
      "        rankdir : str, default \"UT\"\n",
      "            Passed to graphiz via graph_attr\n",
      "        yes_color : str, default '#0000FF'\n",
      "            Edge color when meets the node condition.\n",
      "        no_color : str, default '#FF0000'\n",
      "            Edge color when doesn't meet the node condition.\n",
      "        kwargs :\n",
      "            Other keywords passed to graphviz graph_attr\n",
      "        \n",
      "        Returns\n",
      "        -------\n",
      "        ax : matplotlib Axes\n",
      "    \n",
      "    train(params, dtrain, num_boost_round=10, evals=(), obj=None, feval=None, maximize=False, early_stopping_rounds=None, evals_result=None, verbose_eval=True, xgb_model=None, callbacks=None, learning_rates=None)\n",
      "        Train a booster with given parameters.\n",
      "        \n",
      "        Parameters\n",
      "        ----------\n",
      "        params : dict\n",
      "            Booster params.\n",
      "        dtrain : DMatrix\n",
      "            Data to be trained.\n",
      "        num_boost_round: int\n",
      "            Number of boosting iterations.\n",
      "        evals: list of pairs (DMatrix, string)\n",
      "            List of items to be evaluated during training, this allows user to watch\n",
      "            performance on the validation set.\n",
      "        obj : function\n",
      "            Customized objective function.\n",
      "        feval : function\n",
      "            Customized evaluation function.\n",
      "        maximize : bool\n",
      "            Whether to maximize feval.\n",
      "        early_stopping_rounds: int\n",
      "            Activates early stopping. Validation error needs to decrease at least\n",
      "            every **early_stopping_rounds** round(s) to continue training.\n",
      "            Requires at least one item in **evals**.\n",
      "            If there's more than one, will use the last.\n",
      "            Returns the model from the last iteration (not the best one).\n",
      "            If early stopping occurs, the model will have three additional fields:\n",
      "            ``bst.best_score``, ``bst.best_iteration`` and ``bst.best_ntree_limit``.\n",
      "            (Use ``bst.best_ntree_limit`` to get the correct value if\n",
      "            ``num_parallel_tree`` and/or ``num_class`` appears in the parameters)\n",
      "        evals_result: dict\n",
      "            This dictionary stores the evaluation results of all the items in watchlist.\n",
      "        \n",
      "            Example: with a watchlist containing\n",
      "            ``[(dtest,'eval'), (dtrain,'train')]`` and\n",
      "            a parameter containing ``('eval_metric': 'logloss')``,\n",
      "            the **evals_result** returns\n",
      "        \n",
      "            .. code-block:: python\n",
      "        \n",
      "                {'train': {'logloss': ['0.48253', '0.35953']},\n",
      "                 'eval': {'logloss': ['0.480385', '0.357756']}}\n",
      "        \n",
      "        verbose_eval : bool or int\n",
      "            Requires at least one item in **evals**.\n",
      "            If **verbose_eval** is True then the evaluation metric on the validation set is\n",
      "            printed at each boosting stage.\n",
      "            If **verbose_eval** is an integer then the evaluation metric on the validation set\n",
      "            is printed at every given **verbose_eval** boosting stage. The last boosting stage\n",
      "            / the boosting stage found by using **early_stopping_rounds** is also printed.\n",
      "            Example: with ``verbose_eval=4`` and at least one item in **evals**, an evaluation metric\n",
      "            is printed every 4 boosting stages, instead of every boosting stage.\n",
      "        learning_rates: list or function (deprecated - use callback API instead)\n",
      "            List of learning rate for each boosting round\n",
      "            or a customized function that calculates eta in terms of\n",
      "            current number of round and the total number of boosting round (e.g. yields\n",
      "            learning rate decay)\n",
      "        xgb_model : file name of stored xgb model or 'Booster' instance\n",
      "            Xgb model to be loaded before training (allows training continuation).\n",
      "        callbacks : list of callback functions\n",
      "            List of callback functions that are applied at end of each iteration.\n",
      "            It is possible to use predefined callbacks by using\n",
      "            :ref:`Callback API <callback_api>`.\n",
      "            Example:\n",
      "        \n",
      "            .. code-block:: python\n",
      "        \n",
      "                [xgb.callback.reset_learning_rate(custom_rates)]\n",
      "        \n",
      "        Returns\n",
      "        -------\n",
      "        Booster : a trained booster model\n",
      "\n",
      "DATA\n",
      "    __all__ = ['DMatrix', 'Booster', 'train', 'cv', 'XGBModel', 'XGBClassi...\n",
      "\n",
      "VERSION\n",
      "    0.81\n",
      "\n",
      "FILE\n",
      "    c:\\users\\trishul\\anaconda3\\lib\\site-packages\\xgboost\\__init__.py\n",
      "\n"
     ]
    },
    {
     "name": "stdout",
     "output_type": "stream",
     "text": [
      "\n"
     ]
    }
   ],
   "source": [
    "help(xgb)"
   ]
  },
  {
   "cell_type": "code",
   "execution_count": null,
   "metadata": {
    "collapsed": true
   },
   "outputs": [],
   "source": []
  }
 ],
 "metadata": {
  "kernelspec": {
   "display_name": "Python 3",
   "language": "python",
   "name": "python3"
  },
  "language_info": {
   "codemirror_mode": {
    "name": "ipython",
    "version": 3
   },
   "file_extension": ".py",
   "mimetype": "text/x-python",
   "name": "python",
   "nbconvert_exporter": "python",
   "pygments_lexer": "ipython3",
   "version": "3.6.1"
  }
 },
 "nbformat": 4,
 "nbformat_minor": 2
}
