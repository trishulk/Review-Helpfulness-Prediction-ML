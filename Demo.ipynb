{
 "cells": [
  {
   "cell_type": "markdown",
   "metadata": {},
   "source": [
    "# Helpfulness Prediction - DEMO"
   ]
  },
  {
   "cell_type": "code",
   "execution_count": 1,
   "metadata": {
    "collapsed": true
   },
   "outputs": [],
   "source": [
    "import pandas as pd\n",
    "import seaborn as sns\n",
    "import matplotlib.pyplot as plt\n",
    "%matplotlib inline\n",
    "import numpy as np\n",
    "import gzip\n",
    "\n",
    "import nltk\n",
    "from nltk.corpus import stopwords \n",
    "from nltk.tokenize import word_tokenize, sent_tokenize \n",
    "from nltk.stem import PorterStemmer\n",
    "from nltk.stem import WordNetLemmatizer\n",
    "import string\n",
    "\n",
    "import dask.dataframe as dd\n",
    "from dask.multiprocessing import get\n",
    "import textstat\n",
    "import swifter\n",
    "\n",
    "import ast\n",
    "import math\n",
    "\n",
    "from sklearn.model_selection import train_test_split\n",
    "\n",
    "from sklearn.linear_model import LinearRegression\n",
    "from sklearn.ensemble import RandomForestRegressor\n",
    "\n",
    "from sklearn.metrics import mean_absolute_error\n",
    "from sklearn.metrics import mean_squared_error\n",
    "from sklearn.model_selection import GridSearchCV\n",
    "from sklearn.model_selection import RandomizedSearchCV\n",
    "\n",
    "import xgboost as xgb"
   ]
  },
  {
   "cell_type": "code",
   "execution_count": 2,
   "metadata": {
    "collapsed": true
   },
   "outputs": [],
   "source": [
    "# GET ALL THE DATAFRAMES :-\n",
    "# 1.NORMAL REVIEWS\n",
    "# 2.REVIEW TEXT Characteristics\n",
    "# 3.USER Charecteristics\n",
    "# 4.REVIEW METADATA Characteristics\n",
    "# 5.PRODUCT METADATA\n",
    "\n",
    "review_df = pd.read_csv('Amazon_Latest_Data.csv')\n",
    "text_df = pd.read_csv('Text_Parameters.csv')\n",
    "user_df = pd.read_csv('User_DF.csv')\n",
    "meta_df = pd.read_csv('Review_Meta_Data.csv')\n",
    "product_data_df = pd.read_csv('meta_data_latest.csv')"
   ]
  },
  {
   "cell_type": "code",
   "execution_count": 3,
   "metadata": {},
   "outputs": [
    {
     "data": {
      "text/plain": [
       "Index(['flesch_reading_ease', 'smog_index', 'flesch_kincaid_grade',\n",
       "       'coleman_liau_index', 'automated_readability_index',\n",
       "       'dale_chall_readability_score', 'difficult_words',\n",
       "       'linsear_write_formula', 'gunning_fog', 'sentence_count', 'wps',\n",
       "       'review_length', 'pos_no', 'neg_no', 'user_deviation', 'user_delay',\n",
       "       'no_of_reviews', 'reviewer_days', 'stem_sim_length', 'lem_sim_length',\n",
       "       'overall', 'helpfulness_score'],\n",
       "      dtype='object')"
      ]
     },
     "execution_count": 3,
     "metadata": {},
     "output_type": "execute_result"
    }
   ],
   "source": [
    "df = text_df[['flesch_reading_ease', \n",
    "       'smog_index', 'flesch_kincaid_grade', 'coleman_liau_index',\n",
    "       'automated_readability_index', 'dale_chall_readability_score',\n",
    "       'difficult_words', 'linsear_write_formula', 'gunning_fog',\n",
    "       'sentence_count', 'wps', 'review_length', 'pos_no', 'neg_no']]\n",
    "\n",
    "df=df.join(user_df[['user_deviation','user_delay', 'no_of_reviews', 'reviewer_days']])\n",
    "\n",
    "df = df.join(meta_df[['stem_sim_length','lem_sim_length','overall']])\n",
    "\n",
    "df = df.join(review_df['helpfulness_score'])\n",
    "\n",
    "df.columns"
   ]
  },
  {
   "cell_type": "code",
   "execution_count": 4,
   "metadata": {
    "collapsed": true
   },
   "outputs": [],
   "source": [
    "X = df.sample(n=1000)"
   ]
  },
  {
   "cell_type": "code",
   "execution_count": 5,
   "metadata": {
    "collapsed": true
   },
   "outputs": [],
   "source": [
    "y = X['helpfulness_score']\n",
    "X.drop(['helpfulness_score'],axis=1, inplace=True)"
   ]
  },
  {
   "cell_type": "code",
   "execution_count": 6,
   "metadata": {},
   "outputs": [
    {
     "data": {
      "text/html": [
       "<div>\n",
       "<style scoped>\n",
       "    .dataframe tbody tr th:only-of-type {\n",
       "        vertical-align: middle;\n",
       "    }\n",
       "\n",
       "    .dataframe tbody tr th {\n",
       "        vertical-align: top;\n",
       "    }\n",
       "\n",
       "    .dataframe thead th {\n",
       "        text-align: right;\n",
       "    }\n",
       "</style>\n",
       "<table border=\"1\" class=\"dataframe\">\n",
       "  <thead>\n",
       "    <tr style=\"text-align: right;\">\n",
       "      <th></th>\n",
       "      <th>flesch_reading_ease</th>\n",
       "      <th>smog_index</th>\n",
       "      <th>flesch_kincaid_grade</th>\n",
       "      <th>coleman_liau_index</th>\n",
       "      <th>automated_readability_index</th>\n",
       "      <th>dale_chall_readability_score</th>\n",
       "      <th>difficult_words</th>\n",
       "      <th>linsear_write_formula</th>\n",
       "      <th>gunning_fog</th>\n",
       "      <th>sentence_count</th>\n",
       "      <th>...</th>\n",
       "      <th>review_length</th>\n",
       "      <th>pos_no</th>\n",
       "      <th>neg_no</th>\n",
       "      <th>user_deviation</th>\n",
       "      <th>user_delay</th>\n",
       "      <th>no_of_reviews</th>\n",
       "      <th>reviewer_days</th>\n",
       "      <th>stem_sim_length</th>\n",
       "      <th>lem_sim_length</th>\n",
       "      <th>overall</th>\n",
       "    </tr>\n",
       "  </thead>\n",
       "  <tbody>\n",
       "    <tr>\n",
       "      <th>19122</th>\n",
       "      <td>-69.28</td>\n",
       "      <td>0.0</td>\n",
       "      <td>59.4</td>\n",
       "      <td>10.64</td>\n",
       "      <td>73.8</td>\n",
       "      <td>13.61</td>\n",
       "      <td>25</td>\n",
       "      <td>7.000000</td>\n",
       "      <td>67.60</td>\n",
       "      <td>1</td>\n",
       "      <td>...</td>\n",
       "      <td>148</td>\n",
       "      <td>4</td>\n",
       "      <td>2</td>\n",
       "      <td>1.111890</td>\n",
       "      <td>22953600.0</td>\n",
       "      <td>1</td>\n",
       "      <td>1147.0</td>\n",
       "      <td>3</td>\n",
       "      <td>3</td>\n",
       "      <td>2.0</td>\n",
       "    </tr>\n",
       "    <tr>\n",
       "      <th>15521</th>\n",
       "      <td>56.59</td>\n",
       "      <td>0.0</td>\n",
       "      <td>11.1</td>\n",
       "      <td>10.51</td>\n",
       "      <td>12.4</td>\n",
       "      <td>7.52</td>\n",
       "      <td>4</td>\n",
       "      <td>6.750000</td>\n",
       "      <td>18.16</td>\n",
       "      <td>1</td>\n",
       "      <td>...</td>\n",
       "      <td>23</td>\n",
       "      <td>2</td>\n",
       "      <td>1</td>\n",
       "      <td>0.841950</td>\n",
       "      <td>21681000.0</td>\n",
       "      <td>7</td>\n",
       "      <td>2444.0</td>\n",
       "      <td>1</td>\n",
       "      <td>1</td>\n",
       "      <td>2.0</td>\n",
       "    </tr>\n",
       "    <tr>\n",
       "      <th>48266</th>\n",
       "      <td>85.69</td>\n",
       "      <td>8.3</td>\n",
       "      <td>4.0</td>\n",
       "      <td>5.61</td>\n",
       "      <td>3.6</td>\n",
       "      <td>6.34</td>\n",
       "      <td>9</td>\n",
       "      <td>5.333333</td>\n",
       "      <td>11.85</td>\n",
       "      <td>6</td>\n",
       "      <td>...</td>\n",
       "      <td>66</td>\n",
       "      <td>3</td>\n",
       "      <td>0</td>\n",
       "      <td>0.791677</td>\n",
       "      <td>30672000.0</td>\n",
       "      <td>0</td>\n",
       "      <td>0.0</td>\n",
       "      <td>1</td>\n",
       "      <td>1</td>\n",
       "      <td>5.0</td>\n",
       "    </tr>\n",
       "    <tr>\n",
       "      <th>24443</th>\n",
       "      <td>-9.05</td>\n",
       "      <td>0.0</td>\n",
       "      <td>38.4</td>\n",
       "      <td>9.31</td>\n",
       "      <td>47.2</td>\n",
       "      <td>10.04</td>\n",
       "      <td>20</td>\n",
       "      <td>6.125000</td>\n",
       "      <td>44.57</td>\n",
       "      <td>2</td>\n",
       "      <td>...</td>\n",
       "      <td>192</td>\n",
       "      <td>5</td>\n",
       "      <td>3</td>\n",
       "      <td>0.872324</td>\n",
       "      <td>0.0</td>\n",
       "      <td>1</td>\n",
       "      <td>0.0</td>\n",
       "      <td>0</td>\n",
       "      <td>0</td>\n",
       "      <td>2.0</td>\n",
       "    </tr>\n",
       "    <tr>\n",
       "      <th>77600</th>\n",
       "      <td>91.00</td>\n",
       "      <td>7.2</td>\n",
       "      <td>4.1</td>\n",
       "      <td>6.08</td>\n",
       "      <td>5.1</td>\n",
       "      <td>6.01</td>\n",
       "      <td>12</td>\n",
       "      <td>6.714286</td>\n",
       "      <td>11.89</td>\n",
       "      <td>8</td>\n",
       "      <td>...</td>\n",
       "      <td>115</td>\n",
       "      <td>0</td>\n",
       "      <td>4</td>\n",
       "      <td>1.854145</td>\n",
       "      <td>0.0</td>\n",
       "      <td>1</td>\n",
       "      <td>0.0</td>\n",
       "      <td>2</td>\n",
       "      <td>2</td>\n",
       "      <td>1.0</td>\n",
       "    </tr>\n",
       "  </tbody>\n",
       "</table>\n",
       "<p>5 rows × 21 columns</p>\n",
       "</div>"
      ],
      "text/plain": [
       "       flesch_reading_ease  smog_index  flesch_kincaid_grade  \\\n",
       "19122               -69.28         0.0                  59.4   \n",
       "15521                56.59         0.0                  11.1   \n",
       "48266                85.69         8.3                   4.0   \n",
       "24443                -9.05         0.0                  38.4   \n",
       "77600                91.00         7.2                   4.1   \n",
       "\n",
       "       coleman_liau_index  automated_readability_index  \\\n",
       "19122               10.64                         73.8   \n",
       "15521               10.51                         12.4   \n",
       "48266                5.61                          3.6   \n",
       "24443                9.31                         47.2   \n",
       "77600                6.08                          5.1   \n",
       "\n",
       "       dale_chall_readability_score  difficult_words  linsear_write_formula  \\\n",
       "19122                         13.61               25               7.000000   \n",
       "15521                          7.52                4               6.750000   \n",
       "48266                          6.34                9               5.333333   \n",
       "24443                         10.04               20               6.125000   \n",
       "77600                          6.01               12               6.714286   \n",
       "\n",
       "       gunning_fog  sentence_count   ...     review_length  pos_no  neg_no  \\\n",
       "19122        67.60               1   ...               148       4       2   \n",
       "15521        18.16               1   ...                23       2       1   \n",
       "48266        11.85               6   ...                66       3       0   \n",
       "24443        44.57               2   ...               192       5       3   \n",
       "77600        11.89               8   ...               115       0       4   \n",
       "\n",
       "       user_deviation  user_delay  no_of_reviews  reviewer_days  \\\n",
       "19122        1.111890  22953600.0              1         1147.0   \n",
       "15521        0.841950  21681000.0              7         2444.0   \n",
       "48266        0.791677  30672000.0              0            0.0   \n",
       "24443        0.872324         0.0              1            0.0   \n",
       "77600        1.854145         0.0              1            0.0   \n",
       "\n",
       "       stem_sim_length  lem_sim_length  overall  \n",
       "19122                3               3      2.0  \n",
       "15521                1               1      2.0  \n",
       "48266                1               1      5.0  \n",
       "24443                0               0      2.0  \n",
       "77600                2               2      1.0  \n",
       "\n",
       "[5 rows x 21 columns]"
      ]
     },
     "execution_count": 6,
     "metadata": {},
     "output_type": "execute_result"
    }
   ],
   "source": [
    "X.head()"
   ]
  },
  {
   "cell_type": "code",
   "execution_count": 7,
   "metadata": {
    "collapsed": true
   },
   "outputs": [],
   "source": [
    "X_train, X_test, y_train, y_test = train_test_split(X, y, test_size=0.4, random_state=101)"
   ]
  },
  {
   "cell_type": "markdown",
   "metadata": {},
   "source": [
    "## LINEAR REGRESSION\n"
   ]
  },
  {
   "cell_type": "code",
   "execution_count": 8,
   "metadata": {},
   "outputs": [
    {
     "data": {
      "text/plain": [
       "LinearRegression(copy_X=True, fit_intercept=True, n_jobs=1, normalize=False)"
      ]
     },
     "execution_count": 8,
     "metadata": {},
     "output_type": "execute_result"
    }
   ],
   "source": [
    "lm = LinearRegression()\n",
    "\n",
    "lm.fit(X_train,y_train)"
   ]
  },
  {
   "cell_type": "code",
   "execution_count": 9,
   "metadata": {
    "collapsed": true
   },
   "outputs": [],
   "source": [
    "predictions = lm.predict(X_test)"
   ]
  },
  {
   "cell_type": "code",
   "execution_count": 10,
   "metadata": {
    "scrolled": true
   },
   "outputs": [
    {
     "name": "stdout",
     "output_type": "stream",
     "text": [
      "Mean Squared Error (MSE):       0.04147901640781651\n",
      "Root Mean Squared Error (RMSE): 0.20366397916130508\n",
      "Mean Absolute Error (MAE):      0.1401628869724623\n"
     ]
    }
   ],
   "source": [
    "# MSE : Mean Squared Error\n",
    "mse=mean_squared_error(y_test,predictions)\n",
    "\n",
    "# RMSE : Root Mean Squared Error\n",
    "rmse=math.sqrt(mean_squared_error(y_test,predictions))\n",
    "\n",
    "# MAE : Mean Absolute Error\n",
    "mae=mean_absolute_error(y_test,predictions)\n",
    "\n",
    "print('Mean Squared Error (MSE):      ',mse)\n",
    "print('Root Mean Squared Error (RMSE):',rmse)\n",
    "print('Mean Absolute Error (MAE):     ',mae)"
   ]
  },
  {
   "cell_type": "markdown",
   "metadata": {},
   "source": [
    "## RANDOM FORESTS REGRESSION"
   ]
  },
  {
   "cell_type": "code",
   "execution_count": 11,
   "metadata": {
    "collapsed": true
   },
   "outputs": [],
   "source": [
    "#RANDOM FOREST\n",
    "\n",
    "regressor = RandomForestRegressor(n_estimators=500, random_state=42)"
   ]
  },
  {
   "cell_type": "code",
   "execution_count": 12,
   "metadata": {},
   "outputs": [
    {
     "data": {
      "text/plain": [
       "RandomForestRegressor(bootstrap=True, criterion='mse', max_depth=None,\n",
       "           max_features='auto', max_leaf_nodes=None,\n",
       "           min_impurity_decrease=0.0, min_impurity_split=None,\n",
       "           min_samples_leaf=1, min_samples_split=2,\n",
       "           min_weight_fraction_leaf=0.0, n_estimators=500, n_jobs=1,\n",
       "           oob_score=False, random_state=42, verbose=0, warm_start=False)"
      ]
     },
     "execution_count": 12,
     "metadata": {},
     "output_type": "execute_result"
    }
   ],
   "source": [
    "regressor.fit(X_train,y_train)"
   ]
  },
  {
   "cell_type": "code",
   "execution_count": 13,
   "metadata": {
    "collapsed": true
   },
   "outputs": [],
   "source": [
    "preds_2 = regressor.predict(X_test)"
   ]
  },
  {
   "cell_type": "code",
   "execution_count": 15,
   "metadata": {},
   "outputs": [
    {
     "name": "stdout",
     "output_type": "stream",
     "text": [
      "Mean Squared Error (MSE):       0.041183058024052116\n",
      "Root Mean Squared Error (RMSE): 0.20293609344828759\n",
      "Mean Absolute Error (MAE):      0.14035895388769914\n"
     ]
    }
   ],
   "source": [
    "# MSE : Mean Squared Error\n",
    "mse=mean_squared_error(y_test,preds_2)\n",
    "\n",
    "# RMSE : Root Mean Squared Error\n",
    "rmse=math.sqrt(mean_squared_error(y_test,preds_2))\n",
    "\n",
    "# MAE : Mean Absolute Error\n",
    "mae=mean_absolute_error(y_test,preds_2)\n",
    "\n",
    "print('Mean Squared Error (MSE):      ',mse)\n",
    "print('Root Mean Squared Error (RMSE):',rmse)\n",
    "print('Mean Absolute Error (MAE):     ',mae)"
   ]
  },
  {
   "cell_type": "markdown",
   "metadata": {},
   "source": [
    "## Extreme Gradient Boosting - XGBoost"
   ]
  },
  {
   "cell_type": "code",
   "execution_count": 21,
   "metadata": {
    "collapsed": true
   },
   "outputs": [],
   "source": [
    "xgb_reg = xgb.XGBRegressor()"
   ]
  },
  {
   "cell_type": "code",
   "execution_count": 22,
   "metadata": {},
   "outputs": [
    {
     "data": {
      "text/plain": [
       "XGBRegressor(base_score=0.5, booster='gbtree', colsample_bylevel=1,\n",
       "       colsample_bytree=1, gamma=0, learning_rate=0.1, max_delta_step=0,\n",
       "       max_depth=3, min_child_weight=1, missing=None, n_estimators=100,\n",
       "       n_jobs=1, nthread=None, objective='reg:linear', random_state=0,\n",
       "       reg_alpha=0, reg_lambda=1, scale_pos_weight=1, seed=None,\n",
       "       silent=True, subsample=1)"
      ]
     },
     "execution_count": 22,
     "metadata": {},
     "output_type": "execute_result"
    }
   ],
   "source": [
    "xgb_reg.fit(X_train,y_train)"
   ]
  },
  {
   "cell_type": "code",
   "execution_count": 23,
   "metadata": {
    "collapsed": true
   },
   "outputs": [],
   "source": [
    "predictions_xgb=xgb_reg.predict(X_test)"
   ]
  },
  {
   "cell_type": "code",
   "execution_count": 24,
   "metadata": {},
   "outputs": [
    {
     "name": "stdout",
     "output_type": "stream",
     "text": [
      "Mean Squared Error (MSE):       0.041183058024052116\n",
      "Root Mean Squared Error (RMSE): 0.20293609344828759\n",
      "Mean Absolute Error (MAE):      0.14035895388769914\n"
     ]
    }
   ],
   "source": [
    "# MSE : Mean Squared Error\n",
    "mse=mean_squared_error(y_test,preds_2)\n",
    "\n",
    "# RMSE : Root Mean Squared Error\n",
    "rmse=math.sqrt(mean_squared_error(y_test,preds_2))\n",
    "\n",
    "# MAE : Mean Absolute Error\n",
    "mae=mean_absolute_error(y_test,preds_2)\n",
    "\n",
    "print('Mean Squared Error (MSE):      ',mse)\n",
    "print('Root Mean Squared Error (RMSE):',rmse)\n",
    "print('Mean Absolute Error (MAE):     ',mae)"
   ]
  },
  {
   "cell_type": "code",
   "execution_count": 25,
   "metadata": {
    "collapsed": true
   },
   "outputs": [],
   "source": [
    "params = {\n",
    "    'learning_rate': [0.01,0.1,0.9], \n",
    "    'n_estimators': [200,300,400], \n",
    "    'subsample': [0.3, 0.9, 1]}"
   ]
  },
  {
   "cell_type": "code",
   "execution_count": 27,
   "metadata": {
    "collapsed": true
   },
   "outputs": [],
   "source": [
    "result_df = pd.DataFrame(columns=['learning_rate','n_estimators', 'subsample', 'rmse', 'mae'])"
   ]
  },
  {
   "cell_type": "code",
   "execution_count": 28,
   "metadata": {},
   "outputs": [
    {
     "name": "stdout",
     "output_type": "stream",
     "text": [
      "{'learning_rate': 0.01, 'n_estimators': 200, 'subsample': 0.3, 'rmse': 0.20512789595982872, 'mae': 0.15723240020805554}\n",
      "{'learning_rate': 0.01, 'n_estimators': 200, 'subsample': 0.9, 'rmse': 0.20708866259044995, 'mae': 0.15948471976949066}\n",
      "{'learning_rate': 0.01, 'n_estimators': 200, 'subsample': 1, 'rmse': 0.20764850876155144, 'mae': 0.16021415668251293}\n",
      "{'learning_rate': 0.01, 'n_estimators': 300, 'subsample': 0.3, 'rmse': 0.20136746259997856, 'mae': 0.14293331747968407}\n",
      "{'learning_rate': 0.01, 'n_estimators': 300, 'subsample': 0.9, 'rmse': 0.2039217081252845, 'mae': 0.14603221274112446}\n",
      "{'learning_rate': 0.01, 'n_estimators': 300, 'subsample': 1, 'rmse': 0.2048034518254528, 'mae': 0.14775969914137263}\n",
      "{'learning_rate': 0.01, 'n_estimators': 400, 'subsample': 0.3, 'rmse': 0.20249919700440724, 'mae': 0.13953698300673614}\n",
      "{'learning_rate': 0.01, 'n_estimators': 400, 'subsample': 0.9, 'rmse': 0.20539744575365454, 'mae': 0.14305194878849783}\n",
      "{'learning_rate': 0.01, 'n_estimators': 400, 'subsample': 1, 'rmse': 0.2065276719079405, 'mae': 0.1451364723321293}\n",
      "{'learning_rate': 0.1, 'n_estimators': 200, 'subsample': 0.3, 'rmse': 0.2252613481420676, 'mae': 0.15471010734085877}\n",
      "{'learning_rate': 0.1, 'n_estimators': 200, 'subsample': 0.9, 'rmse': 0.21898371482457765, 'mae': 0.15268659873854726}\n",
      "{'learning_rate': 0.1, 'n_estimators': 200, 'subsample': 1, 'rmse': 0.21739572824706352, 'mae': 0.1495735989640511}\n",
      "{'learning_rate': 0.1, 'n_estimators': 300, 'subsample': 0.3, 'rmse': 0.22828783252878623, 'mae': 0.1587302764510321}\n",
      "{'learning_rate': 0.1, 'n_estimators': 300, 'subsample': 0.9, 'rmse': 0.22256536143185013, 'mae': 0.15579385331478904}\n",
      "{'learning_rate': 0.1, 'n_estimators': 300, 'subsample': 1, 'rmse': 0.221303472279088, 'mae': 0.1533074425088306}\n",
      "{'learning_rate': 0.1, 'n_estimators': 400, 'subsample': 0.3, 'rmse': 0.23128114849905435, 'mae': 0.16196817228495738}\n",
      "{'learning_rate': 0.1, 'n_estimators': 400, 'subsample': 0.9, 'rmse': 0.22586460662505842, 'mae': 0.15853481040969977}\n",
      "{'learning_rate': 0.1, 'n_estimators': 400, 'subsample': 1, 'rmse': 0.2247394387370419, 'mae': 0.15644176721768965}\n",
      "{'learning_rate': 0.9, 'n_estimators': 200, 'subsample': 0.3, 'rmse': 1.0916469608830663, 'mae': 0.8418770370411639}\n",
      "{'learning_rate': 0.9, 'n_estimators': 200, 'subsample': 0.9, 'rmse': 0.27597438303672617, 'mae': 0.19336241562351458}\n",
      "{'learning_rate': 0.9, 'n_estimators': 200, 'subsample': 1, 'rmse': 0.2512288782290276, 'mae': 0.1811728487979822}\n",
      "{'learning_rate': 0.9, 'n_estimators': 300, 'subsample': 0.3, 'rmse': 1.7669766355316023, 'mae': 1.3498003924683797}\n",
      "{'learning_rate': 0.9, 'n_estimators': 300, 'subsample': 0.9, 'rmse': 0.2760072224449472, 'mae': 0.19339371528908483}\n",
      "{'learning_rate': 0.9, 'n_estimators': 300, 'subsample': 1, 'rmse': 0.25125876618600107, 'mae': 0.1811860389120546}\n",
      "{'learning_rate': 0.9, 'n_estimators': 400, 'subsample': 0.3, 'rmse': 2.472659388644103, 'mae': 1.8874882158630788}\n",
      "{'learning_rate': 0.9, 'n_estimators': 400, 'subsample': 0.9, 'rmse': 0.27602133461330536, 'mae': 0.19341466624721756}\n",
      "{'learning_rate': 0.9, 'n_estimators': 400, 'subsample': 1, 'rmse': 0.25125876297932964, 'mae': 0.1811860366768804}\n"
     ]
    }
   ],
   "source": [
    "best_rmse=1000\n",
    "best_mae=1000\n",
    "for rate in params['learning_rate'] :\n",
    "    for estimator in params['n_estimators'] :\n",
    "        for subsample in params['subsample'] :\n",
    "            xgb_model = xgb.XGBRegressor(learning_rate= rate, n_estimators = estimator, subsample=subsample)\n",
    "            xgb_model.fit(X_train,y_train)\n",
    "            predictions=xgb_model.predict(X_test)\n",
    "            rmse=math.sqrt(mean_squared_error(y_test,predictions))\n",
    "            mae=mean_absolute_error(y_test,predictions)\n",
    "            \n",
    "            res_dict = {'learning_rate': rate, 'n_estimators': estimator, 'subsample': subsample, 'rmse' : rmse, 'mae' : mae }\n",
    "            result_df.append(res_dict, ignore_index=True)\n",
    "\n",
    "            print(res_dict)\n",
    "            \n",
    "            if(rmse<=best_rmse) :\n",
    "                if(mae < best_mae) :\n",
    "                    best_rmse = rmse\n",
    "                    best_mae = mae\n",
    "                    best_learning_rate = rate\n",
    "                    best_n_estimators = estimator\n",
    "                    best_subsample = subsample\n",
    "            "
   ]
  },
  {
   "cell_type": "code",
   "execution_count": 31,
   "metadata": {},
   "outputs": [
    {
     "name": "stdout",
     "output_type": "stream",
     "text": [
      "Best RMSE:  0.20136746259997856\n",
      "Best MAE:  0.14293331747968407\n",
      "Parameters:-\n",
      "Learning Rate: 0.01 , No. of Estimators: 300 , Subsample Size: 0.3\n"
     ]
    }
   ],
   "source": [
    "print(\"Best RMSE: \",best_rmse)\n",
    "print(\"Best MAE: \",best_mae)\n",
    "print(\"Parameters:-\")\n",
    "print(\"Learning Rate: {} , No. of Estimators: {} , Subsample Size: {}\".format(best_learning_rate, best_n_estimators, best_subsample))"
   ]
  },
  {
   "cell_type": "code",
   "execution_count": null,
   "metadata": {
    "collapsed": true
   },
   "outputs": [],
   "source": []
  },
  {
   "cell_type": "markdown",
   "metadata": {},
   "source": [
    "## STEM SIM LENGTH"
   ]
  },
  {
   "cell_type": "code",
   "execution_count": 32,
   "metadata": {
    "collapsed": true
   },
   "outputs": [],
   "source": [
    "def get_desc_words(text):\n",
    "    nopunc= [char for char in text if char not in string.punctuation]\n",
    "    nopunc = ''.join(nopunc)\n",
    "\n",
    "    words = [word.lower() for word in nopunc.split() if word.lower() not in stopwords.words('english')]\n",
    "    \n",
    "    \n",
    "    tagged = nltk.pos_tag(words) \n",
    "    \n",
    "    nouns = []\n",
    "    for word in tagged:\n",
    "        if word[1]=='NN':\n",
    "            nouns.append(word[0])\n",
    "\n",
    "    \n",
    "    ps = PorterStemmer()\n",
    "    stemmed_words = []\n",
    "    for w in nouns:\n",
    "        stemmed_words.append(ps.stem(w))\n",
    "\n",
    "    return stemmed_words\n",
    "    "
   ]
  },
  {
   "cell_type": "code",
   "execution_count": 33,
   "metadata": {},
   "outputs": [
    {
     "data": {
      "text/plain": [
       "['tv', 'visual', 'cost', 'instal']"
      ]
     },
     "execution_count": 33,
     "metadata": {},
     "output_type": "execute_result"
    }
   ],
   "source": [
    "get_desc_words(\"Hello this is great. I like my new TV. Visualization is super. Low cost Installation.\")"
   ]
  },
  {
   "cell_type": "code",
   "execution_count": 34,
   "metadata": {
    "collapsed": true
   },
   "outputs": [],
   "source": [
    "# get the stemmed words of  review text \n",
    "def get_review_words_stem(text):\n",
    "    nopunc= [char for char in text if char not in string.punctuation]\n",
    "    nopunc = ''.join(nopunc)\n",
    "\n",
    "    words = [word.lower() for word in nopunc.split() if word.lower() not in stopwords.words('english')]\n",
    "    \n",
    "    ps = PorterStemmer()\n",
    "    stemmed_words = []\n",
    "    for w in words:\n",
    "        stemmed_words.append(ps.stem(w))\n",
    "\n",
    "    return stemmed_words"
   ]
  },
  {
   "cell_type": "code",
   "execution_count": 35,
   "metadata": {},
   "outputs": [
    {
     "data": {
      "text/plain": [
       "['easi', 'instal']"
      ]
     },
     "execution_count": 35,
     "metadata": {},
     "output_type": "execute_result"
    }
   ],
   "source": [
    "get_review_words_stem(\"This was easy to be installed.\")"
   ]
  },
  {
   "cell_type": "code",
   "execution_count": 36,
   "metadata": {
    "collapsed": true
   },
   "outputs": [],
   "source": [
    "def get_stem_sim_words(desc_stem, review_stem) :\n",
    "    sim_words=list(set(desc_stem).intersection(review_stem))\n",
    "    # return the words\n",
    "    return sim_words"
   ]
  },
  {
   "cell_type": "code",
   "execution_count": 47,
   "metadata": {
    "collapsed": true
   },
   "outputs": [],
   "source": [
    "description = \"This is a TV. It's installation is easy. There is also a USB cord.\"\n",
    "text = \"I installed the TV with easily. But the USB cord given was broken\""
   ]
  },
  {
   "cell_type": "code",
   "execution_count": 48,
   "metadata": {
    "collapsed": true
   },
   "outputs": [],
   "source": [
    "desc_stem = get_desc_words(description)\n",
    "review_stem = get_review_words_stem(text)"
   ]
  },
  {
   "cell_type": "code",
   "execution_count": 49,
   "metadata": {},
   "outputs": [
    {
     "data": {
      "text/plain": [
       "['tv', 'instal', 'easi', 'cord']"
      ]
     },
     "execution_count": 49,
     "metadata": {},
     "output_type": "execute_result"
    }
   ],
   "source": [
    "desc_stem"
   ]
  },
  {
   "cell_type": "code",
   "execution_count": 50,
   "metadata": {},
   "outputs": [
    {
     "data": {
      "text/plain": [
       "['instal', 'tv', 'easili', 'usb', 'cord', 'given', 'broken']"
      ]
     },
     "execution_count": 50,
     "metadata": {},
     "output_type": "execute_result"
    }
   ],
   "source": [
    "review_stem"
   ]
  },
  {
   "cell_type": "code",
   "execution_count": 51,
   "metadata": {},
   "outputs": [
    {
     "data": {
      "text/plain": [
       "['tv', 'instal', 'cord']"
      ]
     },
     "execution_count": 51,
     "metadata": {},
     "output_type": "execute_result"
    }
   ],
   "source": [
    "get_stem_sim_words(desc_stem,review_stem)"
   ]
  },
  {
   "cell_type": "code",
   "execution_count": null,
   "metadata": {
    "collapsed": true
   },
   "outputs": [],
   "source": []
  },
  {
   "cell_type": "code",
   "execution_count": null,
   "metadata": {
    "collapsed": true
   },
   "outputs": [],
   "source": []
  }
 ],
 "metadata": {
  "kernelspec": {
   "display_name": "Python 3",
   "language": "python",
   "name": "python3"
  },
  "language_info": {
   "codemirror_mode": {
    "name": "ipython",
    "version": 3
   },
   "file_extension": ".py",
   "mimetype": "text/x-python",
   "name": "python",
   "nbconvert_exporter": "python",
   "pygments_lexer": "ipython3",
   "version": "3.6.1"
  }
 },
 "nbformat": 4,
 "nbformat_minor": 2
}
